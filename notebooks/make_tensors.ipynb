{
 "cells": [
  {
   "cell_type": "markdown",
   "id": "b5d4de8e-be7e-4bbc-aca4-1ce67799df07",
   "metadata": {},
   "source": [
    "## Make TFRecords on GCS\n",
    "\n",
    "In this notebook, we combine forest mortality observations from aerial detection surveys with predictor features."
   ]
  },
  {
   "cell_type": "code",
   "execution_count": 1,
   "id": "0f510f0d-717d-4698-9ab9-b4a43eb5ac0a",
   "metadata": {},
   "outputs": [
    {
     "name": "stdout",
     "output_type": "stream",
     "text": [
      "Changed working dir to /home/jovyan/ForestLST\n"
     ]
    }
   ],
   "source": [
    "import ee\n",
    "import geemap\n",
    "import os\n",
    "\n",
    "ee.Initialize()\n",
    "\n",
    "if \"notebooks\" in os.getcwd():\n",
    "    os.chdir(\"..\")\n",
    "    print(\"Changed working dir to\", os.getcwd())"
   ]
  },
  {
   "cell_type": "markdown",
   "id": "4b1ef068-2192-4884-bfc5-39d25804df56",
   "metadata": {},
   "source": [
    "Features to calculate from Preisler et al. (2017):\n",
    " - 36-year average precipitation\n",
    " - area affected by fire 2-4 years prior\n",
    " - area with mortality in the prior year\n",
    " - maximum area with mortality in the prior year among neighboring cells\n",
    " - precipitation in last 1-4 years\n",
    " - minimum winter temperature\n",
    "\n",
    "Other ideas\n",
    " - drought indices\n",
    " - elevation\n",
    " - aspect\n",
    " - LST\n",
    " - EVI\n",
    "\n",
    "Another option to consider is SAR as a proxy for canopy moisture as in [this paper](https://www.sciencedirect.com/science/article/pii/S003442572030167X). But, Sentinel-1 is only available post-2014 so we would lose long-term data."
   ]
  },
  {
   "cell_type": "markdown",
   "id": "7162cd05-0ef2-4d65-86c9-94c3748c46da",
   "metadata": {},
   "source": [
    "## Image options"
   ]
  },
  {
   "cell_type": "code",
   "execution_count": 2,
   "id": "2a5bef49-47ea-4df8-bddb-3130c56e7ef0",
   "metadata": {},
   "outputs": [
    {
     "data": {
      "text/html": [
       "\n",
       "            <style>\n",
       "                .geemap-dark {\n",
       "                    --jp-widgets-color: white;\n",
       "                    --jp-widgets-label-color: white;\n",
       "                    --jp-ui-font-color1: white;\n",
       "                    --jp-layout-color2: #454545;\n",
       "                    background-color: #383838;\n",
       "                }\n",
       "\n",
       "                .geemap-dark .jupyter-button {\n",
       "                    --jp-layout-color3: #383838;\n",
       "                }\n",
       "\n",
       "                .geemap-colab {\n",
       "                    background-color: var(--colab-primary-surface-color, white);\n",
       "                }\n",
       "\n",
       "                .geemap-colab .jupyter-button {\n",
       "                    --jp-layout-color3: var(--colab-primary-surface-color, white);\n",
       "                }\n",
       "            </style>\n",
       "            "
      ],
      "text/plain": [
       "<IPython.core.display.HTML object>"
      ]
     },
     "metadata": {},
     "output_type": "display_data"
    }
   ],
   "source": [
    "# Projection and cell size\n",
    "TARGET_PROJ = ee.Projection(\"EPSG:3857\")\n",
    "CELL_SIZE = 4000 # m\n",
    "# Export region\n",
    "CALIF = ee.FeatureCollection(\"TIGER/2018/States\")\\\n",
    "    .filter(ee.Filter.eq(\"NAME\", \"California\"))\\\n",
    "    .first()"
   ]
  },
  {
   "cell_type": "markdown",
   "id": "cfacbb32-21e0-4932-90bf-532320453e61",
   "metadata": {},
   "source": [
    "## Preisler predictors"
   ]
  },
  {
   "cell_type": "code",
   "execution_count": 3,
   "id": "0e9ae351-548b-4ca3-b51e-eafc192f20da",
   "metadata": {},
   "outputs": [
    {
     "data": {
      "text/html": [
       "\n",
       "            <style>\n",
       "                .geemap-dark {\n",
       "                    --jp-widgets-color: white;\n",
       "                    --jp-widgets-label-color: white;\n",
       "                    --jp-ui-font-color1: white;\n",
       "                    --jp-layout-color2: #454545;\n",
       "                    background-color: #383838;\n",
       "                }\n",
       "\n",
       "                .geemap-dark .jupyter-button {\n",
       "                    --jp-layout-color3: #383838;\n",
       "                }\n",
       "\n",
       "                .geemap-colab {\n",
       "                    background-color: var(--colab-primary-surface-color, white);\n",
       "                }\n",
       "\n",
       "                .geemap-colab .jupyter-button {\n",
       "                    --jp-layout-color3: var(--colab-primary-surface-color, white);\n",
       "                }\n",
       "            </style>\n",
       "            "
      ],
      "text/plain": [
       "<IPython.core.display.HTML object>"
      ]
     },
     "metadata": {},
     "output_type": "display_data"
    }
   ],
   "source": [
    "# Gather assets\n",
    "prism_normal = ee.ImageCollection('OREGONSTATE/PRISM/Norm91m')\n",
    "daymet       = ee.ImageCollection(\"NASA/ORNL/DAYMET_V4\")\n",
    "mtbs         = ee.FeatureCollection('USFS/GTAC/MTBS/burned_area_boundaries/v1')\n",
    "host         = ee.Image.constant(0).blend(ee.Image(\"projects/forest-lst/assets/nidrms_host_present\"))\n",
    "damage       = ee.ImageCollection(\"projects/forest-lst/assets/damage_img\")"
   ]
  },
  {
   "cell_type": "code",
   "execution_count": 4,
   "id": "be4bed8f-d66d-483b-b253-6b02c1d21f43",
   "metadata": {},
   "outputs": [
    {
     "data": {
      "text/html": [
       "\n",
       "            <style>\n",
       "                .geemap-dark {\n",
       "                    --jp-widgets-color: white;\n",
       "                    --jp-widgets-label-color: white;\n",
       "                    --jp-ui-font-color1: white;\n",
       "                    --jp-layout-color2: #454545;\n",
       "                    background-color: #383838;\n",
       "                }\n",
       "\n",
       "                .geemap-dark .jupyter-button {\n",
       "                    --jp-layout-color3: #383838;\n",
       "                }\n",
       "\n",
       "                .geemap-colab {\n",
       "                    background-color: var(--colab-primary-surface-color, white);\n",
       "                }\n",
       "\n",
       "                .geemap-colab .jupyter-button {\n",
       "                    --jp-layout-color3: var(--colab-primary-surface-color, white);\n",
       "                }\n",
       "            </style>\n",
       "            "
      ],
      "text/plain": [
       "<IPython.core.display.HTML object>"
      ]
     },
     "metadata": {},
     "output_type": "display_data"
    },
    {
     "data": {
      "application/vnd.jupyter.widget-view+json": {
       "model_id": "af2259938dd249ed84159e83de507f5b",
       "version_major": 2,
       "version_minor": 0
      },
      "text/plain": [
       "Map(center=[0, 0], controls=(WidgetControl(options=['position', 'transparent_bg'], widget=SearchDataGUI(childr…"
      ]
     },
     "execution_count": 4,
     "metadata": {},
     "output_type": "execute_result"
    }
   ],
   "source": [
    "def prism_avg_precip():\n",
    "    return prism_normal.select(\"ppt\").reduce(ee.Reducer.sum())\\\n",
    "        .setDefaultProjection(prism_normal.first().projection())\\\n",
    "        .reduceResolution(ee.Reducer.sum(), maxPixels=1024, bestEffort=True)\\\n",
    "        .reproject(TARGET_PROJ, None, CELL_SIZE)\n",
    "\n",
    "prism_ppt = prism_avg_precip()\n",
    "\n",
    "Map = geemap.Map()\n",
    "Map.addLayer(prism_ppt)\n",
    "Map"
   ]
  },
  {
   "cell_type": "code",
   "execution_count": 5,
   "id": "0cce90d7-d3f8-47d6-972c-247ab4356723",
   "metadata": {},
   "outputs": [
    {
     "data": {
      "text/html": [
       "\n",
       "            <style>\n",
       "                .geemap-dark {\n",
       "                    --jp-widgets-color: white;\n",
       "                    --jp-widgets-label-color: white;\n",
       "                    --jp-ui-font-color1: white;\n",
       "                    --jp-layout-color2: #454545;\n",
       "                    background-color: #383838;\n",
       "                }\n",
       "\n",
       "                .geemap-dark .jupyter-button {\n",
       "                    --jp-layout-color3: #383838;\n",
       "                }\n",
       "\n",
       "                .geemap-colab {\n",
       "                    background-color: var(--colab-primary-surface-color, white);\n",
       "                }\n",
       "\n",
       "                .geemap-colab .jupyter-button {\n",
       "                    --jp-layout-color3: var(--colab-primary-surface-color, white);\n",
       "                }\n",
       "            </style>\n",
       "            "
      ],
      "text/plain": [
       "<IPython.core.display.HTML object>"
      ]
     },
     "metadata": {},
     "output_type": "display_data"
    },
    {
     "data": {
      "application/vnd.jupyter.widget-view+json": {
       "model_id": "6682bfce46594c2598a0969597f1c39b",
       "version_major": 2,
       "version_minor": 0
      },
      "text/plain": [
       "Map(center=[0, 0], controls=(WidgetControl(options=['position', 'transparent_bg'], widget=SearchDataGUI(childr…"
      ]
     },
     "execution_count": 5,
     "metadata": {},
     "output_type": "execute_result"
    }
   ],
   "source": [
    "def burned_area(year):\n",
    "    # Get the burned area polygons we care about\n",
    "    year_start = ee.Date.fromYMD(year, 1, 1).millis()\n",
    "    year_end   = ee.Date.fromYMD(year, 12, 31).millis()\n",
    "\n",
    "    year_filter = ee.Filter.rangeContains(\"Ig_Date\", year_start, year_end)\n",
    "\n",
    "    mtbs_filter = mtbs.filterBounds(CALIF.geometry()).filter(year_filter)\n",
    "\n",
    "    n_fires = mtbs_filter.size().getInfo()\n",
    "    #print(\"Found {} fires\".format(n_fires))\n",
    "\n",
    "    # Rasterize\n",
    "    mtbs_raster = mtbs_filter.map(lambda x: x.set(\"const\", 1))\\\n",
    "        .reduceToImage([\"const\"], ee.Reducer.max())\\\n",
    "        .rename(\"burn_pct\")\n",
    "\n",
    "    # Blend with the zero image, then reduce resolution to calculate pixel fraction\n",
    "    mtbs_reproj = ee.Image.constant(0).blend(mtbs_raster)\\\n",
    "        .setDefaultProjection(TARGET_PROJ, None, 100)\\\n",
    "        .reduceResolution(ee.Reducer.mean(), maxPixels=4096, bestEffort=True)\\\n",
    "        .reproject(TARGET_PROJ, None, CELL_SIZE)\n",
    "\n",
    "    return mtbs_reproj\n",
    "\n",
    "burn_2018 = burned_area(2018)\n",
    "\n",
    "Map = geemap.Map()\n",
    "Map.addLayer(burn_2018)\n",
    "Map"
   ]
  },
  {
   "cell_type": "code",
   "execution_count": 6,
   "id": "e5a4ce1a-99b9-46ee-b707-19830b9acb69",
   "metadata": {},
   "outputs": [
    {
     "data": {
      "text/html": [
       "\n",
       "            <style>\n",
       "                .geemap-dark {\n",
       "                    --jp-widgets-color: white;\n",
       "                    --jp-widgets-label-color: white;\n",
       "                    --jp-ui-font-color1: white;\n",
       "                    --jp-layout-color2: #454545;\n",
       "                    background-color: #383838;\n",
       "                }\n",
       "\n",
       "                .geemap-dark .jupyter-button {\n",
       "                    --jp-layout-color3: #383838;\n",
       "                }\n",
       "\n",
       "                .geemap-colab {\n",
       "                    background-color: var(--colab-primary-surface-color, white);\n",
       "                }\n",
       "\n",
       "                .geemap-colab .jupyter-button {\n",
       "                    --jp-layout-color3: var(--colab-primary-surface-color, white);\n",
       "                }\n",
       "            </style>\n",
       "            "
      ],
      "text/plain": [
       "<IPython.core.display.HTML object>"
      ]
     },
     "metadata": {},
     "output_type": "display_data"
    },
    {
     "data": {
      "application/vnd.jupyter.widget-view+json": {
       "model_id": "1ad0d52e63134d84af9fa756684a72cb",
       "version_major": 2,
       "version_minor": 0
      },
      "text/plain": [
       "Map(center=[0, 0], controls=(WidgetControl(options=['position', 'transparent_bg'], widget=SearchDataGUI(childr…"
      ]
     },
     "execution_count": 6,
     "metadata": {},
     "output_type": "execute_result"
    }
   ],
   "source": [
    "def water_year_precipitation(year):\n",
    "    # Water year for year X is from Oct (X-1) - Sep (X). For example,\n",
    "    # the 2019 water year is from Oct 2018 - Sep 2019.\n",
    "    d = ee.Date.fromYMD(year, 1, 1)\n",
    "    d_start = d.advance(-3, \"month\")\n",
    "    d_end   = d.advance( 9, \"month\")\n",
    "\n",
    "    # Filter daymet to water year, sum prcp\n",
    "    return daymet.filterDate(d_start, d_end).reduce(ee.Reducer.sum()).select(\"prcp_sum\").rename(\"prcp\")\\\n",
    "        .setDefaultProjection(daymet.first().projection())\\\n",
    "        .reduceResolution(ee.Reducer.sum(), bestEffort=True)\\\n",
    "        .reproject(TARGET_PROJ, None, CELL_SIZE)\n",
    "\n",
    "p = water_year_precipitation(2020)\n",
    "\n",
    "Map = geemap.Map()\n",
    "Map.addLayer(p)\n",
    "Map"
   ]
  },
  {
   "cell_type": "code",
   "execution_count": 7,
   "id": "9ec9b155-f8bb-4896-8697-5f8d43bb1a61",
   "metadata": {},
   "outputs": [
    {
     "data": {
      "text/html": [
       "\n",
       "            <style>\n",
       "                .geemap-dark {\n",
       "                    --jp-widgets-color: white;\n",
       "                    --jp-widgets-label-color: white;\n",
       "                    --jp-ui-font-color1: white;\n",
       "                    --jp-layout-color2: #454545;\n",
       "                    background-color: #383838;\n",
       "                }\n",
       "\n",
       "                .geemap-dark .jupyter-button {\n",
       "                    --jp-layout-color3: #383838;\n",
       "                }\n",
       "\n",
       "                .geemap-colab {\n",
       "                    background-color: var(--colab-primary-surface-color, white);\n",
       "                }\n",
       "\n",
       "                .geemap-colab .jupyter-button {\n",
       "                    --jp-layout-color3: var(--colab-primary-surface-color, white);\n",
       "                }\n",
       "            </style>\n",
       "            "
      ],
      "text/plain": [
       "<IPython.core.display.HTML object>"
      ]
     },
     "metadata": {},
     "output_type": "display_data"
    },
    {
     "data": {
      "application/vnd.jupyter.widget-view+json": {
       "model_id": "aae3205a888448c1808e588be083d371",
       "version_major": 2,
       "version_minor": 0
      },
      "text/plain": [
       "Map(center=[0, 0], controls=(WidgetControl(options=['position', 'transparent_bg'], widget=SearchDataGUI(childr…"
      ]
     },
     "execution_count": 7,
     "metadata": {},
     "output_type": "execute_result"
    }
   ],
   "source": [
    "def minimum_winter_air_temperature(year):\n",
    "    # Winter for year X is defined as Dec (x-1) - Feb (x).\n",
    "    d = ee.Date.fromYMD(year, 1, 1)\n",
    "    d_start = d.advance(-1, \"month\")\n",
    "    d_end   = d.advance( 2, \"month\")\n",
    "\n",
    "    # Filter daymet to water year, sum prcp\n",
    "    return daymet.filterDate(d_start, d_end).reduce(ee.Reducer.min()).select(\"tmin_min\").rename(\"winter_tmin\")\\\n",
    "        .setDefaultProjection(daymet.first().projection())\\\n",
    "        .reduceResolution(ee.Reducer.mean(), bestEffort=True)\\\n",
    "        .reproject(TARGET_PROJ, None, CELL_SIZE)\n",
    "\n",
    "t = minimum_winter_air_temperature(2020)\n",
    "\n",
    "Map = geemap.Map()\n",
    "Map.addLayer(t)\n",
    "Map"
   ]
  },
  {
   "cell_type": "code",
   "execution_count": 8,
   "id": "8184e400-1ab5-4862-bc9e-d378fbc4bc89",
   "metadata": {},
   "outputs": [
    {
     "data": {
      "text/html": [
       "\n",
       "            <style>\n",
       "                .geemap-dark {\n",
       "                    --jp-widgets-color: white;\n",
       "                    --jp-widgets-label-color: white;\n",
       "                    --jp-ui-font-color1: white;\n",
       "                    --jp-layout-color2: #454545;\n",
       "                    background-color: #383838;\n",
       "                }\n",
       "\n",
       "                .geemap-dark .jupyter-button {\n",
       "                    --jp-layout-color3: #383838;\n",
       "                }\n",
       "\n",
       "                .geemap-colab {\n",
       "                    background-color: var(--colab-primary-surface-color, white);\n",
       "                }\n",
       "\n",
       "                .geemap-colab .jupyter-button {\n",
       "                    --jp-layout-color3: var(--colab-primary-surface-color, white);\n",
       "                }\n",
       "            </style>\n",
       "            "
      ],
      "text/plain": [
       "<IPython.core.display.HTML object>"
      ]
     },
     "metadata": {},
     "output_type": "display_data"
    },
    {
     "data": {
      "application/vnd.jupyter.widget-view+json": {
       "model_id": "934c58be72cd4295aa2dcf2ccf110fdb",
       "version_major": 2,
       "version_minor": 0
      },
      "text/plain": [
       "Map(center=[0, 0], controls=(WidgetControl(options=['position', 'transparent_bg'], widget=SearchDataGUI(childr…"
      ]
     },
     "execution_count": 8,
     "metadata": {},
     "output_type": "execute_result"
    }
   ],
   "source": [
    "def summer_mean_vapor_pressure(year):\n",
    "    # Summer is Jun - Sep\n",
    "    d_start = ee.Date.fromYMD(year, 6,  1)\n",
    "    d_end   = ee.Date.fromYMD(year, 9, 30)\n",
    "\n",
    "    return daymet.filterDate(d_start, d_end).reduce(ee.Reducer.mean()).select(\"vp_mean\").rename(\"vp_mean\")\\\n",
    "        .setDefaultProjection(daymet.first().projection())\\\n",
    "        .reduceResolution(ee.Reducer.mean(), bestEffort=True)\\\n",
    "        .reproject(TARGET_PROJ, None, CELL_SIZE)\n",
    "\n",
    "vp = summer_mean_vapor_pressure(2020)\n",
    "\n",
    "Map = geemap.Map()\n",
    "Map.addLayer(vp)\n",
    "Map"
   ]
  },
  {
   "cell_type": "code",
   "execution_count": 9,
   "id": "79e17c41-6558-4a7a-abda-31c9ae799e6b",
   "metadata": {},
   "outputs": [
    {
     "data": {
      "text/html": [
       "\n",
       "            <style>\n",
       "                .geemap-dark {\n",
       "                    --jp-widgets-color: white;\n",
       "                    --jp-widgets-label-color: white;\n",
       "                    --jp-ui-font-color1: white;\n",
       "                    --jp-layout-color2: #454545;\n",
       "                    background-color: #383838;\n",
       "                }\n",
       "\n",
       "                .geemap-dark .jupyter-button {\n",
       "                    --jp-layout-color3: #383838;\n",
       "                }\n",
       "\n",
       "                .geemap-colab {\n",
       "                    background-color: var(--colab-primary-surface-color, white);\n",
       "                }\n",
       "\n",
       "                .geemap-colab .jupyter-button {\n",
       "                    --jp-layout-color3: var(--colab-primary-surface-color, white);\n",
       "                }\n",
       "            </style>\n",
       "            "
      ],
      "text/plain": [
       "<IPython.core.display.HTML object>"
      ]
     },
     "metadata": {},
     "output_type": "display_data"
    },
    {
     "data": {
      "application/vnd.jupyter.widget-view+json": {
       "model_id": "dd861ccbfd4c4a82ab17972a60f1f37a",
       "version_major": 2,
       "version_minor": 0
      },
      "text/plain": [
       "Map(center=[0, 0], controls=(WidgetControl(options=['position', 'transparent_bg'], widget=SearchDataGUI(childr…"
      ]
     },
     "execution_count": 9,
     "metadata": {},
     "output_type": "execute_result"
    }
   ],
   "source": [
    "def remaining_host(year):\n",
    "    prior_damage = damage.filter(ee.Filter.calendarRange(year, year, \"year\")).first()\n",
    "    return host.subtract(prior_damage).clamp(0, 1).rename(\"rhost\")\n",
    "\n",
    "rhost = remaining_host(2018)\n",
    "\n",
    "Map = geemap.Map()\n",
    "Map.addLayer(host)\n",
    "Map.addLayer(rhost)\n",
    "Map.addLayer(rhost.lt(host))\n",
    "Map"
   ]
  },
  {
   "cell_type": "code",
   "execution_count": 10,
   "id": "368e9b38-cac9-4000-b160-b3f32ebfca2e",
   "metadata": {},
   "outputs": [
    {
     "data": {
      "text/html": [
       "\n",
       "            <style>\n",
       "                .geemap-dark {\n",
       "                    --jp-widgets-color: white;\n",
       "                    --jp-widgets-label-color: white;\n",
       "                    --jp-ui-font-color1: white;\n",
       "                    --jp-layout-color2: #454545;\n",
       "                    background-color: #383838;\n",
       "                }\n",
       "\n",
       "                .geemap-dark .jupyter-button {\n",
       "                    --jp-layout-color3: #383838;\n",
       "                }\n",
       "\n",
       "                .geemap-colab {\n",
       "                    background-color: var(--colab-primary-surface-color, white);\n",
       "                }\n",
       "\n",
       "                .geemap-colab .jupyter-button {\n",
       "                    --jp-layout-color3: var(--colab-primary-surface-color, white);\n",
       "                }\n",
       "            </style>\n",
       "            "
      ],
      "text/plain": [
       "<IPython.core.display.HTML object>"
      ]
     },
     "metadata": {},
     "output_type": "display_data"
    },
    {
     "data": {
      "application/vnd.jupyter.widget-view+json": {
       "model_id": "6fc2489a0cd84bb093356e5821eec5fe",
       "version_major": 2,
       "version_minor": 0
      },
      "text/plain": [
       "Map(center=[0, 0], controls=(WidgetControl(options=['position', 'transparent_bg'], widget=SearchDataGUI(childr…"
      ]
     },
     "execution_count": 10,
     "metadata": {},
     "output_type": "execute_result"
    }
   ],
   "source": [
    "def max_damage_to_neighbors(year):\n",
    "    prior_damage = damage.filter(ee.Filter.calendarRange(year, year, \"year\")).first()\n",
    "    kernel = ee.Kernel.fixed(\n",
    "        width=3, height=3,\n",
    "        weights=[\n",
    "            [1, 1, 1],\n",
    "            [1, 0, 1],\n",
    "            [1, 1, 1]\n",
    "        ]\n",
    "    )\n",
    "\n",
    "    return prior_damage.focalMax(kernel=kernel).rename(\"near\")\\\n",
    "        .setDefaultProjection(prior_damage.projection())\\\n",
    "        .reproject(TARGET_PROJ, None, CELL_SIZE)\n",
    "\n",
    "maxdam = max_damage_to_neighbors(2015)\n",
    "dam    = damage.filter(ee.Filter.calendarRange(2015, 2015, \"year\")).first()\n",
    "\n",
    "Map = geemap.Map()\n",
    "Map.addLayer(maxdam, {}, \"Focal max\")\n",
    "Map.addLayer(dam, {}, \"Original damage\")\n",
    "Map"
   ]
  },
  {
   "cell_type": "code",
   "execution_count": 11,
   "id": "23bc5e65-51a7-483c-8261-9468cbad2100",
   "metadata": {},
   "outputs": [
    {
     "data": {
      "text/html": [
       "\n",
       "            <style>\n",
       "                .geemap-dark {\n",
       "                    --jp-widgets-color: white;\n",
       "                    --jp-widgets-label-color: white;\n",
       "                    --jp-ui-font-color1: white;\n",
       "                    --jp-layout-color2: #454545;\n",
       "                    background-color: #383838;\n",
       "                }\n",
       "\n",
       "                .geemap-dark .jupyter-button {\n",
       "                    --jp-layout-color3: #383838;\n",
       "                }\n",
       "\n",
       "                .geemap-colab {\n",
       "                    background-color: var(--colab-primary-surface-color, white);\n",
       "                }\n",
       "\n",
       "                .geemap-colab .jupyter-button {\n",
       "                    --jp-layout-color3: var(--colab-primary-surface-color, white);\n",
       "                }\n",
       "            </style>\n",
       "            "
      ],
      "text/plain": [
       "<IPython.core.display.HTML object>"
      ]
     },
     "metadata": {},
     "output_type": "display_data"
    },
    {
     "data": {
      "application/vnd.jupyter.widget-view+json": {
       "model_id": "39019589adac485d9eb95fa51e58219c",
       "version_major": 2,
       "version_minor": 0
      },
      "text/plain": [
       "Map(center=[0, 0], controls=(WidgetControl(options=['position', 'transparent_bg'], widget=SearchDataGUI(childr…"
      ]
     },
     "execution_count": 11,
     "metadata": {},
     "output_type": "execute_result"
    }
   ],
   "source": [
    "Map = geemap.Map()\n",
    "Map.addLayer(host)\n",
    "Map"
   ]
  },
  {
   "cell_type": "markdown",
   "id": "59b3140f-1146-4e88-95a3-2cfcbb1dc234",
   "metadata": {
    "jp-MarkdownHeadingCollapsed": true
   },
   "source": [
    "## Other predictors"
   ]
  },
  {
   "cell_type": "code",
   "execution_count": 12,
   "id": "73c6fd7f-db38-4c1d-b783-29139080b250",
   "metadata": {},
   "outputs": [
    {
     "data": {
      "text/html": [
       "\n",
       "            <style>\n",
       "                .geemap-dark {\n",
       "                    --jp-widgets-color: white;\n",
       "                    --jp-widgets-label-color: white;\n",
       "                    --jp-ui-font-color1: white;\n",
       "                    --jp-layout-color2: #454545;\n",
       "                    background-color: #383838;\n",
       "                }\n",
       "\n",
       "                .geemap-dark .jupyter-button {\n",
       "                    --jp-layout-color3: #383838;\n",
       "                }\n",
       "\n",
       "                .geemap-colab {\n",
       "                    background-color: var(--colab-primary-surface-color, white);\n",
       "                }\n",
       "\n",
       "                .geemap-colab .jupyter-button {\n",
       "                    --jp-layout-color3: var(--colab-primary-surface-color, white);\n",
       "                }\n",
       "            </style>\n",
       "            "
      ],
      "text/plain": [
       "<IPython.core.display.HTML object>"
      ]
     },
     "metadata": {},
     "output_type": "display_data"
    }
   ],
   "source": [
    "# Gather assets\n",
    "modis_lst  = ee.ImageCollection(\"MODIS/061/MYD11A1\")\n",
    "modis_evi  = ee.ImageCollection(\"MODIS/061/MYD13A2\")\n",
    "daymet     = ee.ImageCollection(\"NASA/ORNL/DAYMET_V4\")\n",
    "drought    = ee.ImageCollection(\"GRIDMET/DROUGHT\")\n",
    "srtm       = ee.Image(\"CGIAR/SRTM90_V4\").resample(\"bilinear\")\n",
    "damage     = ee.ImageCollection(\"projects/forest-lst/assets/damage_img\")"
   ]
  },
  {
   "cell_type": "code",
   "execution_count": 13,
   "id": "584f31d7-ef53-4bdb-8ace-9d263e9fbac5",
   "metadata": {},
   "outputs": [
    {
     "data": {
      "text/html": [
       "\n",
       "            <style>\n",
       "                .geemap-dark {\n",
       "                    --jp-widgets-color: white;\n",
       "                    --jp-widgets-label-color: white;\n",
       "                    --jp-ui-font-color1: white;\n",
       "                    --jp-layout-color2: #454545;\n",
       "                    background-color: #383838;\n",
       "                }\n",
       "\n",
       "                .geemap-dark .jupyter-button {\n",
       "                    --jp-layout-color3: #383838;\n",
       "                }\n",
       "\n",
       "                .geemap-colab {\n",
       "                    background-color: var(--colab-primary-surface-color, white);\n",
       "                }\n",
       "\n",
       "                .geemap-colab .jupyter-button {\n",
       "                    --jp-layout-color3: var(--colab-primary-surface-color, white);\n",
       "                }\n",
       "            </style>\n",
       "            "
      ],
      "text/plain": [
       "<IPython.core.display.HTML object>"
      ]
     },
     "metadata": {},
     "output_type": "display_data"
    }
   ],
   "source": [
    "def drought_percentile(year, percentiles=[5, 50, 95]):\n",
    "    this_drought = drought.filter(ee.Filter.calendarRange(year, year, \"year\"))\n",
    "\n",
    "    names = list(map(lambda x: \"p\" + str(x), percentiles))\n",
    "    reducer = ee.Reducer.percentile(percentiles, names)\n",
    "\n",
    "    # The choice of index and aggregation period here is arbitrary.\n",
    "    return this_drought.select(\"spei30d\").reduce(reducer)"
   ]
  },
  {
   "cell_type": "code",
   "execution_count": 14,
   "id": "7819ac85-82b4-4867-88ca-18284beca5aa",
   "metadata": {},
   "outputs": [
    {
     "data": {
      "text/html": [
       "\n",
       "            <style>\n",
       "                .geemap-dark {\n",
       "                    --jp-widgets-color: white;\n",
       "                    --jp-widgets-label-color: white;\n",
       "                    --jp-ui-font-color1: white;\n",
       "                    --jp-layout-color2: #454545;\n",
       "                    background-color: #383838;\n",
       "                }\n",
       "\n",
       "                .geemap-dark .jupyter-button {\n",
       "                    --jp-layout-color3: #383838;\n",
       "                }\n",
       "\n",
       "                .geemap-colab {\n",
       "                    background-color: var(--colab-primary-surface-color, white);\n",
       "                }\n",
       "\n",
       "                .geemap-colab .jupyter-button {\n",
       "                    --jp-layout-color3: var(--colab-primary-surface-color, white);\n",
       "                }\n",
       "            </style>\n",
       "            "
      ],
      "text/plain": [
       "<IPython.core.display.HTML object>"
      ]
     },
     "metadata": {},
     "output_type": "display_data"
    },
    {
     "data": {
      "application/vnd.jupyter.widget-view+json": {
       "model_id": "3472ff34fb9d48979753a37277de5359",
       "version_major": 2,
       "version_minor": 0
      },
      "text/plain": [
       "Map(center=[0, 0], controls=(WidgetControl(options=['position', 'transparent_bg'], widget=SearchDataGUI(childr…"
      ]
     },
     "execution_count": 14,
     "metadata": {},
     "output_type": "execute_result"
    }
   ],
   "source": [
    "d = drought_percentile(2018)\n",
    "\n",
    "Map = geemap.Map()\n",
    "Map.addLayer(d)\n",
    "Map"
   ]
  },
  {
   "cell_type": "code",
   "execution_count": 15,
   "id": "5c6b4a77-b80d-4fd1-8756-cd7978ec8b6a",
   "metadata": {},
   "outputs": [
    {
     "data": {
      "text/html": [
       "\n",
       "            <style>\n",
       "                .geemap-dark {\n",
       "                    --jp-widgets-color: white;\n",
       "                    --jp-widgets-label-color: white;\n",
       "                    --jp-ui-font-color1: white;\n",
       "                    --jp-layout-color2: #454545;\n",
       "                    background-color: #383838;\n",
       "                }\n",
       "\n",
       "                .geemap-dark .jupyter-button {\n",
       "                    --jp-layout-color3: #383838;\n",
       "                }\n",
       "\n",
       "                .geemap-colab {\n",
       "                    background-color: var(--colab-primary-surface-color, white);\n",
       "                }\n",
       "\n",
       "                .geemap-colab .jupyter-button {\n",
       "                    --jp-layout-color3: var(--colab-primary-surface-color, white);\n",
       "                }\n",
       "            </style>\n",
       "            "
      ],
      "text/plain": [
       "<IPython.core.display.HTML object>"
      ]
     },
     "metadata": {},
     "output_type": "display_data"
    }
   ],
   "source": [
    "# Join MODIS and ERA5 to make delta T\n",
    "def calculate_dT(feat):\n",
    "    meanMaxT = ee.ImageCollection.fromImages(feat.get(\"secondary\"))\\\n",
    "        .reduce(ee.Reducer.mean())\\\n",
    "        .select(\"tmax_mean\")\\\n",
    "        .resample(\"bilinear\")\n",
    "\n",
    "    # LST gets aggregated up to an annual summary so we can afford\n",
    "    # to be picky about QA\n",
    "    lst = ee.Image(feat)\n",
    "    lst = lst.updateMask(lst.select(\"QC_Day\").bitwiseAnd(1).eq(0))\\\n",
    "        .select(\"LST_Day_1km\").multiply(0.02).subtract(273.15) # K -> C\n",
    "\n",
    "    return lst.subtract(meanMaxT)\\\n",
    "        .rename(\"dT\").copyProperties(lst)\n",
    "\n",
    "def lst_air_difference(year):\n",
    "    filter = ee.Filter.calendarRange(year, year, \"year\")\n",
    "    \n",
    "    daymet_filter = daymet.filter(filter)\n",
    "    modis_lst_filter  = modis_lst.filter(filter)\n",
    "\n",
    "    date_range_match = ee.Filter.And(\n",
    "        ee.Filter.lessThanOrEquals(leftField=\"system:time_start\", rightField=\"system:time_start\"),\n",
    "        ee.Filter.greaterThanOrEquals(leftField=\"system:time_start\", rightField=\"system:time_start\")\n",
    "    )\n",
    "\n",
    "    join = ee.Join.saveAll(matchesKey=\"secondary\", ordering=\"system:time_start\", ascending=True)\n",
    "    \n",
    "    dT = join.apply(modis_lst_filter, daymet_filter, date_range_match).map(calculate_dT)\n",
    "    dT = ee.ImageCollection(dT)\n",
    "\n",
    "    return dT\n",
    "\n",
    "def lst_air_difference_percentile(year, percentiles=[5, 50, 95]):\n",
    "    dT = lst_air_difference(year)\n",
    "    \n",
    "    names = list(map(lambda x: \"p\" + str(x), percentiles))\n",
    "    reducer = ee.Reducer.percentile(percentiles, names)\n",
    "\n",
    "    return dT.reduce(reducer)"
   ]
  },
  {
   "cell_type": "code",
   "execution_count": 16,
   "id": "4aa2b3dc-f819-4232-92a0-6792b7161826",
   "metadata": {},
   "outputs": [
    {
     "data": {
      "text/html": [
       "\n",
       "            <style>\n",
       "                .geemap-dark {\n",
       "                    --jp-widgets-color: white;\n",
       "                    --jp-widgets-label-color: white;\n",
       "                    --jp-ui-font-color1: white;\n",
       "                    --jp-layout-color2: #454545;\n",
       "                    background-color: #383838;\n",
       "                }\n",
       "\n",
       "                .geemap-dark .jupyter-button {\n",
       "                    --jp-layout-color3: #383838;\n",
       "                }\n",
       "\n",
       "                .geemap-colab {\n",
       "                    background-color: var(--colab-primary-surface-color, white);\n",
       "                }\n",
       "\n",
       "                .geemap-colab .jupyter-button {\n",
       "                    --jp-layout-color3: var(--colab-primary-surface-color, white);\n",
       "                }\n",
       "            </style>\n",
       "            "
      ],
      "text/plain": [
       "<IPython.core.display.HTML object>"
      ]
     },
     "metadata": {},
     "output_type": "display_data"
    },
    {
     "data": {
      "application/vnd.jupyter.widget-view+json": {
       "model_id": "0be69af1c7cb4d9aaf04c83fcb20fda3",
       "version_major": 2,
       "version_minor": 0
      },
      "text/plain": [
       "Map(center=[0, 0], controls=(WidgetControl(options=['position', 'transparent_bg'], widget=SearchDataGUI(childr…"
      ]
     },
     "execution_count": 16,
     "metadata": {},
     "output_type": "execute_result"
    }
   ],
   "source": [
    "# Verify that it worked\n",
    "my_dT = lst_air_difference(2018)\n",
    "my_dT_percentiles = lst_air_difference_percentile(2018)\n",
    "\n",
    "Map = geemap.Map()\n",
    "Map.add_basemap(\"HYBRID\")\n",
    "Map.addLayer(my_dT.first(), dict(min=-5, max=5, palette=[\"blue\", \"white\", \"red\"]))\n",
    "Map.addLayer(my_dT_percentiles.select(\"dT_p50\"), dict(min=-5, max=5, palette=[\"blue\", \"white\", \"red\"]))\n",
    "Map"
   ]
  },
  {
   "cell_type": "code",
   "execution_count": 17,
   "id": "ba8fa5ce-09e1-4c78-8172-af236ffbd0c0",
   "metadata": {},
   "outputs": [
    {
     "data": {
      "text/html": [
       "\n",
       "            <style>\n",
       "                .geemap-dark {\n",
       "                    --jp-widgets-color: white;\n",
       "                    --jp-widgets-label-color: white;\n",
       "                    --jp-ui-font-color1: white;\n",
       "                    --jp-layout-color2: #454545;\n",
       "                    background-color: #383838;\n",
       "                }\n",
       "\n",
       "                .geemap-dark .jupyter-button {\n",
       "                    --jp-layout-color3: #383838;\n",
       "                }\n",
       "\n",
       "                .geemap-colab {\n",
       "                    background-color: var(--colab-primary-surface-color, white);\n",
       "                }\n",
       "\n",
       "                .geemap-colab .jupyter-button {\n",
       "                    --jp-layout-color3: var(--colab-primary-surface-color, white);\n",
       "                }\n",
       "            </style>\n",
       "            "
      ],
      "text/plain": [
       "<IPython.core.display.HTML object>"
      ]
     },
     "metadata": {},
     "output_type": "display_data"
    }
   ],
   "source": [
    "# Annual percentiles - NDVI, dT, air T\n",
    "def annual_evi_percentile(year, percentiles=[5, 50, 95]):\n",
    "    this_evi = modis_evi.filter(ee.Filter.calendarRange(year, year, \"year\"))\n",
    "\n",
    "    # Since we are doing an annual summary we can afford to be picky about\n",
    "    # image quality.\n",
    "    this_evi = this_evi.map(lambda x: x.updateMask(x.select(\"DetailedQA\").bitwiseAnd(1).eq(0)))\\\n",
    "        .select(\"EVI\")\n",
    "\n",
    "    names = list(map(lambda x: \"p\" + str(x), percentiles))\n",
    "    reducer = ee.Reducer.percentile(percentiles, names)\n",
    "\n",
    "    return this_evi.reduce(reducer).multiply(0.0001)"
   ]
  },
  {
   "cell_type": "code",
   "execution_count": 18,
   "id": "00708145-ef4e-46d1-9bea-66859551f998",
   "metadata": {},
   "outputs": [
    {
     "data": {
      "text/html": [
       "\n",
       "            <style>\n",
       "                .geemap-dark {\n",
       "                    --jp-widgets-color: white;\n",
       "                    --jp-widgets-label-color: white;\n",
       "                    --jp-ui-font-color1: white;\n",
       "                    --jp-layout-color2: #454545;\n",
       "                    background-color: #383838;\n",
       "                }\n",
       "\n",
       "                .geemap-dark .jupyter-button {\n",
       "                    --jp-layout-color3: #383838;\n",
       "                }\n",
       "\n",
       "                .geemap-colab {\n",
       "                    background-color: var(--colab-primary-surface-color, white);\n",
       "                }\n",
       "\n",
       "                .geemap-colab .jupyter-button {\n",
       "                    --jp-layout-color3: var(--colab-primary-surface-color, white);\n",
       "                }\n",
       "            </style>\n",
       "            "
      ],
      "text/plain": [
       "<IPython.core.display.HTML object>"
      ]
     },
     "metadata": {},
     "output_type": "display_data"
    },
    {
     "data": {
      "application/vnd.jupyter.widget-view+json": {
       "model_id": "4a41ee2dbff041a299f1ff78c892fcde",
       "version_major": 2,
       "version_minor": 0
      },
      "text/plain": [
       "Map(center=[0, 0], controls=(WidgetControl(options=['position', 'transparent_bg'], widget=SearchDataGUI(childr…"
      ]
     },
     "execution_count": 18,
     "metadata": {},
     "output_type": "execute_result"
    }
   ],
   "source": [
    "evi_18 = annual_evi_percentile(2018)\n",
    "\n",
    "Map = geemap.Map()\n",
    "Map.addLayer(evi_18.select(\"EVI_p50\"))\n",
    "Map"
   ]
  },
  {
   "cell_type": "markdown",
   "id": "2fb4db8a-0393-4cbd-9ee3-91cdd2e5f976",
   "metadata": {},
   "source": [
    "## Do export"
   ]
  },
  {
   "cell_type": "code",
   "execution_count": 19,
   "id": "befaf757-cdf2-4d95-a87d-d5895925f199",
   "metadata": {},
   "outputs": [
    {
     "data": {
      "text/html": [
       "\n",
       "            <style>\n",
       "                .geemap-dark {\n",
       "                    --jp-widgets-color: white;\n",
       "                    --jp-widgets-label-color: white;\n",
       "                    --jp-ui-font-color1: white;\n",
       "                    --jp-layout-color2: #454545;\n",
       "                    background-color: #383838;\n",
       "                }\n",
       "\n",
       "                .geemap-dark .jupyter-button {\n",
       "                    --jp-layout-color3: #383838;\n",
       "                }\n",
       "\n",
       "                .geemap-colab {\n",
       "                    background-color: var(--colab-primary-surface-color, white);\n",
       "                }\n",
       "\n",
       "                .geemap-colab .jupyter-button {\n",
       "                    --jp-layout-color3: var(--colab-primary-surface-color, white);\n",
       "                }\n",
       "            </style>\n",
       "            "
      ],
      "text/plain": [
       "<IPython.core.display.HTML object>"
      ]
     },
     "metadata": {},
     "output_type": "display_data"
    }
   ],
   "source": [
    "import datetime\n",
    "def make_annual_image(year):\n",
    "    # Record-keeping variables\n",
    "    year_img = ee.Image.constant(year).rename(\"year\").toInt16()\n",
    "    lon_lat  = ee.Image.pixelLonLat()\n",
    "\n",
    "    # Long-term avg precip\n",
    "    prism_prcp = prism_avg_precip()\n",
    "    \n",
    "    # Water-year precip\n",
    "    prcp = water_year_precipitation(year).rename(\"prcp\")\n",
    "\n",
    "    # Minimum winter T\n",
    "    min_winter_T = minimum_winter_air_temperature(year).rename(\"win_tmin\")\n",
    "\n",
    "    # Mean summer vapor pressure\n",
    "    sum_vp = summer_mean_vapor_pressure(year).rename(\"sum_vp\")\n",
    "\n",
    "    # Area with mortality prior year\n",
    "    rhost = remaining_host(year).rename(\"rhost\")\n",
    "    \n",
    "    # Maximum area with mortality in neighboring cells prior year\n",
    "    near = max_damage_to_neighbors(year).rename(\"near\")\n",
    "\n",
    "    # Area affected by fire 2-4 years ago\n",
    "    fire = burned_area(year).rename(\"fire\")\n",
    "\n",
    "    # Response - mortality severity\n",
    "    mort = damage.filter(ee.Filter.calendarRange(year, year, \"year\")).first()\n",
    "\n",
    "    all_bands = ee.Image([\n",
    "        year_img,\n",
    "        lon_lat,\n",
    "        prism_prcp,\n",
    "        prcp,\n",
    "        min_winter_T,\n",
    "        sum_vp,\n",
    "        rhost,\n",
    "        near,\n",
    "        fire,\n",
    "        mort\n",
    "    ]).updateMask(mort.mask())\n",
    "\n",
    "    # Set timekeeping properties\n",
    "    epoch_start = datetime.datetime(year, 1, 1, 0, 0, 0, \n",
    "                                    tzinfo=datetime.timezone.utc)\n",
    "    epoch_end   = datetime.datetime(year+1, 1, 1, 0, 0, 0, \n",
    "                                    tzinfo=datetime.timezone.utc) - datetime.timedelta(milliseconds=1)\n",
    "\n",
    "    all_bands = all_bands.set({\n",
    "        \"system:time_start\": epoch_start.timestamp() * 1000,\n",
    "        \"system:time_end\": epoch_end.timestamp() * 1000\n",
    "    })\n",
    "\n",
    "    return all_bands"
   ]
  },
  {
   "cell_type": "code",
   "execution_count": 20,
   "id": "2cdd895d-51f5-4127-9849-c359200408db",
   "metadata": {},
   "outputs": [
    {
     "data": {
      "text/html": [
       "\n",
       "            <style>\n",
       "                .geemap-dark {\n",
       "                    --jp-widgets-color: white;\n",
       "                    --jp-widgets-label-color: white;\n",
       "                    --jp-ui-font-color1: white;\n",
       "                    --jp-layout-color2: #454545;\n",
       "                    background-color: #383838;\n",
       "                }\n",
       "\n",
       "                .geemap-dark .jupyter-button {\n",
       "                    --jp-layout-color3: #383838;\n",
       "                }\n",
       "\n",
       "                .geemap-colab {\n",
       "                    background-color: var(--colab-primary-surface-color, white);\n",
       "                }\n",
       "\n",
       "                .geemap-colab .jupyter-button {\n",
       "                    --jp-layout-color3: var(--colab-primary-surface-color, white);\n",
       "                }\n",
       "            </style>\n",
       "            "
      ],
      "text/plain": [
       "<IPython.core.display.HTML object>"
      ]
     },
     "metadata": {},
     "output_type": "display_data"
    },
    {
     "name": "stdout",
     "output_type": "stream",
     "text": [
      "1999 2023\n"
     ]
    }
   ],
   "source": [
    "first_year = datetime.datetime.utcfromtimestamp(damage.aggregate_min(\"system:time_start\").getInfo()/1000).year\n",
    "last_year  = datetime.datetime.utcfromtimestamp(damage.aggregate_max(\"system:time_start\").getInfo()/1000).year\n",
    "print(first_year, last_year)"
   ]
  },
  {
   "cell_type": "code",
   "execution_count": 21,
   "id": "0bcc5696-8c8c-4011-ae48-694940ff49fe",
   "metadata": {
    "scrolled": true
   },
   "outputs": [
    {
     "data": {
      "text/html": [
       "\n",
       "            <style>\n",
       "                .geemap-dark {\n",
       "                    --jp-widgets-color: white;\n",
       "                    --jp-widgets-label-color: white;\n",
       "                    --jp-ui-font-color1: white;\n",
       "                    --jp-layout-color2: #454545;\n",
       "                    background-color: #383838;\n",
       "                }\n",
       "\n",
       "                .geemap-dark .jupyter-button {\n",
       "                    --jp-layout-color3: #383838;\n",
       "                }\n",
       "\n",
       "                .geemap-colab {\n",
       "                    background-color: var(--colab-primary-surface-color, white);\n",
       "                }\n",
       "\n",
       "                .geemap-colab .jupyter-button {\n",
       "                    --jp-layout-color3: var(--colab-primary-surface-color, white);\n",
       "                }\n",
       "            </style>\n",
       "            "
      ],
      "text/plain": [
       "<IPython.core.display.HTML object>"
      ]
     },
     "metadata": {},
     "output_type": "display_data"
    }
   ],
   "source": [
    "# We lose the first year because there is no prior beetle attack for it to generate the `near` image.\n",
    "from googleapiclient.errors import HttpError\n",
    "from ee import EEException\n",
    "\n",
    "for year in range(first_year, last_year+1):\n",
    "    try:\n",
    "        img = make_annual_image(year)\n",
    "        img.getInfo()\n",
    "    except (HttpError, EEException) as e:\n",
    "        print(year, \"failed\")"
   ]
  },
  {
   "cell_type": "code",
   "execution_count": 22,
   "id": "ca03b235-864b-42e7-9e62-96080cb4a19e",
   "metadata": {},
   "outputs": [
    {
     "data": {
      "text/html": [
       "\n",
       "            <style>\n",
       "                .geemap-dark {\n",
       "                    --jp-widgets-color: white;\n",
       "                    --jp-widgets-label-color: white;\n",
       "                    --jp-ui-font-color1: white;\n",
       "                    --jp-layout-color2: #454545;\n",
       "                    background-color: #383838;\n",
       "                }\n",
       "\n",
       "                .geemap-dark .jupyter-button {\n",
       "                    --jp-layout-color3: #383838;\n",
       "                }\n",
       "\n",
       "                .geemap-colab {\n",
       "                    background-color: var(--colab-primary-surface-color, white);\n",
       "                }\n",
       "\n",
       "                .geemap-colab .jupyter-button {\n",
       "                    --jp-layout-color3: var(--colab-primary-surface-color, white);\n",
       "                }\n",
       "            </style>\n",
       "            "
      ],
      "text/plain": [
       "<IPython.core.display.HTML object>"
      ]
     },
     "metadata": {},
     "output_type": "display_data"
    },
    {
     "data": {
      "application/json": {
       "bands": [
        {
         "crs": "EPSG:4326",
         "crs_transform": [
          1,
          0,
          0,
          0,
          1,
          0
         ],
         "data_type": {
          "max": 32767,
          "min": -32768,
          "precision": "int",
          "type": "PixelType"
         },
         "id": "year"
        },
        {
         "crs": "EPSG:4326",
         "crs_transform": [
          1,
          0,
          0,
          0,
          1,
          0
         ],
         "data_type": {
          "precision": "double",
          "type": "PixelType"
         },
         "id": "longitude"
        },
        {
         "crs": "EPSG:4326",
         "crs_transform": [
          1,
          0,
          0,
          0,
          1,
          0
         ],
         "data_type": {
          "precision": "double",
          "type": "PixelType"
         },
         "id": "latitude"
        },
        {
         "crs": "EPSG:3857",
         "crs_transform": [
          4000,
          0,
          0,
          0,
          -4000,
          0
         ],
         "data_type": {
          "precision": "double",
          "type": "PixelType"
         },
         "id": "ppt_sum"
        },
        {
         "crs": "EPSG:3857",
         "crs_transform": [
          4000,
          0,
          0,
          0,
          -4000,
          0
         ],
         "data_type": {
          "precision": "double",
          "type": "PixelType"
         },
         "id": "prcp"
        },
        {
         "crs": "EPSG:3857",
         "crs_transform": [
          4000,
          0,
          0,
          0,
          -4000,
          0
         ],
         "data_type": {
          "precision": "float",
          "type": "PixelType"
         },
         "id": "win_tmin"
        },
        {
         "crs": "EPSG:3857",
         "crs_transform": [
          4000,
          0,
          0,
          0,
          -4000,
          0
         ],
         "data_type": {
          "precision": "float",
          "type": "PixelType"
         },
         "id": "sum_vp"
        },
        {
         "crs": "EPSG:3857",
         "crs_transform": [
          4000,
          0,
          -13860000,
          0,
          -4000,
          5164000
         ],
         "data_type": {
          "max": 1,
          "min": 0,
          "precision": "double",
          "type": "PixelType"
         },
         "dimensions": [
          289,
          333
         ],
         "id": "rhost"
        },
        {
         "crs": "EPSG:3857",
         "crs_transform": [
          4000,
          0,
          0,
          0,
          -4000,
          0
         ],
         "data_type": {
          "precision": "double",
          "type": "PixelType"
         },
         "dimensions": [
          289,
          333
         ],
         "id": "near",
         "origin": [
          -3465,
          -1291
         ]
        },
        {
         "crs": "EPSG:3857",
         "crs_transform": [
          4000,
          0,
          0,
          0,
          -4000,
          0
         ],
         "data_type": {
          "max": 2147483647,
          "min": -2147483648,
          "precision": "double",
          "type": "PixelType"
         },
         "id": "fire"
        },
        {
         "crs": "EPSG:3857",
         "crs_transform": [
          4000,
          0,
          -13860000,
          0,
          -4000,
          5164000
         ],
         "data_type": {
          "precision": "double",
          "type": "PixelType"
         },
         "dimensions": [
          289,
          333
         ],
         "id": "pct_mortality"
        }
       ],
       "properties": {
        "system:time_end": 978307199999,
        "system:time_start": 946684800000
       },
       "type": "Image"
      },
      "text/plain": [
       "<IPython.core.display.JSON object>"
      ]
     },
     "metadata": {
      "application/json": {
       "expanded": false,
       "root": "root"
      }
     },
     "output_type": "display_data"
    }
   ],
   "source": [
    "from IPython.display import display, JSON\n",
    "\n",
    "test_img = make_annual_image(2000)\n",
    "\n",
    "display(JSON(test_img.getInfo()))"
   ]
  },
  {
   "cell_type": "code",
   "execution_count": 23,
   "id": "2013be63-5abe-4d15-a406-ace3501901b5",
   "metadata": {},
   "outputs": [
    {
     "data": {
      "text/html": [
       "\n",
       "            <style>\n",
       "                .geemap-dark {\n",
       "                    --jp-widgets-color: white;\n",
       "                    --jp-widgets-label-color: white;\n",
       "                    --jp-ui-font-color1: white;\n",
       "                    --jp-layout-color2: #454545;\n",
       "                    background-color: #383838;\n",
       "                }\n",
       "\n",
       "                .geemap-dark .jupyter-button {\n",
       "                    --jp-layout-color3: #383838;\n",
       "                }\n",
       "\n",
       "                .geemap-colab {\n",
       "                    background-color: var(--colab-primary-surface-color, white);\n",
       "                }\n",
       "\n",
       "                .geemap-colab .jupyter-button {\n",
       "                    --jp-layout-color3: var(--colab-primary-surface-color, white);\n",
       "                }\n",
       "            </style>\n",
       "            "
      ],
      "text/plain": [
       "<IPython.core.display.HTML object>"
      ]
     },
     "metadata": {},
     "output_type": "display_data"
    },
    {
     "data": {
      "application/vnd.jupyter.widget-view+json": {
       "model_id": "0df4ba5f2e614ce2beffb7a22d814096",
       "version_major": 2,
       "version_minor": 0
      },
      "text/plain": [
       "Map(center=[0, 0], controls=(WidgetControl(options=['position', 'transparent_bg'], widget=SearchDataGUI(childr…"
      ]
     },
     "execution_count": 23,
     "metadata": {},
     "output_type": "execute_result"
    }
   ],
   "source": [
    "Map = geemap.Map()\n",
    "Map.addLayer(test_img)\n",
    "Map"
   ]
  },
  {
   "cell_type": "code",
   "execution_count": 24,
   "id": "230e18b5-3bd4-4f40-b789-6b4e8d4f1959",
   "metadata": {},
   "outputs": [
    {
     "data": {
      "text/html": [
       "\n",
       "            <style>\n",
       "                .geemap-dark {\n",
       "                    --jp-widgets-color: white;\n",
       "                    --jp-widgets-label-color: white;\n",
       "                    --jp-ui-font-color1: white;\n",
       "                    --jp-layout-color2: #454545;\n",
       "                    background-color: #383838;\n",
       "                }\n",
       "\n",
       "                .geemap-dark .jupyter-button {\n",
       "                    --jp-layout-color3: #383838;\n",
       "                }\n",
       "\n",
       "                .geemap-colab {\n",
       "                    background-color: var(--colab-primary-surface-color, white);\n",
       "                }\n",
       "\n",
       "                .geemap-colab .jupyter-button {\n",
       "                    --jp-layout-color3: var(--colab-primary-surface-color, white);\n",
       "                }\n",
       "            </style>\n",
       "            "
      ],
      "text/plain": [
       "<IPython.core.display.HTML object>"
      ]
     },
     "metadata": {},
     "output_type": "display_data"
    }
   ],
   "source": [
    "# Make an image for each year in the Preisler paper\n",
    "available_years = list(range(first_year+1, last_year+1))\n",
    "annual_images = list(map(lambda year: make_annual_image(year), available_years))"
   ]
  },
  {
   "cell_type": "code",
   "execution_count": 25,
   "id": "e459f290-b069-4e06-9ccc-6ed7f327c8df",
   "metadata": {},
   "outputs": [
    {
     "data": {
      "text/html": [
       "\n",
       "            <style>\n",
       "                .geemap-dark {\n",
       "                    --jp-widgets-color: white;\n",
       "                    --jp-widgets-label-color: white;\n",
       "                    --jp-ui-font-color1: white;\n",
       "                    --jp-layout-color2: #454545;\n",
       "                    background-color: #383838;\n",
       "                }\n",
       "\n",
       "                .geemap-dark .jupyter-button {\n",
       "                    --jp-layout-color3: #383838;\n",
       "                }\n",
       "\n",
       "                .geemap-colab {\n",
       "                    background-color: var(--colab-primary-surface-color, white);\n",
       "                }\n",
       "\n",
       "                .geemap-colab .jupyter-button {\n",
       "                    --jp-layout-color3: var(--colab-primary-surface-color, white);\n",
       "                }\n",
       "            </style>\n",
       "            "
      ],
      "text/plain": [
       "<IPython.core.display.HTML object>"
      ]
     },
     "metadata": {},
     "output_type": "display_data"
    },
    {
     "name": "stdout",
     "output_type": "stream",
     "text": [
      "Bands: ['year', 'longitude', 'latitude', 'ppt_sum', 'prcp', 'win_tmin', 'sum_vp', 'rhost', 'near', 'fire', 'pct_mortality']\n"
     ]
    }
   ],
   "source": [
    "bands = [b[\"id\"] for b in annual_images[0].getInfo()[\"bands\"]]\n",
    "print(\"Bands:\", bands)"
   ]
  },
  {
   "cell_type": "markdown",
   "id": "a0fca977-e469-49d1-a3d3-ac284ce2305a",
   "metadata": {
    "jp-MarkdownHeadingCollapsed": true
   },
   "source": [
    "## Array image"
   ]
  },
  {
   "cell_type": "raw",
   "id": "618cb4aa-bc46-4d61-aafe-fbcd814605c1",
   "metadata": {},
   "source": [
    "# Turn the image list into an image collection, stack it as an array. This has a lot\n",
    "# of pixels that are just full of zeros. This wastes *a lot* of time in the export. But\n",
    "# fortunately we can mask out empty pixels by finding arrays where the lat/lon bands are\n",
    "# all zero.\n",
    "annual_arr = ee.ImageCollection.fromImages(annual_images).toArrayPerBand()\n",
    "display(JSON(annual_arr.getInfo()))\n",
    "\n",
    "annual_arr_has_data = annual_arr.select(\"latitude\")\\\n",
    "    .arrayReduce(ee.Reducer.anyNonZero(), [0])\\\n",
    "    .arrayGet([0])\n",
    "\n",
    "annual_arr = annual_arr.updateMask(annual_arr_has_data)"
   ]
  },
  {
   "cell_type": "raw",
   "id": "353ca00b-a019-44d7-b547-7bc977711e07",
   "metadata": {},
   "source": [
    "Map = geemap.Map()\n",
    "\n",
    "Map.addLayer(annual_arr)\n",
    "\n",
    "Map"
   ]
  },
  {
   "cell_type": "raw",
   "id": "b3880a2a-c453-4c37-a957-8965fae94e25",
   "metadata": {},
   "source": [
    "# What are the bottlenecks in computing the image?\n",
    "ca = ee.FeatureCollection(\"TIGER/2018/States\")\\\n",
    "    .filter(ee.Filter.eq(\"NAME\", \"California\"))\\\n",
    "    .first()\n",
    "\n",
    "'''\n",
    "with open(\"data_working/ee_annual_arr_profile.txt\", \"w+\") as prof:\n",
    "    with ee.profilePrinting(prof):\n",
    "        annual_arr.sample(scale=1000, numPixels=10, region=ca.geometry()).getInfo()\n",
    "'''"
   ]
  },
  {
   "cell_type": "markdown",
   "id": "2cea55b9-06cf-47f7-9c2d-dcfa883630bb",
   "metadata": {},
   "source": [
    "## Export options\n",
    "\n",
    "Tiled export vs. whole-image export. Tiling is necessary for array images because they have a lot more data."
   ]
  },
  {
   "cell_type": "code",
   "execution_count": 26,
   "id": "f12f99a8-fb06-458b-805f-d56b9d209b9e",
   "metadata": {},
   "outputs": [
    {
     "data": {
      "text/html": [
       "\n",
       "            <style>\n",
       "                .geemap-dark {\n",
       "                    --jp-widgets-color: white;\n",
       "                    --jp-widgets-label-color: white;\n",
       "                    --jp-ui-font-color1: white;\n",
       "                    --jp-layout-color2: #454545;\n",
       "                    background-color: #383838;\n",
       "                }\n",
       "\n",
       "                .geemap-dark .jupyter-button {\n",
       "                    --jp-layout-color3: #383838;\n",
       "                }\n",
       "\n",
       "                .geemap-colab {\n",
       "                    background-color: var(--colab-primary-surface-color, white);\n",
       "                }\n",
       "\n",
       "                .geemap-colab .jupyter-button {\n",
       "                    --jp-layout-color3: var(--colab-primary-surface-color, white);\n",
       "                }\n",
       "            </style>\n",
       "            "
      ],
      "text/plain": [
       "<IPython.core.display.HTML object>"
      ]
     },
     "metadata": {},
     "output_type": "display_data"
    },
    {
     "name": "stdout",
     "output_type": "stream",
     "text": [
      "Number of tiles: 203\n"
     ]
    },
    {
     "data": {
      "application/vnd.jupyter.widget-view+json": {
       "model_id": "019c2d0df9cc44f5b1a73b729dd13835",
       "version_major": 2,
       "version_minor": 0
      },
      "text/plain": [
       "Map(center=[0, 0], controls=(WidgetControl(options=['position', 'transparent_bg'], widget=SearchDataGUI(childr…"
      ]
     },
     "execution_count": 26,
     "metadata": {},
     "output_type": "execute_result"
    }
   ],
   "source": [
    "# Exporting the entire array image at once takes a long time. But, we would like to keep the tensors\n",
    "# \"dense\". So, split the export up across spatial tiles.\n",
    "# See https://google-earth-engine.com/Advanced-Topics/Scaling-up-in-Earth-Engine/\n",
    "grid_size = 64000 # m, effectively a 16x16 patch\n",
    "grid = CALIF.geometry().coveringGrid(annual_images[0].select(\"pct_mortality\").projection(), grid_size)\n",
    "tile_count = grid.size().getInfo()\n",
    "print(\"Number of tiles:\", tile_count)\n",
    "\n",
    "Map = geemap.Map()\n",
    "Map.addLayer(annual_images[0])\n",
    "Map.addLayer(grid)\n",
    "Map"
   ]
  },
  {
   "cell_type": "code",
   "execution_count": 27,
   "id": "104bd0ab-f0fe-4712-967f-bf68b4bc8967",
   "metadata": {},
   "outputs": [
    {
     "data": {
      "text/html": [
       "\n",
       "            <style>\n",
       "                .geemap-dark {\n",
       "                    --jp-widgets-color: white;\n",
       "                    --jp-widgets-label-color: white;\n",
       "                    --jp-ui-font-color1: white;\n",
       "                    --jp-layout-color2: #454545;\n",
       "                    background-color: #383838;\n",
       "                }\n",
       "\n",
       "                .geemap-dark .jupyter-button {\n",
       "                    --jp-layout-color3: #383838;\n",
       "                }\n",
       "\n",
       "                .geemap-colab {\n",
       "                    background-color: var(--colab-primary-surface-color, white);\n",
       "                }\n",
       "\n",
       "                .geemap-colab .jupyter-button {\n",
       "                    --jp-layout-color3: var(--colab-primary-surface-color, white);\n",
       "                }\n",
       "            </style>\n",
       "            "
      ],
      "text/plain": [
       "<IPython.core.display.HTML object>"
      ]
     },
     "metadata": {},
     "output_type": "display_data"
    }
   ],
   "source": [
    "def make_tile_export(idx, feature):\n",
    "    return ee.batch.Export.image.toCloudStorage(\n",
    "        description=\"preisler-tensors-\" + str(idx),\n",
    "        image=annual_images[0],\n",
    "        bucket=\"preisler_tfdata\",\n",
    "        fileNamePrefix=\"ca_dense_tensors_v3/tile\"+str(idx)+\"/\",\n",
    "        region=ee.Feature(feature).geometry(),\n",
    "        scale=CELL_SIZE,\n",
    "        crs=TARGET_PROJ,\n",
    "        fileFormat=\"TFRecord\",\n",
    "        formatOptions=dict(\n",
    "            patchDimensions=[1, 1]\n",
    "        )\n",
    "    )\n",
    "\n",
    "def make_image_export(img):\n",
    "    ms = img.get(\"system:time_start\").getInfo()\n",
    "    year = datetime.datetime.utcfromtimestamp(ms/1000.0).year\n",
    "    return ee.batch.Export.image.toCloudStorage(\n",
    "        description=\"preisler-tensors-\"+str(year),\n",
    "        image=img,\n",
    "        bucket=\"preisler_tfdata\",\n",
    "        fileNamePrefix=\"ca_whole_image/yr\"+str(year)+\"/\",\n",
    "        region=CALIF.geometry(),\n",
    "        scale=CELL_SIZE,\n",
    "        crs=TARGET_PROJ,\n",
    "        fileFormat=\"TFRecord\",\n",
    "        formatOptions=dict(\n",
    "            patchDimensions=[1, 1]\n",
    "        )\n",
    "    )"
   ]
  },
  {
   "cell_type": "code",
   "execution_count": 28,
   "id": "282bb24a-1cda-4404-b532-d3fce2d21bf2",
   "metadata": {},
   "outputs": [
    {
     "data": {
      "text/html": [
       "\n",
       "            <style>\n",
       "                .geemap-dark {\n",
       "                    --jp-widgets-color: white;\n",
       "                    --jp-widgets-label-color: white;\n",
       "                    --jp-ui-font-color1: white;\n",
       "                    --jp-layout-color2: #454545;\n",
       "                    background-color: #383838;\n",
       "                }\n",
       "\n",
       "                .geemap-dark .jupyter-button {\n",
       "                    --jp-layout-color3: #383838;\n",
       "                }\n",
       "\n",
       "                .geemap-colab {\n",
       "                    background-color: var(--colab-primary-surface-color, white);\n",
       "                }\n",
       "\n",
       "                .geemap-colab .jupyter-button {\n",
       "                    --jp-layout-color3: var(--colab-primary-surface-color, white);\n",
       "                }\n",
       "            </style>\n",
       "            "
      ],
      "text/plain": [
       "<IPython.core.display.HTML object>"
      ]
     },
     "metadata": {},
     "output_type": "display_data"
    }
   ],
   "source": [
    "img_tasks = [make_image_export(img) for img in annual_images]"
   ]
  },
  {
   "cell_type": "code",
   "execution_count": 29,
   "id": "4c9186fa-51f9-45bb-b8ab-2d1ae448895e",
   "metadata": {},
   "outputs": [
    {
     "data": {
      "text/html": [
       "\n",
       "            <style>\n",
       "                .geemap-dark {\n",
       "                    --jp-widgets-color: white;\n",
       "                    --jp-widgets-label-color: white;\n",
       "                    --jp-ui-font-color1: white;\n",
       "                    --jp-layout-color2: #454545;\n",
       "                    background-color: #383838;\n",
       "                }\n",
       "\n",
       "                .geemap-dark .jupyter-button {\n",
       "                    --jp-layout-color3: #383838;\n",
       "                }\n",
       "\n",
       "                .geemap-colab {\n",
       "                    background-color: var(--colab-primary-surface-color, white);\n",
       "                }\n",
       "\n",
       "                .geemap-colab .jupyter-button {\n",
       "                    --jp-layout-color3: var(--colab-primary-surface-color, white);\n",
       "                }\n",
       "            </style>\n",
       "            "
      ],
      "text/plain": [
       "<IPython.core.display.HTML object>"
      ]
     },
     "metadata": {},
     "output_type": "display_data"
    }
   ],
   "source": [
    "# for t in img_tasks: t.start()"
   ]
  },
  {
   "cell_type": "markdown",
   "id": "5a2568e3-5945-4065-8a2e-fceaf545aadb",
   "metadata": {},
   "source": [
    "### Rectangular export\n",
    "\n",
    "TFRecord export is not worth it for pixel-wise classification. Instead, exhaustively sample all pixels and export as CSV."
   ]
  },
  {
   "cell_type": "code",
   "execution_count": 30,
   "id": "8014c46e-d234-42d7-b6c9-a93ef7df8016",
   "metadata": {},
   "outputs": [
    {
     "data": {
      "text/html": [
       "\n",
       "            <style>\n",
       "                .geemap-dark {\n",
       "                    --jp-widgets-color: white;\n",
       "                    --jp-widgets-label-color: white;\n",
       "                    --jp-ui-font-color1: white;\n",
       "                    --jp-layout-color2: #454545;\n",
       "                    background-color: #383838;\n",
       "                }\n",
       "\n",
       "                .geemap-dark .jupyter-button {\n",
       "                    --jp-layout-color3: #383838;\n",
       "                }\n",
       "\n",
       "                .geemap-colab {\n",
       "                    background-color: var(--colab-primary-surface-color, white);\n",
       "                }\n",
       "\n",
       "                .geemap-colab .jupyter-button {\n",
       "                    --jp-layout-color3: var(--colab-primary-surface-color, white);\n",
       "                }\n",
       "            </style>\n",
       "            "
      ],
      "text/plain": [
       "<IPython.core.display.HTML object>"
      ]
     },
     "metadata": {},
     "output_type": "display_data"
    }
   ],
   "source": [
    "def make_image_sample(img):\n",
    "    ms = img.get(\"system:time_start\").getInfo()\n",
    "    year = datetime.datetime.utcfromtimestamp(ms/1000.0).year\n",
    "    \n",
    "    sample = img.sample(\n",
    "        region=CALIF.geometry(),\n",
    "        scale=CELL_SIZE,\n",
    "        projection=TARGET_PROJ\n",
    "    ).map(lambda x: x.setGeometry(None))\n",
    "\n",
    "    return ee.batch.Export.table.toCloudStorage(\n",
    "        description=\"yr{}\".format(year),\n",
    "        fileNamePrefix=\"preisler-rectangular/yr{}\".format(year),\n",
    "        collection=sample,\n",
    "        bucket=\"preisler_tfdata\"\n",
    "    )\n",
    "\n",
    "# sample_collection = ee.ImageCollection(annual_images).map(make_image_sample).flatten()\n",
    "\n",
    "tasks = [make_image_sample(img) for img in annual_images]"
   ]
  },
  {
   "cell_type": "code",
   "execution_count": 31,
   "id": "730dfdd0-cd06-4b76-a60e-0a07f97ed24c",
   "metadata": {},
   "outputs": [
    {
     "data": {
      "text/html": [
       "\n",
       "            <style>\n",
       "                .geemap-dark {\n",
       "                    --jp-widgets-color: white;\n",
       "                    --jp-widgets-label-color: white;\n",
       "                    --jp-ui-font-color1: white;\n",
       "                    --jp-layout-color2: #454545;\n",
       "                    background-color: #383838;\n",
       "                }\n",
       "\n",
       "                .geemap-dark .jupyter-button {\n",
       "                    --jp-layout-color3: #383838;\n",
       "                }\n",
       "\n",
       "                .geemap-colab {\n",
       "                    background-color: var(--colab-primary-surface-color, white);\n",
       "                }\n",
       "\n",
       "                .geemap-colab .jupyter-button {\n",
       "                    --jp-layout-color3: var(--colab-primary-surface-color, white);\n",
       "                }\n",
       "            </style>\n",
       "            "
      ],
      "text/plain": [
       "<IPython.core.display.HTML object>"
      ]
     },
     "metadata": {},
     "output_type": "display_data"
    }
   ],
   "source": [
    "for t in tasks: t.start()"
   ]
  },
  {
   "cell_type": "markdown",
   "id": "737cea16-351e-4414-a356-cf8d39402664",
   "metadata": {},
   "source": [
    "### Export images as assets\n",
    "In case we want to mess with them in the code editor."
   ]
  },
  {
   "cell_type": "raw",
   "id": "07d4d6cb-f78a-4656-8b86-088063fd0d89",
   "metadata": {},
   "source": [
    "!earthengine create collection projects/forest-lst/assets/preisler-annual-images"
   ]
  },
  {
   "cell_type": "code",
   "execution_count": 32,
   "id": "68f81c29-3251-4b0c-8b27-16958e40b7d3",
   "metadata": {},
   "outputs": [
    {
     "data": {
      "text/html": [
       "\n",
       "            <style>\n",
       "                .geemap-dark {\n",
       "                    --jp-widgets-color: white;\n",
       "                    --jp-widgets-label-color: white;\n",
       "                    --jp-ui-font-color1: white;\n",
       "                    --jp-layout-color2: #454545;\n",
       "                    background-color: #383838;\n",
       "                }\n",
       "\n",
       "                .geemap-dark .jupyter-button {\n",
       "                    --jp-layout-color3: #383838;\n",
       "                }\n",
       "\n",
       "                .geemap-colab {\n",
       "                    background-color: var(--colab-primary-surface-color, white);\n",
       "                }\n",
       "\n",
       "                .geemap-colab .jupyter-button {\n",
       "                    --jp-layout-color3: var(--colab-primary-surface-color, white);\n",
       "                }\n",
       "            </style>\n",
       "            "
      ],
      "text/plain": [
       "<IPython.core.display.HTML object>"
      ]
     },
     "metadata": {},
     "output_type": "display_data"
    }
   ],
   "source": [
    "def make_image_export(img):\n",
    "    ms = img.get(\"system:time_start\").getInfo()\n",
    "    year = datetime.datetime.utcfromtimestamp(ms/1000.0).year\n",
    "    \n",
    "    return ee.batch.Export.image.toAsset(\n",
    "        image=img,\n",
    "        description=\"preisler-annual-image-{}\".format(year),\n",
    "        assetId=\"projects/forest-lst/assets/preisler-annual-images/{}\".format(year),\n",
    "        region=CALIF.geometry(),\n",
    "        scale=CELL_SIZE,\n",
    "        crs=TARGET_PROJ\n",
    "    )\n",
    "\n",
    "tasks = [make_image_export(img) for img in annual_images]"
   ]
  },
  {
   "cell_type": "code",
   "execution_count": 33,
   "id": "6d0eea04-3032-4f02-860e-410cb8e84a70",
   "metadata": {},
   "outputs": [
    {
     "data": {
      "text/html": [
       "\n",
       "            <style>\n",
       "                .geemap-dark {\n",
       "                    --jp-widgets-color: white;\n",
       "                    --jp-widgets-label-color: white;\n",
       "                    --jp-ui-font-color1: white;\n",
       "                    --jp-layout-color2: #454545;\n",
       "                    background-color: #383838;\n",
       "                }\n",
       "\n",
       "                .geemap-dark .jupyter-button {\n",
       "                    --jp-layout-color3: #383838;\n",
       "                }\n",
       "\n",
       "                .geemap-colab {\n",
       "                    background-color: var(--colab-primary-surface-color, white);\n",
       "                }\n",
       "\n",
       "                .geemap-colab .jupyter-button {\n",
       "                    --jp-layout-color3: var(--colab-primary-surface-color, white);\n",
       "                }\n",
       "            </style>\n",
       "            "
      ],
      "text/plain": [
       "<IPython.core.display.HTML object>"
      ]
     },
     "metadata": {},
     "output_type": "display_data"
    }
   ],
   "source": [
    "for t in tasks: t.start()"
   ]
  }
 ],
 "metadata": {
  "kernelspec": {
   "display_name": "Python 3 (ipykernel)",
   "language": "python",
   "name": "python3"
  },
  "language_info": {
   "codemirror_mode": {
    "name": "ipython",
    "version": 3
   },
   "file_extension": ".py",
   "mimetype": "text/x-python",
   "name": "python",
   "nbconvert_exporter": "python",
   "pygments_lexer": "ipython3",
   "version": "3.11.9"
  }
 },
 "nbformat": 4,
 "nbformat_minor": 5
}
