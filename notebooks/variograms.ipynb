{
 "cells": [
  {
   "cell_type": "markdown",
   "id": "bf8ca29d-63ed-45cb-ac67-0df74eac81e7",
   "metadata": {},
   "source": [
    "Over what distance are mortality events related? In other words, what is the range of spatial autocorrelation in the data? The window we use in the convnets should be large enough to capture this range."
   ]
  },
  {
   "cell_type": "code",
   "execution_count": 1,
   "id": "8f52be36-3379-494d-9e6c-c49bc9e68ec7",
   "metadata": {},
   "outputs": [],
   "source": [
    "%%capture\n",
    "!pip install scikit-gstat"
   ]
  },
  {
   "cell_type": "code",
   "execution_count": 2,
   "id": "855b35ee-69d4-4eb6-be5b-603c34e17b48",
   "metadata": {},
   "outputs": [],
   "source": [
    "import xarray as xr\n",
    "import numpy as np\n",
    "from matplotlib import pyplot as plt\n",
    "import skgstat as skg\n",
    "\n",
    "import os\n",
    "if 'notebooks' in os.getcwd():\n",
    "    os.chdir(\"..\")"
   ]
  },
  {
   "cell_type": "markdown",
   "id": "3de012e9-10a0-44ff-b86a-b3098dc4e415",
   "metadata": {},
   "source": [
    "## Prepare data\n",
    "\n",
    "We only care about the damage rasters here so we can just get that variable."
   ]
  },
  {
   "cell_type": "code",
   "execution_count": 3,
   "id": "d37978ce-dded-490c-8852-f5716f040500",
   "metadata": {},
   "outputs": [
    {
     "data": {
      "text/html": [
       "<div><svg style=\"position: absolute; width: 0; height: 0; overflow: hidden\">\n",
       "<defs>\n",
       "<symbol id=\"icon-database\" viewBox=\"0 0 32 32\">\n",
       "<path d=\"M16 0c-8.837 0-16 2.239-16 5v4c0 2.761 7.163 5 16 5s16-2.239 16-5v-4c0-2.761-7.163-5-16-5z\"></path>\n",
       "<path d=\"M16 17c-8.837 0-16-2.239-16-5v6c0 2.761 7.163 5 16 5s16-2.239 16-5v-6c0 2.761-7.163 5-16 5z\"></path>\n",
       "<path d=\"M16 26c-8.837 0-16-2.239-16-5v6c0 2.761 7.163 5 16 5s16-2.239 16-5v-6c0 2.761-7.163 5-16 5z\"></path>\n",
       "</symbol>\n",
       "<symbol id=\"icon-file-text2\" viewBox=\"0 0 32 32\">\n",
       "<path d=\"M28.681 7.159c-0.694-0.947-1.662-2.053-2.724-3.116s-2.169-2.030-3.116-2.724c-1.612-1.182-2.393-1.319-2.841-1.319h-15.5c-1.378 0-2.5 1.121-2.5 2.5v27c0 1.378 1.122 2.5 2.5 2.5h23c1.378 0 2.5-1.122 2.5-2.5v-19.5c0-0.448-0.137-1.23-1.319-2.841zM24.543 5.457c0.959 0.959 1.712 1.825 2.268 2.543h-4.811v-4.811c0.718 0.556 1.584 1.309 2.543 2.268zM28 29.5c0 0.271-0.229 0.5-0.5 0.5h-23c-0.271 0-0.5-0.229-0.5-0.5v-27c0-0.271 0.229-0.5 0.5-0.5 0 0 15.499-0 15.5 0v7c0 0.552 0.448 1 1 1h7v19.5z\"></path>\n",
       "<path d=\"M23 26h-14c-0.552 0-1-0.448-1-1s0.448-1 1-1h14c0.552 0 1 0.448 1 1s-0.448 1-1 1z\"></path>\n",
       "<path d=\"M23 22h-14c-0.552 0-1-0.448-1-1s0.448-1 1-1h14c0.552 0 1 0.448 1 1s-0.448 1-1 1z\"></path>\n",
       "<path d=\"M23 18h-14c-0.552 0-1-0.448-1-1s0.448-1 1-1h14c0.552 0 1 0.448 1 1s-0.448 1-1 1z\"></path>\n",
       "</symbol>\n",
       "</defs>\n",
       "</svg>\n",
       "<style>/* CSS stylesheet for displaying xarray objects in jupyterlab.\n",
       " *\n",
       " */\n",
       "\n",
       ":root {\n",
       "  --xr-font-color0: var(--jp-content-font-color0, rgba(0, 0, 0, 1));\n",
       "  --xr-font-color2: var(--jp-content-font-color2, rgba(0, 0, 0, 0.54));\n",
       "  --xr-font-color3: var(--jp-content-font-color3, rgba(0, 0, 0, 0.38));\n",
       "  --xr-border-color: var(--jp-border-color2, #e0e0e0);\n",
       "  --xr-disabled-color: var(--jp-layout-color3, #bdbdbd);\n",
       "  --xr-background-color: var(--jp-layout-color0, white);\n",
       "  --xr-background-color-row-even: var(--jp-layout-color1, white);\n",
       "  --xr-background-color-row-odd: var(--jp-layout-color2, #eeeeee);\n",
       "}\n",
       "\n",
       "html[theme=dark],\n",
       "html[data-theme=dark],\n",
       "body[data-theme=dark],\n",
       "body.vscode-dark {\n",
       "  --xr-font-color0: rgba(255, 255, 255, 1);\n",
       "  --xr-font-color2: rgba(255, 255, 255, 0.54);\n",
       "  --xr-font-color3: rgba(255, 255, 255, 0.38);\n",
       "  --xr-border-color: #1F1F1F;\n",
       "  --xr-disabled-color: #515151;\n",
       "  --xr-background-color: #111111;\n",
       "  --xr-background-color-row-even: #111111;\n",
       "  --xr-background-color-row-odd: #313131;\n",
       "}\n",
       "\n",
       ".xr-wrap {\n",
       "  display: block !important;\n",
       "  min-width: 300px;\n",
       "  max-width: 700px;\n",
       "}\n",
       "\n",
       ".xr-text-repr-fallback {\n",
       "  /* fallback to plain text repr when CSS is not injected (untrusted notebook) */\n",
       "  display: none;\n",
       "}\n",
       "\n",
       ".xr-header {\n",
       "  padding-top: 6px;\n",
       "  padding-bottom: 6px;\n",
       "  margin-bottom: 4px;\n",
       "  border-bottom: solid 1px var(--xr-border-color);\n",
       "}\n",
       "\n",
       ".xr-header > div,\n",
       ".xr-header > ul {\n",
       "  display: inline;\n",
       "  margin-top: 0;\n",
       "  margin-bottom: 0;\n",
       "}\n",
       "\n",
       ".xr-obj-type,\n",
       ".xr-array-name {\n",
       "  margin-left: 2px;\n",
       "  margin-right: 10px;\n",
       "}\n",
       "\n",
       ".xr-obj-type {\n",
       "  color: var(--xr-font-color2);\n",
       "}\n",
       "\n",
       ".xr-sections {\n",
       "  padding-left: 0 !important;\n",
       "  display: grid;\n",
       "  grid-template-columns: 150px auto auto 1fr 20px 20px;\n",
       "}\n",
       "\n",
       ".xr-section-item {\n",
       "  display: contents;\n",
       "}\n",
       "\n",
       ".xr-section-item input {\n",
       "  display: none;\n",
       "}\n",
       "\n",
       ".xr-section-item input + label {\n",
       "  color: var(--xr-disabled-color);\n",
       "}\n",
       "\n",
       ".xr-section-item input:enabled + label {\n",
       "  cursor: pointer;\n",
       "  color: var(--xr-font-color2);\n",
       "}\n",
       "\n",
       ".xr-section-item input:enabled + label:hover {\n",
       "  color: var(--xr-font-color0);\n",
       "}\n",
       "\n",
       ".xr-section-summary {\n",
       "  grid-column: 1;\n",
       "  color: var(--xr-font-color2);\n",
       "  font-weight: 500;\n",
       "}\n",
       "\n",
       ".xr-section-summary > span {\n",
       "  display: inline-block;\n",
       "  padding-left: 0.5em;\n",
       "}\n",
       "\n",
       ".xr-section-summary-in:disabled + label {\n",
       "  color: var(--xr-font-color2);\n",
       "}\n",
       "\n",
       ".xr-section-summary-in + label:before {\n",
       "  display: inline-block;\n",
       "  content: '►';\n",
       "  font-size: 11px;\n",
       "  width: 15px;\n",
       "  text-align: center;\n",
       "}\n",
       "\n",
       ".xr-section-summary-in:disabled + label:before {\n",
       "  color: var(--xr-disabled-color);\n",
       "}\n",
       "\n",
       ".xr-section-summary-in:checked + label:before {\n",
       "  content: '▼';\n",
       "}\n",
       "\n",
       ".xr-section-summary-in:checked + label > span {\n",
       "  display: none;\n",
       "}\n",
       "\n",
       ".xr-section-summary,\n",
       ".xr-section-inline-details {\n",
       "  padding-top: 4px;\n",
       "  padding-bottom: 4px;\n",
       "}\n",
       "\n",
       ".xr-section-inline-details {\n",
       "  grid-column: 2 / -1;\n",
       "}\n",
       "\n",
       ".xr-section-details {\n",
       "  display: none;\n",
       "  grid-column: 1 / -1;\n",
       "  margin-bottom: 5px;\n",
       "}\n",
       "\n",
       ".xr-section-summary-in:checked ~ .xr-section-details {\n",
       "  display: contents;\n",
       "}\n",
       "\n",
       ".xr-array-wrap {\n",
       "  grid-column: 1 / -1;\n",
       "  display: grid;\n",
       "  grid-template-columns: 20px auto;\n",
       "}\n",
       "\n",
       ".xr-array-wrap > label {\n",
       "  grid-column: 1;\n",
       "  vertical-align: top;\n",
       "}\n",
       "\n",
       ".xr-preview {\n",
       "  color: var(--xr-font-color3);\n",
       "}\n",
       "\n",
       ".xr-array-preview,\n",
       ".xr-array-data {\n",
       "  padding: 0 5px !important;\n",
       "  grid-column: 2;\n",
       "}\n",
       "\n",
       ".xr-array-data,\n",
       ".xr-array-in:checked ~ .xr-array-preview {\n",
       "  display: none;\n",
       "}\n",
       "\n",
       ".xr-array-in:checked ~ .xr-array-data,\n",
       ".xr-array-preview {\n",
       "  display: inline-block;\n",
       "}\n",
       "\n",
       ".xr-dim-list {\n",
       "  display: inline-block !important;\n",
       "  list-style: none;\n",
       "  padding: 0 !important;\n",
       "  margin: 0;\n",
       "}\n",
       "\n",
       ".xr-dim-list li {\n",
       "  display: inline-block;\n",
       "  padding: 0;\n",
       "  margin: 0;\n",
       "}\n",
       "\n",
       ".xr-dim-list:before {\n",
       "  content: '(';\n",
       "}\n",
       "\n",
       ".xr-dim-list:after {\n",
       "  content: ')';\n",
       "}\n",
       "\n",
       ".xr-dim-list li:not(:last-child):after {\n",
       "  content: ',';\n",
       "  padding-right: 5px;\n",
       "}\n",
       "\n",
       ".xr-has-index {\n",
       "  font-weight: bold;\n",
       "}\n",
       "\n",
       ".xr-var-list,\n",
       ".xr-var-item {\n",
       "  display: contents;\n",
       "}\n",
       "\n",
       ".xr-var-item > div,\n",
       ".xr-var-item label,\n",
       ".xr-var-item > .xr-var-name span {\n",
       "  background-color: var(--xr-background-color-row-even);\n",
       "  margin-bottom: 0;\n",
       "}\n",
       "\n",
       ".xr-var-item > .xr-var-name:hover span {\n",
       "  padding-right: 5px;\n",
       "}\n",
       "\n",
       ".xr-var-list > li:nth-child(odd) > div,\n",
       ".xr-var-list > li:nth-child(odd) > label,\n",
       ".xr-var-list > li:nth-child(odd) > .xr-var-name span {\n",
       "  background-color: var(--xr-background-color-row-odd);\n",
       "}\n",
       "\n",
       ".xr-var-name {\n",
       "  grid-column: 1;\n",
       "}\n",
       "\n",
       ".xr-var-dims {\n",
       "  grid-column: 2;\n",
       "}\n",
       "\n",
       ".xr-var-dtype {\n",
       "  grid-column: 3;\n",
       "  text-align: right;\n",
       "  color: var(--xr-font-color2);\n",
       "}\n",
       "\n",
       ".xr-var-preview {\n",
       "  grid-column: 4;\n",
       "}\n",
       "\n",
       ".xr-index-preview {\n",
       "  grid-column: 2 / 5;\n",
       "  color: var(--xr-font-color2);\n",
       "}\n",
       "\n",
       ".xr-var-name,\n",
       ".xr-var-dims,\n",
       ".xr-var-dtype,\n",
       ".xr-preview,\n",
       ".xr-attrs dt {\n",
       "  white-space: nowrap;\n",
       "  overflow: hidden;\n",
       "  text-overflow: ellipsis;\n",
       "  padding-right: 10px;\n",
       "}\n",
       "\n",
       ".xr-var-name:hover,\n",
       ".xr-var-dims:hover,\n",
       ".xr-var-dtype:hover,\n",
       ".xr-attrs dt:hover {\n",
       "  overflow: visible;\n",
       "  width: auto;\n",
       "  z-index: 1;\n",
       "}\n",
       "\n",
       ".xr-var-attrs,\n",
       ".xr-var-data,\n",
       ".xr-index-data {\n",
       "  display: none;\n",
       "  background-color: var(--xr-background-color) !important;\n",
       "  padding-bottom: 5px !important;\n",
       "}\n",
       "\n",
       ".xr-var-attrs-in:checked ~ .xr-var-attrs,\n",
       ".xr-var-data-in:checked ~ .xr-var-data,\n",
       ".xr-index-data-in:checked ~ .xr-index-data {\n",
       "  display: block;\n",
       "}\n",
       "\n",
       ".xr-var-data > table {\n",
       "  float: right;\n",
       "}\n",
       "\n",
       ".xr-var-name span,\n",
       ".xr-var-data,\n",
       ".xr-index-name div,\n",
       ".xr-index-data,\n",
       ".xr-attrs {\n",
       "  padding-left: 25px !important;\n",
       "}\n",
       "\n",
       ".xr-attrs,\n",
       ".xr-var-attrs,\n",
       ".xr-var-data,\n",
       ".xr-index-data {\n",
       "  grid-column: 1 / -1;\n",
       "}\n",
       "\n",
       "dl.xr-attrs {\n",
       "  padding: 0;\n",
       "  margin: 0;\n",
       "  display: grid;\n",
       "  grid-template-columns: 125px auto;\n",
       "}\n",
       "\n",
       ".xr-attrs dt,\n",
       ".xr-attrs dd {\n",
       "  padding: 0;\n",
       "  margin: 0;\n",
       "  float: left;\n",
       "  padding-right: 10px;\n",
       "  width: auto;\n",
       "}\n",
       "\n",
       ".xr-attrs dt {\n",
       "  font-weight: normal;\n",
       "  grid-column: 1;\n",
       "}\n",
       "\n",
       ".xr-attrs dt:hover span {\n",
       "  display: inline-block;\n",
       "  background: var(--xr-background-color);\n",
       "  padding-right: 10px;\n",
       "}\n",
       "\n",
       ".xr-attrs dd {\n",
       "  grid-column: 2;\n",
       "  white-space: pre-wrap;\n",
       "  word-break: break-all;\n",
       "}\n",
       "\n",
       ".xr-icon-database,\n",
       ".xr-icon-file-text2,\n",
       ".xr-no-icon {\n",
       "  display: inline-block;\n",
       "  vertical-align: middle;\n",
       "  width: 1em;\n",
       "  height: 1.5em !important;\n",
       "  stroke-width: 0;\n",
       "  stroke: currentColor;\n",
       "  fill: currentColor;\n",
       "}\n",
       "</style><pre class='xr-text-repr-fallback'>&lt;xarray.DataArray &#x27;mortality&#x27; (time: 27, y: 652, x: 590)&gt; Size: 42MB\n",
       "[10386360 values with dtype=float32]\n",
       "Coordinates:\n",
       "  * time     (time) int64 216B 1997 1998 1999 2000 2001 ... 2020 2021 2022 2023\n",
       "  * x        (x) float64 5kB -1.389e+07 -1.389e+07 ... -1.154e+07 -1.154e+07\n",
       "  * y        (y) float64 5kB 6.278e+06 6.274e+06 ... 3.678e+06 3.674e+06</pre><div class='xr-wrap' style='display:none'><div class='xr-header'><div class='xr-obj-type'>xarray.DataArray</div><div class='xr-array-name'>'mortality'</div><ul class='xr-dim-list'><li><span class='xr-has-index'>time</span>: 27</li><li><span class='xr-has-index'>y</span>: 652</li><li><span class='xr-has-index'>x</span>: 590</li></ul></div><ul class='xr-sections'><li class='xr-section-item'><div class='xr-array-wrap'><input id='section-23d70825-9c7e-4f6c-8315-06a23afc735c' class='xr-array-in' type='checkbox' checked><label for='section-23d70825-9c7e-4f6c-8315-06a23afc735c' title='Show/hide data repr'><svg class='icon xr-icon-database'><use xlink:href='#icon-database'></use></svg></label><div class='xr-array-preview xr-preview'><span>...</span></div><div class='xr-array-data'><pre>[10386360 values with dtype=float32]</pre></div></div></li><li class='xr-section-item'><input id='section-dad6bb1c-a176-4232-acde-ebd8f1b7d569' class='xr-section-summary-in' type='checkbox'  checked><label for='section-dad6bb1c-a176-4232-acde-ebd8f1b7d569' class='xr-section-summary' >Coordinates: <span>(3)</span></label><div class='xr-section-inline-details'></div><div class='xr-section-details'><ul class='xr-var-list'><li class='xr-var-item'><div class='xr-var-name'><span class='xr-has-index'>time</span></div><div class='xr-var-dims'>(time)</div><div class='xr-var-dtype'>int64</div><div class='xr-var-preview xr-preview'>1997 1998 1999 ... 2021 2022 2023</div><input id='attrs-1c346324-b0d2-4a03-81bc-cd3f8d8614db' class='xr-var-attrs-in' type='checkbox' disabled><label for='attrs-1c346324-b0d2-4a03-81bc-cd3f8d8614db' title='Show/Hide attributes'><svg class='icon xr-icon-file-text2'><use xlink:href='#icon-file-text2'></use></svg></label><input id='data-2348d1ee-ee2e-49c9-b049-ed1afa784e93' class='xr-var-data-in' type='checkbox'><label for='data-2348d1ee-ee2e-49c9-b049-ed1afa784e93' title='Show/Hide data repr'><svg class='icon xr-icon-database'><use xlink:href='#icon-database'></use></svg></label><div class='xr-var-attrs'><dl class='xr-attrs'></dl></div><div class='xr-var-data'><pre>array([1997, 1998, 1999, 2000, 2001, 2002, 2003, 2004, 2005, 2006, 2007, 2008,\n",
       "       2009, 2010, 2011, 2012, 2013, 2014, 2015, 2016, 2017, 2018, 2019, 2020,\n",
       "       2021, 2022, 2023])</pre></div></li><li class='xr-var-item'><div class='xr-var-name'><span class='xr-has-index'>x</span></div><div class='xr-var-dims'>(x)</div><div class='xr-var-dtype'>float64</div><div class='xr-var-preview xr-preview'>-1.389e+07 ... -1.154e+07</div><input id='attrs-25847eba-3324-4ef8-899f-6d9b57b18e6f' class='xr-var-attrs-in' type='checkbox' disabled><label for='attrs-25847eba-3324-4ef8-899f-6d9b57b18e6f' title='Show/Hide attributes'><svg class='icon xr-icon-file-text2'><use xlink:href='#icon-file-text2'></use></svg></label><input id='data-ce348b28-cf38-4763-abc9-ea1d244a1424' class='xr-var-data-in' type='checkbox'><label for='data-ce348b28-cf38-4763-abc9-ea1d244a1424' title='Show/Hide data repr'><svg class='icon xr-icon-database'><use xlink:href='#icon-database'></use></svg></label><div class='xr-var-attrs'><dl class='xr-attrs'></dl></div><div class='xr-var-data'><pre>array([-13894215.609, -13890215.609, -13886215.609, ..., -11546215.609,\n",
       "       -11542215.609, -11538215.609])</pre></div></li><li class='xr-var-item'><div class='xr-var-name'><span class='xr-has-index'>y</span></div><div class='xr-var-dims'>(y)</div><div class='xr-var-dtype'>float64</div><div class='xr-var-preview xr-preview'>6.278e+06 6.274e+06 ... 3.674e+06</div><input id='attrs-fb24c6d6-dc13-42c9-9d30-608d503a8898' class='xr-var-attrs-in' type='checkbox' disabled><label for='attrs-fb24c6d6-dc13-42c9-9d30-608d503a8898' title='Show/Hide attributes'><svg class='icon xr-icon-file-text2'><use xlink:href='#icon-file-text2'></use></svg></label><input id='data-0860cebd-6270-479e-b652-2b990ae5f9de' class='xr-var-data-in' type='checkbox'><label for='data-0860cebd-6270-479e-b652-2b990ae5f9de' title='Show/Hide data repr'><svg class='icon xr-icon-database'><use xlink:href='#icon-database'></use></svg></label><div class='xr-var-attrs'><dl class='xr-attrs'></dl></div><div class='xr-var-data'><pre>array([6278302.419, 6274302.419, 6270302.419, ..., 3682302.419, 3678302.419,\n",
       "       3674302.419])</pre></div></li></ul></div></li><li class='xr-section-item'><input id='section-9736530a-5bc5-465d-bb21-75a0a8cd4f81' class='xr-section-summary-in' type='checkbox'  ><label for='section-9736530a-5bc5-465d-bb21-75a0a8cd4f81' class='xr-section-summary' >Indexes: <span>(3)</span></label><div class='xr-section-inline-details'></div><div class='xr-section-details'><ul class='xr-var-list'><li class='xr-var-item'><div class='xr-index-name'><div>time</div></div><div class='xr-index-preview'>PandasIndex</div><div></div><input id='index-ae152d0c-9824-437a-9af8-ab5e62dedf0b' class='xr-index-data-in' type='checkbox'/><label for='index-ae152d0c-9824-437a-9af8-ab5e62dedf0b' title='Show/Hide index repr'><svg class='icon xr-icon-database'><use xlink:href='#icon-database'></use></svg></label><div class='xr-index-data'><pre>PandasIndex(Index([1997, 1998, 1999, 2000, 2001, 2002, 2003, 2004, 2005, 2006, 2007, 2008,\n",
       "       2009, 2010, 2011, 2012, 2013, 2014, 2015, 2016, 2017, 2018, 2019, 2020,\n",
       "       2021, 2022, 2023],\n",
       "      dtype=&#x27;int64&#x27;, name=&#x27;time&#x27;))</pre></div></li><li class='xr-var-item'><div class='xr-index-name'><div>x</div></div><div class='xr-index-preview'>PandasIndex</div><div></div><input id='index-3ffef343-a24b-4b3e-9a7c-66f101cc160c' class='xr-index-data-in' type='checkbox'/><label for='index-3ffef343-a24b-4b3e-9a7c-66f101cc160c' title='Show/Hide index repr'><svg class='icon xr-icon-database'><use xlink:href='#icon-database'></use></svg></label><div class='xr-index-data'><pre>PandasIndex(Index([-13894215.609, -13890215.609, -13886215.609, -13882215.609,\n",
       "       -13878215.609, -13874215.609, -13870215.609, -13866215.609,\n",
       "       -13862215.609, -13858215.609,\n",
       "       ...\n",
       "       -11574215.609, -11570215.609, -11566215.609, -11562215.609,\n",
       "       -11558215.609, -11554215.609, -11550215.609, -11546215.609,\n",
       "       -11542215.609, -11538215.609],\n",
       "      dtype=&#x27;float64&#x27;, name=&#x27;x&#x27;, length=590))</pre></div></li><li class='xr-var-item'><div class='xr-index-name'><div>y</div></div><div class='xr-index-preview'>PandasIndex</div><div></div><input id='index-dca9d7b9-59e7-4eb0-b690-3a796a03f236' class='xr-index-data-in' type='checkbox'/><label for='index-dca9d7b9-59e7-4eb0-b690-3a796a03f236' title='Show/Hide index repr'><svg class='icon xr-icon-database'><use xlink:href='#icon-database'></use></svg></label><div class='xr-index-data'><pre>PandasIndex(Index([       6278302.419,        6274302.419,        6270302.419,\n",
       "              6266302.419,        6262302.419,        6258302.419,\n",
       "              6254302.419,        6250302.419,        6246302.419,\n",
       "              6242302.419,\n",
       "       ...\n",
       "       3710302.4189999998, 3706302.4189999998, 3702302.4189999998,\n",
       "       3698302.4189999998, 3694302.4189999998, 3690302.4189999998,\n",
       "       3686302.4189999998, 3682302.4189999998, 3678302.4189999998,\n",
       "       3674302.4189999998],\n",
       "      dtype=&#x27;float64&#x27;, name=&#x27;y&#x27;, length=652))</pre></div></li></ul></div></li><li class='xr-section-item'><input id='section-470a8b39-c350-4b23-b643-4b1ad5d5bc1b' class='xr-section-summary-in' type='checkbox' disabled ><label for='section-470a8b39-c350-4b23-b643-4b1ad5d5bc1b' class='xr-section-summary'  title='Expand/collapse section'>Attributes: <span>(0)</span></label><div class='xr-section-inline-details'></div><div class='xr-section-details'><dl class='xr-attrs'></dl></div></li></ul></div></div>"
      ],
      "text/plain": [
       "<xarray.DataArray 'mortality' (time: 27, y: 652, x: 590)> Size: 42MB\n",
       "[10386360 values with dtype=float32]\n",
       "Coordinates:\n",
       "  * time     (time) int64 216B 1997 1998 1999 2000 2001 ... 2020 2021 2022 2023\n",
       "  * x        (x) float64 5kB -1.389e+07 -1.389e+07 ... -1.154e+07 -1.154e+07\n",
       "  * y        (y) float64 5kB 6.278e+06 6.274e+06 ... 3.678e+06 3.674e+06"
      ]
     },
     "execution_count": 3,
     "metadata": {},
     "output_type": "execute_result"
    }
   ],
   "source": [
    "ds = xr.open_dataset(\"data_working/westmort.nc\")[\"mortality\"]\n",
    "ds"
   ]
  },
  {
   "cell_type": "markdown",
   "id": "84b20c3d-38bf-4a48-8250-d78c164dab9c",
   "metadata": {},
   "source": [
    "Isolate the coordinates and values of non-NA cells. The package includes a `SpaceTimeVariogram` class for incorporating distance over space and time. The class does not handle missing values, so we have to pick out cells with a complete time series."
   ]
  },
  {
   "cell_type": "code",
   "execution_count": 4,
   "id": "ef432c82-0c66-481e-a29e-1847d8628c71",
   "metadata": {},
   "outputs": [
    {
     "data": {
      "text/plain": [
       "<matplotlib.collections.QuadMesh at 0x7fce9f7b3d50>"
      ]
     },
     "execution_count": 4,
     "metadata": {},
     "output_type": "execute_result"
    },
    {
     "data": {
      "image/png": "[encoded data removed]",
      "text/plain": [
       "<Figure size 640x480 with 2 Axes>"
      ]
     },
     "metadata": {},
     "output_type": "display_data"
    }
   ],
   "source": [
    "time_slice = slice(2000, 2010)\n",
    "is_complete = ds.sel(time=time_slice).notnull().all(dim=\"time\")\n",
    "is_complete.plot()"
   ]
  },
  {
   "cell_type": "code",
   "execution_count": 5,
   "id": "7c0a648c-2540-458e-894b-526ab3abb43c",
   "metadata": {},
   "outputs": [
    {
     "name": "stdout",
     "output_type": "stream",
     "text": [
      "Coords: (37848, 2) int64\n",
      "Values: (37848, 11) int64\n"
     ]
    }
   ],
   "source": [
    "# Coords: (N, 2) numpy array of x/y position\n",
    "# Values: (N, T) numpy array of time series\n",
    "coords = np.stack(np.where(is_complete)).T\n",
    "print(\"Coords:\", coords.shape, coords.dtype)\n",
    "\n",
    "y_selector = xr.DataArray(coords[:, 0], dims=\"points\")\n",
    "x_selector = xr.DataArray(coords[:, 1], dims=\"points\")\n",
    "\n",
    "values = ds.sel(time=time_slice).isel(y=y_selector, x=x_selector).values.T\n",
    "values = values.astype(np.dtype(int))\n",
    "print(\"Values:\", values.shape, values.dtype)"
   ]
  },
  {
   "cell_type": "markdown",
   "id": "7c012c35-dd01-417a-ad10-743a0a742e33",
   "metadata": {},
   "source": [
    "## Marginal variances"
   ]
  },
  {
   "cell_type": "code",
   "execution_count": 6,
   "id": "08f01f1a-312f-45f9-b870-3df9487826f9",
   "metadata": {},
   "outputs": [
    {
     "name": "stdout",
     "output_type": "stream",
     "text": [
      "Total variance: 74.65\n",
      "Space variance: 22.82\n",
      "Time variance:  51.84\n"
     ]
    }
   ],
   "source": [
    "total_variance = np.var(values)\n",
    "\n",
    "space_variance = np.var(np.mean(values, axis=1))\n",
    "time_variance = total_variance - space_variance\n",
    "\n",
    "print(f\"Total variance: {total_variance:.2f}\")\n",
    "print(f\"Space variance: {space_variance:.2f}\")\n",
    "print(f\"Time variance:  {time_variance:.2f}\")"
   ]
  },
  {
   "cell_type": "markdown",
   "id": "84f51b0b-44c1-4dab-8be0-b11b521491fa",
   "metadata": {},
   "source": [
    "Variance in time is much larger than variance in space!"
   ]
  },
  {
   "cell_type": "markdown",
   "id": "9747e169-d775-4c23-b7a8-793143f98626",
   "metadata": {},
   "source": [
    "## Variograms\n",
    "\n",
    "Variograms are very expensive to compute. Isolate the spatial lag first by averaging over time."
   ]
  },
  {
   "cell_type": "code",
   "execution_count": 7,
   "id": "ddb45693-3c99-48cf-a4e7-2d193151b964",
   "metadata": {},
   "outputs": [
    {
     "name": "stdout",
     "output_type": "stream",
     "text": [
      "exponential Variogram\n",
      "---------------------\n",
      "Estimator:         matheron\n",
      "Effective Range:   13.22\n",
      "Sill:              14.46\n",
      "Nugget:            0.00\n",
      "        \n"
     ]
    },
    {
     "name": "stderr",
     "output_type": "stream",
     "text": [
      "/srv/conda/envs/notebook/lib/python3.11/site-packages/skgstat/plotting/variogram_plot.py:123: UserWarning: FigureCanvasAgg is non-interactive, and thus cannot be shown\n",
      "  fig.show()\n"
     ]
    },
    {
     "data": {
      "image/png": "[encoded data removed]",
      "text/plain": [
       "<Figure size 800x500 with 2 Axes>"
      ]
     },
     "metadata": {},
     "output_type": "display_data"
    }
   ],
   "source": [
    "np.random.seed(20250318) # reproducibility\n",
    "downsample_factor = 5\n",
    "values_mean_time = np.mean(values, axis=1)\n",
    "# Random sample so as to not destroy short-range relations\n",
    "n_to_sample = int(values_mean_time.shape[0] / downsample_factor)\n",
    "inds_to_use = np.random.choice(values_mean_time.shape[0], n_to_sample, replace=False)\n",
    "space_var = skg.Variogram(\n",
    "    coords[inds_to_use], values_mean_time[inds_to_use],\n",
    "    dist_func=\"euclidean\",\n",
    "    model=\"exponential\",\n",
    "    n_lags=25,\n",
    "    maxlag=40 # * 4 km = 600 km\n",
    ")\n",
    "print(space_var)\n",
    "\n",
    "space_var.plot()\n",
    "plt.show()"
   ]
  },
  {
   "cell_type": "markdown",
   "id": "bdbd81bb-7117-4f0e-a624-ea2c76465974",
   "metadata": {},
   "source": [
    "## Spatial Correlograms\n",
    "\n",
    "Recalculate Moran's I *only* for observations that are a particular distance range apart."
   ]
  },
  {
   "cell_type": "code",
   "execution_count": 8,
   "id": "028dbf1c-e4f3-4a4b-9bbb-7a87b76899a9",
   "metadata": {},
   "outputs": [
    {
     "name": "stdout",
     "output_type": "stream",
     "text": [
      "N: 7569\n"
     ]
    }
   ],
   "source": [
    "coords_subset = coords[inds_to_use]\n",
    "values_subset = values_mean_time[inds_to_use]\n",
    "print(\"N:\", coords_subset.shape[0])"
   ]
  },
  {
   "cell_type": "code",
   "execution_count": 9,
   "id": "37ad1fd8-6abe-4a10-baf6-7a69cf65ffc9",
   "metadata": {},
   "outputs": [
    {
     "name": "stderr",
     "output_type": "stream",
     "text": [
      "/tmp/ipykernel_682/1964416964.py:3: RuntimeWarning: divide by zero encountered in divide\n",
      "  weight_mtx = 1 / dist_mtx\n"
     ]
    }
   ],
   "source": [
    "from scipy.spatial import distance_matrix\n",
    "dist_mtx = distance_matrix(coords_subset, coords_subset)\n",
    "weight_mtx = 1 / dist_mtx\n",
    "np.fill_diagonal(weight_mtx, 0)"
   ]
  },
  {
   "cell_type": "code",
   "execution_count": 10,
   "id": "779adab2-46df-46d9-acbb-c46f5b2d7f9a",
   "metadata": {},
   "outputs": [
    {
     "name": "stderr",
     "output_type": "stream",
     "text": [
      "/tmp/ipykernel_682/2724819494.py:18: RuntimeWarning: invalid value encountered in divide\n",
      "  lagged_avg = np.matmul(masked_weights, values_subset) / np.sum(masked_weights, axis=1)\n"
     ]
    },
    {
     "name": "stdout",
     "output_type": "stream",
     "text": [
      "All correlations significant: True\n"
     ]
    }
   ],
   "source": [
    "from scipy.stats import pearsonr\n",
    "\n",
    "km_per_pix = 4\n",
    "cors = np.zeros(space_var.bins.shape[0]-1)\n",
    "sigs = np.zeros(cors.shape)\n",
    "lags = space_var.bins[:-1] * km_per_pix\n",
    "\n",
    "for i in range(space_var.bins.shape[0]-1):\n",
    "    lag_low, lag_high = space_var.bins[i], space_var.bins[i+1]\n",
    "    dist_mask = (dist_mtx >= lag_low) & (dist_mtx < lag_high)\n",
    "    if not np.any(dist_mask):\n",
    "        # No observations at this distance\n",
    "        continue\n",
    "        \n",
    "    masked_weights = dist_mask * weight_mtx\n",
    "    # Lagged average - matrix product of values with matrix (N, N) x (N, 1) = (N, 1)\n",
    "    # then normalized by per-observation weight sum (N, 1) / (N, 1) = (N, 1)\n",
    "    lagged_avg = np.matmul(masked_weights, values_subset) / np.sum(masked_weights, axis=1)\n",
    "    lagged_avg_nonan = lagged_avg[~np.isnan(lagged_avg)]\n",
    "    values_subset_nonan = values_subset[~np.isnan(lagged_avg)]\n",
    "    test = pearsonr(lagged_avg_nonan, values_subset_nonan)\n",
    "    cors[i] = test.statistic\n",
    "    sigs[i] = test.pvalue < 0.05\n",
    "\n",
    "print(\"All correlations significant:\", np.all(sigs))"
   ]
  },
  {
   "cell_type": "markdown",
   "id": "f587f02e-13e2-4615-a4ee-6f513457246b",
   "metadata": {},
   "source": [
    "<div class=\"alert alert-block alert-info\"> \n",
    "Since this analysis used a random sample of all pixels, a paper figure like the below should run many samples to get a confidence interval. If we do that we also don't have to worry about significance because we can just see if the CI overlaps with zero.\n",
    "</div>"
   ]
  },
  {
   "cell_type": "code",
   "execution_count": 11,
   "id": "c5c4b1d0-7e21-48d0-ba67-a9c0df53cd26",
   "metadata": {},
   "outputs": [
    {
     "data": {
      "image/png": "[encoded data removed]",
      "text/plain": [
       "<Figure size 640x480 with 1 Axes>"
      ]
     },
     "metadata": {},
     "output_type": "display_data"
    }
   ],
   "source": [
    "plt.scatter(lags, cors)\n",
    "plt.xlabel(\"Distance (km)\")\n",
    "plt.ylabel(\"Correlation coefficient\")\n",
    "plt.ylim(0, None)\n",
    "plt.show()"
   ]
  }
 ],
 "metadata": {
  "kernelspec": {
   "display_name": "Python 3 (ipykernel)",
   "language": "python",
   "name": "python3"
  },
  "language_info": {
   "codemirror_mode": {
    "name": "ipython",
    "version": 3
   },
   "file_extension": ".py",
   "mimetype": "text/x-python",
   "name": "python",
   "nbconvert_exporter": "python",
   "pygments_lexer": "ipython3",
   "version": "3.11.9"
  }
 },
 "nbformat": 4,
 "nbformat_minor": 5
}
