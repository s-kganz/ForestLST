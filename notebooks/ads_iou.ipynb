{
 "cells": [
  {
   "cell_type": "code",
   "execution_count": 8,
   "id": "ee4f4f7a-3e69-4b47-b64a-85a1ffee91f6",
   "metadata": {},
   "outputs": [
    {
     "name": "stderr",
     "output_type": "stream",
     "text": [
      "/tmp/ipykernel_120/4131621254.py:7: TqdmExperimentalWarning: Using `tqdm.autonotebook.tqdm` in notebook mode. Use `tqdm.tqdm` instead to force console mode (e.g. in jupyter console)\n",
      "  from tqdm.autonotebook import tqdm\n"
     ]
    }
   ],
   "source": [
    "import geopandas as gpd\n",
    "import xarray as xr\n",
    "import rioxarray\n",
    "import rasterio\n",
    "from rasterio import features\n",
    "import numpy as np\n",
    "from tqdm.autonotebook import tqdm\n",
    "\n",
    "damage = gpd.read_file(\"../data_working/damage_merged.gdb/\", layer=\"merged\")\n",
    "template = xr.open_dataset(\"../mort_datasets/westmort.nc\").isel(time=0)"
   ]
  },
  {
   "cell_type": "code",
   "execution_count": 20,
   "id": "34d5757d-47ac-4755-8f89-45c5860d0e25",
   "metadata": {},
   "outputs": [],
   "source": [
    "# Determine raster shape/transforms at coarse and fine resolution\n",
    "template_shape = template.mortality.shape\n",
    "template_transform = template.mortality.rio.transform()\n",
    "\n",
    "# Ratio of coarse resolution to fine resolution\n",
    "resample_factor = 20\n",
    "\n",
    "fine_shape = tuple(s*resample_factor for s in template_shape)\n",
    "fine_transform = template_transform * template_transform.scale(1/resample_factor)"
   ]
  },
  {
   "cell_type": "code",
   "execution_count": 21,
   "id": "5401fc1b-b867-4c53-819d-d0cf0b53663b",
   "metadata": {},
   "outputs": [],
   "source": [
    "def rasterize_fine_coarse(geoms, fine_shape, fine_transform, coarse_shape, coarse_transform):\n",
    "    fine_raster = features.rasterize(\n",
    "        geoms,\n",
    "        out_shape=fine_shape,\n",
    "        transform=fine_transform,\n",
    "        fill=0,\n",
    "        default_value=100,\n",
    "        all_touched=True,\n",
    "        dtype=np.byte\n",
    "    )\n",
    "\n",
    "    out_array = np.zeros(coarse_shape)\n",
    "\n",
    "    rasterio.warp.reproject(\n",
    "        fine_raster,\n",
    "        destination=out_array,\n",
    "        src_transform=fine_transform,\n",
    "        src_crs=3857,\n",
    "        dst_transform=coarse_transform,\n",
    "        dst_crs=3857,\n",
    "        resampling=rasterio.enums.Resampling.average\n",
    "    )\n",
    "\n",
    "    return out_array"
   ]
  },
  {
   "cell_type": "code",
   "execution_count": 26,
   "id": "0a4ea194-835c-44bf-b952-387946a8f081",
   "metadata": {},
   "outputs": [
    {
     "name": "stderr",
     "output_type": "stream",
     "text": [
      "<timed exec>:7: UserWarning: `keep_geom_type=True` in overlay resulted in 92 dropped geometries of different geometry types than df1 has. Set `keep_geom_type=False` to retain all geometries\n"
     ]
    },
    {
     "name": "stdout",
     "output_type": "stream",
     "text": [
      "CPU times: user 25.7 s, sys: 84.9 ms, total: 25.8 s\n",
      "Wall time: 25.8 s\n"
     ]
    },
    {
     "name": "stderr",
     "output_type": "stream",
     "text": [
      "<timed exec>:18: RuntimeWarning: invalid value encountered in divide\n"
     ]
    }
   ],
   "source": [
    "%%time\n",
    "def annual_iou(y1, y2):\n",
    "    # Select two years\n",
    "    a = damage[damage.SURVEY_YEAR == y1][[\"HOST_CODE\", \"geometry\"]]\n",
    "    b = damage[damage.SURVEY_YEAR == y2][[\"HOST_CODE\", \"geometry\"]]\n",
    "    \n",
    "    # Get overall union\n",
    "    union = gpd.overlay(a, b, how=\"union\")\n",
    "    \n",
    "    # Get intersections where host codes match\n",
    "    intersect = union[(union.HOST_CODE_1 == union.HOST_CODE_2) & (union.HOST_CODE_1 != np.nan)]\n",
    "    \n",
    "    # Rasterize both\n",
    "    intersect_rast = rasterize_fine_coarse(intersect.geometry, fine_shape, fine_transform, template_shape, template_transform)\n",
    "    union_rast     = rasterize_fine_coarse(union.geometry, fine_shape, fine_transform, template_shape, template_transform)\n",
    "    \n",
    "    # Get ratio\n",
    "    assert intersect_rast.shape == union_rast.shape\n",
    "    iou = intersect_rast / union_rast\n",
    "    return iou\n",
    "\n",
    "test_iou = annual_iou(2002, 2003)"
   ]
  },
  {
   "cell_type": "code",
   "execution_count": 29,
   "id": "86ab81bf-e1b6-4a07-9496-e640a023f56a",
   "metadata": {
    "scrolled": true
   },
   "outputs": [
    {
     "name": "stdout",
     "output_type": "stream",
     "text": [
      "[2001, 2002, 2003, 2004, 2005, 2006, 2007, 2008, 2009, 2010, 2011, 2012, 2013, 2014, 2015, 2016, 2017, 2018, 2019, 2020, 2021, 2022]\n",
      "Starting at 21:20:02\n"
     ]
    },
    {
     "data": {
      "application/vnd.jupyter.widget-view+json": {
       "model_id": "7b0f785d48cf41afb26edf0d67ee3650",
       "version_major": 2,
       "version_minor": 0
      },
      "text/plain": [
       "  0%|          | 0/22 [00:00<?, ?it/s]"
      ]
     },
     "metadata": {},
     "output_type": "display_data"
    },
    {
     "name": "stderr",
     "output_type": "stream",
     "text": [
      "<timed exec>:7: UserWarning: `keep_geom_type=True` in overlay resulted in 5 dropped geometries of different geometry types than df1 has. Set `keep_geom_type=False` to retain all geometries\n",
      "<timed exec>:18: RuntimeWarning: invalid value encountered in divide\n",
      "<timed exec>:7: UserWarning: `keep_geom_type=True` in overlay resulted in 92 dropped geometries of different geometry types than df1 has. Set `keep_geom_type=False` to retain all geometries\n",
      "<timed exec>:18: RuntimeWarning: invalid value encountered in divide\n",
      "<timed exec>:7: UserWarning: `keep_geom_type=True` in overlay resulted in 1 dropped geometries of different geometry types than df1 has. Set `keep_geom_type=False` to retain all geometries\n",
      "<timed exec>:18: RuntimeWarning: invalid value encountered in divide\n",
      "<timed exec>:7: UserWarning: `keep_geom_type=True` in overlay resulted in 29 dropped geometries of different geometry types than df1 has. Set `keep_geom_type=False` to retain all geometries\n",
      "<timed exec>:18: RuntimeWarning: invalid value encountered in divide\n",
      "<timed exec>:7: UserWarning: `keep_geom_type=True` in overlay resulted in 52 dropped geometries of different geometry types than df1 has. Set `keep_geom_type=False` to retain all geometries\n",
      "<timed exec>:18: RuntimeWarning: invalid value encountered in divide\n",
      "<timed exec>:7: UserWarning: `keep_geom_type=True` in overlay resulted in 48 dropped geometries of different geometry types than df1 has. Set `keep_geom_type=False` to retain all geometries\n",
      "<timed exec>:18: RuntimeWarning: invalid value encountered in divide\n",
      "<timed exec>:7: UserWarning: `keep_geom_type=True` in overlay resulted in 6 dropped geometries of different geometry types than df1 has. Set `keep_geom_type=False` to retain all geometries\n",
      "<timed exec>:18: RuntimeWarning: invalid value encountered in divide\n",
      "<timed exec>:7: UserWarning: `keep_geom_type=True` in overlay resulted in 2 dropped geometries of different geometry types than df1 has. Set `keep_geom_type=False` to retain all geometries\n",
      "<timed exec>:18: RuntimeWarning: invalid value encountered in divide\n",
      "<timed exec>:7: UserWarning: `keep_geom_type=True` in overlay resulted in 34 dropped geometries of different geometry types than df1 has. Set `keep_geom_type=False` to retain all geometries\n",
      "<timed exec>:18: RuntimeWarning: invalid value encountered in divide\n",
      "<timed exec>:7: UserWarning: `keep_geom_type=True` in overlay resulted in 9 dropped geometries of different geometry types than df1 has. Set `keep_geom_type=False` to retain all geometries\n",
      "<timed exec>:18: RuntimeWarning: invalid value encountered in divide\n",
      "<timed exec>:7: UserWarning: `keep_geom_type=True` in overlay resulted in 5 dropped geometries of different geometry types than df1 has. Set `keep_geom_type=False` to retain all geometries\n",
      "<timed exec>:18: RuntimeWarning: invalid value encountered in divide\n",
      "<timed exec>:7: UserWarning: `keep_geom_type=True` in overlay resulted in 12 dropped geometries of different geometry types than df1 has. Set `keep_geom_type=False` to retain all geometries\n",
      "<timed exec>:18: RuntimeWarning: invalid value encountered in divide\n",
      "<timed exec>:7: UserWarning: `keep_geom_type=True` in overlay resulted in 2 dropped geometries of different geometry types than df1 has. Set `keep_geom_type=False` to retain all geometries\n",
      "<timed exec>:18: RuntimeWarning: invalid value encountered in divide\n",
      "<timed exec>:18: RuntimeWarning: invalid value encountered in divide\n",
      "<timed exec>:7: UserWarning: `keep_geom_type=True` in overlay resulted in 5978 dropped geometries of different geometry types than df1 has. Set `keep_geom_type=False` to retain all geometries\n",
      "<timed exec>:18: RuntimeWarning: invalid value encountered in divide\n",
      "<timed exec>:7: UserWarning: `keep_geom_type=True` in overlay resulted in 37 dropped geometries of different geometry types than df1 has. Set `keep_geom_type=False` to retain all geometries\n",
      "<timed exec>:18: RuntimeWarning: invalid value encountered in divide\n",
      "<timed exec>:7: UserWarning: `keep_geom_type=True` in overlay resulted in 37 dropped geometries of different geometry types than df1 has. Set `keep_geom_type=False` to retain all geometries\n",
      "<timed exec>:18: RuntimeWarning: invalid value encountered in divide\n",
      "<timed exec>:18: RuntimeWarning: invalid value encountered in divide\n",
      "<timed exec>:18: RuntimeWarning: invalid value encountered in divide\n",
      "<timed exec>:18: RuntimeWarning: invalid value encountered in divide\n",
      "<timed exec>:7: UserWarning: `keep_geom_type=True` in overlay resulted in 33 dropped geometries of different geometry types than df1 has. Set `keep_geom_type=False` to retain all geometries\n",
      "<timed exec>:18: RuntimeWarning: invalid value encountered in divide\n",
      "<timed exec>:7: UserWarning: `keep_geom_type=True` in overlay resulted in 62 dropped geometries of different geometry types than df1 has. Set `keep_geom_type=False` to retain all geometries\n",
      "<timed exec>:18: RuntimeWarning: invalid value encountered in divide\n"
     ]
    }
   ],
   "source": [
    "import datetime\n",
    "\n",
    "unique_years = damage.SURVEY_YEAR.unique()\n",
    "years_to_process = list(range(2001, max(unique_years)-1))\n",
    "print(years_to_process)\n",
    "\n",
    "iou_cube = np.zeros((len(years_to_process), *template_shape))\n",
    "\n",
    "print(f\"Starting at {datetime.datetime.now().strftime('%H:%M:%S')}\")\n",
    "\n",
    "for i, yr in enumerate(tqdm(years_to_process)):\n",
    "    iou_cube[i] = annual_iou(yr, yr+1)"
   ]
  },
  {
   "cell_type": "code",
   "execution_count": 38,
   "id": "3dd111c1-e898-4afd-8cfa-d8eee9919c72",
   "metadata": {},
   "outputs": [],
   "source": [
    "iou_xr = xr.DataArray(\n",
    "    data=iou_cube,\n",
    "    dims=(\"time\", \"y\", \"x\"),\n",
    "    coords={\"x\": template.x, \"y\": template.y, \"time\": years_to_process},\n",
    "    name=\"iou\"\n",
    ")*100"
   ]
  },
  {
   "cell_type": "code",
   "execution_count": 39,
   "id": "bd2bfed1-cbad-4fb6-9522-d0cad5631011",
   "metadata": {},
   "outputs": [],
   "source": [
    "iou_xr.to_netcdf(\"../mort_datasets/westmort_iou.nc\", encoding=dict(iou={\"dtype\": \"int8\", \"_FillValue\": -128}))"
   ]
  }
 ],
 "metadata": {
  "kernelspec": {
   "display_name": "Python 3 (ipykernel)",
   "language": "python",
   "name": "python3"
  },
  "language_info": {
   "codemirror_mode": {
    "name": "ipython",
    "version": 3
   },
   "file_extension": ".py",
   "mimetype": "text/x-python",
   "name": "python",
   "nbconvert_exporter": "python",
   "pygments_lexer": "ipython3",
   "version": "3.11.11"
  }
 },
 "nbformat": 4,
 "nbformat_minor": 5
}
