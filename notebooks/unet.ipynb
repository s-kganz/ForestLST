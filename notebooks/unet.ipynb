{
 "cells": [
  {
   "cell_type": "markdown",
   "id": "3fc583bb-faf5-4281-84fe-20fe1b007cc9",
   "metadata": {},
   "source": [
    "### Use autocorrelation to predict mortality with a Unet\n",
    "\n",
    "We know that spatiotemporal autocorrelation dominates the mortality signal. Unets may be well-suited to learning these patterns."
   ]
  },
  {
   "cell_type": "code",
   "execution_count": 1,
   "id": "30bc7748-8841-4b51-adbc-e482281b989e",
   "metadata": {},
   "outputs": [
    {
     "name": "stdout",
     "output_type": "stream",
     "text": [
      "0.1.dev236+g2e721fc\n"
     ]
    }
   ],
   "source": [
    "!pip -q install segmentation-models-pytorch tensorboard\n",
    "!pip -q install git+https://github.com/s-kganz/xbatcher.git@patch_filter_resample\n",
    "# Make sure git install worked\n",
    "import xbatcher\n",
    "print(xbatcher.__version__)"
   ]
  },
  {
   "cell_type": "code",
   "execution_count": 2,
   "id": "03f5caaa-0a80-49a2-baea-a5d5ffe1ffee",
   "metadata": {},
   "outputs": [
    {
     "name": "stderr",
     "output_type": "stream",
     "text": [
      "/home/jovyan/ForestLST/util/__init__.py:19: UserWarning: GCloud SDK not found! Module util.gcs will not be loaded.\n",
      "  warnings.warn(\"GCloud SDK not found! Module util.gcs will not be loaded.\")\n"
     ]
    }
   ],
   "source": [
    "# Deep learning stuff\n",
    "import torch\n",
    "import torchmetrics\n",
    "import pytorch_lightning as pl\n",
    "import segmentation_models_pytorch as smp\n",
    "\n",
    "# Geospatial\n",
    "import xarray as xr\n",
    "import rioxarray\n",
    "\n",
    "# Etc\n",
    "import pandas as pd\n",
    "import numpy as np\n",
    "import matplotlib\n",
    "from matplotlib import pyplot as plt\n",
    "from sklearn import metrics\n",
    "import os \n",
    "\n",
    "if 'notebooks' in os.getcwd():\n",
    "    os.chdir(\"..\")\n",
    "\n",
    "import util"
   ]
  },
  {
   "cell_type": "code",
   "execution_count": 3,
   "id": "087ffc4a-8dfa-4976-8b4d-d07a64c18ab9",
   "metadata": {},
   "outputs": [
    {
     "name": "stdout",
     "output_type": "stream",
     "text": [
      "Using device: cuda\n",
      "\n",
      "Tesla T4\n",
      "Memory Usage:\n",
      "Allocated: 0.0 GB\n",
      "Cached:    0.0 GB\n"
     ]
    }
   ],
   "source": [
    "# Set up torch device\n",
    "# If we have gpu available, use it\n",
    "device = torch.device('cuda' if torch.cuda.is_available() else 'cpu')\n",
    "print('Using device:', device)\n",
    "print()\n",
    "torch.set_default_device(device)\n",
    "\n",
    "#Additional Info when using cuda\n",
    "if device.type == 'cuda':\n",
    "    print(torch.cuda.get_device_name(0))\n",
    "    print('Memory Usage:')\n",
    "    print('Allocated:', round(torch.cuda.memory_allocated(0)/1024**3,1), 'GB')\n",
    "    print('Cached:   ', round(torch.cuda.memory_reserved(0)/1024**3,1), 'GB')"
   ]
  },
  {
   "cell_type": "markdown",
   "id": "723d974b-340b-4c30-a0e4-6a4f2a186511",
   "metadata": {},
   "source": [
    "## Prepare dataset\n",
    "\n",
    "These are rasterized aerial detection surveys at 1 km resolution."
   ]
  },
  {
   "cell_type": "code",
   "execution_count": 4,
   "id": "8588fff9-62b7-4053-8694-480251bfd759",
   "metadata": {},
   "outputs": [],
   "source": [
    "westmort = xr.load_dataset(\"mort_datasets/westmort.nc\")\n",
    "mort = westmort.where(westmort[\"treecover\"] >= 10)[\"mortality\"]\n",
    "gfw  = westmort.where(westmort[\"treecover\"] >= 10)[\"gfw_damage\"]\n",
    "\n",
    "del westmort"
   ]
  },
  {
   "cell_type": "markdown",
   "id": "81575410-124c-49b2-9b2c-fce4dd46aa9a",
   "metadata": {},
   "source": [
    "Set up data pipeline. Here we want 64x64 patches in space, and a time series looking back 5 years. These are important hyperparameters to tune. There's lot of NAs, so only keep patches that are at least 70% valid *in the last time step*."
   ]
  },
  {
   "cell_type": "code",
   "execution_count": 5,
   "id": "57593064-9dc0-4641-a864-59eaabc15020",
   "metadata": {},
   "outputs": [],
   "source": [
    "from torch.utils.data import DataLoader, Dataset\n",
    "from torchvision.transforms import v2 as transforms\n",
    "from xbatcher.loaders.torch import MapDataset\n",
    "\n",
    "def nan_filter(ds, batch, prop_valid=0.70):\n",
    "    sel = ds.isel(**batch).isel(time=-1)\n",
    "    nan_mask = sel.isnull().astype(np.float32)\n",
    "    return (1 - nan_mask.mean() >= prop_valid)\n",
    "\n",
    "def X_transform(patch):\n",
    "    patch = torch.tensor(patch.data)\n",
    "    X = patch[:-1, ...]\n",
    "    X = torch.nan_to_num(X)\n",
    "    return X\n",
    "\n",
    "def y_transform(patch):\n",
    "    patch = torch.tensor(patch.data)\n",
    "    y = patch[-1, ...]\n",
    "    return y\n",
    "\n",
    "input_dims = dict(x=64, y=64, time=5)\n",
    "input_overlap = dict(x=0, y=0, time=4)\n",
    "split_year = 2014\n",
    "\n",
    "def dataset_to_dataloaders(da, **dataloader_args):\n",
    "    da_train = da.sel(time=slice(None, split_year+1))\n",
    "    da_valid = da.sel(time=slice(split_year+1, None))\n",
    "\n",
    "    bgen_train = xbatcher.BatchGenerator(\n",
    "        da_train,\n",
    "        input_dims=input_dims,\n",
    "        input_overlap=input_overlap,\n",
    "        filter_fn=nan_filter\n",
    "    )\n",
    "    bgen_valid = xbatcher.BatchGenerator(\n",
    "        da_valid,\n",
    "        input_dims=input_dims,\n",
    "        input_overlap=input_overlap,\n",
    "        filter_fn=nan_filter\n",
    "    )\n",
    "\n",
    "    train_ds = MapDataset(bgen_train, bgen_train, transform=X_transform, target_transform=y_transform)\n",
    "    valid_ds = MapDataset(bgen_valid, bgen_valid, transform=X_transform, target_transform=y_transform)\n",
    "\n",
    "    train_loader = torch.utils.data.DataLoader(train_ds, shuffle=True, **dataloader_args)\n",
    "    valid_loader = torch.utils.data.DataLoader(valid_ds, shuffle=False, **dataloader_args)\n",
    "\n",
    "    return train_loader, valid_loader\n",
    "\n",
    "mort_train_loader, mort_valid_loader = dataset_to_dataloaders(mort, batch_size=16, generator=torch.Generator(device))\n",
    "gfw_train_loader, gfw_valid_loader = dataset_to_dataloaders(gfw, batch_size=16, generator=torch.Generator(device))"
   ]
  },
  {
   "cell_type": "code",
   "execution_count": 6,
   "id": "b83d9cc3-1cf3-408f-951e-ac007c6e621e",
   "metadata": {},
   "outputs": [
    {
     "name": "stdout",
     "output_type": "stream",
     "text": [
      "Number of ADS batches: 103\n",
      "Number of GFW batches: 166\n"
     ]
    }
   ],
   "source": [
    "print(\"Number of ADS batches:\", len(mort_train_loader))\n",
    "print(\"Number of GFW batches:\", len(gfw_train_loader))"
   ]
  },
  {
   "cell_type": "markdown",
   "id": "06f8ef8c-2787-45a4-95e5-24594a903155",
   "metadata": {},
   "source": [
    "Define model structure."
   ]
  },
  {
   "cell_type": "code",
   "execution_count": 7,
   "id": "111ee90e-2a6f-4868-82f9-09c1511304e8",
   "metadata": {},
   "outputs": [],
   "source": [
    "from importlib import reload\n",
    "reload(util.training)\n",
    "\n",
    "class UnetModel(pl.LightningModule):\n",
    "    def __init__(self, in_channels=1):\n",
    "        super(UnetModel, self).__init__()\n",
    "        self.train_nrmse = torchmetrics.regression.NormalizedRootMeanSquaredError(normalization=\"std\")\n",
    "        self.train_r2    = torchmetrics.regression.PearsonCorrCoef()\n",
    "        self.train_mse   = torchmetrics.regression.MeanSquaredError()\n",
    "        self.valid_nrmse = torchmetrics.regression.NormalizedRootMeanSquaredError(normalization=\"std\")\n",
    "        self.valid_r2    = torchmetrics.regression.PearsonCorrCoef()\n",
    "        self.valid_mse   = torchmetrics.regression.MeanSquaredError()\n",
    "        self.loss        = util.training.AsymmetricLoss()\n",
    "\n",
    "        self.save_hyperparameters()\n",
    "\n",
    "        self.unet = smp.Unet(encoder_name=\"resnet18\", encoder_weights=\"imagenet\", in_channels=in_channels)\n",
    "        # Disable grad in the encoder if using pre-trained weights\n",
    "        if self.unet.config[\"encoder_weights\"] is not None:\n",
    "            for p in self.unet.encoder.parameters():\n",
    "                 p.requires_grad = False\n",
    "\n",
    "        self.sigmoid = torch.nn.Sigmoid()\n",
    "\n",
    "    def forward(self, X):\n",
    "        X = self.unet(X)\n",
    "        X = self.sigmoid(X)\n",
    "        # Squeeze out channel dim\n",
    "        X = X.squeeze(1)\n",
    "        # Rescale from 0-100\n",
    "        return X*100\n",
    "\n",
    "    def configure_optimizers(self):\n",
    "        optimizer = torch.optim.Adam(self.parameters(), lr=1e-3)\n",
    "        # Using a scheduler is optional but can be helpful.\n",
    "        # The scheduler reduces the LR if the validation performance hasn't improved for the last N epochs\n",
    "        scheduler = torch.optim.lr_scheduler.ReduceLROnPlateau(optimizer, mode=\"min\", factor=0.2, patience=5, min_lr=5e-5)\n",
    "        return {\"optimizer\": optimizer, \"lr_scheduler\": scheduler, \"monitor\": \"valid_loss\"}\n",
    "        \n",
    "    def _get_loss(self, y, y_hat):\n",
    "        loss = self.loss(y, y_hat)\n",
    "        return loss\n",
    "\n",
    "    def _nan_mask(self, y):\n",
    "        return ~torch.isnan(y.view(-1))\n",
    "\n",
    "    def training_step(self, batch, batch_idx):\n",
    "        X, y = batch\n",
    "        y_hat = self.forward(X)\n",
    "\n",
    "        mask = self._nan_mask(y)\n",
    "        y = y.view(-1)[mask]\n",
    "        y_hat = y_hat.view(-1)[mask]\n",
    "\n",
    "        loss = self._get_loss(y_hat, y)\n",
    "        self.log(\"train_loss\", loss, prog_bar=True, on_epoch=True, on_step=False)\n",
    "\n",
    "        self.train_nrmse(y_hat, y)\n",
    "        self.log(\"train_nrmse\", self.train_nrmse, on_epoch=True, on_step=False)\n",
    "\n",
    "        self.train_r2(y_hat, y)\n",
    "        self.log(\"train_corr\", self.train_r2, on_epoch=True, on_step=False)\n",
    "\n",
    "        self.train_mse(y_hat, y)\n",
    "        self.log(\"train_mse\", self.train_mse, on_epoch=True, on_step=False)\n",
    "            \n",
    "        return loss\n",
    "\n",
    "    def validation_step(self, batch, batch_idx):\n",
    "        X, y = batch\n",
    "        y_hat = self.forward(X)\n",
    "\n",
    "        mask = self._nan_mask(y)\n",
    "        y = y.view(-1)[mask]\n",
    "        y_hat = y_hat.view(-1)[mask]\n",
    "\n",
    "        loss = self._get_loss(y_hat, y)\n",
    "        self.log(\"valid_loss\", loss, prog_bar=True, on_epoch=True, on_step=False)\n",
    "\n",
    "        self.valid_nrmse(y_hat, y)\n",
    "        self.log(\"valid_nrmse\", self.valid_nrmse, on_epoch=True, on_step=False)\n",
    "\n",
    "        self.valid_r2(y_hat, y)\n",
    "        self.log(\"valid_corr\", self.valid_r2, on_epoch=True, on_step=False)\n",
    "\n",
    "        self.valid_mse(y_hat, y)\n",
    "        self.log(\"valid_mse\", self.valid_mse, on_epoch=True, on_step=False)\n",
    "\n",
    "    # PL docs indicate that this step is unnecessary, but logs show nonsensical\n",
    "    # metrics otherwise.\n",
    "    def on_train_epoch_end(self):\n",
    "        self.train_nrmse.reset()\n",
    "        self.train_r2.reset()\n",
    "\n",
    "    def on_validation_epoch_end(self):\n",
    "        self.valid_nrmse.reset()\n",
    "        self.valid_r2.reset()"
   ]
  },
  {
   "cell_type": "code",
   "execution_count": 8,
   "id": "83399877-1359-4ad9-a65c-ccf7b21685e2",
   "metadata": {},
   "outputs": [],
   "source": [
    "# Check shape\n",
    "unet = UnetModel(in_channels=4).to(device)\n",
    "X, y = next(iter(mort_train_loader))\n",
    "out = unet(X)\n",
    "assert(out.shape == y.shape)"
   ]
  },
  {
   "cell_type": "markdown",
   "id": "d2df7614-dec4-4ceb-9e90-b8d9c7826c87",
   "metadata": {},
   "source": [
    "Define trainer."
   ]
  },
  {
   "cell_type": "code",
   "execution_count": 9,
   "id": "baac9099-0d66-4f4a-826b-531cd3fafb46",
   "metadata": {},
   "outputs": [
    {
     "name": "stderr",
     "output_type": "stream",
     "text": [
      "GPU available: True (cuda), used: True\n",
      "TPU available: False, using: 0 TPU cores\n",
      "HPU available: False, using: 0 HPUs\n",
      "LOCAL_RANK: 0 - CUDA_VISIBLE_DEVICES: [0]\n",
      "\n",
      "  | Name        | Type                           | Params | Mode \n",
      "-----------------------------------------------------------------------\n",
      "0 | train_nrmse | NormalizedRootMeanSquaredError | 0      | train\n",
      "1 | train_r2    | PearsonCorrCoef                | 0      | train\n",
      "2 | train_mse   | MeanSquaredError               | 0      | train\n",
      "3 | valid_nrmse | NormalizedRootMeanSquaredError | 0      | train\n",
      "4 | valid_r2    | PearsonCorrCoef                | 0      | train\n",
      "5 | valid_mse   | MeanSquaredError               | 0      | train\n",
      "6 | loss        | AsymmetricLoss                 | 0      | train\n",
      "7 | unet        | Unet                           | 14.3 M | train\n",
      "8 | sigmoid     | Sigmoid                        | 0      | train\n",
      "-----------------------------------------------------------------------\n",
      "3.2 M     Trainable params\n",
      "11.2 M    Non-trainable params\n",
      "14.3 M    Total params\n",
      "57.325    Total estimated model params size (MB)\n",
      "148       Modules in train mode\n",
      "0         Modules in eval mode\n"
     ]
    },
    {
     "data": {
      "application/vnd.jupyter.widget-view+json": {
       "model_id": "5c4853881108459998e5506f85aa11b4",
       "version_major": 2,
       "version_minor": 0
      },
      "text/plain": [
       "Sanity Checking: |          | 0/? [00:00<?, ?it/s]"
      ]
     },
     "metadata": {},
     "output_type": "display_data"
    },
    {
     "name": "stderr",
     "output_type": "stream",
     "text": [
      "/srv/conda/envs/notebook/lib/python3.12/site-packages/pytorch_lightning/trainer/connectors/data_connector.py:425: The 'val_dataloader' does not have many workers which may be a bottleneck. Consider increasing the value of the `num_workers` argument` to `num_workers=3` in the `DataLoader` to improve performance.\n",
      "/srv/conda/envs/notebook/lib/python3.12/site-packages/torchmetrics/utilities/prints.py:43: UserWarning: The ``compute`` method of metric NormalizedRootMeanSquaredError was called before the ``update`` method which may lead to errors, as metric states have not yet been updated.\n",
      "  warnings.warn(*args, **kwargs)\n",
      "/srv/conda/envs/notebook/lib/python3.12/site-packages/torchmetrics/utilities/prints.py:43: UserWarning: The ``compute`` method of metric PearsonCorrCoef was called before the ``update`` method which may lead to errors, as metric states have not yet been updated.\n",
      "  warnings.warn(*args, **kwargs)\n",
      "/srv/conda/envs/notebook/lib/python3.12/site-packages/torchmetrics/utilities/prints.py:43: UserWarning: The variance of predictions or target is close to zero. This can cause instability in Pearson correlationcoefficient, leading to wrong results. Consider re-scaling the input if possible or computing using alarger dtype (currently using torch.float32). Setting the correlation coefficient to nan.\n",
      "  warnings.warn(*args, **kwargs)\n",
      "/srv/conda/envs/notebook/lib/python3.12/site-packages/pytorch_lightning/trainer/connectors/data_connector.py:425: The 'train_dataloader' does not have many workers which may be a bottleneck. Consider increasing the value of the `num_workers` argument` to `num_workers=3` in the `DataLoader` to improve performance.\n"
     ]
    },
    {
     "data": {
      "application/vnd.jupyter.widget-view+json": {
       "model_id": "a77c932d98aa496c96c043fb11976747",
       "version_major": 2,
       "version_minor": 0
      },
      "text/plain": [
       "Training: |          | 0/? [00:00<?, ?it/s]"
      ]
     },
     "metadata": {},
     "output_type": "display_data"
    },
    {
     "data": {
      "application/vnd.jupyter.widget-view+json": {
       "model_id": "1892bd837bda47eba4c8843d3f63d82b",
       "version_major": 2,
       "version_minor": 0
      },
      "text/plain": [
       "Validation: |          | 0/? [00:00<?, ?it/s]"
      ]
     },
     "metadata": {},
     "output_type": "display_data"
    },
    {
     "data": {
      "application/vnd.jupyter.widget-view+json": {
       "model_id": "62f16174ae4c404880aff9ec41bb64c2",
       "version_major": 2,
       "version_minor": 0
      },
      "text/plain": [
       "Validation: |          | 0/? [00:00<?, ?it/s]"
      ]
     },
     "metadata": {},
     "output_type": "display_data"
    },
    {
     "data": {
      "application/vnd.jupyter.widget-view+json": {
       "model_id": "4e0489fc513b49ac882ba5b574b94cbb",
       "version_major": 2,
       "version_minor": 0
      },
      "text/plain": [
       "Validation: |          | 0/? [00:00<?, ?it/s]"
      ]
     },
     "metadata": {},
     "output_type": "display_data"
    },
    {
     "data": {
      "application/vnd.jupyter.widget-view+json": {
       "model_id": "14cfe7ec210841288047c87e09a9f90b",
       "version_major": 2,
       "version_minor": 0
      },
      "text/plain": [
       "Validation: |          | 0/? [00:00<?, ?it/s]"
      ]
     },
     "metadata": {},
     "output_type": "display_data"
    },
    {
     "data": {
      "application/vnd.jupyter.widget-view+json": {
       "model_id": "3641e0892f6c4ba8bb0a5e2bc6c90963",
       "version_major": 2,
       "version_minor": 0
      },
      "text/plain": [
       "Validation: |          | 0/? [00:00<?, ?it/s]"
      ]
     },
     "metadata": {},
     "output_type": "display_data"
    },
    {
     "data": {
      "application/vnd.jupyter.widget-view+json": {
       "model_id": "0dc91845cbd144d5b85e1ffd1123df9e",
       "version_major": 2,
       "version_minor": 0
      },
      "text/plain": [
       "Validation: |          | 0/? [00:00<?, ?it/s]"
      ]
     },
     "metadata": {},
     "output_type": "display_data"
    },
    {
     "data": {
      "application/vnd.jupyter.widget-view+json": {
       "model_id": "037a84e877b74cf5a6e11991ea9e614b",
       "version_major": 2,
       "version_minor": 0
      },
      "text/plain": [
       "Validation: |          | 0/? [00:00<?, ?it/s]"
      ]
     },
     "metadata": {},
     "output_type": "display_data"
    },
    {
     "data": {
      "application/vnd.jupyter.widget-view+json": {
       "model_id": "ef19e97ec05e4bcabc35524eef9867c2",
       "version_major": 2,
       "version_minor": 0
      },
      "text/plain": [
       "Validation: |          | 0/? [00:00<?, ?it/s]"
      ]
     },
     "metadata": {},
     "output_type": "display_data"
    },
    {
     "data": {
      "application/vnd.jupyter.widget-view+json": {
       "model_id": "ece03da185ea470baa7838706491d406",
       "version_major": 2,
       "version_minor": 0
      },
      "text/plain": [
       "Validation: |          | 0/? [00:00<?, ?it/s]"
      ]
     },
     "metadata": {},
     "output_type": "display_data"
    }
   ],
   "source": [
    "import datetime\n",
    "today = datetime.date.today().strftime(\"%Y%m%d\")\n",
    "ads_trainer = pl.Trainer(\n",
    "    default_root_dir=os.path.join(\"data_out\", f\"{today}_ads_unet_asymm_loss_64x64x5\"),\n",
    "    accelerator=\"auto\",\n",
    "    devices=1,\n",
    "    max_epochs=30,\n",
    "    callbacks=[\n",
    "        pl.callbacks.EarlyStopping(\"valid_loss\", min_delta=0.1, patience=5),\n",
    "        pl.callbacks.ModelCheckpoint(),\n",
    "    ]\n",
    ")\n",
    "\n",
    "ads_unet = UnetModel(in_channels=4).to(device)\n",
    "ads_trainer.fit(ads_unet, mort_train_loader, mort_valid_loader)"
   ]
  },
  {
   "cell_type": "code",
   "execution_count": 10,
   "id": "9e36a1d4-7362-4e1a-866d-a59f02597822",
   "metadata": {},
   "outputs": [
    {
     "name": "stderr",
     "output_type": "stream",
     "text": [
      "GPU available: True (cuda), used: True\n",
      "TPU available: False, using: 0 TPU cores\n",
      "HPU available: False, using: 0 HPUs\n",
      "LOCAL_RANK: 0 - CUDA_VISIBLE_DEVICES: [0]\n",
      "\n",
      "  | Name        | Type                           | Params | Mode \n",
      "-----------------------------------------------------------------------\n",
      "0 | train_nrmse | NormalizedRootMeanSquaredError | 0      | train\n",
      "1 | train_r2    | PearsonCorrCoef                | 0      | train\n",
      "2 | train_mse   | MeanSquaredError               | 0      | train\n",
      "3 | valid_nrmse | NormalizedRootMeanSquaredError | 0      | train\n",
      "4 | valid_r2    | PearsonCorrCoef                | 0      | train\n",
      "5 | valid_mse   | MeanSquaredError               | 0      | train\n",
      "6 | loss        | AsymmetricLoss                 | 0      | train\n",
      "7 | unet        | Unet                           | 14.3 M | train\n",
      "8 | sigmoid     | Sigmoid                        | 0      | train\n",
      "-----------------------------------------------------------------------\n",
      "3.2 M     Trainable params\n",
      "11.2 M    Non-trainable params\n",
      "14.3 M    Total params\n",
      "57.325    Total estimated model params size (MB)\n",
      "148       Modules in train mode\n",
      "0         Modules in eval mode\n"
     ]
    },
    {
     "data": {
      "application/vnd.jupyter.widget-view+json": {
       "model_id": "83e0778a53b344b1ad26a167cda86e8b",
       "version_major": 2,
       "version_minor": 0
      },
      "text/plain": [
       "Sanity Checking: |          | 0/? [00:00<?, ?it/s]"
      ]
     },
     "metadata": {},
     "output_type": "display_data"
    },
    {
     "name": "stderr",
     "output_type": "stream",
     "text": [
      "/srv/conda/envs/notebook/lib/python3.12/site-packages/pytorch_lightning/trainer/connectors/data_connector.py:425: The 'val_dataloader' does not have many workers which may be a bottleneck. Consider increasing the value of the `num_workers` argument` to `num_workers=3` in the `DataLoader` to improve performance.\n",
      "/srv/conda/envs/notebook/lib/python3.12/site-packages/torchmetrics/utilities/prints.py:43: UserWarning: The ``compute`` method of metric NormalizedRootMeanSquaredError was called before the ``update`` method which may lead to errors, as metric states have not yet been updated.\n",
      "  warnings.warn(*args, **kwargs)\n",
      "/srv/conda/envs/notebook/lib/python3.12/site-packages/torchmetrics/utilities/prints.py:43: UserWarning: The ``compute`` method of metric PearsonCorrCoef was called before the ``update`` method which may lead to errors, as metric states have not yet been updated.\n",
      "  warnings.warn(*args, **kwargs)\n",
      "/srv/conda/envs/notebook/lib/python3.12/site-packages/torchmetrics/utilities/prints.py:43: UserWarning: The variance of predictions or target is close to zero. This can cause instability in Pearson correlationcoefficient, leading to wrong results. Consider re-scaling the input if possible or computing using alarger dtype (currently using torch.float32). Setting the correlation coefficient to nan.\n",
      "  warnings.warn(*args, **kwargs)\n",
      "/srv/conda/envs/notebook/lib/python3.12/site-packages/pytorch_lightning/trainer/connectors/data_connector.py:425: The 'train_dataloader' does not have many workers which may be a bottleneck. Consider increasing the value of the `num_workers` argument` to `num_workers=3` in the `DataLoader` to improve performance.\n"
     ]
    },
    {
     "data": {
      "application/vnd.jupyter.widget-view+json": {
       "model_id": "f74ffd0d7bb04fe3985a5fbb3c226ad5",
       "version_major": 2,
       "version_minor": 0
      },
      "text/plain": [
       "Training: |          | 0/? [00:00<?, ?it/s]"
      ]
     },
     "metadata": {},
     "output_type": "display_data"
    },
    {
     "data": {
      "application/vnd.jupyter.widget-view+json": {
       "model_id": "f4d5cd50730a4ce79c4ec1d058644902",
       "version_major": 2,
       "version_minor": 0
      },
      "text/plain": [
       "Validation: |          | 0/? [00:00<?, ?it/s]"
      ]
     },
     "metadata": {},
     "output_type": "display_data"
    },
    {
     "data": {
      "application/vnd.jupyter.widget-view+json": {
       "model_id": "0df51fb636174b27b20c7c9f42084171",
       "version_major": 2,
       "version_minor": 0
      },
      "text/plain": [
       "Validation: |          | 0/? [00:00<?, ?it/s]"
      ]
     },
     "metadata": {},
     "output_type": "display_data"
    },
    {
     "data": {
      "application/vnd.jupyter.widget-view+json": {
       "model_id": "df4093b541d54c389645b233601f55c8",
       "version_major": 2,
       "version_minor": 0
      },
      "text/plain": [
       "Validation: |          | 0/? [00:00<?, ?it/s]"
      ]
     },
     "metadata": {},
     "output_type": "display_data"
    },
    {
     "data": {
      "application/vnd.jupyter.widget-view+json": {
       "model_id": "26b94b39156c4a4d95764700be742379",
       "version_major": 2,
       "version_minor": 0
      },
      "text/plain": [
       "Validation: |          | 0/? [00:00<?, ?it/s]"
      ]
     },
     "metadata": {},
     "output_type": "display_data"
    },
    {
     "data": {
      "application/vnd.jupyter.widget-view+json": {
       "model_id": "59586f882cb54746a7e7680ed8fd1473",
       "version_major": 2,
       "version_minor": 0
      },
      "text/plain": [
       "Validation: |          | 0/? [00:00<?, ?it/s]"
      ]
     },
     "metadata": {},
     "output_type": "display_data"
    },
    {
     "data": {
      "application/vnd.jupyter.widget-view+json": {
       "model_id": "70510dfc9f8b460480532b453f621bf9",
       "version_major": 2,
       "version_minor": 0
      },
      "text/plain": [
       "Validation: |          | 0/? [00:00<?, ?it/s]"
      ]
     },
     "metadata": {},
     "output_type": "display_data"
    },
    {
     "data": {
      "application/vnd.jupyter.widget-view+json": {
       "model_id": "84ba2d519bba477c82b374cbc5841a96",
       "version_major": 2,
       "version_minor": 0
      },
      "text/plain": [
       "Validation: |          | 0/? [00:00<?, ?it/s]"
      ]
     },
     "metadata": {},
     "output_type": "display_data"
    },
    {
     "data": {
      "application/vnd.jupyter.widget-view+json": {
       "model_id": "776fe2d65f2d4b8f88945a7b4385ae14",
       "version_major": 2,
       "version_minor": 0
      },
      "text/plain": [
       "Validation: |          | 0/? [00:00<?, ?it/s]"
      ]
     },
     "metadata": {},
     "output_type": "display_data"
    },
    {
     "data": {
      "application/vnd.jupyter.widget-view+json": {
       "model_id": "3c90be8c035e4fd3beb1dd9b49e909ab",
       "version_major": 2,
       "version_minor": 0
      },
      "text/plain": [
       "Validation: |          | 0/? [00:00<?, ?it/s]"
      ]
     },
     "metadata": {},
     "output_type": "display_data"
    },
    {
     "data": {
      "application/vnd.jupyter.widget-view+json": {
       "model_id": "6f31501c99524964af13a864ce10400c",
       "version_major": 2,
       "version_minor": 0
      },
      "text/plain": [
       "Validation: |          | 0/? [00:00<?, ?it/s]"
      ]
     },
     "metadata": {},
     "output_type": "display_data"
    },
    {
     "data": {
      "application/vnd.jupyter.widget-view+json": {
       "model_id": "56d9cf8aa3974380a5d805f953282673",
       "version_major": 2,
       "version_minor": 0
      },
      "text/plain": [
       "Validation: |          | 0/? [00:00<?, ?it/s]"
      ]
     },
     "metadata": {},
     "output_type": "display_data"
    },
    {
     "data": {
      "application/vnd.jupyter.widget-view+json": {
       "model_id": "a7b7c4aaf3c847d3ae1ee1c82fba669e",
       "version_major": 2,
       "version_minor": 0
      },
      "text/plain": [
       "Validation: |          | 0/? [00:00<?, ?it/s]"
      ]
     },
     "metadata": {},
     "output_type": "display_data"
    }
   ],
   "source": [
    "gfw_trainer = pl.Trainer(\n",
    "    default_root_dir=os.path.join(\"data_out\", f\"{today}_gfw_unet_asymm_loss_64x64x5\"),\n",
    "    accelerator=\"auto\",\n",
    "    devices=1,\n",
    "    max_epochs=30,\n",
    "    callbacks=[\n",
    "        pl.callbacks.EarlyStopping(\"valid_loss\", min_delta=0.1, patience=5),\n",
    "        pl.callbacks.ModelCheckpoint(),\n",
    "    ]\n",
    ")\n",
    "\n",
    "gfw_unet = UnetModel(in_channels=4).to(device)\n",
    "gfw_trainer.fit(gfw_unet, gfw_train_loader, gfw_valid_loader)"
   ]
  },
  {
   "cell_type": "markdown",
   "id": "6979d7fb-3bf4-4c29-a8ea-e4f67330c3d1",
   "metadata": {},
   "source": [
    "The windowing process counts some pixels more than once, which makes direct comparison with the RF datasets difficuilt. For ease of use we will just use the naive performance calculated in the westmort RF notebook."
   ]
  },
  {
   "cell_type": "markdown",
   "id": "2e59a056-6d05-4f41-90d7-0b2f3b4ebd03",
   "metadata": {},
   "source": [
    "Plot metrics"
   ]
  },
  {
   "cell_type": "code",
   "execution_count": 21,
   "id": "6d53c69b-ff45-45f6-8b00-382b37105276",
   "metadata": {},
   "outputs": [],
   "source": [
    "from functools import reduce\n",
    "\n",
    "def get_metrics_in_latest_version(trainer):\n",
    "    versions = os.listdir(os.path.join(trainer.default_root_dir, \"lightning_logs\"))\n",
    "    latest_version = max(versions, key=lambda x: int(x[-1]))\n",
    "    \n",
    "    log = util.training.parse_tensorboard(os.path.join(trainer.default_root_dir, \"lightning_logs\", latest_version))\n",
    "    dfs = [df.rename(columns=dict(value=key)).drop(columns=\"wall_time\") for key, df in log.items()]\n",
    "    fulldf = reduce(lambda x, y: pd.merge(x, y, on=[\"step\"], how=\"outer\"), dfs)\n",
    "    return fulldf\n",
    "\n",
    "ads_df = get_metrics_in_latest_version(ads_trainer)\n",
    "gfw_df = get_metrics_in_latest_version(gfw_trainer)"
   ]
  },
  {
   "cell_type": "code",
   "execution_count": 22,
   "id": "68b380b5-511b-49b8-b550-337c3a27fd90",
   "metadata": {},
   "outputs": [
    {
     "data": {
      "image/png": "[encoded data removed]",
      "text/plain": [
       "<Figure size 1200x500 with 3 Axes>"
      ]
     },
     "metadata": {},
     "output_type": "display_data"
    }
   ],
   "source": [
    "# Plots are easier to read when we ignore the first few epochs\n",
    "# where the model is just learning the bias\n",
    "ads_df.plot(\n",
    "    x=\"epoch\", y=[\"train_loss\", \"valid_loss\", \"train_nrmse\", \"valid_nrmse\", \"train_corr\", \"valid_corr\"],\n",
    "    subplots=[(\"train_loss\", \"valid_loss\"), (\"train_nrmse\", \"valid_nrmse\"), (\"train_corr\", \"valid_corr\")],\n",
    "    layout=(1, 3),\n",
    "    sharex=True, sharey=False,\n",
    "    grid=True,\n",
    "    figsize=(12, 5),\n",
    ")\n",
    "plt.gcf().suptitle(ads_trainer.default_root_dir)\n",
    "plt.show()"
   ]
  },
  {
   "cell_type": "code",
   "execution_count": 23,
   "id": "d39828b6-5eee-4a54-9376-dadec3469175",
   "metadata": {},
   "outputs": [
    {
     "data": {
      "image/png": "[encoded data removed]",
      "text/plain": [
       "<Figure size 1200x500 with 3 Axes>"
      ]
     },
     "metadata": {},
     "output_type": "display_data"
    }
   ],
   "source": [
    "gfw_df.plot(\n",
    "    x=\"epoch\", y=[\"train_loss\", \"valid_loss\", \"train_nrmse\", \"valid_nrmse\", \"train_corr\", \"valid_corr\"],\n",
    "    subplots=[(\"train_loss\", \"valid_loss\"), (\"train_nrmse\", \"valid_nrmse\"), (\"train_corr\", \"valid_corr\")],\n",
    "    layout=(1, 3),\n",
    "    sharex=True, sharey=False,\n",
    "    grid=True,\n",
    "    figsize=(12, 5),\n",
    ")\n",
    "plt.gcf().suptitle(gfw_trainer.default_root_dir)\n",
    "plt.show()"
   ]
  }
 ],
 "metadata": {
  "kernelspec": {
   "display_name": "Python 3 (ipykernel)",
   "language": "python",
   "name": "python3"
  },
  "language_info": {
   "codemirror_mode": {
    "name": "ipython",
    "version": 3
   },
   "file_extension": ".py",
   "mimetype": "text/x-python",
   "name": "python",
   "nbconvert_exporter": "python",
   "pygments_lexer": "ipython3",
   "version": "3.12.10"
  }
 },
 "nbformat": 4,
 "nbformat_minor": 5
}
