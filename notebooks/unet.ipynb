{
 "cells": [
  {
   "cell_type": "markdown",
   "id": "3fc583bb-faf5-4281-84fe-20fe1b007cc9",
   "metadata": {},
   "source": [
    "### Use autocorrelation to predict mortality with a Unet\n",
    "\n",
    "We know that spatiotemporal autocorrelation dominates the mortality signal. Unets may be well-suited to learning these patterns."
   ]
  },
  {
   "cell_type": "code",
   "execution_count": 1,
   "id": "30bc7748-8841-4b51-adbc-e482281b989e",
   "metadata": {},
   "outputs": [
    {
     "name": "stdout",
     "output_type": "stream",
     "text": [
      "0.1.dev236+g2e721fc\n"
     ]
    }
   ],
   "source": [
    "!pip -q install segmentation-models-pytorch tensorboard\n",
    "!pip -q install git+https://github.com/s-kganz/xbatcher.git@patch_filter_resample\n",
    "# Make sure git install worked\n",
    "import xbatcher\n",
    "print(xbatcher.__version__)"
   ]
  },
  {
   "cell_type": "code",
   "execution_count": 2,
   "id": "03f5caaa-0a80-49a2-baea-a5d5ffe1ffee",
   "metadata": {},
   "outputs": [
    {
     "name": "stderr",
     "output_type": "stream",
     "text": [
      "/home/jovyan/ForestLST/util/__init__.py:19: UserWarning: GCloud SDK not found! Module util.gcs will not be loaded.\n",
      "  warnings.warn(\"GCloud SDK not found! Module util.gcs will not be loaded.\")\n"
     ]
    }
   ],
   "source": [
    "# Deep learning stuff\n",
    "import torch\n",
    "import torchmetrics\n",
    "import pytorch_lightning as pl\n",
    "import segmentation_models_pytorch as smp\n",
    "\n",
    "# Geospatial\n",
    "import xarray as xr\n",
    "import rioxarray\n",
    "\n",
    "# Etc\n",
    "import pandas as pd\n",
    "import numpy as np\n",
    "import matplotlib\n",
    "from matplotlib import pyplot as plt\n",
    "from sklearn import metrics\n",
    "import os \n",
    "\n",
    "if 'notebooks' in os.getcwd():\n",
    "    os.chdir(\"..\")\n",
    "\n",
    "import util"
   ]
  },
  {
   "cell_type": "code",
   "execution_count": 3,
   "id": "087ffc4a-8dfa-4976-8b4d-d07a64c18ab9",
   "metadata": {},
   "outputs": [
    {
     "name": "stdout",
     "output_type": "stream",
     "text": [
      "Using device: cuda\n",
      "\n",
      "Tesla T4\n",
      "Memory Usage:\n",
      "Allocated: 0.0 GB\n",
      "Cached:    0.0 GB\n"
     ]
    }
   ],
   "source": [
    "# Set up torch device\n",
    "# If we have gpu available, use it\n",
    "device = torch.device('cuda' if torch.cuda.is_available() else 'cpu')\n",
    "print('Using device:', device)\n",
    "print()\n",
    "torch.set_default_device(device)\n",
    "\n",
    "#Additional Info when using cuda\n",
    "if device.type == 'cuda':\n",
    "    print(torch.cuda.get_device_name(0))\n",
    "    print('Memory Usage:')\n",
    "    print('Allocated:', round(torch.cuda.memory_allocated(0)/1024**3,1), 'GB')\n",
    "    print('Cached:   ', round(torch.cuda.memory_reserved(0)/1024**3,1), 'GB')"
   ]
  },
  {
   "cell_type": "markdown",
   "id": "723d974b-340b-4c30-a0e4-6a4f2a186511",
   "metadata": {},
   "source": [
    "## Prepare dataset\n",
    "\n",
    "These are rasterized aerial detection surveys at 1 km resolution."
   ]
  },
  {
   "cell_type": "code",
   "execution_count": 4,
   "id": "8588fff9-62b7-4053-8694-480251bfd759",
   "metadata": {},
   "outputs": [
    {
     "data": {
      "text/html": [
       "<div><svg style=\"position: absolute; width: 0; height: 0; overflow: hidden\">\n",
       "<defs>\n",
       "<symbol id=\"icon-database\" viewBox=\"0 0 32 32\">\n",
       "<path d=\"M16 0c-8.837 0-16 2.239-16 5v4c0 2.761 7.163 5 16 5s16-2.239 16-5v-4c0-2.761-7.163-5-16-5z\"></path>\n",
       "<path d=\"M16 17c-8.837 0-16-2.239-16-5v6c0 2.761 7.163 5 16 5s16-2.239 16-5v-6c0 2.761-7.163 5-16 5z\"></path>\n",
       "<path d=\"M16 26c-8.837 0-16-2.239-16-5v6c0 2.761 7.163 5 16 5s16-2.239 16-5v-6c0 2.761-7.163 5-16 5z\"></path>\n",
       "</symbol>\n",
       "<symbol id=\"icon-file-text2\" viewBox=\"0 0 32 32\">\n",
       "<path d=\"M28.681 7.159c-0.694-0.947-1.662-2.053-2.724-3.116s-2.169-2.030-3.116-2.724c-1.612-1.182-2.393-1.319-2.841-1.319h-15.5c-1.378 0-2.5 1.121-2.5 2.5v27c0 1.378 1.122 2.5 2.5 2.5h23c1.378 0 2.5-1.122 2.5-2.5v-19.5c0-0.448-0.137-1.23-1.319-2.841zM24.543 5.457c0.959 0.959 1.712 1.825 2.268 2.543h-4.811v-4.811c0.718 0.556 1.584 1.309 2.543 2.268zM28 29.5c0 0.271-0.229 0.5-0.5 0.5h-23c-0.271 0-0.5-0.229-0.5-0.5v-27c0-0.271 0.229-0.5 0.5-0.5 0 0 15.499-0 15.5 0v7c0 0.552 0.448 1 1 1h7v19.5z\"></path>\n",
       "<path d=\"M23 26h-14c-0.552 0-1-0.448-1-1s0.448-1 1-1h14c0.552 0 1 0.448 1 1s-0.448 1-1 1z\"></path>\n",
       "<path d=\"M23 22h-14c-0.552 0-1-0.448-1-1s0.448-1 1-1h14c0.552 0 1 0.448 1 1s-0.448 1-1 1z\"></path>\n",
       "<path d=\"M23 18h-14c-0.552 0-1-0.448-1-1s0.448-1 1-1h14c0.552 0 1 0.448 1 1s-0.448 1-1 1z\"></path>\n",
       "</symbol>\n",
       "</defs>\n",
       "</svg>\n",
       "<style>/* CSS stylesheet for displaying xarray objects in jupyterlab.\n",
       " *\n",
       " */\n",
       "\n",
       ":root {\n",
       "  --xr-font-color0: var(--jp-content-font-color0, rgba(0, 0, 0, 1));\n",
       "  --xr-font-color2: var(--jp-content-font-color2, rgba(0, 0, 0, 0.54));\n",
       "  --xr-font-color3: var(--jp-content-font-color3, rgba(0, 0, 0, 0.38));\n",
       "  --xr-border-color: var(--jp-border-color2, #e0e0e0);\n",
       "  --xr-disabled-color: var(--jp-layout-color3, #bdbdbd);\n",
       "  --xr-background-color: var(--jp-layout-color0, white);\n",
       "  --xr-background-color-row-even: var(--jp-layout-color1, white);\n",
       "  --xr-background-color-row-odd: var(--jp-layout-color2, #eeeeee);\n",
       "}\n",
       "\n",
       "html[theme=\"dark\"],\n",
       "html[data-theme=\"dark\"],\n",
       "body[data-theme=\"dark\"],\n",
       "body.vscode-dark {\n",
       "  --xr-font-color0: rgba(255, 255, 255, 1);\n",
       "  --xr-font-color2: rgba(255, 255, 255, 0.54);\n",
       "  --xr-font-color3: rgba(255, 255, 255, 0.38);\n",
       "  --xr-border-color: #1f1f1f;\n",
       "  --xr-disabled-color: #515151;\n",
       "  --xr-background-color: #111111;\n",
       "  --xr-background-color-row-even: #111111;\n",
       "  --xr-background-color-row-odd: #313131;\n",
       "}\n",
       "\n",
       ".xr-wrap {\n",
       "  display: block !important;\n",
       "  min-width: 300px;\n",
       "  max-width: 700px;\n",
       "}\n",
       "\n",
       ".xr-text-repr-fallback {\n",
       "  /* fallback to plain text repr when CSS is not injected (untrusted notebook) */\n",
       "  display: none;\n",
       "}\n",
       "\n",
       ".xr-header {\n",
       "  padding-top: 6px;\n",
       "  padding-bottom: 6px;\n",
       "  margin-bottom: 4px;\n",
       "  border-bottom: solid 1px var(--xr-border-color);\n",
       "}\n",
       "\n",
       ".xr-header > div,\n",
       ".xr-header > ul {\n",
       "  display: inline;\n",
       "  margin-top: 0;\n",
       "  margin-bottom: 0;\n",
       "}\n",
       "\n",
       ".xr-obj-type,\n",
       ".xr-array-name {\n",
       "  margin-left: 2px;\n",
       "  margin-right: 10px;\n",
       "}\n",
       "\n",
       ".xr-obj-type {\n",
       "  color: var(--xr-font-color2);\n",
       "}\n",
       "\n",
       ".xr-sections {\n",
       "  padding-left: 0 !important;\n",
       "  display: grid;\n",
       "  grid-template-columns: 150px auto auto 1fr 0 20px 0 20px;\n",
       "}\n",
       "\n",
       ".xr-section-item {\n",
       "  display: contents;\n",
       "}\n",
       "\n",
       ".xr-section-item input {\n",
       "  display: inline-block;\n",
       "  opacity: 0;\n",
       "  height: 0;\n",
       "}\n",
       "\n",
       ".xr-section-item input + label {\n",
       "  color: var(--xr-disabled-color);\n",
       "}\n",
       "\n",
       ".xr-section-item input:enabled + label {\n",
       "  cursor: pointer;\n",
       "  color: var(--xr-font-color2);\n",
       "}\n",
       "\n",
       ".xr-section-item input:focus + label {\n",
       "  border: 2px solid var(--xr-font-color0);\n",
       "}\n",
       "\n",
       ".xr-section-item input:enabled + label:hover {\n",
       "  color: var(--xr-font-color0);\n",
       "}\n",
       "\n",
       ".xr-section-summary {\n",
       "  grid-column: 1;\n",
       "  color: var(--xr-font-color2);\n",
       "  font-weight: 500;\n",
       "}\n",
       "\n",
       ".xr-section-summary > span {\n",
       "  display: inline-block;\n",
       "  padding-left: 0.5em;\n",
       "}\n",
       "\n",
       ".xr-section-summary-in:disabled + label {\n",
       "  color: var(--xr-font-color2);\n",
       "}\n",
       "\n",
       ".xr-section-summary-in + label:before {\n",
       "  display: inline-block;\n",
       "  content: \"►\";\n",
       "  font-size: 11px;\n",
       "  width: 15px;\n",
       "  text-align: center;\n",
       "}\n",
       "\n",
       ".xr-section-summary-in:disabled + label:before {\n",
       "  color: var(--xr-disabled-color);\n",
       "}\n",
       "\n",
       ".xr-section-summary-in:checked + label:before {\n",
       "  content: \"▼\";\n",
       "}\n",
       "\n",
       ".xr-section-summary-in:checked + label > span {\n",
       "  display: none;\n",
       "}\n",
       "\n",
       ".xr-section-summary,\n",
       ".xr-section-inline-details {\n",
       "  padding-top: 4px;\n",
       "  padding-bottom: 4px;\n",
       "}\n",
       "\n",
       ".xr-section-inline-details {\n",
       "  grid-column: 2 / -1;\n",
       "}\n",
       "\n",
       ".xr-section-details {\n",
       "  display: none;\n",
       "  grid-column: 1 / -1;\n",
       "  margin-bottom: 5px;\n",
       "}\n",
       "\n",
       ".xr-section-summary-in:checked ~ .xr-section-details {\n",
       "  display: contents;\n",
       "}\n",
       "\n",
       ".xr-array-wrap {\n",
       "  grid-column: 1 / -1;\n",
       "  display: grid;\n",
       "  grid-template-columns: 20px auto;\n",
       "}\n",
       "\n",
       ".xr-array-wrap > label {\n",
       "  grid-column: 1;\n",
       "  vertical-align: top;\n",
       "}\n",
       "\n",
       ".xr-preview {\n",
       "  color: var(--xr-font-color3);\n",
       "}\n",
       "\n",
       ".xr-array-preview,\n",
       ".xr-array-data {\n",
       "  padding: 0 5px !important;\n",
       "  grid-column: 2;\n",
       "}\n",
       "\n",
       ".xr-array-data,\n",
       ".xr-array-in:checked ~ .xr-array-preview {\n",
       "  display: none;\n",
       "}\n",
       "\n",
       ".xr-array-in:checked ~ .xr-array-data,\n",
       ".xr-array-preview {\n",
       "  display: inline-block;\n",
       "}\n",
       "\n",
       ".xr-dim-list {\n",
       "  display: inline-block !important;\n",
       "  list-style: none;\n",
       "  padding: 0 !important;\n",
       "  margin: 0;\n",
       "}\n",
       "\n",
       ".xr-dim-list li {\n",
       "  display: inline-block;\n",
       "  padding: 0;\n",
       "  margin: 0;\n",
       "}\n",
       "\n",
       ".xr-dim-list:before {\n",
       "  content: \"(\";\n",
       "}\n",
       "\n",
       ".xr-dim-list:after {\n",
       "  content: \")\";\n",
       "}\n",
       "\n",
       ".xr-dim-list li:not(:last-child):after {\n",
       "  content: \",\";\n",
       "  padding-right: 5px;\n",
       "}\n",
       "\n",
       ".xr-has-index {\n",
       "  font-weight: bold;\n",
       "}\n",
       "\n",
       ".xr-var-list,\n",
       ".xr-var-item {\n",
       "  display: contents;\n",
       "}\n",
       "\n",
       ".xr-var-item > div,\n",
       ".xr-var-item label,\n",
       ".xr-var-item > .xr-var-name span {\n",
       "  background-color: var(--xr-background-color-row-even);\n",
       "  margin-bottom: 0;\n",
       "}\n",
       "\n",
       ".xr-var-item > .xr-var-name:hover span {\n",
       "  padding-right: 5px;\n",
       "}\n",
       "\n",
       ".xr-var-list > li:nth-child(odd) > div,\n",
       ".xr-var-list > li:nth-child(odd) > label,\n",
       ".xr-var-list > li:nth-child(odd) > .xr-var-name span {\n",
       "  background-color: var(--xr-background-color-row-odd);\n",
       "}\n",
       "\n",
       ".xr-var-name {\n",
       "  grid-column: 1;\n",
       "}\n",
       "\n",
       ".xr-var-dims {\n",
       "  grid-column: 2;\n",
       "}\n",
       "\n",
       ".xr-var-dtype {\n",
       "  grid-column: 3;\n",
       "  text-align: right;\n",
       "  color: var(--xr-font-color2);\n",
       "}\n",
       "\n",
       ".xr-var-preview {\n",
       "  grid-column: 4;\n",
       "}\n",
       "\n",
       ".xr-index-preview {\n",
       "  grid-column: 2 / 5;\n",
       "  color: var(--xr-font-color2);\n",
       "}\n",
       "\n",
       ".xr-var-name,\n",
       ".xr-var-dims,\n",
       ".xr-var-dtype,\n",
       ".xr-preview,\n",
       ".xr-attrs dt {\n",
       "  white-space: nowrap;\n",
       "  overflow: hidden;\n",
       "  text-overflow: ellipsis;\n",
       "  padding-right: 10px;\n",
       "}\n",
       "\n",
       ".xr-var-name:hover,\n",
       ".xr-var-dims:hover,\n",
       ".xr-var-dtype:hover,\n",
       ".xr-attrs dt:hover {\n",
       "  overflow: visible;\n",
       "  width: auto;\n",
       "  z-index: 1;\n",
       "}\n",
       "\n",
       ".xr-var-attrs,\n",
       ".xr-var-data,\n",
       ".xr-index-data {\n",
       "  display: none;\n",
       "  background-color: var(--xr-background-color) !important;\n",
       "  padding-bottom: 5px !important;\n",
       "}\n",
       "\n",
       ".xr-var-attrs-in:checked ~ .xr-var-attrs,\n",
       ".xr-var-data-in:checked ~ .xr-var-data,\n",
       ".xr-index-data-in:checked ~ .xr-index-data {\n",
       "  display: block;\n",
       "}\n",
       "\n",
       ".xr-var-data > table {\n",
       "  float: right;\n",
       "}\n",
       "\n",
       ".xr-var-name span,\n",
       ".xr-var-data,\n",
       ".xr-index-name div,\n",
       ".xr-index-data,\n",
       ".xr-attrs {\n",
       "  padding-left: 25px !important;\n",
       "}\n",
       "\n",
       ".xr-attrs,\n",
       ".xr-var-attrs,\n",
       ".xr-var-data,\n",
       ".xr-index-data {\n",
       "  grid-column: 1 / -1;\n",
       "}\n",
       "\n",
       "dl.xr-attrs {\n",
       "  padding: 0;\n",
       "  margin: 0;\n",
       "  display: grid;\n",
       "  grid-template-columns: 125px auto;\n",
       "}\n",
       "\n",
       ".xr-attrs dt,\n",
       ".xr-attrs dd {\n",
       "  padding: 0;\n",
       "  margin: 0;\n",
       "  float: left;\n",
       "  padding-right: 10px;\n",
       "  width: auto;\n",
       "}\n",
       "\n",
       ".xr-attrs dt {\n",
       "  font-weight: normal;\n",
       "  grid-column: 1;\n",
       "}\n",
       "\n",
       ".xr-attrs dt:hover span {\n",
       "  display: inline-block;\n",
       "  background: var(--xr-background-color);\n",
       "  padding-right: 10px;\n",
       "}\n",
       "\n",
       ".xr-attrs dd {\n",
       "  grid-column: 2;\n",
       "  white-space: pre-wrap;\n",
       "  word-break: break-all;\n",
       "}\n",
       "\n",
       ".xr-icon-database,\n",
       ".xr-icon-file-text2,\n",
       ".xr-no-icon {\n",
       "  display: inline-block;\n",
       "  vertical-align: middle;\n",
       "  width: 1em;\n",
       "  height: 1.5em !important;\n",
       "  stroke-width: 0;\n",
       "  stroke: currentColor;\n",
       "  fill: currentColor;\n",
       "}\n",
       "</style><pre class='xr-text-repr-fallback'>&lt;xarray.DataArray &#x27;mortality&#x27; (time: 27, y: 2608, x: 2360)&gt; Size: 665MB\n",
       "[166181760 values with dtype=float32]\n",
       "Coordinates:\n",
       "  * x        (x) float64 19kB -1.39e+07 -1.389e+07 ... -1.154e+07 -1.154e+07\n",
       "  * y        (y) float64 21kB 6.28e+06 6.279e+06 ... 3.674e+06 3.673e+06\n",
       "  * time     (time) int64 216B 1997 1998 1999 2000 2001 ... 2020 2021 2022 2023</pre><div class='xr-wrap' style='display:none'><div class='xr-header'><div class='xr-obj-type'>xarray.DataArray</div><div class='xr-array-name'>'mortality'</div><ul class='xr-dim-list'><li><span class='xr-has-index'>time</span>: 27</li><li><span class='xr-has-index'>y</span>: 2608</li><li><span class='xr-has-index'>x</span>: 2360</li></ul></div><ul class='xr-sections'><li class='xr-section-item'><div class='xr-array-wrap'><input id='section-be774111-c3a5-46e0-8bad-151358bac0a5' class='xr-array-in' type='checkbox' checked><label for='section-be774111-c3a5-46e0-8bad-151358bac0a5' title='Show/hide data repr'><svg class='icon xr-icon-database'><use xlink:href='#icon-database'></use></svg></label><div class='xr-array-preview xr-preview'><span>...</span></div><div class='xr-array-data'><pre>[166181760 values with dtype=float32]</pre></div></div></li><li class='xr-section-item'><input id='section-6795669d-3aa8-42be-be8d-d5c7088d39c4' class='xr-section-summary-in' type='checkbox'  checked><label for='section-6795669d-3aa8-42be-be8d-d5c7088d39c4' class='xr-section-summary' >Coordinates: <span>(3)</span></label><div class='xr-section-inline-details'></div><div class='xr-section-details'><ul class='xr-var-list'><li class='xr-var-item'><div class='xr-var-name'><span class='xr-has-index'>x</span></div><div class='xr-var-dims'>(x)</div><div class='xr-var-dtype'>float64</div><div class='xr-var-preview xr-preview'>-1.39e+07 -1.389e+07 ... -1.154e+07</div><input id='attrs-79734e35-a091-43b3-871d-7ff810847ada' class='xr-var-attrs-in' type='checkbox' disabled><label for='attrs-79734e35-a091-43b3-871d-7ff810847ada' title='Show/Hide attributes'><svg class='icon xr-icon-file-text2'><use xlink:href='#icon-file-text2'></use></svg></label><input id='data-6998d1f2-6336-4bee-a699-379dfbae0ffc' class='xr-var-data-in' type='checkbox'><label for='data-6998d1f2-6336-4bee-a699-379dfbae0ffc' title='Show/Hide data repr'><svg class='icon xr-icon-database'><use xlink:href='#icon-database'></use></svg></label><div class='xr-var-attrs'><dl class='xr-attrs'></dl></div><div class='xr-var-data'><pre>array([-13895715.609, -13894715.609, -13893715.609, ..., -11538715.609,\n",
       "       -11537715.609, -11536715.609], shape=(2360,))</pre></div></li><li class='xr-var-item'><div class='xr-var-name'><span class='xr-has-index'>y</span></div><div class='xr-var-dims'>(y)</div><div class='xr-var-dtype'>float64</div><div class='xr-var-preview xr-preview'>6.28e+06 6.279e+06 ... 3.673e+06</div><input id='attrs-65f01700-a135-46ab-878f-8b57f63b4d71' class='xr-var-attrs-in' type='checkbox' disabled><label for='attrs-65f01700-a135-46ab-878f-8b57f63b4d71' title='Show/Hide attributes'><svg class='icon xr-icon-file-text2'><use xlink:href='#icon-file-text2'></use></svg></label><input id='data-7c07a44e-8f8d-4a2e-9637-3659e3d680af' class='xr-var-data-in' type='checkbox'><label for='data-7c07a44e-8f8d-4a2e-9637-3659e3d680af' title='Show/Hide data repr'><svg class='icon xr-icon-database'><use xlink:href='#icon-database'></use></svg></label><div class='xr-var-attrs'><dl class='xr-attrs'></dl></div><div class='xr-var-data'><pre>array([6279802.419, 6278802.419, 6277802.419, ..., 3674802.419, 3673802.419,\n",
       "       3672802.419], shape=(2608,))</pre></div></li><li class='xr-var-item'><div class='xr-var-name'><span class='xr-has-index'>time</span></div><div class='xr-var-dims'>(time)</div><div class='xr-var-dtype'>int64</div><div class='xr-var-preview xr-preview'>1997 1998 1999 ... 2021 2022 2023</div><input id='attrs-273eec14-d8f7-46da-860c-af6c11349dc6' class='xr-var-attrs-in' type='checkbox' disabled><label for='attrs-273eec14-d8f7-46da-860c-af6c11349dc6' title='Show/Hide attributes'><svg class='icon xr-icon-file-text2'><use xlink:href='#icon-file-text2'></use></svg></label><input id='data-1f2d320b-1377-43a3-b4f9-ba3fc5f84a46' class='xr-var-data-in' type='checkbox'><label for='data-1f2d320b-1377-43a3-b4f9-ba3fc5f84a46' title='Show/Hide data repr'><svg class='icon xr-icon-database'><use xlink:href='#icon-database'></use></svg></label><div class='xr-var-attrs'><dl class='xr-attrs'></dl></div><div class='xr-var-data'><pre>array([1997, 1998, 1999, 2000, 2001, 2002, 2003, 2004, 2005, 2006, 2007, 2008,\n",
       "       2009, 2010, 2011, 2012, 2013, 2014, 2015, 2016, 2017, 2018, 2019, 2020,\n",
       "       2021, 2022, 2023])</pre></div></li></ul></div></li><li class='xr-section-item'><input id='section-45e09394-cb4f-490d-8911-459cf148d8d1' class='xr-section-summary-in' type='checkbox'  ><label for='section-45e09394-cb4f-490d-8911-459cf148d8d1' class='xr-section-summary' >Indexes: <span>(3)</span></label><div class='xr-section-inline-details'></div><div class='xr-section-details'><ul class='xr-var-list'><li class='xr-var-item'><div class='xr-index-name'><div>x</div></div><div class='xr-index-preview'>PandasIndex</div><input type='checkbox' disabled/><label></label><input id='index-c404a74d-d74c-487b-9940-2d96ff169ea1' class='xr-index-data-in' type='checkbox'/><label for='index-c404a74d-d74c-487b-9940-2d96ff169ea1' title='Show/Hide index repr'><svg class='icon xr-icon-database'><use xlink:href='#icon-database'></use></svg></label><div class='xr-index-data'><pre>PandasIndex(Index([-13895715.609, -13894715.609, -13893715.609, -13892715.609,\n",
       "       -13891715.609, -13890715.609, -13889715.609, -13888715.609,\n",
       "       -13887715.609, -13886715.609,\n",
       "       ...\n",
       "       -11545715.609, -11544715.609, -11543715.609, -11542715.609,\n",
       "       -11541715.609, -11540715.609, -11539715.609, -11538715.609,\n",
       "       -11537715.609, -11536715.609],\n",
       "      dtype=&#x27;float64&#x27;, name=&#x27;x&#x27;, length=2360))</pre></div></li><li class='xr-var-item'><div class='xr-index-name'><div>y</div></div><div class='xr-index-preview'>PandasIndex</div><input type='checkbox' disabled/><label></label><input id='index-440ac2e6-5ee3-45f0-84ba-af315d6b82e0' class='xr-index-data-in' type='checkbox'/><label for='index-440ac2e6-5ee3-45f0-84ba-af315d6b82e0' title='Show/Hide index repr'><svg class='icon xr-icon-database'><use xlink:href='#icon-database'></use></svg></label><div class='xr-index-data'><pre>PandasIndex(Index([       6279802.419,        6278802.419,        6277802.419,\n",
       "              6276802.419,        6275802.419,        6274802.419,\n",
       "              6273802.419,        6272802.419,        6271802.419,\n",
       "              6270802.419,\n",
       "       ...\n",
       "       3681802.4189999998, 3680802.4189999998, 3679802.4189999998,\n",
       "       3678802.4189999998, 3677802.4189999998, 3676802.4189999998,\n",
       "       3675802.4189999998, 3674802.4189999998, 3673802.4189999998,\n",
       "       3672802.4189999998],\n",
       "      dtype=&#x27;float64&#x27;, name=&#x27;y&#x27;, length=2608))</pre></div></li><li class='xr-var-item'><div class='xr-index-name'><div>time</div></div><div class='xr-index-preview'>PandasIndex</div><input type='checkbox' disabled/><label></label><input id='index-87177f3f-fa23-4c90-9551-ce1fb4ed0273' class='xr-index-data-in' type='checkbox'/><label for='index-87177f3f-fa23-4c90-9551-ce1fb4ed0273' title='Show/Hide index repr'><svg class='icon xr-icon-database'><use xlink:href='#icon-database'></use></svg></label><div class='xr-index-data'><pre>PandasIndex(Index([1997, 1998, 1999, 2000, 2001, 2002, 2003, 2004, 2005, 2006, 2007, 2008,\n",
       "       2009, 2010, 2011, 2012, 2013, 2014, 2015, 2016, 2017, 2018, 2019, 2020,\n",
       "       2021, 2022, 2023],\n",
       "      dtype=&#x27;int64&#x27;, name=&#x27;time&#x27;))</pre></div></li></ul></div></li><li class='xr-section-item'><input id='section-56878eae-1fa0-4dcd-8548-e187a3ca7874' class='xr-section-summary-in' type='checkbox' disabled ><label for='section-56878eae-1fa0-4dcd-8548-e187a3ca7874' class='xr-section-summary'  title='Expand/collapse section'>Attributes: <span>(0)</span></label><div class='xr-section-inline-details'></div><div class='xr-section-details'><dl class='xr-attrs'></dl></div></li></ul></div></div>"
      ],
      "text/plain": [
       "<xarray.DataArray 'mortality' (time: 27, y: 2608, x: 2360)> Size: 665MB\n",
       "[166181760 values with dtype=float32]\n",
       "Coordinates:\n",
       "  * x        (x) float64 19kB -1.39e+07 -1.389e+07 ... -1.154e+07 -1.154e+07\n",
       "  * y        (y) float64 21kB 6.28e+06 6.279e+06 ... 3.674e+06 3.673e+06\n",
       "  * time     (time) int64 216B 1997 1998 1999 2000 2001 ... 2020 2021 2022 2023"
      ]
     },
     "execution_count": 4,
     "metadata": {},
     "output_type": "execute_result"
    }
   ],
   "source": [
    "def preprocess_mort(ds):\n",
    "    year = os.path.basename(ds.encoding[\"source\"])\n",
    "    year = int(year.replace(\".tif\", \"\"))\n",
    "    return ds.squeeze(drop=True)\\\n",
    "        .drop_vars(\"spatial_ref\")\\\n",
    "        .rename(band_data=\"mortality\")\\\n",
    "        .assign_coords(time=year)\n",
    "\n",
    "mort = xr.open_dataset(\"data_working/westmort_1km.nc\")[\"mortality\"]\n",
    "mort"
   ]
  },
  {
   "cell_type": "markdown",
   "id": "81575410-124c-49b2-9b2c-fce4dd46aa9a",
   "metadata": {},
   "source": [
    "Set up data pipeline. Here we want 64x64 patches in space, and a time series looking back 5 years. These are important hyperparameters to tune. There's lot of NAs, so only keep patches that are at least 70% valid *in the last time step*."
   ]
  },
  {
   "cell_type": "code",
   "execution_count": 5,
   "id": "57593064-9dc0-4641-a864-59eaabc15020",
   "metadata": {},
   "outputs": [
    {
     "name": "stdout",
     "output_type": "stream",
     "text": [
      "Input size: torch.Size([4, 64, 64])\n",
      "Output size: torch.Size([64, 64])\n"
     ]
    }
   ],
   "source": [
    "from torch.utils.data import DataLoader, Dataset\n",
    "\n",
    "class BatchGenDataset(Dataset):\n",
    "    def __init__(self, bgen):\n",
    "        self.bgen = bgen\n",
    "\n",
    "    def __len__(self):\n",
    "        return len(self.bgen)\n",
    "\n",
    "    def __getitem__(self, idx):\n",
    "        # replace nans with 0 only in X\n",
    "        patch = torch.tensor(self.bgen[idx].values)\n",
    "        X = patch[:-1, ...]\n",
    "        X = torch.nan_to_num(X)\n",
    "        y = patch[-1, ...]\n",
    "        return X, y\n",
    "\n",
    "def patch_filter(ds, batch, prop_valid=0.70):\n",
    "    # Accept patch if the last time step has too many NaNs.\n",
    "    nan_mask = ds.isel(**batch).isel(time=-1).isnull().astype(np.float32)\n",
    "    \n",
    "    return 1 - nan_mask.mean() >= prop_valid\n",
    "\n",
    "# Do a temporal split\n",
    "bgen_train = xbatcher.BatchGenerator(\n",
    "    mort.sel(time=slice(None, 2014)),\n",
    "    input_dims=dict(x=64, y=64, time=5),\n",
    "    input_overlap=dict(x=0, y=0, time=4),\n",
    "    filter_fn=patch_filter\n",
    ")\n",
    "bgen_valid = xbatcher.BatchGenerator(\n",
    "    mort.sel(time=slice(2014, None)),\n",
    "    input_dims=dict(x=64, y=64, time=5),\n",
    "    input_overlap=dict(x=0, y=0, time=4),\n",
    "    filter_fn=patch_filter\n",
    ")\n",
    "\n",
    "train_ds = BatchGenDataset(bgen_train)\n",
    "valid_ds = BatchGenDataset(bgen_valid)\n",
    "X, y = train_ds[0]\n",
    "print(\"Input size:\", X.size())\n",
    "print(\"Output size:\", y.size())"
   ]
  },
  {
   "cell_type": "markdown",
   "id": "06f8ef8c-2787-45a4-95e5-24594a903155",
   "metadata": {},
   "source": [
    "Define model structure."
   ]
  },
  {
   "cell_type": "code",
   "execution_count": 6,
   "id": "111ee90e-2a6f-4868-82f9-09c1511304e8",
   "metadata": {},
   "outputs": [],
   "source": [
    "class UnetModel(pl.LightningModule):\n",
    "    def __init__(self, in_channels):\n",
    "        super(UnetModel, self).__init__()\n",
    "        self.train_nrmse = torchmetrics.regression.NormalizedRootMeanSquaredError(normalization=\"std\")\n",
    "        self.train_r2    = torchmetrics.regression.PearsonCorrCoef()\n",
    "        self.valid_nrmse = torchmetrics.regression.NormalizedRootMeanSquaredError(normalization=\"std\")\n",
    "        self.valid_r2    = torchmetrics.regression.PearsonCorrCoef()\n",
    "        self.loss        = torch.nn.MSELoss()\n",
    "\n",
    "        self.unet = smp.Unet(encoder_name=\"resnet18\", encoder_weights=\"imagenet\", in_channels=in_channels)\n",
    "        # Disable grad in the encoder\n",
    "        for p in self.unet.encoder.parameters():\n",
    "            p.requires_grad = False\n",
    "\n",
    "        self.sigmoid = torch.nn.Sigmoid()\n",
    "\n",
    "    def forward(self, X):\n",
    "        X = self.unet(X)\n",
    "        X = self.sigmoid(X)\n",
    "        # Squeeze out channel dim\n",
    "        X = X.squeeze(1)\n",
    "        # Rescale from 0-100\n",
    "        return X*100\n",
    "\n",
    "    def configure_optimizers(self):\n",
    "        optimizer = torch.optim.Adam(self.parameters(), lr=1e-3)\n",
    "        # Using a scheduler is optional but can be helpful.\n",
    "        # The scheduler reduces the LR if the validation performance hasn't improved for the last N epochs\n",
    "        scheduler = torch.optim.lr_scheduler.ReduceLROnPlateau(optimizer, mode=\"min\", factor=0.2, patience=5, min_lr=5e-5)\n",
    "        return {\"optimizer\": optimizer, \"lr_scheduler\": scheduler, \"monitor\": \"valid_loss\"}\n",
    "        \n",
    "    def _get_loss(self, y, y_hat):\n",
    "        loss = self.loss(y, y_hat)\n",
    "        return loss\n",
    "\n",
    "    def _nan_mask(self, y):\n",
    "        return ~torch.isnan(y.view(-1))\n",
    "\n",
    "    def training_step(self, batch, batch_idx):\n",
    "        X, y = batch\n",
    "        y_hat = self.forward(X)\n",
    "\n",
    "        mask = self._nan_mask(y)\n",
    "        y = y.view(-1)[mask]\n",
    "        y_hat = y_hat.view(-1)[mask]\n",
    "\n",
    "        loss = self._get_loss(y_hat, y)\n",
    "        self.log(\"train_loss\", loss, prog_bar=True, on_epoch=True, on_step=False)\n",
    "\n",
    "        self.train_nrmse(y_hat, y)\n",
    "        self.log(\"train_nrmse\", self.train_nrmse, on_epoch=True, on_step=False)\n",
    "\n",
    "        self.train_r2(y_hat, y)\n",
    "        self.log(\"train_corr\", self.train_r2, on_epoch=True, on_step=False)\n",
    "            \n",
    "        return loss\n",
    "\n",
    "    def validation_step(self, batch, batch_idx):\n",
    "        X, y = batch\n",
    "        y_hat = self.forward(X)\n",
    "\n",
    "        mask = self._nan_mask(y)\n",
    "        y = y.view(-1)[mask]\n",
    "        y_hat = y_hat.view(-1)[mask]\n",
    "\n",
    "        loss = self._get_loss(y_hat, y)\n",
    "        self.log(\"valid_loss\", loss, prog_bar=True, on_epoch=True, on_step=False)\n",
    "\n",
    "        self.valid_nrmse(y_hat, y)\n",
    "        self.log(\"valid_nrmse\", self.valid_nrmse, on_epoch=True, on_step=False)\n",
    "\n",
    "        self.valid_r2(y_hat, y)\n",
    "        self.log(\"valid_corr\", self.valid_r2, on_epoch=True, on_step=False)\n",
    "\n",
    "    # PL docs indicate that this step is unnecessary, but logs show nonsensical\n",
    "    # metrics otherwise.\n",
    "    def on_train_epoch_end(self):\n",
    "        self.train_nrmse.reset()\n",
    "        self.train_r2.reset()\n",
    "\n",
    "    def on_validation_epoch_end(self):\n",
    "        self.valid_nrmse.reset()\n",
    "        self.valid_r2.reset()"
   ]
  },
  {
   "cell_type": "code",
   "execution_count": 7,
   "id": "83399877-1359-4ad9-a65c-ccf7b21685e2",
   "metadata": {},
   "outputs": [],
   "source": [
    "# Check shape\n",
    "unet = UnetModel(4).to(device)\n",
    "out = unet(X.unsqueeze(0))\n",
    "assert(out.shape == y.unsqueeze(0).shape)"
   ]
  },
  {
   "cell_type": "markdown",
   "id": "d2df7614-dec4-4ceb-9e90-b8d9c7826c87",
   "metadata": {},
   "source": [
    "Define trainer."
   ]
  },
  {
   "cell_type": "code",
   "execution_count": 8,
   "id": "9e7996c0-f084-4715-940e-07478817583b",
   "metadata": {},
   "outputs": [
    {
     "name": "stdout",
     "output_type": "stream",
     "text": [
      "Training batches: 47\n",
      "Validation batches: 19\n"
     ]
    }
   ],
   "source": [
    "train_loader = torch.utils.data.DataLoader(train_ds, batch_size=32, shuffle=True, drop_last=True, generator=torch.Generator(device))\n",
    "val_loader   = torch.utils.data.DataLoader(valid_ds, batch_size=32, shuffle=False, drop_last=True, generator=torch.Generator(device))\n",
    "print(\"Training batches:\", len(train_loader))\n",
    "print(\"Validation batches:\", len(val_loader))"
   ]
  },
  {
   "cell_type": "code",
   "execution_count": null,
   "id": "baac9099-0d66-4f4a-826b-531cd3fafb46",
   "metadata": {},
   "outputs": [
    {
     "name": "stderr",
     "output_type": "stream",
     "text": [
      "GPU available: True (cuda), used: True\n",
      "TPU available: False, using: 0 TPU cores\n",
      "HPU available: False, using: 0 HPUs\n",
      "LOCAL_RANK: 0 - CUDA_VISIBLE_DEVICES: [0]\n",
      "\n",
      "  | Name        | Type                           | Params | Mode \n",
      "-----------------------------------------------------------------------\n",
      "0 | train_nrmse | NormalizedRootMeanSquaredError | 0      | train\n",
      "1 | train_r2    | PearsonCorrCoef                | 0      | train\n",
      "2 | valid_nrmse | NormalizedRootMeanSquaredError | 0      | train\n",
      "3 | valid_r2    | PearsonCorrCoef                | 0      | train\n",
      "4 | loss        | MSELoss                        | 0      | train\n",
      "5 | unet        | Unet                           | 14.3 M | train\n",
      "6 | sigmoid     | Sigmoid                        | 0      | train\n",
      "-----------------------------------------------------------------------\n",
      "3.2 M     Trainable params\n",
      "11.2 M    Non-trainable params\n",
      "14.3 M    Total params\n",
      "57.325    Total estimated model params size (MB)\n",
      "146       Modules in train mode\n",
      "0         Modules in eval mode\n"
     ]
    },
    {
     "data": {
      "application/vnd.jupyter.widget-view+json": {
       "model_id": "6d2321d921644cf390a2e32697510bf5",
       "version_major": 2,
       "version_minor": 0
      },
      "text/plain": [
       "Sanity Checking: |          | 0/? [00:00<?, ?it/s]"
      ]
     },
     "metadata": {},
     "output_type": "display_data"
    },
    {
     "name": "stderr",
     "output_type": "stream",
     "text": [
      "/srv/conda/envs/notebook/lib/python3.12/site-packages/pytorch_lightning/trainer/connectors/data_connector.py:425: The 'val_dataloader' does not have many workers which may be a bottleneck. Consider increasing the value of the `num_workers` argument` to `num_workers=3` in the `DataLoader` to improve performance.\n",
      "/srv/conda/envs/notebook/lib/python3.12/site-packages/torchmetrics/utilities/prints.py:43: UserWarning: The ``compute`` method of metric NormalizedRootMeanSquaredError was called before the ``update`` method which may lead to errors, as metric states have not yet been updated.\n",
      "  warnings.warn(*args, **kwargs)\n",
      "/srv/conda/envs/notebook/lib/python3.12/site-packages/torchmetrics/utilities/prints.py:43: UserWarning: The ``compute`` method of metric PearsonCorrCoef was called before the ``update`` method which may lead to errors, as metric states have not yet been updated.\n",
      "  warnings.warn(*args, **kwargs)\n",
      "/srv/conda/envs/notebook/lib/python3.12/site-packages/torchmetrics/utilities/prints.py:43: UserWarning: The variance of predictions or target is close to zero. This can cause instability in Pearson correlationcoefficient, leading to wrong results. Consider re-scaling the input if possible or computing using alarger dtype (currently using torch.float32). Setting the correlation coefficient to nan.\n",
      "  warnings.warn(*args, **kwargs)\n",
      "/srv/conda/envs/notebook/lib/python3.12/site-packages/pytorch_lightning/trainer/connectors/data_connector.py:425: The 'train_dataloader' does not have many workers which may be a bottleneck. Consider increasing the value of the `num_workers` argument` to `num_workers=3` in the `DataLoader` to improve performance.\n",
      "/srv/conda/envs/notebook/lib/python3.12/site-packages/pytorch_lightning/loops/fit_loop.py:310: The number of training batches (47) is smaller than the logging interval Trainer(log_every_n_steps=50). Set a lower value for log_every_n_steps if you want to see logs for the training epoch.\n"
     ]
    },
    {
     "data": {
      "application/vnd.jupyter.widget-view+json": {
       "model_id": "f0c6c26cc52542278e5a236d827d462f",
       "version_major": 2,
       "version_minor": 0
      },
      "text/plain": [
       "Training: |          | 0/? [00:00<?, ?it/s]"
      ]
     },
     "metadata": {},
     "output_type": "display_data"
    },
    {
     "data": {
      "application/vnd.jupyter.widget-view+json": {
       "model_id": "c5b491e69d6b4416897aecd002722ff5",
       "version_major": 2,
       "version_minor": 0
      },
      "text/plain": [
       "Validation: |          | 0/? [00:00<?, ?it/s]"
      ]
     },
     "metadata": {},
     "output_type": "display_data"
    },
    {
     "data": {
      "application/vnd.jupyter.widget-view+json": {
       "model_id": "a49bc188a4ab4905b2545c407014930d",
       "version_major": 2,
       "version_minor": 0
      },
      "text/plain": [
       "Validation: |          | 0/? [00:00<?, ?it/s]"
      ]
     },
     "metadata": {},
     "output_type": "display_data"
    },
    {
     "data": {
      "application/vnd.jupyter.widget-view+json": {
       "model_id": "e972a1cc28424d248ff35beaa2e89a22",
       "version_major": 2,
       "version_minor": 0
      },
      "text/plain": [
       "Validation: |          | 0/? [00:00<?, ?it/s]"
      ]
     },
     "metadata": {},
     "output_type": "display_data"
    },
    {
     "data": {
      "application/vnd.jupyter.widget-view+json": {
       "model_id": "209de2de4a5d48ddb0317a1366ee09ca",
       "version_major": 2,
       "version_minor": 0
      },
      "text/plain": [
       "Validation: |          | 0/? [00:00<?, ?it/s]"
      ]
     },
     "metadata": {},
     "output_type": "display_data"
    },
    {
     "data": {
      "application/vnd.jupyter.widget-view+json": {
       "model_id": "d9b8c1c99d76431092e145b72dce0857",
       "version_major": 2,
       "version_minor": 0
      },
      "text/plain": [
       "Validation: |          | 0/? [00:00<?, ?it/s]"
      ]
     },
     "metadata": {},
     "output_type": "display_data"
    },
    {
     "data": {
      "application/vnd.jupyter.widget-view+json": {
       "model_id": "58c8d75a332b4eadb6c324982e5d36d9",
       "version_major": 2,
       "version_minor": 0
      },
      "text/plain": [
       "Validation: |          | 0/? [00:00<?, ?it/s]"
      ]
     },
     "metadata": {},
     "output_type": "display_data"
    },
    {
     "data": {
      "application/vnd.jupyter.widget-view+json": {
       "model_id": "677876ec7200423e80e1fd125a160967",
       "version_major": 2,
       "version_minor": 0
      },
      "text/plain": [
       "Validation: |          | 0/? [00:00<?, ?it/s]"
      ]
     },
     "metadata": {},
     "output_type": "display_data"
    },
    {
     "data": {
      "application/vnd.jupyter.widget-view+json": {
       "model_id": "7bb16034e32d4375a90a8885d74e1d92",
       "version_major": 2,
       "version_minor": 0
      },
      "text/plain": [
       "Validation: |          | 0/? [00:00<?, ?it/s]"
      ]
     },
     "metadata": {},
     "output_type": "display_data"
    },
    {
     "data": {
      "application/vnd.jupyter.widget-view+json": {
       "model_id": "7252bd4bbffd4640ace9cecb5f4276a1",
       "version_major": 2,
       "version_minor": 0
      },
      "text/plain": [
       "Validation: |          | 0/? [00:00<?, ?it/s]"
      ]
     },
     "metadata": {},
     "output_type": "display_data"
    },
    {
     "data": {
      "application/vnd.jupyter.widget-view+json": {
       "model_id": "2e9093c30e4943de98a702d58560cc9c",
       "version_major": 2,
       "version_minor": 0
      },
      "text/plain": [
       "Validation: |          | 0/? [00:00<?, ?it/s]"
      ]
     },
     "metadata": {},
     "output_type": "display_data"
    },
    {
     "data": {
      "application/vnd.jupyter.widget-view+json": {
       "model_id": "f2288a3ff8a744aa9f00efce05a34485",
       "version_major": 2,
       "version_minor": 0
      },
      "text/plain": [
       "Validation: |          | 0/? [00:00<?, ?it/s]"
      ]
     },
     "metadata": {},
     "output_type": "display_data"
    }
   ],
   "source": [
    "import datetime\n",
    "today = datetime.date.today().strftime(\"%Y%m%d\")\n",
    "trainer = pl.Trainer(\n",
    "    default_root_dir=os.path.join(\"logs\", f\"{today}_damage_unet_64x64x5\"),\n",
    "    accelerator=\"auto\",\n",
    "    devices=1,\n",
    "    max_epochs=30,\n",
    "    callbacks=[\n",
    "        pl.callbacks.EarlyStopping(\"valid_loss\", min_delta=0.1, patience=5),\n",
    "        pl.callbacks.ModelCheckpoint(),\n",
    "    ]\n",
    ")\n",
    "\n",
    "trainer.fit(unet, train_loader, val_loader)"
   ]
  },
  {
   "cell_type": "markdown",
   "id": "6979d7fb-3bf4-4c29-a8ea-e4f67330c3d1",
   "metadata": {},
   "source": [
    "Now compare with naive baselines."
   ]
  },
  {
   "cell_type": "code",
   "execution_count": null,
   "id": "6feb43b9-18e0-4324-9fb3-fded3ab3ad5a",
   "metadata": {},
   "outputs": [],
   "source": [
    "def lastobs(X):\n",
    "    return torch.nan_to_num(X[:, -1, ...])\n",
    "\n",
    "def timeavg(X):\n",
    "    return torch.nan_to_num(torch.nanmean(X, dim=1))\n",
    "\n",
    "def eval_naive_model(loader, metrics, m):\n",
    "    for X, y in loader:\n",
    "        y_hat = m(X)\n",
    "\n",
    "        y_flat = y.view(-1)\n",
    "        y_hat_flat = y_hat.view(-1)\n",
    "        \n",
    "        mask = ~torch.isnan(y_flat)\n",
    "\n",
    "        y_flat = y_flat[mask]\n",
    "        y_hat_flat = y_hat_flat[mask]\n",
    "        for metric in metrics:\n",
    "            metric.update(y_hat_flat, y_flat)\n",
    "\n",
    "    return metrics"
   ]
  },
  {
   "cell_type": "code",
   "execution_count": null,
   "id": "1c00a5e7-5904-48a4-8478-1c349cf84b40",
   "metadata": {},
   "outputs": [],
   "source": [
    "for label, loader in zip([\"train\", \"valid\"], [train_loader, val_loader]):\n",
    "    for naive_model in [lastobs, timeavg]:\n",
    "        mse   = torchmetrics.regression.MeanSquaredError()\n",
    "        corr  = torchmetrics.regression.PearsonCorrCoef()\n",
    "        nrmse = torchmetrics.regression.NormalizedRootMeanSquaredError(normalization=\"std\")\n",
    "        eval_naive_model(loader, [mse, corr, nrmse], naive_model)\n",
    "        trainer.logger.log_metrics({f\"{label}_{naive_model.__name__}_loss\":mse.compute()})\n",
    "        trainer.logger.log_metrics({f\"{label}_{naive_model.__name__}_corr\":corr.compute()})\n",
    "        trainer.logger.log_metrics({f\"{label}_{naive_model.__name__}_nrmse\":nrmse.compute()})"
   ]
  },
  {
   "cell_type": "markdown",
   "id": "2e59a056-6d05-4f41-90d7-0b2f3b4ebd03",
   "metadata": {},
   "source": [
    "Plot metrics"
   ]
  },
  {
   "cell_type": "code",
   "execution_count": null,
   "id": "6d53c69b-ff45-45f6-8b00-382b37105276",
   "metadata": {},
   "outputs": [],
   "source": [
    "from functools import reduce\n",
    "\n",
    "versions = os.listdir(os.path.join(trainer.default_root_dir, \"lightning_logs\"))\n",
    "latest_version = max(versions, key=lambda x: int(x[-1]))\n",
    "\n",
    "log = util.training.parse_tensorboard(os.path.join(trainer.default_root_dir, \"lightning_logs\", latest_version))\n",
    "dfs = [df.rename(columns=dict(value=key)).drop(columns=\"wall_time\") for key, df in log.items()]\n",
    "fulldf = reduce(lambda x, y: pd.merge(x, y, on=[\"step\"], how=\"outer\"), dfs)\n",
    "naive_models = fulldf.iloc[0].dropna()\n",
    "fulldf = fulldf[~fulldf.train_loss.isna()]"
   ]
  },
  {
   "cell_type": "code",
   "execution_count": null,
   "id": "2b4762fa-2db7-4460-8503-cc1b15f8578d",
   "metadata": {},
   "outputs": [],
   "source": [
    "naive_models"
   ]
  },
  {
   "cell_type": "code",
   "execution_count": null,
   "id": "68b380b5-511b-49b8-b550-337c3a27fd90",
   "metadata": {},
   "outputs": [],
   "source": [
    "# Plots are easier to read when we ignore the first few epochs\n",
    "# where the model is just learning the bias\n",
    "fulldf[fulldf.epoch > 5].plot(\n",
    "    x=\"epoch\", y=[\"train_loss\", \"valid_loss\", \"train_nrmse\", \"valid_nrmse\", \"train_corr\", \"valid_corr\"],\n",
    "    subplots=[(\"train_loss\", \"valid_loss\"), (\"train_nrmse\", \"valid_nrmse\"), (\"train_corr\", \"valid_corr\")],\n",
    "    layout=(1, 3),\n",
    "    sharex=True, sharey=False,\n",
    "    grid=True,\n",
    "    figsize=(12, 5),\n",
    ")"
   ]
  },
  {
   "cell_type": "markdown",
   "id": "ef926c6a-fb08-4c64-b6d3-6ee01ff03b21",
   "metadata": {},
   "source": [
    "Show a 1-to-1 plot"
   ]
  },
  {
   "cell_type": "code",
   "execution_count": null,
   "id": "266e4a48-626c-4f99-a992-0942ef520ff1",
   "metadata": {},
   "outputs": [],
   "source": [
    "y_hat  = []\n",
    "y_true = []\n",
    "unet = unet.to(device)\n",
    "for X, y in train_loader:\n",
    "    y_hat.append(unet(X))\n",
    "    y_true.append(y)"
   ]
  },
  {
   "cell_type": "code",
   "execution_count": null,
   "id": "8ea5c2ff-6cfe-4cf5-b5ac-0d4f95281a23",
   "metadata": {},
   "outputs": [],
   "source": [
    "y_hat_flat  = torch.stack(y_hat).view(-1)\n",
    "y_true_flat = torch.stack(y_true).view(-1)\n",
    "\n",
    "mask = ~torch.isnan(y_true_flat)\n",
    "\n",
    "y_hat_nona  = y_hat_flat[mask]\n",
    "y_true_nona = y_true_flat[mask]\n",
    "\n",
    "print(y_hat_nona.shape)\n",
    "print(y_true_nona.shape)"
   ]
  },
  {
   "cell_type": "code",
   "execution_count": null,
   "id": "d5429c04-0145-42d0-aebf-723035be09e9",
   "metadata": {},
   "outputs": [],
   "source": [
    "y_hat_np = y_hat_nona.detach().cpu().numpy()\n",
    "y_true_np = y_true_nona.detach().cpu().numpy()"
   ]
  },
  {
   "cell_type": "code",
   "execution_count": null,
   "id": "01175bb9-2dc8-4553-86b7-1383dd5d4090",
   "metadata": {},
   "outputs": [],
   "source": [
    "def with_jitter(arr):\n",
    "    stdev = np.std(arr) * 0.1\n",
    "    return arr + np.random.randn(*arr.shape)*stdev\n",
    "\n",
    "plt.grid()\n",
    "plt.scatter(with_jitter(y_true_np), y_hat_np, s=1, alpha=0.5)\n",
    "plt.gca().set_ylim(0, 75)\n",
    "plt.xlabel(\"True mortality %\")\n",
    "plt.ylabel(\"Predicted mortality %\")\n",
    "plt.show()"
   ]
  }
 ],
 "metadata": {
  "kernelspec": {
   "display_name": "Python 3 (ipykernel)",
   "language": "python",
   "name": "python3"
  },
  "language_info": {
   "codemirror_mode": {
    "name": "ipython",
    "version": 3
   },
   "file_extension": ".py",
   "mimetype": "text/x-python",
   "name": "python",
   "nbconvert_exporter": "python",
   "pygments_lexer": "ipython3",
   "version": "3.12.10"
  }
 },
 "nbformat": 4,
 "nbformat_minor": 5
}
