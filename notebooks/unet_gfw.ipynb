{
 "cells": [
  {
   "cell_type": "markdown",
   "id": "3fc583bb-faf5-4281-84fe-20fe1b007cc9",
   "metadata": {},
   "source": [
    "### Use autocorrelation to predict mortality with a Unet\n",
    "\n",
    "We know that spatiotemporal autocorrelation dominates the mortality signal. Unets may be well-suited to learning these patterns."
   ]
  },
  {
   "cell_type": "code",
   "execution_count": 1,
   "id": "30bc7748-8841-4b51-adbc-e482281b989e",
   "metadata": {},
   "outputs": [
    {
     "name": "stdout",
     "output_type": "stream",
     "text": [
      "0.1.dev236+g2e721fc\n"
     ]
    }
   ],
   "source": [
    "!pip -q install segmentation-models-pytorch tensorboard\n",
    "!pip -q install git+https://github.com/s-kganz/xbatcher.git@patch_filter_resample\n",
    "# Make sure git install worked\n",
    "import xbatcher\n",
    "print(xbatcher.__version__)"
   ]
  },
  {
   "cell_type": "code",
   "execution_count": 2,
   "id": "03f5caaa-0a80-49a2-baea-a5d5ffe1ffee",
   "metadata": {},
   "outputs": [
    {
     "name": "stderr",
     "output_type": "stream",
     "text": [
      "/home/jovyan/ForestLST/util/__init__.py:19: UserWarning: GCloud SDK not found! Module util.gcs will not be loaded.\n",
      "  warnings.warn(\"GCloud SDK not found! Module util.gcs will not be loaded.\")\n"
     ]
    }
   ],
   "source": [
    "# Deep learning stuff\n",
    "import torch\n",
    "import torchmetrics\n",
    "import pytorch_lightning as pl\n",
    "import segmentation_models_pytorch as smp\n",
    "\n",
    "# Geospatial\n",
    "import xarray as xr\n",
    "import rioxarray\n",
    "\n",
    "# Etc\n",
    "import pandas as pd\n",
    "import numpy as np\n",
    "import matplotlib\n",
    "from matplotlib import pyplot as plt\n",
    "from sklearn import metrics\n",
    "import os \n",
    "\n",
    "if 'notebooks' in os.getcwd():\n",
    "    os.chdir(\"..\")\n",
    "\n",
    "import util"
   ]
  },
  {
   "cell_type": "code",
   "execution_count": 3,
   "id": "087ffc4a-8dfa-4976-8b4d-d07a64c18ab9",
   "metadata": {},
   "outputs": [
    {
     "name": "stdout",
     "output_type": "stream",
     "text": [
      "Using device: cuda\n",
      "\n",
      "Tesla T4\n",
      "Memory Usage:\n",
      "Allocated: 0.0 GB\n",
      "Cached:    0.0 GB\n"
     ]
    }
   ],
   "source": [
    "# Set up torch device\n",
    "# If we have gpu available, use it\n",
    "device = torch.device('cuda' if torch.cuda.is_available() else 'cpu')\n",
    "print('Using device:', device)\n",
    "print()\n",
    "torch.set_default_device(device)\n",
    "\n",
    "#Additional Info when using cuda\n",
    "if device.type == 'cuda':\n",
    "    print(torch.cuda.get_device_name(0))\n",
    "    print('Memory Usage:')\n",
    "    print('Allocated:', round(torch.cuda.memory_allocated(0)/1024**3,1), 'GB')\n",
    "    print('Cached:   ', round(torch.cuda.memory_reserved(0)/1024**3,1), 'GB')"
   ]
  },
  {
   "cell_type": "markdown",
   "id": "723d974b-340b-4c30-a0e4-6a4f2a186511",
   "metadata": {},
   "source": [
    "## Prepare dataset\n",
    "\n",
    "These are rasterized aerial detection surveys at 1 km resolution."
   ]
  },
  {
   "cell_type": "code",
   "execution_count": 12,
   "id": "8588fff9-62b7-4053-8694-480251bfd759",
   "metadata": {},
   "outputs": [],
   "source": [
    "# Assemble GFW loss as an alternative mortality dataset\n",
    "def preprocess_gfw(ds):\n",
    "    year = os.path.basename(ds.encoding[\"source\"])\n",
    "    year = int(year.replace(\".tif\", \"\"))\n",
    "    return ds.squeeze(drop=True)\\\n",
    "        .drop_vars(\"spatial_ref\")\\\n",
    "        .rename(band_data=\"mortality\")\\\n",
    "        .assign_coords(time=year)\n",
    "\n",
    "gfw_mort = xr.open_mfdataset(\n",
    "    \"data_working/gfw_damage/*.tif\",\n",
    "    preprocess=preprocess_gfw,\n",
    "    concat_dim=\"time\", \n",
    "    combine=\"nested\"\n",
    ").compute()[\"mortality\"]\n",
    "\n",
    "treecover = xr.open_dataset(\"data_working/westmort_1km.nc\")[\"treecover\"]\n",
    "\n",
    "# FAO definition of forest is 10% tree cover\n",
    "mort = gfw_mort.where(treecover > 10)"
   ]
  },
  {
   "cell_type": "markdown",
   "id": "81575410-124c-49b2-9b2c-fce4dd46aa9a",
   "metadata": {},
   "source": [
    "Set up data pipeline. Here we want 64x64 patches in space, and a time series looking back 5 years. These are important hyperparameters to tune. There's lot of NAs, so only keep patches that are at least 70% valid *in the last time step*."
   ]
  },
  {
   "cell_type": "code",
   "execution_count": 13,
   "id": "57593064-9dc0-4641-a864-59eaabc15020",
   "metadata": {},
   "outputs": [
    {
     "name": "stdout",
     "output_type": "stream",
     "text": [
      "Input size: torch.Size([4, 64, 64])\n",
      "Output size: torch.Size([64, 64])\n",
      "Examples in training: 1903\n",
      "Examples in validation: 692\n"
     ]
    }
   ],
   "source": [
    "from torch.utils.data import DataLoader, Dataset\n",
    "from torchvision.transforms import v2 as transforms\n",
    "\n",
    "class BatchGenDataset(Dataset):\n",
    "    def __init__(self, bgen, transform=None):\n",
    "        self.bgen = bgen\n",
    "\n",
    "    def __len__(self):\n",
    "        return len(self.bgen)\n",
    "\n",
    "    def __getitem__(self, idx):\n",
    "        # replace nans with 0 only in X\n",
    "        patch = torch.tensor(self.bgen[idx].values)          \n",
    "        X = patch[:-1, ...]\n",
    "        X = torch.nan_to_num(X)\n",
    "        y = patch[-1, ...]\n",
    "        return X, y\n",
    "\n",
    "def mean_filter(ds, batch, minimum_mean=0.25):\n",
    "    # Accept patch if there is at least some mortality.\n",
    "    sel = ds.isel(**batch).isel(time=-1)\n",
    "    patch_mean = sel.mean()\n",
    "    \n",
    "    return (patch_mean > minimum_mean)\n",
    "\n",
    "def nan_filter(ds, batch, prop_valid=0.70):\n",
    "    sel = ds.isel(**batch).isel(time=-1)\n",
    "    nan_mask = sel.isnull().astype(np.float32)\n",
    "    return (1 - nan_mask.mean() >= prop_valid)\n",
    "\n",
    "def compose_filters(fn_list):\n",
    "    def composition(ds, batch):\n",
    "        return all(f(ds, batch) for f in fn_list)\n",
    "    return composition\n",
    "\n",
    "# Do a temporal split\n",
    "bgen_train = xbatcher.BatchGenerator(\n",
    "    mort.sel(time=slice(None, 2014)),\n",
    "    input_dims=dict(x=64, y=64, time=5),\n",
    "    input_overlap=dict(x=0, y=0, time=4),\n",
    "    filter_fn=nan_filter\n",
    ")\n",
    "bgen_valid = xbatcher.BatchGenerator(\n",
    "    mort.sel(time=slice(2014, None)),\n",
    "    input_dims=dict(x=64, y=64, time=5),\n",
    "    input_overlap=dict(x=0, y=0, time=4),\n",
    "    filter_fn=nan_filter\n",
    ")\n",
    "\n",
    "rand_flips = transforms.Compose([\n",
    "    transforms.RandomVerticalFlip(p=0.5),\n",
    "    transforms.RandomHorizontalFlip(p=0.5)\n",
    "])\n",
    "\n",
    "train_ds = BatchGenDataset(bgen_train)\n",
    "valid_ds = BatchGenDataset(bgen_valid)\n",
    "X, y = train_ds[0]\n",
    "print(\"Input size:\", X.size())\n",
    "print(\"Output size:\", y.size())\n",
    "print(\"Examples in training:\", len(train_ds))\n",
    "print(\"Examples in validation:\", len(valid_ds))"
   ]
  },
  {
   "cell_type": "markdown",
   "id": "06f8ef8c-2787-45a4-95e5-24594a903155",
   "metadata": {},
   "source": [
    "Define model structure."
   ]
  },
  {
   "cell_type": "code",
   "execution_count": 14,
   "id": "111ee90e-2a6f-4868-82f9-09c1511304e8",
   "metadata": {},
   "outputs": [],
   "source": [
    "from importlib import reload\n",
    "reload(util.training)\n",
    "\n",
    "class UnetModel(pl.LightningModule):\n",
    "    def __init__(self, in_channels=1):\n",
    "        super(UnetModel, self).__init__()\n",
    "        self.train_nrmse = torchmetrics.regression.NormalizedRootMeanSquaredError(normalization=\"std\")\n",
    "        self.train_r2    = torchmetrics.regression.PearsonCorrCoef()\n",
    "        self.train_mse   = torchmetrics.regression.MeanSquaredError()\n",
    "        self.valid_nrmse = torchmetrics.regression.NormalizedRootMeanSquaredError(normalization=\"std\")\n",
    "        self.valid_r2    = torchmetrics.regression.PearsonCorrCoef()\n",
    "        self.valid_mse   = torchmetrics.regression.MeanSquaredError()\n",
    "        self.loss        = util.training.AsymmetricLoss()\n",
    "\n",
    "        self.save_hyperparameters()\n",
    "\n",
    "        self.unet = smp.Unet(encoder_name=\"resnet18\", encoder_weights=\"imagenet\", in_channels=in_channels)\n",
    "        # Disable grad in the encoder if using pre-trained weights\n",
    "        if self.unet.config[\"encoder_weights\"] is not None:\n",
    "            for p in self.unet.encoder.parameters():\n",
    "                 p.requires_grad = False\n",
    "\n",
    "        self.sigmoid = torch.nn.Sigmoid()\n",
    "\n",
    "    def forward(self, X):\n",
    "        X = self.unet(X)\n",
    "        X = self.sigmoid(X)\n",
    "        # Squeeze out channel dim\n",
    "        X = X.squeeze(1)\n",
    "        # Rescale from 0-100\n",
    "        return X*100\n",
    "\n",
    "    def configure_optimizers(self):\n",
    "        optimizer = torch.optim.Adam(self.parameters(), lr=1e-3)\n",
    "        # Using a scheduler is optional but can be helpful.\n",
    "        # The scheduler reduces the LR if the validation performance hasn't improved for the last N epochs\n",
    "        scheduler = torch.optim.lr_scheduler.ReduceLROnPlateau(optimizer, mode=\"min\", factor=0.2, patience=5, min_lr=5e-5)\n",
    "        return {\"optimizer\": optimizer, \"lr_scheduler\": scheduler, \"monitor\": \"valid_loss\"}\n",
    "        \n",
    "    def _get_loss(self, y, y_hat):\n",
    "        loss = self.loss(y, y_hat)\n",
    "        return loss\n",
    "\n",
    "    def _nan_mask(self, y):\n",
    "        return ~torch.isnan(y.view(-1))\n",
    "\n",
    "    def training_step(self, batch, batch_idx):\n",
    "        X, y = batch\n",
    "        y_hat = self.forward(X)\n",
    "\n",
    "        mask = self._nan_mask(y)\n",
    "        y = y.view(-1)[mask]\n",
    "        y_hat = y_hat.view(-1)[mask]\n",
    "\n",
    "        loss = self._get_loss(y_hat, y)\n",
    "        self.log(\"train_loss\", loss, prog_bar=True, on_epoch=True, on_step=False)\n",
    "\n",
    "        self.train_nrmse(y_hat, y)\n",
    "        self.log(\"train_nrmse\", self.train_nrmse, on_epoch=True, on_step=False)\n",
    "\n",
    "        self.train_r2(y_hat, y)\n",
    "        self.log(\"train_corr\", self.train_r2, on_epoch=True, on_step=False)\n",
    "\n",
    "        self.train_mse(y_hat, y)\n",
    "        self.log(\"train_mse\", self.train_mse, on_epoch=True, on_step=False)\n",
    "            \n",
    "        return loss\n",
    "\n",
    "    def validation_step(self, batch, batch_idx):\n",
    "        X, y = batch\n",
    "        y_hat = self.forward(X)\n",
    "\n",
    "        mask = self._nan_mask(y)\n",
    "        y = y.view(-1)[mask]\n",
    "        y_hat = y_hat.view(-1)[mask]\n",
    "\n",
    "        loss = self._get_loss(y_hat, y)\n",
    "        self.log(\"valid_loss\", loss, prog_bar=True, on_epoch=True, on_step=False)\n",
    "\n",
    "        self.valid_nrmse(y_hat, y)\n",
    "        self.log(\"valid_nrmse\", self.valid_nrmse, on_epoch=True, on_step=False)\n",
    "\n",
    "        self.valid_r2(y_hat, y)\n",
    "        self.log(\"valid_corr\", self.valid_r2, on_epoch=True, on_step=False)\n",
    "\n",
    "        self.valid_mse(y_hat, y)\n",
    "        self.log(\"valid_mse\", self.valid_mse, on_epoch=True, on_step=False)\n",
    "\n",
    "    # PL docs indicate that this step is unnecessary, but logs show nonsensical\n",
    "    # metrics otherwise.\n",
    "    def on_train_epoch_end(self):\n",
    "        self.train_nrmse.reset()\n",
    "        self.train_r2.reset()\n",
    "\n",
    "    def on_validation_epoch_end(self):\n",
    "        self.valid_nrmse.reset()\n",
    "        self.valid_r2.reset()"
   ]
  },
  {
   "cell_type": "code",
   "execution_count": 15,
   "id": "83399877-1359-4ad9-a65c-ccf7b21685e2",
   "metadata": {},
   "outputs": [],
   "source": [
    "# Check shape\n",
    "unet = UnetModel(in_channels=4).to(device)\n",
    "X, y = train_ds[0]\n",
    "out = unet(X.unsqueeze(0))\n",
    "assert(out.shape == y.unsqueeze(0).shape)"
   ]
  },
  {
   "cell_type": "markdown",
   "id": "d2df7614-dec4-4ceb-9e90-b8d9c7826c87",
   "metadata": {},
   "source": [
    "Define trainer."
   ]
  },
  {
   "cell_type": "code",
   "execution_count": 16,
   "id": "9e7996c0-f084-4715-940e-07478817583b",
   "metadata": {},
   "outputs": [
    {
     "name": "stdout",
     "output_type": "stream",
     "text": [
      "Training batches: 118\n",
      "Validation batches: 43\n"
     ]
    }
   ],
   "source": [
    "train_loader = torch.utils.data.DataLoader(train_ds, batch_size=16, shuffle=True, drop_last=True, generator=torch.Generator(device))\n",
    "val_loader   = torch.utils.data.DataLoader(valid_ds, batch_size=16, shuffle=False, drop_last=True, generator=torch.Generator(device))\n",
    "print(\"Training batches:\", len(train_loader))\n",
    "print(\"Validation batches:\", len(val_loader))"
   ]
  },
  {
   "cell_type": "code",
   "execution_count": 17,
   "id": "baac9099-0d66-4f4a-826b-531cd3fafb46",
   "metadata": {},
   "outputs": [
    {
     "name": "stderr",
     "output_type": "stream",
     "text": [
      "GPU available: True (cuda), used: True\n",
      "TPU available: False, using: 0 TPU cores\n",
      "HPU available: False, using: 0 HPUs\n",
      "LOCAL_RANK: 0 - CUDA_VISIBLE_DEVICES: [0]\n",
      "\n",
      "  | Name        | Type                           | Params | Mode \n",
      "-----------------------------------------------------------------------\n",
      "0 | train_nrmse | NormalizedRootMeanSquaredError | 0      | train\n",
      "1 | train_r2    | PearsonCorrCoef                | 0      | train\n",
      "2 | train_mse   | MeanSquaredError               | 0      | train\n",
      "3 | valid_nrmse | NormalizedRootMeanSquaredError | 0      | train\n",
      "4 | valid_r2    | PearsonCorrCoef                | 0      | train\n",
      "5 | valid_mse   | MeanSquaredError               | 0      | train\n",
      "6 | loss        | AsymmetricLoss                 | 0      | train\n",
      "7 | unet        | Unet                           | 14.3 M | train\n",
      "8 | sigmoid     | Sigmoid                        | 0      | train\n",
      "-----------------------------------------------------------------------\n",
      "3.2 M     Trainable params\n",
      "11.2 M    Non-trainable params\n",
      "14.3 M    Total params\n",
      "57.325    Total estimated model params size (MB)\n",
      "148       Modules in train mode\n",
      "0         Modules in eval mode\n"
     ]
    },
    {
     "data": {
      "application/vnd.jupyter.widget-view+json": {
       "model_id": "1326797c837b4c9eadad5a5f677437b3",
       "version_major": 2,
       "version_minor": 0
      },
      "text/plain": [
       "Sanity Checking: |          | 0/? [00:00<?, ?it/s]"
      ]
     },
     "metadata": {},
     "output_type": "display_data"
    },
    {
     "name": "stderr",
     "output_type": "stream",
     "text": [
      "/srv/conda/envs/notebook/lib/python3.12/site-packages/pytorch_lightning/trainer/connectors/data_connector.py:425: The 'val_dataloader' does not have many workers which may be a bottleneck. Consider increasing the value of the `num_workers` argument` to `num_workers=3` in the `DataLoader` to improve performance.\n",
      "/srv/conda/envs/notebook/lib/python3.12/site-packages/torchmetrics/utilities/prints.py:43: UserWarning: The ``compute`` method of metric NormalizedRootMeanSquaredError was called before the ``update`` method which may lead to errors, as metric states have not yet been updated.\n",
      "  warnings.warn(*args, **kwargs)\n",
      "/srv/conda/envs/notebook/lib/python3.12/site-packages/torchmetrics/utilities/prints.py:43: UserWarning: The ``compute`` method of metric PearsonCorrCoef was called before the ``update`` method which may lead to errors, as metric states have not yet been updated.\n",
      "  warnings.warn(*args, **kwargs)\n",
      "/srv/conda/envs/notebook/lib/python3.12/site-packages/torchmetrics/utilities/prints.py:43: UserWarning: The variance of predictions or target is close to zero. This can cause instability in Pearson correlationcoefficient, leading to wrong results. Consider re-scaling the input if possible or computing using alarger dtype (currently using torch.float32). Setting the correlation coefficient to nan.\n",
      "  warnings.warn(*args, **kwargs)\n",
      "/srv/conda/envs/notebook/lib/python3.12/site-packages/pytorch_lightning/trainer/connectors/data_connector.py:425: The 'train_dataloader' does not have many workers which may be a bottleneck. Consider increasing the value of the `num_workers` argument` to `num_workers=3` in the `DataLoader` to improve performance.\n"
     ]
    },
    {
     "data": {
      "application/vnd.jupyter.widget-view+json": {
       "model_id": "31669b5eb01b475b8b62098e9210ecbd",
       "version_major": 2,
       "version_minor": 0
      },
      "text/plain": [
       "Training: |          | 0/? [00:00<?, ?it/s]"
      ]
     },
     "metadata": {},
     "output_type": "display_data"
    },
    {
     "data": {
      "application/vnd.jupyter.widget-view+json": {
       "model_id": "c3f86cdeb69c45f2922d0021254effac",
       "version_major": 2,
       "version_minor": 0
      },
      "text/plain": [
       "Validation: |          | 0/? [00:00<?, ?it/s]"
      ]
     },
     "metadata": {},
     "output_type": "display_data"
    },
    {
     "data": {
      "application/vnd.jupyter.widget-view+json": {
       "model_id": "7bb1da65c6a44c7fb8bd5f4bfaf48ef9",
       "version_major": 2,
       "version_minor": 0
      },
      "text/plain": [
       "Validation: |          | 0/? [00:00<?, ?it/s]"
      ]
     },
     "metadata": {},
     "output_type": "display_data"
    },
    {
     "data": {
      "application/vnd.jupyter.widget-view+json": {
       "model_id": "5eaa3c58cb1446adb021008f40a70089",
       "version_major": 2,
       "version_minor": 0
      },
      "text/plain": [
       "Validation: |          | 0/? [00:00<?, ?it/s]"
      ]
     },
     "metadata": {},
     "output_type": "display_data"
    },
    {
     "data": {
      "application/vnd.jupyter.widget-view+json": {
       "model_id": "a7cc7ff1700c453a9add7f4469cf7812",
       "version_major": 2,
       "version_minor": 0
      },
      "text/plain": [
       "Validation: |          | 0/? [00:00<?, ?it/s]"
      ]
     },
     "metadata": {},
     "output_type": "display_data"
    },
    {
     "data": {
      "application/vnd.jupyter.widget-view+json": {
       "model_id": "ea91b5a75ea7476a8cee11cb5c05d75b",
       "version_major": 2,
       "version_minor": 0
      },
      "text/plain": [
       "Validation: |          | 0/? [00:00<?, ?it/s]"
      ]
     },
     "metadata": {},
     "output_type": "display_data"
    },
    {
     "data": {
      "application/vnd.jupyter.widget-view+json": {
       "model_id": "48627e7092fb4369841af885e664be98",
       "version_major": 2,
       "version_minor": 0
      },
      "text/plain": [
       "Validation: |          | 0/? [00:00<?, ?it/s]"
      ]
     },
     "metadata": {},
     "output_type": "display_data"
    },
    {
     "data": {
      "application/vnd.jupyter.widget-view+json": {
       "model_id": "c97f3ee5f26041dc9e3727ab83b991d4",
       "version_major": 2,
       "version_minor": 0
      },
      "text/plain": [
       "Validation: |          | 0/? [00:00<?, ?it/s]"
      ]
     },
     "metadata": {},
     "output_type": "display_data"
    },
    {
     "data": {
      "application/vnd.jupyter.widget-view+json": {
       "model_id": "305d4feec3d84262ad187b703ca4faec",
       "version_major": 2,
       "version_minor": 0
      },
      "text/plain": [
       "Validation: |          | 0/? [00:00<?, ?it/s]"
      ]
     },
     "metadata": {},
     "output_type": "display_data"
    },
    {
     "data": {
      "application/vnd.jupyter.widget-view+json": {
       "model_id": "3248103d9af04fb48bb9eb42b9cba1dc",
       "version_major": 2,
       "version_minor": 0
      },
      "text/plain": [
       "Validation: |          | 0/? [00:00<?, ?it/s]"
      ]
     },
     "metadata": {},
     "output_type": "display_data"
    }
   ],
   "source": [
    "import datetime\n",
    "today = datetime.date.today().strftime(\"%Y%m%d\")\n",
    "trainer = pl.Trainer(\n",
    "    default_root_dir=os.path.join(\"logs\", f\"{today}_gfw_unet_asymm_loss_64x64x5\"),\n",
    "    accelerator=\"auto\",\n",
    "    devices=1,\n",
    "    max_epochs=30,\n",
    "    callbacks=[\n",
    "        pl.callbacks.EarlyStopping(\"valid_loss\", min_delta=0.1, patience=5),\n",
    "        pl.callbacks.ModelCheckpoint(),\n",
    "    ]\n",
    ")\n",
    "\n",
    "trainer.fit(unet, train_loader, val_loader)"
   ]
  },
  {
   "cell_type": "markdown",
   "id": "6979d7fb-3bf4-4c29-a8ea-e4f67330c3d1",
   "metadata": {},
   "source": [
    "Now compare with naive baselines."
   ]
  },
  {
   "cell_type": "code",
   "execution_count": 22,
   "id": "6feb43b9-18e0-4324-9fb3-fded3ab3ad5a",
   "metadata": {},
   "outputs": [],
   "source": [
    "def lastobs(X):\n",
    "    return torch.nan_to_num(X[:, -1, ...])\n",
    "\n",
    "def timeavg(X):\n",
    "    return torch.nan_to_num(torch.nanmean(X, dim=1))\n",
    "\n",
    "def eval_naive_model(loader, metrics, m):\n",
    "    for X, y in loader:\n",
    "        y_hat = m(X)\n",
    "\n",
    "        y_flat = y.view(-1)\n",
    "        y_hat_flat = y_hat.view(-1)\n",
    "        \n",
    "        mask = ~torch.isnan(y_flat)\n",
    "\n",
    "        y_flat = y_flat[mask]\n",
    "        y_hat_flat = y_hat_flat[mask]\n",
    "        for metric in metrics:\n",
    "            metric.update(y_hat_flat, y_flat)\n",
    "\n",
    "    return metrics"
   ]
  },
  {
   "cell_type": "code",
   "execution_count": 23,
   "id": "1c00a5e7-5904-48a4-8478-1c349cf84b40",
   "metadata": {},
   "outputs": [],
   "source": [
    "for label, loader in zip([\"train\", \"valid\"], [train_loader, val_loader]):\n",
    "    for naive_model in [lastobs, timeavg]:\n",
    "        mse   = torchmetrics.regression.MeanSquaredError()\n",
    "        corr  = torchmetrics.regression.PearsonCorrCoef()\n",
    "        nrmse = torchmetrics.regression.NormalizedRootMeanSquaredError(normalization=\"std\")\n",
    "        eval_naive_model(loader, [mse, corr, nrmse], naive_model)\n",
    "        trainer.logger.log_metrics({f\"{label}_{naive_model.__name__}_loss\":mse.compute()})\n",
    "        trainer.logger.log_metrics({f\"{label}_{naive_model.__name__}_corr\":corr.compute()})\n",
    "        trainer.logger.log_metrics({f\"{label}_{naive_model.__name__}_nrmse\":nrmse.compute()})"
   ]
  },
  {
   "cell_type": "markdown",
   "id": "2e59a056-6d05-4f41-90d7-0b2f3b4ebd03",
   "metadata": {},
   "source": [
    "Plot metrics"
   ]
  },
  {
   "cell_type": "code",
   "execution_count": 24,
   "id": "6d53c69b-ff45-45f6-8b00-382b37105276",
   "metadata": {},
   "outputs": [],
   "source": [
    "from functools import reduce\n",
    "\n",
    "versions = os.listdir(os.path.join(trainer.default_root_dir, \"lightning_logs\"))\n",
    "latest_version = max(versions, key=lambda x: int(x[-1]))\n",
    "\n",
    "log = util.training.parse_tensorboard(os.path.join(trainer.default_root_dir, \"lightning_logs\", latest_version))\n",
    "dfs = [df.rename(columns=dict(value=key)).drop(columns=\"wall_time\") for key, df in log.items()]\n",
    "fulldf = reduce(lambda x, y: pd.merge(x, y, on=[\"step\"], how=\"outer\"), dfs)\n",
    "naive_models = fulldf.iloc[0].dropna()\n",
    "fulldf = fulldf[~fulldf.train_loss.isna()]"
   ]
  },
  {
   "cell_type": "code",
   "execution_count": 25,
   "id": "2b4762fa-2db7-4460-8503-cc1b15f8578d",
   "metadata": {},
   "outputs": [
    {
     "data": {
      "text/plain": [
       "step                    0.000000\n",
       "hp_metric              -1.000000\n",
       "train_lastobs_loss     18.124628\n",
       "train_lastobs_corr      0.079181\n",
       "train_lastobs_nrmse     1.356545\n",
       "train_timeavg_loss     53.409351\n",
       "train_timeavg_corr      0.015898\n",
       "train_timeavg_nrmse     2.328431\n",
       "valid_lastobs_loss     18.571714\n",
       "valid_lastobs_corr      0.106077\n",
       "valid_lastobs_nrmse     1.366293\n",
       "valid_timeavg_loss     12.379049\n",
       "valid_timeavg_corr      0.071362\n",
       "valid_timeavg_nrmse     1.115479\n",
       "Name: 0, dtype: float64"
      ]
     },
     "execution_count": 25,
     "metadata": {},
     "output_type": "execute_result"
    }
   ],
   "source": [
    "naive_models"
   ]
  },
  {
   "cell_type": "code",
   "execution_count": 26,
   "id": "445dfbe5-d129-4e79-8c9c-101c39f62730",
   "metadata": {},
   "outputs": [
    {
     "data": {
      "text/plain": [
       "step                   1061.000000\n",
       "hp_metric                      NaN\n",
       "valid_loss                8.170596\n",
       "valid_nrmse               1.896002\n",
       "valid_corr                0.150955\n",
       "valid_mse                35.763691\n",
       "epoch                     8.000000\n",
       "train_loss                7.695549\n",
       "train_nrmse               2.088468\n",
       "train_corr                0.168749\n",
       "train_mse                43.004162\n",
       "train_lastobs_loss             NaN\n",
       "train_lastobs_corr             NaN\n",
       "train_lastobs_nrmse            NaN\n",
       "train_timeavg_loss             NaN\n",
       "train_timeavg_corr             NaN\n",
       "train_timeavg_nrmse            NaN\n",
       "valid_lastobs_loss             NaN\n",
       "valid_lastobs_corr             NaN\n",
       "valid_lastobs_nrmse            NaN\n",
       "valid_timeavg_loss             NaN\n",
       "valid_timeavg_corr             NaN\n",
       "valid_timeavg_nrmse            NaN\n",
       "Name: 4113, dtype: float64"
      ]
     },
     "execution_count": 26,
     "metadata": {},
     "output_type": "execute_result"
    }
   ],
   "source": [
    "fulldf.iloc[-1]"
   ]
  },
  {
   "cell_type": "code",
   "execution_count": 15,
   "id": "68b380b5-511b-49b8-b550-337c3a27fd90",
   "metadata": {},
   "outputs": [
    {
     "data": {
      "text/plain": [
       "array([[<Axes: xlabel='epoch'>, <Axes: xlabel='epoch'>,\n",
       "        <Axes: xlabel='epoch'>]], dtype=object)"
      ]
     },
     "execution_count": 15,
     "metadata": {},
     "output_type": "execute_result"
    },
    {
     "data": {
      "image/png": "[encoded data removed]",
      "text/plain": [
       "<Figure size 1200x500 with 3 Axes>"
      ]
     },
     "metadata": {},
     "output_type": "display_data"
    }
   ],
   "source": [
    "# Plots are easier to read when we ignore the first few epochs\n",
    "# where the model is just learning the bias\n",
    "fulldf.plot(\n",
    "    x=\"epoch\", y=[\"train_loss\", \"valid_loss\", \"train_nrmse\", \"valid_nrmse\", \"train_corr\", \"valid_corr\"],\n",
    "    subplots=[(\"train_loss\", \"valid_loss\"), (\"train_nrmse\", \"valid_nrmse\"), (\"train_corr\", \"valid_corr\")],\n",
    "    layout=(1, 3),\n",
    "    sharex=True, sharey=False,\n",
    "    grid=True,\n",
    "    figsize=(12, 5),\n",
    ")"
   ]
  },
  {
   "cell_type": "markdown",
   "id": "ef926c6a-fb08-4c64-b6d3-6ee01ff03b21",
   "metadata": {},
   "source": [
    "Show a 1-to-1 plot"
   ]
  },
  {
   "cell_type": "code",
   "execution_count": 16,
   "id": "266e4a48-626c-4f99-a992-0942ef520ff1",
   "metadata": {},
   "outputs": [],
   "source": [
    "y_hat  = []\n",
    "y_true = []\n",
    "unet = unet.to(device)\n",
    "for X, y in train_loader:\n",
    "    y_hat.append(unet(X))\n",
    "    y_true.append(y)"
   ]
  },
  {
   "cell_type": "code",
   "execution_count": 17,
   "id": "8ea5c2ff-6cfe-4cf5-b5ac-0d4f95281a23",
   "metadata": {},
   "outputs": [
    {
     "name": "stdout",
     "output_type": "stream",
     "text": [
      "torch.Size([1157177])\n",
      "torch.Size([1157177])\n"
     ]
    }
   ],
   "source": [
    "y_hat_flat  = torch.stack(y_hat).view(-1)\n",
    "y_true_flat = torch.stack(y_true).view(-1)\n",
    "\n",
    "mask = ~torch.isnan(y_true_flat)\n",
    "\n",
    "y_hat_nona  = y_hat_flat[mask]\n",
    "y_true_nona = y_true_flat[mask]\n",
    "\n",
    "print(y_hat_nona.shape)\n",
    "print(y_true_nona.shape)"
   ]
  },
  {
   "cell_type": "code",
   "execution_count": 18,
   "id": "d5429c04-0145-42d0-aebf-723035be09e9",
   "metadata": {},
   "outputs": [],
   "source": [
    "y_hat_np = y_hat_nona.detach().cpu().numpy()\n",
    "y_true_np = y_true_nona.detach().cpu().numpy()"
   ]
  },
  {
   "cell_type": "code",
   "execution_count": 19,
   "id": "01175bb9-2dc8-4553-86b7-1383dd5d4090",
   "metadata": {},
   "outputs": [
    {
     "data": {
      "image/png": "[encoded data removed]",
      "text/plain": [
       "<Figure size 640x480 with 1 Axes>"
      ]
     },
     "metadata": {},
     "output_type": "display_data"
    }
   ],
   "source": [
    "def with_jitter(arr):\n",
    "    stdev = np.std(arr) * 0.1\n",
    "    return arr + np.random.randn(*arr.shape)*stdev\n",
    "\n",
    "plt.grid()\n",
    "plt.axline(xy1=(0, 0), slope=1, color=\"black\", linestyle=\"--\")\n",
    "plt.scatter(with_jitter(y_true_np), y_hat_np, s=1, alpha=0.5)\n",
    "plt.gca().set_ylim(0, 75)\n",
    "plt.xlabel(\"True mortality %\")\n",
    "plt.ylabel(\"Predicted mortality %\")\n",
    "plt.show()"
   ]
  }
 ],
 "metadata": {
  "kernelspec": {
   "display_name": "Python 3 (ipykernel)",
   "language": "python",
   "name": "python3"
  },
  "language_info": {
   "codemirror_mode": {
    "name": "ipython",
    "version": 3
   },
   "file_extension": ".py",
   "mimetype": "text/x-python",
   "name": "python",
   "nbconvert_exporter": "python",
   "pygments_lexer": "ipython3",
   "version": "3.12.10"
  }
 },
 "nbformat": 4,
 "nbformat_minor": 5
}
