{
 "cells": [
  {
   "cell_type": "code",
   "execution_count": 1,
   "id": "88f6055e-f821-4383-bdd1-9c8435a2dbe7",
   "metadata": {},
   "outputs": [],
   "source": [
    "%%capture\n",
    "!pip install scikit-lego shap"
   ]
  },
  {
   "cell_type": "code",
   "execution_count": 2,
   "id": "a96db008-8d8f-421e-9328-9774a1edec0b",
   "metadata": {},
   "outputs": [
    {
     "name": "stderr",
     "output_type": "stream",
     "text": [
      "/home/jovyan/ForestLST/util/__init__.py:13: UserWarning: PyTorch not found! Module util.training will not be loaded.\n",
      "  warnings.warn(\"PyTorch not found! Module util.training will not be loaded.\")\n"
     ]
    }
   ],
   "source": [
    "import xarray as xr\n",
    "import rioxarray\n",
    "import numpy as np\n",
    "import pandas as pd\n",
    "from matplotlib import pyplot as plt\n",
    "from sklearn.ensemble import RandomForestRegressor, RandomForestClassifier\n",
    "from sklearn.linear_model import LogisticRegression\n",
    "from sklearn.metrics import mean_squared_error, explained_variance_score\n",
    "from sklego.meta import ZeroInflatedRegressor\n",
    "from sklearn.model_selection import train_test_split\n",
    "import os\n",
    "\n",
    "try:\n",
    "    import util\n",
    "except ImportError:\n",
    "    if 'notebooks' in os.getcwd():\n",
    "        os.chdir(\"..\")\n",
    "finally:\n",
    "    import util"
   ]
  },
  {
   "cell_type": "code",
   "execution_count": 3,
   "id": "81d6b1d1-7a40-4b20-a911-3a4cab33a87f",
   "metadata": {},
   "outputs": [
    {
     "name": "stderr",
     "output_type": "stream",
     "text": [
      "/srv/conda/envs/notebook/lib/python3.11/site-packages/xarray/computation/apply_ufunc.py:818: RuntimeWarning: invalid value encountered in divide\n",
      "  result_data = func(*input_data)\n"
     ]
    }
   ],
   "source": [
    "# Prepare data - since we are working with tabular data here we convert\n",
    "# to a dataframe.\n",
    "ds = xr.open_dataset(\"data_working/westmort.nc\")\n",
    "\n",
    "# Calculate total basal area based on all the genus rasters\n",
    "ba_vars = [\"abies\", \"picea\", \"populus\", \"tsuga\", \"pseudotsuga\"]\n",
    "ds[\"forest_ba\"] = ds[ba_vars].to_stacked_array(\"band\", sample_dims=[\"x\", \"y\", \"time\"]).sum(dim=\"band\")\n",
    "\n",
    "# Smoothing\n",
    "ds[\"mort_ewma\"] = xr.apply_ufunc(\n",
    "    util.manip.numpy_ewma_vectorized,\n",
    "    ds.mortality,\n",
    "    input_core_dims=[[\"time\"]],\n",
    "    output_core_dims=[[\"time\"]],\n",
    "    vectorize=True,\n",
    "    kwargs=dict(window=3)\n",
    ")\n",
    "\n",
    "# Average over time\n",
    "ds[\"mortality_average\"] = np.nancumsum(ds.mortality, axis=2) / np.cumsum(~np.isnan(ds.mortality), axis=2)\n",
    "\n",
    "# Shift so we are doing proper out-year forecasting\n",
    "ds[\"mort_nextyear\"] = ds[\"mortality\"].shift(time=-1)\n",
    "\n",
    "# Also shift prcp on a few lags\n",
    "ds[\"prcp1\"] = ds[\"prcp\"]\n",
    "ds[\"prcp2\"] = ds[\"prcp\"].shift(time=1)\n",
    "ds[\"prcp3\"] = ds[\"prcp\"].shift(time=2)\n",
    "ds[\"prcp4\"] = ds[\"prcp\"].shift(time=3)"
   ]
  },
  {
   "cell_type": "code",
   "execution_count": 4,
   "id": "09f40c22-f714-44cb-9a31-61b4005345bc",
   "metadata": {},
   "outputs": [
    {
     "data": {
      "text/html": [
       "<div>\n",
       "<style scoped>\n",
       "    .dataframe tbody tr th:only-of-type {\n",
       "        vertical-align: middle;\n",
       "    }\n",
       "\n",
       "    .dataframe tbody tr th {\n",
       "        vertical-align: top;\n",
       "    }\n",
       "\n",
       "    .dataframe thead th {\n",
       "        text-align: right;\n",
       "    }\n",
       "</style>\n",
       "<table border=\"1\" class=\"dataframe\">\n",
       "  <thead>\n",
       "    <tr style=\"text-align: right;\">\n",
       "      <th></th>\n",
       "      <th>time</th>\n",
       "      <th>y</th>\n",
       "      <th>x</th>\n",
       "      <th>elev</th>\n",
       "      <th>forest_ba</th>\n",
       "      <th>fire</th>\n",
       "      <th>mort_nextyear</th>\n",
       "      <th>prcp1</th>\n",
       "      <th>prcp2</th>\n",
       "      <th>prcp3</th>\n",
       "      <th>prcp4</th>\n",
       "      <th>vp</th>\n",
       "      <th>vod</th>\n",
       "    </tr>\n",
       "  </thead>\n",
       "  <tbody>\n",
       "    <tr>\n",
       "      <th>1389566</th>\n",
       "      <td>2000</td>\n",
       "      <td>4682302.419</td>\n",
       "      <td>-1.343022e+07</td>\n",
       "      <td>931.0</td>\n",
       "      <td>33.0</td>\n",
       "      <td>0.0</td>\n",
       "      <td>0.0</td>\n",
       "      <td>1417.0</td>\n",
       "      <td>1290.0</td>\n",
       "      <td>1984.0</td>\n",
       "      <td>1561.0</td>\n",
       "      <td>1191.0</td>\n",
       "      <td>491.0</td>\n",
       "    </tr>\n",
       "    <tr>\n",
       "      <th>1389567</th>\n",
       "      <td>2000</td>\n",
       "      <td>4682302.419</td>\n",
       "      <td>-1.342622e+07</td>\n",
       "      <td>1050.0</td>\n",
       "      <td>37.0</td>\n",
       "      <td>0.0</td>\n",
       "      <td>0.0</td>\n",
       "      <td>1478.0</td>\n",
       "      <td>1373.0</td>\n",
       "      <td>2049.0</td>\n",
       "      <td>1624.0</td>\n",
       "      <td>1203.0</td>\n",
       "      <td>491.0</td>\n",
       "    </tr>\n",
       "    <tr>\n",
       "      <th>1389568</th>\n",
       "      <td>2000</td>\n",
       "      <td>4682302.419</td>\n",
       "      <td>-1.342222e+07</td>\n",
       "      <td>1137.0</td>\n",
       "      <td>49.0</td>\n",
       "      <td>0.0</td>\n",
       "      <td>0.0</td>\n",
       "      <td>1500.0</td>\n",
       "      <td>1415.0</td>\n",
       "      <td>2046.0</td>\n",
       "      <td>1683.0</td>\n",
       "      <td>1206.0</td>\n",
       "      <td>491.0</td>\n",
       "    </tr>\n",
       "    <tr>\n",
       "      <th>1389569</th>\n",
       "      <td>2000</td>\n",
       "      <td>4682302.419</td>\n",
       "      <td>-1.341822e+07</td>\n",
       "      <td>1256.0</td>\n",
       "      <td>74.0</td>\n",
       "      <td>0.0</td>\n",
       "      <td>0.0</td>\n",
       "      <td>1461.0</td>\n",
       "      <td>1396.0</td>\n",
       "      <td>2004.0</td>\n",
       "      <td>1679.0</td>\n",
       "      <td>1210.0</td>\n",
       "      <td>491.0</td>\n",
       "    </tr>\n",
       "    <tr>\n",
       "      <th>1389570</th>\n",
       "      <td>2000</td>\n",
       "      <td>4682302.419</td>\n",
       "      <td>-1.341422e+07</td>\n",
       "      <td>1310.0</td>\n",
       "      <td>71.0</td>\n",
       "      <td>0.0</td>\n",
       "      <td>0.0</td>\n",
       "      <td>1439.0</td>\n",
       "      <td>1385.0</td>\n",
       "      <td>1993.0</td>\n",
       "      <td>1666.0</td>\n",
       "      <td>1223.0</td>\n",
       "      <td>491.0</td>\n",
       "    </tr>\n",
       "  </tbody>\n",
       "</table>\n",
       "</div>"
      ],
      "text/plain": [
       "         time            y             x    elev  forest_ba  fire  \\\n",
       "1389566  2000  4682302.419 -1.343022e+07   931.0       33.0   0.0   \n",
       "1389567  2000  4682302.419 -1.342622e+07  1050.0       37.0   0.0   \n",
       "1389568  2000  4682302.419 -1.342222e+07  1137.0       49.0   0.0   \n",
       "1389569  2000  4682302.419 -1.341822e+07  1256.0       74.0   0.0   \n",
       "1389570  2000  4682302.419 -1.341422e+07  1310.0       71.0   0.0   \n",
       "\n",
       "         mort_nextyear   prcp1   prcp2   prcp3   prcp4      vp    vod  \n",
       "1389566            0.0  1417.0  1290.0  1984.0  1561.0  1191.0  491.0  \n",
       "1389567            0.0  1478.0  1373.0  2049.0  1624.0  1203.0  491.0  \n",
       "1389568            0.0  1500.0  1415.0  2046.0  1683.0  1206.0  491.0  \n",
       "1389569            0.0  1461.0  1396.0  2004.0  1679.0  1210.0  491.0  \n",
       "1389570            0.0  1439.0  1385.0  1993.0  1666.0  1223.0  491.0  "
      ]
     },
     "execution_count": 4,
     "metadata": {},
     "output_type": "execute_result"
    }
   ],
   "source": [
    "df = ds[[\"elev\", \"forest_ba\", \"fire\", \"mort_nextyear\", \"prcp1\", \"prcp2\", \"prcp3\", \"prcp4\", \"vp\", \"vod\"]].to_dataframe().reset_index().dropna()\n",
    "df.head()"
   ]
  },
  {
   "cell_type": "code",
   "execution_count": 5,
   "id": "c7bdbb64-812b-494a-9153-b8ebadb01d2f",
   "metadata": {},
   "outputs": [
    {
     "data": {
      "text/plain": [
       "(920041, 13)"
      ]
     },
     "execution_count": 5,
     "metadata": {},
     "output_type": "execute_result"
    }
   ],
   "source": [
    "df.shape"
   ]
  },
  {
   "cell_type": "markdown",
   "id": "d474aaa9-f9c2-4c1b-8130-91a3d9aa1b32",
   "metadata": {},
   "source": [
    "How does the test/train split affect model interpretation via SHAP? We know that temporal CV is necessary to ensure good generalizability, but what about the SHAP curves?\n",
    "\n",
    "First, define train, validation, and testing periods."
   ]
  },
  {
   "cell_type": "code",
   "execution_count": 6,
   "id": "61ae8c66-ac5d-458f-8099-50d78062befb",
   "metadata": {},
   "outputs": [
    {
     "name": "stdout",
     "output_type": "stream",
     "text": [
      "Training years: [2010 2011 2012 2013 2014 2015 2016 2017 2018]\n",
      "Validation years: [2000 2001 2002 2003 2004]\n",
      "Testing years: [2005 2006 2007 2008 2009]\n"
     ]
    }
   ],
   "source": [
    "years = df.time.unique()\n",
    "\n",
    "train_years = years[10:]\n",
    "valid_years = years[:5]\n",
    "test_years = years[5:10]\n",
    "\n",
    "print(\"Training years:\", train_years)\n",
    "print(\"Validation years:\", valid_years)\n",
    "print(\"Testing years:\", test_years)"
   ]
  },
  {
   "cell_type": "markdown",
   "id": "a3d9a0ff-887f-4e0a-9120-3ff849e8c762",
   "metadata": {},
   "source": [
    "Set the test set aside. Construct two train/test sets. One where the years are kept separate, and one where they are shuffled."
   ]
  },
  {
   "cell_type": "code",
   "execution_count": 7,
   "id": "56d3d7fb-799d-40ba-acb3-1e9284bd628c",
   "metadata": {},
   "outputs": [],
   "source": [
    "df_train = df[df.time.isin(train_years)]\n",
    "df_valid = df[df.time.isin(valid_years)]\n",
    "df_test  = df[df.time.isin(test_years)]\n",
    "\n",
    "coords = [\"time\", \"y\", \"x\"]\n",
    "\n",
    "# Hang onto corodinates in case we want to remake the predictions\n",
    "# into an xarray dataset based on the pandas index.\n",
    "coord_df = df[coords]\n",
    "\n",
    "df_train = df_train.drop(columns=coords)\n",
    "df_valid = df_valid.drop(columns=coords)\n",
    "df_test  = df_test.drop(columns=coords)\n",
    "\n",
    "# Mix the train/valid sets together. This is the case when we don't use\n",
    "# temporal CV.\n",
    "df_train_mix, df_valid_mix = train_test_split(\n",
    "    pd.concat([df_train, df_valid]), \n",
    "    train_size=df_train.shape[0], test_size=df_valid.shape[0]\n",
    ")"
   ]
  },
  {
   "cell_type": "code",
   "execution_count": 8,
   "id": "183499ba-0d26-4c53-a679-6cd3b91cb860",
   "metadata": {},
   "outputs": [],
   "source": [
    "def split_xy(df, target):\n",
    "    return (\n",
    "        df.drop(columns=target).to_numpy(),\n",
    "        df[target].to_numpy()\n",
    "    )\n",
    "\n",
    "def get_results(m, X, y):\n",
    "    y_hat = m.predict(X)\n",
    "    return {\n",
    "        \"mse\": mean_squared_error(y, y_hat),\n",
    "        \"nrmse\": np.sqrt(mean_squared_error(y, y_hat)) / np.mean(y),\n",
    "        \"r2\": explained_variance_score(y, y_hat)\n",
    "    }"
   ]
  },
  {
   "cell_type": "code",
   "execution_count": 9,
   "id": "1616608d-99de-4ba6-8957-2a639537bd80",
   "metadata": {},
   "outputs": [
    {
     "name": "stdout",
     "output_type": "stream",
     "text": [
      "Temporal split\n",
      "{'mse': 0.9971915279056552, 'r2': 0.40053935934757057}\n",
      "Random split\n",
      "{'mse': 1.0096111630467217, 'r2': 0.3577877110465484}\n"
     ]
    }
   ],
   "source": [
    "# Training\n",
    "target = \"mort_nextyear\"\n",
    "\n",
    "m_random = RandomForestRegressor(\n",
    "    oob_score=True,\n",
    "    max_features=\"sqrt\"\n",
    ")\n",
    "\n",
    "m_temporal_cv = RandomForestRegressor(\n",
    "    oob_score=True,\n",
    "    max_features=\"sqrt\"\n",
    ")\n",
    "\n",
    "X_cv, y_cv = split_xy(df_train, target)\n",
    "X_random, y_random = split_xy(df_train_mix, target)\n",
    "\n",
    "\n",
    "m_random.fit(\n",
    "    X_random, y_random\n",
    ")\n",
    "\n",
    "m_temporal_cv.fit(\n",
    "    X_cv, y_cv\n",
    ")\n",
    "\n",
    "print(\"Temporal split\")\n",
    "print({\n",
    "    \"mse\": mean_squared_error(y_cv, m_temporal_cv.oob_prediction_),\n",
    "    \"r2\": explained_variance_score(y_cv, m_temporal_cv.oob_prediction_)\n",
    "})\n",
    "\n",
    "print(\"Random split\")\n",
    "print({\n",
    "    \"mse\": mean_squared_error(y_random, m_random.oob_prediction_),\n",
    "    \"r2\": explained_variance_score(y_random, m_random.oob_prediction_)\n",
    "})\n",
    "\n",
    "# This is artificially inflated because we aren't running\n",
    "# on out of bag samples. Need to use the oob_prediction_\n",
    "# property.\n",
    "# train_result = get_results(m, X, y)\n",
    "# print(train_result)"
   ]
  },
  {
   "cell_type": "code",
   "execution_count": 10,
   "id": "10af915b-dc2e-49e6-b1e7-f2ceb042ac94",
   "metadata": {},
   "outputs": [
    {
     "name": "stdout",
     "output_type": "stream",
     "text": [
      "Temporal split\n",
      "{'mse': 1.5177701879320527, 'r2': -0.1210099768506443}\n",
      "Random split\n",
      "{'mse': 0.9842102169960977, 'r2': 0.3846005427761161}\n"
     ]
    }
   ],
   "source": [
    "# Now collect validation stats. The random split might do better here because of\n",
    "# information leakage.\n",
    "X_valid_cv, y_valid_cv = split_xy(df_valid, target)\n",
    "X_valid_random, y_valid_random = split_xy(df_valid_mix, target)\n",
    "\n",
    "y_hat_cv = m_temporal_cv.predict(X_valid_cv)\n",
    "y_hat_random = m_random.predict(X_valid_random)\n",
    "\n",
    "print(\"Temporal split\")\n",
    "print({\n",
    "    \"mse\": mean_squared_error(y_valid_cv, y_hat_cv),\n",
    "    \"r2\": explained_variance_score(y_valid_cv, y_hat_cv)\n",
    "})\n",
    "\n",
    "print(\"Random split\")\n",
    "print({\n",
    "    \"mse\": mean_squared_error(y_valid_random, y_hat_random),\n",
    "    \"r2\": explained_variance_score(y_valid_random, y_hat_random)\n",
    "})"
   ]
  },
  {
   "cell_type": "code",
   "execution_count": 11,
   "id": "6040417e-0127-4685-a83a-b7dbe12fbbbd",
   "metadata": {},
   "outputs": [
    {
     "name": "stdout",
     "output_type": "stream",
     "text": [
      "Temporal split\n",
      "{'mse': 0.9784975468942628, 'r2': -0.1835464412471437}\n",
      "Random split\n",
      "{'mse': 0.914326881365576, 'r2': -0.1062936212767902}\n"
     ]
    }
   ],
   "source": [
    "# Finally, check on test stats. BOTH models do poorly,\n",
    "# but only the temporal CV uncovers that in the validation step.\n",
    "X_test, y_test = split_xy(df_test, target)\n",
    "\n",
    "y_test_hat_cv = m_temporal_cv.predict(X_test)\n",
    "y_test_hat_random = m_random.predict(X_test)\n",
    "\n",
    "print(\"Temporal split\")\n",
    "print({\n",
    "    \"mse\": mean_squared_error(y_test, y_test_hat_cv),\n",
    "    \"r2\": explained_variance_score(y_test, y_test_hat_cv)\n",
    "})\n",
    "\n",
    "print(\"Random split\")\n",
    "print({\n",
    "    \"mse\": mean_squared_error(y_test, y_test_hat_random),\n",
    "    \"r2\": explained_variance_score(y_test, y_test_hat_random)\n",
    "})"
   ]
  },
  {
   "cell_type": "code",
   "execution_count": 12,
   "id": "b392522b-e45e-44bb-9185-a3af2530d23e",
   "metadata": {},
   "outputs": [],
   "source": [
    "# Now run SHAP on both models. Sample 1,000 samples from the test set\n",
    "import shap\n",
    "\n",
    "# Use kmeans to sample the background so we know we reproduce the distribution\n",
    "# of the input data.\n",
    "X_test_sample = shap.kmeans(X_test, 50).data\n",
    "\n",
    "names = [x for x in df_test.columns if x != target]\n",
    "\n",
    "te_cv = shap.KernelExplainer(lambda x: m_temporal_cv.predict(x), X_test_sample, feature_names=names)\n",
    "te_random = shap.KernelExplainer(lambda x: m_random.predict(x), X_test_sample, feature_names=names)"
   ]
  },
  {
   "cell_type": "code",
   "execution_count": 13,
   "id": "2387e5ea-9e26-4892-adcf-0c857f604988",
   "metadata": {},
   "outputs": [
    {
     "data": {
      "application/vnd.jupyter.widget-view+json": {
       "model_id": "4167bc859c194835a53bd72b539fb9ef",
       "version_major": 2,
       "version_minor": 0
      },
      "text/plain": [
       "  0%|          | 0/50 [00:00<?, ?it/s]"
      ]
     },
     "metadata": {},
     "output_type": "display_data"
    },
    {
     "data": {
      "application/vnd.jupyter.widget-view+json": {
       "model_id": "68c6f17264454ce1bc4ada18a66f3c1e",
       "version_major": 2,
       "version_minor": 0
      },
      "text/plain": [
       "  0%|          | 0/50 [00:00<?, ?it/s]"
      ]
     },
     "metadata": {},
     "output_type": "display_data"
    }
   ],
   "source": [
    "shap_cv = te_cv(X_test_sample)\n",
    "shap_random = te_random(X_test_sample)"
   ]
  },
  {
   "cell_type": "code",
   "execution_count": 14,
   "id": "ffeed688-70af-41c8-afad-7104a28f8554",
   "metadata": {},
   "outputs": [
    {
     "data": {
      "image/png": "[encoded data removed]",
      "text/plain": [
       "<Figure size 600x600 with 9 Axes>"
      ]
     },
     "metadata": {},
     "output_type": "display_data"
    }
   ],
   "source": [
    "# Plot SHAP for both models on all features, with lowess smooth\n",
    "import statsmodels.api as sm\n",
    "\n",
    "fig, axes = plt.subplots(3, 3, sharey=True, sharex=False, figsize=(6, 6))\n",
    "\n",
    "for (i, ax) in zip(range(len(names)), axes.flat):\n",
    "    name = names[i]\n",
    "    for (model, exp) in zip((\"temporal_cv\", \"random\"), (shap_cv, shap_random)):\n",
    "        # Get lowess smooth\n",
    "        smooth = sm.nonparametric.lowess(exog=exp.data[:, i], endog=exp.values[:, i])\n",
    "        # Plot smooth and data\n",
    "        ax.scatter(exp.data[:, i], exp.values[:, i], label=model, s=1, alpha=0.5)\n",
    "        ax.plot(smooth[:, 0], smooth[:, 1], label=model)\n",
    "    ax.grid()\n",
    "    ax.set_title(name)\n",
    "\n",
    "handles, labels = axes[0, 0].get_legend_handles_labels()\n",
    "by_label = dict(zip(labels, handles))\n",
    "plt.legend(by_label.values(), by_label.keys())\n",
    "fig.tight_layout()\n",
    "plt.show()"
   ]
  },
  {
   "cell_type": "code",
   "execution_count": 15,
   "id": "e70733a4-9575-41bb-b110-0a34e33ddeba",
   "metadata": {},
   "outputs": [],
   "source": [
    "# df.to_csv(\"data_working/westmort_tabular.csv\")"
   ]
  }
 ],
 "metadata": {
  "kernelspec": {
   "display_name": "Python 3 (ipykernel)",
   "language": "python",
   "name": "python3"
  },
  "language_info": {
   "codemirror_mode": {
    "name": "ipython",
    "version": 3
   },
   "file_extension": ".py",
   "mimetype": "text/x-python",
   "name": "python",
   "nbconvert_exporter": "python",
   "pygments_lexer": "ipython3",
   "version": "3.11.12"
  }
 },
 "nbformat": 4,
 "nbformat_minor": 5
}
