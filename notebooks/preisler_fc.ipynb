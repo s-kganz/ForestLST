{
 "cells": [
  {
   "cell_type": "markdown",
   "id": "3446f3b2-33ea-4432-977f-dd8a2a7a005a",
   "metadata": {},
   "source": [
    "## Replicate model in Preisler et al. (2017)\n",
    "\n",
    "Their approach was to use a general additive model with a logit link function. GAMs are hard to implement in Python and do not play well with tensorflow. We will approximate this with a dense neural network with a logit activation function in the output node."
   ]
  },
  {
   "cell_type": "code",
   "execution_count": 1,
   "id": "7b8b1d4f-c197-40f8-abc3-0b2e4bf2830a",
   "metadata": {},
   "outputs": [],
   "source": [
    "%%capture\n",
    "pip install shap tensorboard xbatcher imbalanced-learn"
   ]
  },
  {
   "cell_type": "code",
   "execution_count": 2,
   "id": "0e15edd1-db29-4812-9860-aaee21bc6b65",
   "metadata": {},
   "outputs": [
    {
     "name": "stdout",
     "output_type": "stream",
     "text": [
      "Changed working directory to /home/jovyan/ForestLST\n"
     ]
    }
   ],
   "source": [
    "import os\n",
    "\n",
    "if \"notebooks\" in os.getcwd():\n",
    "    os.chdir(\"..\")\n",
    "    print(\"Changed working directory to\", os.getcwd())\n",
    "\n",
    "import util"
   ]
  },
  {
   "cell_type": "code",
   "execution_count": 6,
   "id": "035bfb8b-e1e2-49e1-a5e6-7818e1ba3e9e",
   "metadata": {},
   "outputs": [],
   "source": [
    "import util\n",
    "\n",
    "import torch\n",
    "import pandas as pd\n",
    "import numpy as np\n",
    "from matplotlib import pyplot as plt\n",
    "import xarray as xr\n",
    "import rioxarray\n",
    "import cartopy.crs as ccrs\n",
    "\n",
    "import shutil\n",
    "import json\n",
    "import random"
   ]
  },
  {
   "cell_type": "markdown",
   "id": "6dd5a3f1-1ee1-4b62-886c-50944ecad7be",
   "metadata": {},
   "source": [
    "### Get data"
   ]
  },
  {
   "cell_type": "code",
   "execution_count": 8,
   "id": "fa3809ac-f68d-46c4-9a48-9d981fb32ad6",
   "metadata": {},
   "outputs": [],
   "source": [
    "ds = xr.open_dataset(\"data_working/westmort.nc\")\n",
    "bounds = ds.rio.write_crs(3857).rio.bounds()"
   ]
  },
  {
   "cell_type": "code",
   "execution_count": 9,
   "id": "f2a24a1a-ebbc-45ef-a065-8feae6ee118a",
   "metadata": {},
   "outputs": [],
   "source": [
    "ds[\"mort_ewma\"] = xr.apply_ufunc(\n",
    "    util.manip.numpy_ewma_vectorized,\n",
    "    ds.mortality,\n",
    "    input_core_dims=[[\"time\"]],\n",
    "    output_core_dims=[[\"time\"]],\n",
    "    vectorize=True,\n",
    "    kwargs=dict(window=3)\n",
    ")\n",
    "\n",
    "ds[\"mort_shift\"] = ds[\"mort_ewma\"].shift(time=1)"
   ]
  },
  {
   "cell_type": "code",
   "execution_count": 12,
   "id": "ca367c50-882e-4d5b-a103-dd0a98816468",
   "metadata": {},
   "outputs": [],
   "source": [
    "ba_vars = [\"abies\", \"picea\", \"populus\", \"tsuga\", \"pseudotsuga\"]\n",
    "ds[\"forest_ba\"] = ds[ba_vars].to_stacked_array(\"band\", sample_dims=[\"x\", \"y\", \"time\"]).sum(dim=\"band\")"
   ]
  },
  {
   "cell_type": "markdown",
   "id": "b423471b-2ea3-4801-ab5e-2aa6430527ac",
   "metadata": {},
   "source": [
    "## Model definition"
   ]
  },
  {
   "cell_type": "code",
   "execution_count": 13,
   "id": "4326f8f2-c15c-4b75-b68e-9e63483658be",
   "metadata": {},
   "outputs": [],
   "source": [
    "def make_simpledense(input_size, init_bias: float=None, dropout: float=0.2):\n",
    "    m = torch.nn.Sequential(\n",
    "        torch.nn.BatchNorm1d(input_size),\n",
    "        torch.nn.Linear(input_size, 64),\n",
    "        torch.nn.Dropout(p=dropout),\n",
    "        torch.nn.Tanh(),\n",
    "        torch.nn.Linear(64, 32),\n",
    "        torch.nn.Dropout(p=dropout),\n",
    "        torch.nn.Tanh(),\n",
    "        torch.nn.Linear(32, 8),\n",
    "        torch.nn.Dropout(p=dropout),\n",
    "        torch.nn.Tanh(),\n",
    "        torch.nn.Linear(8, 1),\n",
    "        torch.nn.Sigmoid()\n",
    "    )\n",
    "\n",
    "    if init_bias is not None:\n",
    "        torch.nn.init.constant_(m[-2].bias, init_bias)\n",
    "\n",
    "    return m"
   ]
  },
  {
   "cell_type": "code",
   "execution_count": 14,
   "id": "9b542ba5-d932-42b8-8f55-d78c01662817",
   "metadata": {},
   "outputs": [
    {
     "name": "stdout",
     "output_type": "stream",
     "text": [
      "Sequential(\n",
      "  (0): BatchNorm1d(13, eps=1e-05, momentum=0.1, affine=True, track_running_stats=True)\n",
      "  (1): Linear(in_features=13, out_features=64, bias=True)\n",
      "  (2): Dropout(p=0.2, inplace=False)\n",
      "  (3): Tanh()\n",
      "  (4): Linear(in_features=64, out_features=32, bias=True)\n",
      "  (5): Dropout(p=0.2, inplace=False)\n",
      "  (6): Tanh()\n",
      "  (7): Linear(in_features=32, out_features=8, bias=True)\n",
      "  (8): Dropout(p=0.2, inplace=False)\n",
      "  (9): Tanh()\n",
      "  (10): Linear(in_features=8, out_features=1, bias=True)\n",
      "  (11): Sigmoid()\n",
      ")\n"
     ]
    }
   ],
   "source": [
    "sd = make_simpledense(13, init_bias=1.0)\n",
    "print(sd)"
   ]
  },
  {
   "cell_type": "markdown",
   "id": "eae7a822-b6ff-47e7-8533-5a4fbed5d6e8",
   "metadata": {},
   "source": [
    "### Convert inputs to tensors"
   ]
  },
  {
   "cell_type": "code",
   "execution_count": 15,
   "id": "6f764139-ac63-4dc9-987f-ac7d530b53b1",
   "metadata": {},
   "outputs": [
    {
     "data": {
      "text/plain": [
       "['time',\n",
       " 'x',\n",
       " 'y',\n",
       " 'abies',\n",
       " 'picea',\n",
       " 'populus',\n",
       " 'pseudotsuga',\n",
       " 'tsuga',\n",
       " 'vod',\n",
       " 'elev',\n",
       " 'slope',\n",
       " 'northness',\n",
       " 'eastness',\n",
       " 'fire',\n",
       " 'mortality',\n",
       " 'prcp',\n",
       " 'vp',\n",
       " 'tmin',\n",
       " 'treecover',\n",
       " 'spatial_ref',\n",
       " 'mort_ewma',\n",
       " 'mort_shift',\n",
       " 'forest_ba']"
      ]
     },
     "execution_count": 15,
     "metadata": {},
     "output_type": "execute_result"
    }
   ],
   "source": [
    "list(ds.variables.keys())"
   ]
  },
  {
   "cell_type": "code",
   "execution_count": 23,
   "id": "d43716a6-3037-4b19-9f6a-bd019e0cae8f",
   "metadata": {},
   "outputs": [],
   "source": [
    "TARGET = [\"mort_shift\"]\n",
    "BANDS = [\"forest_ba\", \"prcp\", \"vp\", \"tmin\", \"fire\", \"elev\", \"vod\", \"mort_ewma\"]\n",
    "\n",
    "df = ds[TARGET + BANDS].to_dataframe().dropna().reset_index()"
   ]
  },
  {
   "cell_type": "code",
   "execution_count": 24,
   "id": "ffd3cb84-7457-4408-a033-faca25ab36d9",
   "metadata": {},
   "outputs": [
    {
     "name": "stdout",
     "output_type": "stream",
     "text": [
      "(871416, 12)\n"
     ]
    },
    {
     "data": {
      "text/html": [
       "<div>\n",
       "<style scoped>\n",
       "    .dataframe tbody tr th:only-of-type {\n",
       "        vertical-align: middle;\n",
       "    }\n",
       "\n",
       "    .dataframe tbody tr th {\n",
       "        vertical-align: top;\n",
       "    }\n",
       "\n",
       "    .dataframe thead th {\n",
       "        text-align: right;\n",
       "    }\n",
       "</style>\n",
       "<table border=\"1\" class=\"dataframe\">\n",
       "  <thead>\n",
       "    <tr style=\"text-align: right;\">\n",
       "      <th></th>\n",
       "      <th>y</th>\n",
       "      <th>x</th>\n",
       "      <th>time</th>\n",
       "      <th>mort_shift</th>\n",
       "      <th>forest_ba</th>\n",
       "      <th>prcp</th>\n",
       "      <th>vp</th>\n",
       "      <th>tmin</th>\n",
       "      <th>fire</th>\n",
       "      <th>elev</th>\n",
       "      <th>vod</th>\n",
       "      <th>mort_ewma</th>\n",
       "    </tr>\n",
       "  </thead>\n",
       "  <tbody>\n",
       "    <tr>\n",
       "      <th>0</th>\n",
       "      <td>6274302.419</td>\n",
       "      <td>-1.360222e+07</td>\n",
       "      <td>2002</td>\n",
       "      <td>0.0</td>\n",
       "      <td>8.0</td>\n",
       "      <td>1410.0</td>\n",
       "      <td>1313.0</td>\n",
       "      <td>0.0</td>\n",
       "      <td>0.0</td>\n",
       "      <td>35.0</td>\n",
       "      <td>430.0</td>\n",
       "      <td>0.0</td>\n",
       "    </tr>\n",
       "    <tr>\n",
       "      <th>1</th>\n",
       "      <td>6274302.419</td>\n",
       "      <td>-1.360222e+07</td>\n",
       "      <td>2003</td>\n",
       "      <td>0.0</td>\n",
       "      <td>8.0</td>\n",
       "      <td>1102.0</td>\n",
       "      <td>1262.0</td>\n",
       "      <td>0.0</td>\n",
       "      <td>0.0</td>\n",
       "      <td>35.0</td>\n",
       "      <td>430.0</td>\n",
       "      <td>0.0</td>\n",
       "    </tr>\n",
       "    <tr>\n",
       "      <th>2</th>\n",
       "      <td>6274302.419</td>\n",
       "      <td>-1.360222e+07</td>\n",
       "      <td>2004</td>\n",
       "      <td>0.0</td>\n",
       "      <td>8.0</td>\n",
       "      <td>1505.0</td>\n",
       "      <td>1365.0</td>\n",
       "      <td>0.0</td>\n",
       "      <td>0.0</td>\n",
       "      <td>35.0</td>\n",
       "      <td>413.0</td>\n",
       "      <td>0.0</td>\n",
       "    </tr>\n",
       "    <tr>\n",
       "      <th>3</th>\n",
       "      <td>6274302.419</td>\n",
       "      <td>-1.360222e+07</td>\n",
       "      <td>2005</td>\n",
       "      <td>0.0</td>\n",
       "      <td>8.0</td>\n",
       "      <td>1545.0</td>\n",
       "      <td>1363.0</td>\n",
       "      <td>0.0</td>\n",
       "      <td>0.0</td>\n",
       "      <td>35.0</td>\n",
       "      <td>425.0</td>\n",
       "      <td>0.0</td>\n",
       "    </tr>\n",
       "    <tr>\n",
       "      <th>4</th>\n",
       "      <td>6274302.419</td>\n",
       "      <td>-1.360222e+07</td>\n",
       "      <td>2006</td>\n",
       "      <td>0.0</td>\n",
       "      <td>8.0</td>\n",
       "      <td>1255.0</td>\n",
       "      <td>1272.0</td>\n",
       "      <td>1.0</td>\n",
       "      <td>0.0</td>\n",
       "      <td>35.0</td>\n",
       "      <td>429.0</td>\n",
       "      <td>0.0</td>\n",
       "    </tr>\n",
       "  </tbody>\n",
       "</table>\n",
       "</div>"
      ],
      "text/plain": [
       "             y             x  time  mort_shift  forest_ba    prcp      vp  \\\n",
       "0  6274302.419 -1.360222e+07  2002         0.0        8.0  1410.0  1313.0   \n",
       "1  6274302.419 -1.360222e+07  2003         0.0        8.0  1102.0  1262.0   \n",
       "2  6274302.419 -1.360222e+07  2004         0.0        8.0  1505.0  1365.0   \n",
       "3  6274302.419 -1.360222e+07  2005         0.0        8.0  1545.0  1363.0   \n",
       "4  6274302.419 -1.360222e+07  2006         0.0        8.0  1255.0  1272.0   \n",
       "\n",
       "   tmin  fire  elev    vod  mort_ewma  \n",
       "0   0.0   0.0  35.0  430.0        0.0  \n",
       "1   0.0   0.0  35.0  430.0        0.0  \n",
       "2   0.0   0.0  35.0  413.0        0.0  \n",
       "3   0.0   0.0  35.0  425.0        0.0  \n",
       "4   1.0   0.0  35.0  429.0        0.0  "
      ]
     },
     "execution_count": 24,
     "metadata": {},
     "output_type": "execute_result"
    }
   ],
   "source": [
    "print(df.shape)\n",
    "df.head()"
   ]
  },
  {
   "cell_type": "code",
   "execution_count": 27,
   "id": "f88b6df7-ce1f-4041-9bfb-8bbb1c49cabe",
   "metadata": {},
   "outputs": [
    {
     "name": "stdout",
     "output_type": "stream",
     "text": [
      "N rows\n",
      "311601\n",
      "160389\n",
      "399426\n"
     ]
    }
   ],
   "source": [
    "years = ds.time.values\n",
    "\n",
    "train_years = years[16:]\n",
    "valid_years = years[:8]\n",
    "test_years = years[8:16]\n",
    "\n",
    "train_df = df[df.time.isin(train_years)]\n",
    "valid_df = df[df.time.isin(valid_years)]\n",
    "test_df  = df[df.time.isin(test_years)]\n",
    "\n",
    "print(\"N rows\")\n",
    "print(train_df.shape[0])\n",
    "print(valid_df.shape[0])\n",
    "print(test_df.shape[0])"
   ]
  },
  {
   "cell_type": "code",
   "execution_count": 38,
   "id": "6d19f3ac-2b5e-40c1-9323-83637b5de65b",
   "metadata": {},
   "outputs": [],
   "source": [
    "from torch.utils.data import TensorDataset, DataLoader\n",
    "\n",
    "def df_to_dataloader(df):\n",
    "    # Add two dimensions\n",
    "    input = torch.from_numpy(df[BANDS].to_numpy().astype(np.float32))\n",
    "    output = torch.from_numpy(df[TARGET].to_numpy().astype(np.float32))/100\n",
    "\n",
    "    ds = TensorDataset(input, output)\n",
    "    \n",
    "    return DataLoader(ds, batch_size=512, shuffle=True)\n",
    "\n",
    "train_dl = df_to_dataloader(train_df)\n",
    "valid_dl = df_to_dataloader(valid_df)\n",
    "test_dl  = df_to_dataloader(test_df)"
   ]
  },
  {
   "cell_type": "markdown",
   "id": "a024b0db-185c-4127-ab94-777060d97777",
   "metadata": {},
   "source": [
    "### Training loop"
   ]
  },
  {
   "cell_type": "code",
   "execution_count": 39,
   "id": "77809b0e-fc5e-427b-8ddc-ce9120c6b37c",
   "metadata": {},
   "outputs": [],
   "source": [
    "from importlib import reload\n",
    "reload(util.training)\n",
    "from util.training import BaseTrainer, ReduceLRMixin, EarlyStopMixin\n",
    "\n",
    "# Masked loss is very slow for some reason\n",
    "class Trainer(ReduceLRMixin, EarlyStopMixin, BaseTrainer):\n",
    "    pass"
   ]
  },
  {
   "cell_type": "code",
   "execution_count": 40,
   "id": "92b18235-2e40-42c0-8641-b87eece48b6a",
   "metadata": {},
   "outputs": [
    {
     "name": "stderr",
     "output_type": "stream",
     "text": [
      "/home/jovyan/ForestLST/util/training.py:163: UserWarning: Log already exists at logs/031425_simpledense/history\n",
      "  warnings.warn(f\"Log already exists at {tensorboard_log}\")\n"
     ]
    },
    {
     "data": {
      "application/vnd.jupyter.widget-view+json": {
       "model_id": "b36723333407486e8d188c43395261ba",
       "version_major": 2,
       "version_minor": 0
      },
      "text/plain": [
       "Epoch:   0%|          | 0/30 [00:00<?, ?it/s]"
      ]
     },
     "metadata": {},
     "output_type": "display_data"
    },
    {
     "data": {
      "application/vnd.jupyter.widget-view+json": {
       "model_id": "653c1a5f10474ad8be7aaaea87c139d7",
       "version_major": 2,
       "version_minor": 0
      },
      "text/plain": [
       "Training loss:   0%|          | 0/609 [00:00<?, ?it/s]"
      ]
     },
     "metadata": {},
     "output_type": "display_data"
    },
    {
     "data": {
      "application/vnd.jupyter.widget-view+json": {
       "model_id": "b80d55f157254f609ce671312c0e5a3d",
       "version_major": 2,
       "version_minor": 0
      },
      "text/plain": [
       "Validation loss:   0%|          | 0/314 [00:00<?, ?it/s]"
      ]
     },
     "metadata": {},
     "output_type": "display_data"
    },
    {
     "name": "stdout",
     "output_type": "stream",
     "text": [
      "Epoch 1 of 30\n",
      "                                      Key           Value\n",
      "0                            LearningRate           0.005\n",
      "1                              Loss/train        0.002514\n",
      "2                              Loss/valid  tensor(0.0067)\n",
      "3               MeanAbsoluteError()/train      0.02294211\n",
      "4               MeanAbsoluteError()/valid      0.02322939\n",
      "5  NormalizedRootMeanSquaredError()/train       2.1047664\n",
      "6  NormalizedRootMeanSquaredError()/valid        4.887564\n",
      "7                         R2Score()/train      0.45210093\n",
      "8                         R2Score()/valid      -1.0734203\n",
      "\n"
     ]
    },
    {
     "data": {
      "application/vnd.jupyter.widget-view+json": {
       "model_id": "cdeb6ef3e2ae48bfaa9bfbde8f8f4de4",
       "version_major": 2,
       "version_minor": 0
      },
      "text/plain": [
       "Training loss:   0%|          | 0/609 [00:00<?, ?it/s]"
      ]
     },
     "metadata": {},
     "output_type": "display_data"
    },
    {
     "data": {
      "application/vnd.jupyter.widget-view+json": {
       "model_id": "04d7e1135be54e6e84ee1fb5c91b6b2e",
       "version_major": 2,
       "version_minor": 0
      },
      "text/plain": [
       "Validation loss:   0%|          | 0/314 [00:00<?, ?it/s]"
      ]
     },
     "metadata": {},
     "output_type": "display_data"
    },
    {
     "name": "stdout",
     "output_type": "stream",
     "text": [
      "Epoch 2 of 30\n",
      "                                      Key           Value\n",
      "0                            LearningRate           0.005\n",
      "1                              Loss/train        0.002344\n",
      "2                              Loss/valid  tensor(0.0055)\n",
      "3               MeanAbsoluteError()/train     0.023721464\n",
      "4               MeanAbsoluteError()/valid      0.02258076\n",
      "5  NormalizedRootMeanSquaredError()/train       2.0321002\n",
      "6  NormalizedRootMeanSquaredError()/valid       4.4060993\n",
      "7                         R2Score()/train       0.4892801\n",
      "8                         R2Score()/valid      -0.6850461\n",
      "\n"
     ]
    },
    {
     "data": {
      "application/vnd.jupyter.widget-view+json": {
       "model_id": "7e8356aa23c9446e8f14c996636f62a9",
       "version_major": 2,
       "version_minor": 0
      },
      "text/plain": [
       "Training loss:   0%|          | 0/609 [00:00<?, ?it/s]"
      ]
     },
     "metadata": {},
     "output_type": "display_data"
    },
    {
     "data": {
      "application/vnd.jupyter.widget-view+json": {
       "model_id": "bb330c4df8384872b78e73e0fb6a6b56",
       "version_major": 2,
       "version_minor": 0
      },
      "text/plain": [
       "Validation loss:   0%|          | 0/314 [00:00<?, ?it/s]"
      ]
     },
     "metadata": {},
     "output_type": "display_data"
    },
    {
     "name": "stdout",
     "output_type": "stream",
     "text": [
      "Epoch 3 of 30\n",
      "                                      Key           Value\n",
      "0                            LearningRate           0.005\n",
      "1                              Loss/train        0.002321\n",
      "2                              Loss/valid  tensor(0.0069)\n",
      "3               MeanAbsoluteError()/train      0.02360674\n",
      "4               MeanAbsoluteError()/valid     0.025040183\n",
      "5  NormalizedRootMeanSquaredError()/train       2.0226002\n",
      "6  NormalizedRootMeanSquaredError()/valid       4.9468093\n",
      "7                         R2Score()/train      0.49404246\n",
      "8                         R2Score()/valid      -1.1239917\n",
      "\n"
     ]
    },
    {
     "data": {
      "application/vnd.jupyter.widget-view+json": {
       "model_id": "b454940c11d148f89ba3f75e71bcdb02",
       "version_major": 2,
       "version_minor": 0
      },
      "text/plain": [
       "Training loss:   0%|          | 0/609 [00:00<?, ?it/s]"
      ]
     },
     "metadata": {},
     "output_type": "display_data"
    },
    {
     "data": {
      "application/vnd.jupyter.widget-view+json": {
       "model_id": "f0fff50d6bf3470ea09f4f5365693375",
       "version_major": 2,
       "version_minor": 0
      },
      "text/plain": [
       "Validation loss:   0%|          | 0/314 [00:00<?, ?it/s]"
      ]
     },
     "metadata": {},
     "output_type": "display_data"
    },
    {
     "name": "stdout",
     "output_type": "stream",
     "text": [
      "Epoch 4 of 30\n",
      "                                      Key           Value\n",
      "0                            LearningRate           0.005\n",
      "1                              Loss/train        0.002323\n",
      "2                              Loss/valid  tensor(0.0066)\n",
      "3               MeanAbsoluteError()/train       0.0236104\n",
      "4               MeanAbsoluteError()/valid     0.023155041\n",
      "5  NormalizedRootMeanSquaredError()/train       2.0230904\n",
      "6  NormalizedRootMeanSquaredError()/valid         4.83197\n",
      "7                         R2Score()/train       0.4937995\n",
      "8                         R2Score()/valid      -1.0265217\n",
      "\n"
     ]
    },
    {
     "data": {
      "application/vnd.jupyter.widget-view+json": {
       "model_id": "1dc771a171154d4bae91b2d956499e52",
       "version_major": 2,
       "version_minor": 0
      },
      "text/plain": [
       "Training loss:   0%|          | 0/609 [00:00<?, ?it/s]"
      ]
     },
     "metadata": {},
     "output_type": "display_data"
    },
    {
     "data": {
      "application/vnd.jupyter.widget-view+json": {
       "model_id": "71d09ded4145404caaf6c8087c7745b7",
       "version_major": 2,
       "version_minor": 0
      },
      "text/plain": [
       "Validation loss:   0%|          | 0/314 [00:00<?, ?it/s]"
      ]
     },
     "metadata": {},
     "output_type": "display_data"
    },
    {
     "name": "stdout",
     "output_type": "stream",
     "text": [
      "Epoch 5 of 30\n",
      "                                      Key           Value\n",
      "0                            LearningRate           0.005\n",
      "1                              Loss/train        0.002317\n",
      "2                              Loss/valid  tensor(0.0040)\n",
      "3               MeanAbsoluteError()/train     0.023628728\n",
      "4               MeanAbsoluteError()/valid     0.019621052\n",
      "5  NormalizedRootMeanSquaredError()/train       2.0212896\n",
      "6  NormalizedRootMeanSquaredError()/valid        3.789702\n",
      "7                         R2Score()/train      0.49469984\n",
      "8                         R2Score()/valid     -0.24655855\n",
      "\n"
     ]
    },
    {
     "data": {
      "application/vnd.jupyter.widget-view+json": {
       "model_id": "672c0e92878146b093fdc03c2ebd1d4f",
       "version_major": 2,
       "version_minor": 0
      },
      "text/plain": [
       "Training loss:   0%|          | 0/609 [00:00<?, ?it/s]"
      ]
     },
     "metadata": {},
     "output_type": "display_data"
    },
    {
     "data": {
      "application/vnd.jupyter.widget-view+json": {
       "model_id": "85b73637da834c2e812e2ab8c6aac80d",
       "version_major": 2,
       "version_minor": 0
      },
      "text/plain": [
       "Validation loss:   0%|          | 0/314 [00:00<?, ?it/s]"
      ]
     },
     "metadata": {},
     "output_type": "display_data"
    },
    {
     "name": "stdout",
     "output_type": "stream",
     "text": [
      "Epoch 6 of 30\n",
      "                                      Key           Value\n",
      "0                            LearningRate           0.005\n",
      "1                              Loss/train        0.002321\n",
      "2                              Loss/valid  tensor(0.0054)\n",
      "3               MeanAbsoluteError()/train     0.023745388\n",
      "4               MeanAbsoluteError()/valid     0.022048427\n",
      "5  NormalizedRootMeanSquaredError()/train       2.0227473\n",
      "6  NormalizedRootMeanSquaredError()/valid          4.3806\n",
      "7                         R2Score()/train      0.49397057\n",
      "8                         R2Score()/valid       -0.665594\n",
      "\n"
     ]
    },
    {
     "data": {
      "application/vnd.jupyter.widget-view+json": {
       "model_id": "95e8bedc49354c8d8aaaeff54fef0736",
       "version_major": 2,
       "version_minor": 0
      },
      "text/plain": [
       "Training loss:   0%|          | 0/609 [00:00<?, ?it/s]"
      ]
     },
     "metadata": {},
     "output_type": "display_data"
    },
    {
     "data": {
      "application/vnd.jupyter.widget-view+json": {
       "model_id": "87a065d7969e4418ae90994e6fce7649",
       "version_major": 2,
       "version_minor": 0
      },
      "text/plain": [
       "Validation loss:   0%|          | 0/314 [00:00<?, ?it/s]"
      ]
     },
     "metadata": {},
     "output_type": "display_data"
    },
    {
     "name": "stdout",
     "output_type": "stream",
     "text": [
      "Epoch 7 of 30\n",
      "                                      Key           Value\n",
      "0                            LearningRate           0.005\n",
      "1                              Loss/train        0.002344\n",
      "2                              Loss/valid  tensor(0.0052)\n",
      "3               MeanAbsoluteError()/train     0.023793798\n",
      "4               MeanAbsoluteError()/valid     0.022119079\n",
      "5  NormalizedRootMeanSquaredError()/train        2.032666\n",
      "6  NormalizedRootMeanSquaredError()/valid       4.2834387\n",
      "7                         R2Score()/train      0.48899537\n",
      "8                         R2Score()/valid      -0.5925306\n",
      "\n"
     ]
    },
    {
     "data": {
      "application/vnd.jupyter.widget-view+json": {
       "model_id": "65945d36a06344c79baeb8a066305c7c",
       "version_major": 2,
       "version_minor": 0
      },
      "text/plain": [
       "Training loss:   0%|          | 0/609 [00:00<?, ?it/s]"
      ]
     },
     "metadata": {},
     "output_type": "display_data"
    },
    {
     "data": {
      "application/vnd.jupyter.widget-view+json": {
       "model_id": "63d803b3de6448f8b88d0c081a24c85b",
       "version_major": 2,
       "version_minor": 0
      },
      "text/plain": [
       "Validation loss:   0%|          | 0/314 [00:00<?, ?it/s]"
      ]
     },
     "metadata": {},
     "output_type": "display_data"
    },
    {
     "name": "stdout",
     "output_type": "stream",
     "text": [
      "Epoch 8 of 30\n",
      "                                      Key           Value\n",
      "0                            LearningRate           0.005\n",
      "1                              Loss/train        0.002307\n",
      "2                              Loss/valid  tensor(0.0043)\n",
      "3               MeanAbsoluteError()/train     0.023602488\n",
      "4               MeanAbsoluteError()/valid      0.02031784\n",
      "5  NormalizedRootMeanSquaredError()/train       2.0167923\n",
      "6  NormalizedRootMeanSquaredError()/valid       3.9104717\n",
      "7                         R2Score()/train      0.49694502\n",
      "8                         R2Score()/valid     -0.32727456\n",
      "\n"
     ]
    },
    {
     "data": {
      "application/vnd.jupyter.widget-view+json": {
       "model_id": "728b3d4de91c43e99136b74cd2555fef",
       "version_major": 2,
       "version_minor": 0
      },
      "text/plain": [
       "Training loss:   0%|          | 0/609 [00:00<?, ?it/s]"
      ]
     },
     "metadata": {},
     "output_type": "display_data"
    },
    {
     "data": {
      "application/vnd.jupyter.widget-view+json": {
       "model_id": "1e522935dec44a0ead9ed6274ff23ceb",
       "version_major": 2,
       "version_minor": 0
      },
      "text/plain": [
       "Validation loss:   0%|          | 0/314 [00:00<?, ?it/s]"
      ]
     },
     "metadata": {},
     "output_type": "display_data"
    },
    {
     "name": "stdout",
     "output_type": "stream",
     "text": [
      "Epoch 9 of 30\n",
      "                                      Key           Value\n",
      "0                            LearningRate           0.001\n",
      "1                              Loss/train        0.002295\n",
      "2                              Loss/valid  tensor(0.0051)\n",
      "3               MeanAbsoluteError()/train     0.023517465\n",
      "4               MeanAbsoluteError()/valid     0.021355009\n",
      "5  NormalizedRootMeanSquaredError()/train       2.0113523\n",
      "6  NormalizedRootMeanSquaredError()/valid       4.2746773\n",
      "7                         R2Score()/train       0.4996552\n",
      "8                         R2Score()/valid      -0.5860214\n",
      "\n"
     ]
    },
    {
     "data": {
      "application/vnd.jupyter.widget-view+json": {
       "model_id": "cfdb1632fc1749adb22d6419f2ea2c19",
       "version_major": 2,
       "version_minor": 0
      },
      "text/plain": [
       "Training loss:   0%|          | 0/609 [00:00<?, ?it/s]"
      ]
     },
     "metadata": {},
     "output_type": "display_data"
    },
    {
     "data": {
      "application/vnd.jupyter.widget-view+json": {
       "model_id": "4a303ee772b7426597efa0c2d82e4c8c",
       "version_major": 2,
       "version_minor": 0
      },
      "text/plain": [
       "Validation loss:   0%|          | 0/314 [00:00<?, ?it/s]"
      ]
     },
     "metadata": {},
     "output_type": "display_data"
    },
    {
     "name": "stdout",
     "output_type": "stream",
     "text": [
      "Epoch 10 of 30\n",
      "                                      Key           Value\n",
      "0                            LearningRate           0.001\n",
      "1                              Loss/train        0.002267\n",
      "2                              Loss/valid  tensor(0.0057)\n",
      "3               MeanAbsoluteError()/train     0.023510197\n",
      "4               MeanAbsoluteError()/valid     0.022955569\n",
      "5  NormalizedRootMeanSquaredError()/train       1.9987633\n",
      "6  NormalizedRootMeanSquaredError()/valid       4.4844937\n",
      "7                         R2Score()/train      0.50589836\n",
      "8                         R2Score()/valid       -0.745538\n",
      "\n"
     ]
    },
    {
     "data": {
      "application/vnd.jupyter.widget-view+json": {
       "model_id": "1146c31ef0334d90adb501ed15f5c012",
       "version_major": 2,
       "version_minor": 0
      },
      "text/plain": [
       "Training loss:   0%|          | 0/609 [00:00<?, ?it/s]"
      ]
     },
     "metadata": {},
     "output_type": "display_data"
    },
    {
     "data": {
      "application/vnd.jupyter.widget-view+json": {
       "model_id": "4fd882150c8b4af8827ed1e1ddf2f61e",
       "version_major": 2,
       "version_minor": 0
      },
      "text/plain": [
       "Validation loss:   0%|          | 0/314 [00:00<?, ?it/s]"
      ]
     },
     "metadata": {},
     "output_type": "display_data"
    },
    {
     "name": "stdout",
     "output_type": "stream",
     "text": [
      "Epoch 11 of 30\n",
      "                                      Key           Value\n",
      "0                            LearningRate           0.001\n",
      "1                              Loss/train        0.002224\n",
      "2                              Loss/valid  tensor(0.0057)\n",
      "3               MeanAbsoluteError()/train     0.023318361\n",
      "4               MeanAbsoluteError()/valid     0.022834267\n",
      "5  NormalizedRootMeanSquaredError()/train       1.9799443\n",
      "6  NormalizedRootMeanSquaredError()/valid       4.4992914\n",
      "7                         R2Score()/train      0.51515925\n",
      "8                         R2Score()/valid     -0.75707924\n",
      "\n"
     ]
    },
    {
     "data": {
      "application/vnd.jupyter.widget-view+json": {
       "model_id": "67cb940b65394a4f8d2348de26b9280c",
       "version_major": 2,
       "version_minor": 0
      },
      "text/plain": [
       "Training loss:   0%|          | 0/609 [00:00<?, ?it/s]"
      ]
     },
     "metadata": {},
     "output_type": "display_data"
    },
    {
     "data": {
      "application/vnd.jupyter.widget-view+json": {
       "model_id": "8ed0b600ce3b4d6693d4e63988de45ae",
       "version_major": 2,
       "version_minor": 0
      },
      "text/plain": [
       "Validation loss:   0%|          | 0/314 [00:00<?, ?it/s]"
      ]
     },
     "metadata": {},
     "output_type": "display_data"
    },
    {
     "name": "stdout",
     "output_type": "stream",
     "text": [
      "Epoch 12 of 30\n",
      "                                      Key           Value\n",
      "0                            LearningRate           0.001\n",
      "1                              Loss/train        0.002222\n",
      "2                              Loss/valid  tensor(0.0059)\n",
      "3               MeanAbsoluteError()/train      0.02309929\n",
      "4               MeanAbsoluteError()/valid     0.022698455\n",
      "5  NormalizedRootMeanSquaredError()/train       1.9791658\n",
      "6  NormalizedRootMeanSquaredError()/valid       4.5937834\n",
      "7                         R2Score()/train      0.51554036\n",
      "8                         R2Score()/valid      -0.8316529\n",
      "\n"
     ]
    },
    {
     "data": {
      "application/vnd.jupyter.widget-view+json": {
       "model_id": "e7cb9281da85482b9572cf3f3b6ce75b",
       "version_major": 2,
       "version_minor": 0
      },
      "text/plain": [
       "Training loss:   0%|          | 0/609 [00:00<?, ?it/s]"
      ]
     },
     "metadata": {},
     "output_type": "display_data"
    },
    {
     "data": {
      "application/vnd.jupyter.widget-view+json": {
       "model_id": "cf21f695148440ae815a01ab17e08153",
       "version_major": 2,
       "version_minor": 0
      },
      "text/plain": [
       "Validation loss:   0%|          | 0/314 [00:00<?, ?it/s]"
      ]
     },
     "metadata": {},
     "output_type": "display_data"
    },
    {
     "name": "stdout",
     "output_type": "stream",
     "text": [
      "Epoch 13 of 30\n",
      "                                      Key           Value\n",
      "0                            LearningRate          0.0002\n",
      "1                              Loss/train        0.002233\n",
      "2                              Loss/valid  tensor(0.0061)\n",
      "3               MeanAbsoluteError()/train     0.023219256\n",
      "4               MeanAbsoluteError()/valid     0.023027562\n",
      "5  NormalizedRootMeanSquaredError()/train       1.9840026\n",
      "6  NormalizedRootMeanSquaredError()/valid       4.6351132\n",
      "7                         R2Score()/train       0.5131693\n",
      "8                         R2Score()/valid      -0.8647635\n",
      "\n"
     ]
    },
    {
     "data": {
      "application/vnd.jupyter.widget-view+json": {
       "model_id": "fd2702c3400845c08e7eb9a6713674f3",
       "version_major": 2,
       "version_minor": 0
      },
      "text/plain": [
       "Training loss:   0%|          | 0/609 [00:00<?, ?it/s]"
      ]
     },
     "metadata": {},
     "output_type": "display_data"
    },
    {
     "data": {
      "application/vnd.jupyter.widget-view+json": {
       "model_id": "793359236e114fed92ce8b57a943195d",
       "version_major": 2,
       "version_minor": 0
      },
      "text/plain": [
       "Validation loss:   0%|          | 0/314 [00:00<?, ?it/s]"
      ]
     },
     "metadata": {},
     "output_type": "display_data"
    },
    {
     "name": "stdout",
     "output_type": "stream",
     "text": [
      "Epoch 14 of 30\n",
      "                                      Key           Value\n",
      "0                            LearningRate          0.0002\n",
      "1                              Loss/train        0.002218\n",
      "2                              Loss/valid  tensor(0.0064)\n",
      "3               MeanAbsoluteError()/train     0.023067757\n",
      "4               MeanAbsoluteError()/valid     0.023699382\n",
      "5  NormalizedRootMeanSquaredError()/train       1.9773022\n",
      "6  NormalizedRootMeanSquaredError()/valid       4.7727957\n",
      "7                         R2Score()/train      0.51645243\n",
      "8                         R2Score()/valid      -0.9771873\n",
      "\n"
     ]
    }
   ],
   "source": [
    "import torchmetrics\n",
    "\n",
    "# Only doing temporal split since that makes the most\n",
    "# sense here.\n",
    "model_name = \"031425_simpledense\"\n",
    "\n",
    "y_mean = train_df.mort_ewma.mean()/100\n",
    "init_bias = np.log(y_mean / (1-y_mean))\n",
    "n_feats = next(iter(train_dl))[0].shape[1]\n",
    "\n",
    "model = make_simpledense(n_feats, dropout=0.5, init_bias=init_bias)\n",
    "opt = torch.optim.Adam(model.parameters(), lr=0.005)\n",
    "scheduler = torch.optim.lr_scheduler.ReduceLROnPlateau(opt, factor=0.2, patience=3)\n",
    "loss = torch.nn.MSELoss()\n",
    "metrics = util.training.get_regr_metrics()\n",
    "\n",
    "trainer = Trainer(\n",
    "    model,\n",
    "    opt,\n",
    "    scheduler,\n",
    "    loss,\n",
    "    train_dl,\n",
    "    valid_dl,\n",
    "    metrics=metrics,\n",
    "    n_epochs=30,\n",
    "    tensorboard_log=os.path.join(\"logs\", model_name, \"history\"),\n",
    "    model_log=os.path.join(\"logs\", model_name, \"model.pth\"),\n",
    "    defn_log=os.path.join(\"logs\", model_name, \"model_definition.txt\")\n",
    ")\n",
    "\n",
    "trainer.train()"
   ]
  },
  {
   "cell_type": "code",
   "execution_count": 41,
   "id": "7e4eec2e-e83d-46ce-944d-94e25f502e98",
   "metadata": {},
   "outputs": [
    {
     "data": {
      "text/plain": [
       "(<Figure size 640x480 with 6 Axes>, <Axes: >)"
      ]
     },
     "execution_count": 41,
     "metadata": {},
     "output_type": "execute_result"
    },
    {
     "data": {
      "image/png": "[encoded data removed]",
      "text/plain": [
       "<Figure size 640x480 with 6 Axes>"
      ]
     },
     "metadata": {},
     "output_type": "display_data"
    }
   ],
   "source": [
    "util.plot.plot_all_scalars_in_run(f\"logs/{model_name}/history\")"
   ]
  }
 ],
 "metadata": {
  "kernelspec": {
   "display_name": "Python 3 (ipykernel)",
   "language": "python",
   "name": "python3"
  },
  "language_info": {
   "codemirror_mode": {
    "name": "ipython",
    "version": 3
   },
   "file_extension": ".py",
   "mimetype": "text/x-python",
   "name": "python",
   "nbconvert_exporter": "python",
   "pygments_lexer": "ipython3",
   "version": "3.12.8"
  }
 },
 "nbformat": 4,
 "nbformat_minor": 5
}
