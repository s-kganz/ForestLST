{
 "cells": [
  {
   "cell_type": "markdown",
   "id": "3446f3b2-33ea-4432-977f-dd8a2a7a005a",
   "metadata": {},
   "source": [
    "## Replicate model in Preisler et al. (2017)\n",
    "\n",
    "Their approach was to use a general additive model with a logit link function. GAMs are hard to implement in Python and do not play well with tensorflow. We will approximate this with a dense neural network with a logit activation function in the output node."
   ]
  },
  {
   "cell_type": "code",
   "execution_count": 1,
   "id": "7b8b1d4f-c197-40f8-abc3-0b2e4bf2830a",
   "metadata": {},
   "outputs": [],
   "source": [
    "%%capture\n",
    "pip install shap tensorboard xbatcher imbalanced-learn"
   ]
  },
  {
   "cell_type": "code",
   "execution_count": 2,
   "id": "0e15edd1-db29-4812-9860-aaee21bc6b65",
   "metadata": {},
   "outputs": [
    {
     "name": "stdout",
     "output_type": "stream",
     "text": [
      "Changed working directory to /home/jovyan/ForestLST\n"
     ]
    }
   ],
   "source": [
    "import os\n",
    "\n",
    "if \"notebooks\" in os.getcwd():\n",
    "    os.chdir(\"..\")\n",
    "    print(\"Changed working directory to\", os.getcwd())\n",
    "\n",
    "import util"
   ]
  },
  {
   "cell_type": "code",
   "execution_count": 3,
   "id": "035bfb8b-e1e2-49e1-a5e6-7818e1ba3e9e",
   "metadata": {},
   "outputs": [],
   "source": [
    "import util\n",
    "\n",
    "import torch\n",
    "import pandas as pd\n",
    "import numpy as np\n",
    "from matplotlib import pyplot as plt\n",
    "import xarray as xr\n",
    "import rioxarray\n",
    "import cartopy.crs as ccrs\n",
    "\n",
    "import shutil\n",
    "import json\n",
    "import random"
   ]
  },
  {
   "cell_type": "markdown",
   "id": "6dd5a3f1-1ee1-4b62-886c-50944ecad7be",
   "metadata": {},
   "source": [
    "### Get data"
   ]
  },
  {
   "cell_type": "code",
   "execution_count": 4,
   "id": "fa3809ac-f68d-46c4-9a48-9d981fb32ad6",
   "metadata": {},
   "outputs": [],
   "source": [
    "ds = xr.open_dataset(\"data_working/westmort.nc\")\n",
    "bounds = ds.rio.write_crs(3857).rio.bounds()"
   ]
  },
  {
   "cell_type": "code",
   "execution_count": 5,
   "id": "f2a24a1a-ebbc-45ef-a065-8feae6ee118a",
   "metadata": {},
   "outputs": [],
   "source": [
    "ds[\"mort_ewma\"] = xr.apply_ufunc(\n",
    "    util.manip.numpy_ewma_vectorized,\n",
    "    ds.mortality,\n",
    "    input_core_dims=[[\"time\"]],\n",
    "    output_core_dims=[[\"time\"]],\n",
    "    vectorize=True,\n",
    "    kwargs=dict(window=3)\n",
    ")\n",
    "\n",
    "ds[\"mort_shift\"] = ds[\"mort_ewma\"].shift(time=1)"
   ]
  },
  {
   "cell_type": "code",
   "execution_count": 6,
   "id": "ca367c50-882e-4d5b-a103-dd0a98816468",
   "metadata": {},
   "outputs": [],
   "source": [
    "ba_vars = [\"abies\", \"picea\", \"populus\", \"tsuga\", \"pseudotsuga\"]\n",
    "ds[\"forest_ba\"] = ds[ba_vars].to_stacked_array(\"band\", sample_dims=[\"x\", \"y\", \"time\"]).sum(dim=\"band\")"
   ]
  },
  {
   "cell_type": "markdown",
   "id": "b423471b-2ea3-4801-ab5e-2aa6430527ac",
   "metadata": {},
   "source": [
    "## Model definition"
   ]
  },
  {
   "cell_type": "code",
   "execution_count": 7,
   "id": "4326f8f2-c15c-4b75-b68e-9e63483658be",
   "metadata": {},
   "outputs": [],
   "source": [
    "def make_simpledense(input_size, init_bias: float=None, dropout: float=0.2):\n",
    "    m = torch.nn.Sequential(\n",
    "        torch.nn.BatchNorm1d(input_size),\n",
    "        torch.nn.Linear(input_size, 16),\n",
    "        torch.nn.Dropout(p=dropout),\n",
    "        torch.nn.Tanh(),\n",
    "        torch.nn.Linear(16, 32),\n",
    "        torch.nn.Dropout(p=dropout),\n",
    "        torch.nn.Tanh(),\n",
    "        torch.nn.Linear(32, 8),\n",
    "        torch.nn.Dropout(p=dropout),\n",
    "        torch.nn.Tanh(),\n",
    "        torch.nn.Linear(8, 1),\n",
    "        torch.nn.Sigmoid()\n",
    "    )\n",
    "\n",
    "    if init_bias is not None:\n",
    "        torch.nn.init.constant_(m[-2].bias, init_bias)\n",
    "\n",
    "    return m"
   ]
  },
  {
   "cell_type": "code",
   "execution_count": 8,
   "id": "9b542ba5-d932-42b8-8f55-d78c01662817",
   "metadata": {},
   "outputs": [
    {
     "name": "stdout",
     "output_type": "stream",
     "text": [
      "Sequential(\n",
      "  (0): BatchNorm1d(13, eps=1e-05, momentum=0.1, affine=True, track_running_stats=True)\n",
      "  (1): Linear(in_features=13, out_features=16, bias=True)\n",
      "  (2): Dropout(p=0.2, inplace=False)\n",
      "  (3): Tanh()\n",
      "  (4): Linear(in_features=16, out_features=32, bias=True)\n",
      "  (5): Dropout(p=0.2, inplace=False)\n",
      "  (6): Tanh()\n",
      "  (7): Linear(in_features=32, out_features=8, bias=True)\n",
      "  (8): Dropout(p=0.2, inplace=False)\n",
      "  (9): Tanh()\n",
      "  (10): Linear(in_features=8, out_features=1, bias=True)\n",
      "  (11): Sigmoid()\n",
      ")\n"
     ]
    }
   ],
   "source": [
    "sd = make_simpledense(13, init_bias=1.0)\n",
    "print(sd)"
   ]
  },
  {
   "cell_type": "markdown",
   "id": "eae7a822-b6ff-47e7-8533-5a4fbed5d6e8",
   "metadata": {},
   "source": [
    "### Convert inputs to tensors"
   ]
  },
  {
   "cell_type": "code",
   "execution_count": 9,
   "id": "6f764139-ac63-4dc9-987f-ac7d530b53b1",
   "metadata": {},
   "outputs": [
    {
     "data": {
      "text/plain": [
       "['time',\n",
       " 'x',\n",
       " 'y',\n",
       " 'abies',\n",
       " 'picea',\n",
       " 'populus',\n",
       " 'pseudotsuga',\n",
       " 'tsuga',\n",
       " 'vod',\n",
       " 'elev',\n",
       " 'slope',\n",
       " 'northness',\n",
       " 'eastness',\n",
       " 'fire',\n",
       " 'mortality',\n",
       " 'prcp',\n",
       " 'vp',\n",
       " 'tmin',\n",
       " 'treecover',\n",
       " 'spatial_ref',\n",
       " 'mort_ewma',\n",
       " 'mort_shift',\n",
       " 'forest_ba']"
      ]
     },
     "execution_count": 9,
     "metadata": {},
     "output_type": "execute_result"
    }
   ],
   "source": [
    "list(ds.variables.keys())"
   ]
  },
  {
   "cell_type": "code",
   "execution_count": 10,
   "id": "d43716a6-3037-4b19-9f6a-bd019e0cae8f",
   "metadata": {},
   "outputs": [],
   "source": [
    "TARGET = [\"mort_shift\"]\n",
    "BANDS = [\"forest_ba\", \"prcp\", \"vp\", \"tmin\", \"fire\", \"elev\", \"vod\", \"mort_ewma\"]\n",
    "\n",
    "df = ds[TARGET + BANDS].to_dataframe().dropna().reset_index()"
   ]
  },
  {
   "cell_type": "code",
   "execution_count": 11,
   "id": "ffd3cb84-7457-4408-a033-faca25ab36d9",
   "metadata": {},
   "outputs": [
    {
     "name": "stdout",
     "output_type": "stream",
     "text": [
      "(871416, 12)\n"
     ]
    },
    {
     "data": {
      "text/html": [
       "<div>\n",
       "<style scoped>\n",
       "    .dataframe tbody tr th:only-of-type {\n",
       "        vertical-align: middle;\n",
       "    }\n",
       "\n",
       "    .dataframe tbody tr th {\n",
       "        vertical-align: top;\n",
       "    }\n",
       "\n",
       "    .dataframe thead th {\n",
       "        text-align: right;\n",
       "    }\n",
       "</style>\n",
       "<table border=\"1\" class=\"dataframe\">\n",
       "  <thead>\n",
       "    <tr style=\"text-align: right;\">\n",
       "      <th></th>\n",
       "      <th>y</th>\n",
       "      <th>x</th>\n",
       "      <th>time</th>\n",
       "      <th>mort_shift</th>\n",
       "      <th>forest_ba</th>\n",
       "      <th>prcp</th>\n",
       "      <th>vp</th>\n",
       "      <th>tmin</th>\n",
       "      <th>fire</th>\n",
       "      <th>elev</th>\n",
       "      <th>vod</th>\n",
       "      <th>mort_ewma</th>\n",
       "    </tr>\n",
       "  </thead>\n",
       "  <tbody>\n",
       "    <tr>\n",
       "      <th>0</th>\n",
       "      <td>6274302.419</td>\n",
       "      <td>-1.360222e+07</td>\n",
       "      <td>2002</td>\n",
       "      <td>0.0</td>\n",
       "      <td>8.0</td>\n",
       "      <td>1410.0</td>\n",
       "      <td>1313.0</td>\n",
       "      <td>0.0</td>\n",
       "      <td>0.0</td>\n",
       "      <td>35.0</td>\n",
       "      <td>430.0</td>\n",
       "      <td>0.0</td>\n",
       "    </tr>\n",
       "    <tr>\n",
       "      <th>1</th>\n",
       "      <td>6274302.419</td>\n",
       "      <td>-1.360222e+07</td>\n",
       "      <td>2003</td>\n",
       "      <td>0.0</td>\n",
       "      <td>8.0</td>\n",
       "      <td>1102.0</td>\n",
       "      <td>1262.0</td>\n",
       "      <td>0.0</td>\n",
       "      <td>0.0</td>\n",
       "      <td>35.0</td>\n",
       "      <td>430.0</td>\n",
       "      <td>0.0</td>\n",
       "    </tr>\n",
       "    <tr>\n",
       "      <th>2</th>\n",
       "      <td>6274302.419</td>\n",
       "      <td>-1.360222e+07</td>\n",
       "      <td>2004</td>\n",
       "      <td>0.0</td>\n",
       "      <td>8.0</td>\n",
       "      <td>1505.0</td>\n",
       "      <td>1365.0</td>\n",
       "      <td>0.0</td>\n",
       "      <td>0.0</td>\n",
       "      <td>35.0</td>\n",
       "      <td>413.0</td>\n",
       "      <td>0.0</td>\n",
       "    </tr>\n",
       "    <tr>\n",
       "      <th>3</th>\n",
       "      <td>6274302.419</td>\n",
       "      <td>-1.360222e+07</td>\n",
       "      <td>2005</td>\n",
       "      <td>0.0</td>\n",
       "      <td>8.0</td>\n",
       "      <td>1545.0</td>\n",
       "      <td>1363.0</td>\n",
       "      <td>0.0</td>\n",
       "      <td>0.0</td>\n",
       "      <td>35.0</td>\n",
       "      <td>425.0</td>\n",
       "      <td>0.0</td>\n",
       "    </tr>\n",
       "    <tr>\n",
       "      <th>4</th>\n",
       "      <td>6274302.419</td>\n",
       "      <td>-1.360222e+07</td>\n",
       "      <td>2006</td>\n",
       "      <td>0.0</td>\n",
       "      <td>8.0</td>\n",
       "      <td>1255.0</td>\n",
       "      <td>1272.0</td>\n",
       "      <td>1.0</td>\n",
       "      <td>0.0</td>\n",
       "      <td>35.0</td>\n",
       "      <td>429.0</td>\n",
       "      <td>0.0</td>\n",
       "    </tr>\n",
       "  </tbody>\n",
       "</table>\n",
       "</div>"
      ],
      "text/plain": [
       "             y             x  time  mort_shift  forest_ba    prcp      vp  \\\n",
       "0  6274302.419 -1.360222e+07  2002         0.0        8.0  1410.0  1313.0   \n",
       "1  6274302.419 -1.360222e+07  2003         0.0        8.0  1102.0  1262.0   \n",
       "2  6274302.419 -1.360222e+07  2004         0.0        8.0  1505.0  1365.0   \n",
       "3  6274302.419 -1.360222e+07  2005         0.0        8.0  1545.0  1363.0   \n",
       "4  6274302.419 -1.360222e+07  2006         0.0        8.0  1255.0  1272.0   \n",
       "\n",
       "   tmin  fire  elev    vod  mort_ewma  \n",
       "0   0.0   0.0  35.0  430.0        0.0  \n",
       "1   0.0   0.0  35.0  430.0        0.0  \n",
       "2   0.0   0.0  35.0  413.0        0.0  \n",
       "3   0.0   0.0  35.0  425.0        0.0  \n",
       "4   1.0   0.0  35.0  429.0        0.0  "
      ]
     },
     "execution_count": 11,
     "metadata": {},
     "output_type": "execute_result"
    }
   ],
   "source": [
    "print(df.shape)\n",
    "df.head()"
   ]
  },
  {
   "cell_type": "code",
   "execution_count": 12,
   "id": "f88b6df7-ce1f-4041-9bfb-8bbb1c49cabe",
   "metadata": {},
   "outputs": [
    {
     "name": "stdout",
     "output_type": "stream",
     "text": [
      "N rows\n",
      "311601\n",
      "160389\n",
      "399426\n"
     ]
    }
   ],
   "source": [
    "years = ds.time.values\n",
    "\n",
    "train_years = years[16:]\n",
    "valid_years = years[:8]\n",
    "test_years = years[8:16]\n",
    "\n",
    "train_df = df[df.time.isin(train_years)]\n",
    "valid_df = df[df.time.isin(valid_years)]\n",
    "test_df  = df[df.time.isin(test_years)]\n",
    "\n",
    "print(\"N rows\")\n",
    "print(train_df.shape[0])\n",
    "print(valid_df.shape[0])\n",
    "print(test_df.shape[0])"
   ]
  },
  {
   "cell_type": "code",
   "execution_count": 13,
   "id": "6d19f3ac-2b5e-40c1-9323-83637b5de65b",
   "metadata": {},
   "outputs": [],
   "source": [
    "from torch.utils.data import TensorDataset, DataLoader\n",
    "\n",
    "def df_to_dataloader(df):\n",
    "    # Add two dimensions\n",
    "    input = torch.from_numpy(df[BANDS].to_numpy().astype(np.float32))\n",
    "    output = torch.from_numpy(df[TARGET].to_numpy().astype(np.float32))/100\n",
    "\n",
    "    ds = TensorDataset(input, output)\n",
    "    \n",
    "    return DataLoader(ds, batch_size=512, shuffle=True)\n",
    "\n",
    "train_dl = df_to_dataloader(train_df)\n",
    "valid_dl = df_to_dataloader(valid_df)\n",
    "test_dl  = df_to_dataloader(test_df)"
   ]
  },
  {
   "cell_type": "markdown",
   "id": "a024b0db-185c-4127-ab94-777060d97777",
   "metadata": {},
   "source": [
    "### Training loop"
   ]
  },
  {
   "cell_type": "code",
   "execution_count": 14,
   "id": "77809b0e-fc5e-427b-8ddc-ce9120c6b37c",
   "metadata": {},
   "outputs": [],
   "source": [
    "from importlib import reload\n",
    "reload(util.training)\n",
    "from util.training import BaseTrainer, ReduceLRMixin, EarlyStopMixin\n",
    "\n",
    "# Masked loss is very slow for some reason\n",
    "class Trainer(ReduceLRMixin, EarlyStopMixin, BaseTrainer):\n",
    "    pass"
   ]
  },
  {
   "cell_type": "code",
   "execution_count": 15,
   "id": "92b18235-2e40-42c0-8641-b87eece48b6a",
   "metadata": {},
   "outputs": [
    {
     "data": {
      "application/vnd.jupyter.widget-view+json": {
       "model_id": "25b5ce77814842378366a1c2a7e7cce9",
       "version_major": 2,
       "version_minor": 0
      },
      "text/plain": [
       "Epoch:   0%|          | 0/30 [00:00<?, ?it/s]"
      ]
     },
     "metadata": {},
     "output_type": "display_data"
    },
    {
     "data": {
      "application/vnd.jupyter.widget-view+json": {
       "model_id": "df9bafcab4b6439f8f40e4565b10bfd2",
       "version_major": 2,
       "version_minor": 0
      },
      "text/plain": [
       "Training loss:   0%|          | 0/609 [00:00<?, ?it/s]"
      ]
     },
     "metadata": {},
     "output_type": "display_data"
    },
    {
     "data": {
      "application/vnd.jupyter.widget-view+json": {
       "model_id": "d15d8b95a901428ab6c8a7b9354749e9",
       "version_major": 2,
       "version_minor": 0
      },
      "text/plain": [
       "Validation loss:   0%|          | 0/314 [00:00<?, ?it/s]"
      ]
     },
     "metadata": {},
     "output_type": "display_data"
    },
    {
     "name": "stdout",
     "output_type": "stream",
     "text": [
      "Epoch 1 of 30\n",
      "                                       Key           Value\n",
      "0                             LearningRate           0.005\n",
      "1                               Loss/train        0.002577\n",
      "2                               Loss/valid  tensor(0.0079)\n",
      "3                MeanAbsoluteError()/train     0.023532692\n",
      "4                MeanAbsoluteError()/valid     0.028564451\n",
      "5                 MeanSquaredError()/train    0.0025766757\n",
      "6                 MeanSquaredError()/valid    0.0079506235\n",
      "7   NormalizedRootMeanSquaredError()/train       2.1310618\n",
      "8   NormalizedRootMeanSquaredError()/valid       5.3160863\n",
      "9                          R2Score()/train        0.438326\n",
      "10                         R2Score()/valid      -1.4529366\n",
      "\n"
     ]
    },
    {
     "data": {
      "application/vnd.jupyter.widget-view+json": {
       "model_id": "6245f9860ef14f43930968d507295928",
       "version_major": 2,
       "version_minor": 0
      },
      "text/plain": [
       "Training loss:   0%|          | 0/609 [00:00<?, ?it/s]"
      ]
     },
     "metadata": {},
     "output_type": "display_data"
    },
    {
     "data": {
      "application/vnd.jupyter.widget-view+json": {
       "model_id": "7ece344de27946a7b08aeb2da0af262d",
       "version_major": 2,
       "version_minor": 0
      },
      "text/plain": [
       "Validation loss:   0%|          | 0/314 [00:00<?, ?it/s]"
      ]
     },
     "metadata": {},
     "output_type": "display_data"
    },
    {
     "name": "stdout",
     "output_type": "stream",
     "text": [
      "Epoch 2 of 30\n",
      "                                       Key           Value\n",
      "0                             LearningRate           0.005\n",
      "1                               Loss/train        0.002386\n",
      "2                               Loss/valid  tensor(0.0058)\n",
      "3                MeanAbsoluteError()/train     0.024052626\n",
      "4                MeanAbsoluteError()/valid     0.023438182\n",
      "5                 MeanSquaredError()/train    0.0023864177\n",
      "6                 MeanSquaredError()/valid    0.0058143022\n",
      "7   NormalizedRootMeanSquaredError()/train        2.050875\n",
      "8   NormalizedRootMeanSquaredError()/valid         4.54611\n",
      "9                          R2Score()/train       0.4797988\n",
      "10                         R2Score()/valid     -0.79383683\n",
      "\n"
     ]
    },
    {
     "data": {
      "application/vnd.jupyter.widget-view+json": {
       "model_id": "59f41c5f4cfa46e6a6a308f075971f85",
       "version_major": 2,
       "version_minor": 0
      },
      "text/plain": [
       "Training loss:   0%|          | 0/609 [00:00<?, ?it/s]"
      ]
     },
     "metadata": {},
     "output_type": "display_data"
    },
    {
     "data": {
      "application/vnd.jupyter.widget-view+json": {
       "model_id": "cc80689aa698422a90c327f959cc769f",
       "version_major": 2,
       "version_minor": 0
      },
      "text/plain": [
       "Validation loss:   0%|          | 0/314 [00:00<?, ?it/s]"
      ]
     },
     "metadata": {},
     "output_type": "display_data"
    },
    {
     "name": "stdout",
     "output_type": "stream",
     "text": [
      "Epoch 3 of 30\n",
      "                                       Key           Value\n",
      "0                             LearningRate           0.005\n",
      "1                               Loss/train        0.002365\n",
      "2                               Loss/valid  tensor(0.0083)\n",
      "3                MeanAbsoluteError()/train     0.023905043\n",
      "4                MeanAbsoluteError()/valid      0.02847302\n",
      "5                 MeanSquaredError()/train    0.0023650883\n",
      "6                 MeanSquaredError()/valid    0.0082687475\n",
      "7   NormalizedRootMeanSquaredError()/train       2.0416892\n",
      "8   NormalizedRootMeanSquaredError()/valid       5.4213953\n",
      "9                          R2Score()/train      0.48444855\n",
      "10                         R2Score()/valid      -1.5510855\n",
      "\n"
     ]
    },
    {
     "data": {
      "application/vnd.jupyter.widget-view+json": {
       "model_id": "316a0be90607481abbe364f562829ab8",
       "version_major": 2,
       "version_minor": 0
      },
      "text/plain": [
       "Training loss:   0%|          | 0/609 [00:00<?, ?it/s]"
      ]
     },
     "metadata": {},
     "output_type": "display_data"
    },
    {
     "data": {
      "application/vnd.jupyter.widget-view+json": {
       "model_id": "f6688c996a7e4f90811e4f95263e9b8c",
       "version_major": 2,
       "version_minor": 0
      },
      "text/plain": [
       "Validation loss:   0%|          | 0/314 [00:00<?, ?it/s]"
      ]
     },
     "metadata": {},
     "output_type": "display_data"
    },
    {
     "name": "stdout",
     "output_type": "stream",
     "text": [
      "Epoch 4 of 30\n",
      "                                       Key           Value\n",
      "0                             LearningRate           0.005\n",
      "1                               Loss/train        0.002326\n",
      "2                               Loss/valid  tensor(0.0027)\n",
      "3                MeanAbsoluteError()/train     0.023774553\n",
      "4                MeanAbsoluteError()/valid     0.018285025\n",
      "5                 MeanSquaredError()/train    0.0023248645\n",
      "6                 MeanSquaredError()/valid    0.0026727316\n",
      "7   NormalizedRootMeanSquaredError()/train       2.0242543\n",
      "8   NormalizedRootMeanSquaredError()/valid       3.0822604\n",
      "9                          R2Score()/train      0.49321634\n",
      "10                         R2Score()/valid       0.1754055\n",
      "\n"
     ]
    },
    {
     "data": {
      "application/vnd.jupyter.widget-view+json": {
       "model_id": "161400c1852c42b39ac65059eb9aa761",
       "version_major": 2,
       "version_minor": 0
      },
      "text/plain": [
       "Training loss:   0%|          | 0/609 [00:00<?, ?it/s]"
      ]
     },
     "metadata": {},
     "output_type": "display_data"
    },
    {
     "data": {
      "application/vnd.jupyter.widget-view+json": {
       "model_id": "1518ae56c8424ecea5ae528bf1250c26",
       "version_major": 2,
       "version_minor": 0
      },
      "text/plain": [
       "Validation loss:   0%|          | 0/314 [00:00<?, ?it/s]"
      ]
     },
     "metadata": {},
     "output_type": "display_data"
    },
    {
     "name": "stdout",
     "output_type": "stream",
     "text": [
      "Epoch 5 of 30\n",
      "                                       Key           Value\n",
      "0                             LearningRate           0.005\n",
      "1                               Loss/train        0.002333\n",
      "2                               Loss/valid  tensor(0.0070)\n",
      "3                MeanAbsoluteError()/train     0.023596844\n",
      "4                MeanAbsoluteError()/valid     0.027418964\n",
      "5                 MeanSquaredError()/train    0.0023326643\n",
      "6                 MeanSquaredError()/valid    0.0070038466\n",
      "7   NormalizedRootMeanSquaredError()/train       2.0276458\n",
      "8   NormalizedRootMeanSquaredError()/valid        4.989534\n",
      "9                          R2Score()/train      0.49151605\n",
      "10                         R2Score()/valid       -1.160836\n",
      "\n"
     ]
    },
    {
     "data": {
      "application/vnd.jupyter.widget-view+json": {
       "model_id": "ea489bbfe0ba4f279c7e3b41d7456c9b",
       "version_major": 2,
       "version_minor": 0
      },
      "text/plain": [
       "Training loss:   0%|          | 0/609 [00:00<?, ?it/s]"
      ]
     },
     "metadata": {},
     "output_type": "display_data"
    },
    {
     "data": {
      "application/vnd.jupyter.widget-view+json": {
       "model_id": "e4dc2bfd35104bc0b148d0ae5b0079ac",
       "version_major": 2,
       "version_minor": 0
      },
      "text/plain": [
       "Validation loss:   0%|          | 0/314 [00:00<?, ?it/s]"
      ]
     },
     "metadata": {},
     "output_type": "display_data"
    },
    {
     "name": "stdout",
     "output_type": "stream",
     "text": [
      "Epoch 6 of 30\n",
      "                                       Key           Value\n",
      "0                             LearningRate           0.005\n",
      "1                               Loss/train        0.002338\n",
      "2                               Loss/valid  tensor(0.0051)\n",
      "3                MeanAbsoluteError()/train     0.023726366\n",
      "4                MeanAbsoluteError()/valid     0.024011154\n",
      "5                 MeanSquaredError()/train      0.00233759\n",
      "6                 MeanSquaredError()/valid      0.00507557\n",
      "7   NormalizedRootMeanSquaredError()/train       2.0297859\n",
      "8   NormalizedRootMeanSquaredError()/valid       4.2475004\n",
      "9                          R2Score()/train      0.49044275\n",
      "10                         R2Score()/valid     -0.56592155\n",
      "\n"
     ]
    },
    {
     "data": {
      "application/vnd.jupyter.widget-view+json": {
       "model_id": "172bfa850a444dd380d574453b42fef1",
       "version_major": 2,
       "version_minor": 0
      },
      "text/plain": [
       "Training loss:   0%|          | 0/609 [00:00<?, ?it/s]"
      ]
     },
     "metadata": {},
     "output_type": "display_data"
    },
    {
     "data": {
      "application/vnd.jupyter.widget-view+json": {
       "model_id": "8372bd9fc37f44ae8906d33916b92a56",
       "version_major": 2,
       "version_minor": 0
      },
      "text/plain": [
       "Validation loss:   0%|          | 0/314 [00:00<?, ?it/s]"
      ]
     },
     "metadata": {},
     "output_type": "display_data"
    },
    {
     "name": "stdout",
     "output_type": "stream",
     "text": [
      "Epoch 7 of 30\n",
      "                                       Key           Value\n",
      "0                             LearningRate           0.005\n",
      "1                               Loss/train         0.00235\n",
      "2                               Loss/valid  tensor(0.0074)\n",
      "3                MeanAbsoluteError()/train     0.023845382\n",
      "4                MeanAbsoluteError()/valid     0.027447794\n",
      "5                 MeanSquaredError()/train    0.0023501297\n",
      "6                 MeanSquaredError()/valid    0.0074034217\n",
      "7   NormalizedRootMeanSquaredError()/train       2.0352225\n",
      "8   NormalizedRootMeanSquaredError()/valid       5.1298876\n",
      "9                          R2Score()/train       0.4877091\n",
      "10                         R2Score()/valid      -1.2841125\n",
      "\n"
     ]
    },
    {
     "data": {
      "application/vnd.jupyter.widget-view+json": {
       "model_id": "6689ce3da9ad4b02a831246e092f5aa4",
       "version_major": 2,
       "version_minor": 0
      },
      "text/plain": [
       "Training loss:   0%|          | 0/609 [00:00<?, ?it/s]"
      ]
     },
     "metadata": {},
     "output_type": "display_data"
    },
    {
     "data": {
      "application/vnd.jupyter.widget-view+json": {
       "model_id": "b675b77d704d4eb0aec4ad450a7c3d05",
       "version_major": 2,
       "version_minor": 0
      },
      "text/plain": [
       "Validation loss:   0%|          | 0/314 [00:00<?, ?it/s]"
      ]
     },
     "metadata": {},
     "output_type": "display_data"
    },
    {
     "name": "stdout",
     "output_type": "stream",
     "text": [
      "Epoch 8 of 30\n",
      "                                       Key           Value\n",
      "0                             LearningRate           0.001\n",
      "1                               Loss/train        0.002331\n",
      "2                               Loss/valid  tensor(0.0049)\n",
      "3                MeanAbsoluteError()/train       0.0236835\n",
      "4                MeanAbsoluteError()/valid     0.023041222\n",
      "5                 MeanSquaredError()/train    0.0023307963\n",
      "6                 MeanSquaredError()/valid    0.0048973546\n",
      "7   NormalizedRootMeanSquaredError()/train       2.0268333\n",
      "8   NormalizedRootMeanSquaredError()/valid       4.1722655\n",
      "9                          R2Score()/train       0.4919238\n",
      "10                         R2Score()/valid      -0.5109376\n",
      "\n"
     ]
    },
    {
     "data": {
      "application/vnd.jupyter.widget-view+json": {
       "model_id": "a5f799d723f14d69980ac8f5764a4d55",
       "version_major": 2,
       "version_minor": 0
      },
      "text/plain": [
       "Training loss:   0%|          | 0/609 [00:00<?, ?it/s]"
      ]
     },
     "metadata": {},
     "output_type": "display_data"
    },
    {
     "data": {
      "application/vnd.jupyter.widget-view+json": {
       "model_id": "c96bdc3323d94e6ea4157ff3c2337c45",
       "version_major": 2,
       "version_minor": 0
      },
      "text/plain": [
       "Validation loss:   0%|          | 0/314 [00:00<?, ?it/s]"
      ]
     },
     "metadata": {},
     "output_type": "display_data"
    },
    {
     "name": "stdout",
     "output_type": "stream",
     "text": [
      "Epoch 9 of 30\n",
      "                                       Key           Value\n",
      "0                             LearningRate           0.001\n",
      "1                               Loss/train        0.002269\n",
      "2                               Loss/valid  tensor(0.0064)\n",
      "3                MeanAbsoluteError()/train     0.023485621\n",
      "4                MeanAbsoluteError()/valid      0.02645639\n",
      "5                 MeanSquaredError()/train    0.0022692883\n",
      "6                 MeanSquaredError()/valid    0.0063955844\n",
      "7   NormalizedRootMeanSquaredError()/train       1.9999117\n",
      "8   NormalizedRootMeanSquaredError()/valid       4.7679553\n",
      "9                          R2Score()/train      0.50533104\n",
      "10                         R2Score()/valid     -0.97317386\n",
      "\n"
     ]
    },
    {
     "data": {
      "application/vnd.jupyter.widget-view+json": {
       "model_id": "7c245066b6dd4982ae34968dc6b311e5",
       "version_major": 2,
       "version_minor": 0
      },
      "text/plain": [
       "Training loss:   0%|          | 0/609 [00:00<?, ?it/s]"
      ]
     },
     "metadata": {},
     "output_type": "display_data"
    },
    {
     "data": {
      "application/vnd.jupyter.widget-view+json": {
       "model_id": "6b58af0bc3c5405db1ca452156c73e77",
       "version_major": 2,
       "version_minor": 0
      },
      "text/plain": [
       "Validation loss:   0%|          | 0/314 [00:00<?, ?it/s]"
      ]
     },
     "metadata": {},
     "output_type": "display_data"
    },
    {
     "name": "stdout",
     "output_type": "stream",
     "text": [
      "Epoch 10 of 30\n",
      "                                       Key           Value\n",
      "0                             LearningRate           0.001\n",
      "1                               Loss/train        0.002254\n",
      "2                               Loss/valid  tensor(0.0050)\n",
      "3                MeanAbsoluteError()/train     0.023332695\n",
      "4                MeanAbsoluteError()/valid     0.023911145\n",
      "5                 MeanSquaredError()/train    0.0022537115\n",
      "6                 MeanSquaredError()/valid    0.0050079725\n",
      "7   NormalizedRootMeanSquaredError()/train       1.9930353\n",
      "8   NormalizedRootMeanSquaredError()/valid        4.219127\n",
      "9                          R2Score()/train      0.50872695\n",
      "10                         R2Score()/valid     -0.54506683\n",
      "\n"
     ]
    },
    {
     "data": {
      "application/vnd.jupyter.widget-view+json": {
       "model_id": "4fe6bef726cb4d84849781cf08ccc3a3",
       "version_major": 2,
       "version_minor": 0
      },
      "text/plain": [
       "Training loss:   0%|          | 0/609 [00:00<?, ?it/s]"
      ]
     },
     "metadata": {},
     "output_type": "display_data"
    },
    {
     "data": {
      "application/vnd.jupyter.widget-view+json": {
       "model_id": "5d6b1e24573541948697e8d1545d6939",
       "version_major": 2,
       "version_minor": 0
      },
      "text/plain": [
       "Validation loss:   0%|          | 0/314 [00:00<?, ?it/s]"
      ]
     },
     "metadata": {},
     "output_type": "display_data"
    },
    {
     "name": "stdout",
     "output_type": "stream",
     "text": [
      "Epoch 11 of 30\n",
      "                                       Key           Value\n",
      "0                             LearningRate           0.001\n",
      "1                               Loss/train        0.002269\n",
      "2                               Loss/valid  tensor(0.0064)\n",
      "3                MeanAbsoluteError()/train     0.023326922\n",
      "4                MeanAbsoluteError()/valid     0.026896872\n",
      "5                 MeanSquaredError()/train    0.0022682254\n",
      "6                 MeanSquaredError()/valid    0.0064199674\n",
      "7   NormalizedRootMeanSquaredError()/train       1.9994432\n",
      "8   NormalizedRootMeanSquaredError()/valid        4.777022\n",
      "9                          R2Score()/train       0.5055629\n",
      "10                         R2Score()/valid      -0.9806973\n",
      "\n"
     ]
    },
    {
     "data": {
      "application/vnd.jupyter.widget-view+json": {
       "model_id": "164587e07c704f8099245013afce09f1",
       "version_major": 2,
       "version_minor": 0
      },
      "text/plain": [
       "Training loss:   0%|          | 0/609 [00:00<?, ?it/s]"
      ]
     },
     "metadata": {},
     "output_type": "display_data"
    },
    {
     "data": {
      "application/vnd.jupyter.widget-view+json": {
       "model_id": "05a53e0c5f71475e8b24c987ad63c240",
       "version_major": 2,
       "version_minor": 0
      },
      "text/plain": [
       "Validation loss:   0%|          | 0/314 [00:00<?, ?it/s]"
      ]
     },
     "metadata": {},
     "output_type": "display_data"
    },
    {
     "name": "stdout",
     "output_type": "stream",
     "text": [
      "Epoch 12 of 30\n",
      "                                       Key           Value\n",
      "0                             LearningRate          0.0002\n",
      "1                               Loss/train        0.002249\n",
      "2                               Loss/valid  tensor(0.0052)\n",
      "3                MeanAbsoluteError()/train     0.023169354\n",
      "4                MeanAbsoluteError()/valid     0.024459051\n",
      "5                 MeanSquaredError()/train     0.002248932\n",
      "6                 MeanSquaredError()/valid    0.0051973476\n",
      "7   NormalizedRootMeanSquaredError()/train       1.9909223\n",
      "8   NormalizedRootMeanSquaredError()/valid        4.298155\n",
      "9                          R2Score()/train       0.5097687\n",
      "10                         R2Score()/valid      -0.6034926\n",
      "\n"
     ]
    },
    {
     "data": {
      "application/vnd.jupyter.widget-view+json": {
       "model_id": "5c01dcc3fc4a4e2094d4f8d7c881b6b4",
       "version_major": 2,
       "version_minor": 0
      },
      "text/plain": [
       "Training loss:   0%|          | 0/609 [00:00<?, ?it/s]"
      ]
     },
     "metadata": {},
     "output_type": "display_data"
    },
    {
     "data": {
      "application/vnd.jupyter.widget-view+json": {
       "model_id": "78aefe92695d41bbb59f16f57ae5fa08",
       "version_major": 2,
       "version_minor": 0
      },
      "text/plain": [
       "Validation loss:   0%|          | 0/314 [00:00<?, ?it/s]"
      ]
     },
     "metadata": {},
     "output_type": "display_data"
    },
    {
     "name": "stdout",
     "output_type": "stream",
     "text": [
      "Epoch 13 of 30\n",
      "                                       Key           Value\n",
      "0                             LearningRate          0.0002\n",
      "1                               Loss/train        0.002241\n",
      "2                               Loss/valid  tensor(0.0053)\n",
      "3                MeanAbsoluteError()/train      0.02321574\n",
      "4                MeanAbsoluteError()/valid     0.024903093\n",
      "5                 MeanSquaredError()/train    0.0022416986\n",
      "6                 MeanSquaredError()/valid    0.0052697724\n",
      "7   NormalizedRootMeanSquaredError()/train       1.9877177\n",
      "8   NormalizedRootMeanSquaredError()/valid       4.3279953\n",
      "9                          R2Score()/train       0.5113456\n",
      "10                         R2Score()/valid     -0.62583673\n",
      "\n"
     ]
    },
    {
     "data": {
      "application/vnd.jupyter.widget-view+json": {
       "model_id": "aa1b1ce8bfe0430ea4ff5612be1ac75b",
       "version_major": 2,
       "version_minor": 0
      },
      "text/plain": [
       "Training loss:   0%|          | 0/609 [00:00<?, ?it/s]"
      ]
     },
     "metadata": {},
     "output_type": "display_data"
    },
    {
     "data": {
      "application/vnd.jupyter.widget-view+json": {
       "model_id": "4e4dc0934855443ea3099faf8b613c5b",
       "version_major": 2,
       "version_minor": 0
      },
      "text/plain": [
       "Validation loss:   0%|          | 0/314 [00:00<?, ?it/s]"
      ]
     },
     "metadata": {},
     "output_type": "display_data"
    },
    {
     "name": "stdout",
     "output_type": "stream",
     "text": [
      "Epoch 14 of 30\n",
      "                                       Key           Value\n",
      "0                             LearningRate          0.0002\n",
      "1                               Loss/train        0.002248\n",
      "2                               Loss/valid  tensor(0.0054)\n",
      "3                MeanAbsoluteError()/train     0.023161974\n",
      "4                MeanAbsoluteError()/valid     0.025074655\n",
      "5                 MeanSquaredError()/train    0.0022484825\n",
      "6                 MeanSquaredError()/valid     0.005381115\n",
      "7   NormalizedRootMeanSquaredError()/train        1.990725\n",
      "8   NormalizedRootMeanSquaredError()/valid        4.373484\n",
      "9                          R2Score()/train      0.50986654\n",
      "10                         R2Score()/valid     -0.66018915\n",
      "\n"
     ]
    },
    {
     "data": {
      "application/vnd.jupyter.widget-view+json": {
       "model_id": "1febfa226fcd431daa025d3041b0eda0",
       "version_major": 2,
       "version_minor": 0
      },
      "text/plain": [
       "Training loss:   0%|          | 0/609 [00:00<?, ?it/s]"
      ]
     },
     "metadata": {},
     "output_type": "display_data"
    },
    {
     "data": {
      "application/vnd.jupyter.widget-view+json": {
       "model_id": "bf039292b99d462f845a51d935bd73bd",
       "version_major": 2,
       "version_minor": 0
      },
      "text/plain": [
       "Validation loss:   0%|          | 0/314 [00:00<?, ?it/s]"
      ]
     },
     "metadata": {},
     "output_type": "display_data"
    },
    {
     "name": "stdout",
     "output_type": "stream",
     "text": [
      "Epoch 15 of 30\n",
      "                                       Key           Value\n",
      "0                             LearningRate          0.0002\n",
      "1                               Loss/train         0.00221\n",
      "2                               Loss/valid  tensor(0.0055)\n",
      "3                MeanAbsoluteError()/train     0.023077669\n",
      "4                MeanAbsoluteError()/valid     0.025339315\n",
      "5                 MeanSquaredError()/train    0.0022098413\n",
      "6                 MeanSquaredError()/valid    0.0055062734\n",
      "7   NormalizedRootMeanSquaredError()/train       1.9735436\n",
      "8   NormalizedRootMeanSquaredError()/valid        4.424052\n",
      "9                          R2Score()/train       0.5182899\n",
      "10                         R2Score()/valid      -0.6988033\n",
      "\n"
     ]
    },
    {
     "data": {
      "application/vnd.jupyter.widget-view+json": {
       "model_id": "07c9f75b450c488a8863d6a192cc054d",
       "version_major": 2,
       "version_minor": 0
      },
      "text/plain": [
       "Training loss:   0%|          | 0/609 [00:00<?, ?it/s]"
      ]
     },
     "metadata": {},
     "output_type": "display_data"
    },
    {
     "data": {
      "application/vnd.jupyter.widget-view+json": {
       "model_id": "e0732af006ac4da39636ac5f2f9e45f4",
       "version_major": 2,
       "version_minor": 0
      },
      "text/plain": [
       "Validation loss:   0%|          | 0/314 [00:00<?, ?it/s]"
      ]
     },
     "metadata": {},
     "output_type": "display_data"
    },
    {
     "name": "stdout",
     "output_type": "stream",
     "text": [
      "Epoch 16 of 30\n",
      "                                       Key           Value\n",
      "0                             LearningRate         0.00004\n",
      "1                               Loss/train        0.002256\n",
      "2                               Loss/valid  tensor(0.0057)\n",
      "3                MeanAbsoluteError()/train     0.023215987\n",
      "4                MeanAbsoluteError()/valid     0.025820501\n",
      "5                 MeanSquaredError()/train    0.0022565364\n",
      "6                 MeanSquaredError()/valid    0.0056529106\n",
      "7   NormalizedRootMeanSquaredError()/train       1.9942842\n",
      "8   NormalizedRootMeanSquaredError()/valid        4.482572\n",
      "9                          R2Score()/train      0.50811106\n",
      "10                         R2Score()/valid     -0.74404323\n",
      "\n"
     ]
    },
    {
     "data": {
      "application/vnd.jupyter.widget-view+json": {
       "model_id": "f4a81047bc5242b7b80e27c89e281a1e",
       "version_major": 2,
       "version_minor": 0
      },
      "text/plain": [
       "Training loss:   0%|          | 0/609 [00:00<?, ?it/s]"
      ]
     },
     "metadata": {},
     "output_type": "display_data"
    },
    {
     "data": {
      "application/vnd.jupyter.widget-view+json": {
       "model_id": "896dbf88f2f0465381551edfeb4bf65c",
       "version_major": 2,
       "version_minor": 0
      },
      "text/plain": [
       "Validation loss:   0%|          | 0/314 [00:00<?, ?it/s]"
      ]
     },
     "metadata": {},
     "output_type": "display_data"
    },
    {
     "name": "stdout",
     "output_type": "stream",
     "text": [
      "Epoch 17 of 30\n",
      "                                       Key           Value\n",
      "0                             LearningRate         0.00004\n",
      "1                               Loss/train        0.002223\n",
      "2                               Loss/valid  tensor(0.0054)\n",
      "3                MeanAbsoluteError()/train     0.023171136\n",
      "4                MeanAbsoluteError()/valid     0.025024131\n",
      "5                 MeanSquaredError()/train    0.0022236789\n",
      "6                 MeanSquaredError()/valid    0.0053598937\n",
      "7   NormalizedRootMeanSquaredError()/train       1.9797112\n",
      "8   NormalizedRootMeanSquaredError()/valid        4.364852\n",
      "9                          R2Score()/train       0.5152736\n",
      "10                         R2Score()/valid     -0.65364206\n",
      "\n"
     ]
    },
    {
     "data": {
      "application/vnd.jupyter.widget-view+json": {
       "model_id": "e6ed981bb41a46c39efb23120923a7c4",
       "version_major": 2,
       "version_minor": 0
      },
      "text/plain": [
       "Training loss:   0%|          | 0/609 [00:00<?, ?it/s]"
      ]
     },
     "metadata": {},
     "output_type": "display_data"
    },
    {
     "data": {
      "application/vnd.jupyter.widget-view+json": {
       "model_id": "c0d2679fef954cf9ab22ea7b06d52949",
       "version_major": 2,
       "version_minor": 0
      },
      "text/plain": [
       "Validation loss:   0%|          | 0/314 [00:00<?, ?it/s]"
      ]
     },
     "metadata": {},
     "output_type": "display_data"
    },
    {
     "name": "stdout",
     "output_type": "stream",
     "text": [
      "Epoch 18 of 30\n",
      "                                       Key           Value\n",
      "0                             LearningRate         0.00004\n",
      "1                               Loss/train        0.002235\n",
      "2                               Loss/valid  tensor(0.0049)\n",
      "3                MeanAbsoluteError()/train      0.02311395\n",
      "4                MeanAbsoluteError()/valid     0.024087979\n",
      "5                 MeanSquaredError()/train    0.0022352694\n",
      "6                 MeanSquaredError()/valid     0.004919068\n",
      "7   NormalizedRootMeanSquaredError()/train       1.9848639\n",
      "8   NormalizedRootMeanSquaredError()/valid       4.1815076\n",
      "9                          R2Score()/train      0.51274705\n",
      "10                         R2Score()/valid     -0.51763713\n",
      "\n"
     ]
    },
    {
     "data": {
      "application/vnd.jupyter.widget-view+json": {
       "model_id": "4c9988ec7552483c83b09284aab05589",
       "version_major": 2,
       "version_minor": 0
      },
      "text/plain": [
       "Training loss:   0%|          | 0/609 [00:00<?, ?it/s]"
      ]
     },
     "metadata": {},
     "output_type": "display_data"
    },
    {
     "data": {
      "application/vnd.jupyter.widget-view+json": {
       "model_id": "d1e083daecfa4d0fb9423aa119d3cbab",
       "version_major": 2,
       "version_minor": 0
      },
      "text/plain": [
       "Validation loss:   0%|          | 0/314 [00:00<?, ?it/s]"
      ]
     },
     "metadata": {},
     "output_type": "display_data"
    },
    {
     "name": "stdout",
     "output_type": "stream",
     "text": [
      "Epoch 19 of 30\n",
      "                                       Key           Value\n",
      "0                             LearningRate         0.00004\n",
      "1                               Loss/train         0.00223\n",
      "2                               Loss/valid  tensor(0.0059)\n",
      "3                MeanAbsoluteError()/train     0.023098577\n",
      "4                MeanAbsoluteError()/valid     0.026209226\n",
      "5                 MeanSquaredError()/train    0.0022307676\n",
      "6                 MeanSquaredError()/valid     0.005882213\n",
      "7   NormalizedRootMeanSquaredError()/train       1.9828643\n",
      "8   NormalizedRootMeanSquaredError()/valid       4.5725865\n",
      "9                          R2Score()/train       0.5137284\n",
      "10                         R2Score()/valid      -0.8147881\n",
      "\n"
     ]
    },
    {
     "data": {
      "application/vnd.jupyter.widget-view+json": {
       "model_id": "89b6c7320f53424a87ca15bdf0d9c407",
       "version_major": 2,
       "version_minor": 0
      },
      "text/plain": [
       "Training loss:   0%|          | 0/609 [00:00<?, ?it/s]"
      ]
     },
     "metadata": {},
     "output_type": "display_data"
    },
    {
     "data": {
      "application/vnd.jupyter.widget-view+json": {
       "model_id": "b42746a8c73b47a491a7e9a59cca8337",
       "version_major": 2,
       "version_minor": 0
      },
      "text/plain": [
       "Validation loss:   0%|          | 0/314 [00:00<?, ?it/s]"
      ]
     },
     "metadata": {},
     "output_type": "display_data"
    },
    {
     "name": "stdout",
     "output_type": "stream",
     "text": [
      "Epoch 20 of 30\n",
      "                                       Key           Value\n",
      "0                             LearningRate        0.000008\n",
      "1                               Loss/train        0.002231\n",
      "2                               Loss/valid  tensor(0.0056)\n",
      "3                MeanAbsoluteError()/train     0.023110615\n",
      "4                MeanAbsoluteError()/valid     0.025604153\n",
      "5                 MeanSquaredError()/train     0.002231415\n",
      "6                 MeanSquaredError()/valid    0.0056181154\n",
      "7   NormalizedRootMeanSquaredError()/train        1.983152\n",
      "8   NormalizedRootMeanSquaredError()/valid        4.468755\n",
      "9                          R2Score()/train       0.5135872\n",
      "10                         R2Score()/valid      -0.7333094\n",
      "\n"
     ]
    },
    {
     "data": {
      "application/vnd.jupyter.widget-view+json": {
       "model_id": "86be53b447714f6fb42d5bb85f012895",
       "version_major": 2,
       "version_minor": 0
      },
      "text/plain": [
       "Training loss:   0%|          | 0/609 [00:00<?, ?it/s]"
      ]
     },
     "metadata": {},
     "output_type": "display_data"
    },
    {
     "data": {
      "application/vnd.jupyter.widget-view+json": {
       "model_id": "eafb967edb7d45a09b495af0f58815f8",
       "version_major": 2,
       "version_minor": 0
      },
      "text/plain": [
       "Validation loss:   0%|          | 0/314 [00:00<?, ?it/s]"
      ]
     },
     "metadata": {},
     "output_type": "display_data"
    },
    {
     "name": "stdout",
     "output_type": "stream",
     "text": [
      "Epoch 21 of 30\n",
      "                                       Key           Value\n",
      "0                             LearningRate        0.000008\n",
      "1                               Loss/train        0.002243\n",
      "2                               Loss/valid  tensor(0.0058)\n",
      "3                MeanAbsoluteError()/train      0.02312274\n",
      "4                MeanAbsoluteError()/valid     0.025898077\n",
      "5                 MeanSquaredError()/train    0.0022428988\n",
      "6                 MeanSquaredError()/valid    0.0057551204\n",
      "7   NormalizedRootMeanSquaredError()/train       1.9882493\n",
      "8   NormalizedRootMeanSquaredError()/valid       4.5229173\n",
      "9                          R2Score()/train       0.5110839\n",
      "10                         R2Score()/valid     -0.77557707\n",
      "\n"
     ]
    },
    {
     "data": {
      "application/vnd.jupyter.widget-view+json": {
       "model_id": "652986d7ad1e4659bb8f29d85a973dc0",
       "version_major": 2,
       "version_minor": 0
      },
      "text/plain": [
       "Training loss:   0%|          | 0/609 [00:00<?, ?it/s]"
      ]
     },
     "metadata": {},
     "output_type": "display_data"
    },
    {
     "data": {
      "application/vnd.jupyter.widget-view+json": {
       "model_id": "2c609c168da54510ac6bc80a29419d54",
       "version_major": 2,
       "version_minor": 0
      },
      "text/plain": [
       "Validation loss:   0%|          | 0/314 [00:00<?, ?it/s]"
      ]
     },
     "metadata": {},
     "output_type": "display_data"
    },
    {
     "name": "stdout",
     "output_type": "stream",
     "text": [
      "Epoch 22 of 30\n",
      "                                       Key           Value\n",
      "0                             LearningRate        0.000008\n",
      "1                               Loss/train         0.00225\n",
      "2                               Loss/valid  tensor(0.0055)\n",
      "3                MeanAbsoluteError()/train     0.023188377\n",
      "4                MeanAbsoluteError()/valid     0.025279753\n",
      "5                 MeanSquaredError()/train    0.0022501822\n",
      "6                 MeanSquaredError()/valid     0.005472259\n",
      "7   NormalizedRootMeanSquaredError()/train       1.9914767\n",
      "8   NormalizedRootMeanSquaredError()/valid        4.410367\n",
      "9                          R2Score()/train       0.5094964\n",
      "10                         R2Score()/valid     -0.68830824\n",
      "\n"
     ]
    },
    {
     "data": {
      "application/vnd.jupyter.widget-view+json": {
       "model_id": "3b8b10067a3a475c87f6b110699cd940",
       "version_major": 2,
       "version_minor": 0
      },
      "text/plain": [
       "Training loss:   0%|          | 0/609 [00:00<?, ?it/s]"
      ]
     },
     "metadata": {},
     "output_type": "display_data"
    },
    {
     "data": {
      "application/vnd.jupyter.widget-view+json": {
       "model_id": "8cd300f2717f498db8dec1ea17d766da",
       "version_major": 2,
       "version_minor": 0
      },
      "text/plain": [
       "Validation loss:   0%|          | 0/314 [00:00<?, ?it/s]"
      ]
     },
     "metadata": {},
     "output_type": "display_data"
    },
    {
     "name": "stdout",
     "output_type": "stream",
     "text": [
      "Epoch 23 of 30\n",
      "                                       Key           Value\n",
      "0                             LearningRate        0.000008\n",
      "1                               Loss/train         0.00225\n",
      "2                               Loss/valid  tensor(0.0052)\n",
      "3                MeanAbsoluteError()/train     0.023183955\n",
      "4                MeanAbsoluteError()/valid     0.024680909\n",
      "5                 MeanSquaredError()/train    0.0022499382\n",
      "6                 MeanSquaredError()/valid    0.0052066282\n",
      "7   NormalizedRootMeanSquaredError()/train       1.9913671\n",
      "8   NormalizedRootMeanSquaredError()/valid        4.301992\n",
      "9                          R2Score()/train       0.5095493\n",
      "10                         R2Score()/valid     -0.60635555\n",
      "\n"
     ]
    },
    {
     "data": {
      "application/vnd.jupyter.widget-view+json": {
       "model_id": "7dc80122bf964cafa7dcf374e8179cfd",
       "version_major": 2,
       "version_minor": 0
      },
      "text/plain": [
       "Training loss:   0%|          | 0/609 [00:00<?, ?it/s]"
      ]
     },
     "metadata": {},
     "output_type": "display_data"
    },
    {
     "data": {
      "application/vnd.jupyter.widget-view+json": {
       "model_id": "80b343283f18452b9197f50170153f8a",
       "version_major": 2,
       "version_minor": 0
      },
      "text/plain": [
       "Validation loss:   0%|          | 0/314 [00:00<?, ?it/s]"
      ]
     },
     "metadata": {},
     "output_type": "display_data"
    },
    {
     "name": "stdout",
     "output_type": "stream",
     "text": [
      "Epoch 24 of 30\n",
      "                                       Key           Value\n",
      "0                             LearningRate        0.000002\n",
      "1                               Loss/train        0.002227\n",
      "2                               Loss/valid  tensor(0.0057)\n",
      "3                MeanAbsoluteError()/train     0.023086442\n",
      "4                MeanAbsoluteError()/valid     0.025778713\n",
      "5                 MeanSquaredError()/train    0.0022270365\n",
      "6                 MeanSquaredError()/valid    0.0057086693\n",
      "7   NormalizedRootMeanSquaredError()/train        1.981207\n",
      "8   NormalizedRootMeanSquaredError()/valid        4.504624\n",
      "9                          R2Score()/train       0.5145418\n",
      "10                         R2Score()/valid      -0.7612468\n",
      "\n"
     ]
    },
    {
     "data": {
      "application/vnd.jupyter.widget-view+json": {
       "model_id": "e427b82b3e644c6e98918c0e96593be2",
       "version_major": 2,
       "version_minor": 0
      },
      "text/plain": [
       "Training loss:   0%|          | 0/609 [00:00<?, ?it/s]"
      ]
     },
     "metadata": {},
     "output_type": "display_data"
    },
    {
     "data": {
      "application/vnd.jupyter.widget-view+json": {
       "model_id": "fd266140cd4b47fd88f8d118bd7a846b",
       "version_major": 2,
       "version_minor": 0
      },
      "text/plain": [
       "Validation loss:   0%|          | 0/314 [00:00<?, ?it/s]"
      ]
     },
     "metadata": {},
     "output_type": "display_data"
    },
    {
     "name": "stdout",
     "output_type": "stream",
     "text": [
      "Epoch 25 of 30\n",
      "                                       Key           Value\n",
      "0                             LearningRate        0.000002\n",
      "1                               Loss/train        0.002231\n",
      "2                               Loss/valid  tensor(0.0055)\n",
      "3                MeanAbsoluteError()/train      0.02312874\n",
      "4                MeanAbsoluteError()/valid      0.02535075\n",
      "5                 MeanSquaredError()/train    0.0022320184\n",
      "6                 MeanSquaredError()/valid    0.0055228965\n",
      "7   NormalizedRootMeanSquaredError()/train        1.983421\n",
      "8   NormalizedRootMeanSquaredError()/valid       4.4307284\n",
      "9                          R2Score()/train       0.5134554\n",
      "10                         R2Score()/valid     -0.70393133\n",
      "\n"
     ]
    },
    {
     "data": {
      "application/vnd.jupyter.widget-view+json": {
       "model_id": "e0f3ee8de5e3437aa7d5a7150d9fe1c8",
       "version_major": 2,
       "version_minor": 0
      },
      "text/plain": [
       "Training loss:   0%|          | 0/609 [00:00<?, ?it/s]"
      ]
     },
     "metadata": {},
     "output_type": "display_data"
    },
    {
     "data": {
      "application/vnd.jupyter.widget-view+json": {
       "model_id": "31dbc4d2443a401a88ad71d8ec166700",
       "version_major": 2,
       "version_minor": 0
      },
      "text/plain": [
       "Validation loss:   0%|          | 0/314 [00:00<?, ?it/s]"
      ]
     },
     "metadata": {},
     "output_type": "display_data"
    },
    {
     "name": "stdout",
     "output_type": "stream",
     "text": [
      "Epoch 26 of 30\n",
      "                                       Key           Value\n",
      "0                             LearningRate        0.000002\n",
      "1                               Loss/train        0.002236\n",
      "2                               Loss/valid  tensor(0.0054)\n",
      "3                MeanAbsoluteError()/train     0.023097714\n",
      "4                MeanAbsoluteError()/valid     0.025002055\n",
      "5                 MeanSquaredError()/train    0.0022363535\n",
      "6                 MeanSquaredError()/valid     0.005357436\n",
      "7   NormalizedRootMeanSquaredError()/train        1.985346\n",
      "8   NormalizedRootMeanSquaredError()/valid       4.3638473\n",
      "9                          R2Score()/train       0.5125107\n",
      "10                         R2Score()/valid     -0.65288365\n",
      "\n"
     ]
    },
    {
     "data": {
      "application/vnd.jupyter.widget-view+json": {
       "model_id": "19c8246a053647c3bf2d8bca5ffc1690",
       "version_major": 2,
       "version_minor": 0
      },
      "text/plain": [
       "Training loss:   0%|          | 0/609 [00:00<?, ?it/s]"
      ]
     },
     "metadata": {},
     "output_type": "display_data"
    },
    {
     "data": {
      "application/vnd.jupyter.widget-view+json": {
       "model_id": "7f643c36a3d54fe29238bd284955af58",
       "version_major": 2,
       "version_minor": 0
      },
      "text/plain": [
       "Validation loss:   0%|          | 0/314 [00:00<?, ?it/s]"
      ]
     },
     "metadata": {},
     "output_type": "display_data"
    },
    {
     "name": "stdout",
     "output_type": "stream",
     "text": [
      "Epoch 27 of 30\n",
      "                                       Key           Value\n",
      "0                             LearningRate        0.000002\n",
      "1                               Loss/train        0.002251\n",
      "2                               Loss/valid  tensor(0.0052)\n",
      "3                MeanAbsoluteError()/train      0.02314566\n",
      "4                MeanAbsoluteError()/valid     0.024650434\n",
      "5                 MeanSquaredError()/train     0.002251383\n",
      "6                 MeanSquaredError()/valid     0.005172446\n",
      "7   NormalizedRootMeanSquaredError()/train       1.9920063\n",
      "8   NormalizedRootMeanSquaredError()/valid       4.2878447\n",
      "9                          R2Score()/train      0.50923455\n",
      "10                         R2Score()/valid      -0.5958097\n",
      "\n"
     ]
    },
    {
     "data": {
      "application/vnd.jupyter.widget-view+json": {
       "model_id": "35edd9ddf1b54f348849950ae8c7502e",
       "version_major": 2,
       "version_minor": 0
      },
      "text/plain": [
       "Training loss:   0%|          | 0/609 [00:00<?, ?it/s]"
      ]
     },
     "metadata": {},
     "output_type": "display_data"
    },
    {
     "data": {
      "application/vnd.jupyter.widget-view+json": {
       "model_id": "6358a9a2903341c3bce2db9002635b5b",
       "version_major": 2,
       "version_minor": 0
      },
      "text/plain": [
       "Validation loss:   0%|          | 0/314 [00:00<?, ?it/s]"
      ]
     },
     "metadata": {},
     "output_type": "display_data"
    },
    {
     "name": "stdout",
     "output_type": "stream",
     "text": [
      "Epoch 28 of 30\n",
      "                                       Key           Value\n",
      "0                             LearningRate             0.0\n",
      "1                               Loss/train        0.002253\n",
      "2                               Loss/valid  tensor(0.0055)\n",
      "3                MeanAbsoluteError()/train      0.02317958\n",
      "4                MeanAbsoluteError()/valid     0.025171679\n",
      "5                 MeanSquaredError()/train    0.0022525664\n",
      "6                 MeanSquaredError()/valid     0.005455507\n",
      "7   NormalizedRootMeanSquaredError()/train       1.9925294\n",
      "8   NormalizedRootMeanSquaredError()/valid       4.4036093\n",
      "9                          R2Score()/train       0.5089762\n",
      "10                         R2Score()/valid     -0.68313944\n",
      "\n"
     ]
    },
    {
     "data": {
      "application/vnd.jupyter.widget-view+json": {
       "model_id": "4897cf4505414562a8d30deea8e64064",
       "version_major": 2,
       "version_minor": 0
      },
      "text/plain": [
       "Training loss:   0%|          | 0/609 [00:00<?, ?it/s]"
      ]
     },
     "metadata": {},
     "output_type": "display_data"
    },
    {
     "data": {
      "application/vnd.jupyter.widget-view+json": {
       "model_id": "4587b0f99f884d0fb2a0ebdbd941a4d9",
       "version_major": 2,
       "version_minor": 0
      },
      "text/plain": [
       "Validation loss:   0%|          | 0/314 [00:00<?, ?it/s]"
      ]
     },
     "metadata": {},
     "output_type": "display_data"
    },
    {
     "name": "stdout",
     "output_type": "stream",
     "text": [
      "Epoch 29 of 30\n",
      "                                       Key           Value\n",
      "0                             LearningRate             0.0\n",
      "1                               Loss/train        0.002236\n",
      "2                               Loss/valid  tensor(0.0060)\n",
      "3                MeanAbsoluteError()/train      0.02310614\n",
      "4                MeanAbsoluteError()/valid     0.026274621\n",
      "5                 MeanSquaredError()/train    0.0022369588\n",
      "6                 MeanSquaredError()/valid      0.00595963\n",
      "7   NormalizedRootMeanSquaredError()/train        1.985614\n",
      "8   NormalizedRootMeanSquaredError()/valid       4.6025743\n",
      "9                          R2Score()/train      0.51237845\n",
      "10                         R2Score()/valid     -0.83867264\n",
      "\n"
     ]
    },
    {
     "data": {
      "application/vnd.jupyter.widget-view+json": {
       "model_id": "4b8ce1bbf5434eeea5ea1543b97a6f26",
       "version_major": 2,
       "version_minor": 0
      },
      "text/plain": [
       "Training loss:   0%|          | 0/609 [00:00<?, ?it/s]"
      ]
     },
     "metadata": {},
     "output_type": "display_data"
    },
    {
     "data": {
      "application/vnd.jupyter.widget-view+json": {
       "model_id": "34473504efcb4f7eaa10bed53ecd1a0f",
       "version_major": 2,
       "version_minor": 0
      },
      "text/plain": [
       "Validation loss:   0%|          | 0/314 [00:00<?, ?it/s]"
      ]
     },
     "metadata": {},
     "output_type": "display_data"
    },
    {
     "name": "stdout",
     "output_type": "stream",
     "text": [
      "Epoch 30 of 30\n",
      "                                       Key           Value\n",
      "0                             LearningRate             0.0\n",
      "1                               Loss/train        0.002241\n",
      "2                               Loss/valid  tensor(0.0056)\n",
      "3                MeanAbsoluteError()/train      0.02314872\n",
      "4                MeanAbsoluteError()/valid     0.025691055\n",
      "5                 MeanSquaredError()/train    0.0022417917\n",
      "6                 MeanSquaredError()/valid     0.005644386\n",
      "7   NormalizedRootMeanSquaredError()/train       1.9877578\n",
      "8   NormalizedRootMeanSquaredError()/valid         4.47919\n",
      "9                          R2Score()/train       0.5113249\n",
      "10                         R2Score()/valid      -0.7414131\n",
      "\n"
     ]
    }
   ],
   "source": [
    "import torchmetrics\n",
    "\n",
    "# Only doing temporal split since that makes the most\n",
    "# sense here.\n",
    "model_name = \"031825_simpledense\"\n",
    "\n",
    "y_mean = train_df.mort_ewma.mean()/100\n",
    "init_bias = np.log(y_mean / (1-y_mean))\n",
    "n_feats = next(iter(train_dl))[0].shape[1]\n",
    "\n",
    "model = make_simpledense(n_feats, dropout=0.5, init_bias=init_bias)\n",
    "opt = torch.optim.Adam(model.parameters(), lr=0.005)\n",
    "scheduler = torch.optim.lr_scheduler.ReduceLROnPlateau(opt, factor=0.2, patience=3)\n",
    "loss = torch.nn.MSELoss()\n",
    "metrics = util.training.get_regr_metrics()\n",
    "\n",
    "trainer = Trainer(\n",
    "    model,\n",
    "    opt,\n",
    "    scheduler,\n",
    "    loss,\n",
    "    train_dl,\n",
    "    valid_dl,\n",
    "    metrics=metrics,\n",
    "    n_epochs=30,\n",
    "    tensorboard_log=os.path.join(\"logs\", model_name, \"history\"),\n",
    "    model_log=os.path.join(\"logs\", model_name, \"model.pth\"),\n",
    "    defn_log=os.path.join(\"logs\", model_name, \"model_definition.txt\")\n",
    ")\n",
    "\n",
    "trainer.train()"
   ]
  },
  {
   "cell_type": "code",
   "execution_count": 16,
   "id": "7e4eec2e-e83d-46ce-944d-94e25f502e98",
   "metadata": {},
   "outputs": [
    {
     "data": {
      "text/plain": [
       "(<Figure size 640x480 with 6 Axes>,\n",
       " <Axes: title={'center': 'NormalizedRootMeanSquaredError()'}>)"
      ]
     },
     "execution_count": 16,
     "metadata": {},
     "output_type": "execute_result"
    },
    {
     "data": {
      "image/png": "[encoded data removed]",
      "text/plain": [
       "<Figure size 640x480 with 6 Axes>"
      ]
     },
     "metadata": {},
     "output_type": "display_data"
    }
   ],
   "source": [
    "util.plot.plot_all_scalars_in_run(f\"logs/{model_name}/history\")"
   ]
  },
  {
   "cell_type": "code",
   "execution_count": 19,
   "id": "bdfc1220-aee8-45b3-8c4b-5a9bd49443ff",
   "metadata": {},
   "outputs": [
    {
     "data": {
      "application/vnd.jupyter.widget-view+json": {
       "model_id": "e3a6abfae09345c183f920fd25a0815f",
       "version_major": 2,
       "version_minor": 0
      },
      "text/plain": [
       "  0%|          | 0/781 [00:00<?, ?it/s]"
      ]
     },
     "metadata": {},
     "output_type": "display_data"
    },
    {
     "name": "stdout",
     "output_type": "stream",
     "text": [
      "NormalizedRootMeanSquaredError(): 2.09672\n",
      "R2Score(): 0.34660\n",
      "MeanAbsoluteError(): 0.02176\n",
      "MeanSquaredError(): 0.00339\n"
     ]
    }
   ],
   "source": [
    "from tqdm.autonotebook import tqdm\n",
    "# Run on test metrics\n",
    "test_metrics = util.training.get_regr_metrics()\n",
    "\n",
    "model.eval()\n",
    "with torch.no_grad():\n",
    "    for (X, y) in tqdm(test_dl, leave=False):\n",
    "        y_hat = model(X)\n",
    "        for metric in test_metrics:\n",
    "            metric(y_hat.view(-1), y.view(-1))\n",
    "\n",
    "for metric in test_metrics:\n",
    "    print(f\"{str(metric)}: {metric.compute():.5f}\")"
   ]
  }
 ],
 "metadata": {
  "kernelspec": {
   "display_name": "Python 3 (ipykernel)",
   "language": "python",
   "name": "python3"
  },
  "language_info": {
   "codemirror_mode": {
    "name": "ipython",
    "version": 3
   },
   "file_extension": ".py",
   "mimetype": "text/x-python",
   "name": "python",
   "nbconvert_exporter": "python",
   "pygments_lexer": "ipython3",
   "version": "3.12.8"
  }
 },
 "nbformat": 4,
 "nbformat_minor": 5
}
