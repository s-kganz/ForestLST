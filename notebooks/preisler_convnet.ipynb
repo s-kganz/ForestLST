{
 "cells": [
  {
   "cell_type": "code",
   "execution_count": 1,
   "id": "821cfc81-26f3-4986-b505-ac71c4c8504e",
   "metadata": {},
   "outputs": [],
   "source": [
    "%%capture\n",
    "!pip install xbatcher tensorboard imbalanced-learn rioxarray"
   ]
  },
  {
   "cell_type": "code",
   "execution_count": 2,
   "id": "18b87975-11c4-48a4-a241-bbb81d39361b",
   "metadata": {},
   "outputs": [
    {
     "name": "stdout",
     "output_type": "stream",
     "text": [
      "Using device: cuda\n",
      "\n",
      "Tesla T4\n",
      "Memory Usage:\n",
      "Allocated: 0.0 GB\n",
      "Cached:    0.0 GB\n"
     ]
    }
   ],
   "source": [
    "import os\n",
    "if 'notebooks' in os.getcwd():\n",
    "    os.chdir(\"..\")\n",
    "\n",
    "import util\n",
    "import torch\n",
    "import xarray as xr\n",
    "import numpy as np\n",
    "import matplotlib.pyplot as plt\n",
    "from importlib import reload\n",
    "\n",
    "# If we have gpu available, use it\n",
    "device = torch.device('cuda' if torch.cuda.is_available() else 'cpu')\n",
    "print('Using device:', device)\n",
    "print()\n",
    "torch.set_default_device(device)\n",
    "\n",
    "#Additional Info when using cuda\n",
    "if device.type == 'cuda':\n",
    "    print(torch.cuda.get_device_name(0))\n",
    "    print('Memory Usage:')\n",
    "    print('Allocated:', round(torch.cuda.memory_allocated(0)/1024**3,1), 'GB')\n",
    "    print('Cached:   ', round(torch.cuda.memory_reserved(0)/1024**3,1), 'GB')"
   ]
  },
  {
   "cell_type": "markdown",
   "id": "d83cb7ab-19ef-459d-95c6-53756a192414",
   "metadata": {},
   "source": [
    "Prepare data"
   ]
  },
  {
   "cell_type": "code",
   "execution_count": 3,
   "id": "deaecc90-a2aa-439a-bcd7-64089027c664",
   "metadata": {},
   "outputs": [],
   "source": [
    "ds = xr.open_dataset(\"data_working/westmort.nc\")\\\n",
    "    .squeeze(drop=True)\\\n",
    "    .drop_vars(\"spatial_ref\")"
   ]
  },
  {
   "cell_type": "code",
   "execution_count": 4,
   "id": "3a4942f6-503f-4852-af61-2c795134630a",
   "metadata": {},
   "outputs": [],
   "source": [
    "# Use EWMA to smooth mortality observations\n",
    "ds[\"mort_ewma\"] = xr.apply_ufunc(\n",
    "    util.manip.numpy_ewma_vectorized,\n",
    "    ds.mortality,\n",
    "    input_core_dims=[[\"time\"]],\n",
    "    output_core_dims=[[\"time\"]],\n",
    "    vectorize=True,\n",
    "    kwargs=dict(window=3)\n",
    ")\n",
    "\n",
    "ds[\"mort_ewma_diff\"] = ds[\"mort_ewma\"].diff(dim=\"time\")"
   ]
  },
  {
   "cell_type": "code",
   "execution_count": 5,
   "id": "feaef501-fc24-46dd-adbc-9980968c4035",
   "metadata": {},
   "outputs": [],
   "source": [
    "# Calculate total basal area based on all the genus rasters\n",
    "ba_vars = [\"abies\", \"picea\", \"populus\", \"tsuga\", \"pseudotsuga\"]\n",
    "ds[\"forest_ba\"] = ds[ba_vars].to_stacked_array(\"band\", sample_dims=[\"x\", \"y\", \"time\"]).sum(dim=\"band\")"
   ]
  },
  {
   "cell_type": "code",
   "execution_count": 6,
   "id": "39008809-12c1-45f9-a8d2-058214e2d8f2",
   "metadata": {},
   "outputs": [
    {
     "data": {
      "text/html": [
       "<div><svg style=\"position: absolute; width: 0; height: 0; overflow: hidden\">\n",
       "<defs>\n",
       "<symbol id=\"icon-database\" viewBox=\"0 0 32 32\">\n",
       "<path d=\"M16 0c-8.837 0-16 2.239-16 5v4c0 2.761 7.163 5 16 5s16-2.239 16-5v-4c0-2.761-7.163-5-16-5z\"></path>\n",
       "<path d=\"M16 17c-8.837 0-16-2.239-16-5v6c0 2.761 7.163 5 16 5s16-2.239 16-5v-6c0 2.761-7.163 5-16 5z\"></path>\n",
       "<path d=\"M16 26c-8.837 0-16-2.239-16-5v6c0 2.761 7.163 5 16 5s16-2.239 16-5v-6c0 2.761-7.163 5-16 5z\"></path>\n",
       "</symbol>\n",
       "<symbol id=\"icon-file-text2\" viewBox=\"0 0 32 32\">\n",
       "<path d=\"M28.681 7.159c-0.694-0.947-1.662-2.053-2.724-3.116s-2.169-2.030-3.116-2.724c-1.612-1.182-2.393-1.319-2.841-1.319h-15.5c-1.378 0-2.5 1.121-2.5 2.5v27c0 1.378 1.122 2.5 2.5 2.5h23c1.378 0 2.5-1.122 2.5-2.5v-19.5c0-0.448-0.137-1.23-1.319-2.841zM24.543 5.457c0.959 0.959 1.712 1.825 2.268 2.543h-4.811v-4.811c0.718 0.556 1.584 1.309 2.543 2.268zM28 29.5c0 0.271-0.229 0.5-0.5 0.5h-23c-0.271 0-0.5-0.229-0.5-0.5v-27c0-0.271 0.229-0.5 0.5-0.5 0 0 15.499-0 15.5 0v7c0 0.552 0.448 1 1 1h7v19.5z\"></path>\n",
       "<path d=\"M23 26h-14c-0.552 0-1-0.448-1-1s0.448-1 1-1h14c0.552 0 1 0.448 1 1s-0.448 1-1 1z\"></path>\n",
       "<path d=\"M23 22h-14c-0.552 0-1-0.448-1-1s0.448-1 1-1h14c0.552 0 1 0.448 1 1s-0.448 1-1 1z\"></path>\n",
       "<path d=\"M23 18h-14c-0.552 0-1-0.448-1-1s0.448-1 1-1h14c0.552 0 1 0.448 1 1s-0.448 1-1 1z\"></path>\n",
       "</symbol>\n",
       "</defs>\n",
       "</svg>\n",
       "<style>/* CSS stylesheet for displaying xarray objects in jupyterlab.\n",
       " *\n",
       " */\n",
       "\n",
       ":root {\n",
       "  --xr-font-color0: var(--jp-content-font-color0, rgba(0, 0, 0, 1));\n",
       "  --xr-font-color2: var(--jp-content-font-color2, rgba(0, 0, 0, 0.54));\n",
       "  --xr-font-color3: var(--jp-content-font-color3, rgba(0, 0, 0, 0.38));\n",
       "  --xr-border-color: var(--jp-border-color2, #e0e0e0);\n",
       "  --xr-disabled-color: var(--jp-layout-color3, #bdbdbd);\n",
       "  --xr-background-color: var(--jp-layout-color0, white);\n",
       "  --xr-background-color-row-even: var(--jp-layout-color1, white);\n",
       "  --xr-background-color-row-odd: var(--jp-layout-color2, #eeeeee);\n",
       "}\n",
       "\n",
       "html[theme=\"dark\"],\n",
       "html[data-theme=\"dark\"],\n",
       "body[data-theme=\"dark\"],\n",
       "body.vscode-dark {\n",
       "  --xr-font-color0: rgba(255, 255, 255, 1);\n",
       "  --xr-font-color2: rgba(255, 255, 255, 0.54);\n",
       "  --xr-font-color3: rgba(255, 255, 255, 0.38);\n",
       "  --xr-border-color: #1f1f1f;\n",
       "  --xr-disabled-color: #515151;\n",
       "  --xr-background-color: #111111;\n",
       "  --xr-background-color-row-even: #111111;\n",
       "  --xr-background-color-row-odd: #313131;\n",
       "}\n",
       "\n",
       ".xr-wrap {\n",
       "  display: block !important;\n",
       "  min-width: 300px;\n",
       "  max-width: 700px;\n",
       "}\n",
       "\n",
       ".xr-text-repr-fallback {\n",
       "  /* fallback to plain text repr when CSS is not injected (untrusted notebook) */\n",
       "  display: none;\n",
       "}\n",
       "\n",
       ".xr-header {\n",
       "  padding-top: 6px;\n",
       "  padding-bottom: 6px;\n",
       "  margin-bottom: 4px;\n",
       "  border-bottom: solid 1px var(--xr-border-color);\n",
       "}\n",
       "\n",
       ".xr-header > div,\n",
       ".xr-header > ul {\n",
       "  display: inline;\n",
       "  margin-top: 0;\n",
       "  margin-bottom: 0;\n",
       "}\n",
       "\n",
       ".xr-obj-type,\n",
       ".xr-array-name {\n",
       "  margin-left: 2px;\n",
       "  margin-right: 10px;\n",
       "}\n",
       "\n",
       ".xr-obj-type {\n",
       "  color: var(--xr-font-color2);\n",
       "}\n",
       "\n",
       ".xr-sections {\n",
       "  padding-left: 0 !important;\n",
       "  display: grid;\n",
       "  grid-template-columns: 150px auto auto 1fr 0 20px 0 20px;\n",
       "}\n",
       "\n",
       ".xr-section-item {\n",
       "  display: contents;\n",
       "}\n",
       "\n",
       ".xr-section-item input {\n",
       "  display: inline-block;\n",
       "  opacity: 0;\n",
       "  height: 0;\n",
       "}\n",
       "\n",
       ".xr-section-item input + label {\n",
       "  color: var(--xr-disabled-color);\n",
       "}\n",
       "\n",
       ".xr-section-item input:enabled + label {\n",
       "  cursor: pointer;\n",
       "  color: var(--xr-font-color2);\n",
       "}\n",
       "\n",
       ".xr-section-item input:focus + label {\n",
       "  border: 2px solid var(--xr-font-color0);\n",
       "}\n",
       "\n",
       ".xr-section-item input:enabled + label:hover {\n",
       "  color: var(--xr-font-color0);\n",
       "}\n",
       "\n",
       ".xr-section-summary {\n",
       "  grid-column: 1;\n",
       "  color: var(--xr-font-color2);\n",
       "  font-weight: 500;\n",
       "}\n",
       "\n",
       ".xr-section-summary > span {\n",
       "  display: inline-block;\n",
       "  padding-left: 0.5em;\n",
       "}\n",
       "\n",
       ".xr-section-summary-in:disabled + label {\n",
       "  color: var(--xr-font-color2);\n",
       "}\n",
       "\n",
       ".xr-section-summary-in + label:before {\n",
       "  display: inline-block;\n",
       "  content: \"►\";\n",
       "  font-size: 11px;\n",
       "  width: 15px;\n",
       "  text-align: center;\n",
       "}\n",
       "\n",
       ".xr-section-summary-in:disabled + label:before {\n",
       "  color: var(--xr-disabled-color);\n",
       "}\n",
       "\n",
       ".xr-section-summary-in:checked + label:before {\n",
       "  content: \"▼\";\n",
       "}\n",
       "\n",
       ".xr-section-summary-in:checked + label > span {\n",
       "  display: none;\n",
       "}\n",
       "\n",
       ".xr-section-summary,\n",
       ".xr-section-inline-details {\n",
       "  padding-top: 4px;\n",
       "  padding-bottom: 4px;\n",
       "}\n",
       "\n",
       ".xr-section-inline-details {\n",
       "  grid-column: 2 / -1;\n",
       "}\n",
       "\n",
       ".xr-section-details {\n",
       "  display: none;\n",
       "  grid-column: 1 / -1;\n",
       "  margin-bottom: 5px;\n",
       "}\n",
       "\n",
       ".xr-section-summary-in:checked ~ .xr-section-details {\n",
       "  display: contents;\n",
       "}\n",
       "\n",
       ".xr-array-wrap {\n",
       "  grid-column: 1 / -1;\n",
       "  display: grid;\n",
       "  grid-template-columns: 20px auto;\n",
       "}\n",
       "\n",
       ".xr-array-wrap > label {\n",
       "  grid-column: 1;\n",
       "  vertical-align: top;\n",
       "}\n",
       "\n",
       ".xr-preview {\n",
       "  color: var(--xr-font-color3);\n",
       "}\n",
       "\n",
       ".xr-array-preview,\n",
       ".xr-array-data {\n",
       "  padding: 0 5px !important;\n",
       "  grid-column: 2;\n",
       "}\n",
       "\n",
       ".xr-array-data,\n",
       ".xr-array-in:checked ~ .xr-array-preview {\n",
       "  display: none;\n",
       "}\n",
       "\n",
       ".xr-array-in:checked ~ .xr-array-data,\n",
       ".xr-array-preview {\n",
       "  display: inline-block;\n",
       "}\n",
       "\n",
       ".xr-dim-list {\n",
       "  display: inline-block !important;\n",
       "  list-style: none;\n",
       "  padding: 0 !important;\n",
       "  margin: 0;\n",
       "}\n",
       "\n",
       ".xr-dim-list li {\n",
       "  display: inline-block;\n",
       "  padding: 0;\n",
       "  margin: 0;\n",
       "}\n",
       "\n",
       ".xr-dim-list:before {\n",
       "  content: \"(\";\n",
       "}\n",
       "\n",
       ".xr-dim-list:after {\n",
       "  content: \")\";\n",
       "}\n",
       "\n",
       ".xr-dim-list li:not(:last-child):after {\n",
       "  content: \",\";\n",
       "  padding-right: 5px;\n",
       "}\n",
       "\n",
       ".xr-has-index {\n",
       "  font-weight: bold;\n",
       "}\n",
       "\n",
       ".xr-var-list,\n",
       ".xr-var-item {\n",
       "  display: contents;\n",
       "}\n",
       "\n",
       ".xr-var-item > div,\n",
       ".xr-var-item label,\n",
       ".xr-var-item > .xr-var-name span {\n",
       "  background-color: var(--xr-background-color-row-even);\n",
       "  margin-bottom: 0;\n",
       "}\n",
       "\n",
       ".xr-var-item > .xr-var-name:hover span {\n",
       "  padding-right: 5px;\n",
       "}\n",
       "\n",
       ".xr-var-list > li:nth-child(odd) > div,\n",
       ".xr-var-list > li:nth-child(odd) > label,\n",
       ".xr-var-list > li:nth-child(odd) > .xr-var-name span {\n",
       "  background-color: var(--xr-background-color-row-odd);\n",
       "}\n",
       "\n",
       ".xr-var-name {\n",
       "  grid-column: 1;\n",
       "}\n",
       "\n",
       ".xr-var-dims {\n",
       "  grid-column: 2;\n",
       "}\n",
       "\n",
       ".xr-var-dtype {\n",
       "  grid-column: 3;\n",
       "  text-align: right;\n",
       "  color: var(--xr-font-color2);\n",
       "}\n",
       "\n",
       ".xr-var-preview {\n",
       "  grid-column: 4;\n",
       "}\n",
       "\n",
       ".xr-index-preview {\n",
       "  grid-column: 2 / 5;\n",
       "  color: var(--xr-font-color2);\n",
       "}\n",
       "\n",
       ".xr-var-name,\n",
       ".xr-var-dims,\n",
       ".xr-var-dtype,\n",
       ".xr-preview,\n",
       ".xr-attrs dt {\n",
       "  white-space: nowrap;\n",
       "  overflow: hidden;\n",
       "  text-overflow: ellipsis;\n",
       "  padding-right: 10px;\n",
       "}\n",
       "\n",
       ".xr-var-name:hover,\n",
       ".xr-var-dims:hover,\n",
       ".xr-var-dtype:hover,\n",
       ".xr-attrs dt:hover {\n",
       "  overflow: visible;\n",
       "  width: auto;\n",
       "  z-index: 1;\n",
       "}\n",
       "\n",
       ".xr-var-attrs,\n",
       ".xr-var-data,\n",
       ".xr-index-data {\n",
       "  display: none;\n",
       "  background-color: var(--xr-background-color) !important;\n",
       "  padding-bottom: 5px !important;\n",
       "}\n",
       "\n",
       ".xr-var-attrs-in:checked ~ .xr-var-attrs,\n",
       ".xr-var-data-in:checked ~ .xr-var-data,\n",
       ".xr-index-data-in:checked ~ .xr-index-data {\n",
       "  display: block;\n",
       "}\n",
       "\n",
       ".xr-var-data > table {\n",
       "  float: right;\n",
       "}\n",
       "\n",
       ".xr-var-name span,\n",
       ".xr-var-data,\n",
       ".xr-index-name div,\n",
       ".xr-index-data,\n",
       ".xr-attrs {\n",
       "  padding-left: 25px !important;\n",
       "}\n",
       "\n",
       ".xr-attrs,\n",
       ".xr-var-attrs,\n",
       ".xr-var-data,\n",
       ".xr-index-data {\n",
       "  grid-column: 1 / -1;\n",
       "}\n",
       "\n",
       "dl.xr-attrs {\n",
       "  padding: 0;\n",
       "  margin: 0;\n",
       "  display: grid;\n",
       "  grid-template-columns: 125px auto;\n",
       "}\n",
       "\n",
       ".xr-attrs dt,\n",
       ".xr-attrs dd {\n",
       "  padding: 0;\n",
       "  margin: 0;\n",
       "  float: left;\n",
       "  padding-right: 10px;\n",
       "  width: auto;\n",
       "}\n",
       "\n",
       ".xr-attrs dt {\n",
       "  font-weight: normal;\n",
       "  grid-column: 1;\n",
       "}\n",
       "\n",
       ".xr-attrs dt:hover span {\n",
       "  display: inline-block;\n",
       "  background: var(--xr-background-color);\n",
       "  padding-right: 10px;\n",
       "}\n",
       "\n",
       ".xr-attrs dd {\n",
       "  grid-column: 2;\n",
       "  white-space: pre-wrap;\n",
       "  word-break: break-all;\n",
       "}\n",
       "\n",
       ".xr-icon-database,\n",
       ".xr-icon-file-text2,\n",
       ".xr-no-icon {\n",
       "  display: inline-block;\n",
       "  vertical-align: middle;\n",
       "  width: 1em;\n",
       "  height: 1.5em !important;\n",
       "  stroke-width: 0;\n",
       "  stroke: currentColor;\n",
       "  fill: currentColor;\n",
       "}\n",
       "</style><pre class='xr-text-repr-fallback'>&lt;xarray.DataArray &#x27;abies&#x27; (time: 27, band: 19, y: 652, x: 590)&gt; Size: 789MB\n",
       "array([[[[nan, nan, nan, ..., nan, nan, nan],\n",
       "         [nan, nan, nan, ..., nan, nan, nan],\n",
       "         [nan, nan, nan, ..., nan, nan, nan],\n",
       "         ...,\n",
       "         [nan, nan, nan, ..., nan, nan, nan],\n",
       "         [nan, nan, nan, ..., nan, nan, nan],\n",
       "         [nan, nan, nan, ..., nan, nan, nan]],\n",
       "\n",
       "        [[nan, nan, nan, ..., nan, nan, nan],\n",
       "         [nan, nan, nan, ..., nan, nan, nan],\n",
       "         [nan, nan, nan, ..., nan, nan, nan],\n",
       "         ...,\n",
       "         [nan, nan, nan, ..., nan, nan, nan],\n",
       "         [nan, nan, nan, ..., nan, nan, nan],\n",
       "         [nan, nan, nan, ..., nan, nan, nan]],\n",
       "\n",
       "        [[nan, nan, nan, ..., nan, nan, nan],\n",
       "         [nan, nan, nan, ..., nan, nan, nan],\n",
       "         [nan, nan, nan, ..., nan, nan, nan],\n",
       "         ...,\n",
       "...\n",
       "         ...,\n",
       "         [nan, nan, nan, ..., nan, nan, nan],\n",
       "         [nan, nan, nan, ..., nan, nan, nan],\n",
       "         [nan, nan, nan, ..., nan, nan, nan]],\n",
       "\n",
       "        [[nan, nan, nan, ..., nan, nan, nan],\n",
       "         [nan, nan, nan, ..., nan, nan, nan],\n",
       "         [nan, nan, nan, ..., nan, nan, nan],\n",
       "         ...,\n",
       "         [nan, nan, nan, ..., nan, nan, nan],\n",
       "         [nan, nan, nan, ..., nan, nan, nan],\n",
       "         [nan, nan, nan, ..., nan, nan, nan]],\n",
       "\n",
       "        [[ 0.,  0.,  0., ...,  0.,  0.,  0.],\n",
       "         [ 0.,  0.,  0., ...,  0.,  0.,  0.],\n",
       "         [ 0.,  0.,  0., ...,  0.,  0.,  0.],\n",
       "         ...,\n",
       "         [ 0.,  0.,  0., ...,  0.,  0.,  0.],\n",
       "         [ 0.,  0.,  0., ...,  0.,  0.,  0.],\n",
       "         [ 0.,  0.,  0., ...,  0.,  0.,  0.]]]], dtype=float32)\n",
       "Coordinates:\n",
       "  * time      (time) int64 216B 1997 1998 1999 2000 2001 ... 2020 2021 2022 2023\n",
       "  * x         (x) float64 5kB -1.389e+07 -1.389e+07 ... -1.154e+07 -1.154e+07\n",
       "  * y         (y) float64 5kB 6.278e+06 6.274e+06 ... 3.678e+06 3.674e+06\n",
       "  * band      (band) object 152B MultiIndex\n",
       "  * variable  (band) &lt;U14 1kB &#x27;abies&#x27; &#x27;picea&#x27; ... &#x27;mort_ewma_diff&#x27; &#x27;forest_ba&#x27;</pre><div class='xr-wrap' style='display:none'><div class='xr-header'><div class='xr-obj-type'>xarray.DataArray</div><div class='xr-array-name'>'abies'</div><ul class='xr-dim-list'><li><span class='xr-has-index'>time</span>: 27</li><li><span class='xr-has-index'>band</span>: 19</li><li><span class='xr-has-index'>y</span>: 652</li><li><span class='xr-has-index'>x</span>: 590</li></ul></div><ul class='xr-sections'><li class='xr-section-item'><div class='xr-array-wrap'><input id='section-beb38f35-728e-419c-8d68-701d43d144eb' class='xr-array-in' type='checkbox' checked><label for='section-beb38f35-728e-419c-8d68-701d43d144eb' title='Show/hide data repr'><svg class='icon xr-icon-database'><use xlink:href='#icon-database'></use></svg></label><div class='xr-array-preview xr-preview'><span>nan nan nan nan nan nan nan nan ... 0.0 0.0 0.0 0.0 0.0 0.0 0.0 0.0</span></div><div class='xr-array-data'><pre>array([[[[nan, nan, nan, ..., nan, nan, nan],\n",
       "         [nan, nan, nan, ..., nan, nan, nan],\n",
       "         [nan, nan, nan, ..., nan, nan, nan],\n",
       "         ...,\n",
       "         [nan, nan, nan, ..., nan, nan, nan],\n",
       "         [nan, nan, nan, ..., nan, nan, nan],\n",
       "         [nan, nan, nan, ..., nan, nan, nan]],\n",
       "\n",
       "        [[nan, nan, nan, ..., nan, nan, nan],\n",
       "         [nan, nan, nan, ..., nan, nan, nan],\n",
       "         [nan, nan, nan, ..., nan, nan, nan],\n",
       "         ...,\n",
       "         [nan, nan, nan, ..., nan, nan, nan],\n",
       "         [nan, nan, nan, ..., nan, nan, nan],\n",
       "         [nan, nan, nan, ..., nan, nan, nan]],\n",
       "\n",
       "        [[nan, nan, nan, ..., nan, nan, nan],\n",
       "         [nan, nan, nan, ..., nan, nan, nan],\n",
       "         [nan, nan, nan, ..., nan, nan, nan],\n",
       "         ...,\n",
       "...\n",
       "         ...,\n",
       "         [nan, nan, nan, ..., nan, nan, nan],\n",
       "         [nan, nan, nan, ..., nan, nan, nan],\n",
       "         [nan, nan, nan, ..., nan, nan, nan]],\n",
       "\n",
       "        [[nan, nan, nan, ..., nan, nan, nan],\n",
       "         [nan, nan, nan, ..., nan, nan, nan],\n",
       "         [nan, nan, nan, ..., nan, nan, nan],\n",
       "         ...,\n",
       "         [nan, nan, nan, ..., nan, nan, nan],\n",
       "         [nan, nan, nan, ..., nan, nan, nan],\n",
       "         [nan, nan, nan, ..., nan, nan, nan]],\n",
       "\n",
       "        [[ 0.,  0.,  0., ...,  0.,  0.,  0.],\n",
       "         [ 0.,  0.,  0., ...,  0.,  0.,  0.],\n",
       "         [ 0.,  0.,  0., ...,  0.,  0.,  0.],\n",
       "         ...,\n",
       "         [ 0.,  0.,  0., ...,  0.,  0.,  0.],\n",
       "         [ 0.,  0.,  0., ...,  0.,  0.,  0.],\n",
       "         [ 0.,  0.,  0., ...,  0.,  0.,  0.]]]], dtype=float32)</pre></div></div></li><li class='xr-section-item'><input id='section-93aa0abb-a2fa-4ad3-b5e2-137637eb4802' class='xr-section-summary-in' type='checkbox'  checked><label for='section-93aa0abb-a2fa-4ad3-b5e2-137637eb4802' class='xr-section-summary' >Coordinates: <span>(5)</span></label><div class='xr-section-inline-details'></div><div class='xr-section-details'><ul class='xr-var-list'><li class='xr-var-item'><div class='xr-var-name'><span class='xr-has-index'>time</span></div><div class='xr-var-dims'>(time)</div><div class='xr-var-dtype'>int64</div><div class='xr-var-preview xr-preview'>1997 1998 1999 ... 2021 2022 2023</div><input id='attrs-a3622fec-b72f-4554-a259-eb6c10ce9b84' class='xr-var-attrs-in' type='checkbox' disabled><label for='attrs-a3622fec-b72f-4554-a259-eb6c10ce9b84' title='Show/Hide attributes'><svg class='icon xr-icon-file-text2'><use xlink:href='#icon-file-text2'></use></svg></label><input id='data-12ceea7a-c9c8-4bd9-aacc-607593057fec' class='xr-var-data-in' type='checkbox'><label for='data-12ceea7a-c9c8-4bd9-aacc-607593057fec' title='Show/Hide data repr'><svg class='icon xr-icon-database'><use xlink:href='#icon-database'></use></svg></label><div class='xr-var-attrs'><dl class='xr-attrs'></dl></div><div class='xr-var-data'><pre>array([1997, 1998, 1999, 2000, 2001, 2002, 2003, 2004, 2005, 2006, 2007, 2008,\n",
       "       2009, 2010, 2011, 2012, 2013, 2014, 2015, 2016, 2017, 2018, 2019, 2020,\n",
       "       2021, 2022, 2023])</pre></div></li><li class='xr-var-item'><div class='xr-var-name'><span class='xr-has-index'>x</span></div><div class='xr-var-dims'>(x)</div><div class='xr-var-dtype'>float64</div><div class='xr-var-preview xr-preview'>-1.389e+07 ... -1.154e+07</div><input id='attrs-188da721-104a-4218-867c-69d891efc9f0' class='xr-var-attrs-in' type='checkbox' disabled><label for='attrs-188da721-104a-4218-867c-69d891efc9f0' title='Show/Hide attributes'><svg class='icon xr-icon-file-text2'><use xlink:href='#icon-file-text2'></use></svg></label><input id='data-72a55d71-fbad-42df-8c91-d50a9eaf8f7d' class='xr-var-data-in' type='checkbox'><label for='data-72a55d71-fbad-42df-8c91-d50a9eaf8f7d' title='Show/Hide data repr'><svg class='icon xr-icon-database'><use xlink:href='#icon-database'></use></svg></label><div class='xr-var-attrs'><dl class='xr-attrs'></dl></div><div class='xr-var-data'><pre>array([-13894215.609, -13890215.609, -13886215.609, ..., -11546215.609,\n",
       "       -11542215.609, -11538215.609])</pre></div></li><li class='xr-var-item'><div class='xr-var-name'><span class='xr-has-index'>y</span></div><div class='xr-var-dims'>(y)</div><div class='xr-var-dtype'>float64</div><div class='xr-var-preview xr-preview'>6.278e+06 6.274e+06 ... 3.674e+06</div><input id='attrs-8bb1eb4f-c6fa-4869-b1e5-02a0bf68e86f' class='xr-var-attrs-in' type='checkbox' disabled><label for='attrs-8bb1eb4f-c6fa-4869-b1e5-02a0bf68e86f' title='Show/Hide attributes'><svg class='icon xr-icon-file-text2'><use xlink:href='#icon-file-text2'></use></svg></label><input id='data-9e707833-c2a8-497d-827d-564cb7fd4a11' class='xr-var-data-in' type='checkbox'><label for='data-9e707833-c2a8-497d-827d-564cb7fd4a11' title='Show/Hide data repr'><svg class='icon xr-icon-database'><use xlink:href='#icon-database'></use></svg></label><div class='xr-var-attrs'><dl class='xr-attrs'></dl></div><div class='xr-var-data'><pre>array([6278302.419, 6274302.419, 6270302.419, ..., 3682302.419, 3678302.419,\n",
       "       3674302.419])</pre></div></li><li class='xr-var-item'><div class='xr-var-name'><span class='xr-has-index'>band</span></div><div class='xr-var-dims'>(band)</div><div class='xr-var-dtype'>object</div><div class='xr-var-preview xr-preview'>MultiIndex</div><input id='attrs-1749929e-d453-4088-92d8-16317ef0c423' class='xr-var-attrs-in' type='checkbox' disabled><label for='attrs-1749929e-d453-4088-92d8-16317ef0c423' title='Show/Hide attributes'><svg class='icon xr-icon-file-text2'><use xlink:href='#icon-file-text2'></use></svg></label><input id='data-deed693b-41db-488e-9e26-83029eac04f2' class='xr-var-data-in' type='checkbox'><label for='data-deed693b-41db-488e-9e26-83029eac04f2' title='Show/Hide data repr'><svg class='icon xr-icon-database'><use xlink:href='#icon-database'></use></svg></label><div class='xr-var-attrs'><dl class='xr-attrs'></dl></div><div class='xr-var-data'><pre>array([(&#x27;abies&#x27;,), (&#x27;picea&#x27;,), (&#x27;populus&#x27;,), (&#x27;pseudotsuga&#x27;,), (&#x27;tsuga&#x27;,),\n",
       "       (&#x27;vod&#x27;,), (&#x27;elev&#x27;,), (&#x27;slope&#x27;,), (&#x27;northness&#x27;,), (&#x27;eastness&#x27;,),\n",
       "       (&#x27;fire&#x27;,), (&#x27;mortality&#x27;,), (&#x27;prcp&#x27;,), (&#x27;vp&#x27;,), (&#x27;tmin&#x27;,),\n",
       "       (&#x27;treecover&#x27;,), (&#x27;mort_ewma&#x27;,), (&#x27;mort_ewma_diff&#x27;,), (&#x27;forest_ba&#x27;,)],\n",
       "      dtype=object)</pre></div></li><li class='xr-var-item'><div class='xr-var-name'><span class='xr-has-index'>variable</span></div><div class='xr-var-dims'>(band)</div><div class='xr-var-dtype'>&lt;U14</div><div class='xr-var-preview xr-preview'>&#x27;abies&#x27; &#x27;picea&#x27; ... &#x27;forest_ba&#x27;</div><input id='attrs-a5ef3fb0-05e4-427c-aecd-3600014a83f8' class='xr-var-attrs-in' type='checkbox' disabled><label for='attrs-a5ef3fb0-05e4-427c-aecd-3600014a83f8' title='Show/Hide attributes'><svg class='icon xr-icon-file-text2'><use xlink:href='#icon-file-text2'></use></svg></label><input id='data-ec382441-3730-42ee-a1e7-4ec03d436238' class='xr-var-data-in' type='checkbox'><label for='data-ec382441-3730-42ee-a1e7-4ec03d436238' title='Show/Hide data repr'><svg class='icon xr-icon-database'><use xlink:href='#icon-database'></use></svg></label><div class='xr-var-attrs'><dl class='xr-attrs'></dl></div><div class='xr-var-data'><pre>array([&#x27;abies&#x27;, &#x27;picea&#x27;, &#x27;populus&#x27;, &#x27;pseudotsuga&#x27;, &#x27;tsuga&#x27;, &#x27;vod&#x27;, &#x27;elev&#x27;,\n",
       "       &#x27;slope&#x27;, &#x27;northness&#x27;, &#x27;eastness&#x27;, &#x27;fire&#x27;, &#x27;mortality&#x27;, &#x27;prcp&#x27;, &#x27;vp&#x27;,\n",
       "       &#x27;tmin&#x27;, &#x27;treecover&#x27;, &#x27;mort_ewma&#x27;, &#x27;mort_ewma_diff&#x27;, &#x27;forest_ba&#x27;],\n",
       "      dtype=&#x27;&lt;U14&#x27;)</pre></div></li></ul></div></li><li class='xr-section-item'><input id='section-504d409b-1a99-4ac5-a92c-6713f5d911b4' class='xr-section-summary-in' type='checkbox'  ><label for='section-504d409b-1a99-4ac5-a92c-6713f5d911b4' class='xr-section-summary' >Indexes: <span>(4)</span></label><div class='xr-section-inline-details'></div><div class='xr-section-details'><ul class='xr-var-list'><li class='xr-var-item'><div class='xr-index-name'><div>time</div></div><div class='xr-index-preview'>PandasIndex</div><input type='checkbox' disabled/><label></label><input id='index-0427a851-fce5-4400-922f-ec6ea9554104' class='xr-index-data-in' type='checkbox'/><label for='index-0427a851-fce5-4400-922f-ec6ea9554104' title='Show/Hide index repr'><svg class='icon xr-icon-database'><use xlink:href='#icon-database'></use></svg></label><div class='xr-index-data'><pre>PandasIndex(Index([1997, 1998, 1999, 2000, 2001, 2002, 2003, 2004, 2005, 2006, 2007, 2008,\n",
       "       2009, 2010, 2011, 2012, 2013, 2014, 2015, 2016, 2017, 2018, 2019, 2020,\n",
       "       2021, 2022, 2023],\n",
       "      dtype=&#x27;int64&#x27;, name=&#x27;time&#x27;))</pre></div></li><li class='xr-var-item'><div class='xr-index-name'><div>x</div></div><div class='xr-index-preview'>PandasIndex</div><input type='checkbox' disabled/><label></label><input id='index-c12459e3-9580-4807-8edb-23ec988c94c8' class='xr-index-data-in' type='checkbox'/><label for='index-c12459e3-9580-4807-8edb-23ec988c94c8' title='Show/Hide index repr'><svg class='icon xr-icon-database'><use xlink:href='#icon-database'></use></svg></label><div class='xr-index-data'><pre>PandasIndex(Index([-13894215.609, -13890215.609, -13886215.609, -13882215.609,\n",
       "       -13878215.609, -13874215.609, -13870215.609, -13866215.609,\n",
       "       -13862215.609, -13858215.609,\n",
       "       ...\n",
       "       -11574215.609, -11570215.609, -11566215.609, -11562215.609,\n",
       "       -11558215.609, -11554215.609, -11550215.609, -11546215.609,\n",
       "       -11542215.609, -11538215.609],\n",
       "      dtype=&#x27;float64&#x27;, name=&#x27;x&#x27;, length=590))</pre></div></li><li class='xr-var-item'><div class='xr-index-name'><div>y</div></div><div class='xr-index-preview'>PandasIndex</div><input type='checkbox' disabled/><label></label><input id='index-9d5b6c4e-5317-483e-a3bb-d01061385e4f' class='xr-index-data-in' type='checkbox'/><label for='index-9d5b6c4e-5317-483e-a3bb-d01061385e4f' title='Show/Hide index repr'><svg class='icon xr-icon-database'><use xlink:href='#icon-database'></use></svg></label><div class='xr-index-data'><pre>PandasIndex(Index([       6278302.419,        6274302.419,        6270302.419,\n",
       "              6266302.419,        6262302.419,        6258302.419,\n",
       "              6254302.419,        6250302.419,        6246302.419,\n",
       "              6242302.419,\n",
       "       ...\n",
       "       3710302.4189999998, 3706302.4189999998, 3702302.4189999998,\n",
       "       3698302.4189999998, 3694302.4189999998, 3690302.4189999998,\n",
       "       3686302.4189999998, 3682302.4189999998, 3678302.4189999998,\n",
       "       3674302.4189999998],\n",
       "      dtype=&#x27;float64&#x27;, name=&#x27;y&#x27;, length=652))</pre></div></li><li class='xr-var-item'><div class='xr-index-name'><div>band<br>variable</div></div><div class='xr-index-preview'>PandasMultiIndex</div><input type='checkbox' disabled/><label></label><input id='index-2f32e7a7-2a1e-4b51-9100-a66fb70ab5bd' class='xr-index-data-in' type='checkbox'/><label for='index-2f32e7a7-2a1e-4b51-9100-a66fb70ab5bd' title='Show/Hide index repr'><svg class='icon xr-icon-database'><use xlink:href='#icon-database'></use></svg></label><div class='xr-index-data'><pre>PandasIndex(MultiIndex([(         &#x27;abies&#x27;,),\n",
       "            (         &#x27;picea&#x27;,),\n",
       "            (       &#x27;populus&#x27;,),\n",
       "            (   &#x27;pseudotsuga&#x27;,),\n",
       "            (         &#x27;tsuga&#x27;,),\n",
       "            (           &#x27;vod&#x27;,),\n",
       "            (          &#x27;elev&#x27;,),\n",
       "            (         &#x27;slope&#x27;,),\n",
       "            (     &#x27;northness&#x27;,),\n",
       "            (      &#x27;eastness&#x27;,),\n",
       "            (          &#x27;fire&#x27;,),\n",
       "            (     &#x27;mortality&#x27;,),\n",
       "            (          &#x27;prcp&#x27;,),\n",
       "            (            &#x27;vp&#x27;,),\n",
       "            (          &#x27;tmin&#x27;,),\n",
       "            (     &#x27;treecover&#x27;,),\n",
       "            (     &#x27;mort_ewma&#x27;,),\n",
       "            (&#x27;mort_ewma_diff&#x27;,),\n",
       "            (     &#x27;forest_ba&#x27;,)],\n",
       "           name=&#x27;band&#x27;))</pre></div></li></ul></div></li><li class='xr-section-item'><input id='section-7ad93c8f-871c-4fc0-886d-6f404e6cf31e' class='xr-section-summary-in' type='checkbox' disabled ><label for='section-7ad93c8f-871c-4fc0-886d-6f404e6cf31e' class='xr-section-summary'  title='Expand/collapse section'>Attributes: <span>(0)</span></label><div class='xr-section-inline-details'></div><div class='xr-section-details'><dl class='xr-attrs'></dl></div></li></ul></div></div>"
      ],
      "text/plain": [
       "<xarray.DataArray 'abies' (time: 27, band: 19, y: 652, x: 590)> Size: 789MB\n",
       "array([[[[nan, nan, nan, ..., nan, nan, nan],\n",
       "         [nan, nan, nan, ..., nan, nan, nan],\n",
       "         [nan, nan, nan, ..., nan, nan, nan],\n",
       "         ...,\n",
       "         [nan, nan, nan, ..., nan, nan, nan],\n",
       "         [nan, nan, nan, ..., nan, nan, nan],\n",
       "         [nan, nan, nan, ..., nan, nan, nan]],\n",
       "\n",
       "        [[nan, nan, nan, ..., nan, nan, nan],\n",
       "         [nan, nan, nan, ..., nan, nan, nan],\n",
       "         [nan, nan, nan, ..., nan, nan, nan],\n",
       "         ...,\n",
       "         [nan, nan, nan, ..., nan, nan, nan],\n",
       "         [nan, nan, nan, ..., nan, nan, nan],\n",
       "         [nan, nan, nan, ..., nan, nan, nan]],\n",
       "\n",
       "        [[nan, nan, nan, ..., nan, nan, nan],\n",
       "         [nan, nan, nan, ..., nan, nan, nan],\n",
       "         [nan, nan, nan, ..., nan, nan, nan],\n",
       "         ...,\n",
       "...\n",
       "         ...,\n",
       "         [nan, nan, nan, ..., nan, nan, nan],\n",
       "         [nan, nan, nan, ..., nan, nan, nan],\n",
       "         [nan, nan, nan, ..., nan, nan, nan]],\n",
       "\n",
       "        [[nan, nan, nan, ..., nan, nan, nan],\n",
       "         [nan, nan, nan, ..., nan, nan, nan],\n",
       "         [nan, nan, nan, ..., nan, nan, nan],\n",
       "         ...,\n",
       "         [nan, nan, nan, ..., nan, nan, nan],\n",
       "         [nan, nan, nan, ..., nan, nan, nan],\n",
       "         [nan, nan, nan, ..., nan, nan, nan]],\n",
       "\n",
       "        [[ 0.,  0.,  0., ...,  0.,  0.,  0.],\n",
       "         [ 0.,  0.,  0., ...,  0.,  0.,  0.],\n",
       "         [ 0.,  0.,  0., ...,  0.,  0.,  0.],\n",
       "         ...,\n",
       "         [ 0.,  0.,  0., ...,  0.,  0.,  0.],\n",
       "         [ 0.,  0.,  0., ...,  0.,  0.,  0.],\n",
       "         [ 0.,  0.,  0., ...,  0.,  0.,  0.]]]], dtype=float32)\n",
       "Coordinates:\n",
       "  * time      (time) int64 216B 1997 1998 1999 2000 2001 ... 2020 2021 2022 2023\n",
       "  * x         (x) float64 5kB -1.389e+07 -1.389e+07 ... -1.154e+07 -1.154e+07\n",
       "  * y         (y) float64 5kB 6.278e+06 6.274e+06 ... 3.678e+06 3.674e+06\n",
       "  * band      (band) object 152B MultiIndex\n",
       "  * variable  (band) <U14 1kB 'abies' 'picea' ... 'mort_ewma_diff' 'forest_ba'"
      ]
     },
     "execution_count": 6,
     "metadata": {},
     "output_type": "execute_result"
    }
   ],
   "source": [
    "ds = ds.to_stacked_array(\"band\", sample_dims=[\"x\", \"y\", \"time\"])\\\n",
    "    .transpose(\"time\", \"band\", ...)\n",
    "ds"
   ]
  },
  {
   "cell_type": "markdown",
   "id": "c3190c01-0395-4a1e-88a6-f6b614436e4b",
   "metadata": {},
   "source": [
    "Make sure windowing works right"
   ]
  },
  {
   "cell_type": "code",
   "execution_count": 7,
   "id": "c268ea7f-6f53-41ad-b8ad-42c89bf2c1c8",
   "metadata": {},
   "outputs": [
    {
     "name": "stdout",
     "output_type": "stream",
     "text": [
      "561976\n"
     ]
    }
   ],
   "source": [
    "target = \"mort_ewma\"\n",
    "window_x_size = 8\n",
    "window_y_size = 8\n",
    "window_t_size = 3\n",
    "window = dict(x=[window_x_size, False], y=[window_y_size, False], time=[window_t_size, False])\n",
    "prop_na = 0.8\n",
    "mort_arr = ds.sel(band=target, drop=True)\n",
    "mort_ds = util.datasets.WindowXarrayDataset(ds, window, mask=mort_arr, na_thresh=prop_na)\n",
    "\n",
    "print(len(mort_ds))"
   ]
  },
  {
   "cell_type": "code",
   "execution_count": 8,
   "id": "49147ab1-b348-4c37-91cc-3818c4a4c6b4",
   "metadata": {},
   "outputs": [],
   "source": [
    "eg_window = mort_ds[10]\n",
    "window_x = eg_window.isel(time=slice(None, -1))\n",
    "window_y = eg_window.isel(time=-1).sel(band=target)"
   ]
  },
  {
   "cell_type": "code",
   "execution_count": 9,
   "id": "3efe6f9a-de84-4e53-850b-1af5825da1fa",
   "metadata": {},
   "outputs": [],
   "source": [
    "assert (1 - np.mean(np.isnan(window_y.values))) > prop_na"
   ]
  },
  {
   "cell_type": "markdown",
   "id": "f5f2e685-1244-46aa-a426-8037094812b1",
   "metadata": {},
   "source": [
    "Set up model definition"
   ]
  },
  {
   "cell_type": "code",
   "execution_count": 10,
   "id": "b70aa75d-ccef-4177-b54a-6230e94a8ba0",
   "metadata": {},
   "outputs": [
    {
     "data": {
      "text/html": [
       "<div><svg style=\"position: absolute; width: 0; height: 0; overflow: hidden\">\n",
       "<defs>\n",
       "<symbol id=\"icon-database\" viewBox=\"0 0 32 32\">\n",
       "<path d=\"M16 0c-8.837 0-16 2.239-16 5v4c0 2.761 7.163 5 16 5s16-2.239 16-5v-4c0-2.761-7.163-5-16-5z\"></path>\n",
       "<path d=\"M16 17c-8.837 0-16-2.239-16-5v6c0 2.761 7.163 5 16 5s16-2.239 16-5v-6c0 2.761-7.163 5-16 5z\"></path>\n",
       "<path d=\"M16 26c-8.837 0-16-2.239-16-5v6c0 2.761 7.163 5 16 5s16-2.239 16-5v-6c0 2.761-7.163 5-16 5z\"></path>\n",
       "</symbol>\n",
       "<symbol id=\"icon-file-text2\" viewBox=\"0 0 32 32\">\n",
       "<path d=\"M28.681 7.159c-0.694-0.947-1.662-2.053-2.724-3.116s-2.169-2.030-3.116-2.724c-1.612-1.182-2.393-1.319-2.841-1.319h-15.5c-1.378 0-2.5 1.121-2.5 2.5v27c0 1.378 1.122 2.5 2.5 2.5h23c1.378 0 2.5-1.122 2.5-2.5v-19.5c0-0.448-0.137-1.23-1.319-2.841zM24.543 5.457c0.959 0.959 1.712 1.825 2.268 2.543h-4.811v-4.811c0.718 0.556 1.584 1.309 2.543 2.268zM28 29.5c0 0.271-0.229 0.5-0.5 0.5h-23c-0.271 0-0.5-0.229-0.5-0.5v-27c0-0.271 0.229-0.5 0.5-0.5 0 0 15.499-0 15.5 0v7c0 0.552 0.448 1 1 1h7v19.5z\"></path>\n",
       "<path d=\"M23 26h-14c-0.552 0-1-0.448-1-1s0.448-1 1-1h14c0.552 0 1 0.448 1 1s-0.448 1-1 1z\"></path>\n",
       "<path d=\"M23 22h-14c-0.552 0-1-0.448-1-1s0.448-1 1-1h14c0.552 0 1 0.448 1 1s-0.448 1-1 1z\"></path>\n",
       "<path d=\"M23 18h-14c-0.552 0-1-0.448-1-1s0.448-1 1-1h14c0.552 0 1 0.448 1 1s-0.448 1-1 1z\"></path>\n",
       "</symbol>\n",
       "</defs>\n",
       "</svg>\n",
       "<style>/* CSS stylesheet for displaying xarray objects in jupyterlab.\n",
       " *\n",
       " */\n",
       "\n",
       ":root {\n",
       "  --xr-font-color0: var(--jp-content-font-color0, rgba(0, 0, 0, 1));\n",
       "  --xr-font-color2: var(--jp-content-font-color2, rgba(0, 0, 0, 0.54));\n",
       "  --xr-font-color3: var(--jp-content-font-color3, rgba(0, 0, 0, 0.38));\n",
       "  --xr-border-color: var(--jp-border-color2, #e0e0e0);\n",
       "  --xr-disabled-color: var(--jp-layout-color3, #bdbdbd);\n",
       "  --xr-background-color: var(--jp-layout-color0, white);\n",
       "  --xr-background-color-row-even: var(--jp-layout-color1, white);\n",
       "  --xr-background-color-row-odd: var(--jp-layout-color2, #eeeeee);\n",
       "}\n",
       "\n",
       "html[theme=\"dark\"],\n",
       "html[data-theme=\"dark\"],\n",
       "body[data-theme=\"dark\"],\n",
       "body.vscode-dark {\n",
       "  --xr-font-color0: rgba(255, 255, 255, 1);\n",
       "  --xr-font-color2: rgba(255, 255, 255, 0.54);\n",
       "  --xr-font-color3: rgba(255, 255, 255, 0.38);\n",
       "  --xr-border-color: #1f1f1f;\n",
       "  --xr-disabled-color: #515151;\n",
       "  --xr-background-color: #111111;\n",
       "  --xr-background-color-row-even: #111111;\n",
       "  --xr-background-color-row-odd: #313131;\n",
       "}\n",
       "\n",
       ".xr-wrap {\n",
       "  display: block !important;\n",
       "  min-width: 300px;\n",
       "  max-width: 700px;\n",
       "}\n",
       "\n",
       ".xr-text-repr-fallback {\n",
       "  /* fallback to plain text repr when CSS is not injected (untrusted notebook) */\n",
       "  display: none;\n",
       "}\n",
       "\n",
       ".xr-header {\n",
       "  padding-top: 6px;\n",
       "  padding-bottom: 6px;\n",
       "  margin-bottom: 4px;\n",
       "  border-bottom: solid 1px var(--xr-border-color);\n",
       "}\n",
       "\n",
       ".xr-header > div,\n",
       ".xr-header > ul {\n",
       "  display: inline;\n",
       "  margin-top: 0;\n",
       "  margin-bottom: 0;\n",
       "}\n",
       "\n",
       ".xr-obj-type,\n",
       ".xr-array-name {\n",
       "  margin-left: 2px;\n",
       "  margin-right: 10px;\n",
       "}\n",
       "\n",
       ".xr-obj-type {\n",
       "  color: var(--xr-font-color2);\n",
       "}\n",
       "\n",
       ".xr-sections {\n",
       "  padding-left: 0 !important;\n",
       "  display: grid;\n",
       "  grid-template-columns: 150px auto auto 1fr 0 20px 0 20px;\n",
       "}\n",
       "\n",
       ".xr-section-item {\n",
       "  display: contents;\n",
       "}\n",
       "\n",
       ".xr-section-item input {\n",
       "  display: inline-block;\n",
       "  opacity: 0;\n",
       "  height: 0;\n",
       "}\n",
       "\n",
       ".xr-section-item input + label {\n",
       "  color: var(--xr-disabled-color);\n",
       "}\n",
       "\n",
       ".xr-section-item input:enabled + label {\n",
       "  cursor: pointer;\n",
       "  color: var(--xr-font-color2);\n",
       "}\n",
       "\n",
       ".xr-section-item input:focus + label {\n",
       "  border: 2px solid var(--xr-font-color0);\n",
       "}\n",
       "\n",
       ".xr-section-item input:enabled + label:hover {\n",
       "  color: var(--xr-font-color0);\n",
       "}\n",
       "\n",
       ".xr-section-summary {\n",
       "  grid-column: 1;\n",
       "  color: var(--xr-font-color2);\n",
       "  font-weight: 500;\n",
       "}\n",
       "\n",
       ".xr-section-summary > span {\n",
       "  display: inline-block;\n",
       "  padding-left: 0.5em;\n",
       "}\n",
       "\n",
       ".xr-section-summary-in:disabled + label {\n",
       "  color: var(--xr-font-color2);\n",
       "}\n",
       "\n",
       ".xr-section-summary-in + label:before {\n",
       "  display: inline-block;\n",
       "  content: \"►\";\n",
       "  font-size: 11px;\n",
       "  width: 15px;\n",
       "  text-align: center;\n",
       "}\n",
       "\n",
       ".xr-section-summary-in:disabled + label:before {\n",
       "  color: var(--xr-disabled-color);\n",
       "}\n",
       "\n",
       ".xr-section-summary-in:checked + label:before {\n",
       "  content: \"▼\";\n",
       "}\n",
       "\n",
       ".xr-section-summary-in:checked + label > span {\n",
       "  display: none;\n",
       "}\n",
       "\n",
       ".xr-section-summary,\n",
       ".xr-section-inline-details {\n",
       "  padding-top: 4px;\n",
       "  padding-bottom: 4px;\n",
       "}\n",
       "\n",
       ".xr-section-inline-details {\n",
       "  grid-column: 2 / -1;\n",
       "}\n",
       "\n",
       ".xr-section-details {\n",
       "  display: none;\n",
       "  grid-column: 1 / -1;\n",
       "  margin-bottom: 5px;\n",
       "}\n",
       "\n",
       ".xr-section-summary-in:checked ~ .xr-section-details {\n",
       "  display: contents;\n",
       "}\n",
       "\n",
       ".xr-array-wrap {\n",
       "  grid-column: 1 / -1;\n",
       "  display: grid;\n",
       "  grid-template-columns: 20px auto;\n",
       "}\n",
       "\n",
       ".xr-array-wrap > label {\n",
       "  grid-column: 1;\n",
       "  vertical-align: top;\n",
       "}\n",
       "\n",
       ".xr-preview {\n",
       "  color: var(--xr-font-color3);\n",
       "}\n",
       "\n",
       ".xr-array-preview,\n",
       ".xr-array-data {\n",
       "  padding: 0 5px !important;\n",
       "  grid-column: 2;\n",
       "}\n",
       "\n",
       ".xr-array-data,\n",
       ".xr-array-in:checked ~ .xr-array-preview {\n",
       "  display: none;\n",
       "}\n",
       "\n",
       ".xr-array-in:checked ~ .xr-array-data,\n",
       ".xr-array-preview {\n",
       "  display: inline-block;\n",
       "}\n",
       "\n",
       ".xr-dim-list {\n",
       "  display: inline-block !important;\n",
       "  list-style: none;\n",
       "  padding: 0 !important;\n",
       "  margin: 0;\n",
       "}\n",
       "\n",
       ".xr-dim-list li {\n",
       "  display: inline-block;\n",
       "  padding: 0;\n",
       "  margin: 0;\n",
       "}\n",
       "\n",
       ".xr-dim-list:before {\n",
       "  content: \"(\";\n",
       "}\n",
       "\n",
       ".xr-dim-list:after {\n",
       "  content: \")\";\n",
       "}\n",
       "\n",
       ".xr-dim-list li:not(:last-child):after {\n",
       "  content: \",\";\n",
       "  padding-right: 5px;\n",
       "}\n",
       "\n",
       ".xr-has-index {\n",
       "  font-weight: bold;\n",
       "}\n",
       "\n",
       ".xr-var-list,\n",
       ".xr-var-item {\n",
       "  display: contents;\n",
       "}\n",
       "\n",
       ".xr-var-item > div,\n",
       ".xr-var-item label,\n",
       ".xr-var-item > .xr-var-name span {\n",
       "  background-color: var(--xr-background-color-row-even);\n",
       "  margin-bottom: 0;\n",
       "}\n",
       "\n",
       ".xr-var-item > .xr-var-name:hover span {\n",
       "  padding-right: 5px;\n",
       "}\n",
       "\n",
       ".xr-var-list > li:nth-child(odd) > div,\n",
       ".xr-var-list > li:nth-child(odd) > label,\n",
       ".xr-var-list > li:nth-child(odd) > .xr-var-name span {\n",
       "  background-color: var(--xr-background-color-row-odd);\n",
       "}\n",
       "\n",
       ".xr-var-name {\n",
       "  grid-column: 1;\n",
       "}\n",
       "\n",
       ".xr-var-dims {\n",
       "  grid-column: 2;\n",
       "}\n",
       "\n",
       ".xr-var-dtype {\n",
       "  grid-column: 3;\n",
       "  text-align: right;\n",
       "  color: var(--xr-font-color2);\n",
       "}\n",
       "\n",
       ".xr-var-preview {\n",
       "  grid-column: 4;\n",
       "}\n",
       "\n",
       ".xr-index-preview {\n",
       "  grid-column: 2 / 5;\n",
       "  color: var(--xr-font-color2);\n",
       "}\n",
       "\n",
       ".xr-var-name,\n",
       ".xr-var-dims,\n",
       ".xr-var-dtype,\n",
       ".xr-preview,\n",
       ".xr-attrs dt {\n",
       "  white-space: nowrap;\n",
       "  overflow: hidden;\n",
       "  text-overflow: ellipsis;\n",
       "  padding-right: 10px;\n",
       "}\n",
       "\n",
       ".xr-var-name:hover,\n",
       ".xr-var-dims:hover,\n",
       ".xr-var-dtype:hover,\n",
       ".xr-attrs dt:hover {\n",
       "  overflow: visible;\n",
       "  width: auto;\n",
       "  z-index: 1;\n",
       "}\n",
       "\n",
       ".xr-var-attrs,\n",
       ".xr-var-data,\n",
       ".xr-index-data {\n",
       "  display: none;\n",
       "  background-color: var(--xr-background-color) !important;\n",
       "  padding-bottom: 5px !important;\n",
       "}\n",
       "\n",
       ".xr-var-attrs-in:checked ~ .xr-var-attrs,\n",
       ".xr-var-data-in:checked ~ .xr-var-data,\n",
       ".xr-index-data-in:checked ~ .xr-index-data {\n",
       "  display: block;\n",
       "}\n",
       "\n",
       ".xr-var-data > table {\n",
       "  float: right;\n",
       "}\n",
       "\n",
       ".xr-var-name span,\n",
       ".xr-var-data,\n",
       ".xr-index-name div,\n",
       ".xr-index-data,\n",
       ".xr-attrs {\n",
       "  padding-left: 25px !important;\n",
       "}\n",
       "\n",
       ".xr-attrs,\n",
       ".xr-var-attrs,\n",
       ".xr-var-data,\n",
       ".xr-index-data {\n",
       "  grid-column: 1 / -1;\n",
       "}\n",
       "\n",
       "dl.xr-attrs {\n",
       "  padding: 0;\n",
       "  margin: 0;\n",
       "  display: grid;\n",
       "  grid-template-columns: 125px auto;\n",
       "}\n",
       "\n",
       ".xr-attrs dt,\n",
       ".xr-attrs dd {\n",
       "  padding: 0;\n",
       "  margin: 0;\n",
       "  float: left;\n",
       "  padding-right: 10px;\n",
       "  width: auto;\n",
       "}\n",
       "\n",
       ".xr-attrs dt {\n",
       "  font-weight: normal;\n",
       "  grid-column: 1;\n",
       "}\n",
       "\n",
       ".xr-attrs dt:hover span {\n",
       "  display: inline-block;\n",
       "  background: var(--xr-background-color);\n",
       "  padding-right: 10px;\n",
       "}\n",
       "\n",
       ".xr-attrs dd {\n",
       "  grid-column: 2;\n",
       "  white-space: pre-wrap;\n",
       "  word-break: break-all;\n",
       "}\n",
       "\n",
       ".xr-icon-database,\n",
       ".xr-icon-file-text2,\n",
       ".xr-no-icon {\n",
       "  display: inline-block;\n",
       "  vertical-align: middle;\n",
       "  width: 1em;\n",
       "  height: 1.5em !important;\n",
       "  stroke-width: 0;\n",
       "  stroke: currentColor;\n",
       "  fill: currentColor;\n",
       "}\n",
       "</style><pre class='xr-text-repr-fallback'>&lt;xarray.DataArray &#x27;band&#x27; (band: 19)&gt; Size: 152B\n",
       "array([(&#x27;abies&#x27;,), (&#x27;picea&#x27;,), (&#x27;populus&#x27;,), (&#x27;pseudotsuga&#x27;,), (&#x27;tsuga&#x27;,),\n",
       "       (&#x27;vod&#x27;,), (&#x27;elev&#x27;,), (&#x27;slope&#x27;,), (&#x27;northness&#x27;,), (&#x27;eastness&#x27;,),\n",
       "       (&#x27;fire&#x27;,), (&#x27;mortality&#x27;,), (&#x27;prcp&#x27;,), (&#x27;vp&#x27;,), (&#x27;tmin&#x27;,),\n",
       "       (&#x27;treecover&#x27;,), (&#x27;mort_ewma&#x27;,), (&#x27;mort_ewma_diff&#x27;,), (&#x27;forest_ba&#x27;,)],\n",
       "      dtype=object)\n",
       "Coordinates:\n",
       "  * band      (band) object 152B MultiIndex\n",
       "  * variable  (band) &lt;U14 1kB &#x27;abies&#x27; &#x27;picea&#x27; ... &#x27;mort_ewma_diff&#x27; &#x27;forest_ba&#x27;</pre><div class='xr-wrap' style='display:none'><div class='xr-header'><div class='xr-obj-type'>xarray.DataArray</div><div class='xr-array-name'>'band'</div><ul class='xr-dim-list'><li><span class='xr-has-index'>band</span>: 19</li></ul></div><ul class='xr-sections'><li class='xr-section-item'><div class='xr-array-wrap'><input id='section-d151552a-fe92-473e-83b8-4565fbb62e2c' class='xr-array-in' type='checkbox' checked><label for='section-d151552a-fe92-473e-83b8-4565fbb62e2c' title='Show/hide data repr'><svg class='icon xr-icon-database'><use xlink:href='#icon-database'></use></svg></label><div class='xr-array-preview xr-preview'><span>MultiIndex</span></div><div class='xr-array-data'><pre>array([(&#x27;abies&#x27;,), (&#x27;picea&#x27;,), (&#x27;populus&#x27;,), (&#x27;pseudotsuga&#x27;,), (&#x27;tsuga&#x27;,),\n",
       "       (&#x27;vod&#x27;,), (&#x27;elev&#x27;,), (&#x27;slope&#x27;,), (&#x27;northness&#x27;,), (&#x27;eastness&#x27;,),\n",
       "       (&#x27;fire&#x27;,), (&#x27;mortality&#x27;,), (&#x27;prcp&#x27;,), (&#x27;vp&#x27;,), (&#x27;tmin&#x27;,),\n",
       "       (&#x27;treecover&#x27;,), (&#x27;mort_ewma&#x27;,), (&#x27;mort_ewma_diff&#x27;,), (&#x27;forest_ba&#x27;,)],\n",
       "      dtype=object)</pre></div></div></li><li class='xr-section-item'><input id='section-b91c71c2-a03f-4e9b-a4b6-49b91f46e940' class='xr-section-summary-in' type='checkbox'  checked><label for='section-b91c71c2-a03f-4e9b-a4b6-49b91f46e940' class='xr-section-summary' >Coordinates: <span>(2)</span></label><div class='xr-section-inline-details'></div><div class='xr-section-details'><ul class='xr-var-list'><li class='xr-var-item'><div class='xr-var-name'><span class='xr-has-index'>band</span></div><div class='xr-var-dims'>(band)</div><div class='xr-var-dtype'>object</div><div class='xr-var-preview xr-preview'>MultiIndex</div><input id='attrs-188746be-839f-4f9a-b843-ccb83c1c6dfc' class='xr-var-attrs-in' type='checkbox' disabled><label for='attrs-188746be-839f-4f9a-b843-ccb83c1c6dfc' title='Show/Hide attributes'><svg class='icon xr-icon-file-text2'><use xlink:href='#icon-file-text2'></use></svg></label><input id='data-0219ff4e-778b-4b90-ac63-0b5c15cc8d84' class='xr-var-data-in' type='checkbox'><label for='data-0219ff4e-778b-4b90-ac63-0b5c15cc8d84' title='Show/Hide data repr'><svg class='icon xr-icon-database'><use xlink:href='#icon-database'></use></svg></label><div class='xr-var-attrs'><dl class='xr-attrs'></dl></div><div class='xr-var-data'><pre>array([(&#x27;abies&#x27;,), (&#x27;picea&#x27;,), (&#x27;populus&#x27;,), (&#x27;pseudotsuga&#x27;,), (&#x27;tsuga&#x27;,),\n",
       "       (&#x27;vod&#x27;,), (&#x27;elev&#x27;,), (&#x27;slope&#x27;,), (&#x27;northness&#x27;,), (&#x27;eastness&#x27;,),\n",
       "       (&#x27;fire&#x27;,), (&#x27;mortality&#x27;,), (&#x27;prcp&#x27;,), (&#x27;vp&#x27;,), (&#x27;tmin&#x27;,),\n",
       "       (&#x27;treecover&#x27;,), (&#x27;mort_ewma&#x27;,), (&#x27;mort_ewma_diff&#x27;,), (&#x27;forest_ba&#x27;,)],\n",
       "      dtype=object)</pre></div></li><li class='xr-var-item'><div class='xr-var-name'><span class='xr-has-index'>variable</span></div><div class='xr-var-dims'>(band)</div><div class='xr-var-dtype'>&lt;U14</div><div class='xr-var-preview xr-preview'>&#x27;abies&#x27; &#x27;picea&#x27; ... &#x27;forest_ba&#x27;</div><input id='attrs-8a51a643-19dc-4585-9439-1d6dab2aa17a' class='xr-var-attrs-in' type='checkbox' disabled><label for='attrs-8a51a643-19dc-4585-9439-1d6dab2aa17a' title='Show/Hide attributes'><svg class='icon xr-icon-file-text2'><use xlink:href='#icon-file-text2'></use></svg></label><input id='data-2ef357eb-02c8-4886-ac1b-d515e9a9df02' class='xr-var-data-in' type='checkbox'><label for='data-2ef357eb-02c8-4886-ac1b-d515e9a9df02' title='Show/Hide data repr'><svg class='icon xr-icon-database'><use xlink:href='#icon-database'></use></svg></label><div class='xr-var-attrs'><dl class='xr-attrs'></dl></div><div class='xr-var-data'><pre>array([&#x27;abies&#x27;, &#x27;picea&#x27;, &#x27;populus&#x27;, &#x27;pseudotsuga&#x27;, &#x27;tsuga&#x27;, &#x27;vod&#x27;, &#x27;elev&#x27;,\n",
       "       &#x27;slope&#x27;, &#x27;northness&#x27;, &#x27;eastness&#x27;, &#x27;fire&#x27;, &#x27;mortality&#x27;, &#x27;prcp&#x27;, &#x27;vp&#x27;,\n",
       "       &#x27;tmin&#x27;, &#x27;treecover&#x27;, &#x27;mort_ewma&#x27;, &#x27;mort_ewma_diff&#x27;, &#x27;forest_ba&#x27;],\n",
       "      dtype=&#x27;&lt;U14&#x27;)</pre></div></li></ul></div></li><li class='xr-section-item'><input id='section-afc5a8ab-b648-4c54-b673-3be5d8a73303' class='xr-section-summary-in' type='checkbox'  ><label for='section-afc5a8ab-b648-4c54-b673-3be5d8a73303' class='xr-section-summary' >Indexes: <span>(1)</span></label><div class='xr-section-inline-details'></div><div class='xr-section-details'><ul class='xr-var-list'><li class='xr-var-item'><div class='xr-index-name'><div>band<br>variable</div></div><div class='xr-index-preview'>PandasMultiIndex</div><input type='checkbox' disabled/><label></label><input id='index-0f94424a-b4ef-49a3-a3b1-bcf968abcc31' class='xr-index-data-in' type='checkbox'/><label for='index-0f94424a-b4ef-49a3-a3b1-bcf968abcc31' title='Show/Hide index repr'><svg class='icon xr-icon-database'><use xlink:href='#icon-database'></use></svg></label><div class='xr-index-data'><pre>PandasIndex(MultiIndex([(         &#x27;abies&#x27;,),\n",
       "            (         &#x27;picea&#x27;,),\n",
       "            (       &#x27;populus&#x27;,),\n",
       "            (   &#x27;pseudotsuga&#x27;,),\n",
       "            (         &#x27;tsuga&#x27;,),\n",
       "            (           &#x27;vod&#x27;,),\n",
       "            (          &#x27;elev&#x27;,),\n",
       "            (         &#x27;slope&#x27;,),\n",
       "            (     &#x27;northness&#x27;,),\n",
       "            (      &#x27;eastness&#x27;,),\n",
       "            (          &#x27;fire&#x27;,),\n",
       "            (     &#x27;mortality&#x27;,),\n",
       "            (          &#x27;prcp&#x27;,),\n",
       "            (            &#x27;vp&#x27;,),\n",
       "            (          &#x27;tmin&#x27;,),\n",
       "            (     &#x27;treecover&#x27;,),\n",
       "            (     &#x27;mort_ewma&#x27;,),\n",
       "            (&#x27;mort_ewma_diff&#x27;,),\n",
       "            (     &#x27;forest_ba&#x27;,)],\n",
       "           name=&#x27;band&#x27;))</pre></div></li></ul></div></li><li class='xr-section-item'><input id='section-f02678e0-150d-4884-9ef2-8bafc2af5c3f' class='xr-section-summary-in' type='checkbox' disabled ><label for='section-f02678e0-150d-4884-9ef2-8bafc2af5c3f' class='xr-section-summary'  title='Expand/collapse section'>Attributes: <span>(0)</span></label><div class='xr-section-inline-details'></div><div class='xr-section-details'><dl class='xr-attrs'></dl></div></li></ul></div></div>"
      ],
      "text/plain": [
       "<xarray.DataArray 'band' (band: 19)> Size: 152B\n",
       "array([('abies',), ('picea',), ('populus',), ('pseudotsuga',), ('tsuga',),\n",
       "       ('vod',), ('elev',), ('slope',), ('northness',), ('eastness',),\n",
       "       ('fire',), ('mortality',), ('prcp',), ('vp',), ('tmin',),\n",
       "       ('treecover',), ('mort_ewma',), ('mort_ewma_diff',), ('forest_ba',)],\n",
       "      dtype=object)\n",
       "Coordinates:\n",
       "  * band      (band) object 152B MultiIndex\n",
       "  * variable  (band) <U14 1kB 'abies' 'picea' ... 'mort_ewma_diff' 'forest_ba'"
      ]
     },
     "execution_count": 10,
     "metadata": {},
     "output_type": "execute_result"
    }
   ],
   "source": [
    "ds.band"
   ]
  },
  {
   "cell_type": "markdown",
   "id": "c61bf5a8-3ffe-4696-9c28-fe408a45f0ba",
   "metadata": {},
   "source": [
    "Data pipeline"
   ]
  },
  {
   "cell_type": "code",
   "execution_count": 11,
   "id": "f38b7f2c-4762-4a20-869c-e0f1ecde354b",
   "metadata": {},
   "outputs": [
    {
     "name": "stdout",
     "output_type": "stream",
     "text": [
      "Training years: [2013 2014 2015 2016 2017 2018 2019 2020 2021 2022 2023]\n",
      "Validation years: [1997 1998 1999 2000 2001 2002 2003 2004]\n",
      "Testing years: [2005 2006 2007 2008 2009 2010 2011 2012]\n"
     ]
    }
   ],
   "source": [
    "# Prepare data laoders. Each dataset has to be temporally disjoint so we \n",
    "# don't leak data.\n",
    "input_bands = [\"mort_ewma\", \"prcp\", \"elev\", \"treecover\"]\n",
    "input_inds = np.where(np.isin(ds.coords.get(\"variable\").values, input_bands))[0]\n",
    "input_channel = len(input_bands)\n",
    "years = ds.time.values\n",
    "\n",
    "train_years = years[16:]\n",
    "valid_years = years[:8]\n",
    "test_years = years[8:16]\n",
    "\n",
    "print(\"Training years:\", train_years)\n",
    "print(\"Validation years:\", valid_years)\n",
    "print(\"Testing years:\", test_years)"
   ]
  },
  {
   "cell_type": "code",
   "execution_count": 12,
   "id": "58b6e6fe-6051-4949-ada8-6711afc50c31",
   "metadata": {},
   "outputs": [
    {
     "name": "stdout",
     "output_type": "stream",
     "text": [
      "Count of examples\n",
      "Validation: 99079\n",
      "Testing: 167205\n"
     ]
    }
   ],
   "source": [
    "valid_wds = util.datasets.WindowXarrayDataset(\n",
    "    ds.sel(time=valid_years), window, \n",
    "    mask=mort_arr.sel(time=valid_years),\n",
    "    na_thresh=prop_na\n",
    ")\n",
    "test_wds  = util.datasets.WindowXarrayDataset(\n",
    "    ds.sel(time=test_years), window, \n",
    "    mask=mort_arr.sel(time=test_years), \n",
    "    na_thresh=prop_na\n",
    ")\n",
    "\n",
    "print(\"Count of examples\")\n",
    "print(\"Validation:\", len(valid_wds))\n",
    "print(\"Testing:\", len(test_wds))"
   ]
  },
  {
   "cell_type": "code",
   "execution_count": 13,
   "id": "75c0bb40-dc54-4815-a668-d635461a3757",
   "metadata": {},
   "outputs": [],
   "source": [
    "from torch.utils.data import DataLoader\n",
    "\n",
    "ewma_target_ind = np.where(ds.coords.get(\"variable\").values == target)[0][0]\n",
    "orig_target_ind = np.where(ds.coords.get(\"variable\").values == \"mortality\")[0][0]\n",
    "\n",
    "dtype = torch.float32\n",
    "eps = 1e-3\n",
    "\n",
    "def make_collator(input_inds, target_ind):\n",
    "    def collator(patch_list):\n",
    "        X = torch.stack([\n",
    "            torch.tensor(\n",
    "                np.squeeze(patch.values[:-1, input_inds, :, :]),\n",
    "                dtype=dtype\n",
    "            )\n",
    "            for patch in patch_list\n",
    "        ])\n",
    "    \n",
    "        # Replace nan cells with the channel mean from this batch\n",
    "        ch_mean = torch.nanmean(X, dim=0)\n",
    "        X = torch.nan_to_num(X)\n",
    "        X += ch_mean * torch.isnan(X)\n",
    "        \n",
    "        y = torch.stack([\n",
    "            torch.tensor(patch.values[-1, target_ind, :, :], dtype=dtype)\n",
    "            for patch in patch_list\n",
    "        ]).squeeze(dim=2)/100\n",
    "    \n",
    "        return X, y\n",
    "\n",
    "    return collator\n",
    "\n",
    "ewma_collator = make_collator(input_inds, ewma_target_ind)\n",
    "orig_collator = make_collator(input_inds, orig_target_ind)\n",
    "\n",
    "batch_size = 128\n",
    "\n",
    "# Setting the RNG to host device is necessary if we want to run on GPU\n",
    "valid_loader = DataLoader(\n",
    "    valid_wds, \n",
    "    batch_size, \n",
    "    shuffle=True, \n",
    "    collate_fn=ewma_collator,\n",
    "    drop_last=True,\n",
    "    generator=torch.Generator(device=device)\n",
    ")\n",
    "test_loader  = DataLoader(\n",
    "    test_wds, \n",
    "    batch_size, \n",
    "    shuffle=True, \n",
    "    collate_fn=ewma_collator,\n",
    "    drop_last=True,\n",
    "    generator=torch.Generator(device=device)\n",
    ")"
   ]
  },
  {
   "cell_type": "code",
   "execution_count": 14,
   "id": "81f00617-551e-4dd8-a6c7-cf3e5d321d93",
   "metadata": {},
   "outputs": [
    {
     "data": {
      "text/plain": [
       "<module 'util.datasets' from '/home/jovyan/ForestLST/util/datasets.py'>"
      ]
     },
     "execution_count": 14,
     "metadata": {},
     "output_type": "execute_result"
    }
   ],
   "source": [
    "reload(util.datasets)"
   ]
  },
  {
   "cell_type": "code",
   "execution_count": 15,
   "id": "4f717d62-6af6-491f-b949-5dfaded863e9",
   "metadata": {},
   "outputs": [
    {
     "name": "stdout",
     "output_type": "stream",
     "text": [
      "N: 189298\n"
     ]
    }
   ],
   "source": [
    "import torchmetrics\n",
    "\n",
    "wds = util.datasets.WindowXarrayDataset(\n",
    "    ds.sel(time=train_years), window, mask=mort_arr.sel(time=train_years), na_thresh=prop_na\n",
    ")\n",
    "print(f\"N: {len(wds)}\")\n",
    "\n",
    "train_loader = DataLoader(\n",
    "    wds, batch_size, \n",
    "    shuffle=True, collate_fn=ewma_collator,\n",
    "    drop_last=True,\n",
    "    generator=torch.Generator(device=device)\n",
    ")"
   ]
  },
  {
   "cell_type": "code",
   "execution_count": 16,
   "id": "96bf8b9b-7d8a-462a-83d8-573b9b93b40c",
   "metadata": {},
   "outputs": [],
   "source": [
    "reload(util.training)\n",
    "from util.training import BaseTrainer, ReduceLRMixin, EarlyStopMixin, MaskedLossMixin\n",
    "\n",
    "class Trainer(MaskedLossMixin, ReduceLRMixin, EarlyStopMixin, BaseTrainer):\n",
    "    pass"
   ]
  },
  {
   "cell_type": "code",
   "execution_count": 28,
   "id": "8361dbd8-497e-40f6-9f49-6f9f6011e03d",
   "metadata": {},
   "outputs": [
    {
     "name": "stdout",
     "output_type": "stream",
     "text": [
      "N params: 12922\n"
     ]
    }
   ],
   "source": [
    "from util.convlstm import ConvLSTM, DamageConvLSTM\n",
    "from collections import OrderedDict\n",
    "\n",
    "class SqueezeLayer(torch.nn.Module):\n",
    "    def __init__(self, ax):\n",
    "        super(SqueezeLayer, self).__init__()\n",
    "        self.ax = ax\n",
    "\n",
    "    def forward(self, X):\n",
    "        return X.squeeze(self.ax)\n",
    "\n",
    "input_dim = len(input_bands)\n",
    "hidden_dim = 8\n",
    "num_layers = 3\n",
    "kernel_size = (3, 3)\n",
    "dropout = 0.3\n",
    "dclstm = DamageConvLSTM(\n",
    "    input_dim,\n",
    "    hidden_dim,\n",
    "    kernel_size,\n",
    "    num_layers,\n",
    "    dropout=dropout,\n",
    "    batch_first=True\n",
    ")\n",
    "\n",
    "m = torch.nn.Sequential(OrderedDict([\n",
    "    (\"convlstm\", dclstm),\n",
    "    (\"conv\", torch.nn.Conv2d(hidden_dim, 1, kernel_size=kernel_size, padding=\"same\")),\n",
    "    (\"sigmoid\", torch.nn.Sigmoid()),\n",
    "    (\"unsqueeze\", SqueezeLayer(1))\n",
    "]))\n",
    "\n",
    "print(\"N params:\", util.training.count_trainable_parameters(m))"
   ]
  },
  {
   "cell_type": "code",
   "execution_count": 29,
   "id": "c2ddd342-005c-4c01-aae6-050ea7d98259",
   "metadata": {
    "scrolled": true
   },
   "outputs": [
    {
     "name": "stdout",
     "output_type": "stream",
     "text": [
      "torch.Size([128, 2, 4, 8, 8])\n",
      "torch.Size([128, 8, 8])\n"
     ]
    }
   ],
   "source": [
    "# Check shapes\n",
    "X, y = tuple(next(iter(valid_loader)))\n",
    "print(X.shape)\n",
    "out = m(X)\n",
    "print(out.shape)\n",
    "assert out.shape == y.shape"
   ]
  },
  {
   "cell_type": "code",
   "execution_count": 30,
   "id": "055486d2-5319-473d-8c65-15d59bfe557d",
   "metadata": {},
   "outputs": [
    {
     "name": "stdout",
     "output_type": "stream",
     "text": [
      "Logging in logs/04102025_convlstm__4band__8_8_3__ewma\n"
     ]
    },
    {
     "data": {
      "application/vnd.jupyter.widget-view+json": {
       "model_id": "6f732509e0444f0f8278bfcec1f7e7b0",
       "version_major": 2,
       "version_minor": 0
      },
      "text/plain": [
       "Epoch:   0%|          | 0/30 [00:00<?, ?it/s]"
      ]
     },
     "metadata": {},
     "output_type": "display_data"
    },
    {
     "data": {
      "application/vnd.jupyter.widget-view+json": {
       "model_id": "2850aeb0465c4abc968997ac40958366",
       "version_major": 2,
       "version_minor": 0
      },
      "text/plain": [
       "Training loss:   0%|          | 0/1478 [00:00<?, ?it/s]"
      ]
     },
     "metadata": {},
     "output_type": "display_data"
    },
    {
     "name": "stderr",
     "output_type": "stream",
     "text": [
      "/srv/conda/envs/notebook/lib/python3.12/site-packages/torchmetrics/utilities/prints.py:43: UserWarning: The variance of predictions or target is close to zero. This can cause instability in Pearson correlationcoefficient, leading to wrong results. Consider re-scaling the input if possible or computing using alarger dtype (currently using torch.float32).\n",
      "  warnings.warn(*args, **kwargs)  # noqa: B028\n"
     ]
    },
    {
     "data": {
      "application/vnd.jupyter.widget-view+json": {
       "model_id": "07413c79fc334db989c86545943b4054",
       "version_major": 2,
       "version_minor": 0
      },
      "text/plain": [
       "Validation loss:   0%|          | 0/774 [00:00<?, ?it/s]"
      ]
     },
     "metadata": {},
     "output_type": "display_data"
    },
    {
     "name": "stdout",
     "output_type": "stream",
     "text": [
      "Epoch 1 of 30\n",
      "                                       Key               Value\n",
      "0                             LearningRate               0.005\n",
      "1                               Loss/train            0.001879\n",
      "2                               Loss/valid  tensor(3.7613e-05)\n",
      "3                MeanAbsoluteError()/train         0.008691171\n",
      "4                MeanAbsoluteError()/valid        0.0019927525\n",
      "5                 MeanSquaredError()/train        0.0018769329\n",
      "6                 MeanSquaredError()/valid        3.760456e-05\n",
      "7   NormalizedRootMeanSquaredError()/train           11.963979\n",
      "8   NormalizedRootMeanSquaredError()/valid           3.5189416\n",
      "9                  PearsonCorrCoef()/train        0.0017736023\n",
      "10                 PearsonCorrCoef()/valid         0.009716333\n",
      "\n"
     ]
    },
    {
     "data": {
      "application/vnd.jupyter.widget-view+json": {
       "model_id": "6307b09a1ea24da5841109a87b957833",
       "version_major": 2,
       "version_minor": 0
      },
      "text/plain": [
       "Training loss:   0%|          | 0/1478 [00:00<?, ?it/s]"
      ]
     },
     "metadata": {},
     "output_type": "display_data"
    },
    {
     "name": "stderr",
     "output_type": "stream",
     "text": [
      "/srv/conda/envs/notebook/lib/python3.12/site-packages/torchmetrics/utilities/prints.py:43: UserWarning: The variance of predictions or target is close to zero. This can cause instability in Pearson correlationcoefficient, leading to wrong results. Consider re-scaling the input if possible or computing using alarger dtype (currently using torch.float32).\n",
      "  warnings.warn(*args, **kwargs)  # noqa: B028\n"
     ]
    },
    {
     "data": {
      "application/vnd.jupyter.widget-view+json": {
       "model_id": "de034e067309416eb606750d2e141eca",
       "version_major": 2,
       "version_minor": 0
      },
      "text/plain": [
       "Validation loss:   0%|          | 0/774 [00:00<?, ?it/s]"
      ]
     },
     "metadata": {},
     "output_type": "display_data"
    },
    {
     "name": "stdout",
     "output_type": "stream",
     "text": [
      "Epoch 2 of 30\n",
      "                                       Key               Value\n",
      "0                             LearningRate               0.005\n",
      "1                               Loss/train            0.000177\n",
      "2                               Loss/valid  tensor(3.7546e-05)\n",
      "3                MeanAbsoluteError()/train        0.0039002849\n",
      "4                MeanAbsoluteError()/valid        0.0019152263\n",
      "5                 MeanSquaredError()/train       0.00017702977\n",
      "6                 MeanSquaredError()/valid       3.7539765e-05\n",
      "7   NormalizedRootMeanSquaredError()/train           3.6735141\n",
      "8   NormalizedRootMeanSquaredError()/valid           3.5156565\n",
      "9                  PearsonCorrCoef()/train        0.0033197035\n",
      "10                 PearsonCorrCoef()/valid          0.01100191\n",
      "\n"
     ]
    },
    {
     "data": {
      "application/vnd.jupyter.widget-view+json": {
       "model_id": "90fb34415e7f464f9aef10fbb14656be",
       "version_major": 2,
       "version_minor": 0
      },
      "text/plain": [
       "Training loss:   0%|          | 0/1478 [00:00<?, ?it/s]"
      ]
     },
     "metadata": {},
     "output_type": "display_data"
    },
    {
     "name": "stderr",
     "output_type": "stream",
     "text": [
      "/srv/conda/envs/notebook/lib/python3.12/site-packages/torchmetrics/utilities/prints.py:43: UserWarning: The variance of predictions or target is close to zero. This can cause instability in Pearson correlationcoefficient, leading to wrong results. Consider re-scaling the input if possible or computing using alarger dtype (currently using torch.float32).\n",
      "  warnings.warn(*args, **kwargs)  # noqa: B028\n"
     ]
    },
    {
     "data": {
      "application/vnd.jupyter.widget-view+json": {
       "model_id": "4b77f54a936e4e70b65ac19de7870c61",
       "version_major": 2,
       "version_minor": 0
      },
      "text/plain": [
       "Validation loss:   0%|          | 0/774 [00:00<?, ?it/s]"
      ]
     },
     "metadata": {},
     "output_type": "display_data"
    },
    {
     "name": "stdout",
     "output_type": "stream",
     "text": [
      "Epoch 3 of 30\n",
      "                                       Key               Value\n",
      "0                             LearningRate               0.005\n",
      "1                               Loss/train            0.000177\n",
      "2                               Loss/valid  tensor(3.7255e-05)\n",
      "3                MeanAbsoluteError()/train         0.003862822\n",
      "4                MeanAbsoluteError()/valid        0.0019611707\n",
      "5                 MeanSquaredError()/train        0.0001767212\n",
      "6                 MeanSquaredError()/valid        3.725328e-05\n",
      "7   NormalizedRootMeanSquaredError()/train           3.6698217\n",
      "8   NormalizedRootMeanSquaredError()/valid           3.5021467\n",
      "9                  PearsonCorrCoef()/train         0.009631514\n",
      "10                 PearsonCorrCoef()/valid         0.046387326\n",
      "\n"
     ]
    },
    {
     "data": {
      "application/vnd.jupyter.widget-view+json": {
       "model_id": "b60e988f720241b5a8f2d285b1713828",
       "version_major": 2,
       "version_minor": 0
      },
      "text/plain": [
       "Training loss:   0%|          | 0/1478 [00:00<?, ?it/s]"
      ]
     },
     "metadata": {},
     "output_type": "display_data"
    },
    {
     "name": "stderr",
     "output_type": "stream",
     "text": [
      "/srv/conda/envs/notebook/lib/python3.12/site-packages/torchmetrics/utilities/prints.py:43: UserWarning: The variance of predictions or target is close to zero. This can cause instability in Pearson correlationcoefficient, leading to wrong results. Consider re-scaling the input if possible or computing using alarger dtype (currently using torch.float32).\n",
      "  warnings.warn(*args, **kwargs)  # noqa: B028\n"
     ]
    },
    {
     "data": {
      "application/vnd.jupyter.widget-view+json": {
       "model_id": "7cd0838511014775b70bda8473be60f2",
       "version_major": 2,
       "version_minor": 0
      },
      "text/plain": [
       "Validation loss:   0%|          | 0/774 [00:00<?, ?it/s]"
      ]
     },
     "metadata": {},
     "output_type": "display_data"
    },
    {
     "name": "stdout",
     "output_type": "stream",
     "text": [
      "Epoch 4 of 30\n",
      "                                       Key               Value\n",
      "0                             LearningRate               0.005\n",
      "1                               Loss/train            0.000108\n",
      "2                               Loss/valid  tensor(2.7359e-05)\n",
      "3                MeanAbsoluteError()/train        0.0033132993\n",
      "4                MeanAbsoluteError()/valid        0.0016212567\n",
      "5                 MeanSquaredError()/train      0.000108433305\n",
      "6                 MeanSquaredError()/valid       2.7355441e-05\n",
      "7   NormalizedRootMeanSquaredError()/train            2.874743\n",
      "8   NormalizedRootMeanSquaredError()/valid            3.001013\n",
      "9                  PearsonCorrCoef()/train           0.5976142\n",
      "10                 PearsonCorrCoef()/valid           0.5177031\n",
      "\n"
     ]
    },
    {
     "data": {
      "application/vnd.jupyter.widget-view+json": {
       "model_id": "0f8bf786547748109eae18ce32187074",
       "version_major": 2,
       "version_minor": 0
      },
      "text/plain": [
       "Training loss:   0%|          | 0/1478 [00:00<?, ?it/s]"
      ]
     },
     "metadata": {},
     "output_type": "display_data"
    },
    {
     "name": "stderr",
     "output_type": "stream",
     "text": [
      "/srv/conda/envs/notebook/lib/python3.12/site-packages/torchmetrics/utilities/prints.py:43: UserWarning: The variance of predictions or target is close to zero. This can cause instability in Pearson correlationcoefficient, leading to wrong results. Consider re-scaling the input if possible or computing using alarger dtype (currently using torch.float32).\n",
      "  warnings.warn(*args, **kwargs)  # noqa: B028\n"
     ]
    },
    {
     "data": {
      "application/vnd.jupyter.widget-view+json": {
       "model_id": "0d61903e5ec74a0ba54948fc6967634d",
       "version_major": 2,
       "version_minor": 0
      },
      "text/plain": [
       "Validation loss:   0%|          | 0/774 [00:00<?, ?it/s]"
      ]
     },
     "metadata": {},
     "output_type": "display_data"
    },
    {
     "name": "stdout",
     "output_type": "stream",
     "text": [
      "Epoch 5 of 30\n",
      "                                       Key               Value\n",
      "0                             LearningRate               0.005\n",
      "1                               Loss/train            0.000087\n",
      "2                               Loss/valid  tensor(2.3751e-05)\n",
      "3                MeanAbsoluteError()/train        0.0030439936\n",
      "4                MeanAbsoluteError()/valid        0.0015568511\n",
      "5                 MeanSquaredError()/train        8.720079e-05\n",
      "6                 MeanSquaredError()/valid       2.3749242e-05\n",
      "7   NormalizedRootMeanSquaredError()/train           2.5785587\n",
      "8   NormalizedRootMeanSquaredError()/valid           2.7965546\n",
      "9                  PearsonCorrCoef()/train           0.6914006\n",
      "10                 PearsonCorrCoef()/valid           0.5823112\n",
      "\n"
     ]
    },
    {
     "data": {
      "application/vnd.jupyter.widget-view+json": {
       "model_id": "e587793ce0d74f5d8e370aa734976194",
       "version_major": 2,
       "version_minor": 0
      },
      "text/plain": [
       "Training loss:   0%|          | 0/1478 [00:00<?, ?it/s]"
      ]
     },
     "metadata": {},
     "output_type": "display_data"
    },
    {
     "name": "stderr",
     "output_type": "stream",
     "text": [
      "/srv/conda/envs/notebook/lib/python3.12/site-packages/torchmetrics/utilities/prints.py:43: UserWarning: The variance of predictions or target is close to zero. This can cause instability in Pearson correlationcoefficient, leading to wrong results. Consider re-scaling the input if possible or computing using alarger dtype (currently using torch.float32).\n",
      "  warnings.warn(*args, **kwargs)  # noqa: B028\n"
     ]
    },
    {
     "data": {
      "application/vnd.jupyter.widget-view+json": {
       "model_id": "a545faf320634183a4de44a372c8dcf7",
       "version_major": 2,
       "version_minor": 0
      },
      "text/plain": [
       "Validation loss:   0%|          | 0/774 [00:00<?, ?it/s]"
      ]
     },
     "metadata": {},
     "output_type": "display_data"
    },
    {
     "name": "stdout",
     "output_type": "stream",
     "text": [
      "Epoch 6 of 30\n",
      "                                       Key               Value\n",
      "0                             LearningRate               0.005\n",
      "1                               Loss/train             0.00008\n",
      "2                               Loss/valid  tensor(2.4765e-05)\n",
      "3                MeanAbsoluteError()/train        0.0028705853\n",
      "4                MeanAbsoluteError()/valid        0.0014674854\n",
      "5                 MeanSquaredError()/train        7.967123e-05\n",
      "6                 MeanSquaredError()/valid        2.476136e-05\n",
      "7   NormalizedRootMeanSquaredError()/train           2.4648545\n",
      "8   NormalizedRootMeanSquaredError()/valid           2.8553512\n",
      "9                  PearsonCorrCoef()/train           0.7230382\n",
      "10                 PearsonCorrCoef()/valid           0.5863669\n",
      "\n"
     ]
    },
    {
     "data": {
      "application/vnd.jupyter.widget-view+json": {
       "model_id": "c7a1bc5264ad4a6db4067c25f2f5b24d",
       "version_major": 2,
       "version_minor": 0
      },
      "text/plain": [
       "Training loss:   0%|          | 0/1478 [00:00<?, ?it/s]"
      ]
     },
     "metadata": {},
     "output_type": "display_data"
    },
    {
     "name": "stderr",
     "output_type": "stream",
     "text": [
      "/srv/conda/envs/notebook/lib/python3.12/site-packages/torchmetrics/utilities/prints.py:43: UserWarning: The variance of predictions or target is close to zero. This can cause instability in Pearson correlationcoefficient, leading to wrong results. Consider re-scaling the input if possible or computing using alarger dtype (currently using torch.float32).\n",
      "  warnings.warn(*args, **kwargs)  # noqa: B028\n"
     ]
    },
    {
     "data": {
      "application/vnd.jupyter.widget-view+json": {
       "model_id": "4c002d17b5cf417dbe2256d162425e48",
       "version_major": 2,
       "version_minor": 0
      },
      "text/plain": [
       "Validation loss:   0%|          | 0/774 [00:00<?, ?it/s]"
      ]
     },
     "metadata": {},
     "output_type": "display_data"
    },
    {
     "name": "stdout",
     "output_type": "stream",
     "text": [
      "Epoch 7 of 30\n",
      "                                       Key               Value\n",
      "0                             LearningRate               0.005\n",
      "1                               Loss/train            0.000073\n",
      "2                               Loss/valid  tensor(2.2361e-05)\n",
      "3                MeanAbsoluteError()/train        0.0027460486\n",
      "4                MeanAbsoluteError()/valid         0.001425914\n",
      "5                 MeanSquaredError()/train       7.2884206e-05\n",
      "6                 MeanSquaredError()/valid       2.2360653e-05\n",
      "7   NormalizedRootMeanSquaredError()/train           2.3570545\n",
      "8   NormalizedRootMeanSquaredError()/valid            2.713327\n",
      "9                  PearsonCorrCoef()/train           0.7502505\n",
      "10                 PearsonCorrCoef()/valid            0.619078\n",
      "\n"
     ]
    },
    {
     "data": {
      "application/vnd.jupyter.widget-view+json": {
       "model_id": "890834a9c98c4f09be8653faecfc0306",
       "version_major": 2,
       "version_minor": 0
      },
      "text/plain": [
       "Training loss:   0%|          | 0/1478 [00:00<?, ?it/s]"
      ]
     },
     "metadata": {},
     "output_type": "display_data"
    },
    {
     "name": "stderr",
     "output_type": "stream",
     "text": [
      "/srv/conda/envs/notebook/lib/python3.12/site-packages/torchmetrics/utilities/prints.py:43: UserWarning: The variance of predictions or target is close to zero. This can cause instability in Pearson correlationcoefficient, leading to wrong results. Consider re-scaling the input if possible or computing using alarger dtype (currently using torch.float32).\n",
      "  warnings.warn(*args, **kwargs)  # noqa: B028\n"
     ]
    },
    {
     "data": {
      "application/vnd.jupyter.widget-view+json": {
       "model_id": "e5bb431f6abd4554b11354d14ff4e734",
       "version_major": 2,
       "version_minor": 0
      },
      "text/plain": [
       "Validation loss:   0%|          | 0/774 [00:00<?, ?it/s]"
      ]
     },
     "metadata": {},
     "output_type": "display_data"
    },
    {
     "name": "stdout",
     "output_type": "stream",
     "text": [
      "Epoch 8 of 30\n",
      "                                       Key               Value\n",
      "0                             LearningRate               0.005\n",
      "1                               Loss/train            0.000068\n",
      "2                               Loss/valid  tensor(2.2106e-05)\n",
      "3                MeanAbsoluteError()/train        0.0026699833\n",
      "4                MeanAbsoluteError()/valid        0.0014184808\n",
      "5                 MeanSquaredError()/train       6.8248875e-05\n",
      "6                 MeanSquaredError()/valid       2.2104696e-05\n",
      "7   NormalizedRootMeanSquaredError()/train           2.2806518\n",
      "8   NormalizedRootMeanSquaredError()/valid           2.6976466\n",
      "9                  PearsonCorrCoef()/train           0.7678748\n",
      "10                 PearsonCorrCoef()/valid           0.6214602\n",
      "\n"
     ]
    },
    {
     "data": {
      "application/vnd.jupyter.widget-view+json": {
       "model_id": "da40b0a846794b81b9dd8a7f9bf65177",
       "version_major": 2,
       "version_minor": 0
      },
      "text/plain": [
       "Training loss:   0%|          | 0/1478 [00:00<?, ?it/s]"
      ]
     },
     "metadata": {},
     "output_type": "display_data"
    },
    {
     "name": "stderr",
     "output_type": "stream",
     "text": [
      "/srv/conda/envs/notebook/lib/python3.12/site-packages/torchmetrics/utilities/prints.py:43: UserWarning: The variance of predictions or target is close to zero. This can cause instability in Pearson correlationcoefficient, leading to wrong results. Consider re-scaling the input if possible or computing using alarger dtype (currently using torch.float32).\n",
      "  warnings.warn(*args, **kwargs)  # noqa: B028\n"
     ]
    },
    {
     "data": {
      "application/vnd.jupyter.widget-view+json": {
       "model_id": "6673fcf722974055a5a19aaf848a48fe",
       "version_major": 2,
       "version_minor": 0
      },
      "text/plain": [
       "Validation loss:   0%|          | 0/774 [00:00<?, ?it/s]"
      ]
     },
     "metadata": {},
     "output_type": "display_data"
    },
    {
     "name": "stdout",
     "output_type": "stream",
     "text": [
      "Epoch 9 of 30\n",
      "                                       Key               Value\n",
      "0                             LearningRate               0.005\n",
      "1                               Loss/train            0.000064\n",
      "2                               Loss/valid  tensor(2.2584e-05)\n",
      "3                MeanAbsoluteError()/train        0.0026212637\n",
      "4                MeanAbsoluteError()/valid        0.0013868185\n",
      "5                 MeanSquaredError()/train       6.4157764e-05\n",
      "6                 MeanSquaredError()/valid       2.2580396e-05\n",
      "7   NormalizedRootMeanSquaredError()/train           2.2118342\n",
      "8   NormalizedRootMeanSquaredError()/valid            2.726637\n",
      "9                  PearsonCorrCoef()/train           0.7828294\n",
      "10                 PearsonCorrCoef()/valid           0.6243386\n",
      "\n"
     ]
    },
    {
     "data": {
      "application/vnd.jupyter.widget-view+json": {
       "model_id": "3f0e71e32e1f4c74bd28cc526c600524",
       "version_major": 2,
       "version_minor": 0
      },
      "text/plain": [
       "Training loss:   0%|          | 0/1478 [00:00<?, ?it/s]"
      ]
     },
     "metadata": {},
     "output_type": "display_data"
    },
    {
     "name": "stderr",
     "output_type": "stream",
     "text": [
      "/srv/conda/envs/notebook/lib/python3.12/site-packages/torchmetrics/utilities/prints.py:43: UserWarning: The variance of predictions or target is close to zero. This can cause instability in Pearson correlationcoefficient, leading to wrong results. Consider re-scaling the input if possible or computing using alarger dtype (currently using torch.float32).\n",
      "  warnings.warn(*args, **kwargs)  # noqa: B028\n"
     ]
    },
    {
     "data": {
      "application/vnd.jupyter.widget-view+json": {
       "model_id": "c0fc17f9c5d64f5d9535b8c9295a0e70",
       "version_major": 2,
       "version_minor": 0
      },
      "text/plain": [
       "Validation loss:   0%|          | 0/774 [00:00<?, ?it/s]"
      ]
     },
     "metadata": {},
     "output_type": "display_data"
    },
    {
     "name": "stdout",
     "output_type": "stream",
     "text": [
      "Epoch 10 of 30\n",
      "                                       Key               Value\n",
      "0                             LearningRate               0.005\n",
      "1                               Loss/train            0.000061\n",
      "2                               Loss/valid  tensor(2.1591e-05)\n",
      "3                MeanAbsoluteError()/train         0.002591417\n",
      "4                MeanAbsoluteError()/valid        0.0013997359\n",
      "5                 MeanSquaredError()/train         6.13528e-05\n",
      "6                 MeanSquaredError()/valid        2.158839e-05\n",
      "7   NormalizedRootMeanSquaredError()/train           2.1627812\n",
      "8   NormalizedRootMeanSquaredError()/valid           2.6661856\n",
      "9                  PearsonCorrCoef()/train          0.79331356\n",
      "10                 PearsonCorrCoef()/valid           0.6324775\n",
      "\n"
     ]
    },
    {
     "data": {
      "application/vnd.jupyter.widget-view+json": {
       "model_id": "4521b603573641169c8f52a1539b104e",
       "version_major": 2,
       "version_minor": 0
      },
      "text/plain": [
       "Training loss:   0%|          | 0/1478 [00:00<?, ?it/s]"
      ]
     },
     "metadata": {},
     "output_type": "display_data"
    },
    {
     "name": "stderr",
     "output_type": "stream",
     "text": [
      "/srv/conda/envs/notebook/lib/python3.12/site-packages/torchmetrics/utilities/prints.py:43: UserWarning: The variance of predictions or target is close to zero. This can cause instability in Pearson correlationcoefficient, leading to wrong results. Consider re-scaling the input if possible or computing using alarger dtype (currently using torch.float32).\n",
      "  warnings.warn(*args, **kwargs)  # noqa: B028\n"
     ]
    },
    {
     "data": {
      "application/vnd.jupyter.widget-view+json": {
       "model_id": "524ce4ab58064e2ab004b37eba535204",
       "version_major": 2,
       "version_minor": 0
      },
      "text/plain": [
       "Validation loss:   0%|          | 0/774 [00:00<?, ?it/s]"
      ]
     },
     "metadata": {},
     "output_type": "display_data"
    },
    {
     "name": "stdout",
     "output_type": "stream",
     "text": [
      "Epoch 11 of 30\n",
      "                                       Key               Value\n",
      "0                             LearningRate               0.005\n",
      "1                               Loss/train             0.00006\n",
      "2                               Loss/valid  tensor(2.1353e-05)\n",
      "3                MeanAbsoluteError()/train        0.0025793235\n",
      "4                MeanAbsoluteError()/valid        0.0014183801\n",
      "5                 MeanSquaredError()/train       6.0006012e-05\n",
      "6                 MeanSquaredError()/valid       2.1350394e-05\n",
      "7   NormalizedRootMeanSquaredError()/train            2.138717\n",
      "8   NormalizedRootMeanSquaredError()/valid           2.6516345\n",
      "9                  PearsonCorrCoef()/train           0.7982398\n",
      "10                 PearsonCorrCoef()/valid          0.64092857\n",
      "\n"
     ]
    },
    {
     "data": {
      "application/vnd.jupyter.widget-view+json": {
       "model_id": "9f4a166555e54eb59e521e38a244403d",
       "version_major": 2,
       "version_minor": 0
      },
      "text/plain": [
       "Training loss:   0%|          | 0/1478 [00:00<?, ?it/s]"
      ]
     },
     "metadata": {},
     "output_type": "display_data"
    },
    {
     "name": "stderr",
     "output_type": "stream",
     "text": [
      "/srv/conda/envs/notebook/lib/python3.12/site-packages/torchmetrics/utilities/prints.py:43: UserWarning: The variance of predictions or target is close to zero. This can cause instability in Pearson correlationcoefficient, leading to wrong results. Consider re-scaling the input if possible or computing using alarger dtype (currently using torch.float32).\n",
      "  warnings.warn(*args, **kwargs)  # noqa: B028\n"
     ]
    },
    {
     "data": {
      "application/vnd.jupyter.widget-view+json": {
       "model_id": "8c073c6c7bfe43f8a48f48b857d321e2",
       "version_major": 2,
       "version_minor": 0
      },
      "text/plain": [
       "Validation loss:   0%|          | 0/774 [00:00<?, ?it/s]"
      ]
     },
     "metadata": {},
     "output_type": "display_data"
    },
    {
     "name": "stdout",
     "output_type": "stream",
     "text": [
      "Epoch 12 of 30\n",
      "                                       Key               Value\n",
      "0                             LearningRate               0.005\n",
      "1                               Loss/train            0.000059\n",
      "2                               Loss/valid  tensor(2.0892e-05)\n",
      "3                MeanAbsoluteError()/train        0.0025653727\n",
      "4                MeanAbsoluteError()/valid        0.0015020908\n",
      "5                 MeanSquaredError()/train       5.8995964e-05\n",
      "6                 MeanSquaredError()/valid       2.0889089e-05\n",
      "7   NormalizedRootMeanSquaredError()/train           2.1207879\n",
      "8   NormalizedRootMeanSquaredError()/valid           2.6225312\n",
      "9                  PearsonCorrCoef()/train           0.8018588\n",
      "10                 PearsonCorrCoef()/valid           0.6434741\n",
      "\n"
     ]
    },
    {
     "data": {
      "application/vnd.jupyter.widget-view+json": {
       "model_id": "736a894bcb4548bca2ee4c31cef9ef87",
       "version_major": 2,
       "version_minor": 0
      },
      "text/plain": [
       "Training loss:   0%|          | 0/1478 [00:00<?, ?it/s]"
      ]
     },
     "metadata": {},
     "output_type": "display_data"
    },
    {
     "name": "stderr",
     "output_type": "stream",
     "text": [
      "/srv/conda/envs/notebook/lib/python3.12/site-packages/torchmetrics/utilities/prints.py:43: UserWarning: The variance of predictions or target is close to zero. This can cause instability in Pearson correlationcoefficient, leading to wrong results. Consider re-scaling the input if possible or computing using alarger dtype (currently using torch.float32).\n",
      "  warnings.warn(*args, **kwargs)  # noqa: B028\n"
     ]
    },
    {
     "data": {
      "application/vnd.jupyter.widget-view+json": {
       "model_id": "6f7700a09fa04f7aa77579bde2a9260b",
       "version_major": 2,
       "version_minor": 0
      },
      "text/plain": [
       "Validation loss:   0%|          | 0/774 [00:00<?, ?it/s]"
      ]
     },
     "metadata": {},
     "output_type": "display_data"
    },
    {
     "name": "stdout",
     "output_type": "stream",
     "text": [
      "Epoch 13 of 30\n",
      "                                       Key               Value\n",
      "0                             LearningRate               0.005\n",
      "1                               Loss/train            0.000058\n",
      "2                               Loss/valid  tensor(2.3827e-05)\n",
      "3                MeanAbsoluteError()/train        0.0025496564\n",
      "4                MeanAbsoluteError()/valid        0.0013926977\n",
      "5                 MeanSquaredError()/train       5.8313697e-05\n",
      "6                 MeanSquaredError()/valid       2.3824496e-05\n",
      "7   NormalizedRootMeanSquaredError()/train           2.1085494\n",
      "8   NormalizedRootMeanSquaredError()/valid             2.80061\n",
      "9                  PearsonCorrCoef()/train          0.80444866\n",
      "10                 PearsonCorrCoef()/valid           0.6014639\n",
      "\n"
     ]
    },
    {
     "data": {
      "application/vnd.jupyter.widget-view+json": {
       "model_id": "7e5d37b94405452da415a55c2073958a",
       "version_major": 2,
       "version_minor": 0
      },
      "text/plain": [
       "Training loss:   0%|          | 0/1478 [00:00<?, ?it/s]"
      ]
     },
     "metadata": {},
     "output_type": "display_data"
    },
    {
     "name": "stderr",
     "output_type": "stream",
     "text": [
      "/srv/conda/envs/notebook/lib/python3.12/site-packages/torchmetrics/utilities/prints.py:43: UserWarning: The variance of predictions or target is close to zero. This can cause instability in Pearson correlationcoefficient, leading to wrong results. Consider re-scaling the input if possible or computing using alarger dtype (currently using torch.float32).\n",
      "  warnings.warn(*args, **kwargs)  # noqa: B028\n"
     ]
    },
    {
     "data": {
      "application/vnd.jupyter.widget-view+json": {
       "model_id": "f4b306f16e114c11a296d9ec79d97ba1",
       "version_major": 2,
       "version_minor": 0
      },
      "text/plain": [
       "Validation loss:   0%|          | 0/774 [00:00<?, ?it/s]"
      ]
     },
     "metadata": {},
     "output_type": "display_data"
    },
    {
     "name": "stdout",
     "output_type": "stream",
     "text": [
      "Epoch 14 of 30\n",
      "                                       Key               Value\n",
      "0                             LearningRate               0.005\n",
      "1                               Loss/train            0.000057\n",
      "2                               Loss/valid  tensor(2.1410e-05)\n",
      "3                MeanAbsoluteError()/train        0.0025348326\n",
      "4                MeanAbsoluteError()/valid        0.0014597242\n",
      "5                 MeanSquaredError()/train       5.7392106e-05\n",
      "6                 MeanSquaredError()/valid         2.14083e-05\n",
      "7   NormalizedRootMeanSquaredError()/train           2.0917904\n",
      "8   NormalizedRootMeanSquaredError()/valid           2.6547637\n",
      "9                  PearsonCorrCoef()/train          0.80792695\n",
      "10                 PearsonCorrCoef()/valid           0.6377023\n",
      "\n"
     ]
    },
    {
     "data": {
      "application/vnd.jupyter.widget-view+json": {
       "model_id": "a4bb5a2ff5254c14b46b07ae0fc5a75c",
       "version_major": 2,
       "version_minor": 0
      },
      "text/plain": [
       "Training loss:   0%|          | 0/1478 [00:00<?, ?it/s]"
      ]
     },
     "metadata": {},
     "output_type": "display_data"
    },
    {
     "name": "stderr",
     "output_type": "stream",
     "text": [
      "/srv/conda/envs/notebook/lib/python3.12/site-packages/torchmetrics/utilities/prints.py:43: UserWarning: The variance of predictions or target is close to zero. This can cause instability in Pearson correlationcoefficient, leading to wrong results. Consider re-scaling the input if possible or computing using alarger dtype (currently using torch.float32).\n",
      "  warnings.warn(*args, **kwargs)  # noqa: B028\n"
     ]
    },
    {
     "data": {
      "application/vnd.jupyter.widget-view+json": {
       "model_id": "b11099fda11d4a209b8cd6159bdf35e8",
       "version_major": 2,
       "version_minor": 0
      },
      "text/plain": [
       "Validation loss:   0%|          | 0/774 [00:00<?, ?it/s]"
      ]
     },
     "metadata": {},
     "output_type": "display_data"
    },
    {
     "name": "stdout",
     "output_type": "stream",
     "text": [
      "Epoch 15 of 30\n",
      "                                       Key               Value\n",
      "0                             LearningRate               0.005\n",
      "1                               Loss/train            0.000057\n",
      "2                               Loss/valid  tensor(2.1962e-05)\n",
      "3                MeanAbsoluteError()/train        0.0025282386\n",
      "4                MeanAbsoluteError()/valid        0.0013709522\n",
      "5                 MeanSquaredError()/train        5.662339e-05\n",
      "6                 MeanSquaredError()/valid       2.1957265e-05\n",
      "7   NormalizedRootMeanSquaredError()/train           2.0773342\n",
      "8   NormalizedRootMeanSquaredError()/valid           2.6890345\n",
      "9                  PearsonCorrCoef()/train          0.81079924\n",
      "10                 PearsonCorrCoef()/valid          0.62750727\n",
      "\n"
     ]
    },
    {
     "data": {
      "application/vnd.jupyter.widget-view+json": {
       "model_id": "50c7e93d36de4f7eb341472ff133b315",
       "version_major": 2,
       "version_minor": 0
      },
      "text/plain": [
       "Training loss:   0%|          | 0/1478 [00:00<?, ?it/s]"
      ]
     },
     "metadata": {},
     "output_type": "display_data"
    },
    {
     "name": "stderr",
     "output_type": "stream",
     "text": [
      "/srv/conda/envs/notebook/lib/python3.12/site-packages/torchmetrics/utilities/prints.py:43: UserWarning: The variance of predictions or target is close to zero. This can cause instability in Pearson correlationcoefficient, leading to wrong results. Consider re-scaling the input if possible or computing using alarger dtype (currently using torch.float32).\n",
      "  warnings.warn(*args, **kwargs)  # noqa: B028\n"
     ]
    },
    {
     "data": {
      "application/vnd.jupyter.widget-view+json": {
       "model_id": "468e141581ac4476a361f33f018aa256",
       "version_major": 2,
       "version_minor": 0
      },
      "text/plain": [
       "Validation loss:   0%|          | 0/774 [00:00<?, ?it/s]"
      ]
     },
     "metadata": {},
     "output_type": "display_data"
    },
    {
     "name": "stdout",
     "output_type": "stream",
     "text": [
      "Epoch 16 of 30\n",
      "                                       Key               Value\n",
      "0                             LearningRate               0.001\n",
      "1                               Loss/train            0.000057\n",
      "2                               Loss/valid  tensor(2.0953e-05)\n",
      "3                MeanAbsoluteError()/train        0.0025227694\n",
      "4                MeanAbsoluteError()/valid        0.0014267189\n",
      "5                 MeanSquaredError()/train       5.6574347e-05\n",
      "6                 MeanSquaredError()/valid       2.0951624e-05\n",
      "7   NormalizedRootMeanSquaredError()/train           2.0772629\n",
      "8   NormalizedRootMeanSquaredError()/valid           2.6266122\n",
      "9                  PearsonCorrCoef()/train          0.81076753\n",
      "10                 PearsonCorrCoef()/valid          0.64288557\n",
      "\n"
     ]
    },
    {
     "data": {
      "application/vnd.jupyter.widget-view+json": {
       "model_id": "20fd11174c8e4abcab5a6eb112419116",
       "version_major": 2,
       "version_minor": 0
      },
      "text/plain": [
       "Training loss:   0%|          | 0/1478 [00:00<?, ?it/s]"
      ]
     },
     "metadata": {},
     "output_type": "display_data"
    },
    {
     "name": "stderr",
     "output_type": "stream",
     "text": [
      "/srv/conda/envs/notebook/lib/python3.12/site-packages/torchmetrics/utilities/prints.py:43: UserWarning: The variance of predictions or target is close to zero. This can cause instability in Pearson correlationcoefficient, leading to wrong results. Consider re-scaling the input if possible or computing using alarger dtype (currently using torch.float32).\n",
      "  warnings.warn(*args, **kwargs)  # noqa: B028\n"
     ]
    },
    {
     "data": {
      "application/vnd.jupyter.widget-view+json": {
       "model_id": "8adec84417c64bc7b7a52171195e00c8",
       "version_major": 2,
       "version_minor": 0
      },
      "text/plain": [
       "Validation loss:   0%|          | 0/774 [00:00<?, ?it/s]"
      ]
     },
     "metadata": {},
     "output_type": "display_data"
    },
    {
     "name": "stdout",
     "output_type": "stream",
     "text": [
      "Epoch 17 of 30\n",
      "                                       Key               Value\n",
      "0                             LearningRate               0.001\n",
      "1                               Loss/train            0.000054\n",
      "2                               Loss/valid  tensor(2.0720e-05)\n",
      "3                MeanAbsoluteError()/train        0.0024889277\n",
      "4                MeanAbsoluteError()/valid        0.0014006374\n",
      "5                 MeanSquaredError()/train        5.448434e-05\n",
      "6                 MeanSquaredError()/valid       2.0718078e-05\n",
      "7   NormalizedRootMeanSquaredError()/train           2.0378673\n",
      "8   NormalizedRootMeanSquaredError()/valid           2.6117606\n",
      "9                  PearsonCorrCoef()/train          0.81865937\n",
      "10                 PearsonCorrCoef()/valid           0.6481126\n",
      "\n"
     ]
    },
    {
     "data": {
      "application/vnd.jupyter.widget-view+json": {
       "model_id": "755527522cad4eb88023c0d1c0336e37",
       "version_major": 2,
       "version_minor": 0
      },
      "text/plain": [
       "Training loss:   0%|          | 0/1478 [00:00<?, ?it/s]"
      ]
     },
     "metadata": {},
     "output_type": "display_data"
    },
    {
     "name": "stderr",
     "output_type": "stream",
     "text": [
      "/srv/conda/envs/notebook/lib/python3.12/site-packages/torchmetrics/utilities/prints.py:43: UserWarning: The variance of predictions or target is close to zero. This can cause instability in Pearson correlationcoefficient, leading to wrong results. Consider re-scaling the input if possible or computing using alarger dtype (currently using torch.float32).\n",
      "  warnings.warn(*args, **kwargs)  # noqa: B028\n"
     ]
    },
    {
     "data": {
      "application/vnd.jupyter.widget-view+json": {
       "model_id": "cfde906e1bda4c938cfad0925c75f04b",
       "version_major": 2,
       "version_minor": 0
      },
      "text/plain": [
       "Validation loss:   0%|          | 0/774 [00:00<?, ?it/s]"
      ]
     },
     "metadata": {},
     "output_type": "display_data"
    },
    {
     "name": "stdout",
     "output_type": "stream",
     "text": [
      "Epoch 18 of 30\n",
      "                                       Key               Value\n",
      "0                             LearningRate               0.001\n",
      "1                               Loss/train            0.000054\n",
      "2                               Loss/valid  tensor(2.0659e-05)\n",
      "3                MeanAbsoluteError()/train        0.0024824298\n",
      "4                MeanAbsoluteError()/valid        0.0014312182\n",
      "5                 MeanSquaredError()/train        5.423578e-05\n",
      "6                 MeanSquaredError()/valid       2.0657228e-05\n",
      "7   NormalizedRootMeanSquaredError()/train           2.0333724\n",
      "8   NormalizedRootMeanSquaredError()/valid            2.608352\n",
      "9                  PearsonCorrCoef()/train           0.8195239\n",
      "10                 PearsonCorrCoef()/valid           0.6474042\n",
      "\n"
     ]
    },
    {
     "data": {
      "application/vnd.jupyter.widget-view+json": {
       "model_id": "28d87573a89f475fad8ea83b23b0a6c8",
       "version_major": 2,
       "version_minor": 0
      },
      "text/plain": [
       "Training loss:   0%|          | 0/1478 [00:00<?, ?it/s]"
      ]
     },
     "metadata": {},
     "output_type": "display_data"
    },
    {
     "name": "stderr",
     "output_type": "stream",
     "text": [
      "/srv/conda/envs/notebook/lib/python3.12/site-packages/torchmetrics/utilities/prints.py:43: UserWarning: The variance of predictions or target is close to zero. This can cause instability in Pearson correlationcoefficient, leading to wrong results. Consider re-scaling the input if possible or computing using alarger dtype (currently using torch.float32).\n",
      "  warnings.warn(*args, **kwargs)  # noqa: B028\n"
     ]
    },
    {
     "data": {
      "application/vnd.jupyter.widget-view+json": {
       "model_id": "d80d2336f6b349168a80ff2e5b88ce44",
       "version_major": 2,
       "version_minor": 0
      },
      "text/plain": [
       "Validation loss:   0%|          | 0/774 [00:00<?, ?it/s]"
      ]
     },
     "metadata": {},
     "output_type": "display_data"
    },
    {
     "name": "stdout",
     "output_type": "stream",
     "text": [
      "Epoch 19 of 30\n",
      "                                       Key               Value\n",
      "0                             LearningRate               0.001\n",
      "1                               Loss/train            0.000054\n",
      "2                               Loss/valid  tensor(2.1036e-05)\n",
      "3                MeanAbsoluteError()/train        0.0024784838\n",
      "4                MeanAbsoluteError()/valid        0.0014140647\n",
      "5                 MeanSquaredError()/train        5.417087e-05\n",
      "6                 MeanSquaredError()/valid       2.1032802e-05\n",
      "7   NormalizedRootMeanSquaredError()/train           2.0324721\n",
      "8   NormalizedRootMeanSquaredError()/valid            2.631383\n",
      "9                  PearsonCorrCoef()/train           0.8196674\n",
      "10                 PearsonCorrCoef()/valid           0.6418915\n",
      "\n"
     ]
    },
    {
     "data": {
      "application/vnd.jupyter.widget-view+json": {
       "model_id": "3300e7c638d349fe9a97e2b7dbcc156e",
       "version_major": 2,
       "version_minor": 0
      },
      "text/plain": [
       "Training loss:   0%|          | 0/1478 [00:00<?, ?it/s]"
      ]
     },
     "metadata": {},
     "output_type": "display_data"
    },
    {
     "name": "stderr",
     "output_type": "stream",
     "text": [
      "/srv/conda/envs/notebook/lib/python3.12/site-packages/torchmetrics/utilities/prints.py:43: UserWarning: The variance of predictions or target is close to zero. This can cause instability in Pearson correlationcoefficient, leading to wrong results. Consider re-scaling the input if possible or computing using alarger dtype (currently using torch.float32).\n",
      "  warnings.warn(*args, **kwargs)  # noqa: B028\n"
     ]
    },
    {
     "data": {
      "application/vnd.jupyter.widget-view+json": {
       "model_id": "de1cf328835d4736ba94e5404beaa7e6",
       "version_major": 2,
       "version_minor": 0
      },
      "text/plain": [
       "Validation loss:   0%|          | 0/774 [00:00<?, ?it/s]"
      ]
     },
     "metadata": {},
     "output_type": "display_data"
    },
    {
     "name": "stdout",
     "output_type": "stream",
     "text": [
      "Epoch 20 of 30\n",
      "                                       Key               Value\n",
      "0                             LearningRate               0.001\n",
      "1                               Loss/train            0.000054\n",
      "2                               Loss/valid  tensor(2.0830e-05)\n",
      "3                MeanAbsoluteError()/train        0.0024746447\n",
      "4                MeanAbsoluteError()/valid         0.001401925\n",
      "5                 MeanSquaredError()/train       5.4024535e-05\n",
      "6                 MeanSquaredError()/valid       2.0829013e-05\n",
      "7   NormalizedRootMeanSquaredError()/train           2.0296884\n",
      "8   NormalizedRootMeanSquaredError()/valid           2.6187572\n",
      "9                  PearsonCorrCoef()/train          0.82030225\n",
      "10                 PearsonCorrCoef()/valid           0.6449993\n",
      "\n"
     ]
    },
    {
     "data": {
      "application/vnd.jupyter.widget-view+json": {
       "model_id": "f1ded2e0e08d4e7bb4c5bb4fe85d73a2",
       "version_major": 2,
       "version_minor": 0
      },
      "text/plain": [
       "Training loss:   0%|          | 0/1478 [00:00<?, ?it/s]"
      ]
     },
     "metadata": {},
     "output_type": "display_data"
    },
    {
     "name": "stderr",
     "output_type": "stream",
     "text": [
      "/srv/conda/envs/notebook/lib/python3.12/site-packages/torchmetrics/utilities/prints.py:43: UserWarning: The variance of predictions or target is close to zero. This can cause instability in Pearson correlationcoefficient, leading to wrong results. Consider re-scaling the input if possible or computing using alarger dtype (currently using torch.float32).\n",
      "  warnings.warn(*args, **kwargs)  # noqa: B028\n"
     ]
    },
    {
     "data": {
      "application/vnd.jupyter.widget-view+json": {
       "model_id": "751a193909304bfdb42dbffcbe115360",
       "version_major": 2,
       "version_minor": 0
      },
      "text/plain": [
       "Validation loss:   0%|          | 0/774 [00:00<?, ?it/s]"
      ]
     },
     "metadata": {},
     "output_type": "display_data"
    },
    {
     "name": "stdout",
     "output_type": "stream",
     "text": [
      "Epoch 21 of 30\n",
      "                                       Key               Value\n",
      "0                             LearningRate               0.001\n",
      "1                               Loss/train            0.000054\n",
      "2                               Loss/valid  tensor(2.0877e-05)\n",
      "3                MeanAbsoluteError()/train         0.002476638\n",
      "4                MeanAbsoluteError()/valid        0.0013986152\n",
      "5                 MeanSquaredError()/train       5.4160206e-05\n",
      "6                 MeanSquaredError()/valid       2.0876681e-05\n",
      "7   NormalizedRootMeanSquaredError()/train           2.0319283\n",
      "8   NormalizedRootMeanSquaredError()/valid             2.62174\n",
      "9                  PearsonCorrCoef()/train           0.8197995\n",
      "10                 PearsonCorrCoef()/valid           0.6448227\n",
      "\n"
     ]
    },
    {
     "data": {
      "application/vnd.jupyter.widget-view+json": {
       "model_id": "8329878443b248349548b55b49ee7ee4",
       "version_major": 2,
       "version_minor": 0
      },
      "text/plain": [
       "Training loss:   0%|          | 0/1478 [00:00<?, ?it/s]"
      ]
     },
     "metadata": {},
     "output_type": "display_data"
    },
    {
     "name": "stderr",
     "output_type": "stream",
     "text": [
      "/srv/conda/envs/notebook/lib/python3.12/site-packages/torchmetrics/utilities/prints.py:43: UserWarning: The variance of predictions or target is close to zero. This can cause instability in Pearson correlationcoefficient, leading to wrong results. Consider re-scaling the input if possible or computing using alarger dtype (currently using torch.float32).\n",
      "  warnings.warn(*args, **kwargs)  # noqa: B028\n"
     ]
    },
    {
     "data": {
      "application/vnd.jupyter.widget-view+json": {
       "model_id": "9973493d5c204611b3843a7ac574a105",
       "version_major": 2,
       "version_minor": 0
      },
      "text/plain": [
       "Validation loss:   0%|          | 0/774 [00:00<?, ?it/s]"
      ]
     },
     "metadata": {},
     "output_type": "display_data"
    },
    {
     "name": "stdout",
     "output_type": "stream",
     "text": [
      "Epoch 22 of 30\n",
      "                                       Key               Value\n",
      "0                             LearningRate              0.0002\n",
      "1                               Loss/train            0.000054\n",
      "2                               Loss/valid  tensor(2.1004e-05)\n",
      "3                MeanAbsoluteError()/train         0.002472259\n",
      "4                MeanAbsoluteError()/valid        0.0013889929\n",
      "5                 MeanSquaredError()/train       5.3725973e-05\n",
      "6                 MeanSquaredError()/valid       2.1004302e-05\n",
      "7   NormalizedRootMeanSquaredError()/train           2.0236197\n",
      "8   NormalizedRootMeanSquaredError()/valid           2.6297138\n",
      "9                  PearsonCorrCoef()/train          0.82141715\n",
      "10                 PearsonCorrCoef()/valid           0.6432134\n",
      "\n"
     ]
    },
    {
     "data": {
      "application/vnd.jupyter.widget-view+json": {
       "model_id": "b04bef001c814f129f40a0fa192a977e",
       "version_major": 2,
       "version_minor": 0
      },
      "text/plain": [
       "Training loss:   0%|          | 0/1478 [00:00<?, ?it/s]"
      ]
     },
     "metadata": {},
     "output_type": "display_data"
    },
    {
     "name": "stderr",
     "output_type": "stream",
     "text": [
      "/srv/conda/envs/notebook/lib/python3.12/site-packages/torchmetrics/utilities/prints.py:43: UserWarning: The variance of predictions or target is close to zero. This can cause instability in Pearson correlationcoefficient, leading to wrong results. Consider re-scaling the input if possible or computing using alarger dtype (currently using torch.float32).\n",
      "  warnings.warn(*args, **kwargs)  # noqa: B028\n"
     ]
    },
    {
     "data": {
      "application/vnd.jupyter.widget-view+json": {
       "model_id": "54855ca6bcf840c78374c389ed2ae75c",
       "version_major": 2,
       "version_minor": 0
      },
      "text/plain": [
       "Validation loss:   0%|          | 0/774 [00:00<?, ?it/s]"
      ]
     },
     "metadata": {},
     "output_type": "display_data"
    },
    {
     "name": "stdout",
     "output_type": "stream",
     "text": [
      "Epoch 23 of 30\n",
      "                                       Key               Value\n",
      "0                             LearningRate              0.0002\n",
      "1                               Loss/train            0.000053\n",
      "2                               Loss/valid  tensor(2.0908e-05)\n",
      "3                MeanAbsoluteError()/train        0.0024676458\n",
      "4                MeanAbsoluteError()/valid        0.0014042613\n",
      "5                 MeanSquaredError()/train        5.337241e-05\n",
      "6                 MeanSquaredError()/valid       2.0904641e-05\n",
      "7   NormalizedRootMeanSquaredError()/train           2.0171053\n",
      "8   NormalizedRootMeanSquaredError()/valid           2.6236749\n",
      "9                  PearsonCorrCoef()/train          0.82271844\n",
      "10                 PearsonCorrCoef()/valid           0.6439468\n",
      "\n"
     ]
    },
    {
     "data": {
      "application/vnd.jupyter.widget-view+json": {
       "model_id": "aa076ad8114643f684d172db41ad11a1",
       "version_major": 2,
       "version_minor": 0
      },
      "text/plain": [
       "Training loss:   0%|          | 0/1478 [00:00<?, ?it/s]"
      ]
     },
     "metadata": {},
     "output_type": "display_data"
    },
    {
     "name": "stderr",
     "output_type": "stream",
     "text": [
      "/srv/conda/envs/notebook/lib/python3.12/site-packages/torchmetrics/utilities/prints.py:43: UserWarning: The variance of predictions or target is close to zero. This can cause instability in Pearson correlationcoefficient, leading to wrong results. Consider re-scaling the input if possible or computing using alarger dtype (currently using torch.float32).\n",
      "  warnings.warn(*args, **kwargs)  # noqa: B028\n"
     ]
    },
    {
     "data": {
      "application/vnd.jupyter.widget-view+json": {
       "model_id": "337e5bf568d84bbc94bafb68dc914f13",
       "version_major": 2,
       "version_minor": 0
      },
      "text/plain": [
       "Validation loss:   0%|          | 0/774 [00:00<?, ?it/s]"
      ]
     },
     "metadata": {},
     "output_type": "display_data"
    },
    {
     "name": "stdout",
     "output_type": "stream",
     "text": [
      "Epoch 24 of 30\n",
      "                                       Key               Value\n",
      "0                             LearningRate              0.0002\n",
      "1                               Loss/train            0.000054\n",
      "2                               Loss/valid  tensor(2.0923e-05)\n",
      "3                MeanAbsoluteError()/train        0.0024673168\n",
      "4                MeanAbsoluteError()/valid        0.0014025664\n",
      "5                 MeanSquaredError()/train        5.354119e-05\n",
      "6                 MeanSquaredError()/valid        2.091759e-05\n",
      "7   NormalizedRootMeanSquaredError()/train           2.0201726\n",
      "8   NormalizedRootMeanSquaredError()/valid              2.6243\n",
      "9                  PearsonCorrCoef()/train           0.8220952\n",
      "10                 PearsonCorrCoef()/valid           0.6435994\n",
      "\n"
     ]
    }
   ],
   "source": [
    "import datetime\n",
    "\n",
    "# Build trainer\n",
    "loss = torch.nn.MSELoss()\n",
    "opt  = torch.optim.Adam(m.parameters(), lr=0.005)\n",
    "scheduler = torch.optim.lr_scheduler.ReduceLROnPlateau(opt, patience=3, factor=0.2, threshold=0.01)\n",
    "metrics = util.training.get_regr_metrics()\n",
    "\n",
    "today = datetime.datetime.now().strftime(\"%m%d%Y\")\n",
    "model_name = f\"{today}_convlstm__4band__8_8_3__ewma\"\n",
    "logdir = os.path.join(\"logs\", model_name)\n",
    "print(\"Logging in\", logdir)\n",
    "\n",
    "# Remove existing logs if present\n",
    "if os.path.exists(logdir):\n",
    "    util.training.remove_log(logdir)\n",
    "\n",
    "trainer = Trainer(\n",
    "    m, opt, scheduler, loss, train_loader, valid_loader,\n",
    "    metrics=metrics, \n",
    "    n_epochs=30,\n",
    "    tensorboard_log=os.path.join(logdir, \"history\"),\n",
    "    model_log=os.path.join(logdir, \"model.pth\"),\n",
    "    defn_log=os.path.join(logdir, \"model_definition.txt\"),\n",
    "    verbose=True,\n",
    "    stop_patience=5,\n",
    "    rel_improve=0.01,\n",
    ")\n",
    "\n",
    "trainer.train()"
   ]
  },
  {
   "cell_type": "code",
   "execution_count": 31,
   "id": "1938313e-4026-40ec-bd00-c7c3b08ff454",
   "metadata": {},
   "outputs": [
    {
     "data": {
      "text/plain": [
       "(<Figure size 640x480 with 6 Axes>,\n",
       " <Axes: title={'center': 'NormalizedRootMeanSquaredError()'}>)"
      ]
     },
     "execution_count": 31,
     "metadata": {},
     "output_type": "execute_result"
    },
    {
     "data": {
      "image/png": "[encoded data removed]",
      "text/plain": [
       "<Figure size 640x480 with 6 Axes>"
      ]
     },
     "metadata": {},
     "output_type": "display_data"
    }
   ],
   "source": [
    "util.plot.plot_all_scalars_in_run(f\"logs/{model_name}/history\")"
   ]
  },
  {
   "cell_type": "markdown",
   "id": "f8375ae2-7e29-4055-a8a1-b97bfeaa8ed6",
   "metadata": {},
   "source": [
    "Calculate performance on test set"
   ]
  },
  {
   "cell_type": "code",
   "execution_count": 32,
   "id": "150f5993-3ce6-485f-ba73-3a653ddb3263",
   "metadata": {},
   "outputs": [
    {
     "name": "stderr",
     "output_type": "stream",
     "text": [
      "/srv/conda/envs/notebook/lib/python3.12/site-packages/torchmetrics/utilities/prints.py:43: UserWarning: The variance of predictions or target is close to zero. This can cause instability in Pearson correlationcoefficient, leading to wrong results. Consider re-scaling the input if possible or computing using alarger dtype (currently using torch.float32).\n",
      "  warnings.warn(*args, **kwargs)  # noqa: B028\n",
      "                                                   "
     ]
    },
    {
     "name": "stdout",
     "output_type": "stream",
     "text": [
      "NormalizedRootMeanSquaredError(): 1.921\n",
      "PearsonCorrCoef(): 0.812\n",
      "MeanAbsoluteError(): 0.001\n",
      "MeanSquaredError(): 0.000\n"
     ]
    },
    {
     "name": "stderr",
     "output_type": "stream",
     "text": []
    }
   ],
   "source": [
    "from tqdm import tqdm\n",
    "import pandas as pd\n",
    "\n",
    "test_metrics = util.training.get_regr_metrics()\n",
    "\n",
    "m.eval()\n",
    "with torch.no_grad():\n",
    "    for (X, y) in tqdm(test_loader, leave=False):\n",
    "        y_hat = m(X)\n",
    "        mask = ~torch.isnan(y)\n",
    "        \n",
    "        for metric in test_metrics:\n",
    "            metric(y_hat[mask].view(-1), y[mask].view(-1))\n",
    "\n",
    "for metric in test_metrics:\n",
    "    print(f\"{str(metric)}: {metric.compute():.3f}\")"
   ]
  },
  {
   "cell_type": "code",
   "execution_count": 33,
   "id": "1319b9f9-4546-459b-8aef-524351c59a8a",
   "metadata": {},
   "outputs": [],
   "source": [
    "train_metrics = util.training.get_final_metrics(f\"logs/{model_name}/history\")"
   ]
  },
  {
   "cell_type": "code",
   "execution_count": 34,
   "id": "0da917f5-a2a5-45de-980a-5466b49542e5",
   "metadata": {},
   "outputs": [
    {
     "data": {
      "text/plain": [
       "{'NormalizedRootMeanSquaredError()/train': 2.020172595977783,\n",
       " 'PearsonCorrCoef()/train': 0.8220952153205872,\n",
       " 'MeanAbsoluteError()/train': 0.002467316808179021,\n",
       " 'MeanSquaredError()/train': 5.3541189117822796e-05,\n",
       " 'NormalizedRootMeanSquaredError()/valid': 2.624300003051758,\n",
       " 'PearsonCorrCoef()/valid': 0.6435993909835815,\n",
       " 'MeanAbsoluteError()/valid': 0.0014025664422661066,\n",
       " 'MeanSquaredError()/valid': 2.0917590518365614e-05,\n",
       " 'Loss/train': 5.354733002604917e-05,\n",
       " 'Loss/valid': 2.092342037940398e-05,\n",
       " 'LearningRate': 0.00019999999494757503}"
      ]
     },
     "execution_count": 34,
     "metadata": {},
     "output_type": "execute_result"
    }
   ],
   "source": [
    "train_metrics"
   ]
  },
  {
   "cell_type": "code",
   "execution_count": 35,
   "id": "6a4c9379-0b24-42e7-9dcc-308e0e064e5f",
   "metadata": {},
   "outputs": [
    {
     "data": {
      "text/plain": [
       "<matplotlib.legend.Legend at 0x7ff0f627c080>"
      ]
     },
     "execution_count": 35,
     "metadata": {},
     "output_type": "execute_result"
    },
    {
     "data": {
      "image/png": "[encoded data removed]",
      "text/plain": [
       "<Figure size 1100x400 with 3 Axes>"
      ]
     },
     "metadata": {},
     "output_type": "display_data"
    }
   ],
   "source": [
    "from matplotlib.patches import Rectangle\n",
    "\n",
    "fig, (ax1, ax2, ax3) = plt.subplots(1, 3, figsize=(11, 4))\n",
    "\n",
    "nrmse = \"NormalizedRootMeanSquaredError()\"\n",
    "mae = \"MeanAbsoluteError()\"\n",
    "rho = \"PearsonCorrCoef()\"\n",
    "\n",
    "label = [\"Train\", \"Valid\", \"Test\"]\n",
    "color = [\"#2ca25f\", \"#2b8cbe\", \"#f03b20\"]\n",
    "\n",
    "nrmse_values = [\n",
    "    train_metrics[f\"{nrmse}/train\"],\n",
    "    train_metrics[f\"{nrmse}/valid\"], \n",
    "    test_metrics[0].compute().cpu(), \n",
    "]\n",
    "r2_values = [\n",
    "    train_metrics[f\"{rho}/train\"], \n",
    "    train_metrics[f\"{rho}/valid\"], \n",
    "    test_metrics[1].compute().cpu(), \n",
    "]\n",
    "mae_values = [\n",
    "    train_metrics[f\"{mae}/train\"], \n",
    "    train_metrics[f\"{mae}/valid\"], \n",
    "    test_metrics[2].compute().cpu(), \n",
    "]\n",
    "x = [0, 1, 2]\n",
    "\n",
    "ax1.set_title(\"Normalized RMSE (↓)\")\n",
    "b = ax1.bar(x, nrmse_values, label=label, color=color)\n",
    "ax1.bar_label(b, fmt=\"%.2f\")\n",
    "ax1.xaxis.set_visible(False)\n",
    "ax1.yaxis.set_visible(False)\n",
    "\n",
    "ax3.set_title(\"Pearson's r (↑)\")\n",
    "b = ax3.bar(x, r2_values, label=label, color=color)\n",
    "ax3.bar_label(b, fmt=\"%.2f\")\n",
    "ax3.xaxis.set_visible(False)\n",
    "ax3.yaxis.set_visible(False)\n",
    "# ax2.legend()\n",
    "\n",
    "ax2.set_title(\"Mean Absolute Error (↓)\")\n",
    "b = ax2.bar(x, mae_values, label=label, color=color)\n",
    "ax2.bar_label(b, fmt=\"%.3f\")\n",
    "ax2.xaxis.set_visible(False)\n",
    "ax2.yaxis.set_visible(False)\n",
    "# ax2.legend()\n",
    "\n",
    "handles, labels = ax1.get_legend_handles_labels()\n",
    "\n",
    "plt.legend(handles, labels, ncol=3, loc = 'lower center', bbox_to_anchor = (0, -0.1, 1, 1),\n",
    "           bbox_transform = plt.gcf().transFigure)\n",
    "# fig.tight_layout()"
   ]
  },
  {
   "cell_type": "markdown",
   "id": "98715643-3d82-4794-9b2d-0dd51ad6f1b1",
   "metadata": {},
   "source": [
    "Prediction map"
   ]
  },
  {
   "cell_type": "code",
   "execution_count": 36,
   "id": "11458495-ed9b-4491-a3c3-20118a389d4c",
   "metadata": {},
   "outputs": [
    {
     "name": "stdout",
     "output_type": "stream",
     "text": [
      "63140\n"
     ]
    }
   ],
   "source": [
    "ds_infer = ds.sel(time=np.concatenate([valid_years, test_years]))\n",
    "wds_infer = util.datasets.WindowXarrayDataset(\n",
    "    ds_infer, window, \n",
    "    mask=ds_infer.sel(band=\"mortality\"), \n",
    "    na_thresh=0.5,\n",
    "    downsample_step=10\n",
    ")\n",
    "print(len(wds_infer))"
   ]
  },
  {
   "cell_type": "code",
   "execution_count": 37,
   "id": "0085097a-506c-43b0-b9ea-3b475d39488c",
   "metadata": {},
   "outputs": [],
   "source": [
    "ch_means = m.convlstm.bn.running_mean.unsqueeze(-1).unsqueeze(-1)\n",
    "\n",
    "def inference_collator(patch):\n",
    "    X = torch.tensor(\n",
    "            np.squeeze(patch.values[:-1, input_inds, :, :]),\n",
    "            dtype=dtype,\n",
    "            device=device\n",
    "        ).unsqueeze(0)\n",
    "\n",
    "    # Replace nan cells with the channel mean\n",
    "    X = torch.nan_to_num(X)\n",
    "    X += ch_means * torch.isnan(X)\n",
    "    return X"
   ]
  },
  {
   "cell_type": "code",
   "execution_count": 38,
   "id": "19dc44d9-3848-43a0-bc4b-33a0e57480d5",
   "metadata": {},
   "outputs": [
    {
     "name": "stderr",
     "output_type": "stream",
     "text": [
      "100%|██████████| 63140/63140 [02:54<00:00, 361.51it/s]\n"
     ]
    }
   ],
   "source": [
    "out_arr = np.zeros(ds_infer.isel(band=0).shape)\n",
    "out_n   = np.zeros(out_arr.shape)\n",
    "\n",
    "m.eval()\n",
    "with torch.no_grad():\n",
    "    for i in tqdm(range(len(wds_infer))):\n",
    "        input_tensor = inference_collator(wds_infer[i])\n",
    "        t = wds_infer.valid_indices[\"time\"][i]\n",
    "        y = wds_infer.valid_indices[\"y\"][i]\n",
    "        x = wds_infer.valid_indices[\"x\"][i]\n",
    "    \n",
    "        output_tensor = m(input_tensor).detach().cpu().numpy()\n",
    "    \n",
    "        out_arr[t, y-window_y_size+1:y+1, x-window_x_size+1:x+1] += np.log10(output_tensor[0, ...])\n",
    "        out_n[t, y-window_y_size+1:y+1, x-window_x_size+1:x+1] += 1"
   ]
  },
  {
   "cell_type": "code",
   "execution_count": 39,
   "id": "1394a610-5011-4fb3-9672-c6b3c42b111d",
   "metadata": {},
   "outputs": [
    {
     "name": "stderr",
     "output_type": "stream",
     "text": [
      "/tmp/ipykernel_109/2143291068.py:1: RuntimeWarning: invalid value encountered in divide\n",
      "  out_avg = out_arr / out_n\n"
     ]
    }
   ],
   "source": [
    "out_avg = out_arr / out_n\n",
    "out_arr[out_n == 0] = np.nan\n",
    "out_pct = 10 ** out_avg\n",
    "\n",
    "out_da = xr.DataArray(\n",
    "    data=out_pct,\n",
    "    dims=[\"time\", \"y\", \"x\"],\n",
    "    coords=dict(\n",
    "        time=ds_infer.time,\n",
    "        y=ds_infer.y,\n",
    "        x=ds_infer.x\n",
    "    )\n",
    ")"
   ]
  },
  {
   "cell_type": "code",
   "execution_count": 42,
   "id": "3353862f-5f3f-4d0c-ac81-47de38b3af01",
   "metadata": {},
   "outputs": [
    {
     "data": {
      "image/png": "[encoded data removed]",
      "text/plain": [
       "<Figure size 1100x550 with 5 Axes>"
      ]
     },
     "execution_count": 42,
     "metadata": {},
     "output_type": "execute_result"
    }
   ],
   "source": [
    "from matplotlib.gridspec import GridSpec\n",
    "import matplotlib.patheffects as pe\n",
    "import geopandas as gpd\n",
    "from cartopy import crs as ccrs\n",
    "from cartopy import feature as cfeature\n",
    "import shapely\n",
    "from shapely.geometry import box\n",
    "\n",
    "regions = gpd.read_file(\"data_in/regions_simple2.geojson\")\n",
    "\n",
    "fig = plt.Figure(layout=\"constrained\", figsize=(11, 5.5))\n",
    "gs = GridSpec(2, 3, figure=fig, width_ratios=[2, 1, 1])\n",
    "\n",
    "projection = ccrs.AlbersEqualArea(central_latitude=42, central_longitude=-110)\n",
    "map_ax = fig.add_subplot(gs[:, 0], projection=projection)\n",
    "\n",
    "# Make the map\n",
    "map_ax.coastlines(linewidth=0.5)\n",
    "\n",
    "# Expand the bounding box a little so that we don't crop too much\n",
    "mycrs = ccrs.epsg(\"3857\")\n",
    "bbox = box(*regions.total_bounds)\n",
    "bbox = bbox.buffer(5e5) # meters\n",
    "\n",
    "minx, miny, maxx, maxy = shapely.bounds(bbox)\n",
    "\n",
    "# Add region geometries\n",
    "for i in range(regions.shape[0]):\n",
    "    geom = regions.geometry[i]\n",
    "    map_ax.add_geometries(geom, crs=mycrs)\n",
    "    map_ax.text(\n",
    "        geom.centroid.x, geom.centroid.y, regions.name[i], \n",
    "        transform=mycrs,\n",
    "        horizontalalignment=\"center\",\n",
    "        path_effects=[pe.withStroke(linewidth=4, foreground=\"white\")]\n",
    "    )\n",
    "\n",
    "map_ax.add_feature(cfeature.STATES, linestyle=':', edgecolor='black', linewidth=0.5)\n",
    "map_ax.set_extent((minx, maxx, miny, maxy), crs=mycrs)\n",
    "\n",
    "axes = []\n",
    "\n",
    "for i, (row, col) in enumerate(zip((1, 0, 1, 0), (2, 1, 1, 2))):\n",
    "    ax = fig.add_subplot(gs[row, col])\n",
    "    axes.append(ax)\n",
    "    geom = regions.geometry[i]\n",
    "    # Mean of geometric mean - no transformation necessary imo\n",
    "    model = out_da.rio.write_crs(3857).rio.clip([geom]).mean(dim=[\"x\", \"y\"], skipna=True).values * 100\n",
    "    # Maybe do a geometric mean here?\n",
    "    data  = ds_infer.sel(band=\"mort_ewma\").rio.write_crs(3857).rio.clip([geom]).mean(dim=[\"x\", \"y\"], skipna=True).values\n",
    "\n",
    "    ax.plot(ds_infer.time, data, label=\"Actual\", marker=\".\")\n",
    "    ax.plot(ds_infer.time, model, label=\"Model\", marker=\".\")\n",
    "    ax.set_ylim(0, 2)\n",
    "    ax.set_title(regions.name[i])\n",
    "    ax.grid()\n",
    "\n",
    "axes[1].legend()\n",
    "\n",
    "fig"
   ]
  }
 ],
 "metadata": {
  "kernelspec": {
   "display_name": "Python 3 (ipykernel)",
   "language": "python",
   "name": "python3"
  },
  "language_info": {
   "codemirror_mode": {
    "name": "ipython",
    "version": 3
   },
   "file_extension": ".py",
   "mimetype": "text/x-python",
   "name": "python",
   "nbconvert_exporter": "python",
   "pygments_lexer": "ipython3",
   "version": "3.12.8"
  }
 },
 "nbformat": 4,
 "nbformat_minor": 5
}
