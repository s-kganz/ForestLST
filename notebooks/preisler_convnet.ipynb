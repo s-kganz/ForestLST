{
 "cells": [
  {
   "cell_type": "code",
   "execution_count": 1,
   "id": "821cfc81-26f3-4986-b505-ac71c4c8504e",
   "metadata": {},
   "outputs": [],
   "source": [
    "%%capture\n",
    "!pip install xbatcher tensorboard imbalanced-learn rioxarray"
   ]
  },
  {
   "cell_type": "code",
   "execution_count": 2,
   "id": "18b87975-11c4-48a4-a241-bbb81d39361b",
   "metadata": {},
   "outputs": [
    {
     "name": "stdout",
     "output_type": "stream",
     "text": [
      "Using device: cuda\n",
      "\n",
      "Tesla T4\n",
      "Memory Usage:\n",
      "Allocated: 0.0 GB\n",
      "Cached:    0.0 GB\n"
     ]
    }
   ],
   "source": [
    "import os\n",
    "if 'notebooks' in os.getcwd():\n",
    "    os.chdir(\"..\")\n",
    "\n",
    "import util\n",
    "import torch\n",
    "import xarray as xr\n",
    "import numpy as np\n",
    "import matplotlib.pyplot as plt\n",
    "from importlib import reload\n",
    "\n",
    "# If we have gpu available, use it\n",
    "device = torch.device('cuda' if torch.cuda.is_available() else 'cpu')\n",
    "print('Using device:', device)\n",
    "print()\n",
    "torch.set_default_device(device)\n",
    "\n",
    "#Additional Info when using cuda\n",
    "if device.type == 'cuda':\n",
    "    print(torch.cuda.get_device_name(0))\n",
    "    print('Memory Usage:')\n",
    "    print('Allocated:', round(torch.cuda.memory_allocated(0)/1024**3,1), 'GB')\n",
    "    print('Cached:   ', round(torch.cuda.memory_reserved(0)/1024**3,1), 'GB')"
   ]
  },
  {
   "cell_type": "markdown",
   "id": "d83cb7ab-19ef-459d-95c6-53756a192414",
   "metadata": {},
   "source": [
    "Prepare data"
   ]
  },
  {
   "cell_type": "code",
   "execution_count": 3,
   "id": "deaecc90-a2aa-439a-bcd7-64089027c664",
   "metadata": {},
   "outputs": [],
   "source": [
    "ds = xr.open_dataset(\"data_working/westmort.nc\")\\\n",
    "    .squeeze(drop=True)\\\n",
    "    .drop_vars(\"spatial_ref\")"
   ]
  },
  {
   "cell_type": "code",
   "execution_count": 4,
   "id": "3a4942f6-503f-4852-af61-2c795134630a",
   "metadata": {},
   "outputs": [],
   "source": [
    "# Use EWMA to smooth mortality observations\n",
    "ds[\"mort_ewma\"] = xr.apply_ufunc(\n",
    "    util.manip.numpy_ewma_vectorized,\n",
    "    ds.mortality,\n",
    "    input_core_dims=[[\"time\"]],\n",
    "    output_core_dims=[[\"time\"]],\n",
    "    vectorize=True,\n",
    "    kwargs=dict(window=3)\n",
    ")\n",
    "\n",
    "ds[\"mort_ewma_diff\"] = ds[\"mort_ewma\"].diff(dim=\"time\")"
   ]
  },
  {
   "cell_type": "code",
   "execution_count": 5,
   "id": "feaef501-fc24-46dd-adbc-9980968c4035",
   "metadata": {},
   "outputs": [],
   "source": [
    "# Calculate total basal area based on all the genus rasters\n",
    "ba_vars = [\"abies\", \"picea\", \"populus\", \"tsuga\", \"pseudotsuga\"]\n",
    "ds[\"forest_ba\"] = ds[ba_vars].to_stacked_array(\"band\", sample_dims=[\"x\", \"y\", \"time\"]).sum(dim=\"band\")"
   ]
  },
  {
   "cell_type": "code",
   "execution_count": 6,
   "id": "39008809-12c1-45f9-a8d2-058214e2d8f2",
   "metadata": {},
   "outputs": [
    {
     "data": {
      "text/html": [
       "<div><svg style=\"position: absolute; width: 0; height: 0; overflow: hidden\">\n",
       "<defs>\n",
       "<symbol id=\"icon-database\" viewBox=\"0 0 32 32\">\n",
       "<path d=\"M16 0c-8.837 0-16 2.239-16 5v4c0 2.761 7.163 5 16 5s16-2.239 16-5v-4c0-2.761-7.163-5-16-5z\"></path>\n",
       "<path d=\"M16 17c-8.837 0-16-2.239-16-5v6c0 2.761 7.163 5 16 5s16-2.239 16-5v-6c0 2.761-7.163 5-16 5z\"></path>\n",
       "<path d=\"M16 26c-8.837 0-16-2.239-16-5v6c0 2.761 7.163 5 16 5s16-2.239 16-5v-6c0 2.761-7.163 5-16 5z\"></path>\n",
       "</symbol>\n",
       "<symbol id=\"icon-file-text2\" viewBox=\"0 0 32 32\">\n",
       "<path d=\"M28.681 7.159c-0.694-0.947-1.662-2.053-2.724-3.116s-2.169-2.030-3.116-2.724c-1.612-1.182-2.393-1.319-2.841-1.319h-15.5c-1.378 0-2.5 1.121-2.5 2.5v27c0 1.378 1.122 2.5 2.5 2.5h23c1.378 0 2.5-1.122 2.5-2.5v-19.5c0-0.448-0.137-1.23-1.319-2.841zM24.543 5.457c0.959 0.959 1.712 1.825 2.268 2.543h-4.811v-4.811c0.718 0.556 1.584 1.309 2.543 2.268zM28 29.5c0 0.271-0.229 0.5-0.5 0.5h-23c-0.271 0-0.5-0.229-0.5-0.5v-27c0-0.271 0.229-0.5 0.5-0.5 0 0 15.499-0 15.5 0v7c0 0.552 0.448 1 1 1h7v19.5z\"></path>\n",
       "<path d=\"M23 26h-14c-0.552 0-1-0.448-1-1s0.448-1 1-1h14c0.552 0 1 0.448 1 1s-0.448 1-1 1z\"></path>\n",
       "<path d=\"M23 22h-14c-0.552 0-1-0.448-1-1s0.448-1 1-1h14c0.552 0 1 0.448 1 1s-0.448 1-1 1z\"></path>\n",
       "<path d=\"M23 18h-14c-0.552 0-1-0.448-1-1s0.448-1 1-1h14c0.552 0 1 0.448 1 1s-0.448 1-1 1z\"></path>\n",
       "</symbol>\n",
       "</defs>\n",
       "</svg>\n",
       "<style>/* CSS stylesheet for displaying xarray objects in jupyterlab.\n",
       " *\n",
       " */\n",
       "\n",
       ":root {\n",
       "  --xr-font-color0: var(--jp-content-font-color0, rgba(0, 0, 0, 1));\n",
       "  --xr-font-color2: var(--jp-content-font-color2, rgba(0, 0, 0, 0.54));\n",
       "  --xr-font-color3: var(--jp-content-font-color3, rgba(0, 0, 0, 0.38));\n",
       "  --xr-border-color: var(--jp-border-color2, #e0e0e0);\n",
       "  --xr-disabled-color: var(--jp-layout-color3, #bdbdbd);\n",
       "  --xr-background-color: var(--jp-layout-color0, white);\n",
       "  --xr-background-color-row-even: var(--jp-layout-color1, white);\n",
       "  --xr-background-color-row-odd: var(--jp-layout-color2, #eeeeee);\n",
       "}\n",
       "\n",
       "html[theme=\"dark\"],\n",
       "html[data-theme=\"dark\"],\n",
       "body[data-theme=\"dark\"],\n",
       "body.vscode-dark {\n",
       "  --xr-font-color0: rgba(255, 255, 255, 1);\n",
       "  --xr-font-color2: rgba(255, 255, 255, 0.54);\n",
       "  --xr-font-color3: rgba(255, 255, 255, 0.38);\n",
       "  --xr-border-color: #1f1f1f;\n",
       "  --xr-disabled-color: #515151;\n",
       "  --xr-background-color: #111111;\n",
       "  --xr-background-color-row-even: #111111;\n",
       "  --xr-background-color-row-odd: #313131;\n",
       "}\n",
       "\n",
       ".xr-wrap {\n",
       "  display: block !important;\n",
       "  min-width: 300px;\n",
       "  max-width: 700px;\n",
       "}\n",
       "\n",
       ".xr-text-repr-fallback {\n",
       "  /* fallback to plain text repr when CSS is not injected (untrusted notebook) */\n",
       "  display: none;\n",
       "}\n",
       "\n",
       ".xr-header {\n",
       "  padding-top: 6px;\n",
       "  padding-bottom: 6px;\n",
       "  margin-bottom: 4px;\n",
       "  border-bottom: solid 1px var(--xr-border-color);\n",
       "}\n",
       "\n",
       ".xr-header > div,\n",
       ".xr-header > ul {\n",
       "  display: inline;\n",
       "  margin-top: 0;\n",
       "  margin-bottom: 0;\n",
       "}\n",
       "\n",
       ".xr-obj-type,\n",
       ".xr-array-name {\n",
       "  margin-left: 2px;\n",
       "  margin-right: 10px;\n",
       "}\n",
       "\n",
       ".xr-obj-type {\n",
       "  color: var(--xr-font-color2);\n",
       "}\n",
       "\n",
       ".xr-sections {\n",
       "  padding-left: 0 !important;\n",
       "  display: grid;\n",
       "  grid-template-columns: 150px auto auto 1fr 0 20px 0 20px;\n",
       "}\n",
       "\n",
       ".xr-section-item {\n",
       "  display: contents;\n",
       "}\n",
       "\n",
       ".xr-section-item input {\n",
       "  display: inline-block;\n",
       "  opacity: 0;\n",
       "  height: 0;\n",
       "}\n",
       "\n",
       ".xr-section-item input + label {\n",
       "  color: var(--xr-disabled-color);\n",
       "}\n",
       "\n",
       ".xr-section-item input:enabled + label {\n",
       "  cursor: pointer;\n",
       "  color: var(--xr-font-color2);\n",
       "}\n",
       "\n",
       ".xr-section-item input:focus + label {\n",
       "  border: 2px solid var(--xr-font-color0);\n",
       "}\n",
       "\n",
       ".xr-section-item input:enabled + label:hover {\n",
       "  color: var(--xr-font-color0);\n",
       "}\n",
       "\n",
       ".xr-section-summary {\n",
       "  grid-column: 1;\n",
       "  color: var(--xr-font-color2);\n",
       "  font-weight: 500;\n",
       "}\n",
       "\n",
       ".xr-section-summary > span {\n",
       "  display: inline-block;\n",
       "  padding-left: 0.5em;\n",
       "}\n",
       "\n",
       ".xr-section-summary-in:disabled + label {\n",
       "  color: var(--xr-font-color2);\n",
       "}\n",
       "\n",
       ".xr-section-summary-in + label:before {\n",
       "  display: inline-block;\n",
       "  content: \"►\";\n",
       "  font-size: 11px;\n",
       "  width: 15px;\n",
       "  text-align: center;\n",
       "}\n",
       "\n",
       ".xr-section-summary-in:disabled + label:before {\n",
       "  color: var(--xr-disabled-color);\n",
       "}\n",
       "\n",
       ".xr-section-summary-in:checked + label:before {\n",
       "  content: \"▼\";\n",
       "}\n",
       "\n",
       ".xr-section-summary-in:checked + label > span {\n",
       "  display: none;\n",
       "}\n",
       "\n",
       ".xr-section-summary,\n",
       ".xr-section-inline-details {\n",
       "  padding-top: 4px;\n",
       "  padding-bottom: 4px;\n",
       "}\n",
       "\n",
       ".xr-section-inline-details {\n",
       "  grid-column: 2 / -1;\n",
       "}\n",
       "\n",
       ".xr-section-details {\n",
       "  display: none;\n",
       "  grid-column: 1 / -1;\n",
       "  margin-bottom: 5px;\n",
       "}\n",
       "\n",
       ".xr-section-summary-in:checked ~ .xr-section-details {\n",
       "  display: contents;\n",
       "}\n",
       "\n",
       ".xr-array-wrap {\n",
       "  grid-column: 1 / -1;\n",
       "  display: grid;\n",
       "  grid-template-columns: 20px auto;\n",
       "}\n",
       "\n",
       ".xr-array-wrap > label {\n",
       "  grid-column: 1;\n",
       "  vertical-align: top;\n",
       "}\n",
       "\n",
       ".xr-preview {\n",
       "  color: var(--xr-font-color3);\n",
       "}\n",
       "\n",
       ".xr-array-preview,\n",
       ".xr-array-data {\n",
       "  padding: 0 5px !important;\n",
       "  grid-column: 2;\n",
       "}\n",
       "\n",
       ".xr-array-data,\n",
       ".xr-array-in:checked ~ .xr-array-preview {\n",
       "  display: none;\n",
       "}\n",
       "\n",
       ".xr-array-in:checked ~ .xr-array-data,\n",
       ".xr-array-preview {\n",
       "  display: inline-block;\n",
       "}\n",
       "\n",
       ".xr-dim-list {\n",
       "  display: inline-block !important;\n",
       "  list-style: none;\n",
       "  padding: 0 !important;\n",
       "  margin: 0;\n",
       "}\n",
       "\n",
       ".xr-dim-list li {\n",
       "  display: inline-block;\n",
       "  padding: 0;\n",
       "  margin: 0;\n",
       "}\n",
       "\n",
       ".xr-dim-list:before {\n",
       "  content: \"(\";\n",
       "}\n",
       "\n",
       ".xr-dim-list:after {\n",
       "  content: \")\";\n",
       "}\n",
       "\n",
       ".xr-dim-list li:not(:last-child):after {\n",
       "  content: \",\";\n",
       "  padding-right: 5px;\n",
       "}\n",
       "\n",
       ".xr-has-index {\n",
       "  font-weight: bold;\n",
       "}\n",
       "\n",
       ".xr-var-list,\n",
       ".xr-var-item {\n",
       "  display: contents;\n",
       "}\n",
       "\n",
       ".xr-var-item > div,\n",
       ".xr-var-item label,\n",
       ".xr-var-item > .xr-var-name span {\n",
       "  background-color: var(--xr-background-color-row-even);\n",
       "  margin-bottom: 0;\n",
       "}\n",
       "\n",
       ".xr-var-item > .xr-var-name:hover span {\n",
       "  padding-right: 5px;\n",
       "}\n",
       "\n",
       ".xr-var-list > li:nth-child(odd) > div,\n",
       ".xr-var-list > li:nth-child(odd) > label,\n",
       ".xr-var-list > li:nth-child(odd) > .xr-var-name span {\n",
       "  background-color: var(--xr-background-color-row-odd);\n",
       "}\n",
       "\n",
       ".xr-var-name {\n",
       "  grid-column: 1;\n",
       "}\n",
       "\n",
       ".xr-var-dims {\n",
       "  grid-column: 2;\n",
       "}\n",
       "\n",
       ".xr-var-dtype {\n",
       "  grid-column: 3;\n",
       "  text-align: right;\n",
       "  color: var(--xr-font-color2);\n",
       "}\n",
       "\n",
       ".xr-var-preview {\n",
       "  grid-column: 4;\n",
       "}\n",
       "\n",
       ".xr-index-preview {\n",
       "  grid-column: 2 / 5;\n",
       "  color: var(--xr-font-color2);\n",
       "}\n",
       "\n",
       ".xr-var-name,\n",
       ".xr-var-dims,\n",
       ".xr-var-dtype,\n",
       ".xr-preview,\n",
       ".xr-attrs dt {\n",
       "  white-space: nowrap;\n",
       "  overflow: hidden;\n",
       "  text-overflow: ellipsis;\n",
       "  padding-right: 10px;\n",
       "}\n",
       "\n",
       ".xr-var-name:hover,\n",
       ".xr-var-dims:hover,\n",
       ".xr-var-dtype:hover,\n",
       ".xr-attrs dt:hover {\n",
       "  overflow: visible;\n",
       "  width: auto;\n",
       "  z-index: 1;\n",
       "}\n",
       "\n",
       ".xr-var-attrs,\n",
       ".xr-var-data,\n",
       ".xr-index-data {\n",
       "  display: none;\n",
       "  background-color: var(--xr-background-color) !important;\n",
       "  padding-bottom: 5px !important;\n",
       "}\n",
       "\n",
       ".xr-var-attrs-in:checked ~ .xr-var-attrs,\n",
       ".xr-var-data-in:checked ~ .xr-var-data,\n",
       ".xr-index-data-in:checked ~ .xr-index-data {\n",
       "  display: block;\n",
       "}\n",
       "\n",
       ".xr-var-data > table {\n",
       "  float: right;\n",
       "}\n",
       "\n",
       ".xr-var-name span,\n",
       ".xr-var-data,\n",
       ".xr-index-name div,\n",
       ".xr-index-data,\n",
       ".xr-attrs {\n",
       "  padding-left: 25px !important;\n",
       "}\n",
       "\n",
       ".xr-attrs,\n",
       ".xr-var-attrs,\n",
       ".xr-var-data,\n",
       ".xr-index-data {\n",
       "  grid-column: 1 / -1;\n",
       "}\n",
       "\n",
       "dl.xr-attrs {\n",
       "  padding: 0;\n",
       "  margin: 0;\n",
       "  display: grid;\n",
       "  grid-template-columns: 125px auto;\n",
       "}\n",
       "\n",
       ".xr-attrs dt,\n",
       ".xr-attrs dd {\n",
       "  padding: 0;\n",
       "  margin: 0;\n",
       "  float: left;\n",
       "  padding-right: 10px;\n",
       "  width: auto;\n",
       "}\n",
       "\n",
       ".xr-attrs dt {\n",
       "  font-weight: normal;\n",
       "  grid-column: 1;\n",
       "}\n",
       "\n",
       ".xr-attrs dt:hover span {\n",
       "  display: inline-block;\n",
       "  background: var(--xr-background-color);\n",
       "  padding-right: 10px;\n",
       "}\n",
       "\n",
       ".xr-attrs dd {\n",
       "  grid-column: 2;\n",
       "  white-space: pre-wrap;\n",
       "  word-break: break-all;\n",
       "}\n",
       "\n",
       ".xr-icon-database,\n",
       ".xr-icon-file-text2,\n",
       ".xr-no-icon {\n",
       "  display: inline-block;\n",
       "  vertical-align: middle;\n",
       "  width: 1em;\n",
       "  height: 1.5em !important;\n",
       "  stroke-width: 0;\n",
       "  stroke: currentColor;\n",
       "  fill: currentColor;\n",
       "}\n",
       "</style><pre class='xr-text-repr-fallback'>&lt;xarray.DataArray &#x27;abies&#x27; (time: 27, band: 19, y: 652, x: 590)&gt; Size: 789MB\n",
       "array([[[[nan, nan, nan, ..., nan, nan, nan],\n",
       "         [nan, nan, nan, ..., nan, nan, nan],\n",
       "         [nan, nan, nan, ..., nan, nan, nan],\n",
       "         ...,\n",
       "         [nan, nan, nan, ..., nan, nan, nan],\n",
       "         [nan, nan, nan, ..., nan, nan, nan],\n",
       "         [nan, nan, nan, ..., nan, nan, nan]],\n",
       "\n",
       "        [[nan, nan, nan, ..., nan, nan, nan],\n",
       "         [nan, nan, nan, ..., nan, nan, nan],\n",
       "         [nan, nan, nan, ..., nan, nan, nan],\n",
       "         ...,\n",
       "         [nan, nan, nan, ..., nan, nan, nan],\n",
       "         [nan, nan, nan, ..., nan, nan, nan],\n",
       "         [nan, nan, nan, ..., nan, nan, nan]],\n",
       "\n",
       "        [[nan, nan, nan, ..., nan, nan, nan],\n",
       "         [nan, nan, nan, ..., nan, nan, nan],\n",
       "         [nan, nan, nan, ..., nan, nan, nan],\n",
       "         ...,\n",
       "...\n",
       "         ...,\n",
       "         [nan, nan, nan, ..., nan, nan, nan],\n",
       "         [nan, nan, nan, ..., nan, nan, nan],\n",
       "         [nan, nan, nan, ..., nan, nan, nan]],\n",
       "\n",
       "        [[nan, nan, nan, ..., nan, nan, nan],\n",
       "         [nan, nan, nan, ..., nan, nan, nan],\n",
       "         [nan, nan, nan, ..., nan, nan, nan],\n",
       "         ...,\n",
       "         [nan, nan, nan, ..., nan, nan, nan],\n",
       "         [nan, nan, nan, ..., nan, nan, nan],\n",
       "         [nan, nan, nan, ..., nan, nan, nan]],\n",
       "\n",
       "        [[ 0.,  0.,  0., ...,  0.,  0.,  0.],\n",
       "         [ 0.,  0.,  0., ...,  0.,  0.,  0.],\n",
       "         [ 0.,  0.,  0., ...,  0.,  0.,  0.],\n",
       "         ...,\n",
       "         [ 0.,  0.,  0., ...,  0.,  0.,  0.],\n",
       "         [ 0.,  0.,  0., ...,  0.,  0.,  0.],\n",
       "         [ 0.,  0.,  0., ...,  0.,  0.,  0.]]]], dtype=float32)\n",
       "Coordinates:\n",
       "  * time      (time) int64 216B 1997 1998 1999 2000 2001 ... 2020 2021 2022 2023\n",
       "  * x         (x) float64 5kB -1.389e+07 -1.389e+07 ... -1.154e+07 -1.154e+07\n",
       "  * y         (y) float64 5kB 6.278e+06 6.274e+06 ... 3.678e+06 3.674e+06\n",
       "  * band      (band) object 152B MultiIndex\n",
       "  * variable  (band) &lt;U14 1kB &#x27;abies&#x27; &#x27;picea&#x27; ... &#x27;mort_ewma_diff&#x27; &#x27;forest_ba&#x27;</pre><div class='xr-wrap' style='display:none'><div class='xr-header'><div class='xr-obj-type'>xarray.DataArray</div><div class='xr-array-name'>'abies'</div><ul class='xr-dim-list'><li><span class='xr-has-index'>time</span>: 27</li><li><span class='xr-has-index'>band</span>: 19</li><li><span class='xr-has-index'>y</span>: 652</li><li><span class='xr-has-index'>x</span>: 590</li></ul></div><ul class='xr-sections'><li class='xr-section-item'><div class='xr-array-wrap'><input id='section-7410fe51-b761-43d2-ac80-8a9722f92465' class='xr-array-in' type='checkbox' checked><label for='section-7410fe51-b761-43d2-ac80-8a9722f92465' title='Show/hide data repr'><svg class='icon xr-icon-database'><use xlink:href='#icon-database'></use></svg></label><div class='xr-array-preview xr-preview'><span>nan nan nan nan nan nan nan nan ... 0.0 0.0 0.0 0.0 0.0 0.0 0.0 0.0</span></div><div class='xr-array-data'><pre>array([[[[nan, nan, nan, ..., nan, nan, nan],\n",
       "         [nan, nan, nan, ..., nan, nan, nan],\n",
       "         [nan, nan, nan, ..., nan, nan, nan],\n",
       "         ...,\n",
       "         [nan, nan, nan, ..., nan, nan, nan],\n",
       "         [nan, nan, nan, ..., nan, nan, nan],\n",
       "         [nan, nan, nan, ..., nan, nan, nan]],\n",
       "\n",
       "        [[nan, nan, nan, ..., nan, nan, nan],\n",
       "         [nan, nan, nan, ..., nan, nan, nan],\n",
       "         [nan, nan, nan, ..., nan, nan, nan],\n",
       "         ...,\n",
       "         [nan, nan, nan, ..., nan, nan, nan],\n",
       "         [nan, nan, nan, ..., nan, nan, nan],\n",
       "         [nan, nan, nan, ..., nan, nan, nan]],\n",
       "\n",
       "        [[nan, nan, nan, ..., nan, nan, nan],\n",
       "         [nan, nan, nan, ..., nan, nan, nan],\n",
       "         [nan, nan, nan, ..., nan, nan, nan],\n",
       "         ...,\n",
       "...\n",
       "         ...,\n",
       "         [nan, nan, nan, ..., nan, nan, nan],\n",
       "         [nan, nan, nan, ..., nan, nan, nan],\n",
       "         [nan, nan, nan, ..., nan, nan, nan]],\n",
       "\n",
       "        [[nan, nan, nan, ..., nan, nan, nan],\n",
       "         [nan, nan, nan, ..., nan, nan, nan],\n",
       "         [nan, nan, nan, ..., nan, nan, nan],\n",
       "         ...,\n",
       "         [nan, nan, nan, ..., nan, nan, nan],\n",
       "         [nan, nan, nan, ..., nan, nan, nan],\n",
       "         [nan, nan, nan, ..., nan, nan, nan]],\n",
       "\n",
       "        [[ 0.,  0.,  0., ...,  0.,  0.,  0.],\n",
       "         [ 0.,  0.,  0., ...,  0.,  0.,  0.],\n",
       "         [ 0.,  0.,  0., ...,  0.,  0.,  0.],\n",
       "         ...,\n",
       "         [ 0.,  0.,  0., ...,  0.,  0.,  0.],\n",
       "         [ 0.,  0.,  0., ...,  0.,  0.,  0.],\n",
       "         [ 0.,  0.,  0., ...,  0.,  0.,  0.]]]], dtype=float32)</pre></div></div></li><li class='xr-section-item'><input id='section-95b17d52-fce9-4fcc-a88f-d634f5f8d591' class='xr-section-summary-in' type='checkbox'  checked><label for='section-95b17d52-fce9-4fcc-a88f-d634f5f8d591' class='xr-section-summary' >Coordinates: <span>(5)</span></label><div class='xr-section-inline-details'></div><div class='xr-section-details'><ul class='xr-var-list'><li class='xr-var-item'><div class='xr-var-name'><span class='xr-has-index'>time</span></div><div class='xr-var-dims'>(time)</div><div class='xr-var-dtype'>int64</div><div class='xr-var-preview xr-preview'>1997 1998 1999 ... 2021 2022 2023</div><input id='attrs-79cf3535-d477-4e76-ae1f-bc513191e6ed' class='xr-var-attrs-in' type='checkbox' disabled><label for='attrs-79cf3535-d477-4e76-ae1f-bc513191e6ed' title='Show/Hide attributes'><svg class='icon xr-icon-file-text2'><use xlink:href='#icon-file-text2'></use></svg></label><input id='data-07f274f7-6c97-4eb8-9b03-17902e8b11e8' class='xr-var-data-in' type='checkbox'><label for='data-07f274f7-6c97-4eb8-9b03-17902e8b11e8' title='Show/Hide data repr'><svg class='icon xr-icon-database'><use xlink:href='#icon-database'></use></svg></label><div class='xr-var-attrs'><dl class='xr-attrs'></dl></div><div class='xr-var-data'><pre>array([1997, 1998, 1999, 2000, 2001, 2002, 2003, 2004, 2005, 2006, 2007, 2008,\n",
       "       2009, 2010, 2011, 2012, 2013, 2014, 2015, 2016, 2017, 2018, 2019, 2020,\n",
       "       2021, 2022, 2023])</pre></div></li><li class='xr-var-item'><div class='xr-var-name'><span class='xr-has-index'>x</span></div><div class='xr-var-dims'>(x)</div><div class='xr-var-dtype'>float64</div><div class='xr-var-preview xr-preview'>-1.389e+07 ... -1.154e+07</div><input id='attrs-af398313-c89f-41b4-a4f5-7494f9ff6123' class='xr-var-attrs-in' type='checkbox' disabled><label for='attrs-af398313-c89f-41b4-a4f5-7494f9ff6123' title='Show/Hide attributes'><svg class='icon xr-icon-file-text2'><use xlink:href='#icon-file-text2'></use></svg></label><input id='data-d1198753-bfa7-4f17-933f-38c1fb28bd4d' class='xr-var-data-in' type='checkbox'><label for='data-d1198753-bfa7-4f17-933f-38c1fb28bd4d' title='Show/Hide data repr'><svg class='icon xr-icon-database'><use xlink:href='#icon-database'></use></svg></label><div class='xr-var-attrs'><dl class='xr-attrs'></dl></div><div class='xr-var-data'><pre>array([-13894215.609, -13890215.609, -13886215.609, ..., -11546215.609,\n",
       "       -11542215.609, -11538215.609])</pre></div></li><li class='xr-var-item'><div class='xr-var-name'><span class='xr-has-index'>y</span></div><div class='xr-var-dims'>(y)</div><div class='xr-var-dtype'>float64</div><div class='xr-var-preview xr-preview'>6.278e+06 6.274e+06 ... 3.674e+06</div><input id='attrs-8dac8f10-2347-4a36-a60d-91f3555c74fe' class='xr-var-attrs-in' type='checkbox' disabled><label for='attrs-8dac8f10-2347-4a36-a60d-91f3555c74fe' title='Show/Hide attributes'><svg class='icon xr-icon-file-text2'><use xlink:href='#icon-file-text2'></use></svg></label><input id='data-9a3b638c-5f36-46c0-91e9-71b1b480d3e3' class='xr-var-data-in' type='checkbox'><label for='data-9a3b638c-5f36-46c0-91e9-71b1b480d3e3' title='Show/Hide data repr'><svg class='icon xr-icon-database'><use xlink:href='#icon-database'></use></svg></label><div class='xr-var-attrs'><dl class='xr-attrs'></dl></div><div class='xr-var-data'><pre>array([6278302.419, 6274302.419, 6270302.419, ..., 3682302.419, 3678302.419,\n",
       "       3674302.419])</pre></div></li><li class='xr-var-item'><div class='xr-var-name'><span class='xr-has-index'>band</span></div><div class='xr-var-dims'>(band)</div><div class='xr-var-dtype'>object</div><div class='xr-var-preview xr-preview'>MultiIndex</div><input id='attrs-d6e2b985-5ab2-451b-b304-156445c04935' class='xr-var-attrs-in' type='checkbox' disabled><label for='attrs-d6e2b985-5ab2-451b-b304-156445c04935' title='Show/Hide attributes'><svg class='icon xr-icon-file-text2'><use xlink:href='#icon-file-text2'></use></svg></label><input id='data-64c25c3e-8e4c-4686-80f4-b8993efd91bc' class='xr-var-data-in' type='checkbox'><label for='data-64c25c3e-8e4c-4686-80f4-b8993efd91bc' title='Show/Hide data repr'><svg class='icon xr-icon-database'><use xlink:href='#icon-database'></use></svg></label><div class='xr-var-attrs'><dl class='xr-attrs'></dl></div><div class='xr-var-data'><pre>array([(&#x27;abies&#x27;,), (&#x27;picea&#x27;,), (&#x27;populus&#x27;,), (&#x27;pseudotsuga&#x27;,), (&#x27;tsuga&#x27;,),\n",
       "       (&#x27;vod&#x27;,), (&#x27;elev&#x27;,), (&#x27;slope&#x27;,), (&#x27;northness&#x27;,), (&#x27;eastness&#x27;,),\n",
       "       (&#x27;fire&#x27;,), (&#x27;mortality&#x27;,), (&#x27;prcp&#x27;,), (&#x27;vp&#x27;,), (&#x27;tmin&#x27;,),\n",
       "       (&#x27;treecover&#x27;,), (&#x27;mort_ewma&#x27;,), (&#x27;mort_ewma_diff&#x27;,), (&#x27;forest_ba&#x27;,)],\n",
       "      dtype=object)</pre></div></li><li class='xr-var-item'><div class='xr-var-name'><span class='xr-has-index'>variable</span></div><div class='xr-var-dims'>(band)</div><div class='xr-var-dtype'>&lt;U14</div><div class='xr-var-preview xr-preview'>&#x27;abies&#x27; &#x27;picea&#x27; ... &#x27;forest_ba&#x27;</div><input id='attrs-9984be1e-6ca9-4ed0-87b1-e40aedcad738' class='xr-var-attrs-in' type='checkbox' disabled><label for='attrs-9984be1e-6ca9-4ed0-87b1-e40aedcad738' title='Show/Hide attributes'><svg class='icon xr-icon-file-text2'><use xlink:href='#icon-file-text2'></use></svg></label><input id='data-156646bc-14f9-4a33-b7cc-1294dacbe438' class='xr-var-data-in' type='checkbox'><label for='data-156646bc-14f9-4a33-b7cc-1294dacbe438' title='Show/Hide data repr'><svg class='icon xr-icon-database'><use xlink:href='#icon-database'></use></svg></label><div class='xr-var-attrs'><dl class='xr-attrs'></dl></div><div class='xr-var-data'><pre>array([&#x27;abies&#x27;, &#x27;picea&#x27;, &#x27;populus&#x27;, &#x27;pseudotsuga&#x27;, &#x27;tsuga&#x27;, &#x27;vod&#x27;, &#x27;elev&#x27;,\n",
       "       &#x27;slope&#x27;, &#x27;northness&#x27;, &#x27;eastness&#x27;, &#x27;fire&#x27;, &#x27;mortality&#x27;, &#x27;prcp&#x27;, &#x27;vp&#x27;,\n",
       "       &#x27;tmin&#x27;, &#x27;treecover&#x27;, &#x27;mort_ewma&#x27;, &#x27;mort_ewma_diff&#x27;, &#x27;forest_ba&#x27;],\n",
       "      dtype=&#x27;&lt;U14&#x27;)</pre></div></li></ul></div></li><li class='xr-section-item'><input id='section-67291569-8d18-478c-abf1-137ecdcb6486' class='xr-section-summary-in' type='checkbox'  ><label for='section-67291569-8d18-478c-abf1-137ecdcb6486' class='xr-section-summary' >Indexes: <span>(4)</span></label><div class='xr-section-inline-details'></div><div class='xr-section-details'><ul class='xr-var-list'><li class='xr-var-item'><div class='xr-index-name'><div>time</div></div><div class='xr-index-preview'>PandasIndex</div><input type='checkbox' disabled/><label></label><input id='index-594ab54b-b250-4d56-b0a5-8fe202c2a58c' class='xr-index-data-in' type='checkbox'/><label for='index-594ab54b-b250-4d56-b0a5-8fe202c2a58c' title='Show/Hide index repr'><svg class='icon xr-icon-database'><use xlink:href='#icon-database'></use></svg></label><div class='xr-index-data'><pre>PandasIndex(Index([1997, 1998, 1999, 2000, 2001, 2002, 2003, 2004, 2005, 2006, 2007, 2008,\n",
       "       2009, 2010, 2011, 2012, 2013, 2014, 2015, 2016, 2017, 2018, 2019, 2020,\n",
       "       2021, 2022, 2023],\n",
       "      dtype=&#x27;int64&#x27;, name=&#x27;time&#x27;))</pre></div></li><li class='xr-var-item'><div class='xr-index-name'><div>x</div></div><div class='xr-index-preview'>PandasIndex</div><input type='checkbox' disabled/><label></label><input id='index-712a0611-bb96-472d-a804-1168057aa3a5' class='xr-index-data-in' type='checkbox'/><label for='index-712a0611-bb96-472d-a804-1168057aa3a5' title='Show/Hide index repr'><svg class='icon xr-icon-database'><use xlink:href='#icon-database'></use></svg></label><div class='xr-index-data'><pre>PandasIndex(Index([-13894215.609, -13890215.609, -13886215.609, -13882215.609,\n",
       "       -13878215.609, -13874215.609, -13870215.609, -13866215.609,\n",
       "       -13862215.609, -13858215.609,\n",
       "       ...\n",
       "       -11574215.609, -11570215.609, -11566215.609, -11562215.609,\n",
       "       -11558215.609, -11554215.609, -11550215.609, -11546215.609,\n",
       "       -11542215.609, -11538215.609],\n",
       "      dtype=&#x27;float64&#x27;, name=&#x27;x&#x27;, length=590))</pre></div></li><li class='xr-var-item'><div class='xr-index-name'><div>y</div></div><div class='xr-index-preview'>PandasIndex</div><input type='checkbox' disabled/><label></label><input id='index-e89b5a0d-9969-4cdf-8097-f42a02a6be74' class='xr-index-data-in' type='checkbox'/><label for='index-e89b5a0d-9969-4cdf-8097-f42a02a6be74' title='Show/Hide index repr'><svg class='icon xr-icon-database'><use xlink:href='#icon-database'></use></svg></label><div class='xr-index-data'><pre>PandasIndex(Index([       6278302.419,        6274302.419,        6270302.419,\n",
       "              6266302.419,        6262302.419,        6258302.419,\n",
       "              6254302.419,        6250302.419,        6246302.419,\n",
       "              6242302.419,\n",
       "       ...\n",
       "       3710302.4189999998, 3706302.4189999998, 3702302.4189999998,\n",
       "       3698302.4189999998, 3694302.4189999998, 3690302.4189999998,\n",
       "       3686302.4189999998, 3682302.4189999998, 3678302.4189999998,\n",
       "       3674302.4189999998],\n",
       "      dtype=&#x27;float64&#x27;, name=&#x27;y&#x27;, length=652))</pre></div></li><li class='xr-var-item'><div class='xr-index-name'><div>band<br>variable</div></div><div class='xr-index-preview'>PandasMultiIndex</div><input type='checkbox' disabled/><label></label><input id='index-512ac04d-b8d0-45c6-8b12-79ab0b155798' class='xr-index-data-in' type='checkbox'/><label for='index-512ac04d-b8d0-45c6-8b12-79ab0b155798' title='Show/Hide index repr'><svg class='icon xr-icon-database'><use xlink:href='#icon-database'></use></svg></label><div class='xr-index-data'><pre>PandasIndex(MultiIndex([(         &#x27;abies&#x27;,),\n",
       "            (         &#x27;picea&#x27;,),\n",
       "            (       &#x27;populus&#x27;,),\n",
       "            (   &#x27;pseudotsuga&#x27;,),\n",
       "            (         &#x27;tsuga&#x27;,),\n",
       "            (           &#x27;vod&#x27;,),\n",
       "            (          &#x27;elev&#x27;,),\n",
       "            (         &#x27;slope&#x27;,),\n",
       "            (     &#x27;northness&#x27;,),\n",
       "            (      &#x27;eastness&#x27;,),\n",
       "            (          &#x27;fire&#x27;,),\n",
       "            (     &#x27;mortality&#x27;,),\n",
       "            (          &#x27;prcp&#x27;,),\n",
       "            (            &#x27;vp&#x27;,),\n",
       "            (          &#x27;tmin&#x27;,),\n",
       "            (     &#x27;treecover&#x27;,),\n",
       "            (     &#x27;mort_ewma&#x27;,),\n",
       "            (&#x27;mort_ewma_diff&#x27;,),\n",
       "            (     &#x27;forest_ba&#x27;,)],\n",
       "           name=&#x27;band&#x27;))</pre></div></li></ul></div></li><li class='xr-section-item'><input id='section-9ae606ae-914b-449f-b8f0-081ee943b603' class='xr-section-summary-in' type='checkbox' disabled ><label for='section-9ae606ae-914b-449f-b8f0-081ee943b603' class='xr-section-summary'  title='Expand/collapse section'>Attributes: <span>(0)</span></label><div class='xr-section-inline-details'></div><div class='xr-section-details'><dl class='xr-attrs'></dl></div></li></ul></div></div>"
      ],
      "text/plain": [
       "<xarray.DataArray 'abies' (time: 27, band: 19, y: 652, x: 590)> Size: 789MB\n",
       "array([[[[nan, nan, nan, ..., nan, nan, nan],\n",
       "         [nan, nan, nan, ..., nan, nan, nan],\n",
       "         [nan, nan, nan, ..., nan, nan, nan],\n",
       "         ...,\n",
       "         [nan, nan, nan, ..., nan, nan, nan],\n",
       "         [nan, nan, nan, ..., nan, nan, nan],\n",
       "         [nan, nan, nan, ..., nan, nan, nan]],\n",
       "\n",
       "        [[nan, nan, nan, ..., nan, nan, nan],\n",
       "         [nan, nan, nan, ..., nan, nan, nan],\n",
       "         [nan, nan, nan, ..., nan, nan, nan],\n",
       "         ...,\n",
       "         [nan, nan, nan, ..., nan, nan, nan],\n",
       "         [nan, nan, nan, ..., nan, nan, nan],\n",
       "         [nan, nan, nan, ..., nan, nan, nan]],\n",
       "\n",
       "        [[nan, nan, nan, ..., nan, nan, nan],\n",
       "         [nan, nan, nan, ..., nan, nan, nan],\n",
       "         [nan, nan, nan, ..., nan, nan, nan],\n",
       "         ...,\n",
       "...\n",
       "         ...,\n",
       "         [nan, nan, nan, ..., nan, nan, nan],\n",
       "         [nan, nan, nan, ..., nan, nan, nan],\n",
       "         [nan, nan, nan, ..., nan, nan, nan]],\n",
       "\n",
       "        [[nan, nan, nan, ..., nan, nan, nan],\n",
       "         [nan, nan, nan, ..., nan, nan, nan],\n",
       "         [nan, nan, nan, ..., nan, nan, nan],\n",
       "         ...,\n",
       "         [nan, nan, nan, ..., nan, nan, nan],\n",
       "         [nan, nan, nan, ..., nan, nan, nan],\n",
       "         [nan, nan, nan, ..., nan, nan, nan]],\n",
       "\n",
       "        [[ 0.,  0.,  0., ...,  0.,  0.,  0.],\n",
       "         [ 0.,  0.,  0., ...,  0.,  0.,  0.],\n",
       "         [ 0.,  0.,  0., ...,  0.,  0.,  0.],\n",
       "         ...,\n",
       "         [ 0.,  0.,  0., ...,  0.,  0.,  0.],\n",
       "         [ 0.,  0.,  0., ...,  0.,  0.,  0.],\n",
       "         [ 0.,  0.,  0., ...,  0.,  0.,  0.]]]], dtype=float32)\n",
       "Coordinates:\n",
       "  * time      (time) int64 216B 1997 1998 1999 2000 2001 ... 2020 2021 2022 2023\n",
       "  * x         (x) float64 5kB -1.389e+07 -1.389e+07 ... -1.154e+07 -1.154e+07\n",
       "  * y         (y) float64 5kB 6.278e+06 6.274e+06 ... 3.678e+06 3.674e+06\n",
       "  * band      (band) object 152B MultiIndex\n",
       "  * variable  (band) <U14 1kB 'abies' 'picea' ... 'mort_ewma_diff' 'forest_ba'"
      ]
     },
     "execution_count": 6,
     "metadata": {},
     "output_type": "execute_result"
    }
   ],
   "source": [
    "ds = ds.to_stacked_array(\"band\", sample_dims=[\"x\", \"y\", \"time\"])\\\n",
    "    .transpose(\"time\", \"band\", ...)\n",
    "ds"
   ]
  },
  {
   "cell_type": "markdown",
   "id": "c3190c01-0395-4a1e-88a6-f6b614436e4b",
   "metadata": {},
   "source": [
    "Make sure windowing works right"
   ]
  },
  {
   "cell_type": "code",
   "execution_count": 7,
   "id": "c268ea7f-6f53-41ad-b8ad-42c89bf2c1c8",
   "metadata": {},
   "outputs": [
    {
     "name": "stdout",
     "output_type": "stream",
     "text": [
      "562805\n"
     ]
    }
   ],
   "source": [
    "target = \"mort_ewma\"\n",
    "window_x_size = 8\n",
    "window_y_size = 8\n",
    "window_t_size = 3\n",
    "window = dict(x=[window_x_size, False], y=[window_y_size, False], time=[window_t_size, False])\n",
    "prop_na = 0.8\n",
    "mort_arr = ds.sel(band=target, drop=True)\n",
    "mort_ds = util.datasets.WindowXarrayDataset(ds, window, mask=mort_arr, na_thresh=prop_na)\n",
    "\n",
    "print(len(mort_ds))"
   ]
  },
  {
   "cell_type": "code",
   "execution_count": 8,
   "id": "49147ab1-b348-4c37-91cc-3818c4a4c6b4",
   "metadata": {},
   "outputs": [],
   "source": [
    "eg_window = mort_ds[10]\n",
    "window_x = eg_window.isel(time=slice(None, -1))\n",
    "window_y = eg_window.isel(time=-1).sel(band=target)"
   ]
  },
  {
   "cell_type": "code",
   "execution_count": 9,
   "id": "3efe6f9a-de84-4e53-850b-1af5825da1fa",
   "metadata": {},
   "outputs": [],
   "source": [
    "assert (1 - np.mean(np.isnan(window_y.values))) > prop_na"
   ]
  },
  {
   "cell_type": "markdown",
   "id": "f5f2e685-1244-46aa-a426-8037094812b1",
   "metadata": {},
   "source": [
    "Set up model definition"
   ]
  },
  {
   "cell_type": "code",
   "execution_count": 10,
   "id": "b70aa75d-ccef-4177-b54a-6230e94a8ba0",
   "metadata": {},
   "outputs": [
    {
     "data": {
      "text/html": [
       "<div><svg style=\"position: absolute; width: 0; height: 0; overflow: hidden\">\n",
       "<defs>\n",
       "<symbol id=\"icon-database\" viewBox=\"0 0 32 32\">\n",
       "<path d=\"M16 0c-8.837 0-16 2.239-16 5v4c0 2.761 7.163 5 16 5s16-2.239 16-5v-4c0-2.761-7.163-5-16-5z\"></path>\n",
       "<path d=\"M16 17c-8.837 0-16-2.239-16-5v6c0 2.761 7.163 5 16 5s16-2.239 16-5v-6c0 2.761-7.163 5-16 5z\"></path>\n",
       "<path d=\"M16 26c-8.837 0-16-2.239-16-5v6c0 2.761 7.163 5 16 5s16-2.239 16-5v-6c0 2.761-7.163 5-16 5z\"></path>\n",
       "</symbol>\n",
       "<symbol id=\"icon-file-text2\" viewBox=\"0 0 32 32\">\n",
       "<path d=\"M28.681 7.159c-0.694-0.947-1.662-2.053-2.724-3.116s-2.169-2.030-3.116-2.724c-1.612-1.182-2.393-1.319-2.841-1.319h-15.5c-1.378 0-2.5 1.121-2.5 2.5v27c0 1.378 1.122 2.5 2.5 2.5h23c1.378 0 2.5-1.122 2.5-2.5v-19.5c0-0.448-0.137-1.23-1.319-2.841zM24.543 5.457c0.959 0.959 1.712 1.825 2.268 2.543h-4.811v-4.811c0.718 0.556 1.584 1.309 2.543 2.268zM28 29.5c0 0.271-0.229 0.5-0.5 0.5h-23c-0.271 0-0.5-0.229-0.5-0.5v-27c0-0.271 0.229-0.5 0.5-0.5 0 0 15.499-0 15.5 0v7c0 0.552 0.448 1 1 1h7v19.5z\"></path>\n",
       "<path d=\"M23 26h-14c-0.552 0-1-0.448-1-1s0.448-1 1-1h14c0.552 0 1 0.448 1 1s-0.448 1-1 1z\"></path>\n",
       "<path d=\"M23 22h-14c-0.552 0-1-0.448-1-1s0.448-1 1-1h14c0.552 0 1 0.448 1 1s-0.448 1-1 1z\"></path>\n",
       "<path d=\"M23 18h-14c-0.552 0-1-0.448-1-1s0.448-1 1-1h14c0.552 0 1 0.448 1 1s-0.448 1-1 1z\"></path>\n",
       "</symbol>\n",
       "</defs>\n",
       "</svg>\n",
       "<style>/* CSS stylesheet for displaying xarray objects in jupyterlab.\n",
       " *\n",
       " */\n",
       "\n",
       ":root {\n",
       "  --xr-font-color0: var(--jp-content-font-color0, rgba(0, 0, 0, 1));\n",
       "  --xr-font-color2: var(--jp-content-font-color2, rgba(0, 0, 0, 0.54));\n",
       "  --xr-font-color3: var(--jp-content-font-color3, rgba(0, 0, 0, 0.38));\n",
       "  --xr-border-color: var(--jp-border-color2, #e0e0e0);\n",
       "  --xr-disabled-color: var(--jp-layout-color3, #bdbdbd);\n",
       "  --xr-background-color: var(--jp-layout-color0, white);\n",
       "  --xr-background-color-row-even: var(--jp-layout-color1, white);\n",
       "  --xr-background-color-row-odd: var(--jp-layout-color2, #eeeeee);\n",
       "}\n",
       "\n",
       "html[theme=\"dark\"],\n",
       "html[data-theme=\"dark\"],\n",
       "body[data-theme=\"dark\"],\n",
       "body.vscode-dark {\n",
       "  --xr-font-color0: rgba(255, 255, 255, 1);\n",
       "  --xr-font-color2: rgba(255, 255, 255, 0.54);\n",
       "  --xr-font-color3: rgba(255, 255, 255, 0.38);\n",
       "  --xr-border-color: #1f1f1f;\n",
       "  --xr-disabled-color: #515151;\n",
       "  --xr-background-color: #111111;\n",
       "  --xr-background-color-row-even: #111111;\n",
       "  --xr-background-color-row-odd: #313131;\n",
       "}\n",
       "\n",
       ".xr-wrap {\n",
       "  display: block !important;\n",
       "  min-width: 300px;\n",
       "  max-width: 700px;\n",
       "}\n",
       "\n",
       ".xr-text-repr-fallback {\n",
       "  /* fallback to plain text repr when CSS is not injected (untrusted notebook) */\n",
       "  display: none;\n",
       "}\n",
       "\n",
       ".xr-header {\n",
       "  padding-top: 6px;\n",
       "  padding-bottom: 6px;\n",
       "  margin-bottom: 4px;\n",
       "  border-bottom: solid 1px var(--xr-border-color);\n",
       "}\n",
       "\n",
       ".xr-header > div,\n",
       ".xr-header > ul {\n",
       "  display: inline;\n",
       "  margin-top: 0;\n",
       "  margin-bottom: 0;\n",
       "}\n",
       "\n",
       ".xr-obj-type,\n",
       ".xr-array-name {\n",
       "  margin-left: 2px;\n",
       "  margin-right: 10px;\n",
       "}\n",
       "\n",
       ".xr-obj-type {\n",
       "  color: var(--xr-font-color2);\n",
       "}\n",
       "\n",
       ".xr-sections {\n",
       "  padding-left: 0 !important;\n",
       "  display: grid;\n",
       "  grid-template-columns: 150px auto auto 1fr 0 20px 0 20px;\n",
       "}\n",
       "\n",
       ".xr-section-item {\n",
       "  display: contents;\n",
       "}\n",
       "\n",
       ".xr-section-item input {\n",
       "  display: inline-block;\n",
       "  opacity: 0;\n",
       "  height: 0;\n",
       "}\n",
       "\n",
       ".xr-section-item input + label {\n",
       "  color: var(--xr-disabled-color);\n",
       "}\n",
       "\n",
       ".xr-section-item input:enabled + label {\n",
       "  cursor: pointer;\n",
       "  color: var(--xr-font-color2);\n",
       "}\n",
       "\n",
       ".xr-section-item input:focus + label {\n",
       "  border: 2px solid var(--xr-font-color0);\n",
       "}\n",
       "\n",
       ".xr-section-item input:enabled + label:hover {\n",
       "  color: var(--xr-font-color0);\n",
       "}\n",
       "\n",
       ".xr-section-summary {\n",
       "  grid-column: 1;\n",
       "  color: var(--xr-font-color2);\n",
       "  font-weight: 500;\n",
       "}\n",
       "\n",
       ".xr-section-summary > span {\n",
       "  display: inline-block;\n",
       "  padding-left: 0.5em;\n",
       "}\n",
       "\n",
       ".xr-section-summary-in:disabled + label {\n",
       "  color: var(--xr-font-color2);\n",
       "}\n",
       "\n",
       ".xr-section-summary-in + label:before {\n",
       "  display: inline-block;\n",
       "  content: \"►\";\n",
       "  font-size: 11px;\n",
       "  width: 15px;\n",
       "  text-align: center;\n",
       "}\n",
       "\n",
       ".xr-section-summary-in:disabled + label:before {\n",
       "  color: var(--xr-disabled-color);\n",
       "}\n",
       "\n",
       ".xr-section-summary-in:checked + label:before {\n",
       "  content: \"▼\";\n",
       "}\n",
       "\n",
       ".xr-section-summary-in:checked + label > span {\n",
       "  display: none;\n",
       "}\n",
       "\n",
       ".xr-section-summary,\n",
       ".xr-section-inline-details {\n",
       "  padding-top: 4px;\n",
       "  padding-bottom: 4px;\n",
       "}\n",
       "\n",
       ".xr-section-inline-details {\n",
       "  grid-column: 2 / -1;\n",
       "}\n",
       "\n",
       ".xr-section-details {\n",
       "  display: none;\n",
       "  grid-column: 1 / -1;\n",
       "  margin-bottom: 5px;\n",
       "}\n",
       "\n",
       ".xr-section-summary-in:checked ~ .xr-section-details {\n",
       "  display: contents;\n",
       "}\n",
       "\n",
       ".xr-array-wrap {\n",
       "  grid-column: 1 / -1;\n",
       "  display: grid;\n",
       "  grid-template-columns: 20px auto;\n",
       "}\n",
       "\n",
       ".xr-array-wrap > label {\n",
       "  grid-column: 1;\n",
       "  vertical-align: top;\n",
       "}\n",
       "\n",
       ".xr-preview {\n",
       "  color: var(--xr-font-color3);\n",
       "}\n",
       "\n",
       ".xr-array-preview,\n",
       ".xr-array-data {\n",
       "  padding: 0 5px !important;\n",
       "  grid-column: 2;\n",
       "}\n",
       "\n",
       ".xr-array-data,\n",
       ".xr-array-in:checked ~ .xr-array-preview {\n",
       "  display: none;\n",
       "}\n",
       "\n",
       ".xr-array-in:checked ~ .xr-array-data,\n",
       ".xr-array-preview {\n",
       "  display: inline-block;\n",
       "}\n",
       "\n",
       ".xr-dim-list {\n",
       "  display: inline-block !important;\n",
       "  list-style: none;\n",
       "  padding: 0 !important;\n",
       "  margin: 0;\n",
       "}\n",
       "\n",
       ".xr-dim-list li {\n",
       "  display: inline-block;\n",
       "  padding: 0;\n",
       "  margin: 0;\n",
       "}\n",
       "\n",
       ".xr-dim-list:before {\n",
       "  content: \"(\";\n",
       "}\n",
       "\n",
       ".xr-dim-list:after {\n",
       "  content: \")\";\n",
       "}\n",
       "\n",
       ".xr-dim-list li:not(:last-child):after {\n",
       "  content: \",\";\n",
       "  padding-right: 5px;\n",
       "}\n",
       "\n",
       ".xr-has-index {\n",
       "  font-weight: bold;\n",
       "}\n",
       "\n",
       ".xr-var-list,\n",
       ".xr-var-item {\n",
       "  display: contents;\n",
       "}\n",
       "\n",
       ".xr-var-item > div,\n",
       ".xr-var-item label,\n",
       ".xr-var-item > .xr-var-name span {\n",
       "  background-color: var(--xr-background-color-row-even);\n",
       "  margin-bottom: 0;\n",
       "}\n",
       "\n",
       ".xr-var-item > .xr-var-name:hover span {\n",
       "  padding-right: 5px;\n",
       "}\n",
       "\n",
       ".xr-var-list > li:nth-child(odd) > div,\n",
       ".xr-var-list > li:nth-child(odd) > label,\n",
       ".xr-var-list > li:nth-child(odd) > .xr-var-name span {\n",
       "  background-color: var(--xr-background-color-row-odd);\n",
       "}\n",
       "\n",
       ".xr-var-name {\n",
       "  grid-column: 1;\n",
       "}\n",
       "\n",
       ".xr-var-dims {\n",
       "  grid-column: 2;\n",
       "}\n",
       "\n",
       ".xr-var-dtype {\n",
       "  grid-column: 3;\n",
       "  text-align: right;\n",
       "  color: var(--xr-font-color2);\n",
       "}\n",
       "\n",
       ".xr-var-preview {\n",
       "  grid-column: 4;\n",
       "}\n",
       "\n",
       ".xr-index-preview {\n",
       "  grid-column: 2 / 5;\n",
       "  color: var(--xr-font-color2);\n",
       "}\n",
       "\n",
       ".xr-var-name,\n",
       ".xr-var-dims,\n",
       ".xr-var-dtype,\n",
       ".xr-preview,\n",
       ".xr-attrs dt {\n",
       "  white-space: nowrap;\n",
       "  overflow: hidden;\n",
       "  text-overflow: ellipsis;\n",
       "  padding-right: 10px;\n",
       "}\n",
       "\n",
       ".xr-var-name:hover,\n",
       ".xr-var-dims:hover,\n",
       ".xr-var-dtype:hover,\n",
       ".xr-attrs dt:hover {\n",
       "  overflow: visible;\n",
       "  width: auto;\n",
       "  z-index: 1;\n",
       "}\n",
       "\n",
       ".xr-var-attrs,\n",
       ".xr-var-data,\n",
       ".xr-index-data {\n",
       "  display: none;\n",
       "  background-color: var(--xr-background-color) !important;\n",
       "  padding-bottom: 5px !important;\n",
       "}\n",
       "\n",
       ".xr-var-attrs-in:checked ~ .xr-var-attrs,\n",
       ".xr-var-data-in:checked ~ .xr-var-data,\n",
       ".xr-index-data-in:checked ~ .xr-index-data {\n",
       "  display: block;\n",
       "}\n",
       "\n",
       ".xr-var-data > table {\n",
       "  float: right;\n",
       "}\n",
       "\n",
       ".xr-var-name span,\n",
       ".xr-var-data,\n",
       ".xr-index-name div,\n",
       ".xr-index-data,\n",
       ".xr-attrs {\n",
       "  padding-left: 25px !important;\n",
       "}\n",
       "\n",
       ".xr-attrs,\n",
       ".xr-var-attrs,\n",
       ".xr-var-data,\n",
       ".xr-index-data {\n",
       "  grid-column: 1 / -1;\n",
       "}\n",
       "\n",
       "dl.xr-attrs {\n",
       "  padding: 0;\n",
       "  margin: 0;\n",
       "  display: grid;\n",
       "  grid-template-columns: 125px auto;\n",
       "}\n",
       "\n",
       ".xr-attrs dt,\n",
       ".xr-attrs dd {\n",
       "  padding: 0;\n",
       "  margin: 0;\n",
       "  float: left;\n",
       "  padding-right: 10px;\n",
       "  width: auto;\n",
       "}\n",
       "\n",
       ".xr-attrs dt {\n",
       "  font-weight: normal;\n",
       "  grid-column: 1;\n",
       "}\n",
       "\n",
       ".xr-attrs dt:hover span {\n",
       "  display: inline-block;\n",
       "  background: var(--xr-background-color);\n",
       "  padding-right: 10px;\n",
       "}\n",
       "\n",
       ".xr-attrs dd {\n",
       "  grid-column: 2;\n",
       "  white-space: pre-wrap;\n",
       "  word-break: break-all;\n",
       "}\n",
       "\n",
       ".xr-icon-database,\n",
       ".xr-icon-file-text2,\n",
       ".xr-no-icon {\n",
       "  display: inline-block;\n",
       "  vertical-align: middle;\n",
       "  width: 1em;\n",
       "  height: 1.5em !important;\n",
       "  stroke-width: 0;\n",
       "  stroke: currentColor;\n",
       "  fill: currentColor;\n",
       "}\n",
       "</style><pre class='xr-text-repr-fallback'>&lt;xarray.DataArray &#x27;band&#x27; (band: 19)&gt; Size: 152B\n",
       "array([(&#x27;abies&#x27;,), (&#x27;picea&#x27;,), (&#x27;populus&#x27;,), (&#x27;pseudotsuga&#x27;,), (&#x27;tsuga&#x27;,),\n",
       "       (&#x27;vod&#x27;,), (&#x27;elev&#x27;,), (&#x27;slope&#x27;,), (&#x27;northness&#x27;,), (&#x27;eastness&#x27;,),\n",
       "       (&#x27;fire&#x27;,), (&#x27;mortality&#x27;,), (&#x27;prcp&#x27;,), (&#x27;vp&#x27;,), (&#x27;tmin&#x27;,),\n",
       "       (&#x27;treecover&#x27;,), (&#x27;mort_ewma&#x27;,), (&#x27;mort_ewma_diff&#x27;,), (&#x27;forest_ba&#x27;,)],\n",
       "      dtype=object)\n",
       "Coordinates:\n",
       "  * band      (band) object 152B MultiIndex\n",
       "  * variable  (band) &lt;U14 1kB &#x27;abies&#x27; &#x27;picea&#x27; ... &#x27;mort_ewma_diff&#x27; &#x27;forest_ba&#x27;</pre><div class='xr-wrap' style='display:none'><div class='xr-header'><div class='xr-obj-type'>xarray.DataArray</div><div class='xr-array-name'>'band'</div><ul class='xr-dim-list'><li><span class='xr-has-index'>band</span>: 19</li></ul></div><ul class='xr-sections'><li class='xr-section-item'><div class='xr-array-wrap'><input id='section-508ea0da-489f-412e-a8b0-ee3aabf3c922' class='xr-array-in' type='checkbox' checked><label for='section-508ea0da-489f-412e-a8b0-ee3aabf3c922' title='Show/hide data repr'><svg class='icon xr-icon-database'><use xlink:href='#icon-database'></use></svg></label><div class='xr-array-preview xr-preview'><span>MultiIndex</span></div><div class='xr-array-data'><pre>array([(&#x27;abies&#x27;,), (&#x27;picea&#x27;,), (&#x27;populus&#x27;,), (&#x27;pseudotsuga&#x27;,), (&#x27;tsuga&#x27;,),\n",
       "       (&#x27;vod&#x27;,), (&#x27;elev&#x27;,), (&#x27;slope&#x27;,), (&#x27;northness&#x27;,), (&#x27;eastness&#x27;,),\n",
       "       (&#x27;fire&#x27;,), (&#x27;mortality&#x27;,), (&#x27;prcp&#x27;,), (&#x27;vp&#x27;,), (&#x27;tmin&#x27;,),\n",
       "       (&#x27;treecover&#x27;,), (&#x27;mort_ewma&#x27;,), (&#x27;mort_ewma_diff&#x27;,), (&#x27;forest_ba&#x27;,)],\n",
       "      dtype=object)</pre></div></div></li><li class='xr-section-item'><input id='section-ec027cfd-b6c4-477d-8c9b-d91122a7df41' class='xr-section-summary-in' type='checkbox'  checked><label for='section-ec027cfd-b6c4-477d-8c9b-d91122a7df41' class='xr-section-summary' >Coordinates: <span>(2)</span></label><div class='xr-section-inline-details'></div><div class='xr-section-details'><ul class='xr-var-list'><li class='xr-var-item'><div class='xr-var-name'><span class='xr-has-index'>band</span></div><div class='xr-var-dims'>(band)</div><div class='xr-var-dtype'>object</div><div class='xr-var-preview xr-preview'>MultiIndex</div><input id='attrs-c317d3d2-cda6-4b8f-a2c5-0bb298972c23' class='xr-var-attrs-in' type='checkbox' disabled><label for='attrs-c317d3d2-cda6-4b8f-a2c5-0bb298972c23' title='Show/Hide attributes'><svg class='icon xr-icon-file-text2'><use xlink:href='#icon-file-text2'></use></svg></label><input id='data-35b9ca77-d11c-4f02-a146-eb9e7a41c4f2' class='xr-var-data-in' type='checkbox'><label for='data-35b9ca77-d11c-4f02-a146-eb9e7a41c4f2' title='Show/Hide data repr'><svg class='icon xr-icon-database'><use xlink:href='#icon-database'></use></svg></label><div class='xr-var-attrs'><dl class='xr-attrs'></dl></div><div class='xr-var-data'><pre>array([(&#x27;abies&#x27;,), (&#x27;picea&#x27;,), (&#x27;populus&#x27;,), (&#x27;pseudotsuga&#x27;,), (&#x27;tsuga&#x27;,),\n",
       "       (&#x27;vod&#x27;,), (&#x27;elev&#x27;,), (&#x27;slope&#x27;,), (&#x27;northness&#x27;,), (&#x27;eastness&#x27;,),\n",
       "       (&#x27;fire&#x27;,), (&#x27;mortality&#x27;,), (&#x27;prcp&#x27;,), (&#x27;vp&#x27;,), (&#x27;tmin&#x27;,),\n",
       "       (&#x27;treecover&#x27;,), (&#x27;mort_ewma&#x27;,), (&#x27;mort_ewma_diff&#x27;,), (&#x27;forest_ba&#x27;,)],\n",
       "      dtype=object)</pre></div></li><li class='xr-var-item'><div class='xr-var-name'><span class='xr-has-index'>variable</span></div><div class='xr-var-dims'>(band)</div><div class='xr-var-dtype'>&lt;U14</div><div class='xr-var-preview xr-preview'>&#x27;abies&#x27; &#x27;picea&#x27; ... &#x27;forest_ba&#x27;</div><input id='attrs-dd184707-a81f-4cd5-8954-bdd9facdc661' class='xr-var-attrs-in' type='checkbox' disabled><label for='attrs-dd184707-a81f-4cd5-8954-bdd9facdc661' title='Show/Hide attributes'><svg class='icon xr-icon-file-text2'><use xlink:href='#icon-file-text2'></use></svg></label><input id='data-fa567bf3-ebdc-41f2-b649-d043217f50ed' class='xr-var-data-in' type='checkbox'><label for='data-fa567bf3-ebdc-41f2-b649-d043217f50ed' title='Show/Hide data repr'><svg class='icon xr-icon-database'><use xlink:href='#icon-database'></use></svg></label><div class='xr-var-attrs'><dl class='xr-attrs'></dl></div><div class='xr-var-data'><pre>array([&#x27;abies&#x27;, &#x27;picea&#x27;, &#x27;populus&#x27;, &#x27;pseudotsuga&#x27;, &#x27;tsuga&#x27;, &#x27;vod&#x27;, &#x27;elev&#x27;,\n",
       "       &#x27;slope&#x27;, &#x27;northness&#x27;, &#x27;eastness&#x27;, &#x27;fire&#x27;, &#x27;mortality&#x27;, &#x27;prcp&#x27;, &#x27;vp&#x27;,\n",
       "       &#x27;tmin&#x27;, &#x27;treecover&#x27;, &#x27;mort_ewma&#x27;, &#x27;mort_ewma_diff&#x27;, &#x27;forest_ba&#x27;],\n",
       "      dtype=&#x27;&lt;U14&#x27;)</pre></div></li></ul></div></li><li class='xr-section-item'><input id='section-acfd471b-80a4-4de0-87fa-c86c9d30bda6' class='xr-section-summary-in' type='checkbox'  ><label for='section-acfd471b-80a4-4de0-87fa-c86c9d30bda6' class='xr-section-summary' >Indexes: <span>(1)</span></label><div class='xr-section-inline-details'></div><div class='xr-section-details'><ul class='xr-var-list'><li class='xr-var-item'><div class='xr-index-name'><div>band<br>variable</div></div><div class='xr-index-preview'>PandasMultiIndex</div><input type='checkbox' disabled/><label></label><input id='index-c11eab2a-5376-410c-9db9-0a05589d5994' class='xr-index-data-in' type='checkbox'/><label for='index-c11eab2a-5376-410c-9db9-0a05589d5994' title='Show/Hide index repr'><svg class='icon xr-icon-database'><use xlink:href='#icon-database'></use></svg></label><div class='xr-index-data'><pre>PandasIndex(MultiIndex([(         &#x27;abies&#x27;,),\n",
       "            (         &#x27;picea&#x27;,),\n",
       "            (       &#x27;populus&#x27;,),\n",
       "            (   &#x27;pseudotsuga&#x27;,),\n",
       "            (         &#x27;tsuga&#x27;,),\n",
       "            (           &#x27;vod&#x27;,),\n",
       "            (          &#x27;elev&#x27;,),\n",
       "            (         &#x27;slope&#x27;,),\n",
       "            (     &#x27;northness&#x27;,),\n",
       "            (      &#x27;eastness&#x27;,),\n",
       "            (          &#x27;fire&#x27;,),\n",
       "            (     &#x27;mortality&#x27;,),\n",
       "            (          &#x27;prcp&#x27;,),\n",
       "            (            &#x27;vp&#x27;,),\n",
       "            (          &#x27;tmin&#x27;,),\n",
       "            (     &#x27;treecover&#x27;,),\n",
       "            (     &#x27;mort_ewma&#x27;,),\n",
       "            (&#x27;mort_ewma_diff&#x27;,),\n",
       "            (     &#x27;forest_ba&#x27;,)],\n",
       "           name=&#x27;band&#x27;))</pre></div></li></ul></div></li><li class='xr-section-item'><input id='section-9ac2746d-ee7e-4127-9b83-0048dd71b840' class='xr-section-summary-in' type='checkbox' disabled ><label for='section-9ac2746d-ee7e-4127-9b83-0048dd71b840' class='xr-section-summary'  title='Expand/collapse section'>Attributes: <span>(0)</span></label><div class='xr-section-inline-details'></div><div class='xr-section-details'><dl class='xr-attrs'></dl></div></li></ul></div></div>"
      ],
      "text/plain": [
       "<xarray.DataArray 'band' (band: 19)> Size: 152B\n",
       "array([('abies',), ('picea',), ('populus',), ('pseudotsuga',), ('tsuga',),\n",
       "       ('vod',), ('elev',), ('slope',), ('northness',), ('eastness',),\n",
       "       ('fire',), ('mortality',), ('prcp',), ('vp',), ('tmin',),\n",
       "       ('treecover',), ('mort_ewma',), ('mort_ewma_diff',), ('forest_ba',)],\n",
       "      dtype=object)\n",
       "Coordinates:\n",
       "  * band      (band) object 152B MultiIndex\n",
       "  * variable  (band) <U14 1kB 'abies' 'picea' ... 'mort_ewma_diff' 'forest_ba'"
      ]
     },
     "execution_count": 10,
     "metadata": {},
     "output_type": "execute_result"
    }
   ],
   "source": [
    "ds.band"
   ]
  },
  {
   "cell_type": "markdown",
   "id": "c61bf5a8-3ffe-4696-9c28-fe408a45f0ba",
   "metadata": {},
   "source": [
    "Data pipeline"
   ]
  },
  {
   "cell_type": "code",
   "execution_count": 11,
   "id": "f38b7f2c-4762-4a20-869c-e0f1ecde354b",
   "metadata": {},
   "outputs": [
    {
     "name": "stdout",
     "output_type": "stream",
     "text": [
      "Training years: [2013 2014 2015 2016 2017 2018 2019 2020 2021 2022 2023]\n",
      "Validation years: [1997 1998 1999 2000 2001 2002 2003 2004]\n",
      "Testing years: [2005 2006 2007 2008 2009 2010 2011 2012]\n"
     ]
    }
   ],
   "source": [
    "# Prepare data laoders. Each dataset has to be temporally disjoint so we \n",
    "# don't leak data.\n",
    "input_bands = [\"mort_ewma\", \"prcp\", \"elev\", \"treecover\"]\n",
    "input_inds = np.where(np.isin(ds.coords.get(\"variable\").values, input_bands))[0]\n",
    "input_channel = len(input_bands)\n",
    "years = ds.time.values\n",
    "\n",
    "train_years = years[16:]\n",
    "valid_years = years[:8]\n",
    "test_years = years[8:16]\n",
    "\n",
    "print(\"Training years:\", train_years)\n",
    "print(\"Validation years:\", valid_years)\n",
    "print(\"Testing years:\", test_years)"
   ]
  },
  {
   "cell_type": "code",
   "execution_count": 12,
   "id": "58b6e6fe-6051-4949-ada8-6711afc50c31",
   "metadata": {},
   "outputs": [
    {
     "name": "stdout",
     "output_type": "stream",
     "text": [
      "Count of examples\n",
      "Validation: 99660\n",
      "Testing: 167214\n"
     ]
    }
   ],
   "source": [
    "valid_wds = util.datasets.WindowXarrayDataset(\n",
    "    ds.sel(time=valid_years), window, \n",
    "    mask=mort_arr.sel(time=valid_years),\n",
    "    na_thresh=prop_na\n",
    ")\n",
    "test_wds  = util.datasets.WindowXarrayDataset(\n",
    "    ds.sel(time=test_years), window, \n",
    "    mask=mort_arr.sel(time=test_years), \n",
    "    na_thresh=prop_na\n",
    ")\n",
    "\n",
    "print(\"Count of examples\")\n",
    "print(\"Validation:\", len(valid_wds))\n",
    "print(\"Testing:\", len(test_wds))"
   ]
  },
  {
   "cell_type": "code",
   "execution_count": 13,
   "id": "75c0bb40-dc54-4815-a668-d635461a3757",
   "metadata": {},
   "outputs": [],
   "source": [
    "from torch.utils.data import DataLoader\n",
    "\n",
    "ewma_target_ind = np.where(ds.coords.get(\"variable\").values == target)[0][0]\n",
    "orig_target_ind = np.where(ds.coords.get(\"variable\").values == \"mortality\")[0][0]\n",
    "\n",
    "dtype = torch.float32\n",
    "eps = 1e-3\n",
    "\n",
    "def make_collator(input_inds, target_ind):\n",
    "    def collator(patch_list):\n",
    "        X = torch.stack([\n",
    "            torch.tensor(\n",
    "                np.squeeze(patch.values[:-1, input_inds, :, :]),\n",
    "                dtype=dtype\n",
    "            )\n",
    "            for patch in patch_list\n",
    "        ])\n",
    "    \n",
    "        # Replace nan cells with the channel mean from this batch\n",
    "        ch_mean = torch.nanmean(X, dim=0)\n",
    "        X = torch.nan_to_num(X)\n",
    "        X += ch_mean * torch.isnan(X)\n",
    "        \n",
    "        y = torch.stack([\n",
    "            torch.tensor(patch.values[-1, target_ind, :, :], dtype=dtype)\n",
    "            for patch in patch_list\n",
    "        ]).squeeze(dim=2)/100\n",
    "    \n",
    "        return X, y\n",
    "\n",
    "    return collator\n",
    "\n",
    "ewma_collator = make_collator(input_inds, ewma_target_ind)\n",
    "orig_collator = make_collator(input_inds, orig_target_ind)\n",
    "\n",
    "batch_size = 128\n",
    "\n",
    "# Setting the RNG to host device is necessary if we want to run on GPU\n",
    "valid_loader = DataLoader(\n",
    "    valid_wds, \n",
    "    batch_size, \n",
    "    shuffle=True, \n",
    "    collate_fn=ewma_collator, \n",
    "    generator=torch.Generator(device=device)\n",
    ")\n",
    "test_loader  = DataLoader(\n",
    "    test_wds, \n",
    "    batch_size, \n",
    "    shuffle=True, \n",
    "    collate_fn=ewma_collator, \n",
    "    generator=torch.Generator(device=device)\n",
    ")"
   ]
  },
  {
   "cell_type": "code",
   "execution_count": 14,
   "id": "81f00617-551e-4dd8-a6c7-cf3e5d321d93",
   "metadata": {},
   "outputs": [
    {
     "data": {
      "text/plain": [
       "<module 'util.datasets' from '/home/jovyan/ForestLST/util/datasets.py'>"
      ]
     },
     "execution_count": 14,
     "metadata": {},
     "output_type": "execute_result"
    }
   ],
   "source": [
    "reload(util.datasets)"
   ]
  },
  {
   "cell_type": "code",
   "execution_count": 15,
   "id": "4f717d62-6af6-491f-b949-5dfaded863e9",
   "metadata": {},
   "outputs": [
    {
     "name": "stdout",
     "output_type": "stream",
     "text": [
      "N: 189448\n"
     ]
    }
   ],
   "source": [
    "import torchmetrics\n",
    "\n",
    "wds = util.datasets.WindowXarrayDataset(\n",
    "    ds.sel(time=train_years), window, mask=mort_arr.sel(time=train_years), na_thresh=prop_na\n",
    ")\n",
    "print(f\"N: {len(wds)}\")\n",
    "\n",
    "train_loader = DataLoader(\n",
    "    wds, batch_size, \n",
    "    shuffle=True, collate_fn=ewma_collator, \n",
    "    generator=torch.Generator(device=device)\n",
    ")"
   ]
  },
  {
   "cell_type": "code",
   "execution_count": 16,
   "id": "96bf8b9b-7d8a-462a-83d8-573b9b93b40c",
   "metadata": {},
   "outputs": [],
   "source": [
    "reload(util.training)\n",
    "from util.training import BaseTrainer, ReduceLRMixin, EarlyStopMixin, MaskedLossMixin\n",
    "\n",
    "class Trainer(MaskedLossMixin, ReduceLRMixin, EarlyStopMixin, BaseTrainer):\n",
    "    pass"
   ]
  },
  {
   "cell_type": "code",
   "execution_count": 17,
   "id": "8361dbd8-497e-40f6-9f49-6f9f6011e03d",
   "metadata": {},
   "outputs": [
    {
     "name": "stdout",
     "output_type": "stream",
     "text": [
      "N params: 12849\n"
     ]
    }
   ],
   "source": [
    "from util.convlstm import ConvLSTM, DamageConvLSTM\n",
    "from collections import OrderedDict\n",
    "\n",
    "class PermuteLayer(torch.nn.Module):\n",
    "    def __init__(self, dims: tuple[int, ...]) -> None:\n",
    "        super().__init__()\n",
    "        self.dims = dims\n",
    "\n",
    "    def forward(self, x: torch.Tensor) -> torch.Tensor:\n",
    "        return x.permute(*self.dims)\n",
    "\n",
    "class LambdaLayer(torch.nn.Module):\n",
    "    def __init__(self, f, *args, **kwargs):\n",
    "        super().__init__(*args, **kwargs)\n",
    "        self.f = f\n",
    "    def forward(self, x):\n",
    "        return self.f(x)\n",
    "\n",
    "class MultiplyLayer(torch.nn.Module):\n",
    "    def __init__(self, by, *args, **kwargs):\n",
    "        super().__init__(*args, **kwargs)\n",
    "        self.by = by\n",
    "\n",
    "    def forward(self, x):\n",
    "        return self.by * x\n",
    "\n",
    "input_dim = len(input_bands)\n",
    "hidden_dim = 8\n",
    "num_layers = 3\n",
    "kernel_size = (3, 3)\n",
    "dropout = 0.3\n",
    "dclstm = DamageConvLSTM(\n",
    "    input_dim,\n",
    "    hidden_dim,\n",
    "    kernel_size,\n",
    "    num_layers,\n",
    "    dropout=dropout,\n",
    "    batch_first=True\n",
    ")\n",
    "\n",
    "m = torch.nn.Sequential(OrderedDict([\n",
    "    (\"convlstm\", dclstm),\n",
    "    (\"sigmoid\", torch.nn.Sigmoid())\n",
    "]))\n",
    "\n",
    "print(\"N params:\", util.training.count_trainable_parameters(m))"
   ]
  },
  {
   "cell_type": "code",
   "execution_count": 18,
   "id": "c2ddd342-005c-4c01-aae6-050ea7d98259",
   "metadata": {},
   "outputs": [
    {
     "name": "stdout",
     "output_type": "stream",
     "text": [
      "torch.Size([128, 2, 4, 8, 8])\n",
      "torch.Size([128, 8, 8])\n"
     ]
    }
   ],
   "source": [
    "# Check shapes\n",
    "X, y = tuple(next(iter(valid_loader)))\n",
    "print(X.shape)\n",
    "out = m(X)\n",
    "print(out.shape)\n",
    "assert out.shape == y.shape"
   ]
  },
  {
   "cell_type": "code",
   "execution_count": 23,
   "id": "055486d2-5319-473d-8c65-15d59bfe557d",
   "metadata": {},
   "outputs": [
    {
     "data": {
      "application/vnd.jupyter.widget-view+json": {
       "model_id": "e11adbfd769c47b9b81d97d1148cf968",
       "version_major": 2,
       "version_minor": 0
      },
      "text/plain": [
       "Epoch:   0%|          | 0/30 [00:00<?, ?it/s]"
      ]
     },
     "metadata": {},
     "output_type": "display_data"
    },
    {
     "data": {
      "application/vnd.jupyter.widget-view+json": {
       "model_id": "59781c398e4648619035c3273e4b8c0d",
       "version_major": 2,
       "version_minor": 0
      },
      "text/plain": [
       "Training loss:   0%|          | 0/1481 [00:00<?, ?it/s]"
      ]
     },
     "metadata": {},
     "output_type": "display_data"
    },
    {
     "name": "stderr",
     "output_type": "stream",
     "text": [
      "/srv/conda/envs/notebook/lib/python3.12/site-packages/torchmetrics/utilities/prints.py:43: UserWarning: The variance of predictions or target is close to zero. This can cause instability in Pearson correlationcoefficient, leading to wrong results. Consider re-scaling the input if possible or computing using alarger dtype (currently using torch.float32).\n",
      "  warnings.warn(*args, **kwargs)  # noqa: B028\n"
     ]
    },
    {
     "data": {
      "application/vnd.jupyter.widget-view+json": {
       "model_id": "e96230b7be7548438592fd6b4a02a492",
       "version_major": 2,
       "version_minor": 0
      },
      "text/plain": [
       "Validation loss:   0%|          | 0/779 [00:00<?, ?it/s]"
      ]
     },
     "metadata": {},
     "output_type": "display_data"
    },
    {
     "name": "stdout",
     "output_type": "stream",
     "text": [
      "Epoch 1 of 30\n",
      "                                       Key           Value\n",
      "0                             LearningRate           0.005\n",
      "1                               Loss/train        0.004273\n",
      "2                               Loss/valid  tensor(0.0021)\n",
      "3                MeanAbsoluteError()/train      0.02697447\n",
      "4                MeanAbsoluteError()/valid     0.015191889\n",
      "5                 MeanSquaredError()/train    0.0042733266\n",
      "6                 MeanSquaredError()/valid    0.0021360186\n",
      "7   NormalizedRootMeanSquaredError()/train       2.1031122\n",
      "8   NormalizedRootMeanSquaredError()/valid        2.386106\n",
      "9                  PearsonCorrCoef()/train       0.6121502\n",
      "10                 PearsonCorrCoef()/valid       0.6256327\n",
      "\n"
     ]
    },
    {
     "data": {
      "application/vnd.jupyter.widget-view+json": {
       "model_id": "1c9ed7bd12a6407cb20b401ef00092a4",
       "version_major": 2,
       "version_minor": 0
      },
      "text/plain": [
       "Training loss:   0%|          | 0/1481 [00:00<?, ?it/s]"
      ]
     },
     "metadata": {},
     "output_type": "display_data"
    },
    {
     "data": {
      "application/vnd.jupyter.widget-view+json": {
       "model_id": "89f8e6dba06f42e88185728e4dd5699f",
       "version_major": 2,
       "version_minor": 0
      },
      "text/plain": [
       "Validation loss:   0%|          | 0/779 [00:00<?, ?it/s]"
      ]
     },
     "metadata": {},
     "output_type": "display_data"
    },
    {
     "name": "stdout",
     "output_type": "stream",
     "text": [
      "Epoch 2 of 30\n",
      "                                       Key           Value\n",
      "0                             LearningRate           0.005\n",
      "1                               Loss/train        0.002241\n",
      "2                               Loss/valid  tensor(0.0020)\n",
      "3                MeanAbsoluteError()/train     0.020814218\n",
      "4                MeanAbsoluteError()/valid     0.014526976\n",
      "5                 MeanSquaredError()/train    0.0022409575\n",
      "6                 MeanSquaredError()/valid    0.0020048413\n",
      "7   NormalizedRootMeanSquaredError()/train        1.522988\n",
      "8   NormalizedRootMeanSquaredError()/valid       2.3116775\n",
      "9                  PearsonCorrCoef()/train      0.79663193\n",
      "10                 PearsonCorrCoef()/valid      0.65501046\n",
      "\n"
     ]
    },
    {
     "data": {
      "application/vnd.jupyter.widget-view+json": {
       "model_id": "af19571d07ab40488d79caa5c252224f",
       "version_major": 2,
       "version_minor": 0
      },
      "text/plain": [
       "Training loss:   0%|          | 0/1481 [00:00<?, ?it/s]"
      ]
     },
     "metadata": {},
     "output_type": "display_data"
    },
    {
     "data": {
      "application/vnd.jupyter.widget-view+json": {
       "model_id": "1ba91f490b0247cbb78a91311979688a",
       "version_major": 2,
       "version_minor": 0
      },
      "text/plain": [
       "Validation loss:   0%|          | 0/779 [00:00<?, ?it/s]"
      ]
     },
     "metadata": {},
     "output_type": "display_data"
    },
    {
     "name": "stdout",
     "output_type": "stream",
     "text": [
      "Epoch 3 of 30\n",
      "                                       Key           Value\n",
      "0                             LearningRate           0.005\n",
      "1                               Loss/train         0.00209\n",
      "2                               Loss/valid  tensor(0.0020)\n",
      "3                MeanAbsoluteError()/train     0.019833166\n",
      "4                MeanAbsoluteError()/valid     0.014216978\n",
      "5                 MeanSquaredError()/train    0.0020900636\n",
      "6                 MeanSquaredError()/valid    0.0020152032\n",
      "7   NormalizedRootMeanSquaredError()/train        1.470818\n",
      "8   NormalizedRootMeanSquaredError()/valid       2.3176403\n",
      "9                  PearsonCorrCoef()/train       0.8119272\n",
      "10                 PearsonCorrCoef()/valid        0.655166\n",
      "\n"
     ]
    },
    {
     "data": {
      "application/vnd.jupyter.widget-view+json": {
       "model_id": "072a54d478a648e8bad0c6989662632a",
       "version_major": 2,
       "version_minor": 0
      },
      "text/plain": [
       "Training loss:   0%|          | 0/1481 [00:00<?, ?it/s]"
      ]
     },
     "metadata": {},
     "output_type": "display_data"
    },
    {
     "data": {
      "application/vnd.jupyter.widget-view+json": {
       "model_id": "58dad52e0a2e496e88dc75aabfc27aec",
       "version_major": 2,
       "version_minor": 0
      },
      "text/plain": [
       "Validation loss:   0%|          | 0/779 [00:00<?, ?it/s]"
      ]
     },
     "metadata": {},
     "output_type": "display_data"
    },
    {
     "name": "stderr",
     "output_type": "stream",
     "text": [
      "/srv/conda/envs/notebook/lib/python3.12/site-packages/torchmetrics/utilities/prints.py:43: UserWarning: The variance of predictions or target is close to zero. This can cause instability in Pearson correlationcoefficient, leading to wrong results. Consider re-scaling the input if possible or computing using alarger dtype (currently using torch.float32).\n",
      "  warnings.warn(*args, **kwargs)  # noqa: B028\n"
     ]
    },
    {
     "name": "stdout",
     "output_type": "stream",
     "text": [
      "Epoch 4 of 30\n",
      "                                       Key           Value\n",
      "0                             LearningRate           0.005\n",
      "1                               Loss/train           0.002\n",
      "2                               Loss/valid  tensor(0.0021)\n",
      "3                MeanAbsoluteError()/train     0.019364115\n",
      "4                MeanAbsoluteError()/valid     0.013945156\n",
      "5                 MeanSquaredError()/train    0.0020001803\n",
      "6                 MeanSquaredError()/valid    0.0021099544\n",
      "7   NormalizedRootMeanSquaredError()/train       1.4388438\n",
      "8   NormalizedRootMeanSquaredError()/valid       2.3715026\n",
      "9                  PearsonCorrCoef()/train       0.8207814\n",
      "10                 PearsonCorrCoef()/valid       0.6449774\n",
      "\n"
     ]
    },
    {
     "data": {
      "application/vnd.jupyter.widget-view+json": {
       "model_id": "abd4e3f40f6c40948c31f43de50d8d9b",
       "version_major": 2,
       "version_minor": 0
      },
      "text/plain": [
       "Training loss:   0%|          | 0/1481 [00:00<?, ?it/s]"
      ]
     },
     "metadata": {},
     "output_type": "display_data"
    },
    {
     "data": {
      "application/vnd.jupyter.widget-view+json": {
       "model_id": "0fabe048f0b649baa2b8caeffa8e3989",
       "version_major": 2,
       "version_minor": 0
      },
      "text/plain": [
       "Validation loss:   0%|          | 0/779 [00:00<?, ?it/s]"
      ]
     },
     "metadata": {},
     "output_type": "display_data"
    },
    {
     "name": "stdout",
     "output_type": "stream",
     "text": [
      "Epoch 5 of 30\n",
      "                                       Key           Value\n",
      "0                             LearningRate           0.005\n",
      "1                               Loss/train        0.001939\n",
      "2                               Loss/valid  tensor(0.0020)\n",
      "3                MeanAbsoluteError()/train     0.019061929\n",
      "4                MeanAbsoluteError()/valid    0.0144804455\n",
      "5                 MeanSquaredError()/train    0.0019394499\n",
      "6                 MeanSquaredError()/valid    0.0019652646\n",
      "7   NormalizedRootMeanSquaredError()/train       1.4168332\n",
      "8   NormalizedRootMeanSquaredError()/valid       2.2887447\n",
      "9                  PearsonCorrCoef()/train       0.8266986\n",
      "10                 PearsonCorrCoef()/valid       0.6607599\n",
      "\n"
     ]
    },
    {
     "data": {
      "application/vnd.jupyter.widget-view+json": {
       "model_id": "b8502912b5204d4cab5039d3d3a31df1",
       "version_major": 2,
       "version_minor": 0
      },
      "text/plain": [
       "Training loss:   0%|          | 0/1481 [00:00<?, ?it/s]"
      ]
     },
     "metadata": {},
     "output_type": "display_data"
    },
    {
     "data": {
      "application/vnd.jupyter.widget-view+json": {
       "model_id": "b72e2aeafd224b328e31360d87771e32",
       "version_major": 2,
       "version_minor": 0
      },
      "text/plain": [
       "Validation loss:   0%|          | 0/779 [00:00<?, ?it/s]"
      ]
     },
     "metadata": {},
     "output_type": "display_data"
    },
    {
     "name": "stderr",
     "output_type": "stream",
     "text": [
      "/srv/conda/envs/notebook/lib/python3.12/site-packages/torchmetrics/utilities/prints.py:43: UserWarning: The variance of predictions or target is close to zero. This can cause instability in Pearson correlationcoefficient, leading to wrong results. Consider re-scaling the input if possible or computing using alarger dtype (currently using torch.float32).\n",
      "  warnings.warn(*args, **kwargs)  # noqa: B028\n"
     ]
    },
    {
     "name": "stdout",
     "output_type": "stream",
     "text": [
      "Epoch 6 of 30\n",
      "                                       Key           Value\n",
      "0                             LearningRate           0.005\n",
      "1                               Loss/train        0.001901\n",
      "2                               Loss/valid  tensor(0.0020)\n",
      "3                MeanAbsoluteError()/train     0.018914387\n",
      "4                MeanAbsoluteError()/valid     0.014114012\n",
      "5                 MeanSquaredError()/train     0.001901353\n",
      "6                 MeanSquaredError()/valid    0.0019693996\n",
      "7   NormalizedRootMeanSquaredError()/train       1.4028484\n",
      "8   NormalizedRootMeanSquaredError()/valid       2.2911544\n",
      "9                  PearsonCorrCoef()/train      0.83036584\n",
      "10                 PearsonCorrCoef()/valid       0.6613105\n",
      "\n"
     ]
    },
    {
     "data": {
      "application/vnd.jupyter.widget-view+json": {
       "model_id": "551d9f85efac4d329e1376c3afd1cb7a",
       "version_major": 2,
       "version_minor": 0
      },
      "text/plain": [
       "Training loss:   0%|          | 0/1481 [00:00<?, ?it/s]"
      ]
     },
     "metadata": {},
     "output_type": "display_data"
    },
    {
     "data": {
      "application/vnd.jupyter.widget-view+json": {
       "model_id": "2301384988cd4101b035dc53e47f772c",
       "version_major": 2,
       "version_minor": 0
      },
      "text/plain": [
       "Validation loss:   0%|          | 0/779 [00:00<?, ?it/s]"
      ]
     },
     "metadata": {},
     "output_type": "display_data"
    },
    {
     "name": "stdout",
     "output_type": "stream",
     "text": [
      "Epoch 7 of 30\n",
      "                                       Key           Value\n",
      "0                             LearningRate           0.005\n",
      "1                               Loss/train         0.00187\n",
      "2                               Loss/valid  tensor(0.0020)\n",
      "3                MeanAbsoluteError()/train     0.018774576\n",
      "4                MeanAbsoluteError()/valid     0.013970991\n",
      "5                 MeanSquaredError()/train    0.0018694417\n",
      "6                 MeanSquaredError()/valid    0.0019793687\n",
      "7   NormalizedRootMeanSquaredError()/train       1.3910272\n",
      "8   NormalizedRootMeanSquaredError()/valid       2.2969418\n",
      "9                  PearsonCorrCoef()/train        0.833469\n",
      "10                 PearsonCorrCoef()/valid       0.6633129\n",
      "\n"
     ]
    },
    {
     "data": {
      "application/vnd.jupyter.widget-view+json": {
       "model_id": "d7640af61fd144e9b0bf96c2cd01e68b",
       "version_major": 2,
       "version_minor": 0
      },
      "text/plain": [
       "Training loss:   0%|          | 0/1481 [00:00<?, ?it/s]"
      ]
     },
     "metadata": {},
     "output_type": "display_data"
    },
    {
     "data": {
      "application/vnd.jupyter.widget-view+json": {
       "model_id": "ee601aa2c7e144d985c9749e03d53893",
       "version_major": 2,
       "version_minor": 0
      },
      "text/plain": [
       "Validation loss:   0%|          | 0/779 [00:00<?, ?it/s]"
      ]
     },
     "metadata": {},
     "output_type": "display_data"
    },
    {
     "name": "stdout",
     "output_type": "stream",
     "text": [
      "Epoch 8 of 30\n",
      "                                       Key           Value\n",
      "0                             LearningRate           0.005\n",
      "1                               Loss/train        0.001862\n",
      "2                               Loss/valid  tensor(0.0020)\n",
      "3                MeanAbsoluteError()/train      0.01874658\n",
      "4                MeanAbsoluteError()/valid     0.015558574\n",
      "5                 MeanSquaredError()/train    0.0018619604\n",
      "6                 MeanSquaredError()/valid    0.0020400293\n",
      "7   NormalizedRootMeanSquaredError()/train       1.3882399\n",
      "8   NormalizedRootMeanSquaredError()/valid       2.3318722\n",
      "9                  PearsonCorrCoef()/train      0.83419085\n",
      "10                 PearsonCorrCoef()/valid       0.6448762\n",
      "\n"
     ]
    },
    {
     "data": {
      "application/vnd.jupyter.widget-view+json": {
       "model_id": "68784eb216c446c082036f40ab9a3266",
       "version_major": 2,
       "version_minor": 0
      },
      "text/plain": [
       "Training loss:   0%|          | 0/1481 [00:00<?, ?it/s]"
      ]
     },
     "metadata": {},
     "output_type": "display_data"
    },
    {
     "data": {
      "application/vnd.jupyter.widget-view+json": {
       "model_id": "e7a31751f3f243b9a1fbdbccdb32070e",
       "version_major": 2,
       "version_minor": 0
      },
      "text/plain": [
       "Validation loss:   0%|          | 0/779 [00:00<?, ?it/s]"
      ]
     },
     "metadata": {},
     "output_type": "display_data"
    },
    {
     "name": "stdout",
     "output_type": "stream",
     "text": [
      "Epoch 9 of 30\n",
      "                                       Key           Value\n",
      "0                             LearningRate           0.001\n",
      "1                               Loss/train        0.001841\n",
      "2                               Loss/valid  tensor(0.0020)\n",
      "3                MeanAbsoluteError()/train     0.018647509\n",
      "4                MeanAbsoluteError()/valid     0.014476488\n",
      "5                 MeanSquaredError()/train    0.0018407166\n",
      "6                 MeanSquaredError()/valid     0.002013047\n",
      "7   NormalizedRootMeanSquaredError()/train       1.3802983\n",
      "8   NormalizedRootMeanSquaredError()/valid       2.3164043\n",
      "9                  PearsonCorrCoef()/train       0.8362553\n",
      "10                 PearsonCorrCoef()/valid       0.6507449\n",
      "\n"
     ]
    },
    {
     "data": {
      "application/vnd.jupyter.widget-view+json": {
       "model_id": "2f2354b48d9f4648a2aaf6f616aeb34d",
       "version_major": 2,
       "version_minor": 0
      },
      "text/plain": [
       "Training loss:   0%|          | 0/1481 [00:00<?, ?it/s]"
      ]
     },
     "metadata": {},
     "output_type": "display_data"
    },
    {
     "data": {
      "application/vnd.jupyter.widget-view+json": {
       "model_id": "f00f1983234d420daddec34993744691",
       "version_major": 2,
       "version_minor": 0
      },
      "text/plain": [
       "Validation loss:   0%|          | 0/779 [00:00<?, ?it/s]"
      ]
     },
     "metadata": {},
     "output_type": "display_data"
    },
    {
     "name": "stdout",
     "output_type": "stream",
     "text": [
      "Epoch 10 of 30\n",
      "                                       Key           Value\n",
      "0                             LearningRate           0.001\n",
      "1                               Loss/train        0.001794\n",
      "2                               Loss/valid  tensor(0.0020)\n",
      "3                MeanAbsoluteError()/train     0.018437466\n",
      "4                MeanAbsoluteError()/valid     0.014227293\n",
      "5                 MeanSquaredError()/train    0.0017933728\n",
      "6                 MeanSquaredError()/valid    0.0020169662\n",
      "7   NormalizedRootMeanSquaredError()/train       1.3624316\n",
      "8   NormalizedRootMeanSquaredError()/valid        2.318657\n",
      "9                  PearsonCorrCoef()/train       0.8408358\n",
      "10                 PearsonCorrCoef()/valid       0.6505265\n",
      "\n"
     ]
    },
    {
     "data": {
      "application/vnd.jupyter.widget-view+json": {
       "model_id": "d26b681cb5de4bd0827c7ea6c01bcc22",
       "version_major": 2,
       "version_minor": 0
      },
      "text/plain": [
       "Training loss:   0%|          | 0/1481 [00:00<?, ?it/s]"
      ]
     },
     "metadata": {},
     "output_type": "display_data"
    },
    {
     "data": {
      "application/vnd.jupyter.widget-view+json": {
       "model_id": "8e2a9070f7254580a34e363ea5e44206",
       "version_major": 2,
       "version_minor": 0
      },
      "text/plain": [
       "Validation loss:   0%|          | 0/779 [00:00<?, ?it/s]"
      ]
     },
     "metadata": {},
     "output_type": "display_data"
    },
    {
     "name": "stdout",
     "output_type": "stream",
     "text": [
      "Epoch 11 of 30\n",
      "                                       Key           Value\n",
      "0                             LearningRate           0.001\n",
      "1                               Loss/train        0.001797\n",
      "2                               Loss/valid  tensor(0.0020)\n",
      "3                MeanAbsoluteError()/train     0.018413052\n",
      "4                MeanAbsoluteError()/valid     0.014131736\n",
      "5                 MeanSquaredError()/train    0.0017925077\n",
      "6                 MeanSquaredError()/valid    0.0019821944\n",
      "7   NormalizedRootMeanSquaredError()/train       1.3621037\n",
      "8   NormalizedRootMeanSquaredError()/valid       2.2985847\n",
      "9                  PearsonCorrCoef()/train       0.8409228\n",
      "10                 PearsonCorrCoef()/valid      0.65812385\n",
      "\n"
     ]
    },
    {
     "data": {
      "application/vnd.jupyter.widget-view+json": {
       "model_id": "6976b816d04b4704baa3fb68f802dc34",
       "version_major": 2,
       "version_minor": 0
      },
      "text/plain": [
       "Training loss:   0%|          | 0/1481 [00:00<?, ?it/s]"
      ]
     },
     "metadata": {},
     "output_type": "display_data"
    },
    {
     "data": {
      "application/vnd.jupyter.widget-view+json": {
       "model_id": "675616c3d32b4e8abdf66270280700b6",
       "version_major": 2,
       "version_minor": 0
      },
      "text/plain": [
       "Validation loss:   0%|          | 0/779 [00:00<?, ?it/s]"
      ]
     },
     "metadata": {},
     "output_type": "display_data"
    },
    {
     "name": "stderr",
     "output_type": "stream",
     "text": [
      "/srv/conda/envs/notebook/lib/python3.12/site-packages/torchmetrics/utilities/prints.py:43: UserWarning: The variance of predictions or target is close to zero. This can cause instability in Pearson correlationcoefficient, leading to wrong results. Consider re-scaling the input if possible or computing using alarger dtype (currently using torch.float32).\n",
      "  warnings.warn(*args, **kwargs)  # noqa: B028\n"
     ]
    },
    {
     "name": "stdout",
     "output_type": "stream",
     "text": [
      "Epoch 12 of 30\n",
      "                                       Key           Value\n",
      "0                             LearningRate           0.001\n",
      "1                               Loss/train        0.001786\n",
      "2                               Loss/valid  tensor(0.0020)\n",
      "3                MeanAbsoluteError()/train      0.01837171\n",
      "4                MeanAbsoluteError()/valid     0.013993802\n",
      "5                 MeanSquaredError()/train    0.0017826624\n",
      "6                 MeanSquaredError()/valid     0.002045254\n",
      "7   NormalizedRootMeanSquaredError()/train        1.358357\n",
      "8   NormalizedRootMeanSquaredError()/valid       2.3348603\n",
      "9                  PearsonCorrCoef()/train      0.84187394\n",
      "10                 PearsonCorrCoef()/valid      0.65443903\n",
      "\n"
     ]
    }
   ],
   "source": [
    "# Build trainer\n",
    "loss = torch.nn.MSELoss()\n",
    "opt  = torch.optim.Adam(m.parameters(), lr=0.005)\n",
    "scheduler = torch.optim.lr_scheduler.ReduceLROnPlateau(opt, patience=3, factor=0.2, threshold=0.01)\n",
    "metrics = util.training.get_regr_metrics()\n",
    "\n",
    "model_name = f\"03312025_convlstm__8_8_3__ewma__3x3conv\"\n",
    "logdir = os.path.join(\"logs\", model_name)\n",
    "\n",
    "# Remove existing logs if present\n",
    "if os.path.exists(logdir):\n",
    "    util.training.remove_log(logdir)\n",
    "\n",
    "trainer = Trainer(\n",
    "    m, opt, scheduler, loss, train_loader, valid_loader,\n",
    "    metrics=metrics, \n",
    "    n_epochs=30,\n",
    "    tensorboard_log=os.path.join(logdir, \"history\"),\n",
    "    model_log=os.path.join(logdir, \"model.pth\"),\n",
    "    defn_log=os.path.join(logdir, \"model_definition.txt\"),\n",
    "    verbose=True,\n",
    "    stop_patience=5,\n",
    "    rel_improve=0.01,\n",
    ")\n",
    "\n",
    "trainer.train()"
   ]
  },
  {
   "cell_type": "code",
   "execution_count": 24,
   "id": "c55924e8-87cb-44cf-b25a-407e0f80f312",
   "metadata": {},
   "outputs": [
    {
     "data": {
      "text/plain": [
       "(<Figure size 640x480 with 6 Axes>,\n",
       " <Axes: title={'center': 'MeanSquaredError()'}>)"
      ]
     },
     "execution_count": 24,
     "metadata": {},
     "output_type": "execute_result"
    },
    {
     "data": {
      "image/png": "[encoded data removed]",
      "text/plain": [
       "<Figure size 640x480 with 6 Axes>"
      ]
     },
     "metadata": {},
     "output_type": "display_data"
    }
   ],
   "source": [
    "util.plot.plot_all_scalars_in_run(f\"logs/{model_name}/history/\")"
   ]
  },
  {
   "cell_type": "markdown",
   "id": "f8375ae2-7e29-4055-a8a1-b97bfeaa8ed6",
   "metadata": {},
   "source": [
    "Calculate performance on test set"
   ]
  },
  {
   "cell_type": "code",
   "execution_count": 25,
   "id": "150f5993-3ce6-485f-ba73-3a653ddb3263",
   "metadata": {},
   "outputs": [
    {
     "name": "stderr",
     "output_type": "stream",
     "text": [
      "                                                   "
     ]
    },
    {
     "name": "stdout",
     "output_type": "stream",
     "text": [
      "NormalizedRootMeanSquaredError(): 1.654\n",
      "PearsonCorrCoef(): 0.843\n",
      "MeanAbsoluteError(): 0.011\n",
      "MeanSquaredError(): 0.001\n"
     ]
    },
    {
     "name": "stderr",
     "output_type": "stream",
     "text": []
    }
   ],
   "source": [
    "from tqdm import tqdm\n",
    "import pandas as pd\n",
    "\n",
    "test_metrics = util.training.get_regr_metrics()\n",
    "\n",
    "m.eval()\n",
    "with torch.no_grad():\n",
    "    for (X, y) in tqdm(test_loader, leave=False):\n",
    "        y_hat = m(X)\n",
    "        mask = ~torch.isnan(y)\n",
    "        \n",
    "        for metric in test_metrics:\n",
    "            metric(y_hat[mask].view(-1), y[mask].view(-1))\n",
    "\n",
    "for metric in test_metrics:\n",
    "    print(f\"{str(metric)}: {metric.compute():.3f}\")"
   ]
  },
  {
   "cell_type": "code",
   "execution_count": 26,
   "id": "1319b9f9-4546-459b-8aef-524351c59a8a",
   "metadata": {},
   "outputs": [],
   "source": [
    "train_metrics = util.training.get_final_metrics(f\"logs/{model_name}/history\")"
   ]
  },
  {
   "cell_type": "code",
   "execution_count": 27,
   "id": "0da917f5-a2a5-45de-980a-5466b49542e5",
   "metadata": {},
   "outputs": [
    {
     "data": {
      "text/plain": [
       "{'NormalizedRootMeanSquaredError()/train': 1.3583569526672363,\n",
       " 'PearsonCorrCoef()/train': 0.8418739438056946,\n",
       " 'MeanAbsoluteError()/train': 0.018371710553765297,\n",
       " 'MeanSquaredError()/train': 0.001782662351615727,\n",
       " 'NormalizedRootMeanSquaredError()/valid': 2.334860324859619,\n",
       " 'PearsonCorrCoef()/valid': 0.6544390320777893,\n",
       " 'MeanAbsoluteError()/valid': 0.013993801549077034,\n",
       " 'MeanSquaredError()/valid': 0.0020452539902180433,\n",
       " 'Loss/train': 0.0017858367646113038,\n",
       " 'Loss/valid': 0.0020453825127333403,\n",
       " 'LearningRate': 0.0010000000474974513}"
      ]
     },
     "execution_count": 27,
     "metadata": {},
     "output_type": "execute_result"
    }
   ],
   "source": [
    "train_metrics"
   ]
  },
  {
   "cell_type": "code",
   "execution_count": 28,
   "id": "6a4c9379-0b24-42e7-9dcc-308e0e064e5f",
   "metadata": {},
   "outputs": [
    {
     "data": {
      "text/plain": [
       "<matplotlib.legend.Legend at 0x7f6476460b30>"
      ]
     },
     "execution_count": 28,
     "metadata": {},
     "output_type": "execute_result"
    },
    {
     "data": {
      "image/png": "[encoded data removed]",
      "text/plain": [
       "<Figure size 1100x400 with 3 Axes>"
      ]
     },
     "metadata": {},
     "output_type": "display_data"
    }
   ],
   "source": [
    "from matplotlib.patches import Rectangle\n",
    "\n",
    "fig, (ax1, ax2, ax3) = plt.subplots(1, 3, figsize=(11, 4))\n",
    "\n",
    "nrmse = \"NormalizedRootMeanSquaredError()\"\n",
    "mae = \"MeanAbsoluteError()\"\n",
    "rho = \"PearsonCorrCoef()\"\n",
    "\n",
    "label = [\"Train\", \"Valid\", \"Test\"]\n",
    "color = [\"#2ca25f\", \"#2b8cbe\", \"#f03b20\"]\n",
    "\n",
    "nrmse_values = [\n",
    "    train_metrics[f\"{nrmse}/train\"],\n",
    "    train_metrics[f\"{nrmse}/valid\"], \n",
    "    test_metrics[0].compute().cpu(), \n",
    "]\n",
    "r2_values = [\n",
    "    train_metrics[f\"{rho}/train\"], \n",
    "    train_metrics[f\"{rho}/valid\"], \n",
    "    test_metrics[1].compute().cpu(), \n",
    "]\n",
    "mae_values = [\n",
    "    train_metrics[f\"{mae}/train\"], \n",
    "    train_metrics[f\"{mae}/valid\"], \n",
    "    test_metrics[2].compute().cpu(), \n",
    "]\n",
    "x = [0, 1, 2]\n",
    "\n",
    "ax1.set_title(\"Normalized RMSE (↓)\")\n",
    "b = ax1.bar(x, nrmse_values, label=label, color=color)\n",
    "ax1.bar_label(b, fmt=\"%.2f\")\n",
    "ax1.xaxis.set_visible(False)\n",
    "ax1.yaxis.set_visible(False)\n",
    "\n",
    "ax3.set_title(\"Pearson's r (↑)\")\n",
    "b = ax3.bar(x, r2_values, label=label, color=color)\n",
    "ax3.bar_label(b, fmt=\"%.2f\")\n",
    "ax3.xaxis.set_visible(False)\n",
    "ax3.yaxis.set_visible(False)\n",
    "# ax2.legend()\n",
    "\n",
    "ax2.set_title(\"Mean Absolute Error (↓)\")\n",
    "b = ax2.bar(x, mae_values, label=label, color=color)\n",
    "ax2.bar_label(b, fmt=\"%.3f\")\n",
    "ax2.xaxis.set_visible(False)\n",
    "ax2.yaxis.set_visible(False)\n",
    "# ax2.legend()\n",
    "\n",
    "handles, labels = ax1.get_legend_handles_labels()\n",
    "\n",
    "plt.legend(handles, labels, ncol=3, loc = 'lower center', bbox_to_anchor = (0, -0.1, 1, 1),\n",
    "           bbox_transform = plt.gcf().transFigure)\n",
    "# fig.tight_layout()"
   ]
  },
  {
   "cell_type": "markdown",
   "id": "98715643-3d82-4794-9b2d-0dd51ad6f1b1",
   "metadata": {},
   "source": [
    "Prediction map"
   ]
  },
  {
   "cell_type": "code",
   "execution_count": 29,
   "id": "11458495-ed9b-4491-a3c3-20118a389d4c",
   "metadata": {},
   "outputs": [
    {
     "name": "stdout",
     "output_type": "stream",
     "text": [
      "63583\n"
     ]
    }
   ],
   "source": [
    "ds_infer = ds.sel(time=np.concatenate([valid_years, test_years]))\n",
    "wds_infer = util.datasets.WindowXarrayDataset(\n",
    "    ds_infer, window, \n",
    "    mask=ds_infer.sel(band=\"mortality\"), \n",
    "    na_thresh=0.5,\n",
    "    downsample_step=10\n",
    ")\n",
    "print(len(wds_infer))"
   ]
  },
  {
   "cell_type": "code",
   "execution_count": 30,
   "id": "0085097a-506c-43b0-b9ea-3b475d39488c",
   "metadata": {},
   "outputs": [],
   "source": [
    "ch_means = m.convlstm.bn.running_mean.unsqueeze(-1).unsqueeze(-1)\n",
    "\n",
    "def inference_collator(patch):\n",
    "    X = torch.tensor(\n",
    "            np.squeeze(patch.values[:-1, input_inds, :, :]),\n",
    "            dtype=dtype,\n",
    "            device=device\n",
    "        ).unsqueeze(0)\n",
    "\n",
    "    # Replace nan cells with the channel mean\n",
    "    X = torch.nan_to_num(X)\n",
    "    X += ch_means * torch.isnan(X)\n",
    "    return X"
   ]
  },
  {
   "cell_type": "code",
   "execution_count": 34,
   "id": "19dc44d9-3848-43a0-bc4b-33a0e57480d5",
   "metadata": {},
   "outputs": [
    {
     "name": "stderr",
     "output_type": "stream",
     "text": [
      "100%|██████████| 63583/63583 [02:53<00:00, 366.48it/s]\n"
     ]
    }
   ],
   "source": [
    "out_arr = np.zeros(ds_infer.isel(band=0).shape)\n",
    "out_n   = np.zeros(out_arr.shape)\n",
    "\n",
    "m.eval()\n",
    "with torch.no_grad():\n",
    "    for i in tqdm(range(len(wds_infer))):\n",
    "        input_tensor = inference_collator(wds_infer[i])\n",
    "        t = wds_infer.valid_indices[\"time\"][i]\n",
    "        y = wds_infer.valid_indices[\"y\"][i]\n",
    "        x = wds_infer.valid_indices[\"x\"][i]\n",
    "    \n",
    "        output_tensor = m(input_tensor).detach().cpu().numpy()\n",
    "    \n",
    "        out_arr[t, y-window_y_size+1:y+1, x-window_x_size+1:x+1] += np.log10(output_tensor[0, ...])\n",
    "        out_n[t, y-window_y_size+1:y+1, x-window_x_size+1:x+1] += 1"
   ]
  },
  {
   "cell_type": "code",
   "execution_count": 35,
   "id": "1394a610-5011-4fb3-9672-c6b3c42b111d",
   "metadata": {},
   "outputs": [
    {
     "name": "stderr",
     "output_type": "stream",
     "text": [
      "/tmp/ipykernel_567/2143291068.py:1: RuntimeWarning: invalid value encountered in divide\n",
      "  out_avg = out_arr / out_n\n"
     ]
    }
   ],
   "source": [
    "out_avg = out_arr / out_n\n",
    "out_arr[out_n == 0] = np.nan\n",
    "out_pct = 10 ** out_avg\n",
    "\n",
    "out_da = xr.DataArray(\n",
    "    data=out_pct,\n",
    "    dims=[\"time\", \"y\", \"x\"],\n",
    "    coords=dict(\n",
    "        time=ds_infer.time,\n",
    "        y=ds_infer.y,\n",
    "        x=ds_infer.x\n",
    "    )\n",
    ")"
   ]
  },
  {
   "cell_type": "code",
   "execution_count": 36,
   "id": "3353862f-5f3f-4d0c-ac81-47de38b3af01",
   "metadata": {},
   "outputs": [
    {
     "data": {
      "image/png": "[encoded data removed]",
      "text/plain": [
       "<Figure size 1100x550 with 5 Axes>"
      ]
     },
     "execution_count": 36,
     "metadata": {},
     "output_type": "execute_result"
    }
   ],
   "source": [
    "from matplotlib.gridspec import GridSpec\n",
    "import matplotlib.patheffects as pe\n",
    "import geopandas as gpd\n",
    "from cartopy import crs as ccrs\n",
    "from cartopy import feature as cfeature\n",
    "import shapely\n",
    "from shapely.geometry import box\n",
    "\n",
    "regions = gpd.read_file(\"data_in/regions_simple2.geojson\")\n",
    "\n",
    "fig = plt.Figure(layout=\"constrained\", figsize=(11, 5.5))\n",
    "gs = GridSpec(2, 3, figure=fig, width_ratios=[2, 1, 1])\n",
    "\n",
    "projection = ccrs.AlbersEqualArea(central_latitude=42, central_longitude=-110)\n",
    "map_ax = fig.add_subplot(gs[:, 0], projection=projection)\n",
    "\n",
    "# Make the map\n",
    "map_ax.coastlines(linewidth=0.5)\n",
    "\n",
    "# Expand the bounding box a little so that we don't crop too much\n",
    "mycrs = ccrs.epsg(\"3857\")\n",
    "bbox = box(*regions.total_bounds)\n",
    "bbox = bbox.buffer(5e5) # meters\n",
    "\n",
    "minx, miny, maxx, maxy = shapely.bounds(bbox)\n",
    "\n",
    "# Add region geometries\n",
    "for i in range(regions.shape[0]):\n",
    "    geom = regions.geometry[i]\n",
    "    map_ax.add_geometries(geom, crs=mycrs)\n",
    "    map_ax.text(\n",
    "        geom.centroid.x, geom.centroid.y, regions.name[i], \n",
    "        transform=mycrs,\n",
    "        horizontalalignment=\"center\",\n",
    "        path_effects=[pe.withStroke(linewidth=4, foreground=\"white\")]\n",
    "    )\n",
    "\n",
    "map_ax.add_feature(cfeature.STATES, linestyle=':', edgecolor='black', linewidth=0.5)\n",
    "map_ax.set_extent((minx, maxx, miny, maxy), crs=mycrs)\n",
    "\n",
    "axes = []\n",
    "\n",
    "for i, (row, col) in enumerate(zip((1, 0, 1, 0), (2, 1, 1, 2))):\n",
    "    ax = fig.add_subplot(gs[row, col])\n",
    "    axes.append(ax)\n",
    "    geom = regions.geometry[i]\n",
    "    # Mean of geometric mean - no transformation necessary imo\n",
    "    model = out_da.rio.write_crs(3857).rio.clip([geom]).mean(dim=[\"x\", \"y\"], skipna=True).values * 100\n",
    "    # Maybe do a geometric mean here?\n",
    "    data  = ds_infer.sel(band=\"mort_ewma\").rio.write_crs(3857).rio.clip([geom]).mean(dim=[\"x\", \"y\"], skipna=True).values\n",
    "\n",
    "    ax.plot(ds_infer.time, data, label=\"Actual\", marker=\".\")\n",
    "    ax.plot(ds_infer.time, model, label=\"Model\", marker=\".\")\n",
    "    ax.set_ylim(0, 11)\n",
    "    ax.set_title(regions.name[i])\n",
    "    ax.grid()\n",
    "\n",
    "axes[1].legend()\n",
    "\n",
    "fig"
   ]
  }
 ],
 "metadata": {
  "kernelspec": {
   "display_name": "Python 3 (ipykernel)",
   "language": "python",
   "name": "python3"
  },
  "language_info": {
   "codemirror_mode": {
    "name": "ipython",
    "version": 3
   },
   "file_extension": ".py",
   "mimetype": "text/x-python",
   "name": "python",
   "nbconvert_exporter": "python",
   "pygments_lexer": "ipython3",
   "version": "3.12.8"
  }
 },
 "nbformat": 4,
 "nbformat_minor": 5
}
