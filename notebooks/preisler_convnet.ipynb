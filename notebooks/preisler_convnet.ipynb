{
 "cells": [
  {
   "cell_type": "code",
   "execution_count": 1,
   "id": "821cfc81-26f3-4986-b505-ac71c4c8504e",
   "metadata": {},
   "outputs": [],
   "source": [
    "%%capture\n",
    "!pip install xbatcher tensorboard imbalanced-learn"
   ]
  },
  {
   "cell_type": "code",
   "execution_count": 2,
   "id": "18b87975-11c4-48a4-a241-bbb81d39361b",
   "metadata": {},
   "outputs": [
    {
     "name": "stdout",
     "output_type": "stream",
     "text": [
      "Using device: cpu\n",
      "\n"
     ]
    }
   ],
   "source": [
    "import os\n",
    "if 'notebooks' in os.getcwd():\n",
    "    os.chdir(\"..\")\n",
    "\n",
    "import util\n",
    "import torch\n",
    "import xarray as xr\n",
    "import numpy as np\n",
    "import matplotlib.pyplot as plt\n",
    "from importlib import reload\n",
    "\n",
    "# If we have gpu available, use it\n",
    "device = torch.device('cuda' if torch.cuda.is_available() else 'cpu')\n",
    "print('Using device:', device)\n",
    "print()\n",
    "torch.set_default_device(device)\n",
    "\n",
    "#Additional Info when using cuda\n",
    "if device.type == 'cuda':\n",
    "    print(torch.cuda.get_device_name(0))\n",
    "    print('Memory Usage:')\n",
    "    print('Allocated:', round(torch.cuda.memory_allocated(0)/1024**3,1), 'GB')\n",
    "    print('Cached:   ', round(torch.cuda.memory_reserved(0)/1024**3,1), 'GB')"
   ]
  },
  {
   "cell_type": "markdown",
   "id": "d83cb7ab-19ef-459d-95c6-53756a192414",
   "metadata": {},
   "source": [
    "Prepare data"
   ]
  },
  {
   "cell_type": "code",
   "execution_count": 3,
   "id": "deaecc90-a2aa-439a-bcd7-64089027c664",
   "metadata": {},
   "outputs": [],
   "source": [
    "ds = xr.open_dataset(\"data_working/westmort.nc\")\\\n",
    "    .squeeze(drop=True)\\\n",
    "    .drop_vars(\"spatial_ref\")"
   ]
  },
  {
   "cell_type": "code",
   "execution_count": 4,
   "id": "3a4942f6-503f-4852-af61-2c795134630a",
   "metadata": {},
   "outputs": [],
   "source": [
    "# Use EWMA to smooth mortality observations\n",
    "ds[\"mort_ewma\"] = xr.apply_ufunc(\n",
    "    util.manip.numpy_ewma_vectorized,\n",
    "    ds.mortality,\n",
    "    input_core_dims=[[\"time\"]],\n",
    "    output_core_dims=[[\"time\"]],\n",
    "    vectorize=True,\n",
    "    kwargs=dict(window=3)\n",
    ")"
   ]
  },
  {
   "cell_type": "code",
   "execution_count": 5,
   "id": "feaef501-fc24-46dd-adbc-9980968c4035",
   "metadata": {},
   "outputs": [],
   "source": [
    "# Calculate total basal area based on all the genus rasters\n",
    "ba_vars = [\"abies\", \"picea\", \"populus\", \"tsuga\", \"pseudotsuga\"]\n",
    "ds[\"forest_ba\"] = ds[ba_vars].to_stacked_array(\"band\", sample_dims=[\"x\", \"y\", \"time\"]).sum(dim=\"band\")"
   ]
  },
  {
   "cell_type": "code",
   "execution_count": 6,
   "id": "39008809-12c1-45f9-a8d2-058214e2d8f2",
   "metadata": {},
   "outputs": [
    {
     "data": {
      "text/html": [
       "<div><svg style=\"position: absolute; width: 0; height: 0; overflow: hidden\">\n",
       "<defs>\n",
       "<symbol id=\"icon-database\" viewBox=\"0 0 32 32\">\n",
       "<path d=\"M16 0c-8.837 0-16 2.239-16 5v4c0 2.761 7.163 5 16 5s16-2.239 16-5v-4c0-2.761-7.163-5-16-5z\"></path>\n",
       "<path d=\"M16 17c-8.837 0-16-2.239-16-5v6c0 2.761 7.163 5 16 5s16-2.239 16-5v-6c0 2.761-7.163 5-16 5z\"></path>\n",
       "<path d=\"M16 26c-8.837 0-16-2.239-16-5v6c0 2.761 7.163 5 16 5s16-2.239 16-5v-6c0 2.761-7.163 5-16 5z\"></path>\n",
       "</symbol>\n",
       "<symbol id=\"icon-file-text2\" viewBox=\"0 0 32 32\">\n",
       "<path d=\"M28.681 7.159c-0.694-0.947-1.662-2.053-2.724-3.116s-2.169-2.030-3.116-2.724c-1.612-1.182-2.393-1.319-2.841-1.319h-15.5c-1.378 0-2.5 1.121-2.5 2.5v27c0 1.378 1.122 2.5 2.5 2.5h23c1.378 0 2.5-1.122 2.5-2.5v-19.5c0-0.448-0.137-1.23-1.319-2.841zM24.543 5.457c0.959 0.959 1.712 1.825 2.268 2.543h-4.811v-4.811c0.718 0.556 1.584 1.309 2.543 2.268zM28 29.5c0 0.271-0.229 0.5-0.5 0.5h-23c-0.271 0-0.5-0.229-0.5-0.5v-27c0-0.271 0.229-0.5 0.5-0.5 0 0 15.499-0 15.5 0v7c0 0.552 0.448 1 1 1h7v19.5z\"></path>\n",
       "<path d=\"M23 26h-14c-0.552 0-1-0.448-1-1s0.448-1 1-1h14c0.552 0 1 0.448 1 1s-0.448 1-1 1z\"></path>\n",
       "<path d=\"M23 22h-14c-0.552 0-1-0.448-1-1s0.448-1 1-1h14c0.552 0 1 0.448 1 1s-0.448 1-1 1z\"></path>\n",
       "<path d=\"M23 18h-14c-0.552 0-1-0.448-1-1s0.448-1 1-1h14c0.552 0 1 0.448 1 1s-0.448 1-1 1z\"></path>\n",
       "</symbol>\n",
       "</defs>\n",
       "</svg>\n",
       "<style>/* CSS stylesheet for displaying xarray objects in jupyterlab.\n",
       " *\n",
       " */\n",
       "\n",
       ":root {\n",
       "  --xr-font-color0: var(--jp-content-font-color0, rgba(0, 0, 0, 1));\n",
       "  --xr-font-color2: var(--jp-content-font-color2, rgba(0, 0, 0, 0.54));\n",
       "  --xr-font-color3: var(--jp-content-font-color3, rgba(0, 0, 0, 0.38));\n",
       "  --xr-border-color: var(--jp-border-color2, #e0e0e0);\n",
       "  --xr-disabled-color: var(--jp-layout-color3, #bdbdbd);\n",
       "  --xr-background-color: var(--jp-layout-color0, white);\n",
       "  --xr-background-color-row-even: var(--jp-layout-color1, white);\n",
       "  --xr-background-color-row-odd: var(--jp-layout-color2, #eeeeee);\n",
       "}\n",
       "\n",
       "html[theme=\"dark\"],\n",
       "html[data-theme=\"dark\"],\n",
       "body[data-theme=\"dark\"],\n",
       "body.vscode-dark {\n",
       "  --xr-font-color0: rgba(255, 255, 255, 1);\n",
       "  --xr-font-color2: rgba(255, 255, 255, 0.54);\n",
       "  --xr-font-color3: rgba(255, 255, 255, 0.38);\n",
       "  --xr-border-color: #1f1f1f;\n",
       "  --xr-disabled-color: #515151;\n",
       "  --xr-background-color: #111111;\n",
       "  --xr-background-color-row-even: #111111;\n",
       "  --xr-background-color-row-odd: #313131;\n",
       "}\n",
       "\n",
       ".xr-wrap {\n",
       "  display: block !important;\n",
       "  min-width: 300px;\n",
       "  max-width: 700px;\n",
       "}\n",
       "\n",
       ".xr-text-repr-fallback {\n",
       "  /* fallback to plain text repr when CSS is not injected (untrusted notebook) */\n",
       "  display: none;\n",
       "}\n",
       "\n",
       ".xr-header {\n",
       "  padding-top: 6px;\n",
       "  padding-bottom: 6px;\n",
       "  margin-bottom: 4px;\n",
       "  border-bottom: solid 1px var(--xr-border-color);\n",
       "}\n",
       "\n",
       ".xr-header > div,\n",
       ".xr-header > ul {\n",
       "  display: inline;\n",
       "  margin-top: 0;\n",
       "  margin-bottom: 0;\n",
       "}\n",
       "\n",
       ".xr-obj-type,\n",
       ".xr-array-name {\n",
       "  margin-left: 2px;\n",
       "  margin-right: 10px;\n",
       "}\n",
       "\n",
       ".xr-obj-type {\n",
       "  color: var(--xr-font-color2);\n",
       "}\n",
       "\n",
       ".xr-sections {\n",
       "  padding-left: 0 !important;\n",
       "  display: grid;\n",
       "  grid-template-columns: 150px auto auto 1fr 0 20px 0 20px;\n",
       "}\n",
       "\n",
       ".xr-section-item {\n",
       "  display: contents;\n",
       "}\n",
       "\n",
       ".xr-section-item input {\n",
       "  display: inline-block;\n",
       "  opacity: 0;\n",
       "  height: 0;\n",
       "}\n",
       "\n",
       ".xr-section-item input + label {\n",
       "  color: var(--xr-disabled-color);\n",
       "}\n",
       "\n",
       ".xr-section-item input:enabled + label {\n",
       "  cursor: pointer;\n",
       "  color: var(--xr-font-color2);\n",
       "}\n",
       "\n",
       ".xr-section-item input:focus + label {\n",
       "  border: 2px solid var(--xr-font-color0);\n",
       "}\n",
       "\n",
       ".xr-section-item input:enabled + label:hover {\n",
       "  color: var(--xr-font-color0);\n",
       "}\n",
       "\n",
       ".xr-section-summary {\n",
       "  grid-column: 1;\n",
       "  color: var(--xr-font-color2);\n",
       "  font-weight: 500;\n",
       "}\n",
       "\n",
       ".xr-section-summary > span {\n",
       "  display: inline-block;\n",
       "  padding-left: 0.5em;\n",
       "}\n",
       "\n",
       ".xr-section-summary-in:disabled + label {\n",
       "  color: var(--xr-font-color2);\n",
       "}\n",
       "\n",
       ".xr-section-summary-in + label:before {\n",
       "  display: inline-block;\n",
       "  content: \"►\";\n",
       "  font-size: 11px;\n",
       "  width: 15px;\n",
       "  text-align: center;\n",
       "}\n",
       "\n",
       ".xr-section-summary-in:disabled + label:before {\n",
       "  color: var(--xr-disabled-color);\n",
       "}\n",
       "\n",
       ".xr-section-summary-in:checked + label:before {\n",
       "  content: \"▼\";\n",
       "}\n",
       "\n",
       ".xr-section-summary-in:checked + label > span {\n",
       "  display: none;\n",
       "}\n",
       "\n",
       ".xr-section-summary,\n",
       ".xr-section-inline-details {\n",
       "  padding-top: 4px;\n",
       "  padding-bottom: 4px;\n",
       "}\n",
       "\n",
       ".xr-section-inline-details {\n",
       "  grid-column: 2 / -1;\n",
       "}\n",
       "\n",
       ".xr-section-details {\n",
       "  display: none;\n",
       "  grid-column: 1 / -1;\n",
       "  margin-bottom: 5px;\n",
       "}\n",
       "\n",
       ".xr-section-summary-in:checked ~ .xr-section-details {\n",
       "  display: contents;\n",
       "}\n",
       "\n",
       ".xr-array-wrap {\n",
       "  grid-column: 1 / -1;\n",
       "  display: grid;\n",
       "  grid-template-columns: 20px auto;\n",
       "}\n",
       "\n",
       ".xr-array-wrap > label {\n",
       "  grid-column: 1;\n",
       "  vertical-align: top;\n",
       "}\n",
       "\n",
       ".xr-preview {\n",
       "  color: var(--xr-font-color3);\n",
       "}\n",
       "\n",
       ".xr-array-preview,\n",
       ".xr-array-data {\n",
       "  padding: 0 5px !important;\n",
       "  grid-column: 2;\n",
       "}\n",
       "\n",
       ".xr-array-data,\n",
       ".xr-array-in:checked ~ .xr-array-preview {\n",
       "  display: none;\n",
       "}\n",
       "\n",
       ".xr-array-in:checked ~ .xr-array-data,\n",
       ".xr-array-preview {\n",
       "  display: inline-block;\n",
       "}\n",
       "\n",
       ".xr-dim-list {\n",
       "  display: inline-block !important;\n",
       "  list-style: none;\n",
       "  padding: 0 !important;\n",
       "  margin: 0;\n",
       "}\n",
       "\n",
       ".xr-dim-list li {\n",
       "  display: inline-block;\n",
       "  padding: 0;\n",
       "  margin: 0;\n",
       "}\n",
       "\n",
       ".xr-dim-list:before {\n",
       "  content: \"(\";\n",
       "}\n",
       "\n",
       ".xr-dim-list:after {\n",
       "  content: \")\";\n",
       "}\n",
       "\n",
       ".xr-dim-list li:not(:last-child):after {\n",
       "  content: \",\";\n",
       "  padding-right: 5px;\n",
       "}\n",
       "\n",
       ".xr-has-index {\n",
       "  font-weight: bold;\n",
       "}\n",
       "\n",
       ".xr-var-list,\n",
       ".xr-var-item {\n",
       "  display: contents;\n",
       "}\n",
       "\n",
       ".xr-var-item > div,\n",
       ".xr-var-item label,\n",
       ".xr-var-item > .xr-var-name span {\n",
       "  background-color: var(--xr-background-color-row-even);\n",
       "  margin-bottom: 0;\n",
       "}\n",
       "\n",
       ".xr-var-item > .xr-var-name:hover span {\n",
       "  padding-right: 5px;\n",
       "}\n",
       "\n",
       ".xr-var-list > li:nth-child(odd) > div,\n",
       ".xr-var-list > li:nth-child(odd) > label,\n",
       ".xr-var-list > li:nth-child(odd) > .xr-var-name span {\n",
       "  background-color: var(--xr-background-color-row-odd);\n",
       "}\n",
       "\n",
       ".xr-var-name {\n",
       "  grid-column: 1;\n",
       "}\n",
       "\n",
       ".xr-var-dims {\n",
       "  grid-column: 2;\n",
       "}\n",
       "\n",
       ".xr-var-dtype {\n",
       "  grid-column: 3;\n",
       "  text-align: right;\n",
       "  color: var(--xr-font-color2);\n",
       "}\n",
       "\n",
       ".xr-var-preview {\n",
       "  grid-column: 4;\n",
       "}\n",
       "\n",
       ".xr-index-preview {\n",
       "  grid-column: 2 / 5;\n",
       "  color: var(--xr-font-color2);\n",
       "}\n",
       "\n",
       ".xr-var-name,\n",
       ".xr-var-dims,\n",
       ".xr-var-dtype,\n",
       ".xr-preview,\n",
       ".xr-attrs dt {\n",
       "  white-space: nowrap;\n",
       "  overflow: hidden;\n",
       "  text-overflow: ellipsis;\n",
       "  padding-right: 10px;\n",
       "}\n",
       "\n",
       ".xr-var-name:hover,\n",
       ".xr-var-dims:hover,\n",
       ".xr-var-dtype:hover,\n",
       ".xr-attrs dt:hover {\n",
       "  overflow: visible;\n",
       "  width: auto;\n",
       "  z-index: 1;\n",
       "}\n",
       "\n",
       ".xr-var-attrs,\n",
       ".xr-var-data,\n",
       ".xr-index-data {\n",
       "  display: none;\n",
       "  background-color: var(--xr-background-color) !important;\n",
       "  padding-bottom: 5px !important;\n",
       "}\n",
       "\n",
       ".xr-var-attrs-in:checked ~ .xr-var-attrs,\n",
       ".xr-var-data-in:checked ~ .xr-var-data,\n",
       ".xr-index-data-in:checked ~ .xr-index-data {\n",
       "  display: block;\n",
       "}\n",
       "\n",
       ".xr-var-data > table {\n",
       "  float: right;\n",
       "}\n",
       "\n",
       ".xr-var-name span,\n",
       ".xr-var-data,\n",
       ".xr-index-name div,\n",
       ".xr-index-data,\n",
       ".xr-attrs {\n",
       "  padding-left: 25px !important;\n",
       "}\n",
       "\n",
       ".xr-attrs,\n",
       ".xr-var-attrs,\n",
       ".xr-var-data,\n",
       ".xr-index-data {\n",
       "  grid-column: 1 / -1;\n",
       "}\n",
       "\n",
       "dl.xr-attrs {\n",
       "  padding: 0;\n",
       "  margin: 0;\n",
       "  display: grid;\n",
       "  grid-template-columns: 125px auto;\n",
       "}\n",
       "\n",
       ".xr-attrs dt,\n",
       ".xr-attrs dd {\n",
       "  padding: 0;\n",
       "  margin: 0;\n",
       "  float: left;\n",
       "  padding-right: 10px;\n",
       "  width: auto;\n",
       "}\n",
       "\n",
       ".xr-attrs dt {\n",
       "  font-weight: normal;\n",
       "  grid-column: 1;\n",
       "}\n",
       "\n",
       ".xr-attrs dt:hover span {\n",
       "  display: inline-block;\n",
       "  background: var(--xr-background-color);\n",
       "  padding-right: 10px;\n",
       "}\n",
       "\n",
       ".xr-attrs dd {\n",
       "  grid-column: 2;\n",
       "  white-space: pre-wrap;\n",
       "  word-break: break-all;\n",
       "}\n",
       "\n",
       ".xr-icon-database,\n",
       ".xr-icon-file-text2,\n",
       ".xr-no-icon {\n",
       "  display: inline-block;\n",
       "  vertical-align: middle;\n",
       "  width: 1em;\n",
       "  height: 1.5em !important;\n",
       "  stroke-width: 0;\n",
       "  stroke: currentColor;\n",
       "  fill: currentColor;\n",
       "}\n",
       "</style><pre class='xr-text-repr-fallback'>&lt;xarray.DataArray &#x27;abies&#x27; (time: 27, band: 18, y: 652, x: 590)&gt; Size: 748MB\n",
       "array([[[[nan, nan, nan, ..., nan, nan, nan],\n",
       "         [nan, nan, nan, ..., nan, nan, nan],\n",
       "         [nan, nan, nan, ..., nan, nan, nan],\n",
       "         ...,\n",
       "         [nan, nan, nan, ..., nan, nan, nan],\n",
       "         [nan, nan, nan, ..., nan, nan, nan],\n",
       "         [nan, nan, nan, ..., nan, nan, nan]],\n",
       "\n",
       "        [[nan, nan, nan, ..., nan, nan, nan],\n",
       "         [nan, nan, nan, ..., nan, nan, nan],\n",
       "         [nan, nan, nan, ..., nan, nan, nan],\n",
       "         ...,\n",
       "         [nan, nan, nan, ..., nan, nan, nan],\n",
       "         [nan, nan, nan, ..., nan, nan, nan],\n",
       "         [nan, nan, nan, ..., nan, nan, nan]],\n",
       "\n",
       "        [[nan, nan, nan, ..., nan, nan, nan],\n",
       "         [nan, nan, nan, ..., nan, nan, nan],\n",
       "         [nan, nan, nan, ..., nan, nan, nan],\n",
       "         ...,\n",
       "...\n",
       "         ...,\n",
       "         [nan, nan, nan, ...,  0.,  0.,  0.],\n",
       "         [nan, nan, nan, ...,  0.,  0.,  0.],\n",
       "         [nan, nan, nan, ...,  0.,  0.,  0.]],\n",
       "\n",
       "        [[nan, nan, nan, ..., nan, nan, nan],\n",
       "         [nan, nan, nan, ..., nan, nan, nan],\n",
       "         [nan, nan, nan, ..., nan, nan, nan],\n",
       "         ...,\n",
       "         [nan, nan, nan, ..., nan, nan, nan],\n",
       "         [nan, nan, nan, ..., nan, nan, nan],\n",
       "         [nan, nan, nan, ..., nan, nan, nan]],\n",
       "\n",
       "        [[ 0.,  0.,  0., ...,  0.,  0.,  0.],\n",
       "         [ 0.,  0.,  0., ...,  0.,  0.,  0.],\n",
       "         [ 0.,  0.,  0., ...,  0.,  0.,  0.],\n",
       "         ...,\n",
       "         [ 0.,  0.,  0., ...,  0.,  0.,  0.],\n",
       "         [ 0.,  0.,  0., ...,  0.,  0.,  0.],\n",
       "         [ 0.,  0.,  0., ...,  0.,  0.,  0.]]]], dtype=float32)\n",
       "Coordinates:\n",
       "  * time      (time) int64 216B 1997 1998 1999 2000 2001 ... 2020 2021 2022 2023\n",
       "  * x         (x) float64 5kB -1.389e+07 -1.389e+07 ... -1.154e+07 -1.154e+07\n",
       "  * y         (y) float64 5kB 6.278e+06 6.274e+06 ... 3.678e+06 3.674e+06\n",
       "  * band      (band) object 144B MultiIndex\n",
       "  * variable  (band) &lt;U11 792B &#x27;abies&#x27; &#x27;picea&#x27; ... &#x27;mort_ewma&#x27; &#x27;forest_ba&#x27;</pre><div class='xr-wrap' style='display:none'><div class='xr-header'><div class='xr-obj-type'>xarray.DataArray</div><div class='xr-array-name'>'abies'</div><ul class='xr-dim-list'><li><span class='xr-has-index'>time</span>: 27</li><li><span class='xr-has-index'>band</span>: 18</li><li><span class='xr-has-index'>y</span>: 652</li><li><span class='xr-has-index'>x</span>: 590</li></ul></div><ul class='xr-sections'><li class='xr-section-item'><div class='xr-array-wrap'><input id='section-2e0aae16-bf75-48a3-9b3a-0f72bbaec7cb' class='xr-array-in' type='checkbox' checked><label for='section-2e0aae16-bf75-48a3-9b3a-0f72bbaec7cb' title='Show/hide data repr'><svg class='icon xr-icon-database'><use xlink:href='#icon-database'></use></svg></label><div class='xr-array-preview xr-preview'><span>nan nan nan nan nan nan nan nan ... 0.0 0.0 0.0 0.0 0.0 0.0 0.0 0.0</span></div><div class='xr-array-data'><pre>array([[[[nan, nan, nan, ..., nan, nan, nan],\n",
       "         [nan, nan, nan, ..., nan, nan, nan],\n",
       "         [nan, nan, nan, ..., nan, nan, nan],\n",
       "         ...,\n",
       "         [nan, nan, nan, ..., nan, nan, nan],\n",
       "         [nan, nan, nan, ..., nan, nan, nan],\n",
       "         [nan, nan, nan, ..., nan, nan, nan]],\n",
       "\n",
       "        [[nan, nan, nan, ..., nan, nan, nan],\n",
       "         [nan, nan, nan, ..., nan, nan, nan],\n",
       "         [nan, nan, nan, ..., nan, nan, nan],\n",
       "         ...,\n",
       "         [nan, nan, nan, ..., nan, nan, nan],\n",
       "         [nan, nan, nan, ..., nan, nan, nan],\n",
       "         [nan, nan, nan, ..., nan, nan, nan]],\n",
       "\n",
       "        [[nan, nan, nan, ..., nan, nan, nan],\n",
       "         [nan, nan, nan, ..., nan, nan, nan],\n",
       "         [nan, nan, nan, ..., nan, nan, nan],\n",
       "         ...,\n",
       "...\n",
       "         ...,\n",
       "         [nan, nan, nan, ...,  0.,  0.,  0.],\n",
       "         [nan, nan, nan, ...,  0.,  0.,  0.],\n",
       "         [nan, nan, nan, ...,  0.,  0.,  0.]],\n",
       "\n",
       "        [[nan, nan, nan, ..., nan, nan, nan],\n",
       "         [nan, nan, nan, ..., nan, nan, nan],\n",
       "         [nan, nan, nan, ..., nan, nan, nan],\n",
       "         ...,\n",
       "         [nan, nan, nan, ..., nan, nan, nan],\n",
       "         [nan, nan, nan, ..., nan, nan, nan],\n",
       "         [nan, nan, nan, ..., nan, nan, nan]],\n",
       "\n",
       "        [[ 0.,  0.,  0., ...,  0.,  0.,  0.],\n",
       "         [ 0.,  0.,  0., ...,  0.,  0.,  0.],\n",
       "         [ 0.,  0.,  0., ...,  0.,  0.,  0.],\n",
       "         ...,\n",
       "         [ 0.,  0.,  0., ...,  0.,  0.,  0.],\n",
       "         [ 0.,  0.,  0., ...,  0.,  0.,  0.],\n",
       "         [ 0.,  0.,  0., ...,  0.,  0.,  0.]]]], dtype=float32)</pre></div></div></li><li class='xr-section-item'><input id='section-cecbfa2d-ae46-4c05-b1b9-234f4697fda6' class='xr-section-summary-in' type='checkbox'  checked><label for='section-cecbfa2d-ae46-4c05-b1b9-234f4697fda6' class='xr-section-summary' >Coordinates: <span>(5)</span></label><div class='xr-section-inline-details'></div><div class='xr-section-details'><ul class='xr-var-list'><li class='xr-var-item'><div class='xr-var-name'><span class='xr-has-index'>time</span></div><div class='xr-var-dims'>(time)</div><div class='xr-var-dtype'>int64</div><div class='xr-var-preview xr-preview'>1997 1998 1999 ... 2021 2022 2023</div><input id='attrs-647ebee0-48a9-43bc-995f-e4ed31578df5' class='xr-var-attrs-in' type='checkbox' disabled><label for='attrs-647ebee0-48a9-43bc-995f-e4ed31578df5' title='Show/Hide attributes'><svg class='icon xr-icon-file-text2'><use xlink:href='#icon-file-text2'></use></svg></label><input id='data-7651d0af-352d-43ea-b4e8-2ce1840f6017' class='xr-var-data-in' type='checkbox'><label for='data-7651d0af-352d-43ea-b4e8-2ce1840f6017' title='Show/Hide data repr'><svg class='icon xr-icon-database'><use xlink:href='#icon-database'></use></svg></label><div class='xr-var-attrs'><dl class='xr-attrs'></dl></div><div class='xr-var-data'><pre>array([1997, 1998, 1999, 2000, 2001, 2002, 2003, 2004, 2005, 2006, 2007, 2008,\n",
       "       2009, 2010, 2011, 2012, 2013, 2014, 2015, 2016, 2017, 2018, 2019, 2020,\n",
       "       2021, 2022, 2023])</pre></div></li><li class='xr-var-item'><div class='xr-var-name'><span class='xr-has-index'>x</span></div><div class='xr-var-dims'>(x)</div><div class='xr-var-dtype'>float64</div><div class='xr-var-preview xr-preview'>-1.389e+07 ... -1.154e+07</div><input id='attrs-feae7ac5-b484-4566-9791-82c0669f9569' class='xr-var-attrs-in' type='checkbox' disabled><label for='attrs-feae7ac5-b484-4566-9791-82c0669f9569' title='Show/Hide attributes'><svg class='icon xr-icon-file-text2'><use xlink:href='#icon-file-text2'></use></svg></label><input id='data-1ff52d28-4052-4298-834a-252d93c39746' class='xr-var-data-in' type='checkbox'><label for='data-1ff52d28-4052-4298-834a-252d93c39746' title='Show/Hide data repr'><svg class='icon xr-icon-database'><use xlink:href='#icon-database'></use></svg></label><div class='xr-var-attrs'><dl class='xr-attrs'></dl></div><div class='xr-var-data'><pre>array([-13894215.609, -13890215.609, -13886215.609, ..., -11546215.609,\n",
       "       -11542215.609, -11538215.609])</pre></div></li><li class='xr-var-item'><div class='xr-var-name'><span class='xr-has-index'>y</span></div><div class='xr-var-dims'>(y)</div><div class='xr-var-dtype'>float64</div><div class='xr-var-preview xr-preview'>6.278e+06 6.274e+06 ... 3.674e+06</div><input id='attrs-9d8c3ae3-245e-4f15-934f-e871d4656148' class='xr-var-attrs-in' type='checkbox' disabled><label for='attrs-9d8c3ae3-245e-4f15-934f-e871d4656148' title='Show/Hide attributes'><svg class='icon xr-icon-file-text2'><use xlink:href='#icon-file-text2'></use></svg></label><input id='data-a5f13c7d-5498-4df4-abf3-3b6a7ca3a794' class='xr-var-data-in' type='checkbox'><label for='data-a5f13c7d-5498-4df4-abf3-3b6a7ca3a794' title='Show/Hide data repr'><svg class='icon xr-icon-database'><use xlink:href='#icon-database'></use></svg></label><div class='xr-var-attrs'><dl class='xr-attrs'></dl></div><div class='xr-var-data'><pre>array([6278302.419, 6274302.419, 6270302.419, ..., 3682302.419, 3678302.419,\n",
       "       3674302.419])</pre></div></li><li class='xr-var-item'><div class='xr-var-name'><span class='xr-has-index'>band</span></div><div class='xr-var-dims'>(band)</div><div class='xr-var-dtype'>object</div><div class='xr-var-preview xr-preview'>MultiIndex</div><input id='attrs-a41aacc7-735c-4fe3-915a-0cbb5c26b955' class='xr-var-attrs-in' type='checkbox' disabled><label for='attrs-a41aacc7-735c-4fe3-915a-0cbb5c26b955' title='Show/Hide attributes'><svg class='icon xr-icon-file-text2'><use xlink:href='#icon-file-text2'></use></svg></label><input id='data-a162877e-ce73-455c-8598-6f4485d433f4' class='xr-var-data-in' type='checkbox'><label for='data-a162877e-ce73-455c-8598-6f4485d433f4' title='Show/Hide data repr'><svg class='icon xr-icon-database'><use xlink:href='#icon-database'></use></svg></label><div class='xr-var-attrs'><dl class='xr-attrs'></dl></div><div class='xr-var-data'><pre>array([(&#x27;abies&#x27;,), (&#x27;picea&#x27;,), (&#x27;populus&#x27;,), (&#x27;pseudotsuga&#x27;,), (&#x27;tsuga&#x27;,),\n",
       "       (&#x27;vod&#x27;,), (&#x27;elev&#x27;,), (&#x27;slope&#x27;,), (&#x27;northness&#x27;,), (&#x27;eastness&#x27;,),\n",
       "       (&#x27;fire&#x27;,), (&#x27;mortality&#x27;,), (&#x27;prcp&#x27;,), (&#x27;vp&#x27;,), (&#x27;tmin&#x27;,),\n",
       "       (&#x27;treecover&#x27;,), (&#x27;mort_ewma&#x27;,), (&#x27;forest_ba&#x27;,)], dtype=object)</pre></div></li><li class='xr-var-item'><div class='xr-var-name'><span class='xr-has-index'>variable</span></div><div class='xr-var-dims'>(band)</div><div class='xr-var-dtype'>&lt;U11</div><div class='xr-var-preview xr-preview'>&#x27;abies&#x27; &#x27;picea&#x27; ... &#x27;forest_ba&#x27;</div><input id='attrs-0d75aecf-b792-4471-b9ba-4d1cd82e331d' class='xr-var-attrs-in' type='checkbox' disabled><label for='attrs-0d75aecf-b792-4471-b9ba-4d1cd82e331d' title='Show/Hide attributes'><svg class='icon xr-icon-file-text2'><use xlink:href='#icon-file-text2'></use></svg></label><input id='data-7133b300-24ad-4c60-8ede-a8793867aafa' class='xr-var-data-in' type='checkbox'><label for='data-7133b300-24ad-4c60-8ede-a8793867aafa' title='Show/Hide data repr'><svg class='icon xr-icon-database'><use xlink:href='#icon-database'></use></svg></label><div class='xr-var-attrs'><dl class='xr-attrs'></dl></div><div class='xr-var-data'><pre>array([&#x27;abies&#x27;, &#x27;picea&#x27;, &#x27;populus&#x27;, &#x27;pseudotsuga&#x27;, &#x27;tsuga&#x27;, &#x27;vod&#x27;, &#x27;elev&#x27;,\n",
       "       &#x27;slope&#x27;, &#x27;northness&#x27;, &#x27;eastness&#x27;, &#x27;fire&#x27;, &#x27;mortality&#x27;, &#x27;prcp&#x27;, &#x27;vp&#x27;,\n",
       "       &#x27;tmin&#x27;, &#x27;treecover&#x27;, &#x27;mort_ewma&#x27;, &#x27;forest_ba&#x27;], dtype=&#x27;&lt;U11&#x27;)</pre></div></li></ul></div></li><li class='xr-section-item'><input id='section-bab86b63-81dc-4ab1-a5d6-d2daa9e7b264' class='xr-section-summary-in' type='checkbox'  ><label for='section-bab86b63-81dc-4ab1-a5d6-d2daa9e7b264' class='xr-section-summary' >Indexes: <span>(4)</span></label><div class='xr-section-inline-details'></div><div class='xr-section-details'><ul class='xr-var-list'><li class='xr-var-item'><div class='xr-index-name'><div>time</div></div><div class='xr-index-preview'>PandasIndex</div><input type='checkbox' disabled/><label></label><input id='index-b96e90b5-0b93-437d-8a9e-f673a867c0df' class='xr-index-data-in' type='checkbox'/><label for='index-b96e90b5-0b93-437d-8a9e-f673a867c0df' title='Show/Hide index repr'><svg class='icon xr-icon-database'><use xlink:href='#icon-database'></use></svg></label><div class='xr-index-data'><pre>PandasIndex(Index([1997, 1998, 1999, 2000, 2001, 2002, 2003, 2004, 2005, 2006, 2007, 2008,\n",
       "       2009, 2010, 2011, 2012, 2013, 2014, 2015, 2016, 2017, 2018, 2019, 2020,\n",
       "       2021, 2022, 2023],\n",
       "      dtype=&#x27;int64&#x27;, name=&#x27;time&#x27;))</pre></div></li><li class='xr-var-item'><div class='xr-index-name'><div>x</div></div><div class='xr-index-preview'>PandasIndex</div><input type='checkbox' disabled/><label></label><input id='index-25f8f8a9-2356-4771-9c31-b8045c16eb3b' class='xr-index-data-in' type='checkbox'/><label for='index-25f8f8a9-2356-4771-9c31-b8045c16eb3b' title='Show/Hide index repr'><svg class='icon xr-icon-database'><use xlink:href='#icon-database'></use></svg></label><div class='xr-index-data'><pre>PandasIndex(Index([-13894215.609, -13890215.609, -13886215.609, -13882215.609,\n",
       "       -13878215.609, -13874215.609, -13870215.609, -13866215.609,\n",
       "       -13862215.609, -13858215.609,\n",
       "       ...\n",
       "       -11574215.609, -11570215.609, -11566215.609, -11562215.609,\n",
       "       -11558215.609, -11554215.609, -11550215.609, -11546215.609,\n",
       "       -11542215.609, -11538215.609],\n",
       "      dtype=&#x27;float64&#x27;, name=&#x27;x&#x27;, length=590))</pre></div></li><li class='xr-var-item'><div class='xr-index-name'><div>y</div></div><div class='xr-index-preview'>PandasIndex</div><input type='checkbox' disabled/><label></label><input id='index-b9c7a77f-7428-4167-a39e-bbbe6eb4aa10' class='xr-index-data-in' type='checkbox'/><label for='index-b9c7a77f-7428-4167-a39e-bbbe6eb4aa10' title='Show/Hide index repr'><svg class='icon xr-icon-database'><use xlink:href='#icon-database'></use></svg></label><div class='xr-index-data'><pre>PandasIndex(Index([       6278302.419,        6274302.419,        6270302.419,\n",
       "              6266302.419,        6262302.419,        6258302.419,\n",
       "              6254302.419,        6250302.419,        6246302.419,\n",
       "              6242302.419,\n",
       "       ...\n",
       "       3710302.4189999998, 3706302.4189999998, 3702302.4189999998,\n",
       "       3698302.4189999998, 3694302.4189999998, 3690302.4189999998,\n",
       "       3686302.4189999998, 3682302.4189999998, 3678302.4189999998,\n",
       "       3674302.4189999998],\n",
       "      dtype=&#x27;float64&#x27;, name=&#x27;y&#x27;, length=652))</pre></div></li><li class='xr-var-item'><div class='xr-index-name'><div>band<br>variable</div></div><div class='xr-index-preview'>PandasMultiIndex</div><input type='checkbox' disabled/><label></label><input id='index-f0224aeb-974d-4d44-b1f1-b5a867c4a460' class='xr-index-data-in' type='checkbox'/><label for='index-f0224aeb-974d-4d44-b1f1-b5a867c4a460' title='Show/Hide index repr'><svg class='icon xr-icon-database'><use xlink:href='#icon-database'></use></svg></label><div class='xr-index-data'><pre>PandasIndex(MultiIndex([(      &#x27;abies&#x27;,),\n",
       "            (      &#x27;picea&#x27;,),\n",
       "            (    &#x27;populus&#x27;,),\n",
       "            (&#x27;pseudotsuga&#x27;,),\n",
       "            (      &#x27;tsuga&#x27;,),\n",
       "            (        &#x27;vod&#x27;,),\n",
       "            (       &#x27;elev&#x27;,),\n",
       "            (      &#x27;slope&#x27;,),\n",
       "            (  &#x27;northness&#x27;,),\n",
       "            (   &#x27;eastness&#x27;,),\n",
       "            (       &#x27;fire&#x27;,),\n",
       "            (  &#x27;mortality&#x27;,),\n",
       "            (       &#x27;prcp&#x27;,),\n",
       "            (         &#x27;vp&#x27;,),\n",
       "            (       &#x27;tmin&#x27;,),\n",
       "            (  &#x27;treecover&#x27;,),\n",
       "            (  &#x27;mort_ewma&#x27;,),\n",
       "            (  &#x27;forest_ba&#x27;,)],\n",
       "           name=&#x27;band&#x27;))</pre></div></li></ul></div></li><li class='xr-section-item'><input id='section-f05261fb-d97d-4dd1-b8b8-b050e60b77c1' class='xr-section-summary-in' type='checkbox' disabled ><label for='section-f05261fb-d97d-4dd1-b8b8-b050e60b77c1' class='xr-section-summary'  title='Expand/collapse section'>Attributes: <span>(0)</span></label><div class='xr-section-inline-details'></div><div class='xr-section-details'><dl class='xr-attrs'></dl></div></li></ul></div></div>"
      ],
      "text/plain": [
       "<xarray.DataArray 'abies' (time: 27, band: 18, y: 652, x: 590)> Size: 748MB\n",
       "array([[[[nan, nan, nan, ..., nan, nan, nan],\n",
       "         [nan, nan, nan, ..., nan, nan, nan],\n",
       "         [nan, nan, nan, ..., nan, nan, nan],\n",
       "         ...,\n",
       "         [nan, nan, nan, ..., nan, nan, nan],\n",
       "         [nan, nan, nan, ..., nan, nan, nan],\n",
       "         [nan, nan, nan, ..., nan, nan, nan]],\n",
       "\n",
       "        [[nan, nan, nan, ..., nan, nan, nan],\n",
       "         [nan, nan, nan, ..., nan, nan, nan],\n",
       "         [nan, nan, nan, ..., nan, nan, nan],\n",
       "         ...,\n",
       "         [nan, nan, nan, ..., nan, nan, nan],\n",
       "         [nan, nan, nan, ..., nan, nan, nan],\n",
       "         [nan, nan, nan, ..., nan, nan, nan]],\n",
       "\n",
       "        [[nan, nan, nan, ..., nan, nan, nan],\n",
       "         [nan, nan, nan, ..., nan, nan, nan],\n",
       "         [nan, nan, nan, ..., nan, nan, nan],\n",
       "         ...,\n",
       "...\n",
       "         ...,\n",
       "         [nan, nan, nan, ...,  0.,  0.,  0.],\n",
       "         [nan, nan, nan, ...,  0.,  0.,  0.],\n",
       "         [nan, nan, nan, ...,  0.,  0.,  0.]],\n",
       "\n",
       "        [[nan, nan, nan, ..., nan, nan, nan],\n",
       "         [nan, nan, nan, ..., nan, nan, nan],\n",
       "         [nan, nan, nan, ..., nan, nan, nan],\n",
       "         ...,\n",
       "         [nan, nan, nan, ..., nan, nan, nan],\n",
       "         [nan, nan, nan, ..., nan, nan, nan],\n",
       "         [nan, nan, nan, ..., nan, nan, nan]],\n",
       "\n",
       "        [[ 0.,  0.,  0., ...,  0.,  0.,  0.],\n",
       "         [ 0.,  0.,  0., ...,  0.,  0.,  0.],\n",
       "         [ 0.,  0.,  0., ...,  0.,  0.,  0.],\n",
       "         ...,\n",
       "         [ 0.,  0.,  0., ...,  0.,  0.,  0.],\n",
       "         [ 0.,  0.,  0., ...,  0.,  0.,  0.],\n",
       "         [ 0.,  0.,  0., ...,  0.,  0.,  0.]]]], dtype=float32)\n",
       "Coordinates:\n",
       "  * time      (time) int64 216B 1997 1998 1999 2000 2001 ... 2020 2021 2022 2023\n",
       "  * x         (x) float64 5kB -1.389e+07 -1.389e+07 ... -1.154e+07 -1.154e+07\n",
       "  * y         (y) float64 5kB 6.278e+06 6.274e+06 ... 3.678e+06 3.674e+06\n",
       "  * band      (band) object 144B MultiIndex\n",
       "  * variable  (band) <U11 792B 'abies' 'picea' ... 'mort_ewma' 'forest_ba'"
      ]
     },
     "execution_count": 6,
     "metadata": {},
     "output_type": "execute_result"
    }
   ],
   "source": [
    "ds = ds.to_stacked_array(\"band\", sample_dims=[\"x\", \"y\", \"time\"])\\\n",
    "    .transpose(\"time\", \"band\", ...)\n",
    "ds"
   ]
  },
  {
   "cell_type": "markdown",
   "id": "c3190c01-0395-4a1e-88a6-f6b614436e4b",
   "metadata": {},
   "source": [
    "Make sure windowing works right"
   ]
  },
  {
   "cell_type": "code",
   "execution_count": 7,
   "id": "c268ea7f-6f53-41ad-b8ad-42c89bf2c1c8",
   "metadata": {},
   "outputs": [
    {
     "name": "stdout",
     "output_type": "stream",
     "text": [
      "89226\n"
     ]
    }
   ],
   "source": [
    "window = dict(x=[8, False], y=[8, False], time=[5, False])\n",
    "mort_arr = ds.sel(band=\"mort_ewma\", drop=True)\n",
    "mort_ds = util.datasets.WindowXarrayDataset(ds, window, mask=mort_arr)\n",
    "\n",
    "print(len(mort_ds))"
   ]
  },
  {
   "cell_type": "code",
   "execution_count": 8,
   "id": "49147ab1-b348-4c37-91cc-3818c4a4c6b4",
   "metadata": {},
   "outputs": [],
   "source": [
    "eg_window = mort_ds[10]\n",
    "window_x = eg_window.isel(time=slice(None, -1))\n",
    "window_y = eg_window.isel(time=-1).sel(band=\"mort_ewma\")"
   ]
  },
  {
   "cell_type": "code",
   "execution_count": 9,
   "id": "3efe6f9a-de84-4e53-850b-1af5825da1fa",
   "metadata": {},
   "outputs": [],
   "source": [
    "assert not np.any(np.isnan(window_y.values))"
   ]
  },
  {
   "cell_type": "markdown",
   "id": "f5f2e685-1244-46aa-a426-8037094812b1",
   "metadata": {},
   "source": [
    "Set up model definition"
   ]
  },
  {
   "cell_type": "code",
   "execution_count": 10,
   "id": "b70aa75d-ccef-4177-b54a-6230e94a8ba0",
   "metadata": {},
   "outputs": [
    {
     "data": {
      "text/html": [
       "<div><svg style=\"position: absolute; width: 0; height: 0; overflow: hidden\">\n",
       "<defs>\n",
       "<symbol id=\"icon-database\" viewBox=\"0 0 32 32\">\n",
       "<path d=\"M16 0c-8.837 0-16 2.239-16 5v4c0 2.761 7.163 5 16 5s16-2.239 16-5v-4c0-2.761-7.163-5-16-5z\"></path>\n",
       "<path d=\"M16 17c-8.837 0-16-2.239-16-5v6c0 2.761 7.163 5 16 5s16-2.239 16-5v-6c0 2.761-7.163 5-16 5z\"></path>\n",
       "<path d=\"M16 26c-8.837 0-16-2.239-16-5v6c0 2.761 7.163 5 16 5s16-2.239 16-5v-6c0 2.761-7.163 5-16 5z\"></path>\n",
       "</symbol>\n",
       "<symbol id=\"icon-file-text2\" viewBox=\"0 0 32 32\">\n",
       "<path d=\"M28.681 7.159c-0.694-0.947-1.662-2.053-2.724-3.116s-2.169-2.030-3.116-2.724c-1.612-1.182-2.393-1.319-2.841-1.319h-15.5c-1.378 0-2.5 1.121-2.5 2.5v27c0 1.378 1.122 2.5 2.5 2.5h23c1.378 0 2.5-1.122 2.5-2.5v-19.5c0-0.448-0.137-1.23-1.319-2.841zM24.543 5.457c0.959 0.959 1.712 1.825 2.268 2.543h-4.811v-4.811c0.718 0.556 1.584 1.309 2.543 2.268zM28 29.5c0 0.271-0.229 0.5-0.5 0.5h-23c-0.271 0-0.5-0.229-0.5-0.5v-27c0-0.271 0.229-0.5 0.5-0.5 0 0 15.499-0 15.5 0v7c0 0.552 0.448 1 1 1h7v19.5z\"></path>\n",
       "<path d=\"M23 26h-14c-0.552 0-1-0.448-1-1s0.448-1 1-1h14c0.552 0 1 0.448 1 1s-0.448 1-1 1z\"></path>\n",
       "<path d=\"M23 22h-14c-0.552 0-1-0.448-1-1s0.448-1 1-1h14c0.552 0 1 0.448 1 1s-0.448 1-1 1z\"></path>\n",
       "<path d=\"M23 18h-14c-0.552 0-1-0.448-1-1s0.448-1 1-1h14c0.552 0 1 0.448 1 1s-0.448 1-1 1z\"></path>\n",
       "</symbol>\n",
       "</defs>\n",
       "</svg>\n",
       "<style>/* CSS stylesheet for displaying xarray objects in jupyterlab.\n",
       " *\n",
       " */\n",
       "\n",
       ":root {\n",
       "  --xr-font-color0: var(--jp-content-font-color0, rgba(0, 0, 0, 1));\n",
       "  --xr-font-color2: var(--jp-content-font-color2, rgba(0, 0, 0, 0.54));\n",
       "  --xr-font-color3: var(--jp-content-font-color3, rgba(0, 0, 0, 0.38));\n",
       "  --xr-border-color: var(--jp-border-color2, #e0e0e0);\n",
       "  --xr-disabled-color: var(--jp-layout-color3, #bdbdbd);\n",
       "  --xr-background-color: var(--jp-layout-color0, white);\n",
       "  --xr-background-color-row-even: var(--jp-layout-color1, white);\n",
       "  --xr-background-color-row-odd: var(--jp-layout-color2, #eeeeee);\n",
       "}\n",
       "\n",
       "html[theme=\"dark\"],\n",
       "html[data-theme=\"dark\"],\n",
       "body[data-theme=\"dark\"],\n",
       "body.vscode-dark {\n",
       "  --xr-font-color0: rgba(255, 255, 255, 1);\n",
       "  --xr-font-color2: rgba(255, 255, 255, 0.54);\n",
       "  --xr-font-color3: rgba(255, 255, 255, 0.38);\n",
       "  --xr-border-color: #1f1f1f;\n",
       "  --xr-disabled-color: #515151;\n",
       "  --xr-background-color: #111111;\n",
       "  --xr-background-color-row-even: #111111;\n",
       "  --xr-background-color-row-odd: #313131;\n",
       "}\n",
       "\n",
       ".xr-wrap {\n",
       "  display: block !important;\n",
       "  min-width: 300px;\n",
       "  max-width: 700px;\n",
       "}\n",
       "\n",
       ".xr-text-repr-fallback {\n",
       "  /* fallback to plain text repr when CSS is not injected (untrusted notebook) */\n",
       "  display: none;\n",
       "}\n",
       "\n",
       ".xr-header {\n",
       "  padding-top: 6px;\n",
       "  padding-bottom: 6px;\n",
       "  margin-bottom: 4px;\n",
       "  border-bottom: solid 1px var(--xr-border-color);\n",
       "}\n",
       "\n",
       ".xr-header > div,\n",
       ".xr-header > ul {\n",
       "  display: inline;\n",
       "  margin-top: 0;\n",
       "  margin-bottom: 0;\n",
       "}\n",
       "\n",
       ".xr-obj-type,\n",
       ".xr-array-name {\n",
       "  margin-left: 2px;\n",
       "  margin-right: 10px;\n",
       "}\n",
       "\n",
       ".xr-obj-type {\n",
       "  color: var(--xr-font-color2);\n",
       "}\n",
       "\n",
       ".xr-sections {\n",
       "  padding-left: 0 !important;\n",
       "  display: grid;\n",
       "  grid-template-columns: 150px auto auto 1fr 0 20px 0 20px;\n",
       "}\n",
       "\n",
       ".xr-section-item {\n",
       "  display: contents;\n",
       "}\n",
       "\n",
       ".xr-section-item input {\n",
       "  display: inline-block;\n",
       "  opacity: 0;\n",
       "  height: 0;\n",
       "}\n",
       "\n",
       ".xr-section-item input + label {\n",
       "  color: var(--xr-disabled-color);\n",
       "}\n",
       "\n",
       ".xr-section-item input:enabled + label {\n",
       "  cursor: pointer;\n",
       "  color: var(--xr-font-color2);\n",
       "}\n",
       "\n",
       ".xr-section-item input:focus + label {\n",
       "  border: 2px solid var(--xr-font-color0);\n",
       "}\n",
       "\n",
       ".xr-section-item input:enabled + label:hover {\n",
       "  color: var(--xr-font-color0);\n",
       "}\n",
       "\n",
       ".xr-section-summary {\n",
       "  grid-column: 1;\n",
       "  color: var(--xr-font-color2);\n",
       "  font-weight: 500;\n",
       "}\n",
       "\n",
       ".xr-section-summary > span {\n",
       "  display: inline-block;\n",
       "  padding-left: 0.5em;\n",
       "}\n",
       "\n",
       ".xr-section-summary-in:disabled + label {\n",
       "  color: var(--xr-font-color2);\n",
       "}\n",
       "\n",
       ".xr-section-summary-in + label:before {\n",
       "  display: inline-block;\n",
       "  content: \"►\";\n",
       "  font-size: 11px;\n",
       "  width: 15px;\n",
       "  text-align: center;\n",
       "}\n",
       "\n",
       ".xr-section-summary-in:disabled + label:before {\n",
       "  color: var(--xr-disabled-color);\n",
       "}\n",
       "\n",
       ".xr-section-summary-in:checked + label:before {\n",
       "  content: \"▼\";\n",
       "}\n",
       "\n",
       ".xr-section-summary-in:checked + label > span {\n",
       "  display: none;\n",
       "}\n",
       "\n",
       ".xr-section-summary,\n",
       ".xr-section-inline-details {\n",
       "  padding-top: 4px;\n",
       "  padding-bottom: 4px;\n",
       "}\n",
       "\n",
       ".xr-section-inline-details {\n",
       "  grid-column: 2 / -1;\n",
       "}\n",
       "\n",
       ".xr-section-details {\n",
       "  display: none;\n",
       "  grid-column: 1 / -1;\n",
       "  margin-bottom: 5px;\n",
       "}\n",
       "\n",
       ".xr-section-summary-in:checked ~ .xr-section-details {\n",
       "  display: contents;\n",
       "}\n",
       "\n",
       ".xr-array-wrap {\n",
       "  grid-column: 1 / -1;\n",
       "  display: grid;\n",
       "  grid-template-columns: 20px auto;\n",
       "}\n",
       "\n",
       ".xr-array-wrap > label {\n",
       "  grid-column: 1;\n",
       "  vertical-align: top;\n",
       "}\n",
       "\n",
       ".xr-preview {\n",
       "  color: var(--xr-font-color3);\n",
       "}\n",
       "\n",
       ".xr-array-preview,\n",
       ".xr-array-data {\n",
       "  padding: 0 5px !important;\n",
       "  grid-column: 2;\n",
       "}\n",
       "\n",
       ".xr-array-data,\n",
       ".xr-array-in:checked ~ .xr-array-preview {\n",
       "  display: none;\n",
       "}\n",
       "\n",
       ".xr-array-in:checked ~ .xr-array-data,\n",
       ".xr-array-preview {\n",
       "  display: inline-block;\n",
       "}\n",
       "\n",
       ".xr-dim-list {\n",
       "  display: inline-block !important;\n",
       "  list-style: none;\n",
       "  padding: 0 !important;\n",
       "  margin: 0;\n",
       "}\n",
       "\n",
       ".xr-dim-list li {\n",
       "  display: inline-block;\n",
       "  padding: 0;\n",
       "  margin: 0;\n",
       "}\n",
       "\n",
       ".xr-dim-list:before {\n",
       "  content: \"(\";\n",
       "}\n",
       "\n",
       ".xr-dim-list:after {\n",
       "  content: \")\";\n",
       "}\n",
       "\n",
       ".xr-dim-list li:not(:last-child):after {\n",
       "  content: \",\";\n",
       "  padding-right: 5px;\n",
       "}\n",
       "\n",
       ".xr-has-index {\n",
       "  font-weight: bold;\n",
       "}\n",
       "\n",
       ".xr-var-list,\n",
       ".xr-var-item {\n",
       "  display: contents;\n",
       "}\n",
       "\n",
       ".xr-var-item > div,\n",
       ".xr-var-item label,\n",
       ".xr-var-item > .xr-var-name span {\n",
       "  background-color: var(--xr-background-color-row-even);\n",
       "  margin-bottom: 0;\n",
       "}\n",
       "\n",
       ".xr-var-item > .xr-var-name:hover span {\n",
       "  padding-right: 5px;\n",
       "}\n",
       "\n",
       ".xr-var-list > li:nth-child(odd) > div,\n",
       ".xr-var-list > li:nth-child(odd) > label,\n",
       ".xr-var-list > li:nth-child(odd) > .xr-var-name span {\n",
       "  background-color: var(--xr-background-color-row-odd);\n",
       "}\n",
       "\n",
       ".xr-var-name {\n",
       "  grid-column: 1;\n",
       "}\n",
       "\n",
       ".xr-var-dims {\n",
       "  grid-column: 2;\n",
       "}\n",
       "\n",
       ".xr-var-dtype {\n",
       "  grid-column: 3;\n",
       "  text-align: right;\n",
       "  color: var(--xr-font-color2);\n",
       "}\n",
       "\n",
       ".xr-var-preview {\n",
       "  grid-column: 4;\n",
       "}\n",
       "\n",
       ".xr-index-preview {\n",
       "  grid-column: 2 / 5;\n",
       "  color: var(--xr-font-color2);\n",
       "}\n",
       "\n",
       ".xr-var-name,\n",
       ".xr-var-dims,\n",
       ".xr-var-dtype,\n",
       ".xr-preview,\n",
       ".xr-attrs dt {\n",
       "  white-space: nowrap;\n",
       "  overflow: hidden;\n",
       "  text-overflow: ellipsis;\n",
       "  padding-right: 10px;\n",
       "}\n",
       "\n",
       ".xr-var-name:hover,\n",
       ".xr-var-dims:hover,\n",
       ".xr-var-dtype:hover,\n",
       ".xr-attrs dt:hover {\n",
       "  overflow: visible;\n",
       "  width: auto;\n",
       "  z-index: 1;\n",
       "}\n",
       "\n",
       ".xr-var-attrs,\n",
       ".xr-var-data,\n",
       ".xr-index-data {\n",
       "  display: none;\n",
       "  background-color: var(--xr-background-color) !important;\n",
       "  padding-bottom: 5px !important;\n",
       "}\n",
       "\n",
       ".xr-var-attrs-in:checked ~ .xr-var-attrs,\n",
       ".xr-var-data-in:checked ~ .xr-var-data,\n",
       ".xr-index-data-in:checked ~ .xr-index-data {\n",
       "  display: block;\n",
       "}\n",
       "\n",
       ".xr-var-data > table {\n",
       "  float: right;\n",
       "}\n",
       "\n",
       ".xr-var-name span,\n",
       ".xr-var-data,\n",
       ".xr-index-name div,\n",
       ".xr-index-data,\n",
       ".xr-attrs {\n",
       "  padding-left: 25px !important;\n",
       "}\n",
       "\n",
       ".xr-attrs,\n",
       ".xr-var-attrs,\n",
       ".xr-var-data,\n",
       ".xr-index-data {\n",
       "  grid-column: 1 / -1;\n",
       "}\n",
       "\n",
       "dl.xr-attrs {\n",
       "  padding: 0;\n",
       "  margin: 0;\n",
       "  display: grid;\n",
       "  grid-template-columns: 125px auto;\n",
       "}\n",
       "\n",
       ".xr-attrs dt,\n",
       ".xr-attrs dd {\n",
       "  padding: 0;\n",
       "  margin: 0;\n",
       "  float: left;\n",
       "  padding-right: 10px;\n",
       "  width: auto;\n",
       "}\n",
       "\n",
       ".xr-attrs dt {\n",
       "  font-weight: normal;\n",
       "  grid-column: 1;\n",
       "}\n",
       "\n",
       ".xr-attrs dt:hover span {\n",
       "  display: inline-block;\n",
       "  background: var(--xr-background-color);\n",
       "  padding-right: 10px;\n",
       "}\n",
       "\n",
       ".xr-attrs dd {\n",
       "  grid-column: 2;\n",
       "  white-space: pre-wrap;\n",
       "  word-break: break-all;\n",
       "}\n",
       "\n",
       ".xr-icon-database,\n",
       ".xr-icon-file-text2,\n",
       ".xr-no-icon {\n",
       "  display: inline-block;\n",
       "  vertical-align: middle;\n",
       "  width: 1em;\n",
       "  height: 1.5em !important;\n",
       "  stroke-width: 0;\n",
       "  stroke: currentColor;\n",
       "  fill: currentColor;\n",
       "}\n",
       "</style><pre class='xr-text-repr-fallback'>&lt;xarray.DataArray &#x27;band&#x27; (band: 18)&gt; Size: 144B\n",
       "array([(&#x27;abies&#x27;,), (&#x27;picea&#x27;,), (&#x27;populus&#x27;,), (&#x27;pseudotsuga&#x27;,), (&#x27;tsuga&#x27;,),\n",
       "       (&#x27;vod&#x27;,), (&#x27;elev&#x27;,), (&#x27;slope&#x27;,), (&#x27;northness&#x27;,), (&#x27;eastness&#x27;,),\n",
       "       (&#x27;fire&#x27;,), (&#x27;mortality&#x27;,), (&#x27;prcp&#x27;,), (&#x27;vp&#x27;,), (&#x27;tmin&#x27;,),\n",
       "       (&#x27;treecover&#x27;,), (&#x27;mort_ewma&#x27;,), (&#x27;forest_ba&#x27;,)], dtype=object)\n",
       "Coordinates:\n",
       "  * band      (band) object 144B MultiIndex\n",
       "  * variable  (band) &lt;U11 792B &#x27;abies&#x27; &#x27;picea&#x27; ... &#x27;mort_ewma&#x27; &#x27;forest_ba&#x27;</pre><div class='xr-wrap' style='display:none'><div class='xr-header'><div class='xr-obj-type'>xarray.DataArray</div><div class='xr-array-name'>'band'</div><ul class='xr-dim-list'><li><span class='xr-has-index'>band</span>: 18</li></ul></div><ul class='xr-sections'><li class='xr-section-item'><div class='xr-array-wrap'><input id='section-14bfcd67-5f81-447a-ae44-edf02759611f' class='xr-array-in' type='checkbox' checked><label for='section-14bfcd67-5f81-447a-ae44-edf02759611f' title='Show/hide data repr'><svg class='icon xr-icon-database'><use xlink:href='#icon-database'></use></svg></label><div class='xr-array-preview xr-preview'><span>MultiIndex</span></div><div class='xr-array-data'><pre>array([(&#x27;abies&#x27;,), (&#x27;picea&#x27;,), (&#x27;populus&#x27;,), (&#x27;pseudotsuga&#x27;,), (&#x27;tsuga&#x27;,),\n",
       "       (&#x27;vod&#x27;,), (&#x27;elev&#x27;,), (&#x27;slope&#x27;,), (&#x27;northness&#x27;,), (&#x27;eastness&#x27;,),\n",
       "       (&#x27;fire&#x27;,), (&#x27;mortality&#x27;,), (&#x27;prcp&#x27;,), (&#x27;vp&#x27;,), (&#x27;tmin&#x27;,),\n",
       "       (&#x27;treecover&#x27;,), (&#x27;mort_ewma&#x27;,), (&#x27;forest_ba&#x27;,)], dtype=object)</pre></div></div></li><li class='xr-section-item'><input id='section-b6fdcd8d-fcf1-4d6f-a3d8-31e6025b1f52' class='xr-section-summary-in' type='checkbox'  checked><label for='section-b6fdcd8d-fcf1-4d6f-a3d8-31e6025b1f52' class='xr-section-summary' >Coordinates: <span>(2)</span></label><div class='xr-section-inline-details'></div><div class='xr-section-details'><ul class='xr-var-list'><li class='xr-var-item'><div class='xr-var-name'><span class='xr-has-index'>band</span></div><div class='xr-var-dims'>(band)</div><div class='xr-var-dtype'>object</div><div class='xr-var-preview xr-preview'>MultiIndex</div><input id='attrs-14ce3746-cfdb-4edd-8286-dccc0ba960b7' class='xr-var-attrs-in' type='checkbox' disabled><label for='attrs-14ce3746-cfdb-4edd-8286-dccc0ba960b7' title='Show/Hide attributes'><svg class='icon xr-icon-file-text2'><use xlink:href='#icon-file-text2'></use></svg></label><input id='data-c44937f7-cafb-4668-bb88-fecabd16d6ea' class='xr-var-data-in' type='checkbox'><label for='data-c44937f7-cafb-4668-bb88-fecabd16d6ea' title='Show/Hide data repr'><svg class='icon xr-icon-database'><use xlink:href='#icon-database'></use></svg></label><div class='xr-var-attrs'><dl class='xr-attrs'></dl></div><div class='xr-var-data'><pre>array([(&#x27;abies&#x27;,), (&#x27;picea&#x27;,), (&#x27;populus&#x27;,), (&#x27;pseudotsuga&#x27;,), (&#x27;tsuga&#x27;,),\n",
       "       (&#x27;vod&#x27;,), (&#x27;elev&#x27;,), (&#x27;slope&#x27;,), (&#x27;northness&#x27;,), (&#x27;eastness&#x27;,),\n",
       "       (&#x27;fire&#x27;,), (&#x27;mortality&#x27;,), (&#x27;prcp&#x27;,), (&#x27;vp&#x27;,), (&#x27;tmin&#x27;,),\n",
       "       (&#x27;treecover&#x27;,), (&#x27;mort_ewma&#x27;,), (&#x27;forest_ba&#x27;,)], dtype=object)</pre></div></li><li class='xr-var-item'><div class='xr-var-name'><span class='xr-has-index'>variable</span></div><div class='xr-var-dims'>(band)</div><div class='xr-var-dtype'>&lt;U11</div><div class='xr-var-preview xr-preview'>&#x27;abies&#x27; &#x27;picea&#x27; ... &#x27;forest_ba&#x27;</div><input id='attrs-9bb4d0a8-a779-4637-98ef-c6b819f6b3d2' class='xr-var-attrs-in' type='checkbox' disabled><label for='attrs-9bb4d0a8-a779-4637-98ef-c6b819f6b3d2' title='Show/Hide attributes'><svg class='icon xr-icon-file-text2'><use xlink:href='#icon-file-text2'></use></svg></label><input id='data-870ee655-7bd0-419b-b9df-b383e888eba7' class='xr-var-data-in' type='checkbox'><label for='data-870ee655-7bd0-419b-b9df-b383e888eba7' title='Show/Hide data repr'><svg class='icon xr-icon-database'><use xlink:href='#icon-database'></use></svg></label><div class='xr-var-attrs'><dl class='xr-attrs'></dl></div><div class='xr-var-data'><pre>array([&#x27;abies&#x27;, &#x27;picea&#x27;, &#x27;populus&#x27;, &#x27;pseudotsuga&#x27;, &#x27;tsuga&#x27;, &#x27;vod&#x27;, &#x27;elev&#x27;,\n",
       "       &#x27;slope&#x27;, &#x27;northness&#x27;, &#x27;eastness&#x27;, &#x27;fire&#x27;, &#x27;mortality&#x27;, &#x27;prcp&#x27;, &#x27;vp&#x27;,\n",
       "       &#x27;tmin&#x27;, &#x27;treecover&#x27;, &#x27;mort_ewma&#x27;, &#x27;forest_ba&#x27;], dtype=&#x27;&lt;U11&#x27;)</pre></div></li></ul></div></li><li class='xr-section-item'><input id='section-91377135-7e57-40b4-a930-1d7e6bfb91da' class='xr-section-summary-in' type='checkbox'  ><label for='section-91377135-7e57-40b4-a930-1d7e6bfb91da' class='xr-section-summary' >Indexes: <span>(1)</span></label><div class='xr-section-inline-details'></div><div class='xr-section-details'><ul class='xr-var-list'><li class='xr-var-item'><div class='xr-index-name'><div>band<br>variable</div></div><div class='xr-index-preview'>PandasMultiIndex</div><input type='checkbox' disabled/><label></label><input id='index-40c58e67-5775-4722-88ef-aba9df605b60' class='xr-index-data-in' type='checkbox'/><label for='index-40c58e67-5775-4722-88ef-aba9df605b60' title='Show/Hide index repr'><svg class='icon xr-icon-database'><use xlink:href='#icon-database'></use></svg></label><div class='xr-index-data'><pre>PandasIndex(MultiIndex([(      &#x27;abies&#x27;,),\n",
       "            (      &#x27;picea&#x27;,),\n",
       "            (    &#x27;populus&#x27;,),\n",
       "            (&#x27;pseudotsuga&#x27;,),\n",
       "            (      &#x27;tsuga&#x27;,),\n",
       "            (        &#x27;vod&#x27;,),\n",
       "            (       &#x27;elev&#x27;,),\n",
       "            (      &#x27;slope&#x27;,),\n",
       "            (  &#x27;northness&#x27;,),\n",
       "            (   &#x27;eastness&#x27;,),\n",
       "            (       &#x27;fire&#x27;,),\n",
       "            (  &#x27;mortality&#x27;,),\n",
       "            (       &#x27;prcp&#x27;,),\n",
       "            (         &#x27;vp&#x27;,),\n",
       "            (       &#x27;tmin&#x27;,),\n",
       "            (  &#x27;treecover&#x27;,),\n",
       "            (  &#x27;mort_ewma&#x27;,),\n",
       "            (  &#x27;forest_ba&#x27;,)],\n",
       "           name=&#x27;band&#x27;))</pre></div></li></ul></div></li><li class='xr-section-item'><input id='section-0b511a59-8f21-471e-bf04-1fa4e9fe477a' class='xr-section-summary-in' type='checkbox' disabled ><label for='section-0b511a59-8f21-471e-bf04-1fa4e9fe477a' class='xr-section-summary'  title='Expand/collapse section'>Attributes: <span>(0)</span></label><div class='xr-section-inline-details'></div><div class='xr-section-details'><dl class='xr-attrs'></dl></div></li></ul></div></div>"
      ],
      "text/plain": [
       "<xarray.DataArray 'band' (band: 18)> Size: 144B\n",
       "array([('abies',), ('picea',), ('populus',), ('pseudotsuga',), ('tsuga',),\n",
       "       ('vod',), ('elev',), ('slope',), ('northness',), ('eastness',),\n",
       "       ('fire',), ('mortality',), ('prcp',), ('vp',), ('tmin',),\n",
       "       ('treecover',), ('mort_ewma',), ('forest_ba',)], dtype=object)\n",
       "Coordinates:\n",
       "  * band      (band) object 144B MultiIndex\n",
       "  * variable  (band) <U11 792B 'abies' 'picea' ... 'mort_ewma' 'forest_ba'"
      ]
     },
     "execution_count": 10,
     "metadata": {},
     "output_type": "execute_result"
    }
   ],
   "source": [
    "ds.band"
   ]
  },
  {
   "cell_type": "code",
   "execution_count": 11,
   "id": "6ab02d11-de1c-49a1-8be8-897dde52c6bd",
   "metadata": {},
   "outputs": [],
   "source": [
    "from util.convlstm import DamageConvLSTM\n",
    "\n",
    "input_bands = [\"fire\", \"mort_ewma\", \"prcp\", \"elev\", \"treecover\", \"forest_ba\", \"vp\", \"tmin\"]\n",
    "input_inds = np.where(np.isin(ds.coords.get(\"variable\").values, input_bands))[0]\n",
    "input_channel = len(input_bands)\n",
    "hidden_dim = 8\n",
    "num_layers = 2\n",
    "kernel = (3, 3)\n",
    "\n",
    "m = DamageConvLSTM(input_channel, hidden_dim, kernel, num_layers, batch_first=True)"
   ]
  },
  {
   "cell_type": "markdown",
   "id": "bedc90d3-8c10-4f44-8667-ae0c986b7eae",
   "metadata": {},
   "source": [
    "Verify that the shapes work out."
   ]
  },
  {
   "cell_type": "code",
   "execution_count": 12,
   "id": "ac5fe779-81d6-4136-8d7a-8de5e40fad2f",
   "metadata": {},
   "outputs": [],
   "source": [
    "fake_input = torch.tensor(window_x.isel(band=input_inds).values).unsqueeze(0).to(torch.float32)\n",
    "fake_output = m(fake_input)\n",
    "assert fake_output.shape == window_y.shape"
   ]
  },
  {
   "cell_type": "markdown",
   "id": "c61bf5a8-3ffe-4696-9c28-fe408a45f0ba",
   "metadata": {},
   "source": [
    "Data pipeline"
   ]
  },
  {
   "cell_type": "code",
   "execution_count": 13,
   "id": "f38b7f2c-4762-4a20-869c-e0f1ecde354b",
   "metadata": {},
   "outputs": [
    {
     "name": "stdout",
     "output_type": "stream",
     "text": [
      "Training years: [2013 2014 2015 2016 2017 2018 2019 2020 2021 2022 2023]\n",
      "Validation years: [1997 1998 1999 2000 2001 2002 2003 2004]\n",
      "Testing years: [2005 2006 2007 2008 2009 2010 2011 2012]\n"
     ]
    }
   ],
   "source": [
    "# Prepare data laoders. Since we are using a 5-year lookback here, each dataset\n",
    "# has to be temporally disjoint so we don't leak data. Since 2020 had very few\n",
    "# surveys we have to ignore it.\n",
    "years = ds.time.values\n",
    "\n",
    "train_years = years[16:]\n",
    "valid_years = years[:8]\n",
    "test_years = years[8:16]\n",
    "\n",
    "print(\"Training years:\", train_years)\n",
    "print(\"Validation years:\", valid_years)\n",
    "print(\"Testing years:\", test_years)"
   ]
  },
  {
   "cell_type": "code",
   "execution_count": 14,
   "id": "58b6e6fe-6051-4949-ada8-6711afc50c31",
   "metadata": {},
   "outputs": [
    {
     "name": "stdout",
     "output_type": "stream",
     "text": [
      "Count of examples\n",
      "Validation: 8361\n",
      "Testing: 22516\n"
     ]
    }
   ],
   "source": [
    "valid_wds = util.datasets.WindowXarrayDataset(\n",
    "    ds.sel(time=valid_years), window, \n",
    "    mask=mort_arr.sel(time=valid_years), \n",
    ")\n",
    "test_wds  = util.datasets.WindowXarrayDataset(\n",
    "    ds.sel(time=test_years), window, \n",
    "    mask=mort_arr.sel(time= test_years), \n",
    ")\n",
    "\n",
    "print(\"Count of examples\")\n",
    "print(\"Validation:\", len(valid_wds))\n",
    "print(\"Testing:\", len(test_wds))"
   ]
  },
  {
   "cell_type": "code",
   "execution_count": 15,
   "id": "75c0bb40-dc54-4815-a668-d635461a3757",
   "metadata": {},
   "outputs": [],
   "source": [
    "from torch.utils.data import DataLoader\n",
    "\n",
    "train_target_ind = np.where(ds.coords.get(\"variable\").values == \"mort_ewma\")[0][0]\n",
    "valid_target_ind = np.where(ds.coords.get(\"variable\").values == \"mortality\")[0][0]\n",
    "\n",
    "dtype = torch.float32\n",
    "# cutoff = 1\n",
    "\n",
    "def make_collator(input_inds, target_ind):\n",
    "    def collator(patch_list):\n",
    "        X = torch.stack([\n",
    "            torch.tensor(\n",
    "                np.squeeze(patch.values[:-1, input_inds, :, :]),\n",
    "                dtype=dtype\n",
    "            )\n",
    "            for patch in patch_list\n",
    "        ])\n",
    "    \n",
    "        # Replace nan cells with the channel mean from this batch\n",
    "        ch_mean = torch.nanmean(X, dim=0)\n",
    "        X = torch.nan_to_num(X)\n",
    "        X += ch_mean * torch.isnan(X)\n",
    "        \n",
    "        y = torch.stack([\n",
    "            torch.tensor(patch.values[-1, target_ind, :, :], dtype=dtype)\n",
    "            for patch in patch_list\n",
    "        ]).squeeze(dim=2)/100\n",
    "    \n",
    "        return X, y\n",
    "\n",
    "    return collator\n",
    "\n",
    "train_collator = make_collator(input_inds, train_target_ind)\n",
    "valid_collator = make_collator(input_inds, valid_target_ind)\n",
    "\n",
    "batch_size = 32\n",
    "\n",
    "# Setting the RNG to host device is necessary if we want to run on GPU\n",
    "valid_loader = DataLoader(\n",
    "    valid_wds, \n",
    "    batch_size, \n",
    "    shuffle=True, \n",
    "    collate_fn=valid_collator, \n",
    "    generator=torch.Generator(device=device)\n",
    ")\n",
    "test_loader  = DataLoader(\n",
    "    test_wds, \n",
    "    batch_size, \n",
    "    shuffle=True, \n",
    "    collate_fn=valid_collator, \n",
    "    generator=torch.Generator(device=device)\n",
    ")"
   ]
  },
  {
   "cell_type": "code",
   "execution_count": 16,
   "id": "63224721-43c8-45ba-93a7-6efbaec6885c",
   "metadata": {},
   "outputs": [
    {
     "name": "stdout",
     "output_type": "stream",
     "text": [
      "torch.Size([32, 4, 8, 8, 8])\n",
      "torch.Size([32, 8, 8])\n"
     ]
    }
   ],
   "source": [
    "# Again make sure the sizes work out\n",
    "X, y = tuple(next(iter(valid_loader)))\n",
    "print(X.shape)\n",
    "out = m(X)\n",
    "print(out.shape)\n",
    "assert out.shape == y.shape"
   ]
  },
  {
   "cell_type": "code",
   "execution_count": 17,
   "id": "81f00617-551e-4dd8-a6c7-cf3e5d321d93",
   "metadata": {},
   "outputs": [
    {
     "data": {
      "text/plain": [
       "<module 'util.datasets' from '/home/jovyan/ForestLST/util/datasets.py'>"
      ]
     },
     "execution_count": 17,
     "metadata": {},
     "output_type": "execute_result"
    }
   ],
   "source": [
    "reload(util.datasets)"
   ]
  },
  {
   "cell_type": "code",
   "execution_count": 18,
   "id": "3344682d-a896-4089-a03a-72f9c452da6f",
   "metadata": {},
   "outputs": [],
   "source": [
    "cutoffs = np.arange(0.5, 10, step=0.5)\n",
    "ns = np.zeros(cutoffs.shape)\n",
    "\n",
    "train_ds = ds.sel(time=train_years)\n",
    "\n",
    "window_mean = train_ds.isel(band=train_target_ind).rolling(x=8, y=8, time=5).mean()\n",
    "\n",
    "for i, c in enumerate(cutoffs):\n",
    "    ns[i] = (window_mean > c).sum().values"
   ]
  },
  {
   "cell_type": "code",
   "execution_count": 19,
   "id": "96bf8b9b-7d8a-462a-83d8-573b9b93b40c",
   "metadata": {},
   "outputs": [],
   "source": [
    "reload(util.training)\n",
    "from util.training import BaseTrainer, ReduceLRMixin, EarlyStopMixin\n",
    "\n",
    "# Masked loss is very slow for some reason\n",
    "class Trainer(ReduceLRMixin, EarlyStopMixin, BaseTrainer):\n",
    "    pass"
   ]
  },
  {
   "cell_type": "code",
   "execution_count": 20,
   "id": "adeda986-d9cb-433e-b7b9-1d4cd99444e3",
   "metadata": {},
   "outputs": [
    {
     "name": "stdout",
     "output_type": "stream",
     "text": [
      "N: 17426\n"
     ]
    },
    {
     "data": {
      "application/vnd.jupyter.widget-view+json": {
       "model_id": "ec33b22e422a42e7a23496b56cf90c74",
       "version_major": 2,
       "version_minor": 0
      },
      "text/plain": [
       "Epoch:   0%|          | 0/30 [00:00<?, ?it/s]"
      ]
     },
     "metadata": {},
     "output_type": "display_data"
    },
    {
     "data": {
      "application/vnd.jupyter.widget-view+json": {
       "model_id": "133def6d249f403ba3588152b8842a81",
       "version_major": 2,
       "version_minor": 0
      },
      "text/plain": [
       "Training loss:   0%|          | 0/545 [00:00<?, ?it/s]"
      ]
     },
     "metadata": {},
     "output_type": "display_data"
    },
    {
     "data": {
      "application/vnd.jupyter.widget-view+json": {
       "model_id": "fb8cb812efdc475b8972481f8096d77f",
       "version_major": 2,
       "version_minor": 0
      },
      "text/plain": [
       "Validation loss:   0%|          | 0/262 [00:00<?, ?it/s]"
      ]
     },
     "metadata": {},
     "output_type": "display_data"
    },
    {
     "name": "stdout",
     "output_type": "stream",
     "text": [
      "Epoch 1 of 30\n",
      "                                       Key           Value\n",
      "0                             LearningRate           0.005\n",
      "1                               Loss/train        0.002062\n",
      "2                               Loss/valid  tensor(0.0052)\n",
      "3                MeanAbsoluteError()/train     0.018970363\n",
      "4                MeanAbsoluteError()/valid      0.02051133\n",
      "5                 MeanSquaredError()/train       0.0020618\n",
      "6                 MeanSquaredError()/valid     0.005242834\n",
      "7   NormalizedRootMeanSquaredError()/train       2.1863222\n",
      "8   NormalizedRootMeanSquaredError()/valid       3.8007448\n",
      "9                          R2Score()/train      0.46996033\n",
      "10                         R2Score()/valid      0.18238282\n",
      "\n"
     ]
    },
    {
     "data": {
      "application/vnd.jupyter.widget-view+json": {
       "model_id": "13d8d0a46ee049aaa1782dc6a6517978",
       "version_major": 2,
       "version_minor": 0
      },
      "text/plain": [
       "Training loss:   0%|          | 0/545 [00:00<?, ?it/s]"
      ]
     },
     "metadata": {},
     "output_type": "display_data"
    },
    {
     "data": {
      "application/vnd.jupyter.widget-view+json": {
       "model_id": "3154d54088ef4430941e4d78e741f1f1",
       "version_major": 2,
       "version_minor": 0
      },
      "text/plain": [
       "Validation loss:   0%|          | 0/262 [00:00<?, ?it/s]"
      ]
     },
     "metadata": {},
     "output_type": "display_data"
    },
    {
     "name": "stdout",
     "output_type": "stream",
     "text": [
      "Epoch 2 of 30\n",
      "                                       Key           Value\n",
      "0                             LearningRate           0.005\n",
      "1                               Loss/train        0.001609\n",
      "2                               Loss/valid  tensor(0.0053)\n",
      "3                MeanAbsoluteError()/train      0.01752435\n",
      "4                MeanAbsoluteError()/valid     0.020894915\n",
      "5                 MeanSquaredError()/train    0.0016088815\n",
      "6                 MeanSquaredError()/valid     0.005341036\n",
      "7   NormalizedRootMeanSquaredError()/train       1.9313132\n",
      "8   NormalizedRootMeanSquaredError()/valid       3.8361733\n",
      "9                          R2Score()/train       0.5863948\n",
      "10                         R2Score()/valid      0.16706795\n",
      "\n"
     ]
    },
    {
     "data": {
      "application/vnd.jupyter.widget-view+json": {
       "model_id": "2f8bf9ab07be4675b6e5cdcc6dbc095d",
       "version_major": 2,
       "version_minor": 0
      },
      "text/plain": [
       "Training loss:   0%|          | 0/545 [00:00<?, ?it/s]"
      ]
     },
     "metadata": {},
     "output_type": "display_data"
    },
    {
     "data": {
      "application/vnd.jupyter.widget-view+json": {
       "model_id": "f676cc1c4cfe4957b75c6f6538a1acab",
       "version_major": 2,
       "version_minor": 0
      },
      "text/plain": [
       "Validation loss:   0%|          | 0/262 [00:00<?, ?it/s]"
      ]
     },
     "metadata": {},
     "output_type": "display_data"
    },
    {
     "name": "stdout",
     "output_type": "stream",
     "text": [
      "Epoch 3 of 30\n",
      "                                       Key           Value\n",
      "0                             LearningRate           0.005\n",
      "1                               Loss/train         0.00152\n",
      "2                               Loss/valid  tensor(0.0055)\n",
      "3                MeanAbsoluteError()/train     0.017266694\n",
      "4                MeanAbsoluteError()/valid      0.02016226\n",
      "5                 MeanSquaredError()/train    0.0015201647\n",
      "6                 MeanSquaredError()/valid     0.005502461\n",
      "7   NormalizedRootMeanSquaredError()/train       1.8773103\n",
      "8   NormalizedRootMeanSquaredError()/valid        3.893711\n",
      "9                          R2Score()/train       0.6092019\n",
      "10                         R2Score()/valid      0.14189345\n",
      "\n"
     ]
    },
    {
     "data": {
      "application/vnd.jupyter.widget-view+json": {
       "model_id": "d61371b906da403ab21284aa0756be77",
       "version_major": 2,
       "version_minor": 0
      },
      "text/plain": [
       "Training loss:   0%|          | 0/545 [00:00<?, ?it/s]"
      ]
     },
     "metadata": {},
     "output_type": "display_data"
    },
    {
     "data": {
      "application/vnd.jupyter.widget-view+json": {
       "model_id": "911d2907f2e0483097ff3d0fdc7d324e",
       "version_major": 2,
       "version_minor": 0
      },
      "text/plain": [
       "Validation loss:   0%|          | 0/262 [00:00<?, ?it/s]"
      ]
     },
     "metadata": {},
     "output_type": "display_data"
    },
    {
     "name": "stdout",
     "output_type": "stream",
     "text": [
      "Epoch 4 of 30\n",
      "                                       Key           Value\n",
      "0                             LearningRate           0.005\n",
      "1                               Loss/train        0.001498\n",
      "2                               Loss/valid  tensor(0.0054)\n",
      "3                MeanAbsoluteError()/train     0.016988022\n",
      "4                MeanAbsoluteError()/valid     0.019596975\n",
      "5                 MeanSquaredError()/train    0.0014981992\n",
      "6                 MeanSquaredError()/valid     0.005393112\n",
      "7   NormalizedRootMeanSquaredError()/train       1.8636973\n",
      "8   NormalizedRootMeanSquaredError()/valid        3.854829\n",
      "9                          R2Score()/train       0.6148486\n",
      "10                         R2Score()/valid      0.15894705\n",
      "\n"
     ]
    },
    {
     "data": {
      "application/vnd.jupyter.widget-view+json": {
       "model_id": "d1986acf89dc4761bdec5981cedd0ecc",
       "version_major": 2,
       "version_minor": 0
      },
      "text/plain": [
       "Training loss:   0%|          | 0/545 [00:00<?, ?it/s]"
      ]
     },
     "metadata": {},
     "output_type": "display_data"
    },
    {
     "data": {
      "application/vnd.jupyter.widget-view+json": {
       "model_id": "dc2fad06bd4040d398beb64271235a1a",
       "version_major": 2,
       "version_minor": 0
      },
      "text/plain": [
       "Validation loss:   0%|          | 0/262 [00:00<?, ?it/s]"
      ]
     },
     "metadata": {},
     "output_type": "display_data"
    },
    {
     "name": "stdout",
     "output_type": "stream",
     "text": [
      "Epoch 5 of 30\n",
      "                                       Key           Value\n",
      "0                             LearningRate           0.001\n",
      "1                               Loss/train        0.001435\n",
      "2                               Loss/valid  tensor(0.0054)\n",
      "3                MeanAbsoluteError()/train     0.016466213\n",
      "4                MeanAbsoluteError()/valid     0.019305302\n",
      "5                 MeanSquaredError()/train    0.0014354973\n",
      "6                 MeanSquaredError()/valid    0.0054498175\n",
      "7   NormalizedRootMeanSquaredError()/train       1.8242815\n",
      "8   NormalizedRootMeanSquaredError()/valid       3.8750443\n",
      "9                          R2Score()/train       0.6309679\n",
      "10                         R2Score()/valid      0.15010399\n",
      "\n"
     ]
    },
    {
     "data": {
      "application/vnd.jupyter.widget-view+json": {
       "model_id": "c39d90bec27447029d81c87109d6441e",
       "version_major": 2,
       "version_minor": 0
      },
      "text/plain": [
       "Training loss:   0%|          | 0/545 [00:00<?, ?it/s]"
      ]
     },
     "metadata": {},
     "output_type": "display_data"
    },
    {
     "data": {
      "application/vnd.jupyter.widget-view+json": {
       "model_id": "e668b93c5e7b4dd087d4f03443b2178e",
       "version_major": 2,
       "version_minor": 0
      },
      "text/plain": [
       "Validation loss:   0%|          | 0/262 [00:00<?, ?it/s]"
      ]
     },
     "metadata": {},
     "output_type": "display_data"
    },
    {
     "name": "stdout",
     "output_type": "stream",
     "text": [
      "Epoch 6 of 30\n",
      "                                       Key           Value\n",
      "0                             LearningRate           0.001\n",
      "1                               Loss/train        0.001373\n",
      "2                               Loss/valid  tensor(0.0053)\n",
      "3                MeanAbsoluteError()/train     0.015923865\n",
      "4                MeanAbsoluteError()/valid     0.019311909\n",
      "5                 MeanSquaredError()/train    0.0013726101\n",
      "6                 MeanSquaredError()/valid     0.005274643\n",
      "7   NormalizedRootMeanSquaredError()/train       1.7838756\n",
      "8   NormalizedRootMeanSquaredError()/valid       3.8122566\n",
      "9                          R2Score()/train      0.64713454\n",
      "10                         R2Score()/valid      0.17742187\n",
      "\n"
     ]
    },
    {
     "data": {
      "application/vnd.jupyter.widget-view+json": {
       "model_id": "3ac0f0a667d44a24843a056422f05647",
       "version_major": 2,
       "version_minor": 0
      },
      "text/plain": [
       "Training loss:   0%|          | 0/545 [00:00<?, ?it/s]"
      ]
     },
     "metadata": {},
     "output_type": "display_data"
    },
    {
     "data": {
      "application/vnd.jupyter.widget-view+json": {
       "model_id": "b5553c09df83483f9fba2c07d9afa2a8",
       "version_major": 2,
       "version_minor": 0
      },
      "text/plain": [
       "Validation loss:   0%|          | 0/262 [00:00<?, ?it/s]"
      ]
     },
     "metadata": {},
     "output_type": "display_data"
    },
    {
     "name": "stdout",
     "output_type": "stream",
     "text": [
      "Epoch 7 of 30\n",
      "                                       Key           Value\n",
      "0                             LearningRate           0.001\n",
      "1                               Loss/train        0.001363\n",
      "2                               Loss/valid  tensor(0.0052)\n",
      "3                MeanAbsoluteError()/train     0.015828777\n",
      "4                MeanAbsoluteError()/valid     0.019193258\n",
      "5                 MeanSquaredError()/train    0.0013630005\n",
      "6                 MeanSquaredError()/valid    0.0052252733\n",
      "7   NormalizedRootMeanSquaredError()/train       1.7776188\n",
      "8   NormalizedRootMeanSquaredError()/valid       3.7943695\n",
      "9                          R2Score()/train       0.6496049\n",
      "10                         R2Score()/valid      0.18512112\n",
      "\n"
     ]
    },
    {
     "data": {
      "application/vnd.jupyter.widget-view+json": {
       "model_id": "727e5edaa42243cda1f9e40cbe76d7f2",
       "version_major": 2,
       "version_minor": 0
      },
      "text/plain": [
       "Training loss:   0%|          | 0/545 [00:00<?, ?it/s]"
      ]
     },
     "metadata": {},
     "output_type": "display_data"
    },
    {
     "data": {
      "application/vnd.jupyter.widget-view+json": {
       "model_id": "fec071e1851f470b84364bd933e09349",
       "version_major": 2,
       "version_minor": 0
      },
      "text/plain": [
       "Validation loss:   0%|          | 0/262 [00:00<?, ?it/s]"
      ]
     },
     "metadata": {},
     "output_type": "display_data"
    },
    {
     "name": "stdout",
     "output_type": "stream",
     "text": [
      "Epoch 8 of 30\n",
      "                                       Key           Value\n",
      "0                             LearningRate           0.001\n",
      "1                               Loss/train        0.001346\n",
      "2                               Loss/valid  tensor(0.0053)\n",
      "3                MeanAbsoluteError()/train     0.015626471\n",
      "4                MeanAbsoluteError()/valid     0.018952869\n",
      "5                 MeanSquaredError()/train    0.0013465423\n",
      "6                 MeanSquaredError()/valid    0.0053173774\n",
      "7   NormalizedRootMeanSquaredError()/train        1.766853\n",
      "8   NormalizedRootMeanSquaredError()/valid       3.8276682\n",
      "9                          R2Score()/train       0.6538358\n",
      "10                         R2Score()/valid      0.17075765\n",
      "\n"
     ]
    },
    {
     "data": {
      "application/vnd.jupyter.widget-view+json": {
       "model_id": "b01e03f05b284952b3d4461c6195cc28",
       "version_major": 2,
       "version_minor": 0
      },
      "text/plain": [
       "Training loss:   0%|          | 0/545 [00:00<?, ?it/s]"
      ]
     },
     "metadata": {},
     "output_type": "display_data"
    },
    {
     "data": {
      "application/vnd.jupyter.widget-view+json": {
       "model_id": "7cdd003897454444be86d3d72f98553d",
       "version_major": 2,
       "version_minor": 0
      },
      "text/plain": [
       "Validation loss:   0%|          | 0/262 [00:00<?, ?it/s]"
      ]
     },
     "metadata": {},
     "output_type": "display_data"
    },
    {
     "name": "stdout",
     "output_type": "stream",
     "text": [
      "Epoch 9 of 30\n",
      "                                       Key           Value\n",
      "0                             LearningRate           0.001\n",
      "1                               Loss/train        0.001344\n",
      "2                               Loss/valid  tensor(0.0052)\n",
      "3                MeanAbsoluteError()/train     0.015491291\n",
      "4                MeanAbsoluteError()/valid     0.019024706\n",
      "5                 MeanSquaredError()/train    0.0013442895\n",
      "6                 MeanSquaredError()/valid    0.0052040927\n",
      "7   NormalizedRootMeanSquaredError()/train       1.7653743\n",
      "8   NormalizedRootMeanSquaredError()/valid       3.7866757\n",
      "9                          R2Score()/train       0.6544152\n",
      "10                         R2Score()/valid      0.18842423\n",
      "\n"
     ]
    },
    {
     "data": {
      "application/vnd.jupyter.widget-view+json": {
       "model_id": "a7124a45b22c41aaa6bf111a025d80ac",
       "version_major": 2,
       "version_minor": 0
      },
      "text/plain": [
       "Training loss:   0%|          | 0/545 [00:00<?, ?it/s]"
      ]
     },
     "metadata": {},
     "output_type": "display_data"
    },
    {
     "data": {
      "application/vnd.jupyter.widget-view+json": {
       "model_id": "0e2827360cef47b089804ae885698919",
       "version_major": 2,
       "version_minor": 0
      },
      "text/plain": [
       "Validation loss:   0%|          | 0/262 [00:00<?, ?it/s]"
      ]
     },
     "metadata": {},
     "output_type": "display_data"
    },
    {
     "name": "stdout",
     "output_type": "stream",
     "text": [
      "Epoch 10 of 30\n",
      "                                       Key           Value\n",
      "0                             LearningRate           0.001\n",
      "1                               Loss/train        0.001335\n",
      "2                               Loss/valid  tensor(0.0053)\n",
      "3                MeanAbsoluteError()/train     0.015399903\n",
      "4                MeanAbsoluteError()/valid      0.01890137\n",
      "5                 MeanSquaredError()/train    0.0013340965\n",
      "6                 MeanSquaredError()/valid     0.005321868\n",
      "7   NormalizedRootMeanSquaredError()/train       1.7586703\n",
      "8   NormalizedRootMeanSquaredError()/valid       3.8292844\n",
      "9                          R2Score()/train       0.6570357\n",
      "10                         R2Score()/valid      0.17005724\n",
      "\n"
     ]
    },
    {
     "data": {
      "application/vnd.jupyter.widget-view+json": {
       "model_id": "bd8b3d97a85c453da92a405f3091c4cf",
       "version_major": 2,
       "version_minor": 0
      },
      "text/plain": [
       "Training loss:   0%|          | 0/545 [00:00<?, ?it/s]"
      ]
     },
     "metadata": {},
     "output_type": "display_data"
    },
    {
     "data": {
      "application/vnd.jupyter.widget-view+json": {
       "model_id": "fd7ce9b25745465ca49b876748585f79",
       "version_major": 2,
       "version_minor": 0
      },
      "text/plain": [
       "Validation loss:   0%|          | 0/262 [00:00<?, ?it/s]"
      ]
     },
     "metadata": {},
     "output_type": "display_data"
    },
    {
     "name": "stdout",
     "output_type": "stream",
     "text": [
      "Epoch 11 of 30\n",
      "                                       Key           Value\n",
      "0                             LearningRate           0.001\n",
      "1                               Loss/train        0.001319\n",
      "2                               Loss/valid  tensor(0.0053)\n",
      "3                MeanAbsoluteError()/train     0.015251157\n",
      "4                MeanAbsoluteError()/valid      0.01874581\n",
      "5                 MeanSquaredError()/train    0.0013189437\n",
      "6                 MeanSquaredError()/valid       0.0052832\n",
      "7   NormalizedRootMeanSquaredError()/train       1.7486538\n",
      "8   NormalizedRootMeanSquaredError()/valid       3.8153455\n",
      "9                          R2Score()/train       0.6609311\n",
      "10                         R2Score()/valid      0.17608774\n",
      "\n"
     ]
    },
    {
     "data": {
      "application/vnd.jupyter.widget-view+json": {
       "model_id": "a11c92a092ec4383b6b41d9f4776ac63",
       "version_major": 2,
       "version_minor": 0
      },
      "text/plain": [
       "Training loss:   0%|          | 0/545 [00:00<?, ?it/s]"
      ]
     },
     "metadata": {},
     "output_type": "display_data"
    },
    {
     "data": {
      "application/vnd.jupyter.widget-view+json": {
       "model_id": "466bb602eeba4694b16a5f8ff73157ab",
       "version_major": 2,
       "version_minor": 0
      },
      "text/plain": [
       "Validation loss:   0%|          | 0/262 [00:00<?, ?it/s]"
      ]
     },
     "metadata": {},
     "output_type": "display_data"
    },
    {
     "name": "stdout",
     "output_type": "stream",
     "text": [
      "Epoch 12 of 30\n",
      "                                       Key           Value\n",
      "0                             LearningRate           0.001\n",
      "1                               Loss/train        0.001327\n",
      "2                               Loss/valid  tensor(0.0054)\n",
      "3                MeanAbsoluteError()/train     0.015173364\n",
      "4                MeanAbsoluteError()/valid      0.01862917\n",
      "5                 MeanSquaredError()/train    0.0013265392\n",
      "6                 MeanSquaredError()/valid     0.005388734\n",
      "7   NormalizedRootMeanSquaredError()/train       1.7536803\n",
      "8   NormalizedRootMeanSquaredError()/valid        3.853266\n",
      "9                          R2Score()/train      0.65897834\n",
      "10                         R2Score()/valid      0.15962952\n",
      "\n"
     ]
    },
    {
     "data": {
      "application/vnd.jupyter.widget-view+json": {
       "model_id": "480a931b88e14af08350dc2b08eaf341",
       "version_major": 2,
       "version_minor": 0
      },
      "text/plain": [
       "Training loss:   0%|          | 0/545 [00:00<?, ?it/s]"
      ]
     },
     "metadata": {},
     "output_type": "display_data"
    },
    {
     "data": {
      "application/vnd.jupyter.widget-view+json": {
       "model_id": "b2e731629ab14eb88784f24e7ef064f1",
       "version_major": 2,
       "version_minor": 0
      },
      "text/plain": [
       "Validation loss:   0%|          | 0/262 [00:00<?, ?it/s]"
      ]
     },
     "metadata": {},
     "output_type": "display_data"
    },
    {
     "name": "stdout",
     "output_type": "stream",
     "text": [
      "Epoch 13 of 30\n",
      "                                       Key           Value\n",
      "0                             LearningRate          0.0002\n",
      "1                               Loss/train        0.001299\n",
      "2                               Loss/valid  tensor(0.0054)\n",
      "3                MeanAbsoluteError()/train     0.015027622\n",
      "4                MeanAbsoluteError()/valid     0.018592834\n",
      "5                 MeanSquaredError()/train    0.0012984916\n",
      "6                 MeanSquaredError()/valid    0.0053762463\n",
      "7   NormalizedRootMeanSquaredError()/train        1.735043\n",
      "8   NormalizedRootMeanSquaredError()/valid       3.8487968\n",
      "9                          R2Score()/train      0.66618866\n",
      "10                         R2Score()/valid      0.16157681\n",
      "\n"
     ]
    }
   ],
   "source": [
    "import torchmetrics\n",
    "from util.convlstm import DamageConvLSTM\n",
    "\n",
    "wds = util.datasets.WindowXarrayDataset(\n",
    "    train_ds, window, mask=mort_arr.sel(time=train_years)\n",
    ")\n",
    "print(f\"N: {len(wds)}\")\n",
    "\n",
    "train_loader = DataLoader(\n",
    "    wds, batch_size, \n",
    "    shuffle=True, collate_fn=train_collator, \n",
    "    generator=torch.Generator(device=device)\n",
    ")\n",
    "\n",
    "# Model params\n",
    "input_channel = len(input_bands)\n",
    "hidden_dim = 4\n",
    "num_layers = 2\n",
    "kernel = (3, 3)\n",
    "m = DamageConvLSTM(\n",
    "    input_channel, \n",
    "    hidden_dim, \n",
    "    kernel, \n",
    "    num_layers, \n",
    "    batch_first=True,\n",
    "    dropout=0.3\n",
    ")\n",
    "\n",
    "# Init bias\n",
    "mean_mort = window_mean.mean().values/100\n",
    "init_bias = np.log(mean_mort / (1 - mean_mort))\n",
    "torch.nn.init.constant_(m.conv.bias, init_bias)\n",
    "\n",
    "# Build trainer\n",
    "loss = torch.nn.MSELoss()\n",
    "opt  = torch.optim.Adam(m.parameters(), lr=0.005)\n",
    "scheduler = torch.optim.lr_scheduler.ReduceLROnPlateau(opt, patience=3, factor=0.2)\n",
    "metrics = util.training.get_regr_metrics()\n",
    "\n",
    "model_name = f\"03182025_convlstm__8_8_5__ewma__8band\"\n",
    "logdir = os.path.join(\"logs\", model_name)\n",
    "\n",
    "# Remove existing logs if present\n",
    "if os.path.exists(logdir):\n",
    "    util.training.remove_log(logdir)\n",
    "\n",
    "trainer = Trainer(\n",
    "    m, opt, scheduler, loss, train_loader, valid_loader,\n",
    "    metrics=metrics, \n",
    "    n_epochs=30,\n",
    "    tensorboard_log=os.path.join(logdir, \"history\"),\n",
    "    model_log=os.path.join(logdir, \"model.pth\"),\n",
    "    defn_log=os.path.join(logdir, \"model_definition.txt\"),\n",
    "    verbose=True,\n",
    "    stop_patience=5,\n",
    "    rel_improve=0.01\n",
    ")\n",
    "\n",
    "trainer.train()"
   ]
  },
  {
   "cell_type": "code",
   "execution_count": 21,
   "id": "c55924e8-87cb-44cf-b25a-407e0f80f312",
   "metadata": {},
   "outputs": [
    {
     "data": {
      "text/plain": [
       "(<Figure size 640x480 with 6 Axes>,\n",
       " <Axes: title={'center': 'NormalizedRootMeanSquaredError()'}>)"
      ]
     },
     "execution_count": 21,
     "metadata": {},
     "output_type": "execute_result"
    },
    {
     "data": {
      "image/png": "[encoded data removed]",
      "text/plain": [
       "<Figure size 640x480 with 6 Axes>"
      ]
     },
     "metadata": {},
     "output_type": "display_data"
    }
   ],
   "source": [
    "util.plot.plot_all_scalars_in_run(f\"logs/{model_name}/history/\")"
   ]
  },
  {
   "cell_type": "markdown",
   "id": "f8375ae2-7e29-4055-a8a1-b97bfeaa8ed6",
   "metadata": {},
   "source": [
    "Calculate performance on test set"
   ]
  },
  {
   "cell_type": "code",
   "execution_count": 22,
   "id": "150f5993-3ce6-485f-ba73-3a653ddb3263",
   "metadata": {},
   "outputs": [
    {
     "name": "stderr",
     "output_type": "stream",
     "text": [
      "                                                 "
     ]
    },
    {
     "name": "stdout",
     "output_type": "stream",
     "text": [
      "NormalizedRootMeanSquaredError(): 4.071\n",
      "R2Score(): 0.171\n",
      "MeanAbsoluteError(): 0.011\n",
      "MeanSquaredError(): 0.001\n"
     ]
    },
    {
     "name": "stderr",
     "output_type": "stream",
     "text": []
    }
   ],
   "source": [
    "from tqdm import tqdm\n",
    "import pandas as pd\n",
    "\n",
    "test_metrics = util.training.get_regr_metrics()\n",
    "\n",
    "m.eval()\n",
    "with torch.no_grad():\n",
    "    for (X, y) in tqdm(test_loader, leave=False):\n",
    "        y_hat = m(X)\n",
    "        for metric in test_metrics:\n",
    "            metric(y_hat.view(-1), y.view(-1))\n",
    "\n",
    "for metric in test_metrics:\n",
    "    print(f\"{str(metric)}: {metric.compute():.3f}\")"
   ]
  },
  {
   "cell_type": "markdown",
   "id": "2f7e8498-115b-4450-9ca5-24e87046dec5",
   "metadata": {},
   "source": [
    "What if we test/validate on the smoothed signal?"
   ]
  },
  {
   "cell_type": "code",
   "execution_count": 23,
   "id": "a8aa4ffa-a1dd-423b-938a-5750810e0637",
   "metadata": {},
   "outputs": [],
   "source": [
    "valid_loader_ewma = DataLoader(\n",
    "    valid_wds, \n",
    "    batch_size, \n",
    "    shuffle=True, \n",
    "    collate_fn=train_collator, \n",
    "    generator=torch.Generator(device=device)\n",
    ")\n",
    "test_loader_ewma  = DataLoader(\n",
    "    test_wds, \n",
    "    batch_size, \n",
    "    shuffle=True, \n",
    "    collate_fn=train_collator, \n",
    "    generator=torch.Generator(device=device)\n",
    ")"
   ]
  },
  {
   "cell_type": "code",
   "execution_count": 24,
   "id": "c7e0c2ba-4893-46ef-b335-907bbdc2f7c3",
   "metadata": {},
   "outputs": [
    {
     "name": "stderr",
     "output_type": "stream",
     "text": [
      "                                                 "
     ]
    },
    {
     "name": "stdout",
     "output_type": "stream",
     "text": [
      "NormalizedRootMeanSquaredError(): 2.253\n",
      "R2Score(): 0.519\n",
      "MeanAbsoluteError(): 0.007\n",
      "MeanSquaredError(): 0.001\n"
     ]
    },
    {
     "name": "stderr",
     "output_type": "stream",
     "text": []
    }
   ],
   "source": [
    "test_metrics_ewma = util.training.get_regr_metrics()\n",
    "\n",
    "m.eval()\n",
    "with torch.no_grad():\n",
    "    for (X, y) in tqdm(test_loader_ewma, leave=False):\n",
    "        y_hat = m(X)\n",
    "        for metric in test_metrics_ewma:\n",
    "            metric(y_hat.view(-1), y.view(-1))\n",
    "\n",
    "for metric in test_metrics_ewma:\n",
    "    print(f\"{str(metric)}: {metric.compute():.3f}\")"
   ]
  },
  {
   "cell_type": "code",
   "execution_count": 25,
   "id": "028cc704-742b-415d-94a6-7da2ffa7d081",
   "metadata": {},
   "outputs": [
    {
     "name": "stderr",
     "output_type": "stream",
     "text": [
      "                                                 "
     ]
    },
    {
     "name": "stdout",
     "output_type": "stream",
     "text": [
      "NormalizedRootMeanSquaredError(): 2.687\n",
      "R2Score(): 0.420\n",
      "MeanAbsoluteError(): 0.011\n",
      "MeanSquaredError(): 0.002\n"
     ]
    },
    {
     "name": "stderr",
     "output_type": "stream",
     "text": []
    }
   ],
   "source": [
    "valid_metrics_ewma = util.training.get_regr_metrics()\n",
    "\n",
    "m.eval()\n",
    "with torch.no_grad():\n",
    "    for (X, y) in tqdm(valid_loader_ewma, leave=False):\n",
    "        y_hat = m(X)\n",
    "        for metric in valid_metrics_ewma:\n",
    "            metric(y_hat.view(-1), y.view(-1))\n",
    "\n",
    "for metric in valid_metrics_ewma:\n",
    "    print(f\"{str(metric)}: {metric.compute():.3f}\")"
   ]
  },
  {
   "cell_type": "code",
   "execution_count": 26,
   "id": "1319b9f9-4546-459b-8aef-524351c59a8a",
   "metadata": {},
   "outputs": [],
   "source": [
    "train_metrics = util.training.get_final_metrics(f\"logs/{model_name}/history\")"
   ]
  },
  {
   "cell_type": "code",
   "execution_count": 27,
   "id": "0da917f5-a2a5-45de-980a-5466b49542e5",
   "metadata": {},
   "outputs": [
    {
     "data": {
      "text/plain": [
       "{'NormalizedRootMeanSquaredError()/train': 1.7350430488586426,\n",
       " 'R2Score()/train': 0.666188657283783,\n",
       " 'MeanAbsoluteError()/train': 0.015027621760964394,\n",
       " 'MeanSquaredError()/train': 0.0012984916102141142,\n",
       " 'NormalizedRootMeanSquaredError()/valid': 3.848796844482422,\n",
       " 'R2Score()/valid': 0.16157680749893188,\n",
       " 'MeanAbsoluteError()/valid': 0.01859283447265625,\n",
       " 'MeanSquaredError()/valid': 0.00537624629214406,\n",
       " 'Loss/train': 0.0012987001100555062,\n",
       " 'Loss/valid': 0.005365555640310049,\n",
       " 'LearningRate': 0.00019999999494757503}"
      ]
     },
     "execution_count": 27,
     "metadata": {},
     "output_type": "execute_result"
    }
   ],
   "source": [
    "train_metrics"
   ]
  },
  {
   "cell_type": "code",
   "execution_count": 28,
   "id": "6a4c9379-0b24-42e7-9dcc-308e0e064e5f",
   "metadata": {},
   "outputs": [
    {
     "data": {
      "text/plain": [
       "<matplotlib.legend.Legend at 0x7f40ea2c3920>"
      ]
     },
     "execution_count": 28,
     "metadata": {},
     "output_type": "execute_result"
    },
    {
     "data": {
      "image/png": "[encoded data removed]",
      "text/plain": [
       "<Figure size 1100x400 with 3 Axes>"
      ]
     },
     "metadata": {},
     "output_type": "display_data"
    }
   ],
   "source": [
    "from matplotlib.patches import Rectangle\n",
    "\n",
    "fig, (ax1, ax2, ax3) = plt.subplots(1, 3, figsize=(11, 4))\n",
    "\n",
    "nrmse = \"NormalizedRootMeanSquaredError()\"\n",
    "mae = \"MeanAbsoluteError()\"\n",
    "r2 = \"R2Score()\"\n",
    "\n",
    "label = [\"Train\", \"Valid\", \"Valid (smooth)\", \"Test\", \"Test (smooth)\"]\n",
    "color = [\"#2ca25f\", \"#2b8cbe\", \"#a6bddb\", \"#f03b20\", \"#feb24c\"]\n",
    "\n",
    "nrmse_values = [\n",
    "    train_metrics[f\"{nrmse}/train\"],\n",
    "    train_metrics[f\"{nrmse}/valid\"], \n",
    "    valid_metrics_ewma[0].compute(), \n",
    "    test_metrics[0].compute(), \n",
    "    test_metrics_ewma[0].compute()\n",
    "]\n",
    "r2_values = [\n",
    "    train_metrics[f\"{r2}/train\"], \n",
    "    train_metrics[f\"{r2}/valid\"], \n",
    "    valid_metrics_ewma[1].compute(), \n",
    "    test_metrics[1].compute(), \n",
    "    test_metrics_ewma[1].compute()\n",
    "]\n",
    "mae_values = [\n",
    "    train_metrics[f\"{mae}/train\"], \n",
    "    train_metrics[f\"{mae}/valid\"], \n",
    "    valid_metrics_ewma[2].compute(), \n",
    "    test_metrics[2].compute(), \n",
    "    test_metrics_ewma[2].compute()\n",
    "]\n",
    "x = [1, 3, 4, 6, 7]\n",
    "\n",
    "ax1.set_title(\"Normalized RMSE (↓)\")\n",
    "b = ax1.bar(x, nrmse_values, label=label, color=color)\n",
    "ax1.bar_label(b, fmt=\"%.2f\")\n",
    "ax1.xaxis.set_visible(False)\n",
    "ax1.yaxis.set_visible(False)\n",
    "\n",
    "ax3.set_title(\"R2 Score (↑)\")\n",
    "b = ax3.bar(x, r2_values, label=label, color=color)\n",
    "ax3.bar_label(b, fmt=\"%.2f\")\n",
    "ax3.xaxis.set_visible(False)\n",
    "ax3.yaxis.set_visible(False)\n",
    "# ax2.legend()\n",
    "\n",
    "ax2.set_title(\"Mean Absolute Error (↓)\")\n",
    "b = ax2.bar(x, mae_values, label=label, color=color)\n",
    "ax2.bar_label(b, fmt=\"%.3f\")\n",
    "ax2.xaxis.set_visible(False)\n",
    "ax2.yaxis.set_visible(False)\n",
    "# ax2.legend()\n",
    "\n",
    "handles, labels = ax1.get_legend_handles_labels()\n",
    "handles.insert(1, Rectangle((0, 0), 0, 0, visible=False))\n",
    "labels.insert(1, \"\")\n",
    "\n",
    "plt.legend(handles, labels, ncol=3, loc = 'lower center', bbox_to_anchor = (0, -0.1, 1, 1),\n",
    "           bbox_transform = plt.gcf().transFigure)\n",
    "# fig.tight_layout()"
   ]
  },
  {
   "cell_type": "markdown",
   "id": "98715643-3d82-4794-9b2d-0dd51ad6f1b1",
   "metadata": {},
   "source": [
    "Prediction map"
   ]
  },
  {
   "cell_type": "code",
   "execution_count": 29,
   "id": "61d1214d-5b83-4295-8c6c-fa0a0c1413fe",
   "metadata": {},
   "outputs": [
    {
     "data": {
      "text/plain": [
       "DamageConvLSTM(\n",
       "  (convlstm): ConvLSTM(\n",
       "    (cell_list): ModuleList(\n",
       "      (0): ConvLSTMCell(\n",
       "        (conv): Conv2d(12, 16, kernel_size=(3, 3), stride=(1, 1), padding=(1, 1))\n",
       "        (drop): Dropout(p=0.3, inplace=False)\n",
       "      )\n",
       "      (1): ConvLSTMCell(\n",
       "        (conv): Conv2d(8, 16, kernel_size=(3, 3), stride=(1, 1), padding=(1, 1))\n",
       "        (drop): Dropout(p=0.3, inplace=False)\n",
       "      )\n",
       "    )\n",
       "  )\n",
       "  (conv): Conv2d(4, 1, kernel_size=(1, 1), stride=(1, 1))\n",
       "  (sigmoid): Sigmoid()\n",
       "  (bn): BatchNorm3d(8, eps=1e-05, momentum=0.1, affine=True, track_running_stats=True)\n",
       ")"
      ]
     },
     "execution_count": 29,
     "metadata": {},
     "output_type": "execute_result"
    }
   ],
   "source": [
    "# Reload the right model\n",
    "input_channel = len(input_bands)\n",
    "hidden_dim = 4\n",
    "num_layers = 2\n",
    "kernel = (3, 3)\n",
    "m = DamageConvLSTM(\n",
    "    input_channel, \n",
    "    hidden_dim, \n",
    "    kernel, \n",
    "    num_layers, \n",
    "    batch_first=True,\n",
    "    dropout=0.3\n",
    ")\n",
    "\n",
    "m.load_state_dict(torch.load(f\"logs/{model_name}/model.pth\", weights_only=True))\n",
    "m.eval()"
   ]
  },
  {
   "cell_type": "code",
   "execution_count": 30,
   "id": "11458495-ed9b-4491-a3c3-20118a389d4c",
   "metadata": {},
   "outputs": [
    {
     "name": "stdout",
     "output_type": "stream",
     "text": [
      "56471\n"
     ]
    }
   ],
   "source": [
    "inference_window = dict(x=[8, False], y=[8, False], time=[4, False])\n",
    "ds_infer = ds.sel(time=np.concatenate([valid_years, test_years]))\n",
    "wds_infer = util.datasets.WindowXarrayDataset(\n",
    "    ds_infer, window, \n",
    "    mask=ds_infer.sel(band=\"mortality\"), \n",
    "    na_thresh=0.5,\n",
    "    downsample_step=10\n",
    ")\n",
    "print(len(wds_infer))"
   ]
  },
  {
   "cell_type": "code",
   "execution_count": 31,
   "id": "0085097a-506c-43b0-b9ea-3b475d39488c",
   "metadata": {},
   "outputs": [],
   "source": [
    "ch_means = m.bn.running_mean\n",
    "\n",
    "def inference_collator(patch):\n",
    "    X = torch.tensor(\n",
    "            np.squeeze(patch.values[:-1, input_inds, :, :]),\n",
    "            dtype=dtype\n",
    "        ).unsqueeze(0)\n",
    "\n",
    "    # Replace nan cells with the channel mean\n",
    "    X = torch.nan_to_num(X)\n",
    "    X += m.bn.running_mean * torch.isnan(X)\n",
    "    return X"
   ]
  },
  {
   "cell_type": "code",
   "execution_count": 32,
   "id": "19dc44d9-3848-43a0-bc4b-33a0e57480d5",
   "metadata": {},
   "outputs": [
    {
     "name": "stderr",
     "output_type": "stream",
     "text": [
      "100%|██████████| 56471/56471 [02:34<00:00, 364.99it/s]\n"
     ]
    }
   ],
   "source": [
    "out_arr = np.zeros(ds_infer.isel(band=0).shape)\n",
    "out_n   = np.zeros(out_arr.shape)\n",
    "\n",
    "with torch.no_grad():\n",
    "    for i in tqdm(range(len(wds_infer))):\n",
    "        input_tensor = inference_collator(wds_infer[i])\n",
    "        t = wds_infer.valid_indices[\"time\"][i]\n",
    "        y = wds_infer.valid_indices[\"y\"][i]\n",
    "        x = wds_infer.valid_indices[\"x\"][i]\n",
    "    \n",
    "        output_tensor = m(input_tensor).detach().numpy()\n",
    "        output_tensor = np.log10(output_tensor)\n",
    "    \n",
    "        out_arr[t, y-7:y+1, x-7:x+1] += output_tensor[0, ...]\n",
    "        out_n[t, y-7:y+1, x-7:x+1] += 1"
   ]
  },
  {
   "cell_type": "code",
   "execution_count": 33,
   "id": "1394a610-5011-4fb3-9672-c6b3c42b111d",
   "metadata": {},
   "outputs": [
    {
     "name": "stderr",
     "output_type": "stream",
     "text": [
      "/tmp/ipykernel_1617/2143291068.py:1: RuntimeWarning: invalid value encountered in divide\n",
      "  out_avg = out_arr / out_n\n"
     ]
    }
   ],
   "source": [
    "out_avg = out_arr / out_n\n",
    "out_arr[out_n == 0] = np.nan\n",
    "out_pct = 10 ** out_avg\n",
    "\n",
    "out_da = xr.DataArray(\n",
    "    data=out_pct,\n",
    "    dims=[\"time\", \"y\", \"x\"],\n",
    "    coords=dict(\n",
    "        time=ds_infer.time,\n",
    "        y=ds_infer.y,\n",
    "        x=ds_infer.x\n",
    "    )\n",
    ")"
   ]
  },
  {
   "cell_type": "code",
   "execution_count": 34,
   "id": "3353862f-5f3f-4d0c-ac81-47de38b3af01",
   "metadata": {},
   "outputs": [
    {
     "data": {
      "image/png": "[encoded data removed]",
      "text/plain": [
       "<Figure size 1100x550 with 5 Axes>"
      ]
     },
     "execution_count": 34,
     "metadata": {},
     "output_type": "execute_result"
    }
   ],
   "source": [
    "from matplotlib.gridspec import GridSpec\n",
    "import matplotlib.patheffects as pe\n",
    "import geopandas as gpd\n",
    "from cartopy import crs as ccrs\n",
    "from cartopy import feature as cfeature\n",
    "import shapely\n",
    "from shapely.geometry import box\n",
    "\n",
    "regions = gpd.read_file(\"data_in/regions_simple2.geojson\")\n",
    "\n",
    "fig = plt.Figure(layout=\"constrained\", figsize=(11, 5.5))\n",
    "gs = GridSpec(2, 3, figure=fig, width_ratios=[2, 1, 1])\n",
    "\n",
    "projection = ccrs.AlbersEqualArea(central_latitude=42, central_longitude=-110)\n",
    "map_ax = fig.add_subplot(gs[:, 0], projection=projection)\n",
    "\n",
    "# Make the map\n",
    "map_ax.coastlines(linewidth=0.5)\n",
    "\n",
    "# Expand the bounding box a little so that we don't crop too much\n",
    "mycrs = ccrs.epsg(\"3857\")\n",
    "bbox = box(*regions.total_bounds)\n",
    "bbox = bbox.buffer(5e5) # meters\n",
    "\n",
    "minx, miny, maxx, maxy = shapely.bounds(bbox)\n",
    "\n",
    "# Add region geometries\n",
    "for i in range(regions.shape[0]):\n",
    "    geom = regions.geometry[i]\n",
    "    map_ax.add_geometries(geom, crs=mycrs)\n",
    "    map_ax.text(\n",
    "        geom.centroid.x, geom.centroid.y, regions.name[i], \n",
    "        transform=mycrs,\n",
    "        horizontalalignment=\"center\",\n",
    "        path_effects=[pe.withStroke(linewidth=4, foreground=\"white\")]\n",
    "    )\n",
    "\n",
    "map_ax.add_feature(cfeature.STATES, linestyle=':', edgecolor='black', linewidth=0.5)\n",
    "map_ax.set_extent((minx, maxx, miny, maxy), crs=mycrs)\n",
    "\n",
    "axes = []\n",
    "\n",
    "for i, (row, col) in enumerate(zip((1, 0, 1, 0), (2, 1, 1, 2))):\n",
    "    ax = fig.add_subplot(gs[row, col])\n",
    "    axes.append(ax)\n",
    "    geom = regions.geometry[i]\n",
    "    model = out_da.rio.write_crs(3857).rio.clip([geom]).mean(dim=[\"x\", \"y\"], skipna=True).values * 100\n",
    "    data  = ds_infer.sel(band=\"mort_ewma\").rio.write_crs(3857).rio.clip([geom]).mean(dim=[\"x\", \"y\"], skipna=True).values\n",
    "\n",
    "    ax.plot(ds_infer.time, data, label=\"Actual\", marker=\".\")\n",
    "    ax.plot(ds_infer.time, model, label=\"Model\", marker=\".\")\n",
    "    ax.set_ylim(0, 11)\n",
    "    ax.set_title(regions.name[i])\n",
    "    ax.grid()\n",
    "\n",
    "axes[1].legend()\n",
    "\n",
    "fig"
   ]
  }
 ],
 "metadata": {
  "kernelspec": {
   "display_name": "Python 3 (ipykernel)",
   "language": "python",
   "name": "python3"
  },
  "language_info": {
   "codemirror_mode": {
    "name": "ipython",
    "version": 3
   },
   "file_extension": ".py",
   "mimetype": "text/x-python",
   "name": "python",
   "nbconvert_exporter": "python",
   "pygments_lexer": "ipython3",
   "version": "3.12.8"
  }
 },
 "nbformat": 4,
 "nbformat_minor": 5
}
