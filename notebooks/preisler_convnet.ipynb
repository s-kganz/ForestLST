{
 "cells": [
  {
   "cell_type": "code",
   "execution_count": 22,
   "id": "821cfc81-26f3-4986-b505-ac71c4c8504e",
   "metadata": {},
   "outputs": [],
   "source": [
    "%%capture\n",
    "!pip install xbatcher tensorboard imbalanced-learn"
   ]
  },
  {
   "cell_type": "code",
   "execution_count": 23,
   "id": "18b87975-11c4-48a4-a241-bbb81d39361b",
   "metadata": {},
   "outputs": [
    {
     "name": "stdout",
     "output_type": "stream",
     "text": [
      "Using device: cuda\n",
      "\n",
      "Tesla T4\n",
      "Memory Usage:\n",
      "Allocated: 0.0 GB\n",
      "Cached:    0.1 GB\n"
     ]
    }
   ],
   "source": [
    "import os\n",
    "if 'notebooks' in os.getcwd():\n",
    "    os.chdir(\"..\")\n",
    "\n",
    "import util\n",
    "import torch\n",
    "import xarray as xr\n",
    "import numpy as np\n",
    "import matplotlib.pyplot as plt\n",
    "from importlib import reload\n",
    "\n",
    "# If we have gpu available, use it\n",
    "device = torch.device('cuda' if torch.cuda.is_available() else 'cpu')\n",
    "print('Using device:', device)\n",
    "print()\n",
    "torch.set_default_device(device)\n",
    "\n",
    "#Additional Info when using cuda\n",
    "if device.type == 'cuda':\n",
    "    print(torch.cuda.get_device_name(0))\n",
    "    print('Memory Usage:')\n",
    "    print('Allocated:', round(torch.cuda.memory_allocated(0)/1024**3,1), 'GB')\n",
    "    print('Cached:   ', round(torch.cuda.memory_reserved(0)/1024**3,1), 'GB')"
   ]
  },
  {
   "cell_type": "markdown",
   "id": "d83cb7ab-19ef-459d-95c6-53756a192414",
   "metadata": {},
   "source": [
    "Prepare data"
   ]
  },
  {
   "cell_type": "code",
   "execution_count": 24,
   "id": "deaecc90-a2aa-439a-bcd7-64089027c664",
   "metadata": {},
   "outputs": [],
   "source": [
    "ds = xr.open_dataset(\"data_working/westmort.nc\")\\\n",
    "    .squeeze(drop=True)\\\n",
    "    .drop_vars(\"spatial_ref\")"
   ]
  },
  {
   "cell_type": "code",
   "execution_count": 25,
   "id": "3a4942f6-503f-4852-af61-2c795134630a",
   "metadata": {},
   "outputs": [],
   "source": [
    "# Use EWMA to smooth mortality observations\n",
    "ds[\"mort_ewma\"] = xr.apply_ufunc(\n",
    "    util.manip.numpy_ewma_vectorized,\n",
    "    ds.mortality,\n",
    "    input_core_dims=[[\"time\"]],\n",
    "    output_core_dims=[[\"time\"]],\n",
    "    vectorize=True,\n",
    "    kwargs=dict(window=3)\n",
    ")"
   ]
  },
  {
   "cell_type": "code",
   "execution_count": 26,
   "id": "feaef501-fc24-46dd-adbc-9980968c4035",
   "metadata": {},
   "outputs": [],
   "source": [
    "# Calculate total basal area based on all the genus rasters\n",
    "ba_vars = [\"abies\", \"picea\", \"populus\", \"tsuga\", \"pseudotsuga\"]\n",
    "ds[\"forest_ba\"] = ds[ba_vars].to_stacked_array(\"band\", sample_dims=[\"x\", \"y\", \"time\"]).sum(dim=\"band\")"
   ]
  },
  {
   "cell_type": "code",
   "execution_count": 27,
   "id": "39008809-12c1-45f9-a8d2-058214e2d8f2",
   "metadata": {},
   "outputs": [
    {
     "data": {
      "text/html": [
       "<div><svg style=\"position: absolute; width: 0; height: 0; overflow: hidden\">\n",
       "<defs>\n",
       "<symbol id=\"icon-database\" viewBox=\"0 0 32 32\">\n",
       "<path d=\"M16 0c-8.837 0-16 2.239-16 5v4c0 2.761 7.163 5 16 5s16-2.239 16-5v-4c0-2.761-7.163-5-16-5z\"></path>\n",
       "<path d=\"M16 17c-8.837 0-16-2.239-16-5v6c0 2.761 7.163 5 16 5s16-2.239 16-5v-6c0 2.761-7.163 5-16 5z\"></path>\n",
       "<path d=\"M16 26c-8.837 0-16-2.239-16-5v6c0 2.761 7.163 5 16 5s16-2.239 16-5v-6c0 2.761-7.163 5-16 5z\"></path>\n",
       "</symbol>\n",
       "<symbol id=\"icon-file-text2\" viewBox=\"0 0 32 32\">\n",
       "<path d=\"M28.681 7.159c-0.694-0.947-1.662-2.053-2.724-3.116s-2.169-2.030-3.116-2.724c-1.612-1.182-2.393-1.319-2.841-1.319h-15.5c-1.378 0-2.5 1.121-2.5 2.5v27c0 1.378 1.122 2.5 2.5 2.5h23c1.378 0 2.5-1.122 2.5-2.5v-19.5c0-0.448-0.137-1.23-1.319-2.841zM24.543 5.457c0.959 0.959 1.712 1.825 2.268 2.543h-4.811v-4.811c0.718 0.556 1.584 1.309 2.543 2.268zM28 29.5c0 0.271-0.229 0.5-0.5 0.5h-23c-0.271 0-0.5-0.229-0.5-0.5v-27c0-0.271 0.229-0.5 0.5-0.5 0 0 15.499-0 15.5 0v7c0 0.552 0.448 1 1 1h7v19.5z\"></path>\n",
       "<path d=\"M23 26h-14c-0.552 0-1-0.448-1-1s0.448-1 1-1h14c0.552 0 1 0.448 1 1s-0.448 1-1 1z\"></path>\n",
       "<path d=\"M23 22h-14c-0.552 0-1-0.448-1-1s0.448-1 1-1h14c0.552 0 1 0.448 1 1s-0.448 1-1 1z\"></path>\n",
       "<path d=\"M23 18h-14c-0.552 0-1-0.448-1-1s0.448-1 1-1h14c0.552 0 1 0.448 1 1s-0.448 1-1 1z\"></path>\n",
       "</symbol>\n",
       "</defs>\n",
       "</svg>\n",
       "<style>/* CSS stylesheet for displaying xarray objects in jupyterlab.\n",
       " *\n",
       " */\n",
       "\n",
       ":root {\n",
       "  --xr-font-color0: var(--jp-content-font-color0, rgba(0, 0, 0, 1));\n",
       "  --xr-font-color2: var(--jp-content-font-color2, rgba(0, 0, 0, 0.54));\n",
       "  --xr-font-color3: var(--jp-content-font-color3, rgba(0, 0, 0, 0.38));\n",
       "  --xr-border-color: var(--jp-border-color2, #e0e0e0);\n",
       "  --xr-disabled-color: var(--jp-layout-color3, #bdbdbd);\n",
       "  --xr-background-color: var(--jp-layout-color0, white);\n",
       "  --xr-background-color-row-even: var(--jp-layout-color1, white);\n",
       "  --xr-background-color-row-odd: var(--jp-layout-color2, #eeeeee);\n",
       "}\n",
       "\n",
       "html[theme=\"dark\"],\n",
       "html[data-theme=\"dark\"],\n",
       "body[data-theme=\"dark\"],\n",
       "body.vscode-dark {\n",
       "  --xr-font-color0: rgba(255, 255, 255, 1);\n",
       "  --xr-font-color2: rgba(255, 255, 255, 0.54);\n",
       "  --xr-font-color3: rgba(255, 255, 255, 0.38);\n",
       "  --xr-border-color: #1f1f1f;\n",
       "  --xr-disabled-color: #515151;\n",
       "  --xr-background-color: #111111;\n",
       "  --xr-background-color-row-even: #111111;\n",
       "  --xr-background-color-row-odd: #313131;\n",
       "}\n",
       "\n",
       ".xr-wrap {\n",
       "  display: block !important;\n",
       "  min-width: 300px;\n",
       "  max-width: 700px;\n",
       "}\n",
       "\n",
       ".xr-text-repr-fallback {\n",
       "  /* fallback to plain text repr when CSS is not injected (untrusted notebook) */\n",
       "  display: none;\n",
       "}\n",
       "\n",
       ".xr-header {\n",
       "  padding-top: 6px;\n",
       "  padding-bottom: 6px;\n",
       "  margin-bottom: 4px;\n",
       "  border-bottom: solid 1px var(--xr-border-color);\n",
       "}\n",
       "\n",
       ".xr-header > div,\n",
       ".xr-header > ul {\n",
       "  display: inline;\n",
       "  margin-top: 0;\n",
       "  margin-bottom: 0;\n",
       "}\n",
       "\n",
       ".xr-obj-type,\n",
       ".xr-array-name {\n",
       "  margin-left: 2px;\n",
       "  margin-right: 10px;\n",
       "}\n",
       "\n",
       ".xr-obj-type {\n",
       "  color: var(--xr-font-color2);\n",
       "}\n",
       "\n",
       ".xr-sections {\n",
       "  padding-left: 0 !important;\n",
       "  display: grid;\n",
       "  grid-template-columns: 150px auto auto 1fr 0 20px 0 20px;\n",
       "}\n",
       "\n",
       ".xr-section-item {\n",
       "  display: contents;\n",
       "}\n",
       "\n",
       ".xr-section-item input {\n",
       "  display: inline-block;\n",
       "  opacity: 0;\n",
       "  height: 0;\n",
       "}\n",
       "\n",
       ".xr-section-item input + label {\n",
       "  color: var(--xr-disabled-color);\n",
       "}\n",
       "\n",
       ".xr-section-item input:enabled + label {\n",
       "  cursor: pointer;\n",
       "  color: var(--xr-font-color2);\n",
       "}\n",
       "\n",
       ".xr-section-item input:focus + label {\n",
       "  border: 2px solid var(--xr-font-color0);\n",
       "}\n",
       "\n",
       ".xr-section-item input:enabled + label:hover {\n",
       "  color: var(--xr-font-color0);\n",
       "}\n",
       "\n",
       ".xr-section-summary {\n",
       "  grid-column: 1;\n",
       "  color: var(--xr-font-color2);\n",
       "  font-weight: 500;\n",
       "}\n",
       "\n",
       ".xr-section-summary > span {\n",
       "  display: inline-block;\n",
       "  padding-left: 0.5em;\n",
       "}\n",
       "\n",
       ".xr-section-summary-in:disabled + label {\n",
       "  color: var(--xr-font-color2);\n",
       "}\n",
       "\n",
       ".xr-section-summary-in + label:before {\n",
       "  display: inline-block;\n",
       "  content: \"►\";\n",
       "  font-size: 11px;\n",
       "  width: 15px;\n",
       "  text-align: center;\n",
       "}\n",
       "\n",
       ".xr-section-summary-in:disabled + label:before {\n",
       "  color: var(--xr-disabled-color);\n",
       "}\n",
       "\n",
       ".xr-section-summary-in:checked + label:before {\n",
       "  content: \"▼\";\n",
       "}\n",
       "\n",
       ".xr-section-summary-in:checked + label > span {\n",
       "  display: none;\n",
       "}\n",
       "\n",
       ".xr-section-summary,\n",
       ".xr-section-inline-details {\n",
       "  padding-top: 4px;\n",
       "  padding-bottom: 4px;\n",
       "}\n",
       "\n",
       ".xr-section-inline-details {\n",
       "  grid-column: 2 / -1;\n",
       "}\n",
       "\n",
       ".xr-section-details {\n",
       "  display: none;\n",
       "  grid-column: 1 / -1;\n",
       "  margin-bottom: 5px;\n",
       "}\n",
       "\n",
       ".xr-section-summary-in:checked ~ .xr-section-details {\n",
       "  display: contents;\n",
       "}\n",
       "\n",
       ".xr-array-wrap {\n",
       "  grid-column: 1 / -1;\n",
       "  display: grid;\n",
       "  grid-template-columns: 20px auto;\n",
       "}\n",
       "\n",
       ".xr-array-wrap > label {\n",
       "  grid-column: 1;\n",
       "  vertical-align: top;\n",
       "}\n",
       "\n",
       ".xr-preview {\n",
       "  color: var(--xr-font-color3);\n",
       "}\n",
       "\n",
       ".xr-array-preview,\n",
       ".xr-array-data {\n",
       "  padding: 0 5px !important;\n",
       "  grid-column: 2;\n",
       "}\n",
       "\n",
       ".xr-array-data,\n",
       ".xr-array-in:checked ~ .xr-array-preview {\n",
       "  display: none;\n",
       "}\n",
       "\n",
       ".xr-array-in:checked ~ .xr-array-data,\n",
       ".xr-array-preview {\n",
       "  display: inline-block;\n",
       "}\n",
       "\n",
       ".xr-dim-list {\n",
       "  display: inline-block !important;\n",
       "  list-style: none;\n",
       "  padding: 0 !important;\n",
       "  margin: 0;\n",
       "}\n",
       "\n",
       ".xr-dim-list li {\n",
       "  display: inline-block;\n",
       "  padding: 0;\n",
       "  margin: 0;\n",
       "}\n",
       "\n",
       ".xr-dim-list:before {\n",
       "  content: \"(\";\n",
       "}\n",
       "\n",
       ".xr-dim-list:after {\n",
       "  content: \")\";\n",
       "}\n",
       "\n",
       ".xr-dim-list li:not(:last-child):after {\n",
       "  content: \",\";\n",
       "  padding-right: 5px;\n",
       "}\n",
       "\n",
       ".xr-has-index {\n",
       "  font-weight: bold;\n",
       "}\n",
       "\n",
       ".xr-var-list,\n",
       ".xr-var-item {\n",
       "  display: contents;\n",
       "}\n",
       "\n",
       ".xr-var-item > div,\n",
       ".xr-var-item label,\n",
       ".xr-var-item > .xr-var-name span {\n",
       "  background-color: var(--xr-background-color-row-even);\n",
       "  margin-bottom: 0;\n",
       "}\n",
       "\n",
       ".xr-var-item > .xr-var-name:hover span {\n",
       "  padding-right: 5px;\n",
       "}\n",
       "\n",
       ".xr-var-list > li:nth-child(odd) > div,\n",
       ".xr-var-list > li:nth-child(odd) > label,\n",
       ".xr-var-list > li:nth-child(odd) > .xr-var-name span {\n",
       "  background-color: var(--xr-background-color-row-odd);\n",
       "}\n",
       "\n",
       ".xr-var-name {\n",
       "  grid-column: 1;\n",
       "}\n",
       "\n",
       ".xr-var-dims {\n",
       "  grid-column: 2;\n",
       "}\n",
       "\n",
       ".xr-var-dtype {\n",
       "  grid-column: 3;\n",
       "  text-align: right;\n",
       "  color: var(--xr-font-color2);\n",
       "}\n",
       "\n",
       ".xr-var-preview {\n",
       "  grid-column: 4;\n",
       "}\n",
       "\n",
       ".xr-index-preview {\n",
       "  grid-column: 2 / 5;\n",
       "  color: var(--xr-font-color2);\n",
       "}\n",
       "\n",
       ".xr-var-name,\n",
       ".xr-var-dims,\n",
       ".xr-var-dtype,\n",
       ".xr-preview,\n",
       ".xr-attrs dt {\n",
       "  white-space: nowrap;\n",
       "  overflow: hidden;\n",
       "  text-overflow: ellipsis;\n",
       "  padding-right: 10px;\n",
       "}\n",
       "\n",
       ".xr-var-name:hover,\n",
       ".xr-var-dims:hover,\n",
       ".xr-var-dtype:hover,\n",
       ".xr-attrs dt:hover {\n",
       "  overflow: visible;\n",
       "  width: auto;\n",
       "  z-index: 1;\n",
       "}\n",
       "\n",
       ".xr-var-attrs,\n",
       ".xr-var-data,\n",
       ".xr-index-data {\n",
       "  display: none;\n",
       "  background-color: var(--xr-background-color) !important;\n",
       "  padding-bottom: 5px !important;\n",
       "}\n",
       "\n",
       ".xr-var-attrs-in:checked ~ .xr-var-attrs,\n",
       ".xr-var-data-in:checked ~ .xr-var-data,\n",
       ".xr-index-data-in:checked ~ .xr-index-data {\n",
       "  display: block;\n",
       "}\n",
       "\n",
       ".xr-var-data > table {\n",
       "  float: right;\n",
       "}\n",
       "\n",
       ".xr-var-name span,\n",
       ".xr-var-data,\n",
       ".xr-index-name div,\n",
       ".xr-index-data,\n",
       ".xr-attrs {\n",
       "  padding-left: 25px !important;\n",
       "}\n",
       "\n",
       ".xr-attrs,\n",
       ".xr-var-attrs,\n",
       ".xr-var-data,\n",
       ".xr-index-data {\n",
       "  grid-column: 1 / -1;\n",
       "}\n",
       "\n",
       "dl.xr-attrs {\n",
       "  padding: 0;\n",
       "  margin: 0;\n",
       "  display: grid;\n",
       "  grid-template-columns: 125px auto;\n",
       "}\n",
       "\n",
       ".xr-attrs dt,\n",
       ".xr-attrs dd {\n",
       "  padding: 0;\n",
       "  margin: 0;\n",
       "  float: left;\n",
       "  padding-right: 10px;\n",
       "  width: auto;\n",
       "}\n",
       "\n",
       ".xr-attrs dt {\n",
       "  font-weight: normal;\n",
       "  grid-column: 1;\n",
       "}\n",
       "\n",
       ".xr-attrs dt:hover span {\n",
       "  display: inline-block;\n",
       "  background: var(--xr-background-color);\n",
       "  padding-right: 10px;\n",
       "}\n",
       "\n",
       ".xr-attrs dd {\n",
       "  grid-column: 2;\n",
       "  white-space: pre-wrap;\n",
       "  word-break: break-all;\n",
       "}\n",
       "\n",
       ".xr-icon-database,\n",
       ".xr-icon-file-text2,\n",
       ".xr-no-icon {\n",
       "  display: inline-block;\n",
       "  vertical-align: middle;\n",
       "  width: 1em;\n",
       "  height: 1.5em !important;\n",
       "  stroke-width: 0;\n",
       "  stroke: currentColor;\n",
       "  fill: currentColor;\n",
       "}\n",
       "</style><pre class='xr-text-repr-fallback'>&lt;xarray.DataArray &#x27;abies&#x27; (time: 27, band: 18, y: 652, x: 590)&gt; Size: 748MB\n",
       "array([[[[nan, nan, nan, ..., nan, nan, nan],\n",
       "         [nan, nan, nan, ..., nan, nan, nan],\n",
       "         [nan, nan, nan, ..., nan, nan, nan],\n",
       "         ...,\n",
       "         [nan, nan, nan, ..., nan, nan, nan],\n",
       "         [nan, nan, nan, ..., nan, nan, nan],\n",
       "         [nan, nan, nan, ..., nan, nan, nan]],\n",
       "\n",
       "        [[nan, nan, nan, ..., nan, nan, nan],\n",
       "         [nan, nan, nan, ..., nan, nan, nan],\n",
       "         [nan, nan, nan, ..., nan, nan, nan],\n",
       "         ...,\n",
       "         [nan, nan, nan, ..., nan, nan, nan],\n",
       "         [nan, nan, nan, ..., nan, nan, nan],\n",
       "         [nan, nan, nan, ..., nan, nan, nan]],\n",
       "\n",
       "        [[nan, nan, nan, ..., nan, nan, nan],\n",
       "         [nan, nan, nan, ..., nan, nan, nan],\n",
       "         [nan, nan, nan, ..., nan, nan, nan],\n",
       "         ...,\n",
       "...\n",
       "         ...,\n",
       "         [nan, nan, nan, ...,  1.,  1.,  1.],\n",
       "         [nan, nan, nan, ...,  1.,  1.,  1.],\n",
       "         [nan, nan, nan, ...,  1.,  1.,  1.]],\n",
       "\n",
       "        [[nan, nan, nan, ..., nan, nan, nan],\n",
       "         [nan, nan, nan, ..., nan, nan, nan],\n",
       "         [nan, nan, nan, ..., nan, nan, nan],\n",
       "         ...,\n",
       "         [nan, nan, nan, ..., nan, nan, nan],\n",
       "         [nan, nan, nan, ..., nan, nan, nan],\n",
       "         [nan, nan, nan, ..., nan, nan, nan]],\n",
       "\n",
       "        [[ 0.,  0.,  0., ...,  0.,  0.,  0.],\n",
       "         [ 0.,  0.,  0., ...,  0.,  0.,  0.],\n",
       "         [ 0.,  0.,  0., ...,  0.,  0.,  0.],\n",
       "         ...,\n",
       "         [ 0.,  0.,  0., ...,  0.,  0.,  0.],\n",
       "         [ 0.,  0.,  0., ...,  0.,  0.,  0.],\n",
       "         [ 0.,  0.,  0., ...,  0.,  0.,  0.]]]], dtype=float32)\n",
       "Coordinates:\n",
       "  * time      (time) int64 216B 1997 1998 1999 2000 2001 ... 2020 2021 2022 2023\n",
       "  * x         (x) float64 5kB -1.389e+07 -1.389e+07 ... -1.154e+07 -1.154e+07\n",
       "  * y         (y) float64 5kB 6.278e+06 6.274e+06 ... 3.678e+06 3.674e+06\n",
       "  * band      (band) object 144B MultiIndex\n",
       "  * variable  (band) &lt;U11 792B &#x27;abies&#x27; &#x27;picea&#x27; ... &#x27;mort_ewma&#x27; &#x27;forest_ba&#x27;</pre><div class='xr-wrap' style='display:none'><div class='xr-header'><div class='xr-obj-type'>xarray.DataArray</div><div class='xr-array-name'>'abies'</div><ul class='xr-dim-list'><li><span class='xr-has-index'>time</span>: 27</li><li><span class='xr-has-index'>band</span>: 18</li><li><span class='xr-has-index'>y</span>: 652</li><li><span class='xr-has-index'>x</span>: 590</li></ul></div><ul class='xr-sections'><li class='xr-section-item'><div class='xr-array-wrap'><input id='section-90381b9c-de26-4fe4-829c-4f536e07727d' class='xr-array-in' type='checkbox' checked><label for='section-90381b9c-de26-4fe4-829c-4f536e07727d' title='Show/hide data repr'><svg class='icon xr-icon-database'><use xlink:href='#icon-database'></use></svg></label><div class='xr-array-preview xr-preview'><span>nan nan nan nan nan nan nan nan ... 0.0 0.0 0.0 0.0 0.0 0.0 0.0 0.0</span></div><div class='xr-array-data'><pre>array([[[[nan, nan, nan, ..., nan, nan, nan],\n",
       "         [nan, nan, nan, ..., nan, nan, nan],\n",
       "         [nan, nan, nan, ..., nan, nan, nan],\n",
       "         ...,\n",
       "         [nan, nan, nan, ..., nan, nan, nan],\n",
       "         [nan, nan, nan, ..., nan, nan, nan],\n",
       "         [nan, nan, nan, ..., nan, nan, nan]],\n",
       "\n",
       "        [[nan, nan, nan, ..., nan, nan, nan],\n",
       "         [nan, nan, nan, ..., nan, nan, nan],\n",
       "         [nan, nan, nan, ..., nan, nan, nan],\n",
       "         ...,\n",
       "         [nan, nan, nan, ..., nan, nan, nan],\n",
       "         [nan, nan, nan, ..., nan, nan, nan],\n",
       "         [nan, nan, nan, ..., nan, nan, nan]],\n",
       "\n",
       "        [[nan, nan, nan, ..., nan, nan, nan],\n",
       "         [nan, nan, nan, ..., nan, nan, nan],\n",
       "         [nan, nan, nan, ..., nan, nan, nan],\n",
       "         ...,\n",
       "...\n",
       "         ...,\n",
       "         [nan, nan, nan, ...,  1.,  1.,  1.],\n",
       "         [nan, nan, nan, ...,  1.,  1.,  1.],\n",
       "         [nan, nan, nan, ...,  1.,  1.,  1.]],\n",
       "\n",
       "        [[nan, nan, nan, ..., nan, nan, nan],\n",
       "         [nan, nan, nan, ..., nan, nan, nan],\n",
       "         [nan, nan, nan, ..., nan, nan, nan],\n",
       "         ...,\n",
       "         [nan, nan, nan, ..., nan, nan, nan],\n",
       "         [nan, nan, nan, ..., nan, nan, nan],\n",
       "         [nan, nan, nan, ..., nan, nan, nan]],\n",
       "\n",
       "        [[ 0.,  0.,  0., ...,  0.,  0.,  0.],\n",
       "         [ 0.,  0.,  0., ...,  0.,  0.,  0.],\n",
       "         [ 0.,  0.,  0., ...,  0.,  0.,  0.],\n",
       "         ...,\n",
       "         [ 0.,  0.,  0., ...,  0.,  0.,  0.],\n",
       "         [ 0.,  0.,  0., ...,  0.,  0.,  0.],\n",
       "         [ 0.,  0.,  0., ...,  0.,  0.,  0.]]]], dtype=float32)</pre></div></div></li><li class='xr-section-item'><input id='section-c8ac2ef7-4665-4026-8b0c-8dfb4321f050' class='xr-section-summary-in' type='checkbox'  checked><label for='section-c8ac2ef7-4665-4026-8b0c-8dfb4321f050' class='xr-section-summary' >Coordinates: <span>(5)</span></label><div class='xr-section-inline-details'></div><div class='xr-section-details'><ul class='xr-var-list'><li class='xr-var-item'><div class='xr-var-name'><span class='xr-has-index'>time</span></div><div class='xr-var-dims'>(time)</div><div class='xr-var-dtype'>int64</div><div class='xr-var-preview xr-preview'>1997 1998 1999 ... 2021 2022 2023</div><input id='attrs-c5a96308-aa3b-45fd-9883-429b013e9645' class='xr-var-attrs-in' type='checkbox' disabled><label for='attrs-c5a96308-aa3b-45fd-9883-429b013e9645' title='Show/Hide attributes'><svg class='icon xr-icon-file-text2'><use xlink:href='#icon-file-text2'></use></svg></label><input id='data-252e495a-a4ea-4373-8e4d-3b5381a0db77' class='xr-var-data-in' type='checkbox'><label for='data-252e495a-a4ea-4373-8e4d-3b5381a0db77' title='Show/Hide data repr'><svg class='icon xr-icon-database'><use xlink:href='#icon-database'></use></svg></label><div class='xr-var-attrs'><dl class='xr-attrs'></dl></div><div class='xr-var-data'><pre>array([1997, 1998, 1999, 2000, 2001, 2002, 2003, 2004, 2005, 2006, 2007, 2008,\n",
       "       2009, 2010, 2011, 2012, 2013, 2014, 2015, 2016, 2017, 2018, 2019, 2020,\n",
       "       2021, 2022, 2023])</pre></div></li><li class='xr-var-item'><div class='xr-var-name'><span class='xr-has-index'>x</span></div><div class='xr-var-dims'>(x)</div><div class='xr-var-dtype'>float64</div><div class='xr-var-preview xr-preview'>-1.389e+07 ... -1.154e+07</div><input id='attrs-78204fc8-79e7-487b-844f-261ecce62bd5' class='xr-var-attrs-in' type='checkbox' disabled><label for='attrs-78204fc8-79e7-487b-844f-261ecce62bd5' title='Show/Hide attributes'><svg class='icon xr-icon-file-text2'><use xlink:href='#icon-file-text2'></use></svg></label><input id='data-102bfe59-68e9-416a-a568-18c75a276c96' class='xr-var-data-in' type='checkbox'><label for='data-102bfe59-68e9-416a-a568-18c75a276c96' title='Show/Hide data repr'><svg class='icon xr-icon-database'><use xlink:href='#icon-database'></use></svg></label><div class='xr-var-attrs'><dl class='xr-attrs'></dl></div><div class='xr-var-data'><pre>array([-13894215.609, -13890215.609, -13886215.609, ..., -11546215.609,\n",
       "       -11542215.609, -11538215.609])</pre></div></li><li class='xr-var-item'><div class='xr-var-name'><span class='xr-has-index'>y</span></div><div class='xr-var-dims'>(y)</div><div class='xr-var-dtype'>float64</div><div class='xr-var-preview xr-preview'>6.278e+06 6.274e+06 ... 3.674e+06</div><input id='attrs-e0a0bc16-974c-419f-ad94-df9611ceb928' class='xr-var-attrs-in' type='checkbox' disabled><label for='attrs-e0a0bc16-974c-419f-ad94-df9611ceb928' title='Show/Hide attributes'><svg class='icon xr-icon-file-text2'><use xlink:href='#icon-file-text2'></use></svg></label><input id='data-18c020cd-c62f-4f1b-94a4-6e2666354697' class='xr-var-data-in' type='checkbox'><label for='data-18c020cd-c62f-4f1b-94a4-6e2666354697' title='Show/Hide data repr'><svg class='icon xr-icon-database'><use xlink:href='#icon-database'></use></svg></label><div class='xr-var-attrs'><dl class='xr-attrs'></dl></div><div class='xr-var-data'><pre>array([6278302.419, 6274302.419, 6270302.419, ..., 3682302.419, 3678302.419,\n",
       "       3674302.419])</pre></div></li><li class='xr-var-item'><div class='xr-var-name'><span class='xr-has-index'>band</span></div><div class='xr-var-dims'>(band)</div><div class='xr-var-dtype'>object</div><div class='xr-var-preview xr-preview'>MultiIndex</div><input id='attrs-335196ad-ca3e-4439-91f7-69685b91310a' class='xr-var-attrs-in' type='checkbox' disabled><label for='attrs-335196ad-ca3e-4439-91f7-69685b91310a' title='Show/Hide attributes'><svg class='icon xr-icon-file-text2'><use xlink:href='#icon-file-text2'></use></svg></label><input id='data-8b1fb64c-5b35-4520-96b5-6b9bdfeb0e4c' class='xr-var-data-in' type='checkbox'><label for='data-8b1fb64c-5b35-4520-96b5-6b9bdfeb0e4c' title='Show/Hide data repr'><svg class='icon xr-icon-database'><use xlink:href='#icon-database'></use></svg></label><div class='xr-var-attrs'><dl class='xr-attrs'></dl></div><div class='xr-var-data'><pre>array([(&#x27;abies&#x27;,), (&#x27;picea&#x27;,), (&#x27;populus&#x27;,), (&#x27;pseudotsuga&#x27;,), (&#x27;tsuga&#x27;,),\n",
       "       (&#x27;vod&#x27;,), (&#x27;elev&#x27;,), (&#x27;slope&#x27;,), (&#x27;northness&#x27;,), (&#x27;eastness&#x27;,),\n",
       "       (&#x27;fire&#x27;,), (&#x27;mortality&#x27;,), (&#x27;prcp&#x27;,), (&#x27;vp&#x27;,), (&#x27;tmin&#x27;,),\n",
       "       (&#x27;treecover&#x27;,), (&#x27;mort_ewma&#x27;,), (&#x27;forest_ba&#x27;,)], dtype=object)</pre></div></li><li class='xr-var-item'><div class='xr-var-name'><span class='xr-has-index'>variable</span></div><div class='xr-var-dims'>(band)</div><div class='xr-var-dtype'>&lt;U11</div><div class='xr-var-preview xr-preview'>&#x27;abies&#x27; &#x27;picea&#x27; ... &#x27;forest_ba&#x27;</div><input id='attrs-e6bb84c3-4aac-4c69-9de4-a47e1b8d6aa9' class='xr-var-attrs-in' type='checkbox' disabled><label for='attrs-e6bb84c3-4aac-4c69-9de4-a47e1b8d6aa9' title='Show/Hide attributes'><svg class='icon xr-icon-file-text2'><use xlink:href='#icon-file-text2'></use></svg></label><input id='data-a49996cc-6f52-450f-96f4-9f7503e76fb3' class='xr-var-data-in' type='checkbox'><label for='data-a49996cc-6f52-450f-96f4-9f7503e76fb3' title='Show/Hide data repr'><svg class='icon xr-icon-database'><use xlink:href='#icon-database'></use></svg></label><div class='xr-var-attrs'><dl class='xr-attrs'></dl></div><div class='xr-var-data'><pre>array([&#x27;abies&#x27;, &#x27;picea&#x27;, &#x27;populus&#x27;, &#x27;pseudotsuga&#x27;, &#x27;tsuga&#x27;, &#x27;vod&#x27;, &#x27;elev&#x27;,\n",
       "       &#x27;slope&#x27;, &#x27;northness&#x27;, &#x27;eastness&#x27;, &#x27;fire&#x27;, &#x27;mortality&#x27;, &#x27;prcp&#x27;, &#x27;vp&#x27;,\n",
       "       &#x27;tmin&#x27;, &#x27;treecover&#x27;, &#x27;mort_ewma&#x27;, &#x27;forest_ba&#x27;], dtype=&#x27;&lt;U11&#x27;)</pre></div></li></ul></div></li><li class='xr-section-item'><input id='section-b04c2c4d-47c2-4276-8d03-642ec7d21827' class='xr-section-summary-in' type='checkbox'  ><label for='section-b04c2c4d-47c2-4276-8d03-642ec7d21827' class='xr-section-summary' >Indexes: <span>(4)</span></label><div class='xr-section-inline-details'></div><div class='xr-section-details'><ul class='xr-var-list'><li class='xr-var-item'><div class='xr-index-name'><div>time</div></div><div class='xr-index-preview'>PandasIndex</div><input type='checkbox' disabled/><label></label><input id='index-1cf63715-e669-4127-bc2b-e4bfacd63ca7' class='xr-index-data-in' type='checkbox'/><label for='index-1cf63715-e669-4127-bc2b-e4bfacd63ca7' title='Show/Hide index repr'><svg class='icon xr-icon-database'><use xlink:href='#icon-database'></use></svg></label><div class='xr-index-data'><pre>PandasIndex(Index([1997, 1998, 1999, 2000, 2001, 2002, 2003, 2004, 2005, 2006, 2007, 2008,\n",
       "       2009, 2010, 2011, 2012, 2013, 2014, 2015, 2016, 2017, 2018, 2019, 2020,\n",
       "       2021, 2022, 2023],\n",
       "      dtype=&#x27;int64&#x27;, name=&#x27;time&#x27;))</pre></div></li><li class='xr-var-item'><div class='xr-index-name'><div>x</div></div><div class='xr-index-preview'>PandasIndex</div><input type='checkbox' disabled/><label></label><input id='index-11703173-b2eb-4823-94b6-762ece9b193a' class='xr-index-data-in' type='checkbox'/><label for='index-11703173-b2eb-4823-94b6-762ece9b193a' title='Show/Hide index repr'><svg class='icon xr-icon-database'><use xlink:href='#icon-database'></use></svg></label><div class='xr-index-data'><pre>PandasIndex(Index([-13894215.609, -13890215.609, -13886215.609, -13882215.609,\n",
       "       -13878215.609, -13874215.609, -13870215.609, -13866215.609,\n",
       "       -13862215.609, -13858215.609,\n",
       "       ...\n",
       "       -11574215.609, -11570215.609, -11566215.609, -11562215.609,\n",
       "       -11558215.609, -11554215.609, -11550215.609, -11546215.609,\n",
       "       -11542215.609, -11538215.609],\n",
       "      dtype=&#x27;float64&#x27;, name=&#x27;x&#x27;, length=590))</pre></div></li><li class='xr-var-item'><div class='xr-index-name'><div>y</div></div><div class='xr-index-preview'>PandasIndex</div><input type='checkbox' disabled/><label></label><input id='index-3c36324d-f21a-4686-b4a9-b38e04abfff9' class='xr-index-data-in' type='checkbox'/><label for='index-3c36324d-f21a-4686-b4a9-b38e04abfff9' title='Show/Hide index repr'><svg class='icon xr-icon-database'><use xlink:href='#icon-database'></use></svg></label><div class='xr-index-data'><pre>PandasIndex(Index([       6278302.419,        6274302.419,        6270302.419,\n",
       "              6266302.419,        6262302.419,        6258302.419,\n",
       "              6254302.419,        6250302.419,        6246302.419,\n",
       "              6242302.419,\n",
       "       ...\n",
       "       3710302.4189999998, 3706302.4189999998, 3702302.4189999998,\n",
       "       3698302.4189999998, 3694302.4189999998, 3690302.4189999998,\n",
       "       3686302.4189999998, 3682302.4189999998, 3678302.4189999998,\n",
       "       3674302.4189999998],\n",
       "      dtype=&#x27;float64&#x27;, name=&#x27;y&#x27;, length=652))</pre></div></li><li class='xr-var-item'><div class='xr-index-name'><div>band<br>variable</div></div><div class='xr-index-preview'>PandasMultiIndex</div><input type='checkbox' disabled/><label></label><input id='index-95848290-c0c8-485e-9a75-72dd9ada5fbd' class='xr-index-data-in' type='checkbox'/><label for='index-95848290-c0c8-485e-9a75-72dd9ada5fbd' title='Show/Hide index repr'><svg class='icon xr-icon-database'><use xlink:href='#icon-database'></use></svg></label><div class='xr-index-data'><pre>PandasIndex(MultiIndex([(      &#x27;abies&#x27;,),\n",
       "            (      &#x27;picea&#x27;,),\n",
       "            (    &#x27;populus&#x27;,),\n",
       "            (&#x27;pseudotsuga&#x27;,),\n",
       "            (      &#x27;tsuga&#x27;,),\n",
       "            (        &#x27;vod&#x27;,),\n",
       "            (       &#x27;elev&#x27;,),\n",
       "            (      &#x27;slope&#x27;,),\n",
       "            (  &#x27;northness&#x27;,),\n",
       "            (   &#x27;eastness&#x27;,),\n",
       "            (       &#x27;fire&#x27;,),\n",
       "            (  &#x27;mortality&#x27;,),\n",
       "            (       &#x27;prcp&#x27;,),\n",
       "            (         &#x27;vp&#x27;,),\n",
       "            (       &#x27;tmin&#x27;,),\n",
       "            (  &#x27;treecover&#x27;,),\n",
       "            (  &#x27;mort_ewma&#x27;,),\n",
       "            (  &#x27;forest_ba&#x27;,)],\n",
       "           name=&#x27;band&#x27;))</pre></div></li></ul></div></li><li class='xr-section-item'><input id='section-e88134a4-9eac-4c66-bcbf-e4f3fb40db07' class='xr-section-summary-in' type='checkbox' disabled ><label for='section-e88134a4-9eac-4c66-bcbf-e4f3fb40db07' class='xr-section-summary'  title='Expand/collapse section'>Attributes: <span>(0)</span></label><div class='xr-section-inline-details'></div><div class='xr-section-details'><dl class='xr-attrs'></dl></div></li></ul></div></div>"
      ],
      "text/plain": [
       "<xarray.DataArray 'abies' (time: 27, band: 18, y: 652, x: 590)> Size: 748MB\n",
       "array([[[[nan, nan, nan, ..., nan, nan, nan],\n",
       "         [nan, nan, nan, ..., nan, nan, nan],\n",
       "         [nan, nan, nan, ..., nan, nan, nan],\n",
       "         ...,\n",
       "         [nan, nan, nan, ..., nan, nan, nan],\n",
       "         [nan, nan, nan, ..., nan, nan, nan],\n",
       "         [nan, nan, nan, ..., nan, nan, nan]],\n",
       "\n",
       "        [[nan, nan, nan, ..., nan, nan, nan],\n",
       "         [nan, nan, nan, ..., nan, nan, nan],\n",
       "         [nan, nan, nan, ..., nan, nan, nan],\n",
       "         ...,\n",
       "         [nan, nan, nan, ..., nan, nan, nan],\n",
       "         [nan, nan, nan, ..., nan, nan, nan],\n",
       "         [nan, nan, nan, ..., nan, nan, nan]],\n",
       "\n",
       "        [[nan, nan, nan, ..., nan, nan, nan],\n",
       "         [nan, nan, nan, ..., nan, nan, nan],\n",
       "         [nan, nan, nan, ..., nan, nan, nan],\n",
       "         ...,\n",
       "...\n",
       "         ...,\n",
       "         [nan, nan, nan, ...,  1.,  1.,  1.],\n",
       "         [nan, nan, nan, ...,  1.,  1.,  1.],\n",
       "         [nan, nan, nan, ...,  1.,  1.,  1.]],\n",
       "\n",
       "        [[nan, nan, nan, ..., nan, nan, nan],\n",
       "         [nan, nan, nan, ..., nan, nan, nan],\n",
       "         [nan, nan, nan, ..., nan, nan, nan],\n",
       "         ...,\n",
       "         [nan, nan, nan, ..., nan, nan, nan],\n",
       "         [nan, nan, nan, ..., nan, nan, nan],\n",
       "         [nan, nan, nan, ..., nan, nan, nan]],\n",
       "\n",
       "        [[ 0.,  0.,  0., ...,  0.,  0.,  0.],\n",
       "         [ 0.,  0.,  0., ...,  0.,  0.,  0.],\n",
       "         [ 0.,  0.,  0., ...,  0.,  0.,  0.],\n",
       "         ...,\n",
       "         [ 0.,  0.,  0., ...,  0.,  0.,  0.],\n",
       "         [ 0.,  0.,  0., ...,  0.,  0.,  0.],\n",
       "         [ 0.,  0.,  0., ...,  0.,  0.,  0.]]]], dtype=float32)\n",
       "Coordinates:\n",
       "  * time      (time) int64 216B 1997 1998 1999 2000 2001 ... 2020 2021 2022 2023\n",
       "  * x         (x) float64 5kB -1.389e+07 -1.389e+07 ... -1.154e+07 -1.154e+07\n",
       "  * y         (y) float64 5kB 6.278e+06 6.274e+06 ... 3.678e+06 3.674e+06\n",
       "  * band      (band) object 144B MultiIndex\n",
       "  * variable  (band) <U11 792B 'abies' 'picea' ... 'mort_ewma' 'forest_ba'"
      ]
     },
     "execution_count": 27,
     "metadata": {},
     "output_type": "execute_result"
    }
   ],
   "source": [
    "ds = ds.to_stacked_array(\"band\", sample_dims=[\"x\", \"y\", \"time\"])\\\n",
    "    .transpose(\"time\", \"band\", ...)\n",
    "ds"
   ]
  },
  {
   "cell_type": "markdown",
   "id": "c3190c01-0395-4a1e-88a6-f6b614436e4b",
   "metadata": {},
   "source": [
    "Make sure windowing works right"
   ]
  },
  {
   "cell_type": "code",
   "execution_count": 28,
   "id": "c268ea7f-6f53-41ad-b8ad-42c89bf2c1c8",
   "metadata": {},
   "outputs": [
    {
     "name": "stdout",
     "output_type": "stream",
     "text": [
      "368742\n"
     ]
    }
   ],
   "source": [
    "window = dict(x=[16, False], y=[16, False], time=[5, False])\n",
    "prop_na = 0.8\n",
    "mort_arr = ds.sel(band=\"mort_ewma\", drop=True)\n",
    "mort_ds = util.datasets.WindowXarrayDataset(ds, window, mask=mort_arr, na_thresh=prop_na)\n",
    "\n",
    "print(len(mort_ds))"
   ]
  },
  {
   "cell_type": "code",
   "execution_count": 29,
   "id": "49147ab1-b348-4c37-91cc-3818c4a4c6b4",
   "metadata": {},
   "outputs": [],
   "source": [
    "eg_window = mort_ds[10]\n",
    "window_x = eg_window.isel(time=slice(None, -1))\n",
    "window_y = eg_window.isel(time=-1).sel(band=\"mort_ewma\")"
   ]
  },
  {
   "cell_type": "code",
   "execution_count": 30,
   "id": "3efe6f9a-de84-4e53-850b-1af5825da1fa",
   "metadata": {},
   "outputs": [],
   "source": [
    "assert (1 - np.mean(np.isnan(window_y.values))) > prop_na"
   ]
  },
  {
   "cell_type": "markdown",
   "id": "f5f2e685-1244-46aa-a426-8037094812b1",
   "metadata": {},
   "source": [
    "Set up model definition"
   ]
  },
  {
   "cell_type": "code",
   "execution_count": 31,
   "id": "b70aa75d-ccef-4177-b54a-6230e94a8ba0",
   "metadata": {},
   "outputs": [
    {
     "data": {
      "text/html": [
       "<div><svg style=\"position: absolute; width: 0; height: 0; overflow: hidden\">\n",
       "<defs>\n",
       "<symbol id=\"icon-database\" viewBox=\"0 0 32 32\">\n",
       "<path d=\"M16 0c-8.837 0-16 2.239-16 5v4c0 2.761 7.163 5 16 5s16-2.239 16-5v-4c0-2.761-7.163-5-16-5z\"></path>\n",
       "<path d=\"M16 17c-8.837 0-16-2.239-16-5v6c0 2.761 7.163 5 16 5s16-2.239 16-5v-6c0 2.761-7.163 5-16 5z\"></path>\n",
       "<path d=\"M16 26c-8.837 0-16-2.239-16-5v6c0 2.761 7.163 5 16 5s16-2.239 16-5v-6c0 2.761-7.163 5-16 5z\"></path>\n",
       "</symbol>\n",
       "<symbol id=\"icon-file-text2\" viewBox=\"0 0 32 32\">\n",
       "<path d=\"M28.681 7.159c-0.694-0.947-1.662-2.053-2.724-3.116s-2.169-2.030-3.116-2.724c-1.612-1.182-2.393-1.319-2.841-1.319h-15.5c-1.378 0-2.5 1.121-2.5 2.5v27c0 1.378 1.122 2.5 2.5 2.5h23c1.378 0 2.5-1.122 2.5-2.5v-19.5c0-0.448-0.137-1.23-1.319-2.841zM24.543 5.457c0.959 0.959 1.712 1.825 2.268 2.543h-4.811v-4.811c0.718 0.556 1.584 1.309 2.543 2.268zM28 29.5c0 0.271-0.229 0.5-0.5 0.5h-23c-0.271 0-0.5-0.229-0.5-0.5v-27c0-0.271 0.229-0.5 0.5-0.5 0 0 15.499-0 15.5 0v7c0 0.552 0.448 1 1 1h7v19.5z\"></path>\n",
       "<path d=\"M23 26h-14c-0.552 0-1-0.448-1-1s0.448-1 1-1h14c0.552 0 1 0.448 1 1s-0.448 1-1 1z\"></path>\n",
       "<path d=\"M23 22h-14c-0.552 0-1-0.448-1-1s0.448-1 1-1h14c0.552 0 1 0.448 1 1s-0.448 1-1 1z\"></path>\n",
       "<path d=\"M23 18h-14c-0.552 0-1-0.448-1-1s0.448-1 1-1h14c0.552 0 1 0.448 1 1s-0.448 1-1 1z\"></path>\n",
       "</symbol>\n",
       "</defs>\n",
       "</svg>\n",
       "<style>/* CSS stylesheet for displaying xarray objects in jupyterlab.\n",
       " *\n",
       " */\n",
       "\n",
       ":root {\n",
       "  --xr-font-color0: var(--jp-content-font-color0, rgba(0, 0, 0, 1));\n",
       "  --xr-font-color2: var(--jp-content-font-color2, rgba(0, 0, 0, 0.54));\n",
       "  --xr-font-color3: var(--jp-content-font-color3, rgba(0, 0, 0, 0.38));\n",
       "  --xr-border-color: var(--jp-border-color2, #e0e0e0);\n",
       "  --xr-disabled-color: var(--jp-layout-color3, #bdbdbd);\n",
       "  --xr-background-color: var(--jp-layout-color0, white);\n",
       "  --xr-background-color-row-even: var(--jp-layout-color1, white);\n",
       "  --xr-background-color-row-odd: var(--jp-layout-color2, #eeeeee);\n",
       "}\n",
       "\n",
       "html[theme=\"dark\"],\n",
       "html[data-theme=\"dark\"],\n",
       "body[data-theme=\"dark\"],\n",
       "body.vscode-dark {\n",
       "  --xr-font-color0: rgba(255, 255, 255, 1);\n",
       "  --xr-font-color2: rgba(255, 255, 255, 0.54);\n",
       "  --xr-font-color3: rgba(255, 255, 255, 0.38);\n",
       "  --xr-border-color: #1f1f1f;\n",
       "  --xr-disabled-color: #515151;\n",
       "  --xr-background-color: #111111;\n",
       "  --xr-background-color-row-even: #111111;\n",
       "  --xr-background-color-row-odd: #313131;\n",
       "}\n",
       "\n",
       ".xr-wrap {\n",
       "  display: block !important;\n",
       "  min-width: 300px;\n",
       "  max-width: 700px;\n",
       "}\n",
       "\n",
       ".xr-text-repr-fallback {\n",
       "  /* fallback to plain text repr when CSS is not injected (untrusted notebook) */\n",
       "  display: none;\n",
       "}\n",
       "\n",
       ".xr-header {\n",
       "  padding-top: 6px;\n",
       "  padding-bottom: 6px;\n",
       "  margin-bottom: 4px;\n",
       "  border-bottom: solid 1px var(--xr-border-color);\n",
       "}\n",
       "\n",
       ".xr-header > div,\n",
       ".xr-header > ul {\n",
       "  display: inline;\n",
       "  margin-top: 0;\n",
       "  margin-bottom: 0;\n",
       "}\n",
       "\n",
       ".xr-obj-type,\n",
       ".xr-array-name {\n",
       "  margin-left: 2px;\n",
       "  margin-right: 10px;\n",
       "}\n",
       "\n",
       ".xr-obj-type {\n",
       "  color: var(--xr-font-color2);\n",
       "}\n",
       "\n",
       ".xr-sections {\n",
       "  padding-left: 0 !important;\n",
       "  display: grid;\n",
       "  grid-template-columns: 150px auto auto 1fr 0 20px 0 20px;\n",
       "}\n",
       "\n",
       ".xr-section-item {\n",
       "  display: contents;\n",
       "}\n",
       "\n",
       ".xr-section-item input {\n",
       "  display: inline-block;\n",
       "  opacity: 0;\n",
       "  height: 0;\n",
       "}\n",
       "\n",
       ".xr-section-item input + label {\n",
       "  color: var(--xr-disabled-color);\n",
       "}\n",
       "\n",
       ".xr-section-item input:enabled + label {\n",
       "  cursor: pointer;\n",
       "  color: var(--xr-font-color2);\n",
       "}\n",
       "\n",
       ".xr-section-item input:focus + label {\n",
       "  border: 2px solid var(--xr-font-color0);\n",
       "}\n",
       "\n",
       ".xr-section-item input:enabled + label:hover {\n",
       "  color: var(--xr-font-color0);\n",
       "}\n",
       "\n",
       ".xr-section-summary {\n",
       "  grid-column: 1;\n",
       "  color: var(--xr-font-color2);\n",
       "  font-weight: 500;\n",
       "}\n",
       "\n",
       ".xr-section-summary > span {\n",
       "  display: inline-block;\n",
       "  padding-left: 0.5em;\n",
       "}\n",
       "\n",
       ".xr-section-summary-in:disabled + label {\n",
       "  color: var(--xr-font-color2);\n",
       "}\n",
       "\n",
       ".xr-section-summary-in + label:before {\n",
       "  display: inline-block;\n",
       "  content: \"►\";\n",
       "  font-size: 11px;\n",
       "  width: 15px;\n",
       "  text-align: center;\n",
       "}\n",
       "\n",
       ".xr-section-summary-in:disabled + label:before {\n",
       "  color: var(--xr-disabled-color);\n",
       "}\n",
       "\n",
       ".xr-section-summary-in:checked + label:before {\n",
       "  content: \"▼\";\n",
       "}\n",
       "\n",
       ".xr-section-summary-in:checked + label > span {\n",
       "  display: none;\n",
       "}\n",
       "\n",
       ".xr-section-summary,\n",
       ".xr-section-inline-details {\n",
       "  padding-top: 4px;\n",
       "  padding-bottom: 4px;\n",
       "}\n",
       "\n",
       ".xr-section-inline-details {\n",
       "  grid-column: 2 / -1;\n",
       "}\n",
       "\n",
       ".xr-section-details {\n",
       "  display: none;\n",
       "  grid-column: 1 / -1;\n",
       "  margin-bottom: 5px;\n",
       "}\n",
       "\n",
       ".xr-section-summary-in:checked ~ .xr-section-details {\n",
       "  display: contents;\n",
       "}\n",
       "\n",
       ".xr-array-wrap {\n",
       "  grid-column: 1 / -1;\n",
       "  display: grid;\n",
       "  grid-template-columns: 20px auto;\n",
       "}\n",
       "\n",
       ".xr-array-wrap > label {\n",
       "  grid-column: 1;\n",
       "  vertical-align: top;\n",
       "}\n",
       "\n",
       ".xr-preview {\n",
       "  color: var(--xr-font-color3);\n",
       "}\n",
       "\n",
       ".xr-array-preview,\n",
       ".xr-array-data {\n",
       "  padding: 0 5px !important;\n",
       "  grid-column: 2;\n",
       "}\n",
       "\n",
       ".xr-array-data,\n",
       ".xr-array-in:checked ~ .xr-array-preview {\n",
       "  display: none;\n",
       "}\n",
       "\n",
       ".xr-array-in:checked ~ .xr-array-data,\n",
       ".xr-array-preview {\n",
       "  display: inline-block;\n",
       "}\n",
       "\n",
       ".xr-dim-list {\n",
       "  display: inline-block !important;\n",
       "  list-style: none;\n",
       "  padding: 0 !important;\n",
       "  margin: 0;\n",
       "}\n",
       "\n",
       ".xr-dim-list li {\n",
       "  display: inline-block;\n",
       "  padding: 0;\n",
       "  margin: 0;\n",
       "}\n",
       "\n",
       ".xr-dim-list:before {\n",
       "  content: \"(\";\n",
       "}\n",
       "\n",
       ".xr-dim-list:after {\n",
       "  content: \")\";\n",
       "}\n",
       "\n",
       ".xr-dim-list li:not(:last-child):after {\n",
       "  content: \",\";\n",
       "  padding-right: 5px;\n",
       "}\n",
       "\n",
       ".xr-has-index {\n",
       "  font-weight: bold;\n",
       "}\n",
       "\n",
       ".xr-var-list,\n",
       ".xr-var-item {\n",
       "  display: contents;\n",
       "}\n",
       "\n",
       ".xr-var-item > div,\n",
       ".xr-var-item label,\n",
       ".xr-var-item > .xr-var-name span {\n",
       "  background-color: var(--xr-background-color-row-even);\n",
       "  margin-bottom: 0;\n",
       "}\n",
       "\n",
       ".xr-var-item > .xr-var-name:hover span {\n",
       "  padding-right: 5px;\n",
       "}\n",
       "\n",
       ".xr-var-list > li:nth-child(odd) > div,\n",
       ".xr-var-list > li:nth-child(odd) > label,\n",
       ".xr-var-list > li:nth-child(odd) > .xr-var-name span {\n",
       "  background-color: var(--xr-background-color-row-odd);\n",
       "}\n",
       "\n",
       ".xr-var-name {\n",
       "  grid-column: 1;\n",
       "}\n",
       "\n",
       ".xr-var-dims {\n",
       "  grid-column: 2;\n",
       "}\n",
       "\n",
       ".xr-var-dtype {\n",
       "  grid-column: 3;\n",
       "  text-align: right;\n",
       "  color: var(--xr-font-color2);\n",
       "}\n",
       "\n",
       ".xr-var-preview {\n",
       "  grid-column: 4;\n",
       "}\n",
       "\n",
       ".xr-index-preview {\n",
       "  grid-column: 2 / 5;\n",
       "  color: var(--xr-font-color2);\n",
       "}\n",
       "\n",
       ".xr-var-name,\n",
       ".xr-var-dims,\n",
       ".xr-var-dtype,\n",
       ".xr-preview,\n",
       ".xr-attrs dt {\n",
       "  white-space: nowrap;\n",
       "  overflow: hidden;\n",
       "  text-overflow: ellipsis;\n",
       "  padding-right: 10px;\n",
       "}\n",
       "\n",
       ".xr-var-name:hover,\n",
       ".xr-var-dims:hover,\n",
       ".xr-var-dtype:hover,\n",
       ".xr-attrs dt:hover {\n",
       "  overflow: visible;\n",
       "  width: auto;\n",
       "  z-index: 1;\n",
       "}\n",
       "\n",
       ".xr-var-attrs,\n",
       ".xr-var-data,\n",
       ".xr-index-data {\n",
       "  display: none;\n",
       "  background-color: var(--xr-background-color) !important;\n",
       "  padding-bottom: 5px !important;\n",
       "}\n",
       "\n",
       ".xr-var-attrs-in:checked ~ .xr-var-attrs,\n",
       ".xr-var-data-in:checked ~ .xr-var-data,\n",
       ".xr-index-data-in:checked ~ .xr-index-data {\n",
       "  display: block;\n",
       "}\n",
       "\n",
       ".xr-var-data > table {\n",
       "  float: right;\n",
       "}\n",
       "\n",
       ".xr-var-name span,\n",
       ".xr-var-data,\n",
       ".xr-index-name div,\n",
       ".xr-index-data,\n",
       ".xr-attrs {\n",
       "  padding-left: 25px !important;\n",
       "}\n",
       "\n",
       ".xr-attrs,\n",
       ".xr-var-attrs,\n",
       ".xr-var-data,\n",
       ".xr-index-data {\n",
       "  grid-column: 1 / -1;\n",
       "}\n",
       "\n",
       "dl.xr-attrs {\n",
       "  padding: 0;\n",
       "  margin: 0;\n",
       "  display: grid;\n",
       "  grid-template-columns: 125px auto;\n",
       "}\n",
       "\n",
       ".xr-attrs dt,\n",
       ".xr-attrs dd {\n",
       "  padding: 0;\n",
       "  margin: 0;\n",
       "  float: left;\n",
       "  padding-right: 10px;\n",
       "  width: auto;\n",
       "}\n",
       "\n",
       ".xr-attrs dt {\n",
       "  font-weight: normal;\n",
       "  grid-column: 1;\n",
       "}\n",
       "\n",
       ".xr-attrs dt:hover span {\n",
       "  display: inline-block;\n",
       "  background: var(--xr-background-color);\n",
       "  padding-right: 10px;\n",
       "}\n",
       "\n",
       ".xr-attrs dd {\n",
       "  grid-column: 2;\n",
       "  white-space: pre-wrap;\n",
       "  word-break: break-all;\n",
       "}\n",
       "\n",
       ".xr-icon-database,\n",
       ".xr-icon-file-text2,\n",
       ".xr-no-icon {\n",
       "  display: inline-block;\n",
       "  vertical-align: middle;\n",
       "  width: 1em;\n",
       "  height: 1.5em !important;\n",
       "  stroke-width: 0;\n",
       "  stroke: currentColor;\n",
       "  fill: currentColor;\n",
       "}\n",
       "</style><pre class='xr-text-repr-fallback'>&lt;xarray.DataArray &#x27;band&#x27; (band: 18)&gt; Size: 144B\n",
       "array([(&#x27;abies&#x27;,), (&#x27;picea&#x27;,), (&#x27;populus&#x27;,), (&#x27;pseudotsuga&#x27;,), (&#x27;tsuga&#x27;,),\n",
       "       (&#x27;vod&#x27;,), (&#x27;elev&#x27;,), (&#x27;slope&#x27;,), (&#x27;northness&#x27;,), (&#x27;eastness&#x27;,),\n",
       "       (&#x27;fire&#x27;,), (&#x27;mortality&#x27;,), (&#x27;prcp&#x27;,), (&#x27;vp&#x27;,), (&#x27;tmin&#x27;,),\n",
       "       (&#x27;treecover&#x27;,), (&#x27;mort_ewma&#x27;,), (&#x27;forest_ba&#x27;,)], dtype=object)\n",
       "Coordinates:\n",
       "  * band      (band) object 144B MultiIndex\n",
       "  * variable  (band) &lt;U11 792B &#x27;abies&#x27; &#x27;picea&#x27; ... &#x27;mort_ewma&#x27; &#x27;forest_ba&#x27;</pre><div class='xr-wrap' style='display:none'><div class='xr-header'><div class='xr-obj-type'>xarray.DataArray</div><div class='xr-array-name'>'band'</div><ul class='xr-dim-list'><li><span class='xr-has-index'>band</span>: 18</li></ul></div><ul class='xr-sections'><li class='xr-section-item'><div class='xr-array-wrap'><input id='section-8e35cfb6-7122-45f5-976c-cc22870086c4' class='xr-array-in' type='checkbox' checked><label for='section-8e35cfb6-7122-45f5-976c-cc22870086c4' title='Show/hide data repr'><svg class='icon xr-icon-database'><use xlink:href='#icon-database'></use></svg></label><div class='xr-array-preview xr-preview'><span>MultiIndex</span></div><div class='xr-array-data'><pre>array([(&#x27;abies&#x27;,), (&#x27;picea&#x27;,), (&#x27;populus&#x27;,), (&#x27;pseudotsuga&#x27;,), (&#x27;tsuga&#x27;,),\n",
       "       (&#x27;vod&#x27;,), (&#x27;elev&#x27;,), (&#x27;slope&#x27;,), (&#x27;northness&#x27;,), (&#x27;eastness&#x27;,),\n",
       "       (&#x27;fire&#x27;,), (&#x27;mortality&#x27;,), (&#x27;prcp&#x27;,), (&#x27;vp&#x27;,), (&#x27;tmin&#x27;,),\n",
       "       (&#x27;treecover&#x27;,), (&#x27;mort_ewma&#x27;,), (&#x27;forest_ba&#x27;,)], dtype=object)</pre></div></div></li><li class='xr-section-item'><input id='section-518d0cfc-442c-4be2-94e8-cd28bae6a097' class='xr-section-summary-in' type='checkbox'  checked><label for='section-518d0cfc-442c-4be2-94e8-cd28bae6a097' class='xr-section-summary' >Coordinates: <span>(2)</span></label><div class='xr-section-inline-details'></div><div class='xr-section-details'><ul class='xr-var-list'><li class='xr-var-item'><div class='xr-var-name'><span class='xr-has-index'>band</span></div><div class='xr-var-dims'>(band)</div><div class='xr-var-dtype'>object</div><div class='xr-var-preview xr-preview'>MultiIndex</div><input id='attrs-11a6c4d3-80ba-497a-800e-af5024fd215c' class='xr-var-attrs-in' type='checkbox' disabled><label for='attrs-11a6c4d3-80ba-497a-800e-af5024fd215c' title='Show/Hide attributes'><svg class='icon xr-icon-file-text2'><use xlink:href='#icon-file-text2'></use></svg></label><input id='data-c42d85cb-0e5c-47f1-bbf2-f522502842bf' class='xr-var-data-in' type='checkbox'><label for='data-c42d85cb-0e5c-47f1-bbf2-f522502842bf' title='Show/Hide data repr'><svg class='icon xr-icon-database'><use xlink:href='#icon-database'></use></svg></label><div class='xr-var-attrs'><dl class='xr-attrs'></dl></div><div class='xr-var-data'><pre>array([(&#x27;abies&#x27;,), (&#x27;picea&#x27;,), (&#x27;populus&#x27;,), (&#x27;pseudotsuga&#x27;,), (&#x27;tsuga&#x27;,),\n",
       "       (&#x27;vod&#x27;,), (&#x27;elev&#x27;,), (&#x27;slope&#x27;,), (&#x27;northness&#x27;,), (&#x27;eastness&#x27;,),\n",
       "       (&#x27;fire&#x27;,), (&#x27;mortality&#x27;,), (&#x27;prcp&#x27;,), (&#x27;vp&#x27;,), (&#x27;tmin&#x27;,),\n",
       "       (&#x27;treecover&#x27;,), (&#x27;mort_ewma&#x27;,), (&#x27;forest_ba&#x27;,)], dtype=object)</pre></div></li><li class='xr-var-item'><div class='xr-var-name'><span class='xr-has-index'>variable</span></div><div class='xr-var-dims'>(band)</div><div class='xr-var-dtype'>&lt;U11</div><div class='xr-var-preview xr-preview'>&#x27;abies&#x27; &#x27;picea&#x27; ... &#x27;forest_ba&#x27;</div><input id='attrs-d8bb317b-28ca-4241-ba57-f5a6a7c1924e' class='xr-var-attrs-in' type='checkbox' disabled><label for='attrs-d8bb317b-28ca-4241-ba57-f5a6a7c1924e' title='Show/Hide attributes'><svg class='icon xr-icon-file-text2'><use xlink:href='#icon-file-text2'></use></svg></label><input id='data-6303c1ac-8719-4811-93a6-c116123f1d2e' class='xr-var-data-in' type='checkbox'><label for='data-6303c1ac-8719-4811-93a6-c116123f1d2e' title='Show/Hide data repr'><svg class='icon xr-icon-database'><use xlink:href='#icon-database'></use></svg></label><div class='xr-var-attrs'><dl class='xr-attrs'></dl></div><div class='xr-var-data'><pre>array([&#x27;abies&#x27;, &#x27;picea&#x27;, &#x27;populus&#x27;, &#x27;pseudotsuga&#x27;, &#x27;tsuga&#x27;, &#x27;vod&#x27;, &#x27;elev&#x27;,\n",
       "       &#x27;slope&#x27;, &#x27;northness&#x27;, &#x27;eastness&#x27;, &#x27;fire&#x27;, &#x27;mortality&#x27;, &#x27;prcp&#x27;, &#x27;vp&#x27;,\n",
       "       &#x27;tmin&#x27;, &#x27;treecover&#x27;, &#x27;mort_ewma&#x27;, &#x27;forest_ba&#x27;], dtype=&#x27;&lt;U11&#x27;)</pre></div></li></ul></div></li><li class='xr-section-item'><input id='section-5916bb8d-3a7a-4719-bb8b-db6293bd98aa' class='xr-section-summary-in' type='checkbox'  ><label for='section-5916bb8d-3a7a-4719-bb8b-db6293bd98aa' class='xr-section-summary' >Indexes: <span>(1)</span></label><div class='xr-section-inline-details'></div><div class='xr-section-details'><ul class='xr-var-list'><li class='xr-var-item'><div class='xr-index-name'><div>band<br>variable</div></div><div class='xr-index-preview'>PandasMultiIndex</div><input type='checkbox' disabled/><label></label><input id='index-274062f4-7ead-491b-a77d-19bcd4ec6ffc' class='xr-index-data-in' type='checkbox'/><label for='index-274062f4-7ead-491b-a77d-19bcd4ec6ffc' title='Show/Hide index repr'><svg class='icon xr-icon-database'><use xlink:href='#icon-database'></use></svg></label><div class='xr-index-data'><pre>PandasIndex(MultiIndex([(      &#x27;abies&#x27;,),\n",
       "            (      &#x27;picea&#x27;,),\n",
       "            (    &#x27;populus&#x27;,),\n",
       "            (&#x27;pseudotsuga&#x27;,),\n",
       "            (      &#x27;tsuga&#x27;,),\n",
       "            (        &#x27;vod&#x27;,),\n",
       "            (       &#x27;elev&#x27;,),\n",
       "            (      &#x27;slope&#x27;,),\n",
       "            (  &#x27;northness&#x27;,),\n",
       "            (   &#x27;eastness&#x27;,),\n",
       "            (       &#x27;fire&#x27;,),\n",
       "            (  &#x27;mortality&#x27;,),\n",
       "            (       &#x27;prcp&#x27;,),\n",
       "            (         &#x27;vp&#x27;,),\n",
       "            (       &#x27;tmin&#x27;,),\n",
       "            (  &#x27;treecover&#x27;,),\n",
       "            (  &#x27;mort_ewma&#x27;,),\n",
       "            (  &#x27;forest_ba&#x27;,)],\n",
       "           name=&#x27;band&#x27;))</pre></div></li></ul></div></li><li class='xr-section-item'><input id='section-8925e85b-edda-45f1-b5f4-bd0229ff0d10' class='xr-section-summary-in' type='checkbox' disabled ><label for='section-8925e85b-edda-45f1-b5f4-bd0229ff0d10' class='xr-section-summary'  title='Expand/collapse section'>Attributes: <span>(0)</span></label><div class='xr-section-inline-details'></div><div class='xr-section-details'><dl class='xr-attrs'></dl></div></li></ul></div></div>"
      ],
      "text/plain": [
       "<xarray.DataArray 'band' (band: 18)> Size: 144B\n",
       "array([('abies',), ('picea',), ('populus',), ('pseudotsuga',), ('tsuga',),\n",
       "       ('vod',), ('elev',), ('slope',), ('northness',), ('eastness',),\n",
       "       ('fire',), ('mortality',), ('prcp',), ('vp',), ('tmin',),\n",
       "       ('treecover',), ('mort_ewma',), ('forest_ba',)], dtype=object)\n",
       "Coordinates:\n",
       "  * band      (band) object 144B MultiIndex\n",
       "  * variable  (band) <U11 792B 'abies' 'picea' ... 'mort_ewma' 'forest_ba'"
      ]
     },
     "execution_count": 31,
     "metadata": {},
     "output_type": "execute_result"
    }
   ],
   "source": [
    "ds.band"
   ]
  },
  {
   "cell_type": "code",
   "execution_count": 32,
   "id": "6ab02d11-de1c-49a1-8be8-897dde52c6bd",
   "metadata": {},
   "outputs": [],
   "source": [
    "from util.convlstm import DamageConvLSTM\n",
    "\n",
    "input_bands = [\"mort_ewma\", \"prcp\", \"elev\", \"treecover\"]\n",
    "input_inds = np.where(np.isin(ds.coords.get(\"variable\").values, input_bands))[0]\n",
    "input_channel = len(input_bands)\n",
    "hidden_dim = 8\n",
    "num_layers = 2\n",
    "kernel = (3, 3)\n",
    "\n",
    "m = DamageConvLSTM(input_channel, hidden_dim, kernel, num_layers, batch_first=True)"
   ]
  },
  {
   "cell_type": "markdown",
   "id": "bedc90d3-8c10-4f44-8667-ae0c986b7eae",
   "metadata": {},
   "source": [
    "Verify that the shapes work out."
   ]
  },
  {
   "cell_type": "code",
   "execution_count": 33,
   "id": "ac5fe779-81d6-4136-8d7a-8de5e40fad2f",
   "metadata": {},
   "outputs": [],
   "source": [
    "fake_input = torch.tensor(window_x.isel(band=input_inds).values).unsqueeze(0).to(torch.float32)\n",
    "fake_output = m(fake_input)\n",
    "assert fake_output.shape == window_y.shape"
   ]
  },
  {
   "cell_type": "markdown",
   "id": "c61bf5a8-3ffe-4696-9c28-fe408a45f0ba",
   "metadata": {},
   "source": [
    "Data pipeline"
   ]
  },
  {
   "cell_type": "code",
   "execution_count": 34,
   "id": "f38b7f2c-4762-4a20-869c-e0f1ecde354b",
   "metadata": {},
   "outputs": [
    {
     "name": "stdout",
     "output_type": "stream",
     "text": [
      "Training years: [2013 2014 2015 2016 2017 2018 2019 2020 2021 2022 2023]\n",
      "Validation years: [1997 1998 1999 2000 2001 2002 2003 2004]\n",
      "Testing years: [2005 2006 2007 2008 2009 2010 2011 2012]\n"
     ]
    }
   ],
   "source": [
    "# Prepare data laoders. Since we are using a 5-year lookback here, each dataset\n",
    "# has to be temporally disjoint so we don't leak data. Since 2020 had very few\n",
    "# surveys we have to ignore it.\n",
    "years = ds.time.values\n",
    "\n",
    "train_years = years[16:]\n",
    "valid_years = years[:8]\n",
    "test_years = years[8:16]\n",
    "\n",
    "print(\"Training years:\", train_years)\n",
    "print(\"Validation years:\", valid_years)\n",
    "print(\"Testing years:\", test_years)"
   ]
  },
  {
   "cell_type": "code",
   "execution_count": 35,
   "id": "58b6e6fe-6051-4949-ada8-6711afc50c31",
   "metadata": {},
   "outputs": [
    {
     "name": "stdout",
     "output_type": "stream",
     "text": [
      "Count of examples\n",
      "Validation: 38421\n",
      "Testing: 83017\n"
     ]
    }
   ],
   "source": [
    "valid_wds = util.datasets.WindowXarrayDataset(\n",
    "    ds.sel(time=valid_years), window, \n",
    "    mask=mort_arr.sel(time=valid_years),\n",
    "    na_thresh=prop_na\n",
    ")\n",
    "test_wds  = util.datasets.WindowXarrayDataset(\n",
    "    ds.sel(time=test_years), window, \n",
    "    mask=mort_arr.sel(time= test_years), \n",
    "    na_thresh=prop_na\n",
    ")\n",
    "\n",
    "print(\"Count of examples\")\n",
    "print(\"Validation:\", len(valid_wds))\n",
    "print(\"Testing:\", len(test_wds))"
   ]
  },
  {
   "cell_type": "code",
   "execution_count": 36,
   "id": "75c0bb40-dc54-4815-a668-d635461a3757",
   "metadata": {},
   "outputs": [],
   "source": [
    "from torch.utils.data import DataLoader\n",
    "\n",
    "ewma_target_ind = np.where(ds.coords.get(\"variable\").values == \"mort_ewma\")[0][0]\n",
    "orig_target_ind = np.where(ds.coords.get(\"variable\").values == \"mortality\")[0][0]\n",
    "\n",
    "dtype = torch.float32\n",
    "# cutoff = 1\n",
    "\n",
    "def make_collator(input_inds, target_ind):\n",
    "    def collator(patch_list):\n",
    "        X = torch.stack([\n",
    "            torch.tensor(\n",
    "                np.squeeze(patch.values[:-1, input_inds, :, :]),\n",
    "                dtype=dtype\n",
    "            )\n",
    "            for patch in patch_list\n",
    "        ])\n",
    "    \n",
    "        # Replace nan cells with the channel mean from this batch\n",
    "        ch_mean = torch.nanmean(X, dim=0)\n",
    "        X = torch.nan_to_num(X)\n",
    "        X += ch_mean * torch.isnan(X)\n",
    "        \n",
    "        y = torch.stack([\n",
    "            torch.tensor(patch.values[-1, target_ind, :, :], dtype=dtype)\n",
    "            for patch in patch_list\n",
    "        ]).squeeze(dim=2)/100\n",
    "    \n",
    "        return X, y\n",
    "\n",
    "    return collator\n",
    "\n",
    "ewma_collator = make_collator(input_inds, ewma_target_ind)\n",
    "orig_collator = make_collator(input_inds, orig_target_ind)\n",
    "\n",
    "batch_size = 32\n",
    "\n",
    "# Setting the RNG to host device is necessary if we want to run on GPU\n",
    "valid_loader = DataLoader(\n",
    "    valid_wds, \n",
    "    batch_size, \n",
    "    shuffle=True, \n",
    "    collate_fn=ewma_collator, \n",
    "    generator=torch.Generator(device=device)\n",
    ")\n",
    "test_loader  = DataLoader(\n",
    "    test_wds, \n",
    "    batch_size, \n",
    "    shuffle=True, \n",
    "    collate_fn=ewma_collator, \n",
    "    generator=torch.Generator(device=device)\n",
    ")"
   ]
  },
  {
   "cell_type": "code",
   "execution_count": 37,
   "id": "63224721-43c8-45ba-93a7-6efbaec6885c",
   "metadata": {},
   "outputs": [
    {
     "name": "stdout",
     "output_type": "stream",
     "text": [
      "torch.Size([32, 4, 4, 16, 16])\n",
      "torch.Size([32, 16, 16])\n"
     ]
    }
   ],
   "source": [
    "# Again make sure the sizes work out\n",
    "X, y = tuple(next(iter(valid_loader)))\n",
    "print(X.shape)\n",
    "out = m(X)\n",
    "print(out.shape)\n",
    "assert out.shape == y.shape"
   ]
  },
  {
   "cell_type": "code",
   "execution_count": 38,
   "id": "81f00617-551e-4dd8-a6c7-cf3e5d321d93",
   "metadata": {},
   "outputs": [
    {
     "data": {
      "text/plain": [
       "<module 'util.datasets' from '/home/jovyan/ForestLST/util/datasets.py'>"
      ]
     },
     "execution_count": 38,
     "metadata": {},
     "output_type": "execute_result"
    }
   ],
   "source": [
    "reload(util.datasets)"
   ]
  },
  {
   "cell_type": "code",
   "execution_count": 39,
   "id": "4f717d62-6af6-491f-b949-5dfaded863e9",
   "metadata": {},
   "outputs": [
    {
     "name": "stdout",
     "output_type": "stream",
     "text": [
      "N: 88114\n"
     ]
    }
   ],
   "source": [
    "import torchmetrics\n",
    "from util.convlstm import DamageConvLSTM\n",
    "\n",
    "wds = util.datasets.WindowXarrayDataset(\n",
    "    ds.sel(time=train_years), window, mask=mort_arr.sel(time=train_years), na_thresh=prop_na\n",
    ")\n",
    "print(f\"N: {len(wds)}\")\n",
    "\n",
    "train_loader = DataLoader(\n",
    "    wds, batch_size, \n",
    "    shuffle=True, collate_fn=ewma_collator, \n",
    "    generator=torch.Generator(device=device)\n",
    ")"
   ]
  },
  {
   "cell_type": "code",
   "execution_count": 40,
   "id": "96bf8b9b-7d8a-462a-83d8-573b9b93b40c",
   "metadata": {},
   "outputs": [],
   "source": [
    "reload(util.training)\n",
    "from util.training import BaseTrainer, ReduceLRMixin, EarlyStopMixin, MaskedLossMixin\n",
    "\n",
    "class Trainer(MaskedLossMixin, ReduceLRMixin, EarlyStopMixin, BaseTrainer):\n",
    "    pass"
   ]
  },
  {
   "cell_type": "code",
   "execution_count": 41,
   "id": "055486d2-5319-473d-8c65-15d59bfe557d",
   "metadata": {},
   "outputs": [
    {
     "name": "stdout",
     "output_type": "stream",
     "text": [
      "N params: 9554\n"
     ]
    },
    {
     "data": {
      "application/vnd.jupyter.widget-view+json": {
       "model_id": "cb12a2711d944be4b0de50b167374328",
       "version_major": 2,
       "version_minor": 0
      },
      "text/plain": [
       "Epoch:   0%|          | 0/30 [00:00<?, ?it/s]"
      ]
     },
     "metadata": {},
     "output_type": "display_data"
    },
    {
     "data": {
      "application/vnd.jupyter.widget-view+json": {
       "model_id": "011d6f3cd34747c78d120470f1398cc3",
       "version_major": 2,
       "version_minor": 0
      },
      "text/plain": [
       "Training loss:   0%|          | 0/2754 [00:00<?, ?it/s]"
      ]
     },
     "metadata": {},
     "output_type": "display_data"
    },
    {
     "name": "stderr",
     "output_type": "stream",
     "text": [
      "/srv/conda/envs/notebook/lib/python3.12/site-packages/torchmetrics/utilities/prints.py:43: UserWarning: The variance of predictions or target is close to zero. This can cause instability in Pearson correlationcoefficient, leading to wrong results. Consider re-scaling the input if possible or computing using alarger dtype (currently using torch.float32).\n",
      "  warnings.warn(*args, **kwargs)  # noqa: B028\n"
     ]
    },
    {
     "data": {
      "application/vnd.jupyter.widget-view+json": {
       "model_id": "b900505b6af444338fa1254bc591dfcb",
       "version_major": 2,
       "version_minor": 0
      },
      "text/plain": [
       "Validation loss:   0%|          | 0/1201 [00:00<?, ?it/s]"
      ]
     },
     "metadata": {},
     "output_type": "display_data"
    },
    {
     "name": "stdout",
     "output_type": "stream",
     "text": [
      "Epoch 1 of 30\n",
      "                                       Key           Value\n",
      "0                             LearningRate           0.005\n",
      "1                               Loss/train        0.001897\n",
      "2                               Loss/valid  tensor(0.0024)\n",
      "3                MeanAbsoluteError()/train     0.020100705\n",
      "4                MeanAbsoluteError()/valid     0.015144691\n",
      "5                 MeanSquaredError()/train    0.0018972702\n",
      "6                 MeanSquaredError()/valid    0.0024444868\n",
      "7   NormalizedRootMeanSquaredError()/train        1.639182\n",
      "8   NormalizedRootMeanSquaredError()/valid        2.273624\n",
      "9                  PearsonCorrCoef()/train      0.77049917\n",
      "10                 PearsonCorrCoef()/valid       0.6777265\n",
      "\n"
     ]
    },
    {
     "data": {
      "application/vnd.jupyter.widget-view+json": {
       "model_id": "122859c562174e68a67e3621519e24c8",
       "version_major": 2,
       "version_minor": 0
      },
      "text/plain": [
       "Training loss:   0%|          | 0/2754 [00:00<?, ?it/s]"
      ]
     },
     "metadata": {},
     "output_type": "display_data"
    },
    {
     "name": "stderr",
     "output_type": "stream",
     "text": [
      "/srv/conda/envs/notebook/lib/python3.12/site-packages/torchmetrics/utilities/prints.py:43: UserWarning: The variance of predictions or target is close to zero. This can cause instability in Pearson correlationcoefficient, leading to wrong results. Consider re-scaling the input if possible or computing using alarger dtype (currently using torch.float32).\n",
      "  warnings.warn(*args, **kwargs)  # noqa: B028\n"
     ]
    },
    {
     "data": {
      "application/vnd.jupyter.widget-view+json": {
       "model_id": "8f1a01d11cbf46f69f481614fca48b7d",
       "version_major": 2,
       "version_minor": 0
      },
      "text/plain": [
       "Validation loss:   0%|          | 0/1201 [00:00<?, ?it/s]"
      ]
     },
     "metadata": {},
     "output_type": "display_data"
    },
    {
     "name": "stdout",
     "output_type": "stream",
     "text": [
      "Epoch 2 of 30\n",
      "                                       Key           Value\n",
      "0                             LearningRate           0.005\n",
      "1                               Loss/train        0.001636\n",
      "2                               Loss/valid  tensor(0.0024)\n",
      "3                MeanAbsoluteError()/train      0.01760537\n",
      "4                MeanAbsoluteError()/valid     0.014922446\n",
      "5                 MeanSquaredError()/train    0.0016358136\n",
      "6                 MeanSquaredError()/valid    0.0024168536\n",
      "7   NormalizedRootMeanSquaredError()/train        1.522053\n",
      "8   NormalizedRootMeanSquaredError()/valid       2.2607338\n",
      "9                  PearsonCorrCoef()/train       0.8064143\n",
      "10                 PearsonCorrCoef()/valid      0.67191344\n",
      "\n"
     ]
    },
    {
     "data": {
      "application/vnd.jupyter.widget-view+json": {
       "model_id": "f2d1db4ee6ef4d5caaa0b7f455d6b8e3",
       "version_major": 2,
       "version_minor": 0
      },
      "text/plain": [
       "Training loss:   0%|          | 0/2754 [00:00<?, ?it/s]"
      ]
     },
     "metadata": {},
     "output_type": "display_data"
    },
    {
     "data": {
      "application/vnd.jupyter.widget-view+json": {
       "model_id": "221a6b30a43542808dd803b2359d4eea",
       "version_major": 2,
       "version_minor": 0
      },
      "text/plain": [
       "Validation loss:   0%|          | 0/1201 [00:00<?, ?it/s]"
      ]
     },
     "metadata": {},
     "output_type": "display_data"
    },
    {
     "name": "stderr",
     "output_type": "stream",
     "text": [
      "/srv/conda/envs/notebook/lib/python3.12/site-packages/torchmetrics/utilities/prints.py:43: UserWarning: The variance of predictions or target is close to zero. This can cause instability in Pearson correlationcoefficient, leading to wrong results. Consider re-scaling the input if possible or computing using alarger dtype (currently using torch.float32).\n",
      "  warnings.warn(*args, **kwargs)  # noqa: B028\n"
     ]
    },
    {
     "name": "stdout",
     "output_type": "stream",
     "text": [
      "Epoch 3 of 30\n",
      "                                       Key           Value\n",
      "0                             LearningRate           0.005\n",
      "1                               Loss/train        0.001585\n",
      "2                               Loss/valid  tensor(0.0024)\n",
      "3                MeanAbsoluteError()/train       0.0169279\n",
      "4                MeanAbsoluteError()/valid    0.0146709215\n",
      "5                 MeanSquaredError()/train    0.0015852927\n",
      "6                 MeanSquaredError()/valid    0.0023600857\n",
      "7   NormalizedRootMeanSquaredError()/train       1.4983625\n",
      "8   NormalizedRootMeanSquaredError()/valid       2.2340236\n",
      "9                  PearsonCorrCoef()/train      0.81351215\n",
      "10                 PearsonCorrCoef()/valid       0.6780775\n",
      "\n"
     ]
    },
    {
     "data": {
      "application/vnd.jupyter.widget-view+json": {
       "model_id": "88477a4a2313404da65b40d99c06711d",
       "version_major": 2,
       "version_minor": 0
      },
      "text/plain": [
       "Training loss:   0%|          | 0/2754 [00:00<?, ?it/s]"
      ]
     },
     "metadata": {},
     "output_type": "display_data"
    },
    {
     "data": {
      "application/vnd.jupyter.widget-view+json": {
       "model_id": "c0436d5552da46c8a09ae4137df9db22",
       "version_major": 2,
       "version_minor": 0
      },
      "text/plain": [
       "Validation loss:   0%|          | 0/1201 [00:00<?, ?it/s]"
      ]
     },
     "metadata": {},
     "output_type": "display_data"
    },
    {
     "name": "stderr",
     "output_type": "stream",
     "text": [
      "/srv/conda/envs/notebook/lib/python3.12/site-packages/torchmetrics/utilities/prints.py:43: UserWarning: The variance of predictions or target is close to zero. This can cause instability in Pearson correlationcoefficient, leading to wrong results. Consider re-scaling the input if possible or computing using alarger dtype (currently using torch.float32).\n",
      "  warnings.warn(*args, **kwargs)  # noqa: B028\n"
     ]
    },
    {
     "name": "stdout",
     "output_type": "stream",
     "text": [
      "Epoch 4 of 30\n",
      "                                       Key           Value\n",
      "0                             LearningRate           0.005\n",
      "1                               Loss/train        0.001562\n",
      "2                               Loss/valid  tensor(0.0025)\n",
      "3                MeanAbsoluteError()/train     0.016633872\n",
      "4                MeanAbsoluteError()/valid     0.014833161\n",
      "5                 MeanSquaredError()/train     0.001561364\n",
      "6                 MeanSquaredError()/valid    0.0025033583\n",
      "7   NormalizedRootMeanSquaredError()/train       1.4870133\n",
      "8   NormalizedRootMeanSquaredError()/valid       2.3008373\n",
      "9                  PearsonCorrCoef()/train       0.8168252\n",
      "10                 PearsonCorrCoef()/valid       0.6793023\n",
      "\n"
     ]
    },
    {
     "data": {
      "application/vnd.jupyter.widget-view+json": {
       "model_id": "f3374dd384024bdba6e41e5f1830890b",
       "version_major": 2,
       "version_minor": 0
      },
      "text/plain": [
       "Training loss:   0%|          | 0/2754 [00:00<?, ?it/s]"
      ]
     },
     "metadata": {},
     "output_type": "display_data"
    },
    {
     "data": {
      "application/vnd.jupyter.widget-view+json": {
       "model_id": "5f77b19049ef4cbcb73a0c8a110ffb2e",
       "version_major": 2,
       "version_minor": 0
      },
      "text/plain": [
       "Validation loss:   0%|          | 0/1201 [00:00<?, ?it/s]"
      ]
     },
     "metadata": {},
     "output_type": "display_data"
    },
    {
     "name": "stderr",
     "output_type": "stream",
     "text": [
      "/srv/conda/envs/notebook/lib/python3.12/site-packages/torchmetrics/utilities/prints.py:43: UserWarning: The variance of predictions or target is close to zero. This can cause instability in Pearson correlationcoefficient, leading to wrong results. Consider re-scaling the input if possible or computing using alarger dtype (currently using torch.float32).\n",
      "  warnings.warn(*args, **kwargs)  # noqa: B028\n"
     ]
    },
    {
     "name": "stdout",
     "output_type": "stream",
     "text": [
      "Epoch 5 of 30\n",
      "                                       Key           Value\n",
      "0                             LearningRate           0.005\n",
      "1                               Loss/train        0.001553\n",
      "2                               Loss/valid  tensor(0.0025)\n",
      "3                MeanAbsoluteError()/train     0.016524507\n",
      "4                MeanAbsoluteError()/valid     0.014890722\n",
      "5                 MeanSquaredError()/train    0.0015530067\n",
      "6                 MeanSquaredError()/valid    0.0024544466\n",
      "7   NormalizedRootMeanSquaredError()/train        1.483029\n",
      "8   NormalizedRootMeanSquaredError()/valid       2.2782502\n",
      "9                  PearsonCorrCoef()/train        0.817992\n",
      "10                 PearsonCorrCoef()/valid       0.6752015\n",
      "\n"
     ]
    },
    {
     "data": {
      "application/vnd.jupyter.widget-view+json": {
       "model_id": "0be44d19f03949e4a551432c81ff99aa",
       "version_major": 2,
       "version_minor": 0
      },
      "text/plain": [
       "Training loss:   0%|          | 0/2754 [00:00<?, ?it/s]"
      ]
     },
     "metadata": {},
     "output_type": "display_data"
    },
    {
     "name": "stderr",
     "output_type": "stream",
     "text": [
      "/srv/conda/envs/notebook/lib/python3.12/site-packages/torchmetrics/utilities/prints.py:43: UserWarning: The variance of predictions or target is close to zero. This can cause instability in Pearson correlationcoefficient, leading to wrong results. Consider re-scaling the input if possible or computing using alarger dtype (currently using torch.float32).\n",
      "  warnings.warn(*args, **kwargs)  # noqa: B028\n"
     ]
    },
    {
     "data": {
      "application/vnd.jupyter.widget-view+json": {
       "model_id": "130a0887b3414aa383dee75fee6f8acd",
       "version_major": 2,
       "version_minor": 0
      },
      "text/plain": [
       "Validation loss:   0%|          | 0/1201 [00:00<?, ?it/s]"
      ]
     },
     "metadata": {},
     "output_type": "display_data"
    },
    {
     "name": "stdout",
     "output_type": "stream",
     "text": [
      "Epoch 6 of 30\n",
      "                                       Key           Value\n",
      "0                             LearningRate           0.005\n",
      "1                               Loss/train        0.001542\n",
      "2                               Loss/valid  tensor(0.0025)\n",
      "3                MeanAbsoluteError()/train      0.01642853\n",
      "4                MeanAbsoluteError()/valid     0.014778813\n",
      "5                 MeanSquaredError()/train    0.0015412533\n",
      "6                 MeanSquaredError()/valid    0.0024481772\n",
      "7   NormalizedRootMeanSquaredError()/train       1.4774035\n",
      "8   NormalizedRootMeanSquaredError()/valid       2.2753365\n",
      "9                  PearsonCorrCoef()/train       0.8195615\n",
      "10                 PearsonCorrCoef()/valid       0.6732937\n",
      "\n"
     ]
    },
    {
     "data": {
      "application/vnd.jupyter.widget-view+json": {
       "model_id": "85ba025bc1e44933b920b18f21bdb678",
       "version_major": 2,
       "version_minor": 0
      },
      "text/plain": [
       "Training loss:   0%|          | 0/2754 [00:00<?, ?it/s]"
      ]
     },
     "metadata": {},
     "output_type": "display_data"
    },
    {
     "data": {
      "application/vnd.jupyter.widget-view+json": {
       "model_id": "8d48864d391f48b6b6f1e1769fddaa35",
       "version_major": 2,
       "version_minor": 0
      },
      "text/plain": [
       "Validation loss:   0%|          | 0/1201 [00:00<?, ?it/s]"
      ]
     },
     "metadata": {},
     "output_type": "display_data"
    },
    {
     "name": "stderr",
     "output_type": "stream",
     "text": [
      "/srv/conda/envs/notebook/lib/python3.12/site-packages/torchmetrics/utilities/prints.py:43: UserWarning: The variance of predictions or target is close to zero. This can cause instability in Pearson correlationcoefficient, leading to wrong results. Consider re-scaling the input if possible or computing using alarger dtype (currently using torch.float32).\n",
      "  warnings.warn(*args, **kwargs)  # noqa: B028\n"
     ]
    },
    {
     "name": "stdout",
     "output_type": "stream",
     "text": [
      "Epoch 7 of 30\n",
      "                                       Key           Value\n",
      "0                             LearningRate           0.001\n",
      "1                               Loss/train        0.001539\n",
      "2                               Loss/valid  tensor(0.0025)\n",
      "3                MeanAbsoluteError()/train     0.016380781\n",
      "4                MeanAbsoluteError()/valid     0.014700852\n",
      "5                 MeanSquaredError()/train    0.0015391067\n",
      "6                 MeanSquaredError()/valid    0.0024543055\n",
      "7   NormalizedRootMeanSquaredError()/train       1.4763778\n",
      "8   NormalizedRootMeanSquaredError()/valid        2.278184\n",
      "9                  PearsonCorrCoef()/train        0.819896\n",
      "10                 PearsonCorrCoef()/valid      0.67511857\n",
      "\n"
     ]
    },
    {
     "data": {
      "application/vnd.jupyter.widget-view+json": {
       "model_id": "46c7753b6a9148eb9742865aadb5c940",
       "version_major": 2,
       "version_minor": 0
      },
      "text/plain": [
       "Training loss:   0%|          | 0/2754 [00:00<?, ?it/s]"
      ]
     },
     "metadata": {},
     "output_type": "display_data"
    },
    {
     "data": {
      "application/vnd.jupyter.widget-view+json": {
       "model_id": "c77a763dc5b843878d9071e3e2a3539e",
       "version_major": 2,
       "version_minor": 0
      },
      "text/plain": [
       "Validation loss:   0%|          | 0/1201 [00:00<?, ?it/s]"
      ]
     },
     "metadata": {},
     "output_type": "display_data"
    },
    {
     "name": "stderr",
     "output_type": "stream",
     "text": [
      "/srv/conda/envs/notebook/lib/python3.12/site-packages/torchmetrics/utilities/prints.py:43: UserWarning: The variance of predictions or target is close to zero. This can cause instability in Pearson correlationcoefficient, leading to wrong results. Consider re-scaling the input if possible or computing using alarger dtype (currently using torch.float32).\n",
      "  warnings.warn(*args, **kwargs)  # noqa: B028\n"
     ]
    },
    {
     "name": "stdout",
     "output_type": "stream",
     "text": [
      "Epoch 8 of 30\n",
      "                                       Key           Value\n",
      "0                             LearningRate           0.001\n",
      "1                               Loss/train        0.001495\n",
      "2                               Loss/valid  tensor(0.0024)\n",
      "3                MeanAbsoluteError()/train      0.01614459\n",
      "4                MeanAbsoluteError()/valid     0.014592876\n",
      "5                 MeanSquaredError()/train    0.0014944976\n",
      "6                 MeanSquaredError()/valid    0.0024066244\n",
      "7   NormalizedRootMeanSquaredError()/train       1.4548203\n",
      "8   NormalizedRootMeanSquaredError()/valid        2.255948\n",
      "9                  PearsonCorrCoef()/train       0.8256407\n",
      "10                 PearsonCorrCoef()/valid       0.6751812\n",
      "\n"
     ]
    },
    {
     "data": {
      "application/vnd.jupyter.widget-view+json": {
       "model_id": "86d6595678d64869a362a1e3db9248ee",
       "version_major": 2,
       "version_minor": 0
      },
      "text/plain": [
       "Training loss:   0%|          | 0/2754 [00:00<?, ?it/s]"
      ]
     },
     "metadata": {},
     "output_type": "display_data"
    },
    {
     "data": {
      "application/vnd.jupyter.widget-view+json": {
       "model_id": "1e42be0ad300448d892a764e23cd5563",
       "version_major": 2,
       "version_minor": 0
      },
      "text/plain": [
       "Validation loss:   0%|          | 0/1201 [00:00<?, ?it/s]"
      ]
     },
     "metadata": {},
     "output_type": "display_data"
    },
    {
     "name": "stderr",
     "output_type": "stream",
     "text": [
      "/srv/conda/envs/notebook/lib/python3.12/site-packages/torchmetrics/utilities/prints.py:43: UserWarning: The variance of predictions or target is close to zero. This can cause instability in Pearson correlationcoefficient, leading to wrong results. Consider re-scaling the input if possible or computing using alarger dtype (currently using torch.float32).\n",
      "  warnings.warn(*args, **kwargs)  # noqa: B028\n"
     ]
    },
    {
     "name": "stdout",
     "output_type": "stream",
     "text": [
      "Epoch 9 of 30\n",
      "                                       Key           Value\n",
      "0                             LearningRate           0.001\n",
      "1                               Loss/train        0.001485\n",
      "2                               Loss/valid  tensor(0.0025)\n",
      "3                MeanAbsoluteError()/train     0.016076205\n",
      "4                MeanAbsoluteError()/valid     0.014696724\n",
      "5                 MeanSquaredError()/train    0.0014843706\n",
      "6                 MeanSquaredError()/valid    0.0024496154\n",
      "7   NormalizedRootMeanSquaredError()/train       1.4498866\n",
      "8   NormalizedRootMeanSquaredError()/valid       2.2760062\n",
      "9                  PearsonCorrCoef()/train       0.8269685\n",
      "10                 PearsonCorrCoef()/valid      0.67644304\n",
      "\n"
     ]
    }
   ],
   "source": [
    "# Model params\n",
    "input_channel = len(input_bands)\n",
    "hidden_dim = 5\n",
    "num_layers = 2\n",
    "kernel = (5, 5)\n",
    "m = DamageConvLSTM(\n",
    "    input_channel, \n",
    "    hidden_dim, \n",
    "    kernel, \n",
    "    num_layers, \n",
    "    batch_first=True,\n",
    "    dropout=0.3\n",
    ")\n",
    "print(\"N params:\", util.training.count_trainable_parameters(m))\n",
    "\n",
    "# Init bias - this is just a guess but it doesn't have\n",
    "# to be perfect.\n",
    "mean_mort = 0.03\n",
    "init_bias = np.log(mean_mort / (1 - mean_mort))\n",
    "torch.nn.init.constant_(m.conv.bias, init_bias)\n",
    "\n",
    "# Build trainer\n",
    "loss = torch.nn.MSELoss()\n",
    "opt  = torch.optim.Adam(m.parameters(), lr=0.005)\n",
    "scheduler = torch.optim.lr_scheduler.ReduceLROnPlateau(opt, patience=3, factor=0.2, threshold=0.01)\n",
    "metrics = util.training.get_regr_metrics()\n",
    "\n",
    "model_name = f\"03202025_convlstm__16_16_5__ewma__4band\"\n",
    "logdir = os.path.join(\"logs\", model_name)\n",
    "\n",
    "# Remove existing logs if present\n",
    "if os.path.exists(logdir):\n",
    "    util.training.remove_log(logdir)\n",
    "\n",
    "trainer = Trainer(\n",
    "    m, opt, scheduler, loss, train_loader, valid_loader,\n",
    "    metrics=metrics, \n",
    "    n_epochs=30,\n",
    "    tensorboard_log=os.path.join(logdir, \"history\"),\n",
    "    model_log=os.path.join(logdir, \"model.pth\"),\n",
    "    defn_log=os.path.join(logdir, \"model_definition.txt\"),\n",
    "    verbose=True,\n",
    "    stop_patience=5,\n",
    "    rel_improve=0.01,\n",
    ")\n",
    "\n",
    "trainer.train()"
   ]
  },
  {
   "cell_type": "code",
   "execution_count": 42,
   "id": "c55924e8-87cb-44cf-b25a-407e0f80f312",
   "metadata": {},
   "outputs": [
    {
     "data": {
      "text/plain": [
       "(<Figure size 640x480 with 6 Axes>,\n",
       " <Axes: title={'center': 'PearsonCorrCoef()'}>)"
      ]
     },
     "execution_count": 42,
     "metadata": {},
     "output_type": "execute_result"
    },
    {
     "data": {
      "image/png": "[encoded data removed]",
      "text/plain": [
       "<Figure size 640x480 with 6 Axes>"
      ]
     },
     "metadata": {},
     "output_type": "display_data"
    }
   ],
   "source": [
    "util.plot.plot_all_scalars_in_run(f\"logs/{model_name}/history/\")"
   ]
  },
  {
   "cell_type": "markdown",
   "id": "f8375ae2-7e29-4055-a8a1-b97bfeaa8ed6",
   "metadata": {},
   "source": [
    "Calculate performance on test set"
   ]
  },
  {
   "cell_type": "code",
   "execution_count": 45,
   "id": "150f5993-3ce6-485f-ba73-3a653ddb3263",
   "metadata": {},
   "outputs": [
    {
     "name": "stderr",
     "output_type": "stream",
     "text": [
      "                                                   "
     ]
    },
    {
     "name": "stdout",
     "output_type": "stream",
     "text": [
      "NormalizedRootMeanSquaredError(): 1.931\n",
      "PearsonCorrCoef(): 0.773\n",
      "MeanAbsoluteError(): 0.008\n",
      "MeanSquaredError(): 0.001\n"
     ]
    },
    {
     "name": "stderr",
     "output_type": "stream",
     "text": []
    }
   ],
   "source": [
    "from tqdm import tqdm\n",
    "import pandas as pd\n",
    "\n",
    "test_metrics = util.training.get_regr_metrics()\n",
    "\n",
    "m.eval()\n",
    "with torch.no_grad():\n",
    "    for (X, y) in tqdm(test_loader, leave=False):\n",
    "        y_hat = m(X)\n",
    "        mask = ~torch.isnan(y)\n",
    "        \n",
    "        for metric in test_metrics:\n",
    "            metric(y_hat[mask].view(-1), y[mask].view(-1))\n",
    "\n",
    "for metric in test_metrics:\n",
    "    print(f\"{str(metric)}: {metric.compute():.3f}\")"
   ]
  },
  {
   "cell_type": "code",
   "execution_count": 82,
   "id": "99c88680-4dcb-4353-be56-9dff1b8a2d04",
   "metadata": {},
   "outputs": [
    {
     "data": {
      "text/plain": [
       "array(0.0006689, dtype=float32)"
      ]
     },
     "execution_count": 82,
     "metadata": {},
     "output_type": "execute_result"
    }
   ],
   "source": [
    "test_metrics[-1].compute().cpu().numpy()"
   ]
  },
  {
   "cell_type": "markdown",
   "id": "2f7e8498-115b-4450-9ca5-24e87046dec5",
   "metadata": {},
   "source": [
    "What if we test/validate on the smoothed signal?"
   ]
  },
  {
   "cell_type": "code",
   "execution_count": 46,
   "id": "1319b9f9-4546-459b-8aef-524351c59a8a",
   "metadata": {},
   "outputs": [],
   "source": [
    "train_metrics = util.training.get_final_metrics(f\"logs/{model_name}/history\")"
   ]
  },
  {
   "cell_type": "code",
   "execution_count": 47,
   "id": "0da917f5-a2a5-45de-980a-5466b49542e5",
   "metadata": {},
   "outputs": [
    {
     "data": {
      "text/plain": [
       "{'NormalizedRootMeanSquaredError()/train': 1.4498865604400635,\n",
       " 'PearsonCorrCoef()/train': 0.8269684910774231,\n",
       " 'MeanAbsoluteError()/train': 0.016076205298304558,\n",
       " 'MeanSquaredError()/train': 0.001484370557591319,\n",
       " 'NormalizedRootMeanSquaredError()/valid': 2.2760062217712402,\n",
       " 'PearsonCorrCoef()/valid': 0.6764430403709412,\n",
       " 'MeanAbsoluteError()/valid': 0.014696723781526089,\n",
       " 'MeanSquaredError()/valid': 0.002449615392833948,\n",
       " 'Loss/train': 0.0014845762634649873,\n",
       " 'Loss/valid': 0.0024517090059816837,\n",
       " 'LearningRate': 0.0010000000474974513}"
      ]
     },
     "execution_count": 47,
     "metadata": {},
     "output_type": "execute_result"
    }
   ],
   "source": [
    "train_metrics"
   ]
  },
  {
   "cell_type": "code",
   "execution_count": 52,
   "id": "6a4c9379-0b24-42e7-9dcc-308e0e064e5f",
   "metadata": {},
   "outputs": [
    {
     "data": {
      "text/plain": [
       "<matplotlib.legend.Legend at 0x7f9c431628d0>"
      ]
     },
     "execution_count": 52,
     "metadata": {},
     "output_type": "execute_result"
    },
    {
     "data": {
      "image/png": "[encoded data removed]",
      "text/plain": [
       "<Figure size 1100x400 with 3 Axes>"
      ]
     },
     "metadata": {},
     "output_type": "display_data"
    }
   ],
   "source": [
    "from matplotlib.patches import Rectangle\n",
    "\n",
    "fig, (ax1, ax2, ax3) = plt.subplots(1, 3, figsize=(11, 4))\n",
    "\n",
    "nrmse = \"NormalizedRootMeanSquaredError()\"\n",
    "mae = \"MeanAbsoluteError()\"\n",
    "rho = \"PearsonCorrCoef()\"\n",
    "\n",
    "label = [\"Train\", \"Valid\", \"Test\"]\n",
    "color = [\"#2ca25f\", \"#2b8cbe\", \"#f03b20\"]\n",
    "\n",
    "nrmse_values = [\n",
    "    train_metrics[f\"{nrmse}/train\"],\n",
    "    train_metrics[f\"{nrmse}/valid\"], \n",
    "    test_metrics[0].compute().cpu(), \n",
    "]\n",
    "r2_values = [\n",
    "    train_metrics[f\"{rho}/train\"], \n",
    "    train_metrics[f\"{rho}/valid\"], \n",
    "    test_metrics[1].compute().cpu(), \n",
    "]\n",
    "mae_values = [\n",
    "    train_metrics[f\"{mae}/train\"], \n",
    "    train_metrics[f\"{mae}/valid\"], \n",
    "    test_metrics[2].compute().cpu(), \n",
    "]\n",
    "x = [0, 1, 2]\n",
    "\n",
    "ax1.set_title(\"Normalized RMSE (↓)\")\n",
    "b = ax1.bar(x, nrmse_values, label=label, color=color)\n",
    "ax1.bar_label(b, fmt=\"%.2f\")\n",
    "ax1.xaxis.set_visible(False)\n",
    "ax1.yaxis.set_visible(False)\n",
    "\n",
    "ax3.set_title(\"Pearson's r (↑)\")\n",
    "b = ax3.bar(x, r2_values, label=label, color=color)\n",
    "ax3.bar_label(b, fmt=\"%.2f\")\n",
    "ax3.xaxis.set_visible(False)\n",
    "ax3.yaxis.set_visible(False)\n",
    "# ax2.legend()\n",
    "\n",
    "ax2.set_title(\"Mean Absolute Error (↓)\")\n",
    "b = ax2.bar(x, mae_values, label=label, color=color)\n",
    "ax2.bar_label(b, fmt=\"%.3f\")\n",
    "ax2.xaxis.set_visible(False)\n",
    "ax2.yaxis.set_visible(False)\n",
    "# ax2.legend()\n",
    "\n",
    "handles, labels = ax1.get_legend_handles_labels()\n",
    "\n",
    "plt.legend(handles, labels, ncol=3, loc = 'lower center', bbox_to_anchor = (0, -0.1, 1, 1),\n",
    "           bbox_transform = plt.gcf().transFigure)\n",
    "# fig.tight_layout()"
   ]
  },
  {
   "cell_type": "markdown",
   "id": "98715643-3d82-4794-9b2d-0dd51ad6f1b1",
   "metadata": {},
   "source": [
    "Prediction map"
   ]
  },
  {
   "cell_type": "code",
   "execution_count": 67,
   "id": "11458495-ed9b-4491-a3c3-20118a389d4c",
   "metadata": {},
   "outputs": [
    {
     "name": "stdout",
     "output_type": "stream",
     "text": [
      "49442\n"
     ]
    }
   ],
   "source": [
    "ds_infer = ds.sel(time=np.concatenate([valid_years, test_years]))\n",
    "wds_infer = util.datasets.WindowXarrayDataset(\n",
    "    ds_infer, window, \n",
    "    mask=ds_infer.sel(band=\"mortality\"), \n",
    "    na_thresh=0.5,\n",
    "    downsample_step=10\n",
    ")\n",
    "print(len(wds_infer))"
   ]
  },
  {
   "cell_type": "code",
   "execution_count": 71,
   "id": "0085097a-506c-43b0-b9ea-3b475d39488c",
   "metadata": {},
   "outputs": [],
   "source": [
    "ch_means = m.bn.running_mean.unsqueeze(-1).unsqueeze(-1)\n",
    "\n",
    "def inference_collator(patch):\n",
    "    X = torch.tensor(\n",
    "            np.squeeze(patch.values[:-1, input_inds, :, :]),\n",
    "            dtype=dtype\n",
    "        ).unsqueeze(0)\n",
    "\n",
    "    # Replace nan cells with the channel mean\n",
    "    X = torch.nan_to_num(X)\n",
    "    X += ch_means * torch.isnan(X)\n",
    "    return X"
   ]
  },
  {
   "cell_type": "code",
   "execution_count": 74,
   "id": "19dc44d9-3848-43a0-bc4b-33a0e57480d5",
   "metadata": {},
   "outputs": [
    {
     "name": "stderr",
     "output_type": "stream",
     "text": [
      "100%|██████████| 49442/49442 [03:10<00:00, 259.49it/s]\n"
     ]
    }
   ],
   "source": [
    "out_arr = np.zeros(ds_infer.isel(band=0).shape)\n",
    "out_n   = np.zeros(out_arr.shape)\n",
    "\n",
    "m.eval()\n",
    "with torch.no_grad():\n",
    "    for i in tqdm(range(len(wds_infer))):\n",
    "        input_tensor = inference_collator(wds_infer[i])\n",
    "        t = wds_infer.valid_indices[\"time\"][i]\n",
    "        y = wds_infer.valid_indices[\"y\"][i]\n",
    "        x = wds_infer.valid_indices[\"x\"][i]\n",
    "    \n",
    "        output_tensor = m(input_tensor).detach().cpu().numpy()\n",
    "        output_tensor = np.log10(output_tensor)\n",
    "    \n",
    "        out_arr[t, y-15:y+1, x-15:x+1] += output_tensor[0, ...]\n",
    "        out_n[t, y-15:y+1, x-15:x+1] += 1"
   ]
  },
  {
   "cell_type": "code",
   "execution_count": 75,
   "id": "1394a610-5011-4fb3-9672-c6b3c42b111d",
   "metadata": {},
   "outputs": [
    {
     "name": "stderr",
     "output_type": "stream",
     "text": [
      "/tmp/ipykernel_79/2143291068.py:1: RuntimeWarning: invalid value encountered in divide\n",
      "  out_avg = out_arr / out_n\n"
     ]
    }
   ],
   "source": [
    "out_avg = out_arr / out_n\n",
    "out_arr[out_n == 0] = np.nan\n",
    "out_pct = 10 ** out_avg\n",
    "\n",
    "out_da = xr.DataArray(\n",
    "    data=out_pct,\n",
    "    dims=[\"time\", \"y\", \"x\"],\n",
    "    coords=dict(\n",
    "        time=ds_infer.time,\n",
    "        y=ds_infer.y,\n",
    "        x=ds_infer.x\n",
    "    )\n",
    ")"
   ]
  },
  {
   "cell_type": "code",
   "execution_count": 79,
   "id": "3353862f-5f3f-4d0c-ac81-47de38b3af01",
   "metadata": {},
   "outputs": [
    {
     "data": {
      "image/png": "[encoded data removed]",
      "text/plain": [
       "<Figure size 1100x550 with 5 Axes>"
      ]
     },
     "execution_count": 79,
     "metadata": {},
     "output_type": "execute_result"
    }
   ],
   "source": [
    "from matplotlib.gridspec import GridSpec\n",
    "import matplotlib.patheffects as pe\n",
    "import geopandas as gpd\n",
    "from cartopy import crs as ccrs\n",
    "from cartopy import feature as cfeature\n",
    "import shapely\n",
    "from shapely.geometry import box\n",
    "\n",
    "regions = gpd.read_file(\"data_in/regions_simple2.geojson\")\n",
    "\n",
    "fig = plt.Figure(layout=\"constrained\", figsize=(11, 5.5))\n",
    "gs = GridSpec(2, 3, figure=fig, width_ratios=[2, 1, 1])\n",
    "\n",
    "projection = ccrs.AlbersEqualArea(central_latitude=42, central_longitude=-110)\n",
    "map_ax = fig.add_subplot(gs[:, 0], projection=projection)\n",
    "\n",
    "# Make the map\n",
    "map_ax.coastlines(linewidth=0.5)\n",
    "\n",
    "# Expand the bounding box a little so that we don't crop too much\n",
    "mycrs = ccrs.epsg(\"3857\")\n",
    "bbox = box(*regions.total_bounds)\n",
    "bbox = bbox.buffer(5e5) # meters\n",
    "\n",
    "minx, miny, maxx, maxy = shapely.bounds(bbox)\n",
    "\n",
    "# Add region geometries\n",
    "for i in range(regions.shape[0]):\n",
    "    geom = regions.geometry[i]\n",
    "    map_ax.add_geometries(geom, crs=mycrs)\n",
    "    map_ax.text(\n",
    "        geom.centroid.x, geom.centroid.y, regions.name[i], \n",
    "        transform=mycrs,\n",
    "        horizontalalignment=\"center\",\n",
    "        path_effects=[pe.withStroke(linewidth=4, foreground=\"white\")]\n",
    "    )\n",
    "\n",
    "map_ax.add_feature(cfeature.STATES, linestyle=':', edgecolor='black', linewidth=0.5)\n",
    "map_ax.set_extent((minx, maxx, miny, maxy), crs=mycrs)\n",
    "\n",
    "axes = []\n",
    "\n",
    "for i, (row, col) in enumerate(zip((1, 0, 1, 0), (2, 1, 1, 2))):\n",
    "    ax = fig.add_subplot(gs[row, col])\n",
    "    axes.append(ax)\n",
    "    geom = regions.geometry[i]\n",
    "    # Mean of geometric mean - no transformation necessary imo\n",
    "    model = out_da.rio.write_crs(3857).rio.clip([geom]).mean(dim=[\"x\", \"y\"], skipna=True).values * 100\n",
    "    # Maybe do a geometric mean here?\n",
    "    data  = ds_infer.sel(band=\"mort_ewma\").rio.write_crs(3857).rio.clip([geom]).mean(dim=[\"x\", \"y\"], skipna=True).values\n",
    "\n",
    "    ax.plot(ds_infer.time, data, label=\"Actual\", marker=\".\")\n",
    "    ax.plot(ds_infer.time, model, label=\"Model\", marker=\".\")\n",
    "    ax.set_ylim(0, 11)\n",
    "    ax.set_title(regions.name[i])\n",
    "    ax.grid()\n",
    "\n",
    "axes[1].legend()\n",
    "\n",
    "fig"
   ]
  }
 ],
 "metadata": {
  "kernelspec": {
   "display_name": "Python 3 (ipykernel)",
   "language": "python",
   "name": "python3"
  },
  "language_info": {
   "codemirror_mode": {
    "name": "ipython",
    "version": 3
   },
   "file_extension": ".py",
   "mimetype": "text/x-python",
   "name": "python",
   "nbconvert_exporter": "python",
   "pygments_lexer": "ipython3",
   "version": "3.12.8"
  }
 },
 "nbformat": 4,
 "nbformat_minor": 5
}
