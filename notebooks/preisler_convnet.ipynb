{
 "cells": [
  {
   "cell_type": "code",
   "execution_count": 1,
   "id": "821cfc81-26f3-4986-b505-ac71c4c8504e",
   "metadata": {},
   "outputs": [],
   "source": [
    "%%capture\n",
    "!pip install xbatcher tensorboard imbalanced-learn"
   ]
  },
  {
   "cell_type": "code",
   "execution_count": 2,
   "id": "18b87975-11c4-48a4-a241-bbb81d39361b",
   "metadata": {},
   "outputs": [
    {
     "name": "stdout",
     "output_type": "stream",
     "text": [
      "Using device: cpu\n",
      "\n"
     ]
    }
   ],
   "source": [
    "import os\n",
    "if 'notebooks' in os.getcwd():\n",
    "    os.chdir(\"..\")\n",
    "\n",
    "import util\n",
    "import torch\n",
    "import xarray as xr\n",
    "import numpy as np\n",
    "import matplotlib.pyplot as plt\n",
    "from importlib import reload\n",
    "\n",
    "# If we have gpu available, use it\n",
    "device = torch.device('cuda' if torch.cuda.is_available() else 'cpu')\n",
    "print('Using device:', device)\n",
    "print()\n",
    "torch.set_default_device(device)\n",
    "\n",
    "#Additional Info when using cuda\n",
    "if device.type == 'cuda':\n",
    "    print(torch.cuda.get_device_name(0))\n",
    "    print('Memory Usage:')\n",
    "    print('Allocated:', round(torch.cuda.memory_allocated(0)/1024**3,1), 'GB')\n",
    "    print('Cached:   ', round(torch.cuda.memory_reserved(0)/1024**3,1), 'GB')"
   ]
  },
  {
   "cell_type": "markdown",
   "id": "d83cb7ab-19ef-459d-95c6-53756a192414",
   "metadata": {},
   "source": [
    "Prepare data"
   ]
  },
  {
   "cell_type": "code",
   "execution_count": 3,
   "id": "f0991823-1729-4c7b-9809-0495d738fc89",
   "metadata": {
    "scrolled": true
   },
   "outputs": [
    {
     "data": {
      "text/plain": [
       "<module 'util.training' from '/home/jovyan/ForestLST/util/training.py'>"
      ]
     },
     "execution_count": 3,
     "metadata": {},
     "output_type": "execute_result"
    }
   ],
   "source": [
    "reload(util.training)"
   ]
  },
  {
   "cell_type": "code",
   "execution_count": 4,
   "id": "613b3199-a79d-4b82-87a2-45c692ba4827",
   "metadata": {},
   "outputs": [
    {
     "data": {
      "text/html": [
       "<div><svg style=\"position: absolute; width: 0; height: 0; overflow: hidden\">\n",
       "<defs>\n",
       "<symbol id=\"icon-database\" viewBox=\"0 0 32 32\">\n",
       "<path d=\"M16 0c-8.837 0-16 2.239-16 5v4c0 2.761 7.163 5 16 5s16-2.239 16-5v-4c0-2.761-7.163-5-16-5z\"></path>\n",
       "<path d=\"M16 17c-8.837 0-16-2.239-16-5v6c0 2.761 7.163 5 16 5s16-2.239 16-5v-6c0 2.761-7.163 5-16 5z\"></path>\n",
       "<path d=\"M16 26c-8.837 0-16-2.239-16-5v6c0 2.761 7.163 5 16 5s16-2.239 16-5v-6c0 2.761-7.163 5-16 5z\"></path>\n",
       "</symbol>\n",
       "<symbol id=\"icon-file-text2\" viewBox=\"0 0 32 32\">\n",
       "<path d=\"M28.681 7.159c-0.694-0.947-1.662-2.053-2.724-3.116s-2.169-2.030-3.116-2.724c-1.612-1.182-2.393-1.319-2.841-1.319h-15.5c-1.378 0-2.5 1.121-2.5 2.5v27c0 1.378 1.122 2.5 2.5 2.5h23c1.378 0 2.5-1.122 2.5-2.5v-19.5c0-0.448-0.137-1.23-1.319-2.841zM24.543 5.457c0.959 0.959 1.712 1.825 2.268 2.543h-4.811v-4.811c0.718 0.556 1.584 1.309 2.543 2.268zM28 29.5c0 0.271-0.229 0.5-0.5 0.5h-23c-0.271 0-0.5-0.229-0.5-0.5v-27c0-0.271 0.229-0.5 0.5-0.5 0 0 15.499-0 15.5 0v7c0 0.552 0.448 1 1 1h7v19.5z\"></path>\n",
       "<path d=\"M23 26h-14c-0.552 0-1-0.448-1-1s0.448-1 1-1h14c0.552 0 1 0.448 1 1s-0.448 1-1 1z\"></path>\n",
       "<path d=\"M23 22h-14c-0.552 0-1-0.448-1-1s0.448-1 1-1h14c0.552 0 1 0.448 1 1s-0.448 1-1 1z\"></path>\n",
       "<path d=\"M23 18h-14c-0.552 0-1-0.448-1-1s0.448-1 1-1h14c0.552 0 1 0.448 1 1s-0.448 1-1 1z\"></path>\n",
       "</symbol>\n",
       "</defs>\n",
       "</svg>\n",
       "<style>/* CSS stylesheet for displaying xarray objects in jupyterlab.\n",
       " *\n",
       " */\n",
       "\n",
       ":root {\n",
       "  --xr-font-color0: var(--jp-content-font-color0, rgba(0, 0, 0, 1));\n",
       "  --xr-font-color2: var(--jp-content-font-color2, rgba(0, 0, 0, 0.54));\n",
       "  --xr-font-color3: var(--jp-content-font-color3, rgba(0, 0, 0, 0.38));\n",
       "  --xr-border-color: var(--jp-border-color2, #e0e0e0);\n",
       "  --xr-disabled-color: var(--jp-layout-color3, #bdbdbd);\n",
       "  --xr-background-color: var(--jp-layout-color0, white);\n",
       "  --xr-background-color-row-even: var(--jp-layout-color1, white);\n",
       "  --xr-background-color-row-odd: var(--jp-layout-color2, #eeeeee);\n",
       "}\n",
       "\n",
       "html[theme=\"dark\"],\n",
       "html[data-theme=\"dark\"],\n",
       "body[data-theme=\"dark\"],\n",
       "body.vscode-dark {\n",
       "  --xr-font-color0: rgba(255, 255, 255, 1);\n",
       "  --xr-font-color2: rgba(255, 255, 255, 0.54);\n",
       "  --xr-font-color3: rgba(255, 255, 255, 0.38);\n",
       "  --xr-border-color: #1f1f1f;\n",
       "  --xr-disabled-color: #515151;\n",
       "  --xr-background-color: #111111;\n",
       "  --xr-background-color-row-even: #111111;\n",
       "  --xr-background-color-row-odd: #313131;\n",
       "}\n",
       "\n",
       ".xr-wrap {\n",
       "  display: block !important;\n",
       "  min-width: 300px;\n",
       "  max-width: 700px;\n",
       "}\n",
       "\n",
       ".xr-text-repr-fallback {\n",
       "  /* fallback to plain text repr when CSS is not injected (untrusted notebook) */\n",
       "  display: none;\n",
       "}\n",
       "\n",
       ".xr-header {\n",
       "  padding-top: 6px;\n",
       "  padding-bottom: 6px;\n",
       "  margin-bottom: 4px;\n",
       "  border-bottom: solid 1px var(--xr-border-color);\n",
       "}\n",
       "\n",
       ".xr-header > div,\n",
       ".xr-header > ul {\n",
       "  display: inline;\n",
       "  margin-top: 0;\n",
       "  margin-bottom: 0;\n",
       "}\n",
       "\n",
       ".xr-obj-type,\n",
       ".xr-array-name {\n",
       "  margin-left: 2px;\n",
       "  margin-right: 10px;\n",
       "}\n",
       "\n",
       ".xr-obj-type {\n",
       "  color: var(--xr-font-color2);\n",
       "}\n",
       "\n",
       ".xr-sections {\n",
       "  padding-left: 0 !important;\n",
       "  display: grid;\n",
       "  grid-template-columns: 150px auto auto 1fr 0 20px 0 20px;\n",
       "}\n",
       "\n",
       ".xr-section-item {\n",
       "  display: contents;\n",
       "}\n",
       "\n",
       ".xr-section-item input {\n",
       "  display: inline-block;\n",
       "  opacity: 0;\n",
       "  height: 0;\n",
       "}\n",
       "\n",
       ".xr-section-item input + label {\n",
       "  color: var(--xr-disabled-color);\n",
       "}\n",
       "\n",
       ".xr-section-item input:enabled + label {\n",
       "  cursor: pointer;\n",
       "  color: var(--xr-font-color2);\n",
       "}\n",
       "\n",
       ".xr-section-item input:focus + label {\n",
       "  border: 2px solid var(--xr-font-color0);\n",
       "}\n",
       "\n",
       ".xr-section-item input:enabled + label:hover {\n",
       "  color: var(--xr-font-color0);\n",
       "}\n",
       "\n",
       ".xr-section-summary {\n",
       "  grid-column: 1;\n",
       "  color: var(--xr-font-color2);\n",
       "  font-weight: 500;\n",
       "}\n",
       "\n",
       ".xr-section-summary > span {\n",
       "  display: inline-block;\n",
       "  padding-left: 0.5em;\n",
       "}\n",
       "\n",
       ".xr-section-summary-in:disabled + label {\n",
       "  color: var(--xr-font-color2);\n",
       "}\n",
       "\n",
       ".xr-section-summary-in + label:before {\n",
       "  display: inline-block;\n",
       "  content: \"►\";\n",
       "  font-size: 11px;\n",
       "  width: 15px;\n",
       "  text-align: center;\n",
       "}\n",
       "\n",
       ".xr-section-summary-in:disabled + label:before {\n",
       "  color: var(--xr-disabled-color);\n",
       "}\n",
       "\n",
       ".xr-section-summary-in:checked + label:before {\n",
       "  content: \"▼\";\n",
       "}\n",
       "\n",
       ".xr-section-summary-in:checked + label > span {\n",
       "  display: none;\n",
       "}\n",
       "\n",
       ".xr-section-summary,\n",
       ".xr-section-inline-details {\n",
       "  padding-top: 4px;\n",
       "  padding-bottom: 4px;\n",
       "}\n",
       "\n",
       ".xr-section-inline-details {\n",
       "  grid-column: 2 / -1;\n",
       "}\n",
       "\n",
       ".xr-section-details {\n",
       "  display: none;\n",
       "  grid-column: 1 / -1;\n",
       "  margin-bottom: 5px;\n",
       "}\n",
       "\n",
       ".xr-section-summary-in:checked ~ .xr-section-details {\n",
       "  display: contents;\n",
       "}\n",
       "\n",
       ".xr-array-wrap {\n",
       "  grid-column: 1 / -1;\n",
       "  display: grid;\n",
       "  grid-template-columns: 20px auto;\n",
       "}\n",
       "\n",
       ".xr-array-wrap > label {\n",
       "  grid-column: 1;\n",
       "  vertical-align: top;\n",
       "}\n",
       "\n",
       ".xr-preview {\n",
       "  color: var(--xr-font-color3);\n",
       "}\n",
       "\n",
       ".xr-array-preview,\n",
       ".xr-array-data {\n",
       "  padding: 0 5px !important;\n",
       "  grid-column: 2;\n",
       "}\n",
       "\n",
       ".xr-array-data,\n",
       ".xr-array-in:checked ~ .xr-array-preview {\n",
       "  display: none;\n",
       "}\n",
       "\n",
       ".xr-array-in:checked ~ .xr-array-data,\n",
       ".xr-array-preview {\n",
       "  display: inline-block;\n",
       "}\n",
       "\n",
       ".xr-dim-list {\n",
       "  display: inline-block !important;\n",
       "  list-style: none;\n",
       "  padding: 0 !important;\n",
       "  margin: 0;\n",
       "}\n",
       "\n",
       ".xr-dim-list li {\n",
       "  display: inline-block;\n",
       "  padding: 0;\n",
       "  margin: 0;\n",
       "}\n",
       "\n",
       ".xr-dim-list:before {\n",
       "  content: \"(\";\n",
       "}\n",
       "\n",
       ".xr-dim-list:after {\n",
       "  content: \")\";\n",
       "}\n",
       "\n",
       ".xr-dim-list li:not(:last-child):after {\n",
       "  content: \",\";\n",
       "  padding-right: 5px;\n",
       "}\n",
       "\n",
       ".xr-has-index {\n",
       "  font-weight: bold;\n",
       "}\n",
       "\n",
       ".xr-var-list,\n",
       ".xr-var-item {\n",
       "  display: contents;\n",
       "}\n",
       "\n",
       ".xr-var-item > div,\n",
       ".xr-var-item label,\n",
       ".xr-var-item > .xr-var-name span {\n",
       "  background-color: var(--xr-background-color-row-even);\n",
       "  margin-bottom: 0;\n",
       "}\n",
       "\n",
       ".xr-var-item > .xr-var-name:hover span {\n",
       "  padding-right: 5px;\n",
       "}\n",
       "\n",
       ".xr-var-list > li:nth-child(odd) > div,\n",
       ".xr-var-list > li:nth-child(odd) > label,\n",
       ".xr-var-list > li:nth-child(odd) > .xr-var-name span {\n",
       "  background-color: var(--xr-background-color-row-odd);\n",
       "}\n",
       "\n",
       ".xr-var-name {\n",
       "  grid-column: 1;\n",
       "}\n",
       "\n",
       ".xr-var-dims {\n",
       "  grid-column: 2;\n",
       "}\n",
       "\n",
       ".xr-var-dtype {\n",
       "  grid-column: 3;\n",
       "  text-align: right;\n",
       "  color: var(--xr-font-color2);\n",
       "}\n",
       "\n",
       ".xr-var-preview {\n",
       "  grid-column: 4;\n",
       "}\n",
       "\n",
       ".xr-index-preview {\n",
       "  grid-column: 2 / 5;\n",
       "  color: var(--xr-font-color2);\n",
       "}\n",
       "\n",
       ".xr-var-name,\n",
       ".xr-var-dims,\n",
       ".xr-var-dtype,\n",
       ".xr-preview,\n",
       ".xr-attrs dt {\n",
       "  white-space: nowrap;\n",
       "  overflow: hidden;\n",
       "  text-overflow: ellipsis;\n",
       "  padding-right: 10px;\n",
       "}\n",
       "\n",
       ".xr-var-name:hover,\n",
       ".xr-var-dims:hover,\n",
       ".xr-var-dtype:hover,\n",
       ".xr-attrs dt:hover {\n",
       "  overflow: visible;\n",
       "  width: auto;\n",
       "  z-index: 1;\n",
       "}\n",
       "\n",
       ".xr-var-attrs,\n",
       ".xr-var-data,\n",
       ".xr-index-data {\n",
       "  display: none;\n",
       "  background-color: var(--xr-background-color) !important;\n",
       "  padding-bottom: 5px !important;\n",
       "}\n",
       "\n",
       ".xr-var-attrs-in:checked ~ .xr-var-attrs,\n",
       ".xr-var-data-in:checked ~ .xr-var-data,\n",
       ".xr-index-data-in:checked ~ .xr-index-data {\n",
       "  display: block;\n",
       "}\n",
       "\n",
       ".xr-var-data > table {\n",
       "  float: right;\n",
       "}\n",
       "\n",
       ".xr-var-name span,\n",
       ".xr-var-data,\n",
       ".xr-index-name div,\n",
       ".xr-index-data,\n",
       ".xr-attrs {\n",
       "  padding-left: 25px !important;\n",
       "}\n",
       "\n",
       ".xr-attrs,\n",
       ".xr-var-attrs,\n",
       ".xr-var-data,\n",
       ".xr-index-data {\n",
       "  grid-column: 1 / -1;\n",
       "}\n",
       "\n",
       "dl.xr-attrs {\n",
       "  padding: 0;\n",
       "  margin: 0;\n",
       "  display: grid;\n",
       "  grid-template-columns: 125px auto;\n",
       "}\n",
       "\n",
       ".xr-attrs dt,\n",
       ".xr-attrs dd {\n",
       "  padding: 0;\n",
       "  margin: 0;\n",
       "  float: left;\n",
       "  padding-right: 10px;\n",
       "  width: auto;\n",
       "}\n",
       "\n",
       ".xr-attrs dt {\n",
       "  font-weight: normal;\n",
       "  grid-column: 1;\n",
       "}\n",
       "\n",
       ".xr-attrs dt:hover span {\n",
       "  display: inline-block;\n",
       "  background: var(--xr-background-color);\n",
       "  padding-right: 10px;\n",
       "}\n",
       "\n",
       ".xr-attrs dd {\n",
       "  grid-column: 2;\n",
       "  white-space: pre-wrap;\n",
       "  word-break: break-all;\n",
       "}\n",
       "\n",
       ".xr-icon-database,\n",
       ".xr-icon-file-text2,\n",
       ".xr-no-icon {\n",
       "  display: inline-block;\n",
       "  vertical-align: middle;\n",
       "  width: 1em;\n",
       "  height: 1.5em !important;\n",
       "  stroke-width: 0;\n",
       "  stroke: currentColor;\n",
       "  fill: currentColor;\n",
       "}\n",
       "</style><pre class='xr-text-repr-fallback'>&lt;xarray.DataArray &#x27;vod&#x27; (time: 27, band: 11, y: 652, x: 590)&gt; Size: 457MB\n",
       "array([[[[       nan,        nan,        nan, ...,        nan,\n",
       "                 nan,        nan],\n",
       "         [       nan,        nan,        nan, ...,        nan,\n",
       "                 nan,        nan],\n",
       "         [       nan,        nan,        nan, ...,        nan,\n",
       "                 nan,        nan],\n",
       "         ...,\n",
       "         [       nan,        nan,        nan, ...,        nan,\n",
       "                 nan,        nan],\n",
       "         [       nan,        nan,        nan, ...,        nan,\n",
       "                 nan,        nan],\n",
       "         [       nan,        nan,        nan, ...,        nan,\n",
       "                 nan,        nan]],\n",
       "\n",
       "        [[ 2.450e+02,  4.470e+02,  6.650e+02, ...,  6.870e+02,\n",
       "           6.760e+02,  6.570e+02],\n",
       "         [ 2.300e+02,  4.660e+02,  6.720e+02, ...,  6.860e+02,\n",
       "           6.690e+02,  6.550e+02],\n",
       "         [ 3.980e+02,  4.080e+02,  5.540e+02, ...,  6.720e+02,\n",
       "           6.620e+02,  6.500e+02],\n",
       "...\n",
       "         [ 0.000e+00,  0.000e+00,  0.000e+00, ...,  1.000e+00,\n",
       "           1.000e+00,  1.000e+00],\n",
       "         [ 0.000e+00,  0.000e+00,  0.000e+00, ...,  1.000e+00,\n",
       "           1.000e+00,  1.000e+00],\n",
       "         [ 0.000e+00,  0.000e+00,  0.000e+00, ...,  1.000e+00,\n",
       "           1.000e+00,  1.000e+00]],\n",
       "\n",
       "        [[       nan,        nan,        nan, ...,        nan,\n",
       "                 nan,        nan],\n",
       "         [       nan,        nan,        nan, ...,  0.000e+00,\n",
       "           0.000e+00,  0.000e+00],\n",
       "         [       nan,        nan,        nan, ...,  0.000e+00,\n",
       "           0.000e+00,  0.000e+00],\n",
       "         ...,\n",
       "         [       nan,        nan,        nan, ...,  0.000e+00,\n",
       "           0.000e+00,  0.000e+00],\n",
       "         [       nan,        nan,        nan, ...,  0.000e+00,\n",
       "           0.000e+00,  0.000e+00],\n",
       "         [       nan,        nan,        nan, ...,  0.000e+00,\n",
       "           0.000e+00,  0.000e+00]]]], dtype=float32)\n",
       "Coordinates:\n",
       "  * x         (x) float64 5kB -1.389e+07 -1.389e+07 ... -1.154e+07 -1.154e+07\n",
       "  * y         (y) float64 5kB 6.278e+06 6.274e+06 ... 3.678e+06 3.674e+06\n",
       "  * time      (time) int64 216B 1997 1998 1999 2000 2001 ... 2020 2021 2022 2023\n",
       "  * band      (band) object 88B MultiIndex\n",
       "  * variable  (band) &lt;U9 396B &#x27;vod&#x27; &#x27;elev&#x27; &#x27;slope&#x27; ... &#x27;vp&#x27; &#x27;tmin&#x27; &#x27;treecover&#x27;</pre><div class='xr-wrap' style='display:none'><div class='xr-header'><div class='xr-obj-type'>xarray.DataArray</div><div class='xr-array-name'>'vod'</div><ul class='xr-dim-list'><li><span class='xr-has-index'>time</span>: 27</li><li><span class='xr-has-index'>band</span>: 11</li><li><span class='xr-has-index'>y</span>: 652</li><li><span class='xr-has-index'>x</span>: 590</li></ul></div><ul class='xr-sections'><li class='xr-section-item'><div class='xr-array-wrap'><input id='section-78a902f3-0f49-4269-8477-5a747c1688f8' class='xr-array-in' type='checkbox' checked><label for='section-78a902f3-0f49-4269-8477-5a747c1688f8' title='Show/hide data repr'><svg class='icon xr-icon-database'><use xlink:href='#icon-database'></use></svg></label><div class='xr-array-preview xr-preview'><span>nan nan nan nan nan nan nan nan ... 0.0 0.0 0.0 0.0 0.0 0.0 0.0 0.0</span></div><div class='xr-array-data'><pre>array([[[[       nan,        nan,        nan, ...,        nan,\n",
       "                 nan,        nan],\n",
       "         [       nan,        nan,        nan, ...,        nan,\n",
       "                 nan,        nan],\n",
       "         [       nan,        nan,        nan, ...,        nan,\n",
       "                 nan,        nan],\n",
       "         ...,\n",
       "         [       nan,        nan,        nan, ...,        nan,\n",
       "                 nan,        nan],\n",
       "         [       nan,        nan,        nan, ...,        nan,\n",
       "                 nan,        nan],\n",
       "         [       nan,        nan,        nan, ...,        nan,\n",
       "                 nan,        nan]],\n",
       "\n",
       "        [[ 2.450e+02,  4.470e+02,  6.650e+02, ...,  6.870e+02,\n",
       "           6.760e+02,  6.570e+02],\n",
       "         [ 2.300e+02,  4.660e+02,  6.720e+02, ...,  6.860e+02,\n",
       "           6.690e+02,  6.550e+02],\n",
       "         [ 3.980e+02,  4.080e+02,  5.540e+02, ...,  6.720e+02,\n",
       "           6.620e+02,  6.500e+02],\n",
       "...\n",
       "         [ 0.000e+00,  0.000e+00,  0.000e+00, ...,  1.000e+00,\n",
       "           1.000e+00,  1.000e+00],\n",
       "         [ 0.000e+00,  0.000e+00,  0.000e+00, ...,  1.000e+00,\n",
       "           1.000e+00,  1.000e+00],\n",
       "         [ 0.000e+00,  0.000e+00,  0.000e+00, ...,  1.000e+00,\n",
       "           1.000e+00,  1.000e+00]],\n",
       "\n",
       "        [[       nan,        nan,        nan, ...,        nan,\n",
       "                 nan,        nan],\n",
       "         [       nan,        nan,        nan, ...,  0.000e+00,\n",
       "           0.000e+00,  0.000e+00],\n",
       "         [       nan,        nan,        nan, ...,  0.000e+00,\n",
       "           0.000e+00,  0.000e+00],\n",
       "         ...,\n",
       "         [       nan,        nan,        nan, ...,  0.000e+00,\n",
       "           0.000e+00,  0.000e+00],\n",
       "         [       nan,        nan,        nan, ...,  0.000e+00,\n",
       "           0.000e+00,  0.000e+00],\n",
       "         [       nan,        nan,        nan, ...,  0.000e+00,\n",
       "           0.000e+00,  0.000e+00]]]], dtype=float32)</pre></div></div></li><li class='xr-section-item'><input id='section-703c6e62-6eda-4c0b-bb0d-dd1d06a14c07' class='xr-section-summary-in' type='checkbox'  checked><label for='section-703c6e62-6eda-4c0b-bb0d-dd1d06a14c07' class='xr-section-summary' >Coordinates: <span>(5)</span></label><div class='xr-section-inline-details'></div><div class='xr-section-details'><ul class='xr-var-list'><li class='xr-var-item'><div class='xr-var-name'><span class='xr-has-index'>x</span></div><div class='xr-var-dims'>(x)</div><div class='xr-var-dtype'>float64</div><div class='xr-var-preview xr-preview'>-1.389e+07 ... -1.154e+07</div><input id='attrs-d3896837-836c-4f92-92bc-07e4fdfde7bb' class='xr-var-attrs-in' type='checkbox' disabled><label for='attrs-d3896837-836c-4f92-92bc-07e4fdfde7bb' title='Show/Hide attributes'><svg class='icon xr-icon-file-text2'><use xlink:href='#icon-file-text2'></use></svg></label><input id='data-1ff01cf3-e5a4-4093-99b0-aeafcea7482c' class='xr-var-data-in' type='checkbox'><label for='data-1ff01cf3-e5a4-4093-99b0-aeafcea7482c' title='Show/Hide data repr'><svg class='icon xr-icon-database'><use xlink:href='#icon-database'></use></svg></label><div class='xr-var-attrs'><dl class='xr-attrs'></dl></div><div class='xr-var-data'><pre>array([-13894215.609125, -13890215.609125, -13886215.609125, ...,\n",
       "       -11546215.609125, -11542215.609125, -11538215.609125])</pre></div></li><li class='xr-var-item'><div class='xr-var-name'><span class='xr-has-index'>y</span></div><div class='xr-var-dims'>(y)</div><div class='xr-var-dtype'>float64</div><div class='xr-var-preview xr-preview'>6.278e+06 6.274e+06 ... 3.674e+06</div><input id='attrs-adf81e58-8ac0-4c8c-bfe7-289e2b451cad' class='xr-var-attrs-in' type='checkbox' disabled><label for='attrs-adf81e58-8ac0-4c8c-bfe7-289e2b451cad' title='Show/Hide attributes'><svg class='icon xr-icon-file-text2'><use xlink:href='#icon-file-text2'></use></svg></label><input id='data-b3a87f39-2a44-427e-a609-22d91ba725fe' class='xr-var-data-in' type='checkbox'><label for='data-b3a87f39-2a44-427e-a609-22d91ba725fe' title='Show/Hide data repr'><svg class='icon xr-icon-database'><use xlink:href='#icon-database'></use></svg></label><div class='xr-var-attrs'><dl class='xr-attrs'></dl></div><div class='xr-var-data'><pre>array([6278302.418977, 6274302.418977, 6270302.418977, ..., 3682302.418977,\n",
       "       3678302.418977, 3674302.418977])</pre></div></li><li class='xr-var-item'><div class='xr-var-name'><span class='xr-has-index'>time</span></div><div class='xr-var-dims'>(time)</div><div class='xr-var-dtype'>int64</div><div class='xr-var-preview xr-preview'>1997 1998 1999 ... 2021 2022 2023</div><input id='attrs-394d49d7-eb7f-4c7d-8818-3059bb04b90f' class='xr-var-attrs-in' type='checkbox' disabled><label for='attrs-394d49d7-eb7f-4c7d-8818-3059bb04b90f' title='Show/Hide attributes'><svg class='icon xr-icon-file-text2'><use xlink:href='#icon-file-text2'></use></svg></label><input id='data-3ddda9a1-97bb-408c-a571-5cbf8c165fb4' class='xr-var-data-in' type='checkbox'><label for='data-3ddda9a1-97bb-408c-a571-5cbf8c165fb4' title='Show/Hide data repr'><svg class='icon xr-icon-database'><use xlink:href='#icon-database'></use></svg></label><div class='xr-var-attrs'><dl class='xr-attrs'></dl></div><div class='xr-var-data'><pre>array([1997, 1998, 1999, 2000, 2001, 2002, 2003, 2004, 2005, 2006, 2007, 2008,\n",
       "       2009, 2010, 2011, 2012, 2013, 2014, 2015, 2016, 2017, 2018, 2019, 2020,\n",
       "       2021, 2022, 2023])</pre></div></li><li class='xr-var-item'><div class='xr-var-name'><span class='xr-has-index'>band</span></div><div class='xr-var-dims'>(band)</div><div class='xr-var-dtype'>object</div><div class='xr-var-preview xr-preview'>MultiIndex</div><input id='attrs-8b9ee7fa-15d8-4c83-bf0a-36635a1ab3a4' class='xr-var-attrs-in' type='checkbox' disabled><label for='attrs-8b9ee7fa-15d8-4c83-bf0a-36635a1ab3a4' title='Show/Hide attributes'><svg class='icon xr-icon-file-text2'><use xlink:href='#icon-file-text2'></use></svg></label><input id='data-85d958f5-7ecf-4fe5-a470-483405b116fe' class='xr-var-data-in' type='checkbox'><label for='data-85d958f5-7ecf-4fe5-a470-483405b116fe' title='Show/Hide data repr'><svg class='icon xr-icon-database'><use xlink:href='#icon-database'></use></svg></label><div class='xr-var-attrs'><dl class='xr-attrs'></dl></div><div class='xr-var-data'><pre>array([(&#x27;vod&#x27;,), (&#x27;elev&#x27;,), (&#x27;slope&#x27;,), (&#x27;northness&#x27;,), (&#x27;eastness&#x27;,),\n",
       "       (&#x27;fire&#x27;,), (&#x27;mortality&#x27;,), (&#x27;prcp&#x27;,), (&#x27;vp&#x27;,), (&#x27;tmin&#x27;,),\n",
       "       (&#x27;treecover&#x27;,)], dtype=object)</pre></div></li><li class='xr-var-item'><div class='xr-var-name'><span class='xr-has-index'>variable</span></div><div class='xr-var-dims'>(band)</div><div class='xr-var-dtype'>&lt;U9</div><div class='xr-var-preview xr-preview'>&#x27;vod&#x27; &#x27;elev&#x27; ... &#x27;tmin&#x27; &#x27;treecover&#x27;</div><input id='attrs-9adb49fa-bce5-4f55-b38d-8b36ded07b50' class='xr-var-attrs-in' type='checkbox' disabled><label for='attrs-9adb49fa-bce5-4f55-b38d-8b36ded07b50' title='Show/Hide attributes'><svg class='icon xr-icon-file-text2'><use xlink:href='#icon-file-text2'></use></svg></label><input id='data-73e13c8c-67de-4216-91ef-5d3ec32d826d' class='xr-var-data-in' type='checkbox'><label for='data-73e13c8c-67de-4216-91ef-5d3ec32d826d' title='Show/Hide data repr'><svg class='icon xr-icon-database'><use xlink:href='#icon-database'></use></svg></label><div class='xr-var-attrs'><dl class='xr-attrs'></dl></div><div class='xr-var-data'><pre>array([&#x27;vod&#x27;, &#x27;elev&#x27;, &#x27;slope&#x27;, &#x27;northness&#x27;, &#x27;eastness&#x27;, &#x27;fire&#x27;, &#x27;mortality&#x27;,\n",
       "       &#x27;prcp&#x27;, &#x27;vp&#x27;, &#x27;tmin&#x27;, &#x27;treecover&#x27;], dtype=&#x27;&lt;U9&#x27;)</pre></div></li></ul></div></li><li class='xr-section-item'><input id='section-6af70565-db5a-422c-b4b8-e6bb31a1839e' class='xr-section-summary-in' type='checkbox'  ><label for='section-6af70565-db5a-422c-b4b8-e6bb31a1839e' class='xr-section-summary' >Indexes: <span>(4)</span></label><div class='xr-section-inline-details'></div><div class='xr-section-details'><ul class='xr-var-list'><li class='xr-var-item'><div class='xr-index-name'><div>x</div></div><div class='xr-index-preview'>PandasIndex</div><input type='checkbox' disabled/><label></label><input id='index-4ac6d7a1-f304-4ef3-822a-805d8b1f0d1c' class='xr-index-data-in' type='checkbox'/><label for='index-4ac6d7a1-f304-4ef3-822a-805d8b1f0d1c' title='Show/Hide index repr'><svg class='icon xr-icon-database'><use xlink:href='#icon-database'></use></svg></label><div class='xr-index-data'><pre>PandasIndex(Index([-13894215.609124754, -13890215.609124754, -13886215.609124754,\n",
       "       -13882215.609124754, -13878215.609124754, -13874215.609124754,\n",
       "       -13870215.609124754, -13866215.609124754, -13862215.609124754,\n",
       "       -13858215.609124754,\n",
       "       ...\n",
       "       -11574215.609124754, -11570215.609124754, -11566215.609124754,\n",
       "       -11562215.609124754, -11558215.609124754, -11554215.609124754,\n",
       "       -11550215.609124754, -11546215.609124754, -11542215.609124754,\n",
       "       -11538215.609124754],\n",
       "      dtype=&#x27;float64&#x27;, name=&#x27;x&#x27;, length=590))</pre></div></li><li class='xr-var-item'><div class='xr-index-name'><div>y</div></div><div class='xr-index-preview'>PandasIndex</div><input type='checkbox' disabled/><label></label><input id='index-5b1c2635-a6aa-45b3-8fb8-6e02563c2f52' class='xr-index-data-in' type='checkbox'/><label for='index-5b1c2635-a6aa-45b3-8fb8-6e02563c2f52' title='Show/Hide index repr'><svg class='icon xr-icon-database'><use xlink:href='#icon-database'></use></svg></label><div class='xr-index-data'><pre>PandasIndex(Index([6278302.4189768145, 6274302.4189768145, 6270302.4189768145,\n",
       "       6266302.4189768145, 6262302.4189768145, 6258302.4189768145,\n",
       "       6254302.4189768145, 6250302.4189768145, 6246302.4189768145,\n",
       "       6242302.4189768145,\n",
       "       ...\n",
       "       3710302.4189768145, 3706302.4189768145, 3702302.4189768145,\n",
       "       3698302.4189768145, 3694302.4189768145, 3690302.4189768145,\n",
       "       3686302.4189768145, 3682302.4189768145, 3678302.4189768145,\n",
       "       3674302.4189768145],\n",
       "      dtype=&#x27;float64&#x27;, name=&#x27;y&#x27;, length=652))</pre></div></li><li class='xr-var-item'><div class='xr-index-name'><div>time</div></div><div class='xr-index-preview'>PandasIndex</div><input type='checkbox' disabled/><label></label><input id='index-0d897893-30d0-44da-b6db-fcb87a2411c5' class='xr-index-data-in' type='checkbox'/><label for='index-0d897893-30d0-44da-b6db-fcb87a2411c5' title='Show/Hide index repr'><svg class='icon xr-icon-database'><use xlink:href='#icon-database'></use></svg></label><div class='xr-index-data'><pre>PandasIndex(Index([1997, 1998, 1999, 2000, 2001, 2002, 2003, 2004, 2005, 2006, 2007, 2008,\n",
       "       2009, 2010, 2011, 2012, 2013, 2014, 2015, 2016, 2017, 2018, 2019, 2020,\n",
       "       2021, 2022, 2023],\n",
       "      dtype=&#x27;int64&#x27;, name=&#x27;time&#x27;))</pre></div></li><li class='xr-var-item'><div class='xr-index-name'><div>band<br>variable</div></div><div class='xr-index-preview'>PandasMultiIndex</div><input type='checkbox' disabled/><label></label><input id='index-99810a38-07cf-4086-a87a-74675b8330e6' class='xr-index-data-in' type='checkbox'/><label for='index-99810a38-07cf-4086-a87a-74675b8330e6' title='Show/Hide index repr'><svg class='icon xr-icon-database'><use xlink:href='#icon-database'></use></svg></label><div class='xr-index-data'><pre>PandasIndex(MultiIndex([(      &#x27;vod&#x27;,),\n",
       "            (     &#x27;elev&#x27;,),\n",
       "            (    &#x27;slope&#x27;,),\n",
       "            (&#x27;northness&#x27;,),\n",
       "            ( &#x27;eastness&#x27;,),\n",
       "            (     &#x27;fire&#x27;,),\n",
       "            (&#x27;mortality&#x27;,),\n",
       "            (     &#x27;prcp&#x27;,),\n",
       "            (       &#x27;vp&#x27;,),\n",
       "            (     &#x27;tmin&#x27;,),\n",
       "            (&#x27;treecover&#x27;,)],\n",
       "           name=&#x27;band&#x27;))</pre></div></li></ul></div></li><li class='xr-section-item'><input id='section-2bea5866-caea-46c0-ac4b-55b3a08bbbcb' class='xr-section-summary-in' type='checkbox' disabled ><label for='section-2bea5866-caea-46c0-ac4b-55b3a08bbbcb' class='xr-section-summary'  title='Expand/collapse section'>Attributes: <span>(0)</span></label><div class='xr-section-inline-details'></div><div class='xr-section-details'><dl class='xr-attrs'></dl></div></li></ul></div></div>"
      ],
      "text/plain": [
       "<xarray.DataArray 'vod' (time: 27, band: 11, y: 652, x: 590)> Size: 457MB\n",
       "array([[[[       nan,        nan,        nan, ...,        nan,\n",
       "                 nan,        nan],\n",
       "         [       nan,        nan,        nan, ...,        nan,\n",
       "                 nan,        nan],\n",
       "         [       nan,        nan,        nan, ...,        nan,\n",
       "                 nan,        nan],\n",
       "         ...,\n",
       "         [       nan,        nan,        nan, ...,        nan,\n",
       "                 nan,        nan],\n",
       "         [       nan,        nan,        nan, ...,        nan,\n",
       "                 nan,        nan],\n",
       "         [       nan,        nan,        nan, ...,        nan,\n",
       "                 nan,        nan]],\n",
       "\n",
       "        [[ 2.450e+02,  4.470e+02,  6.650e+02, ...,  6.870e+02,\n",
       "           6.760e+02,  6.570e+02],\n",
       "         [ 2.300e+02,  4.660e+02,  6.720e+02, ...,  6.860e+02,\n",
       "           6.690e+02,  6.550e+02],\n",
       "         [ 3.980e+02,  4.080e+02,  5.540e+02, ...,  6.720e+02,\n",
       "           6.620e+02,  6.500e+02],\n",
       "...\n",
       "         [ 0.000e+00,  0.000e+00,  0.000e+00, ...,  1.000e+00,\n",
       "           1.000e+00,  1.000e+00],\n",
       "         [ 0.000e+00,  0.000e+00,  0.000e+00, ...,  1.000e+00,\n",
       "           1.000e+00,  1.000e+00],\n",
       "         [ 0.000e+00,  0.000e+00,  0.000e+00, ...,  1.000e+00,\n",
       "           1.000e+00,  1.000e+00]],\n",
       "\n",
       "        [[       nan,        nan,        nan, ...,        nan,\n",
       "                 nan,        nan],\n",
       "         [       nan,        nan,        nan, ...,  0.000e+00,\n",
       "           0.000e+00,  0.000e+00],\n",
       "         [       nan,        nan,        nan, ...,  0.000e+00,\n",
       "           0.000e+00,  0.000e+00],\n",
       "         ...,\n",
       "         [       nan,        nan,        nan, ...,  0.000e+00,\n",
       "           0.000e+00,  0.000e+00],\n",
       "         [       nan,        nan,        nan, ...,  0.000e+00,\n",
       "           0.000e+00,  0.000e+00],\n",
       "         [       nan,        nan,        nan, ...,  0.000e+00,\n",
       "           0.000e+00,  0.000e+00]]]], dtype=float32)\n",
       "Coordinates:\n",
       "  * x         (x) float64 5kB -1.389e+07 -1.389e+07 ... -1.154e+07 -1.154e+07\n",
       "  * y         (y) float64 5kB 6.278e+06 6.274e+06 ... 3.678e+06 3.674e+06\n",
       "  * time      (time) int64 216B 1997 1998 1999 2000 2001 ... 2020 2021 2022 2023\n",
       "  * band      (band) object 88B MultiIndex\n",
       "  * variable  (band) <U9 396B 'vod' 'elev' 'slope' ... 'vp' 'tmin' 'treecover'"
      ]
     },
     "execution_count": 4,
     "metadata": {},
     "output_type": "execute_result"
    }
   ],
   "source": [
    "ds = xr.open_dataset(\"data_working/westmort.nc\")\\\n",
    "    .squeeze(drop=True)\\\n",
    "    .drop_vars(\"spatial_ref\")\\\n",
    "    .to_stacked_array(\"band\", sample_dims=[\"x\", \"y\", \"time\"])\\\n",
    "    .transpose(\"time\", \"band\", ...)\n",
    "ds"
   ]
  },
  {
   "cell_type": "markdown",
   "id": "c3190c01-0395-4a1e-88a6-f6b614436e4b",
   "metadata": {},
   "source": [
    "Make sure windowing works right"
   ]
  },
  {
   "cell_type": "code",
   "execution_count": 5,
   "id": "ab48c2c6-a17e-4c1b-98ff-cbca87244b59",
   "metadata": {},
   "outputs": [],
   "source": [
    "window = dict(x=[8, False], y=[8, False], time=[5, False])\n",
    "mort_arr = ds.sel(band=\"mortality\", drop=True)\n",
    "mort_ds = util.datasets.WindowXarrayDataset(ds, window, mask=mort_arr)"
   ]
  },
  {
   "cell_type": "code",
   "execution_count": 6,
   "id": "ec734e59-289c-46c6-9cc5-4891501280f4",
   "metadata": {},
   "outputs": [
    {
     "data": {
      "text/plain": [
       "555757"
      ]
     },
     "execution_count": 6,
     "metadata": {},
     "output_type": "execute_result"
    }
   ],
   "source": [
    "len(mort_ds)"
   ]
  },
  {
   "cell_type": "code",
   "execution_count": 7,
   "id": "49147ab1-b348-4c37-91cc-3818c4a4c6b4",
   "metadata": {},
   "outputs": [],
   "source": [
    "eg_window = mort_ds[10]\n",
    "window_x = eg_window.isel(time=slice(None, -1))\n",
    "window_y = eg_window.isel(time=-1).sel(band=\"mortality\")"
   ]
  },
  {
   "cell_type": "markdown",
   "id": "f5f2e685-1244-46aa-a426-8037094812b1",
   "metadata": {},
   "source": [
    "Set up model definition"
   ]
  },
  {
   "cell_type": "code",
   "execution_count": 8,
   "id": "6ab02d11-de1c-49a1-8be8-897dde52c6bd",
   "metadata": {},
   "outputs": [],
   "source": [
    "from util.convlstm import DamageConvLSTM\n",
    "\n",
    "input_vars = [5, 6, 7] # fire, mort, prcp\n",
    "input_channel = len(input_vars)\n",
    "hidden_dim = 16\n",
    "num_layers = 3\n",
    "kernel = (3, 3)\n",
    "\n",
    "m = DamageConvLSTM(input_channel, hidden_dim, kernel, num_layers, batch_first=True) "
   ]
  },
  {
   "cell_type": "markdown",
   "id": "bedc90d3-8c10-4f44-8667-ae0c986b7eae",
   "metadata": {},
   "source": [
    "Verify that the shapes work out."
   ]
  },
  {
   "cell_type": "code",
   "execution_count": 9,
   "id": "ac5fe779-81d6-4136-8d7a-8de5e40fad2f",
   "metadata": {},
   "outputs": [],
   "source": [
    "fake_input = torch.tensor(window_x.isel(band=input_vars).values).unsqueeze(0).to(torch.float32)\n",
    "fake_output = m(fake_input)\n",
    "assert fake_output.shape == window_y.shape"
   ]
  },
  {
   "cell_type": "markdown",
   "id": "c61bf5a8-3ffe-4696-9c28-fe408a45f0ba",
   "metadata": {},
   "source": [
    "Data pipeline"
   ]
  },
  {
   "cell_type": "code",
   "execution_count": 10,
   "id": "f38b7f2c-4762-4a20-869c-e0f1ecde354b",
   "metadata": {},
   "outputs": [
    {
     "name": "stdout",
     "output_type": "stream",
     "text": [
      "Training years: [1997 1998 1999 2000 2001 2007 2008 2009 2010 2011]\n",
      "Validation years: [2002 2003 2004 2005 2006]\n",
      "Testing years: [2012 2013 2014 2015 2016]\n"
     ]
    }
   ],
   "source": [
    "# Prepare data laoders. Since we are using a 5-year lookback here, each dataset\n",
    "# has to be temporally disjoint so we don't leak data. Since 2020 had very few\n",
    "# surveys we have to ignore it.\n",
    "years = ds.time.values\n",
    "train_years = np.concatenate((years[:5], years[10:15]))\n",
    "valid_years = years[5:10]\n",
    "test_years  = years[15:20]\n",
    "\n",
    "print(\"Training years:\", train_years)\n",
    "print(\"Validation years:\", valid_years)\n",
    "print(\"Testing years:\", test_years)"
   ]
  },
  {
   "cell_type": "code",
   "execution_count": 11,
   "id": "58b6e6fe-6051-4949-ada8-6711afc50c31",
   "metadata": {},
   "outputs": [
    {
     "name": "stdout",
     "output_type": "stream",
     "text": [
      "Count of examples\n",
      "Validation: 28019\n",
      "Testing: 34174\n"
     ]
    }
   ],
   "source": [
    "# N.b. we could boost the number of samples by allowing up to 20% NA in each window and then\n",
    "# replacing these values with zero in the dataloader.\n",
    "valid_wds = util.datasets.WindowXarrayDataset(ds.sel(time=valid_years), window, mask=mort_arr.sel(time=valid_years))\n",
    "test_wds  = util.datasets.WindowXarrayDataset(ds.sel(time= test_years), window, mask=mort_arr.sel(time= test_years))\n",
    "\n",
    "print(\"Count of examples\")\n",
    "print(\"Validation:\", len(valid_wds))\n",
    "print(\"Testing:\", len(test_wds))"
   ]
  },
  {
   "cell_type": "code",
   "execution_count": 12,
   "id": "75c0bb40-dc54-4815-a668-d635461a3757",
   "metadata": {},
   "outputs": [],
   "source": [
    "from torch.utils.data import DataLoader\n",
    "\n",
    "target = \"mortality\"\n",
    "target_ind = 6 # in the band coordinate\n",
    "\n",
    "dtype = torch.float32\n",
    "\n",
    "def collator(patch_list):\n",
    "    X = torch.stack([\n",
    "        torch.tensor(\n",
    "            np.squeeze(patch.values[:-1, input_vars, :, :]),\n",
    "            dtype=dtype\n",
    "        )\n",
    "        for patch in patch_list\n",
    "    ])\n",
    "\n",
    "    # Replace nan cells with the channel mean from this batch\n",
    "    ch_mean = torch.nanmean(X, dim=0)\n",
    "    X += ch_mean * torch.isnan(X)\n",
    "    \n",
    "    y = torch.stack([\n",
    "        torch.tensor(patch.values[-1, target_ind, :, :], dtype=dtype)/100\n",
    "        for patch in patch_list\n",
    "    ]).squeeze(dim=2)\n",
    "\n",
    "    return X, y\n",
    "\n",
    "batch_size = 32\n",
    "\n",
    "# Setting the RNG to host device is necessary if we want to run on GPU\n",
    "valid_loader = DataLoader(valid_wds, batch_size, shuffle=True, collate_fn=collator, generator=torch.Generator(device=device))\n",
    "test_loader  = DataLoader(test_wds , batch_size, shuffle=True, collate_fn=collator, generator=torch.Generator(device=device))"
   ]
  },
  {
   "cell_type": "code",
   "execution_count": 13,
   "id": "63224721-43c8-45ba-93a7-6efbaec6885c",
   "metadata": {},
   "outputs": [
    {
     "name": "stdout",
     "output_type": "stream",
     "text": [
      "torch.Size([32, 4, 3, 8, 8])\n",
      "torch.Size([32, 8, 8])\n"
     ]
    }
   ],
   "source": [
    "# Again make sure the sizes work out\n",
    "X, y = tuple(next(iter(valid_loader)))\n",
    "print(X.shape)\n",
    "out = m(X)\n",
    "print(out.shape)\n",
    "assert out.shape == y.shape"
   ]
  },
  {
   "cell_type": "markdown",
   "id": "89714a3f-ea75-4bed-9256-b9fd01fe4ce9",
   "metadata": {},
   "source": [
    "Resampling the training dataset. We want to reduce the proportion of examples with near-zero mortality in the training dataset. But undersampling the majority classes will result in fewer overall samples. Let's calculate the effect."
   ]
  },
  {
   "cell_type": "code",
   "execution_count": 14,
   "id": "3344682d-a896-4089-a03a-72f9c452da6f",
   "metadata": {},
   "outputs": [],
   "source": [
    "thetas = np.arange(0, 1, step=0.1)\n",
    "ns = []\n",
    "\n",
    "train_ds = ds.sel(time=train_years)\n",
    "\n",
    "for th in thetas:\n",
    "    ns.append(\n",
    "        len(util.datasets.ResampleXarrayDataset(\n",
    "            train_ds, window, mask=mort_arr.sel(time=train_years),\n",
    "            theta=th, n_bins=5\n",
    "        ))\n",
    "    )"
   ]
  },
  {
   "cell_type": "code",
   "execution_count": 15,
   "id": "a44b880c-d3b3-4d77-b7cc-4a3a259fe6bb",
   "metadata": {},
   "outputs": [
    {
     "data": {
      "image/png": "[encoded data removed]",
      "text/plain": [
       "<Figure size 640x480 with 1 Axes>"
      ]
     },
     "metadata": {},
     "output_type": "display_data"
    }
   ],
   "source": [
    "plt.plot(thetas, ns)\n",
    "plt.xlabel(\"Theta\")\n",
    "plt.ylabel(\"N examples\")\n",
    "plt.yscale(\"log\")\n",
    "plt.show()"
   ]
  },
  {
   "cell_type": "code",
   "execution_count": 16,
   "id": "c8660444-e0f3-480e-9d96-176c396bf88d",
   "metadata": {},
   "outputs": [],
   "source": [
    "theta_max = 0.5 # somewhat arbitrary"
   ]
  },
  {
   "cell_type": "markdown",
   "id": "509218b6-f145-454a-8d24-7e5abc0a9c69",
   "metadata": {},
   "source": [
    "Training loop. Note this takes like 12 hours to train all the models."
   ]
  },
  {
   "cell_type": "raw",
   "id": "9ab6ef48-38cd-435f-8577-5e7e05eb9e36",
   "metadata": {},
   "source": [
    "import torchmetrics\n",
    "from util.training import ReduceLRTrainer\n",
    "\n",
    "for th in np.linspace(0, theta_max, num=10):\n",
    "    # Dataset and dataloader\n",
    "    rds = util.datasets.ResampleXarrayDataset(\n",
    "        train_ds, window, mask=mort_arr.sel(time=train_years),\n",
    "        theta=th, n_bins=5\n",
    "    )\n",
    "    print(f\"Theta: {th:.2f}\\t N: {len(rds)}\")\n",
    "\n",
    "    train_loader = DataLoader(\n",
    "        valid_wds, batch_size, \n",
    "        shuffle=True, collate_fn=collator, \n",
    "        generator=torch.Generator(device=device)\n",
    "    )\n",
    "\n",
    "    # Model params\n",
    "    input_vars = [5, 6, 7] # fire, mort, prcp\n",
    "    input_channel = len(input_vars)\n",
    "    hidden_dim = 16\n",
    "    num_layers = 3\n",
    "    kernel = (3, 3)\n",
    "    m = DamageConvLSTM(input_channel, hidden_dim, kernel, num_layers, batch_first=True) \n",
    "\n",
    "    # Build trainer\n",
    "    loss = torch.nn.MSELoss()\n",
    "    opt  = torch.optim.Adam(m.parameters(), lr=0.005)\n",
    "    scheduler = torch.optim.lr_scheduler.ReduceLROnPlateau(opt, patience=3, factor=0.2)\n",
    "    metrics = [\n",
    "        torchmetrics.regression.ExplainedVariance(),\n",
    "        torchmetrics.regression.NormalizedRootMeanSquaredError()\n",
    "    ]\n",
    "\n",
    "    model_name = f\"convlstm__8_8_5__mort_fire_ppt__theta{th:.2f}\"\n",
    "\n",
    "    trainer = ReduceLRTrainer(\n",
    "        m, opt, scheduler, loss, train_loader, valid_loader,\n",
    "        metrics=metrics, \n",
    "        n_epochs=30,\n",
    "        tensorboard_log=os.path.join(\"logs\", model_name, \"history\"),\n",
    "        model_log=os.path.join(\"logs\", model_name, \"model.pth\"),\n",
    "        verbose=True\n",
    "    )\n",
    "\n",
    "    trainer.train()"
   ]
  },
  {
   "cell_type": "markdown",
   "id": "f8375ae2-7e29-4055-a8a1-b97bfeaa8ed6",
   "metadata": {},
   "source": [
    "Calculate performance on test set"
   ]
  },
  {
   "cell_type": "code",
   "execution_count": 17,
   "id": "f03f365c-995f-49be-9347-0a5b5f5d8362",
   "metadata": {},
   "outputs": [],
   "source": [
    "import torchmetrics\n",
    "from util.training import ReduceLRTrainer\n",
    "\n",
    "input_vars = [5, 6, 7] # fire, mort, prcp\n",
    "input_channel = len(input_vars)\n",
    "hidden_dim = 16\n",
    "num_layers = 3\n",
    "kernel = (3, 3)\n",
    "\n",
    "def reload_model(path):\n",
    "    m = DamageConvLSTM(input_channel, hidden_dim, kernel, num_layers, batch_first=True)\n",
    "    m.load_state_dict(torch.load(path, weights_only=True))\n",
    "    return m\n",
    "\n",
    "# Test\n",
    "m = reload_model(\"logs/convlstm__8_8_5__mort_fire_ppt__theta0.00/model.pth\")"
   ]
  },
  {
   "cell_type": "code",
   "execution_count": 18,
   "id": "a99cc116-00df-4ae8-acc0-1c647d47a270",
   "metadata": {},
   "outputs": [
    {
     "name": "stdout",
     "output_type": "stream",
     "text": [
      "logs/convlstm__8_8_5__mort_fire_ppt__theta0.00/model.pth\n",
      "logs/convlstm__8_8_5__mort_fire_ppt__theta0.06/model.pth\n",
      "logs/convlstm__8_8_5__mort_fire_ppt__theta0.11/model.pth\n",
      "logs/convlstm__8_8_5__mort_fire_ppt__theta0.17/model.pth\n",
      "logs/convlstm__8_8_5__mort_fire_ppt__theta0.22/model.pth\n",
      "logs/convlstm__8_8_5__mort_fire_ppt__theta0.28/model.pth\n",
      "logs/convlstm__8_8_5__mort_fire_ppt__theta0.33/model.pth\n",
      "logs/convlstm__8_8_5__mort_fire_ppt__theta0.39/model.pth\n",
      "logs/convlstm__8_8_5__mort_fire_ppt__theta0.44/model.pth\n",
      "logs/convlstm__8_8_5__mort_fire_ppt__theta0.50/model.pth\n"
     ]
    }
   ],
   "source": [
    "import glob\n",
    "models_to_eval = glob.glob(\"logs/convlstm*theta*/model.pth\")\n",
    "print(\"\\n\".join(models_to_eval))"
   ]
  },
  {
   "cell_type": "code",
   "execution_count": 19,
   "id": "150f5993-3ce6-485f-ba73-3a653ddb3263",
   "metadata": {},
   "outputs": [
    {
     "name": "stderr",
     "output_type": "stream",
     "text": [
      "                                                   "
     ]
    },
    {
     "name": "stdout",
     "output_type": "stream",
     "text": [
      "logs/convlstm__8_8_5__mort_fire_ppt__theta0.00/model.pth\n",
      "R2: tensor(0.2303)\n",
      "MSE: tensor(0.0132)\n",
      "NRMSE: tensor(3.0390)\n"
     ]
    },
    {
     "name": "stderr",
     "output_type": "stream",
     "text": [
      "                                                   "
     ]
    },
    {
     "name": "stdout",
     "output_type": "stream",
     "text": [
      "logs/convlstm__8_8_5__mort_fire_ppt__theta0.06/model.pth\n",
      "R2: tensor(0.1633)\n",
      "MSE: tensor(0.0144)\n",
      "NRMSE: tensor(3.1653)\n"
     ]
    },
    {
     "name": "stderr",
     "output_type": "stream",
     "text": [
      "                                                   "
     ]
    },
    {
     "name": "stdout",
     "output_type": "stream",
     "text": [
      "logs/convlstm__8_8_5__mort_fire_ppt__theta0.11/model.pth\n",
      "R2: tensor(0.1590)\n",
      "MSE: tensor(0.0144)\n",
      "NRMSE: tensor(3.1728)\n"
     ]
    },
    {
     "name": "stderr",
     "output_type": "stream",
     "text": [
      "                                                   "
     ]
    },
    {
     "name": "stdout",
     "output_type": "stream",
     "text": [
      "logs/convlstm__8_8_5__mort_fire_ppt__theta0.17/model.pth\n",
      "R2: tensor(0.1642)\n",
      "MSE: tensor(0.0144)\n",
      "NRMSE: tensor(3.1670)\n"
     ]
    },
    {
     "name": "stderr",
     "output_type": "stream",
     "text": [
      "                                                   "
     ]
    },
    {
     "name": "stdout",
     "output_type": "stream",
     "text": [
      "logs/convlstm__8_8_5__mort_fire_ppt__theta0.22/model.pth\n",
      "R2: tensor(0.1963)\n",
      "MSE: tensor(0.0139)\n",
      "NRMSE: tensor(3.1102)\n"
     ]
    },
    {
     "name": "stderr",
     "output_type": "stream",
     "text": [
      "                                                   "
     ]
    },
    {
     "name": "stdout",
     "output_type": "stream",
     "text": [
      "logs/convlstm__8_8_5__mort_fire_ppt__theta0.28/model.pth\n",
      "R2: tensor(0.1829)\n",
      "MSE: tensor(0.0141)\n",
      "NRMSE: tensor(3.1353)\n"
     ]
    },
    {
     "name": "stderr",
     "output_type": "stream",
     "text": [
      "                                                   "
     ]
    },
    {
     "name": "stdout",
     "output_type": "stream",
     "text": [
      "logs/convlstm__8_8_5__mort_fire_ppt__theta0.33/model.pth\n",
      "R2: tensor(0.1977)\n",
      "MSE: tensor(0.0138)\n",
      "NRMSE: tensor(3.1004)\n"
     ]
    },
    {
     "name": "stderr",
     "output_type": "stream",
     "text": [
      "                                                   "
     ]
    },
    {
     "name": "stdout",
     "output_type": "stream",
     "text": [
      "logs/convlstm__8_8_5__mort_fire_ppt__theta0.39/model.pth\n",
      "R2: tensor(0.1907)\n",
      "MSE: tensor(0.0139)\n",
      "NRMSE: tensor(3.1174)\n"
     ]
    },
    {
     "name": "stderr",
     "output_type": "stream",
     "text": [
      "                                                   "
     ]
    },
    {
     "name": "stdout",
     "output_type": "stream",
     "text": [
      "logs/convlstm__8_8_5__mort_fire_ppt__theta0.44/model.pth\n",
      "R2: tensor(0.1996)\n",
      "MSE: tensor(0.0138)\n",
      "NRMSE: tensor(3.1077)\n"
     ]
    },
    {
     "name": "stderr",
     "output_type": "stream",
     "text": [
      "                                                   "
     ]
    },
    {
     "name": "stdout",
     "output_type": "stream",
     "text": [
      "logs/convlstm__8_8_5__mort_fire_ppt__theta0.50/model.pth\n",
      "R2: tensor(0.1555)\n",
      "MSE: tensor(0.0146)\n",
      "NRMSE: tensor(3.1958)\n"
     ]
    },
    {
     "name": "stderr",
     "output_type": "stream",
     "text": []
    }
   ],
   "source": [
    "from tqdm import tqdm\n",
    "import pandas as pd\n",
    "\n",
    "metrics = []\n",
    "\n",
    "for model in models_to_eval:\n",
    "    m = reload_model(model)\n",
    "\n",
    "    r2  = torchmetrics.regression.ExplainedVariance()\n",
    "    nrmse = torchmetrics.regression.NormalizedRootMeanSquaredError()\n",
    "    mse = torchmetrics.regression.MeanSquaredError()\n",
    "    \n",
    "    m.eval()\n",
    "    with torch.no_grad():\n",
    "        for (X, y) in tqdm(test_loader, leave=False):\n",
    "            y_hat = m(X)\n",
    "            r2(y_hat, y)\n",
    "            mse(y_hat, y)\n",
    "            nrmse(y_hat, y)\n",
    "\n",
    "    r2_val = r2.compute()\n",
    "    mse_val = mse.compute()\n",
    "    nrmse_val = nrmse.compute()\n",
    "    \n",
    "    print(model)\n",
    "    print(\"R2:\", r2_val)\n",
    "    print(\"MSE:\", mse_val)\n",
    "    print(\"NRMSE:\", nrmse_val)\n",
    "\n",
    "    metrics.append(\n",
    "        [model,\n",
    "         nrmse_val,\n",
    "         r2_val,\n",
    "         mse_val]\n",
    "    )\n",
    "    "
   ]
  },
  {
   "cell_type": "markdown",
   "id": "52e1eb33-dae5-401b-8e0a-2aeeb6da3ca7",
   "metadata": {},
   "source": [
    "Learning curves"
   ]
  },
  {
   "cell_type": "code",
   "execution_count": 20,
   "id": "5d1d20ea-201e-4fbf-b96b-13fe490e2aa1",
   "metadata": {},
   "outputs": [
    {
     "data": {
      "image/png": "[encoded data removed]",
      "text/plain": [
       "<Figure size 800x1100 with 10 Axes>"
      ]
     },
     "metadata": {},
     "output_type": "display_data"
    }
   ],
   "source": [
    "fig, axes = plt.subplots(5, 2, sharex=True, sharey=True, figsize=(8, 11))\n",
    "\n",
    "for (ax, model) in zip(axes.flatten(), models_to_eval):\n",
    "    theta_idx = model.find(\"theta\")+5\n",
    "    theta_val = model[theta_idx:theta_idx+4]\n",
    "    \n",
    "    model_stats = util.training.parse_tensorboard(\n",
    "        model.replace(\"model.pth\", \"history/\"),\n",
    "        [\"Loss/train\", \"Loss/valid\"]\n",
    "    )\n",
    "    \n",
    "    train_loss = model_stats[\"Loss/train\"][\"value\"]\n",
    "    valid_loss = model_stats[\"Loss/valid\"][\"value\"]\n",
    "    epochs = np.arange(1, train_loss.shape[0]+1, step=1)\n",
    "    \n",
    "    ax.plot(epochs, train_loss, label=\"Training\", linestyle='--', marker='o')\n",
    "    ax.plot(epochs, valid_loss, label=\"Validation\", linestyle='--', marker='o')\n",
    "    ax.set_title(\"theta = \" + theta_val)\n",
    "\n",
    "handles, labels = ax.get_legend_handles_labels()\n",
    "fig.legend(handles, labels, loc='lower left')\n",
    "\n",
    "fig.supxlabel(\"Epoch\")\n",
    "fig.supylabel(\"Mean squared error\")\n",
    "plt.show()"
   ]
  },
  {
   "cell_type": "markdown",
   "id": "7ea7e333-93ac-4d4c-8252-fa83bc32be88",
   "metadata": {},
   "source": [
    "Final performance for MSE, NRMSE, and R2 across all thetas."
   ]
  },
  {
   "cell_type": "code",
   "execution_count": 21,
   "id": "8e18ca5b-6075-4660-ba7c-ce0a7583db18",
   "metadata": {},
   "outputs": [],
   "source": [
    "metrics_df = pd.DataFrame(metrics, columns=[\"Model\", \"test_nrmse\", \"test_r2\", \"test_mse\"])\n",
    "\n",
    "train_nrmse = []\n",
    "valid_nrmse = []\n",
    "train_r2 = []\n",
    "valid_r2 = []\n",
    "train_loss = []\n",
    "valid_loss = []\n",
    "\n",
    "\n",
    "for model in models_to_eval:\n",
    "    stats = util.training.parse_tensorboard(\n",
    "        model.replace(\"model.pth\", \"history/\"),\n",
    "        [\n",
    "             \"NormalizedRootMeanSquaredError()/train\", \"NormalizedRootMeanSquaredError()/valid\",\n",
    "             \"ExplainedVariance()/train\", \"ExplainedVariance()/valid\",\n",
    "             \"Loss/train\", \"Loss/valid\"\n",
    "        ]\n",
    "    )\n",
    "\n",
    "    train_nrmse.append(stats[\"NormalizedRootMeanSquaredError()/train\"][\"value\"].iloc[-1])\n",
    "    valid_nrmse.append(stats[\"NormalizedRootMeanSquaredError()/valid\"][\"value\"].iloc[-1])\n",
    "    train_r2.append(stats[\"ExplainedVariance()/train\"][\"value\"].iloc[-1])\n",
    "    valid_r2.append(stats[\"ExplainedVariance()/valid\"][\"value\"].iloc[-1])\n",
    "    train_loss.append(stats[\"Loss/train\"][\"value\"].iloc[-1])\n",
    "    valid_loss.append(stats[\"Loss/train\"][\"value\"].iloc[-1])\n",
    "\n",
    "metrics_df[\"train_nrmse\"] = train_nrmse\n",
    "metrics_df[\"valid_nrmse\"] = valid_nrmse\n",
    "metrics_df[\"train_r2\"] = train_r2\n",
    "metrics_df[\"valid_r2\"] = valid_r2\n",
    "metrics_df[\"train_loss\"] = train_loss\n",
    "metrics_df[\"valid_loss\"] = valid_loss"
   ]
  },
  {
   "cell_type": "code",
   "execution_count": 25,
   "id": "ce42df4f-72b8-40a8-ad16-85b6eaa263c8",
   "metadata": {},
   "outputs": [],
   "source": [
    "def extract_theta(name):\n",
    "    theta_idx = name.find(\"theta\")+5\n",
    "    theta_val = float(name[theta_idx:theta_idx+4])\n",
    "    return theta_val\n",
    "\n",
    "metrics_df[\"theta\"] = metrics_df[\"Model\"].map(extract_theta)"
   ]
  },
  {
   "cell_type": "code",
   "execution_count": 32,
   "id": "ac0416ef-f9d8-4173-918c-a39e7f2d608f",
   "metadata": {},
   "outputs": [
    {
     "data": {
      "image/png": "[encoded data removed]",
      "text/plain": [
       "<Figure size 500x500 with 3 Axes>"
      ]
     },
     "metadata": {},
     "output_type": "display_data"
    }
   ],
   "source": [
    "fig, (ax1, ax2, ax3) = plt.subplots(3, 1, sharex=True, sharey=False, figsize=(5, 5))\n",
    "\n",
    "style = dict(linestyle='--', marker='o')\n",
    "\n",
    "ax1.plot(metrics_df[\"theta\"], metrics_df[\"train_loss\"], label=\"Train\", **style)\n",
    "ax1.plot(metrics_df[\"theta\"], metrics_df[\"valid_loss\"], label=\"Valid\", **style)\n",
    "ax1.plot(metrics_df[\"theta\"], metrics_df[\"test_mse\"], label=\"Test\", **style)\n",
    "ax1.set_title(\"Loss\")\n",
    "\n",
    "ax2.plot(metrics_df[\"theta\"], metrics_df[\"train_r2\"], label=\"Train\", **style)\n",
    "ax2.plot(metrics_df[\"theta\"], metrics_df[\"valid_r2\"], label=\"Valid\", **style)\n",
    "ax2.plot(metrics_df[\"theta\"], metrics_df[\"test_r2\"], label=\"Test\", **style)\n",
    "ax2.set_title(\"R2 Score\")\n",
    "\n",
    "ax3.plot(metrics_df[\"theta\"], metrics_df[\"train_nrmse\"], label=\"Train\", **style)\n",
    "ax3.plot(metrics_df[\"theta\"], metrics_df[\"valid_nrmse\"], label=\"Valid\", **style)\n",
    "ax3.plot(metrics_df[\"theta\"], metrics_df[\"test_nrmse\"], label=\"Test\", **style)\n",
    "ax3.set_title(\"NRMSE\")\n",
    "\n",
    "\n",
    "handles, labels = ax3.get_legend_handles_labels()\n",
    "fig.legend(handles, labels, loc='lower left')\n",
    "\n",
    "fig.supxlabel(\"Theta\")\n",
    "\n",
    "fig.tight_layout()\n",
    "\n",
    "plt.show()"
   ]
  }
 ],
 "metadata": {
  "kernelspec": {
   "display_name": "Python 3 (ipykernel)",
   "language": "python",
   "name": "python3"
  },
  "language_info": {
   "codemirror_mode": {
    "name": "ipython",
    "version": 3
   },
   "file_extension": ".py",
   "mimetype": "text/x-python",
   "name": "python",
   "nbconvert_exporter": "python",
   "pygments_lexer": "ipython3",
   "version": "3.12.8"
  }
 },
 "nbformat": 4,
 "nbformat_minor": 5
}
